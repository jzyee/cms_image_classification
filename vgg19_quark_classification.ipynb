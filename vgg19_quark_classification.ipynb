{
  "nbformat": 4,
  "nbformat_minor": 0,
  "metadata": {
    "colab": {
      "name": "vgg19_quark_classification.ipynb",
      "provenance": [],
      "collapsed_sections": [],
      "toc_visible": true
    },
    "kernelspec": {
      "name": "python3",
      "display_name": "Python 3"
    },
    "accelerator": "GPU"
  },
  "cells": [
    {
      "cell_type": "markdown",
      "metadata": {
        "id": "PI5RDzjpY4fy",
        "colab_type": "text"
      },
      "source": [
        "#notebook setup"
      ]
    },
    {
      "cell_type": "code",
      "metadata": {
        "id": "nNc8dLtXlcuJ",
        "colab_type": "code",
        "outputId": "22b80ae1-6b0c-496a-9356-0eac4e7247a3",
        "colab": {
          "base_uri": "https://localhost:8080/",
          "height": 199
        }
      },
      "source": [
        "!pip install google-auth --upgrade\n",
        "!pip install grpcio --upgrade"
      ],
      "execution_count": 1,
      "outputs": [
        {
          "output_type": "stream",
          "text": [
            "Requirement already up-to-date: google-auth in /usr/local/lib/python3.6/dist-packages (1.10.0)\n",
            "Requirement already satisfied, skipping upgrade: pyasn1-modules>=0.2.1 in /usr/local/lib/python3.6/dist-packages (from google-auth) (0.2.7)\n",
            "Requirement already satisfied, skipping upgrade: cachetools<5.0,>=2.0.0 in /usr/local/lib/python3.6/dist-packages (from google-auth) (4.0.0)\n",
            "Requirement already satisfied, skipping upgrade: six>=1.9.0 in /usr/local/lib/python3.6/dist-packages (from google-auth) (1.12.0)\n",
            "Requirement already satisfied, skipping upgrade: setuptools>=40.3.0 in /usr/local/lib/python3.6/dist-packages (from google-auth) (42.0.2)\n",
            "Requirement already satisfied, skipping upgrade: rsa<4.1,>=3.1.4 in /usr/local/lib/python3.6/dist-packages (from google-auth) (4.0)\n",
            "Requirement already satisfied, skipping upgrade: pyasn1<0.5.0,>=0.4.6 in /usr/local/lib/python3.6/dist-packages (from pyasn1-modules>=0.2.1->google-auth) (0.4.8)\n",
            "Requirement already up-to-date: grpcio in /usr/local/lib/python3.6/dist-packages (1.26.0)\n",
            "Requirement already satisfied, skipping upgrade: six>=1.5.2 in /usr/local/lib/python3.6/dist-packages (from grpcio) (1.12.0)\n"
          ],
          "name": "stdout"
        }
      ]
    },
    {
      "cell_type": "code",
      "metadata": {
        "id": "CH7ZObaXX2it",
        "colab_type": "code",
        "outputId": "8f5adc5e-f6ac-4c3a-c498-cb4e68689044",
        "colab": {
          "base_uri": "https://localhost:8080/",
          "height": 71
        }
      },
      "source": [
        "!pip install -qq tf-nightly-gpu-2.0-preview"
      ],
      "execution_count": 2,
      "outputs": [
        {
          "output_type": "stream",
          "text": [
            "\u001b[K     |████████████████████████████████| 395.5MB 41kB/s \n",
            "\u001b[K     |████████████████████████████████| 3.8MB 44.3MB/s \n",
            "\u001b[K     |████████████████████████████████| 450kB 38.3MB/s \n",
            "\u001b[?25h"
          ],
          "name": "stdout"
        }
      ]
    },
    {
      "cell_type": "code",
      "metadata": {
        "id": "FIXnBwudYLjl",
        "colab_type": "code",
        "outputId": "aa2a91fa-d5e6-406b-d5bb-042be3b2b904",
        "colab": {
          "base_uri": "https://localhost:8080/",
          "height": 53
        }
      },
      "source": [
        "import tensorflow as tf\n",
        "print(tf.__version__)\n",
        "device_name = tf.test.gpu_device_name()\n",
        "if device_name != '/device:GPU:0':\n",
        "  raise SystemError('GPU device not found')\n",
        "print('Found GPU at: {}'.format(device_name))"
      ],
      "execution_count": 3,
      "outputs": [
        {
          "output_type": "stream",
          "text": [
            "2.0.0-dev20191002\n",
            "Found GPU at: /device:GPU:0\n"
          ],
          "name": "stdout"
        }
      ]
    },
    {
      "cell_type": "code",
      "metadata": {
        "id": "ixmPfjVmYYQ-",
        "colab_type": "code",
        "colab": {}
      },
      "source": [
        "import sys\n",
        "try:\n",
        "    import ujson as json\n",
        "except ImportError:\n",
        "    try:\n",
        "        import simplejson as json\n",
        "    except ImportError:\n",
        "        import json\n",
        "\n",
        "import numpy as np\n",
        "import matplotlib.pyplot as plt\n",
        "import pandas as pd\n",
        "import scipy\n",
        "from sklearn.preprocessing import MinMaxScaler\n",
        "import pywt\n",
        "import os\n",
        "from PIL import Image\n",
        "# import tensorflow as tf\n",
        "from glob import glob\n",
        "\n",
        "from tensorflow.keras.preprocessing import image\n",
        "from tensorflow.keras.preprocessing.image import ImageDataGenerator\n",
        "\n",
        "from tensorflow.keras.models import Model,load_model,Sequential\n",
        "\n",
        "from tensorflow.keras.layers import Dense, GlobalAveragePooling2D, Dropout,Flatten, Input\n",
        "from tensorflow.keras import backend as K\n",
        "from tensorflow.keras.callbacks import EarlyStopping\n",
        "from tensorflow.keras.callbacks import ModelCheckpoint\n",
        "import pickle"
      ],
      "execution_count": 0,
      "outputs": []
    },
    {
      "cell_type": "code",
      "metadata": {
        "id": "8u0wv_jGZF-L",
        "colab_type": "code",
        "outputId": "6d31df0d-b8ed-47e0-f603-55f82efbc160",
        "colab": {
          "base_uri": "https://localhost:8080/",
          "height": 35
        }
      },
      "source": [
        "from google.colab import drive\n",
        "drive.mount('/content/drive')"
      ],
      "execution_count": 16,
      "outputs": [
        {
          "output_type": "stream",
          "text": [
            "Drive already mounted at /content/drive; to attempt to forcibly remount, call drive.mount(\"/content/drive\", force_remount=True).\n"
          ],
          "name": "stdout"
        }
      ]
    },
    {
      "cell_type": "code",
      "metadata": {
        "id": "nngHwbgEhZOr",
        "colab_type": "code",
        "colab": {}
      },
      "source": [
        "\n",
        "def plot_hist(input_history, filename):\n",
        "  import os\n",
        "\n",
        "  folder = ['acc', 'loss']\n",
        "\n",
        "  directory = cwd + '/model_performance/'\n",
        "\n",
        "  for f in folder:\n",
        "    if not os.path.exists(directory + f):\n",
        "      os.makedirs(directory + f)\n",
        "\n",
        "  # summarize history for accuracy\n",
        "  # fig, ax = plt.subplots(1,2)\n",
        "  # plt.subplots_adjust(right=2)\n",
        "\n",
        "  plt.plot(input_history.history['accuracy'])\n",
        "  plt.plot(input_history.history['val_accuracy'])\n",
        "  plt.title('model accuracy')\n",
        "  plt.ylabel('accuracy')\n",
        "  plt.xlabel('epoch')\n",
        "  plt.legend(['train', 'test'], loc='upper left')\n",
        "\n",
        "  plt.savefig(cwd+'/model_performance/acc/' + filename + '.jpg')\n",
        "  plt.show()\n",
        "  \n",
        "  # summarize history for loss\n",
        "  plt.plot(input_history.history['loss'])\n",
        "  plt.plot(input_history.history['val_loss'])\n",
        "  plt.title('model loss')\n",
        "  plt.ylabel('loss')\n",
        "  plt.xlabel('epoch')\n",
        "  plt.legend(['train', 'test'], loc='upper left')\n",
        "\n",
        "  \n",
        "  plt.savefig(cwd+'/model_performance/loss/' + filename + '.jpg')"
      ],
      "execution_count": 0,
      "outputs": []
    },
    {
      "cell_type": "markdown",
      "metadata": {
        "id": "h6Pb6W4AZa0d",
        "colab_type": "text"
      },
      "source": [
        "# Data prep"
      ]
    },
    {
      "cell_type": "code",
      "metadata": {
        "id": "ZRZpm9JxZKEN",
        "colab_type": "code",
        "outputId": "93ea757d-c6a7-4401-c21a-e8bf322c5051",
        "colab": {
          "base_uri": "https://localhost:8080/",
          "height": 53
        }
      },
      "source": [
        "%cd drive/'My Drive/CMS'\n",
        "!pwd"
      ],
      "execution_count": 19,
      "outputs": [
        {
          "output_type": "stream",
          "text": [
            "/content/drive/My Drive/CMS\n",
            "/content/drive/My Drive/CMS\n"
          ],
          "name": "stdout"
        }
      ]
    },
    {
      "cell_type": "code",
      "metadata": {
        "id": "j1MEckdzZ_-1",
        "colab_type": "code",
        "outputId": "06a59f6f-1f78-421c-be50-594a5dd0117f",
        "colab": {
          "base_uri": "https://localhost:8080/",
          "height": 35
        }
      },
      "source": [
        "img_folder = '/filtered_images'\n",
        "!ls 'filtered_images'"
      ],
      "execution_count": 20,
      "outputs": [
        {
          "output_type": "stream",
          "text": [
            "0  1  2\n"
          ],
          "name": "stdout"
        }
      ]
    },
    {
      "cell_type": "markdown",
      "metadata": {
        "id": "fSJJ8GzogU_i",
        "colab_type": "text"
      },
      "source": [
        "class 0 : DYjets\n",
        "class 1 : TTjets\n",
        "class 2 : Wjets"
      ]
    },
    {
      "cell_type": "markdown",
      "metadata": {
        "id": "WK3uFq83Nqp7",
        "colab_type": "text"
      },
      "source": [
        "## Train val size setting"
      ]
    },
    {
      "cell_type": "code",
      "metadata": {
        "id": "hd5rd7_ZcoSR",
        "colab_type": "code",
        "outputId": "2b135fbd-6105-42be-a389-36a23f2a723a",
        "colab": {
          "base_uri": "https://localhost:8080/",
          "height": 197
        }
      },
      "source": [
        "cwd = os.getcwd()\n",
        "img_path = cwd + img_folder\n",
        "\n",
        "train_val_size = 1200\n",
        "\n",
        "df = {}\n",
        "data = []\n",
        "for idx, x in enumerate(os.listdir(img_path)):\n",
        "  if x.isdigit() and idx < 3:\n",
        "    for idx2, pic in enumerate(os.listdir(img_path+'/'+str(x))):\n",
        "      if idx2 < train_val_size:\n",
        "        data.append((img_path+ '/' + x + '/' + pic , x))\n",
        "\n",
        "df = pd.DataFrame(data, columns=['filename', 'class'])\n",
        "df['class'] = df['class'].astype(int)\n",
        "#shuffle\n",
        "df = df.sample(frac=1).reset_index(drop=True)\n",
        "\n",
        "print(df.head())\n",
        "print(len(df))\n",
        "df.dtypes"
      ],
      "execution_count": 21,
      "outputs": [
        {
          "output_type": "stream",
          "text": [
            "                                            filename  class\n",
            "0  /content/drive/My Drive/CMS/filtered_images/2/...      2\n",
            "1  /content/drive/My Drive/CMS/filtered_images/1/...      1\n",
            "2  /content/drive/My Drive/CMS/filtered_images/1/...      1\n",
            "3  /content/drive/My Drive/CMS/filtered_images/0/...      0\n",
            "4  /content/drive/My Drive/CMS/filtered_images/2/...      2\n",
            "3600\n"
          ],
          "name": "stdout"
        },
        {
          "output_type": "execute_result",
          "data": {
            "text/plain": [
              "filename    object\n",
              "class        int64\n",
              "dtype: object"
            ]
          },
          "metadata": {
            "tags": []
          },
          "execution_count": 21
        }
      ]
    },
    {
      "cell_type": "code",
      "metadata": {
        "id": "IF67c9pOdMix",
        "colab_type": "code",
        "outputId": "b73a03a7-9fb0-4742-f216-7358e363c83f",
        "colab": {
          "base_uri": "https://localhost:8080/",
          "height": 35
        }
      },
      "source": [
        "from collections import Counter\n",
        "cnt = Counter(df['class'])\n",
        "cnt"
      ],
      "execution_count": 22,
      "outputs": [
        {
          "output_type": "execute_result",
          "data": {
            "text/plain": [
              "Counter({0: 1200, 1: 1200, 2: 1200})"
            ]
          },
          "metadata": {
            "tags": []
          },
          "execution_count": 22
        }
      ]
    },
    {
      "cell_type": "code",
      "metadata": {
        "id": "rV8WCnbQhKx4",
        "colab_type": "code",
        "outputId": "1981fe29-a15d-46bf-a6ef-3962c0f5ed0d",
        "colab": {
          "base_uri": "https://localhost:8080/",
          "height": 71
        }
      },
      "source": [
        "# Split into train and validation sets\n",
        "train_percentage = .8\n",
        "val_percentage = 0.1\n",
        "test_percentage = 0.1\n",
        "\n",
        "train_length = int(len(df) * train_percentage)\n",
        "df_train = df[:train_length]\n",
        "\n",
        "val_length = int(len(df) * val_percentage)\n",
        "df_val = df[train_length : train_length+val_length]\n",
        "\n",
        "test_length = int(len(df) * test_percentage)\n",
        "df_test = df[ train_length + val_length : ]\n",
        "\n",
        "# shuffle \n",
        "df_train = df_train.sample(frac=1).reset_index(drop=True)\n",
        "df_val = df_val.sample(frac=1).reset_index(drop=True)\n",
        "df_test = df_test.sample(frac=1).reset_index(drop=True)\n",
        "\n",
        "df_list = [df_train, df_val, df_test]\n",
        "for df_part in df_list:\n",
        "  print(len(df_part))"
      ],
      "execution_count": 23,
      "outputs": [
        {
          "output_type": "stream",
          "text": [
            "2880\n",
            "360\n",
            "360\n"
          ],
          "name": "stdout"
        }
      ]
    },
    {
      "cell_type": "markdown",
      "metadata": {
        "id": "65hltRStDyg2",
        "colab_type": "text"
      },
      "source": [
        "#### image parsing"
      ]
    },
    {
      "cell_type": "code",
      "metadata": {
        "id": "93QOO1_2h5_A",
        "colab_type": "code",
        "colab": {}
      },
      "source": [
        "# Reads an image from a file, decodes it into a tensor, and resizes it\n",
        "# to a fixed shape.\n",
        "img_rows, img_cols = 200,200\n",
        "num_classes = len(set(df['class']))\n",
        "batch_size = 120\n",
        "\n",
        "def _parse_function(filename, label):\n",
        "  image_string = tf.io.read_file(filename)\n",
        "  image_decoded = tf.image.decode_jpeg(image_string)\n",
        "  image_resized = tf.image.resize(image_decoded, [img_rows, img_cols])\n",
        "  image_resized = tf.ensure_shape(image_resized ,shape=(img_rows, img_cols,3))\n",
        "  label = tf.one_hot(label, num_classes)\n",
        "  return image_resized, label"
      ],
      "execution_count": 0,
      "outputs": []
    },
    {
      "cell_type": "code",
      "metadata": {
        "id": "b9GwWMh5iZtg",
        "colab_type": "code",
        "colab": {}
      },
      "source": [
        "train_dataset = tf.data.Dataset.from_tensor_slices((tf.cast(df_train['filename'].values, tf.string),\n",
        "                                                    tf.cast(df_train['class'].values, tf.int32) ))\n",
        "train_dataset = train_dataset.map(_parse_function)\n",
        "train_dataset = train_dataset.shuffle(5000)\n",
        "train_dataset = train_dataset.repeat()\n",
        "train_dataset = train_dataset.batch(batch_size, drop_remainder=True)"
      ],
      "execution_count": 0,
      "outputs": []
    },
    {
      "cell_type": "code",
      "metadata": {
        "id": "0MfsNRyiicIR",
        "colab_type": "code",
        "colab": {}
      },
      "source": [
        "valid_dataset = tf.data.Dataset.from_tensor_slices((tf.cast(df_val['filename'].values, tf.string),\n",
        "                                                    tf.cast(df_val['class'].values, tf.int32) ))\n",
        "valid_dataset = valid_dataset.map(_parse_function)\n",
        "valid_dataset = valid_dataset.shuffle(5000)\n",
        "valid_dataset = valid_dataset.repeat()\n",
        "valid_dataset = valid_dataset.batch(batch_size, drop_remainder=True)"
      ],
      "execution_count": 0,
      "outputs": []
    },
    {
      "cell_type": "code",
      "metadata": {
        "id": "amK7DVJDPTSF",
        "colab_type": "code",
        "colab": {}
      },
      "source": [
        "test_dataset = tf.data.Dataset.from_tensor_slices((tf.cast(df_test['filename'].values, tf.string),\n",
        "                                                    tf.cast(df_test['class'].values, tf.int32) ))\n",
        "test_dataset = test_dataset.map(_parse_function)\n",
        "test_dataset = test_dataset.shuffle(5000)\n",
        "test_dataset = test_dataset.repeat()\n",
        "test_dataset = test_dataset.batch(batch_size, drop_remainder=True)"
      ],
      "execution_count": 0,
      "outputs": []
    },
    {
      "cell_type": "code",
      "metadata": {
        "id": "0PsYgoDSieIA",
        "colab_type": "code",
        "outputId": "ab5b19ec-59a2-4aa6-fe7f-0f0e62730f01",
        "colab": {
          "base_uri": "https://localhost:8080/",
          "height": 35
        }
      },
      "source": [
        "train_dataset"
      ],
      "execution_count": 28,
      "outputs": [
        {
          "output_type": "execute_result",
          "data": {
            "text/plain": [
              "<BatchDataset shapes: ((120, 200, 200, 3), (120, 3)), types: (tf.float32, tf.float32)>"
            ]
          },
          "metadata": {
            "tags": []
          },
          "execution_count": 28
        }
      ]
    },
    {
      "cell_type": "markdown",
      "metadata": {
        "id": "YofamALVCrtt",
        "colab_type": "text"
      },
      "source": [
        "# VGG19"
      ]
    },
    {
      "cell_type": "markdown",
      "metadata": {
        "id": "nzO1JHNJ1D6I",
        "colab_type": "text"
      },
      "source": [
        "## Entirely frozen"
      ]
    },
    {
      "cell_type": "code",
      "metadata": {
        "id": "DTe9kVl2CuIT",
        "colab_type": "code",
        "colab": {}
      },
      "source": [
        "base_vgg19_0 = tf.keras.applications.VGG19(weights='imagenet', include_top=False, input_shape=(200, 200, 3),pooling=None)"
      ],
      "execution_count": 0,
      "outputs": []
    },
    {
      "cell_type": "code",
      "metadata": {
        "id": "vUTuVUnlC2-U",
        "colab_type": "code",
        "colab": {}
      },
      "source": [
        "# add a global spatial average pooling layer\n",
        "x = base_vgg19_0.output\n",
        "\n",
        "x = GlobalAveragePooling2D()(x)\n",
        "\n",
        "# let's add a fully-connected layer\n",
        "x = Dense(512, activation='relu')(x)\n",
        "\n",
        "x = Dropout(0.3)(x)\n",
        "\n",
        "# let's add a fully-connected layer\n",
        "x = Dense(512, activation='relu')(x)\n",
        "\n",
        "x = Dropout(0.3)(x)\n",
        "\n",
        "# let's add a fully-connected layer\n",
        "x = Dense(512, activation='relu')(x)\n",
        "\n",
        "x = Dropout(0.3)(x)\n",
        "\n",
        "# and a logits layer -- let's say we have 3 classes\n",
        "predictions = Dense(3, activation='softmax')(x)"
      ],
      "execution_count": 0,
      "outputs": []
    },
    {
      "cell_type": "code",
      "metadata": {
        "id": "Mm-iZAuZC7sV",
        "colab_type": "code",
        "colab": {}
      },
      "source": [
        "# this is the model we will train\n",
        "base_vgg19_model = Model(inputs=base_vgg19_0.input, outputs=predictions)"
      ],
      "execution_count": 0,
      "outputs": []
    },
    {
      "cell_type": "code",
      "metadata": {
        "id": "f99YWWgxC99k",
        "colab_type": "code",
        "outputId": "a90078da-2591-4bea-8b9a-9537f084ef8b",
        "colab": {
          "base_uri": "https://localhost:8080/",
          "height": 413
        }
      },
      "source": [
        "for layer in base_vgg19_0.layers:\n",
        "    print(layer.name)\n",
        "    layer.trainable = False"
      ],
      "execution_count": 47,
      "outputs": [
        {
          "output_type": "stream",
          "text": [
            "input_4\n",
            "block1_conv1\n",
            "block1_conv2\n",
            "block1_pool\n",
            "block2_conv1\n",
            "block2_conv2\n",
            "block2_pool\n",
            "block3_conv1\n",
            "block3_conv2\n",
            "block3_conv3\n",
            "block3_conv4\n",
            "block3_pool\n",
            "block4_conv1\n",
            "block4_conv2\n",
            "block4_conv3\n",
            "block4_conv4\n",
            "block4_pool\n",
            "block5_conv1\n",
            "block5_conv2\n",
            "block5_conv3\n",
            "block5_conv4\n",
            "block5_pool\n"
          ],
          "name": "stdout"
        }
      ]
    },
    {
      "cell_type": "code",
      "metadata": {
        "id": "y2P0-ZTaDAPW",
        "colab_type": "code",
        "outputId": "40c8a719-4ba7-4bc1-f1ac-eb5bfcf29ea2",
        "colab": {
          "base_uri": "https://localhost:8080/",
          "height": 557
        }
      },
      "source": [
        "for layer in base_vgg19_model.layers:\n",
        "    print(layer.name,' Trainable =',layer.trainable)"
      ],
      "execution_count": 48,
      "outputs": [
        {
          "output_type": "stream",
          "text": [
            "input_4  Trainable = False\n",
            "block1_conv1  Trainable = False\n",
            "block1_conv2  Trainable = False\n",
            "block1_pool  Trainable = False\n",
            "block2_conv1  Trainable = False\n",
            "block2_conv2  Trainable = False\n",
            "block2_pool  Trainable = False\n",
            "block3_conv1  Trainable = False\n",
            "block3_conv2  Trainable = False\n",
            "block3_conv3  Trainable = False\n",
            "block3_conv4  Trainable = False\n",
            "block3_pool  Trainable = False\n",
            "block4_conv1  Trainable = False\n",
            "block4_conv2  Trainable = False\n",
            "block4_conv3  Trainable = False\n",
            "block4_conv4  Trainable = False\n",
            "block4_pool  Trainable = False\n",
            "block5_conv1  Trainable = False\n",
            "block5_conv2  Trainable = False\n",
            "block5_conv3  Trainable = False\n",
            "block5_conv4  Trainable = False\n",
            "block5_pool  Trainable = False\n",
            "global_average_pooling2d_2  Trainable = True\n",
            "dense_8  Trainable = True\n",
            "dropout_6  Trainable = True\n",
            "dense_9  Trainable = True\n",
            "dropout_7  Trainable = True\n",
            "dense_10  Trainable = True\n",
            "dropout_8  Trainable = True\n",
            "dense_11  Trainable = True\n"
          ],
          "name": "stdout"
        }
      ]
    },
    {
      "cell_type": "code",
      "metadata": {
        "id": "wOYp6zEBDDF9",
        "colab_type": "code",
        "colab": {}
      },
      "source": [
        "opt = tf.keras.optimizers.Adam(lr=0.001)\n",
        "# compile the model (should be done *after* setting layers to non-trainable)\n",
        "base_vgg19_model.compile(optimizer=opt, loss='categorical_crossentropy',metrics=['accuracy'])"
      ],
      "execution_count": 0,
      "outputs": []
    },
    {
      "cell_type": "markdown",
      "metadata": {
        "id": "2_l1DM1tzvMq",
        "colab_type": "text"
      },
      "source": [
        "#### fitting the model"
      ]
    },
    {
      "cell_type": "code",
      "metadata": {
        "id": "ZilESfkQDI0b",
        "colab_type": "code",
        "outputId": "7880c0a7-0fc7-459c-b1d8-cdd9909bba2d",
        "colab": {
          "base_uri": "https://localhost:8080/",
          "height": 1000
        }
      },
      "source": [
        "train_steps = int(len(df_train)/batch_size) #total trains set / batch_size\n",
        "val_steps = int(len(df_val)/batch_size)\n",
        "\n",
        "print('train steps:',train_steps)\n",
        "print('val steps:',val_steps)\n",
        "epochs = 50\n",
        "\n",
        "#es = EarlyStopping(monitor='accuracy', mode='max', verbose=1, patience=15)\n",
        "\n",
        "base_vgg19_model_filepath = 'entirely_frozen_vgg19.h5'\n",
        "mcp = ModelCheckpoint(base_vgg19_model_filepath, monitor='accuracy', save_best_only=True, mode='max')\n",
        "\n",
        "### Train the model with validation \n",
        "entirely_frozen_vgg19_history = base_vgg19_model.fit( train_dataset, steps_per_epoch = train_steps,\n",
        "                   epochs = epochs,\n",
        "                   validation_data = valid_dataset,\n",
        "                   validation_steps = val_steps,\n",
        "                   callbacks= [#es, \n",
        "                               mcp])"
      ],
      "execution_count": 50,
      "outputs": [
        {
          "output_type": "stream",
          "text": [
            "train steps: 24\n",
            "val steps: 3\n",
            "Train for 24 steps, validate for 3 steps\n",
            "Epoch 1/50\n",
            "24/24 [==============================] - 38s 2s/step - loss: 1.2164 - accuracy: 0.5715 - val_loss: 0.5514 - val_accuracy: 0.7361\n",
            "Epoch 2/50\n",
            "24/24 [==============================] - 38s 2s/step - loss: 0.6117 - accuracy: 0.7274 - val_loss: 0.5088 - val_accuracy: 0.7806\n",
            "Epoch 3/50\n",
            "24/24 [==============================] - 39s 2s/step - loss: 0.5680 - accuracy: 0.7424 - val_loss: 0.5135 - val_accuracy: 0.7694\n",
            "Epoch 4/50\n",
            "24/24 [==============================] - 39s 2s/step - loss: 0.5435 - accuracy: 0.7583 - val_loss: 0.4974 - val_accuracy: 0.8111\n",
            "Epoch 5/50\n",
            "24/24 [==============================] - 39s 2s/step - loss: 0.5331 - accuracy: 0.7615 - val_loss: 0.4914 - val_accuracy: 0.7889\n",
            "Epoch 6/50\n",
            "24/24 [==============================] - 38s 2s/step - loss: 0.5152 - accuracy: 0.7743 - val_loss: 0.4887 - val_accuracy: 0.7944\n",
            "Epoch 7/50\n",
            "24/24 [==============================] - 38s 2s/step - loss: 0.5078 - accuracy: 0.7812 - val_loss: 0.5021 - val_accuracy: 0.7833\n",
            "Epoch 8/50\n",
            "24/24 [==============================] - 37s 2s/step - loss: 0.5126 - accuracy: 0.7806 - val_loss: 0.5075 - val_accuracy: 0.7833\n",
            "Epoch 9/50\n",
            "24/24 [==============================] - 38s 2s/step - loss: 0.4857 - accuracy: 0.7861 - val_loss: 0.4860 - val_accuracy: 0.7972\n",
            "Epoch 10/50\n",
            "24/24 [==============================] - 39s 2s/step - loss: 0.4766 - accuracy: 0.7944 - val_loss: 0.4975 - val_accuracy: 0.7917\n",
            "Epoch 11/50\n",
            "24/24 [==============================] - 39s 2s/step - loss: 0.4661 - accuracy: 0.7962 - val_loss: 0.4993 - val_accuracy: 0.7861\n",
            "Epoch 12/50\n",
            "24/24 [==============================] - 39s 2s/step - loss: 0.4528 - accuracy: 0.7986 - val_loss: 0.4801 - val_accuracy: 0.8028\n",
            "Epoch 13/50\n",
            "24/24 [==============================] - 38s 2s/step - loss: 0.4529 - accuracy: 0.8042 - val_loss: 0.5128 - val_accuracy: 0.7639\n",
            "Epoch 14/50\n",
            "24/24 [==============================] - 37s 2s/step - loss: 0.4457 - accuracy: 0.8007 - val_loss: 0.4900 - val_accuracy: 0.8028\n",
            "Epoch 15/50\n",
            "24/24 [==============================] - 38s 2s/step - loss: 0.4348 - accuracy: 0.8052 - val_loss: 0.4820 - val_accuracy: 0.8111\n",
            "Epoch 16/50\n",
            "24/24 [==============================] - 37s 2s/step - loss: 0.4431 - accuracy: 0.8014 - val_loss: 0.4836 - val_accuracy: 0.7944\n",
            "Epoch 17/50\n",
            "24/24 [==============================] - 38s 2s/step - loss: 0.4323 - accuracy: 0.8097 - val_loss: 0.4678 - val_accuracy: 0.8028\n",
            "Epoch 18/50\n",
            "24/24 [==============================] - 37s 2s/step - loss: 0.4324 - accuracy: 0.8080 - val_loss: 0.4807 - val_accuracy: 0.8056\n",
            "Epoch 19/50\n",
            "24/24 [==============================] - 37s 2s/step - loss: 0.4212 - accuracy: 0.8090 - val_loss: 0.5023 - val_accuracy: 0.7917\n",
            "Epoch 20/50\n",
            "24/24 [==============================] - 38s 2s/step - loss: 0.4026 - accuracy: 0.8156 - val_loss: 0.5057 - val_accuracy: 0.7944\n",
            "Epoch 21/50\n",
            "24/24 [==============================] - 39s 2s/step - loss: 0.4004 - accuracy: 0.8219 - val_loss: 0.5417 - val_accuracy: 0.7833\n",
            "Epoch 22/50\n",
            "24/24 [==============================] - 37s 2s/step - loss: 0.4029 - accuracy: 0.8122 - val_loss: 0.5106 - val_accuracy: 0.7972\n",
            "Epoch 23/50\n",
            "24/24 [==============================] - 38s 2s/step - loss: 0.3945 - accuracy: 0.8233 - val_loss: 0.5319 - val_accuracy: 0.8028\n",
            "Epoch 24/50\n",
            "24/24 [==============================] - 37s 2s/step - loss: 0.4141 - accuracy: 0.8167 - val_loss: 0.5984 - val_accuracy: 0.7833\n",
            "Epoch 25/50\n",
            "24/24 [==============================] - 37s 2s/step - loss: 0.4033 - accuracy: 0.8163 - val_loss: 0.5258 - val_accuracy: 0.7722\n",
            "Epoch 26/50\n",
            "24/24 [==============================] - 40s 2s/step - loss: 0.3804 - accuracy: 0.8264 - val_loss: 0.5372 - val_accuracy: 0.7889\n",
            "Epoch 27/50\n",
            "24/24 [==============================] - 38s 2s/step - loss: 0.3660 - accuracy: 0.8313 - val_loss: 0.5332 - val_accuracy: 0.8028\n",
            "Epoch 28/50\n",
            "24/24 [==============================] - 37s 2s/step - loss: 0.3695 - accuracy: 0.8274 - val_loss: 0.5787 - val_accuracy: 0.8000\n",
            "Epoch 29/50\n",
            "24/24 [==============================] - 38s 2s/step - loss: 0.3534 - accuracy: 0.8431 - val_loss: 0.5775 - val_accuracy: 0.7611\n",
            "Epoch 30/50\n",
            "24/24 [==============================] - 37s 2s/step - loss: 0.3694 - accuracy: 0.8260 - val_loss: 0.5482 - val_accuracy: 0.7861\n",
            "Epoch 31/50\n",
            "24/24 [==============================] - 37s 2s/step - loss: 0.3534 - accuracy: 0.8375 - val_loss: 0.5955 - val_accuracy: 0.7750\n",
            "Epoch 32/50\n",
            "24/24 [==============================] - 37s 2s/step - loss: 0.3623 - accuracy: 0.8420 - val_loss: 0.5787 - val_accuracy: 0.7889\n",
            "Epoch 33/50\n",
            "24/24 [==============================] - 37s 2s/step - loss: 0.3486 - accuracy: 0.8424 - val_loss: 0.5537 - val_accuracy: 0.7889\n",
            "Epoch 34/50\n",
            "24/24 [==============================] - 39s 2s/step - loss: 0.3282 - accuracy: 0.8483 - val_loss: 0.5981 - val_accuracy: 0.7917\n",
            "Epoch 35/50\n",
            "24/24 [==============================] - 37s 2s/step - loss: 0.3514 - accuracy: 0.8382 - val_loss: 0.5736 - val_accuracy: 0.8028\n",
            "Epoch 36/50\n",
            "24/24 [==============================] - 37s 2s/step - loss: 0.3529 - accuracy: 0.8347 - val_loss: 0.5767 - val_accuracy: 0.7944\n",
            "Epoch 37/50\n",
            "24/24 [==============================] - 37s 2s/step - loss: 0.3524 - accuracy: 0.8333 - val_loss: 0.5638 - val_accuracy: 0.8111\n",
            "Epoch 38/50\n",
            "24/24 [==============================] - 37s 2s/step - loss: 0.3265 - accuracy: 0.8462 - val_loss: 0.5664 - val_accuracy: 0.7861\n",
            "Epoch 39/50\n",
            "24/24 [==============================] - 38s 2s/step - loss: 0.3165 - accuracy: 0.8517 - val_loss: 0.5937 - val_accuracy: 0.7917\n",
            "Epoch 40/50\n",
            "24/24 [==============================] - 38s 2s/step - loss: 0.3246 - accuracy: 0.8521 - val_loss: 0.5677 - val_accuracy: 0.8000\n",
            "Epoch 41/50\n",
            "24/24 [==============================] - 38s 2s/step - loss: 0.3322 - accuracy: 0.8535 - val_loss: 0.6189 - val_accuracy: 0.7778\n",
            "Epoch 42/50\n",
            "24/24 [==============================] - 40s 2s/step - loss: 0.3077 - accuracy: 0.8604 - val_loss: 0.6510 - val_accuracy: 0.7972\n",
            "Epoch 43/50\n",
            "24/24 [==============================] - 37s 2s/step - loss: 0.3371 - accuracy: 0.8483 - val_loss: 0.6119 - val_accuracy: 0.7778\n",
            "Epoch 44/50\n",
            "24/24 [==============================] - 37s 2s/step - loss: 0.3303 - accuracy: 0.8528 - val_loss: 0.5414 - val_accuracy: 0.8083\n",
            "Epoch 45/50\n",
            "24/24 [==============================] - 37s 2s/step - loss: 0.3121 - accuracy: 0.8569 - val_loss: 0.5860 - val_accuracy: 0.7917\n",
            "Epoch 46/50\n",
            "24/24 [==============================] - 37s 2s/step - loss: 0.3079 - accuracy: 0.8510 - val_loss: 0.5789 - val_accuracy: 0.8000\n",
            "Epoch 47/50\n",
            "24/24 [==============================] - 37s 2s/step - loss: 0.3062 - accuracy: 0.8566 - val_loss: 0.6059 - val_accuracy: 0.7806\n",
            "Epoch 48/50\n",
            "24/24 [==============================] - 37s 2s/step - loss: 0.3165 - accuracy: 0.8524 - val_loss: 0.5949 - val_accuracy: 0.8111\n",
            "Epoch 49/50\n",
            "24/24 [==============================] - 37s 2s/step - loss: 0.3145 - accuracy: 0.8493 - val_loss: 0.5992 - val_accuracy: 0.8083\n",
            "Epoch 50/50\n",
            "24/24 [==============================] - 38s 2s/step - loss: 0.2861 - accuracy: 0.8660 - val_loss: 0.6549 - val_accuracy: 0.7861\n"
          ],
          "name": "stdout"
        }
      ]
    },
    {
      "cell_type": "markdown",
      "metadata": {
        "id": "1DEF-C99Vlv0",
        "colab_type": "text"
      },
      "source": [
        "#### testing the model"
      ]
    },
    {
      "cell_type": "code",
      "metadata": {
        "id": "9ExLpzmeQaS_",
        "colab_type": "code",
        "outputId": "90549aa5-6348-426c-98db-59cec402d403",
        "colab": {
          "base_uri": "https://localhost:8080/",
          "height": 53
        }
      },
      "source": [
        "test_steps = int(len(df_test)/batch_size)\n",
        "\n",
        "metrics = base_vgg19_model.evaluate(test_dataset,\n",
        "                   steps = test_steps)\n",
        "print(\"model accuracy:\",metrics[1])"
      ],
      "execution_count": 51,
      "outputs": [
        {
          "output_type": "stream",
          "text": [
            "3/3 [==============================] - 236s 79s/step - loss: 0.8146 - accuracy: 0.7389\n",
            "model accuracy: 0.73888886\n"
          ],
          "name": "stdout"
        }
      ]
    },
    {
      "cell_type": "markdown",
      "metadata": {
        "id": "hBL8c11yrqqX",
        "colab_type": "text"
      },
      "source": [
        "#### plotting training"
      ]
    },
    {
      "cell_type": "code",
      "metadata": {
        "id": "K8LjQA1mh1vN",
        "colab_type": "code",
        "outputId": "0f6a62c7-447e-4628-a312-782b6ee1f585",
        "colab": {
          "base_uri": "https://localhost:8080/",
          "height": 573
        }
      },
      "source": [
        "plot_hist(entirely_frozen_vgg19_history, 'entirely_frozen_vgg19')"
      ],
      "execution_count": 52,
      "outputs": [
        {
          "output_type": "display_data",
          "data": {
            "image/png": "[encoded data removed]",
            "text/plain": [
              "<Figure size 432x288 with 1 Axes>"
            ]
          },
          "metadata": {
            "tags": []
          }
        },
        {
          "output_type": "display_data",
          "data": {
            "image/png": "[encoded data removed]",
            "text/plain": [
              "<Figure size 432x288 with 1 Axes>"
            ]
          },
          "metadata": {
            "tags": []
          }
        }
      ]
    },
    {
      "cell_type": "markdown",
      "metadata": {
        "id": "m_ZrJLmlg2p1",
        "colab_type": "text"
      },
      "source": [
        "#### saving the history of the fitting"
      ]
    },
    {
      "cell_type": "code",
      "metadata": {
        "id": "MtsOK4BTguPo",
        "colab_type": "code",
        "outputId": "02e23154-319e-46f8-b9dd-615ce37d4d7a",
        "colab": {
          "base_uri": "https://localhost:8080/",
          "height": 35
        }
      },
      "source": [
        "\n",
        "with open(cwd + '/trainHistoryDict/entirely_frozen_vgg19_history.p', 'wb') as file_pi:\n",
        "        pickle.dump(entirely_frozen_vgg19_history.history, file_pi)\n",
        "print('history saved')"
      ],
      "execution_count": 53,
      "outputs": [
        {
          "output_type": "stream",
          "text": [
            "history saved\n"
          ],
          "name": "stdout"
        }
      ]
    },
    {
      "cell_type": "markdown",
      "metadata": {
        "id": "OCGpPP-l1J7_",
        "colab_type": "text"
      },
      "source": [
        "## Few layers unfrozen"
      ]
    },
    {
      "cell_type": "markdown",
      "metadata": {
        "id": "9NTvh7-AmF2h",
        "colab_type": "text"
      },
      "source": [
        "#### loading model"
      ]
    },
    {
      "cell_type": "code",
      "metadata": {
        "id": "kPl0Png5yCQd",
        "colab_type": "code",
        "colab": {}
      },
      "source": [
        "base_vgg19_1 = tf.keras.applications.VGG19(weights='imagenet', include_top=False, input_shape=(200, 200, 3),pooling=None)"
      ],
      "execution_count": 0,
      "outputs": []
    },
    {
      "cell_type": "markdown",
      "metadata": {
        "id": "qOpVXZpbmKFX",
        "colab_type": "text"
      },
      "source": [
        "#### modifying slightly"
      ]
    },
    {
      "cell_type": "code",
      "metadata": {
        "id": "Z08msq2tyDc4",
        "colab_type": "code",
        "colab": {}
      },
      "source": [
        "# add a global spatial average pooling layer\n",
        "x = base_vgg19_1.output\n",
        "\n",
        "x = GlobalAveragePooling2D()(x)\n",
        "\n",
        "# let's add a fully-connected layer\n",
        "x = Dense(512, activation='relu')(x)\n",
        "\n",
        "x = Dropout(0.3)(x)\n",
        "\n",
        "# let's add a fully-connected layer\n",
        "x = Dense(512, activation='relu')(x)\n",
        "\n",
        "x = Dropout(0.3)(x)\n",
        "\n",
        "# let's add a fully-connected layer\n",
        "x = Dense(512, activation='relu')(x)\n",
        "\n",
        "x = Dropout(0.3)(x)\n",
        "\n",
        "# and a logits layer -- let's say we have 3 classes\n",
        "predictions = Dense(3, activation='softmax')(x)"
      ],
      "execution_count": 0,
      "outputs": []
    },
    {
      "cell_type": "markdown",
      "metadata": {
        "id": "f0ECvPigmTNh",
        "colab_type": "text"
      },
      "source": [
        "#### creating model object"
      ]
    },
    {
      "cell_type": "code",
      "metadata": {
        "id": "03eslAo6mAYJ",
        "colab_type": "code",
        "colab": {}
      },
      "source": [
        "# this is the model we will train\n",
        "few_unfrozen_vgg19_model = Model(inputs=base_vgg19_1.input, outputs=predictions)"
      ],
      "execution_count": 0,
      "outputs": []
    },
    {
      "cell_type": "code",
      "metadata": {
        "id": "fQ5uYuz7l2aQ",
        "colab_type": "code",
        "outputId": "408e47c3-e7ea-4d47-f398-c5f3f66ef68b",
        "colab": {
          "base_uri": "https://localhost:8080/",
          "height": 413
        }
      },
      "source": [
        "for layer in base_vgg19_1.layers:\n",
        "    print(layer.name)\n",
        "    layer.trainable = False"
      ],
      "execution_count": 57,
      "outputs": [
        {
          "output_type": "stream",
          "text": [
            "input_5\n",
            "block1_conv1\n",
            "block1_conv2\n",
            "block1_pool\n",
            "block2_conv1\n",
            "block2_conv2\n",
            "block2_pool\n",
            "block3_conv1\n",
            "block3_conv2\n",
            "block3_conv3\n",
            "block3_conv4\n",
            "block3_pool\n",
            "block4_conv1\n",
            "block4_conv2\n",
            "block4_conv3\n",
            "block4_conv4\n",
            "block4_pool\n",
            "block5_conv1\n",
            "block5_conv2\n",
            "block5_conv3\n",
            "block5_conv4\n",
            "block5_pool\n"
          ],
          "name": "stdout"
        }
      ]
    },
    {
      "cell_type": "code",
      "metadata": {
        "id": "ReBRqAd6SFnC",
        "colab_type": "code",
        "outputId": "4ec62c8b-9e8e-456b-e5b1-4b60cbf7f7a4",
        "colab": {
          "base_uri": "https://localhost:8080/",
          "height": 35
        }
      },
      "source": [
        "trainable_count = 0\n",
        "per_layers = 0.2\n",
        "num_model_layers = len(base_vgg19_1.layers)\n",
        "starting_layer = int( num_model_layers * (1 - per_layers))\n",
        "true_per_trained = (num_model_layers - starting_layer) / num_model_layers\n",
        "\n",
        "\n",
        "print('true percentage of model trainable:', true_per_trained)"
      ],
      "execution_count": 58,
      "outputs": [
        {
          "output_type": "stream",
          "text": [
            "true percentage of model trainable: 0.22727272727272727\n"
          ],
          "name": "stdout"
        }
      ]
    },
    {
      "cell_type": "code",
      "metadata": {
        "colab_type": "code",
        "outputId": "f9c1b44c-5918-4061-8d55-40a49032d16d",
        "id": "3_X9SZ5CoWYz",
        "colab": {
          "base_uri": "https://localhost:8080/",
          "height": 35
        }
      },
      "source": [
        "\n",
        "set_trainable = False\n",
        "for idx, layer in enumerate(base_vgg19_1.layers):\n",
        "    if idx == starting_layer:\n",
        "        set_trainable = True\n",
        "    if set_trainable:\n",
        "        layer.trainable = Trues\n",
        "        trainable_count += 1\n",
        "    else:\n",
        "        layer.trainable = False\n"
      ],
      "execution_count": 59,
      "outputs": [
        {
          "output_type": "stream",
          "text": [
            "percent unfrozen: 16.666666666666664 %\n"
          ],
          "name": "stdout"
        }
      ]
    },
    {
      "cell_type": "code",
      "metadata": {
        "id": "hHCq5zulG67p",
        "colab_type": "code",
        "outputId": "52e4135e-b63a-4f69-a7ba-b7c742bd7463",
        "colab": {
          "base_uri": "https://localhost:8080/",
          "height": 557
        }
      },
      "source": [
        "for layer in few_unfrozen_vgg19_model.layers:\n",
        "    print(layer.name,layer.trainable)"
      ],
      "execution_count": 60,
      "outputs": [
        {
          "output_type": "stream",
          "text": [
            "input_5 False\n",
            "block1_conv1 False\n",
            "block1_conv2 False\n",
            "block1_pool False\n",
            "block2_conv1 False\n",
            "block2_conv2 False\n",
            "block2_pool False\n",
            "block3_conv1 False\n",
            "block3_conv2 False\n",
            "block3_conv3 False\n",
            "block3_conv4 False\n",
            "block3_pool False\n",
            "block4_conv1 False\n",
            "block4_conv2 False\n",
            "block4_conv3 False\n",
            "block4_conv4 False\n",
            "block4_pool False\n",
            "block5_conv1 True\n",
            "block5_conv2 True\n",
            "block5_conv3 True\n",
            "block5_conv4 True\n",
            "block5_pool True\n",
            "global_average_pooling2d_3 True\n",
            "dense_12 True\n",
            "dropout_9 True\n",
            "dense_13 True\n",
            "dropout_10 True\n",
            "dense_14 True\n",
            "dropout_11 True\n",
            "dense_15 True\n"
          ],
          "name": "stdout"
        }
      ]
    },
    {
      "cell_type": "code",
      "metadata": {
        "id": "vfOrj3UHnqkg",
        "colab_type": "code",
        "colab": {}
      },
      "source": [
        "opt = tf.keras.optimizers.Adam(lr=0.001)\n",
        "# compile the model (should be done *after* setting layers to non-trainable)\n",
        "few_unfrozen_vgg19_model.compile(optimizer=opt, loss='categorical_crossentropy',metrics=['accuracy'])"
      ],
      "execution_count": 0,
      "outputs": []
    },
    {
      "cell_type": "markdown",
      "metadata": {
        "id": "ZmgEucTcyPqk",
        "colab_type": "text"
      },
      "source": [
        "#### fitting the model"
      ]
    },
    {
      "cell_type": "code",
      "metadata": {
        "id": "DZuKehrVG9L3",
        "colab_type": "code",
        "outputId": "3f9f58e1-5da4-42cd-d072-b1432cd49752",
        "colab": {
          "base_uri": "https://localhost:8080/",
          "height": 1000
        }
      },
      "source": [
        "train_steps = int(len(df_train)/batch_size) #total trains set / batch_size\n",
        "val_steps = int(len(df_val)/batch_size)\n",
        "\n",
        "print('train steps:',train_steps)\n",
        "print('val steps:',val_steps)\n",
        "\n",
        "epochs = 50\n",
        "\n",
        "\n",
        "model_filepath = 'few_unfrozen_vgg19.h5'\n",
        "mcp = ModelCheckpoint(model_filepath, monitor='accuracy', save_best_only=True, mode='max')\n",
        "\n",
        "# Train the model with validation \n",
        "few_unfrozen_vgg19_history = few_unfrozen_vgg19_model.fit( train_dataset, steps_per_epoch = train_steps,\n",
        "                   epochs = epochs,\n",
        "                   validation_data = valid_dataset,\n",
        "                   validation_steps = val_steps,\n",
        "                   callbacks=[mcp])"
      ],
      "execution_count": 62,
      "outputs": [
        {
          "output_type": "stream",
          "text": [
            "train steps: 24\n",
            "val steps: 3\n",
            "Train for 24 steps, validate for 3 steps\n",
            "Epoch 1/50\n",
            "24/24 [==============================] - 42s 2s/step - loss: 2.1235 - accuracy: 0.3347 - val_loss: 1.0995 - val_accuracy: 0.3417\n",
            "Epoch 2/50\n",
            "24/24 [==============================] - 42s 2s/step - loss: 1.1452 - accuracy: 0.3406 - val_loss: 1.0999 - val_accuracy: 0.3417\n",
            "Epoch 3/50\n",
            "24/24 [==============================] - 39s 2s/step - loss: 1.1337 - accuracy: 0.3340 - val_loss: 1.0987 - val_accuracy: 0.3417\n",
            "Epoch 4/50\n",
            "24/24 [==============================] - 39s 2s/step - loss: 1.0988 - accuracy: 0.3354 - val_loss: 1.0987 - val_accuracy: 0.3417\n",
            "Epoch 5/50\n",
            "24/24 [==============================] - 39s 2s/step - loss: 1.0988 - accuracy: 0.3285 - val_loss: 1.0990 - val_accuracy: 0.3056\n",
            "Epoch 6/50\n",
            "24/24 [==============================] - 41s 2s/step - loss: 1.0986 - accuracy: 0.3434 - val_loss: 1.0986 - val_accuracy: 0.3417\n",
            "Epoch 7/50\n",
            "24/24 [==============================] - 39s 2s/step - loss: 1.0987 - accuracy: 0.3295 - val_loss: 1.0990 - val_accuracy: 0.3417\n",
            "Epoch 8/50\n",
            "24/24 [==============================] - 39s 2s/step - loss: 1.0986 - accuracy: 0.3351 - val_loss: 1.0984 - val_accuracy: 0.3417\n",
            "Epoch 9/50\n",
            "24/24 [==============================] - 39s 2s/step - loss: 1.0986 - accuracy: 0.3344 - val_loss: 1.0991 - val_accuracy: 0.3417\n",
            "Epoch 10/50\n",
            "24/24 [==============================] - 39s 2s/step - loss: 1.0986 - accuracy: 0.3375 - val_loss: 1.0991 - val_accuracy: 0.3056\n",
            "Epoch 11/50\n",
            "24/24 [==============================] - 39s 2s/step - loss: 1.0988 - accuracy: 0.3347 - val_loss: 1.0989 - val_accuracy: 0.3417\n",
            "Epoch 12/50\n",
            "24/24 [==============================] - 39s 2s/step - loss: 1.0987 - accuracy: 0.3351 - val_loss: 1.0987 - val_accuracy: 0.3417\n",
            "Epoch 13/50\n",
            "24/24 [==============================] - 39s 2s/step - loss: 1.0987 - accuracy: 0.3243 - val_loss: 1.0990 - val_accuracy: 0.3417\n",
            "Epoch 14/50\n",
            "24/24 [==============================] - 40s 2s/step - loss: 1.0989 - accuracy: 0.3253 - val_loss: 1.0993 - val_accuracy: 0.3056\n",
            "Epoch 15/50\n",
            "24/24 [==============================] - 39s 2s/step - loss: 1.0989 - accuracy: 0.3240 - val_loss: 1.0986 - val_accuracy: 0.3417\n",
            "Epoch 16/50\n",
            "24/24 [==============================] - 39s 2s/step - loss: 1.0989 - accuracy: 0.3236 - val_loss: 1.0991 - val_accuracy: 0.3056\n",
            "Epoch 17/50\n",
            "24/24 [==============================] - 39s 2s/step - loss: 1.0987 - accuracy: 0.3358 - val_loss: 1.0990 - val_accuracy: 0.3417\n",
            "Epoch 18/50\n",
            "24/24 [==============================] - 39s 2s/step - loss: 1.0987 - accuracy: 0.3337 - val_loss: 1.0988 - val_accuracy: 0.3417\n",
            "Epoch 19/50\n",
            "24/24 [==============================] - 39s 2s/step - loss: 1.0987 - accuracy: 0.3351 - val_loss: 1.0989 - val_accuracy: 0.3417\n",
            "Epoch 20/50\n",
            "24/24 [==============================] - 39s 2s/step - loss: 1.0988 - accuracy: 0.3330 - val_loss: 1.0989 - val_accuracy: 0.3417\n",
            "Epoch 21/50\n",
            "24/24 [==============================] - 42s 2s/step - loss: 1.0986 - accuracy: 0.3483 - val_loss: 1.0987 - val_accuracy: 0.3417\n",
            "Epoch 22/50\n",
            "24/24 [==============================] - 41s 2s/step - loss: 1.0988 - accuracy: 0.3292 - val_loss: 1.0988 - val_accuracy: 0.3417\n",
            "Epoch 23/50\n",
            "24/24 [==============================] - 39s 2s/step - loss: 1.0987 - accuracy: 0.3326 - val_loss: 1.0995 - val_accuracy: 0.3056\n",
            "Epoch 24/50\n",
            "24/24 [==============================] - 39s 2s/step - loss: 1.0987 - accuracy: 0.3184 - val_loss: 1.0989 - val_accuracy: 0.3417\n",
            "Epoch 25/50\n",
            "24/24 [==============================] - 39s 2s/step - loss: 1.0987 - accuracy: 0.3233 - val_loss: 1.0990 - val_accuracy: 0.3417\n",
            "Epoch 26/50\n",
            "24/24 [==============================] - 39s 2s/step - loss: 1.0987 - accuracy: 0.3337 - val_loss: 1.0987 - val_accuracy: 0.3417\n",
            "Epoch 27/50\n",
            "24/24 [==============================] - 39s 2s/step - loss: 1.0987 - accuracy: 0.3302 - val_loss: 1.0990 - val_accuracy: 0.3056\n",
            "Epoch 28/50\n",
            "24/24 [==============================] - 39s 2s/step - loss: 1.0989 - accuracy: 0.3122 - val_loss: 1.0988 - val_accuracy: 0.3056\n",
            "Epoch 29/50\n",
            "24/24 [==============================] - 39s 2s/step - loss: 1.0987 - accuracy: 0.3396 - val_loss: 1.0989 - val_accuracy: 0.3056\n",
            "Epoch 30/50\n",
            "24/24 [==============================] - 40s 2s/step - loss: 1.0986 - accuracy: 0.3375 - val_loss: 1.0992 - val_accuracy: 0.3056\n",
            "Epoch 31/50\n",
            "24/24 [==============================] - 39s 2s/step - loss: 1.0986 - accuracy: 0.3392 - val_loss: 1.0987 - val_accuracy: 0.3417\n",
            "Epoch 32/50\n",
            "24/24 [==============================] - 39s 2s/step - loss: 1.0985 - accuracy: 0.3396 - val_loss: 1.0991 - val_accuracy: 0.3417\n",
            "Epoch 33/50\n",
            "24/24 [==============================] - 39s 2s/step - loss: 1.0986 - accuracy: 0.3375 - val_loss: 1.0987 - val_accuracy: 0.3417\n",
            "Epoch 34/50\n",
            "24/24 [==============================] - 39s 2s/step - loss: 1.0987 - accuracy: 0.3372 - val_loss: 1.0990 - val_accuracy: 0.3417\n",
            "Epoch 35/50\n",
            "24/24 [==============================] - 39s 2s/step - loss: 1.0985 - accuracy: 0.3441 - val_loss: 1.0988 - val_accuracy: 0.3056\n",
            "Epoch 36/50\n",
            "24/24 [==============================] - 39s 2s/step - loss: 1.0987 - accuracy: 0.3385 - val_loss: 1.0988 - val_accuracy: 0.3417\n",
            "Epoch 37/50\n",
            "24/24 [==============================] - 39s 2s/step - loss: 1.0988 - accuracy: 0.3285 - val_loss: 1.0988 - val_accuracy: 0.3417\n",
            "Epoch 38/50\n",
            "24/24 [==============================] - 39s 2s/step - loss: 1.0985 - accuracy: 0.3299 - val_loss: 1.0987 - val_accuracy: 0.3417\n",
            "Epoch 39/50\n",
            "24/24 [==============================] - 39s 2s/step - loss: 1.0988 - accuracy: 0.3361 - val_loss: 1.0985 - val_accuracy: 0.3417\n",
            "Epoch 40/50\n",
            "24/24 [==============================] - 39s 2s/step - loss: 1.0985 - accuracy: 0.3299 - val_loss: 1.0988 - val_accuracy: 0.3417\n",
            "Epoch 41/50\n",
            "24/24 [==============================] - 39s 2s/step - loss: 1.0988 - accuracy: 0.3375 - val_loss: 1.0993 - val_accuracy: 0.3056\n",
            "Epoch 42/50\n",
            "24/24 [==============================] - 39s 2s/step - loss: 1.0988 - accuracy: 0.3378 - val_loss: 1.0984 - val_accuracy: 0.3417\n",
            "Epoch 43/50\n",
            "24/24 [==============================] - 39s 2s/step - loss: 1.0986 - accuracy: 0.3420 - val_loss: 1.0991 - val_accuracy: 0.3056\n",
            "Epoch 44/50\n",
            "24/24 [==============================] - 39s 2s/step - loss: 1.0989 - accuracy: 0.3247 - val_loss: 1.0992 - val_accuracy: 0.3056\n",
            "Epoch 45/50\n",
            "24/24 [==============================] - 39s 2s/step - loss: 1.0987 - accuracy: 0.3385 - val_loss: 1.0989 - val_accuracy: 0.3056\n",
            "Epoch 46/50\n",
            "24/24 [==============================] - 39s 2s/step - loss: 1.0988 - accuracy: 0.3299 - val_loss: 1.0988 - val_accuracy: 0.3417\n",
            "Epoch 47/50\n",
            "24/24 [==============================] - 39s 2s/step - loss: 1.0989 - accuracy: 0.3319 - val_loss: 1.0988 - val_accuracy: 0.3417\n",
            "Epoch 48/50\n",
            "24/24 [==============================] - 39s 2s/step - loss: 1.0987 - accuracy: 0.3229 - val_loss: 1.0990 - val_accuracy: 0.3417\n",
            "Epoch 49/50\n",
            "24/24 [==============================] - 39s 2s/step - loss: 1.0991 - accuracy: 0.3215 - val_loss: 1.0982 - val_accuracy: 0.3417\n",
            "Epoch 50/50\n",
            "24/24 [==============================] - 39s 2s/step - loss: 1.0989 - accuracy: 0.3219 - val_loss: 1.0991 - val_accuracy: 0.3056\n"
          ],
          "name": "stdout"
        }
      ]
    },
    {
      "cell_type": "markdown",
      "metadata": {
        "id": "7OV3ADJdqwgc",
        "colab_type": "text"
      },
      "source": [
        "#### testing the model"
      ]
    },
    {
      "cell_type": "code",
      "metadata": {
        "id": "AJhNK0O3qyni",
        "colab_type": "code",
        "outputId": "50a38597-5daa-439e-daac-04c32ebd8a64",
        "colab": {
          "base_uri": "https://localhost:8080/",
          "height": 53
        }
      },
      "source": [
        "test_steps = int(len(df_test)/batch_size)\n",
        "\n",
        "metrics = few_unfrozen_vgg19_model.evaluate(test_dataset,\n",
        "                   steps = test_steps)\n",
        "print(\"model accuracy:\",metrics[1])"
      ],
      "execution_count": 63,
      "outputs": [
        {
          "output_type": "stream",
          "text": [
            "3/3 [==============================] - 4s 1s/step - loss: 1.0985 - accuracy: 0.3528\n",
            "model accuracy: 0.35277778\n"
          ],
          "name": "stdout"
        }
      ]
    },
    {
      "cell_type": "markdown",
      "metadata": {
        "colab_type": "text",
        "id": "XSf8CvddsE-S"
      },
      "source": [
        "#### plotting training"
      ]
    },
    {
      "cell_type": "code",
      "metadata": {
        "colab_type": "code",
        "outputId": "22337fb0-3bfa-4cff-993c-30a8ace77bcb",
        "id": "0dq5Wl9csE-f",
        "colab": {
          "base_uri": "https://localhost:8080/",
          "height": 573
        }
      },
      "source": [
        "plot_hist(few_unfrozen_vgg19_history, 'few_unfrozen_vgg19')"
      ],
      "execution_count": 64,
      "outputs": [
        {
          "output_type": "display_data",
          "data": {
            "image/png": "[encoded data removed]",
            "text/plain": [
              "<Figure size 432x288 with 1 Axes>"
            ]
          },
          "metadata": {
            "tags": []
          }
        },
        {
          "output_type": "display_data",
          "data": {
            "image/png": "[encoded data removed]",
            "text/plain": [
              "<Figure size 432x288 with 1 Axes>"
            ]
          },
          "metadata": {
            "tags": []
          }
        }
      ]
    },
    {
      "cell_type": "markdown",
      "metadata": {
        "id": "LARhhZGYyTV9",
        "colab_type": "text"
      },
      "source": [
        "#### saving the history of the fitting"
      ]
    },
    {
      "cell_type": "code",
      "metadata": {
        "id": "whH3xT9KT1Ck",
        "colab_type": "code",
        "outputId": "8f1d4d62-75cf-4ee4-93d9-e3adfb9fb8c5",
        "colab": {
          "base_uri": "https://localhost:8080/",
          "height": 35
        }
      },
      "source": [
        "with open(cwd + '/trainHistoryDict/few_unfrozen_vgg19_history.p', 'wb') as file_pi:\n",
        "        pickle.dump(few_unfrozen_vgg19_history.history, file_pi)\n",
        "print('history saved')"
      ],
      "execution_count": 65,
      "outputs": [
        {
          "output_type": "stream",
          "text": [
            "history saved\n"
          ],
          "name": "stdout"
        }
      ]
    },
    {
      "cell_type": "markdown",
      "metadata": {
        "colab_type": "text",
        "id": "22GUAtjSraz8"
      },
      "source": [
        "## Many layers unfrozen"
      ]
    },
    {
      "cell_type": "markdown",
      "metadata": {
        "colab_type": "text",
        "id": "QAKiIPjpra0F"
      },
      "source": [
        "#### loading model"
      ]
    },
    {
      "cell_type": "code",
      "metadata": {
        "colab_type": "code",
        "id": "QCFFXBFXra0I",
        "colab": {}
      },
      "source": [
        "base_vgg19_2 = tf.keras.applications.VGG19(weights='imagenet', include_top=False, input_shape=(200, 200, 3),pooling=None)"
      ],
      "execution_count": 0,
      "outputs": []
    },
    {
      "cell_type": "markdown",
      "metadata": {
        "colab_type": "text",
        "id": "l8XDJ-sVra0T"
      },
      "source": [
        "#### modifying slightly"
      ]
    },
    {
      "cell_type": "code",
      "metadata": {
        "colab_type": "code",
        "id": "5a8zr3Xqra0W",
        "colab": {}
      },
      "source": [
        "# add a global spatial average pooling layer\n",
        "x = base_vgg19_2.output\n",
        "\n",
        "x = GlobalAveragePooling2D()(x)\n",
        "\n",
        "# let's add a fully-connected layer\n",
        "x = Dense(512, activation='relu')(x)\n",
        "\n",
        "x = Dropout(0.3)(x)\n",
        "\n",
        "# let's add a fully-connected layer\n",
        "x = Dense(512, activation='relu')(x)\n",
        "\n",
        "x = Dropout(0.3)(x)\n",
        "\n",
        "# let's add a fully-connected layer\n",
        "x = Dense(512, activation='relu')(x)\n",
        "\n",
        "x = Dropout(0.3)(x)\n",
        "\n",
        "# and a logits layer -- let's say we have 3 classes\n",
        "predictions = Dense(3, activation='softmax')(x)"
      ],
      "execution_count": 0,
      "outputs": []
    },
    {
      "cell_type": "markdown",
      "metadata": {
        "colab_type": "text",
        "id": "wqxyAmXcra0k"
      },
      "source": [
        "#### creating model object"
      ]
    },
    {
      "cell_type": "code",
      "metadata": {
        "colab_type": "code",
        "id": "V28yL8gpra0n",
        "colab": {}
      },
      "source": [
        "# this is the model we will train\n",
        "many_unfrozen_vgg19_model = Model(inputs=base_vgg19_2.input, outputs=predictions)"
      ],
      "execution_count": 0,
      "outputs": []
    },
    {
      "cell_type": "code",
      "metadata": {
        "colab_type": "code",
        "outputId": "ca17357c-53fa-490e-b182-d0ba51a550f5",
        "id": "unASmwXNra0r",
        "colab": {
          "base_uri": "https://localhost:8080/",
          "height": 413
        }
      },
      "source": [
        "for layer in base_vgg19_2.layers:\n",
        "    print(layer.name)\n",
        "    layer.trainable = False"
      ],
      "execution_count": 79,
      "outputs": [
        {
          "output_type": "stream",
          "text": [
            "input_7\n",
            "block1_conv1\n",
            "block1_conv2\n",
            "block1_pool\n",
            "block2_conv1\n",
            "block2_conv2\n",
            "block2_pool\n",
            "block3_conv1\n",
            "block3_conv2\n",
            "block3_conv3\n",
            "block3_conv4\n",
            "block3_pool\n",
            "block4_conv1\n",
            "block4_conv2\n",
            "block4_conv3\n",
            "block4_conv4\n",
            "block4_pool\n",
            "block5_conv1\n",
            "block5_conv2\n",
            "block5_conv3\n",
            "block5_conv4\n",
            "block5_pool\n"
          ],
          "name": "stdout"
        }
      ]
    },
    {
      "cell_type": "code",
      "metadata": {
        "id": "za3sDPZRt4it",
        "colab_type": "code",
        "outputId": "69352c7c-9f38-457a-9653-abba4b6a4a48",
        "colab": {
          "base_uri": "https://localhost:8080/",
          "height": 35
        }
      },
      "source": [
        "trainable_count = 0\n",
        "per_layers = 0.7\n",
        "num_model_layers = len(base_vgg19_2.layers)\n",
        "starting_layer = int( num_model_layers * (1 - per_layers))\n",
        "true_per_trained = (num_model_layers - starting_layer) / num_model_layers\n",
        "\n",
        "\n",
        "print('true percentage of model trainable:', true_per_trained)"
      ],
      "execution_count": 80,
      "outputs": [
        {
          "output_type": "stream",
          "text": [
            "true percentage of model trainable: 0.7272727272727273\n"
          ],
          "name": "stdout"
        }
      ]
    },
    {
      "cell_type": "code",
      "metadata": {
        "colab_type": "code",
        "id": "LEWRmERora0w",
        "colab": {}
      },
      "source": [
        "set_trainable = False\n",
        "for idx, layer in enumerate(base_vgg19_2.layers):\n",
        "    if idx == starting_layer:\n",
        "        set_trainable = True\n",
        "    if set_trainable:\n",
        "        layer.trainable = True\n",
        "        trainable_count += 1\n",
        "    else:\n",
        "        layer.trainable = False"
      ],
      "execution_count": 0,
      "outputs": []
    },
    {
      "cell_type": "code",
      "metadata": {
        "colab_type": "code",
        "outputId": "f8305939-565d-4d4d-f6a7-cad98a21a839",
        "id": "zOYnK1S2ra0y",
        "colab": {
          "base_uri": "https://localhost:8080/",
          "height": 557
        }
      },
      "source": [
        "for layer in many_unfrozen_vgg19_model.layers:\n",
        "    print(layer.name,layer.trainable)"
      ],
      "execution_count": 82,
      "outputs": [
        {
          "output_type": "stream",
          "text": [
            "input_7 False\n",
            "block1_conv1 False\n",
            "block1_conv2 False\n",
            "block1_pool False\n",
            "block2_conv1 False\n",
            "block2_conv2 False\n",
            "block2_pool True\n",
            "block3_conv1 True\n",
            "block3_conv2 True\n",
            "block3_conv3 True\n",
            "block3_conv4 True\n",
            "block3_pool True\n",
            "block4_conv1 True\n",
            "block4_conv2 True\n",
            "block4_conv3 True\n",
            "block4_conv4 True\n",
            "block4_pool True\n",
            "block5_conv1 True\n",
            "block5_conv2 True\n",
            "block5_conv3 True\n",
            "block5_conv4 True\n",
            "block5_pool True\n",
            "global_average_pooling2d_5 True\n",
            "dense_20 True\n",
            "dropout_15 True\n",
            "dense_21 True\n",
            "dropout_16 True\n",
            "dense_22 True\n",
            "dropout_17 True\n",
            "dense_23 True\n"
          ],
          "name": "stdout"
        }
      ]
    },
    {
      "cell_type": "code",
      "metadata": {
        "colab_type": "code",
        "id": "0kacZQ9-ra03",
        "colab": {}
      },
      "source": [
        "opt = tf.keras.optimizers.Adam(lr=0.001)\n",
        "# compile the model (should be done *after* setting layers to non-trainable)\n",
        "many_unfrozen_vgg19_model.compile(optimizer=opt, loss='categorical_crossentropy',metrics=['accuracy'])"
      ],
      "execution_count": 0,
      "outputs": []
    },
    {
      "cell_type": "markdown",
      "metadata": {
        "colab_type": "text",
        "id": "RCwT3xSWra06"
      },
      "source": [
        "#### fitting the model"
      ]
    },
    {
      "cell_type": "code",
      "metadata": {
        "colab_type": "code",
        "outputId": "6f351924-3c85-4bb3-c5dd-415dd831a42b",
        "id": "yUzNFBPrra07",
        "colab": {
          "base_uri": "https://localhost:8080/",
          "height": 1000
        }
      },
      "source": [
        "train_steps = int(len(df_train)/batch_size) #total trains set / batch_size\n",
        "val_steps = int(len(df_val)/batch_size)\n",
        "\n",
        "print('train steps:',train_steps)\n",
        "print('val steps:',val_steps)\n",
        "\n",
        "epochs = 50\n",
        "\n",
        "\n",
        "model_filepath = 'many_unfrozen_vgg19.h5'\n",
        "mcp = ModelCheckpoint(model_filepath, monitor='accuracy', save_best_only=True, mode='max')\n",
        "\n",
        "# Train the model with validation \n",
        "many_unfrozen_vgg19_history = many_unfrozen_vgg19_model.fit( train_dataset, steps_per_epoch = train_steps,\n",
        "                   epochs = epochs,\n",
        "                   validation_data = valid_dataset,\n",
        "                   validation_steps = val_steps,\n",
        "                   callbacks=[mcp])"
      ],
      "execution_count": 84,
      "outputs": [
        {
          "output_type": "stream",
          "text": [
            "train steps: 24\n",
            "val steps: 3\n",
            "Train for 24 steps, validate for 3 steps\n",
            "Epoch 1/50\n",
            "24/24 [==============================] - 69s 3s/step - loss: 3.1667 - accuracy: 0.3309 - val_loss: 1.0976 - val_accuracy: 0.3528\n",
            "Epoch 2/50\n",
            "24/24 [==============================] - 65s 3s/step - loss: 1.1579 - accuracy: 0.3351 - val_loss: 1.0969 - val_accuracy: 0.3528\n",
            "Epoch 3/50\n",
            "24/24 [==============================] - 61s 3s/step - loss: 1.1009 - accuracy: 0.3292 - val_loss: 1.0979 - val_accuracy: 0.3417\n",
            "Epoch 4/50\n",
            "24/24 [==============================] - 61s 3s/step - loss: 1.0989 - accuracy: 0.3226 - val_loss: 1.0983 - val_accuracy: 0.3417\n",
            "Epoch 5/50\n",
            "24/24 [==============================] - 61s 3s/step - loss: 1.0987 - accuracy: 0.3271 - val_loss: 1.0984 - val_accuracy: 0.3417\n",
            "Epoch 6/50\n",
            "24/24 [==============================] - 64s 3s/step - loss: 1.0986 - accuracy: 0.3385 - val_loss: 1.0985 - val_accuracy: 0.3417\n",
            "Epoch 7/50\n",
            "24/24 [==============================] - 61s 3s/step - loss: 1.0986 - accuracy: 0.3299 - val_loss: 1.0986 - val_accuracy: 0.3417\n",
            "Epoch 8/50\n",
            "24/24 [==============================] - 61s 3s/step - loss: 1.0987 - accuracy: 0.3347 - val_loss: 1.0988 - val_accuracy: 0.3417\n",
            "Epoch 9/50\n",
            "24/24 [==============================] - 61s 3s/step - loss: 1.0989 - accuracy: 0.3319 - val_loss: 1.0990 - val_accuracy: 0.3056\n",
            "Epoch 10/50\n",
            "24/24 [==============================] - 64s 3s/step - loss: 1.0986 - accuracy: 0.3476 - val_loss: 1.0991 - val_accuracy: 0.3056\n",
            "Epoch 11/50\n",
            "24/24 [==============================] - 61s 3s/step - loss: 1.0987 - accuracy: 0.3243 - val_loss: 1.0987 - val_accuracy: 0.3056\n",
            "Epoch 12/50\n",
            "24/24 [==============================] - 61s 3s/step - loss: 1.0987 - accuracy: 0.3253 - val_loss: 1.0988 - val_accuracy: 0.3417\n",
            "Epoch 13/50\n",
            "24/24 [==============================] - 61s 3s/step - loss: 1.0989 - accuracy: 0.3198 - val_loss: 1.0991 - val_accuracy: 0.3056\n",
            "Epoch 14/50\n",
            "24/24 [==============================] - 61s 3s/step - loss: 1.0987 - accuracy: 0.3233 - val_loss: 1.0989 - val_accuracy: 0.3417\n",
            "Epoch 15/50\n",
            "24/24 [==============================] - 61s 3s/step - loss: 1.0987 - accuracy: 0.3222 - val_loss: 1.0988 - val_accuracy: 0.3056\n",
            "Epoch 16/50\n",
            "24/24 [==============================] - 61s 3s/step - loss: 1.0987 - accuracy: 0.3281 - val_loss: 1.0986 - val_accuracy: 0.3417\n",
            "Epoch 17/50\n",
            "24/24 [==============================] - 60s 3s/step - loss: 1.0987 - accuracy: 0.3253 - val_loss: 1.0989 - val_accuracy: 0.3056\n",
            "Epoch 18/50\n",
            "24/24 [==============================] - 61s 3s/step - loss: 1.0989 - accuracy: 0.3208 - val_loss: 1.0991 - val_accuracy: 0.3056\n",
            "Epoch 19/50\n",
            "24/24 [==============================] - 61s 3s/step - loss: 1.0989 - accuracy: 0.3233 - val_loss: 1.0986 - val_accuracy: 0.3417\n",
            "Epoch 20/50\n",
            "24/24 [==============================] - 61s 3s/step - loss: 1.0988 - accuracy: 0.3319 - val_loss: 1.0987 - val_accuracy: 0.3417\n",
            "Epoch 21/50\n",
            "24/24 [==============================] - 61s 3s/step - loss: 1.0987 - accuracy: 0.3264 - val_loss: 1.0990 - val_accuracy: 0.3056\n",
            "Epoch 22/50\n",
            "24/24 [==============================] - 61s 3s/step - loss: 1.0987 - accuracy: 0.3281 - val_loss: 1.0987 - val_accuracy: 0.3056\n",
            "Epoch 23/50\n",
            "24/24 [==============================] - 61s 3s/step - loss: 1.0987 - accuracy: 0.3323 - val_loss: 1.0990 - val_accuracy: 0.3056\n",
            "Epoch 24/50\n",
            "24/24 [==============================] - 62s 3s/step - loss: 1.0989 - accuracy: 0.3247 - val_loss: 1.0987 - val_accuracy: 0.3417\n",
            "Epoch 25/50\n",
            "24/24 [==============================] - 61s 3s/step - loss: 1.0986 - accuracy: 0.3351 - val_loss: 1.0990 - val_accuracy: 0.3056\n",
            "Epoch 26/50\n",
            "24/24 [==============================] - 61s 3s/step - loss: 1.0987 - accuracy: 0.3278 - val_loss: 1.0992 - val_accuracy: 0.3056\n",
            "Epoch 27/50\n",
            "24/24 [==============================] - 61s 3s/step - loss: 1.0989 - accuracy: 0.3142 - val_loss: 1.0989 - val_accuracy: 0.3417\n",
            "Epoch 28/50\n",
            "24/24 [==============================] - 61s 3s/step - loss: 1.0989 - accuracy: 0.3174 - val_loss: 1.0993 - val_accuracy: 0.3056\n",
            "Epoch 29/50\n",
            "24/24 [==============================] - 61s 3s/step - loss: 1.0988 - accuracy: 0.3302 - val_loss: 1.0990 - val_accuracy: 0.3417\n",
            "Epoch 30/50\n",
            "24/24 [==============================] - 61s 3s/step - loss: 1.0987 - accuracy: 0.3274 - val_loss: 1.0988 - val_accuracy: 0.3417\n",
            "Epoch 31/50\n",
            "24/24 [==============================] - 61s 3s/step - loss: 1.0986 - accuracy: 0.3354 - val_loss: 1.0986 - val_accuracy: 0.3417\n",
            "Epoch 32/50\n",
            "24/24 [==============================] - 61s 3s/step - loss: 1.0987 - accuracy: 0.3253 - val_loss: 1.0987 - val_accuracy: 0.3417\n",
            "Epoch 33/50\n",
            "24/24 [==============================] - 61s 3s/step - loss: 1.0989 - accuracy: 0.3333 - val_loss: 1.0989 - val_accuracy: 0.3417\n",
            "Epoch 34/50\n",
            "24/24 [==============================] - 61s 3s/step - loss: 1.0986 - accuracy: 0.3469 - val_loss: 1.0990 - val_accuracy: 0.3417\n",
            "Epoch 35/50\n",
            "24/24 [==============================] - 61s 3s/step - loss: 1.0987 - accuracy: 0.3212 - val_loss: 1.0990 - val_accuracy: 0.3056\n",
            "Epoch 36/50\n",
            "24/24 [==============================] - 61s 3s/step - loss: 1.0988 - accuracy: 0.3226 - val_loss: 1.0989 - val_accuracy: 0.3417\n",
            "Epoch 37/50\n",
            "24/24 [==============================] - 60s 3s/step - loss: 1.0990 - accuracy: 0.3226 - val_loss: 1.0988 - val_accuracy: 0.3056\n",
            "Epoch 38/50\n",
            "24/24 [==============================] - 60s 3s/step - loss: 1.0987 - accuracy: 0.3278 - val_loss: 1.0987 - val_accuracy: 0.3417\n",
            "Epoch 39/50\n",
            "24/24 [==============================] - 60s 3s/step - loss: 1.0988 - accuracy: 0.3344 - val_loss: 1.0987 - val_accuracy: 0.3417\n",
            "Epoch 40/50\n",
            "24/24 [==============================] - 60s 3s/step - loss: 1.0987 - accuracy: 0.3361 - val_loss: 1.0988 - val_accuracy: 0.3417\n",
            "Epoch 41/50\n",
            "24/24 [==============================] - 60s 3s/step - loss: 1.0988 - accuracy: 0.3187 - val_loss: 1.0986 - val_accuracy: 0.3417\n",
            "Epoch 42/50\n",
            "24/24 [==============================] - 61s 3s/step - loss: 1.0987 - accuracy: 0.3347 - val_loss: 1.0987 - val_accuracy: 0.3417\n",
            "Epoch 43/50\n",
            "24/24 [==============================] - 60s 3s/step - loss: 1.0987 - accuracy: 0.3337 - val_loss: 1.0989 - val_accuracy: 0.3056\n",
            "Epoch 44/50\n",
            "24/24 [==============================] - 61s 3s/step - loss: 1.0985 - accuracy: 0.3392 - val_loss: 1.0989 - val_accuracy: 0.3056\n",
            "Epoch 45/50\n",
            "24/24 [==============================] - 61s 3s/step - loss: 1.0988 - accuracy: 0.3167 - val_loss: 1.0989 - val_accuracy: 0.3417\n",
            "Epoch 46/50\n",
            "24/24 [==============================] - 61s 3s/step - loss: 1.0986 - accuracy: 0.3365 - val_loss: 1.0989 - val_accuracy: 0.3056\n",
            "Epoch 47/50\n",
            "24/24 [==============================] - 61s 3s/step - loss: 1.0988 - accuracy: 0.3344 - val_loss: 1.0988 - val_accuracy: 0.3417\n",
            "Epoch 48/50\n",
            "24/24 [==============================] - 61s 3s/step - loss: 1.0987 - accuracy: 0.3361 - val_loss: 1.0992 - val_accuracy: 0.3056\n",
            "Epoch 49/50\n",
            "24/24 [==============================] - 61s 3s/step - loss: 1.0988 - accuracy: 0.3385 - val_loss: 1.0987 - val_accuracy: 0.3417\n",
            "Epoch 50/50\n",
            "24/24 [==============================] - 61s 3s/step - loss: 1.0987 - accuracy: 0.3385 - val_loss: 1.0985 - val_accuracy: 0.3417\n"
          ],
          "name": "stdout"
        }
      ]
    },
    {
      "cell_type": "markdown",
      "metadata": {
        "colab_type": "text",
        "id": "Zt-oQh62ra0_"
      },
      "source": [
        "#### testing the model"
      ]
    },
    {
      "cell_type": "code",
      "metadata": {
        "colab_type": "code",
        "outputId": "06190b0e-3c05-4793-d10e-a83911bea44c",
        "id": "Fl68CpSdra1A",
        "colab": {
          "base_uri": "https://localhost:8080/",
          "height": 53
        }
      },
      "source": [
        "test_steps = int(len(df_test)/batch_size)\n",
        "\n",
        "metrics = many_unfrozen_vgg19_model.evaluate(test_dataset,\n",
        "                   steps = test_steps)\n",
        "print(\"model accuracy:\",metrics[1])"
      ],
      "execution_count": 87,
      "outputs": [
        {
          "output_type": "stream",
          "text": [
            "3/3 [==============================] - 4s 1s/step - loss: 1.0990 - accuracy: 0.3083\n",
            "model accuracy: 0.30833334\n"
          ],
          "name": "stdout"
        }
      ]
    },
    {
      "cell_type": "markdown",
      "metadata": {
        "colab_type": "text",
        "id": "28sBerOlyTh9"
      },
      "source": [
        "#### plotting training"
      ]
    },
    {
      "cell_type": "code",
      "metadata": {
        "colab_type": "code",
        "outputId": "73f5614e-8b35-43d8-cfd4-c19b1c277ccf",
        "id": "CUvVwNJRyTiC",
        "colab": {
          "base_uri": "https://localhost:8080/",
          "height": 573
        }
      },
      "source": [
        "plot_hist(many_unfrozen_vgg19_history, 'many_unfrozen_vgg19')"
      ],
      "execution_count": 88,
      "outputs": [
        {
          "output_type": "display_data",
          "data": {
            "image/png": "[encoded data removed]",
            "text/plain": [
              "<Figure size 432x288 with 1 Axes>"
            ]
          },
          "metadata": {
            "tags": []
          }
        },
        {
          "output_type": "display_data",
          "data": {
            "image/png": "[encoded data removed]",
            "text/plain": [
              "<Figure size 432x288 with 1 Axes>"
            ]
          },
          "metadata": {
            "tags": []
          }
        }
      ]
    },
    {
      "cell_type": "markdown",
      "metadata": {
        "colab_type": "text",
        "id": "HbIQBb3zra1D"
      },
      "source": [
        "#### saving the history of the fitting"
      ]
    },
    {
      "cell_type": "code",
      "metadata": {
        "colab_type": "code",
        "outputId": "c199e699-bedc-4a73-cdc4-0208478916d6",
        "id": "GpwbYJB5ra1D",
        "colab": {
          "base_uri": "https://localhost:8080/",
          "height": 35
        }
      },
      "source": [
        "with open(cwd + '/trainHistoryDict/many_unfrozen_vgg19_history.p', 'wb') as file_pi:\n",
        "        pickle.dump(many_unfrozen_vgg19_history.history, file_pi)\n",
        "print('history saved')"
      ],
      "execution_count": 89,
      "outputs": [
        {
          "output_type": "stream",
          "text": [
            "history saved\n"
          ],
          "name": "stdout"
        }
      ]
    },
    {
      "cell_type": "code",
      "metadata": {
        "id": "KC-jGyHnrTh9",
        "colab_type": "code",
        "colab": {}
      },
      "source": [
        ""
      ],
      "execution_count": 0,
      "outputs": []
    },
    {
      "cell_type": "markdown",
      "metadata": {
        "id": "WdsCsXkOu7mF",
        "colab_type": "text"
      },
      "source": [
        "## entirely unfrozen"
      ]
    },
    {
      "cell_type": "code",
      "metadata": {
        "colab_type": "code",
        "id": "FrR6YujPvAhK",
        "colab": {}
      },
      "source": [
        "input_shapes = (200, 200, 3)\n",
        "base_vgg19_3 = tf.keras.applications.VGG19(weights='imagenet', include_top=False, input_shape=input_shapes,pooling=None)"
      ],
      "execution_count": 0,
      "outputs": []
    },
    {
      "cell_type": "markdown",
      "metadata": {
        "colab_type": "text",
        "id": "AErdeAAY1rsN"
      },
      "source": [
        "#### modifying slightly"
      ]
    },
    {
      "cell_type": "code",
      "metadata": {
        "colab_type": "code",
        "id": "7-OTdP3-1rsT",
        "colab": {}
      },
      "source": [
        "# add a global spatial average pooling layer\n",
        "x = base_vgg19_3.output\n",
        "\n",
        "x = GlobalAveragePooling2D()(x)\n",
        "\n",
        "# let's add a fully-connected layer\n",
        "x = Dense(512, activation='relu')(x)\n",
        "\n",
        "x = Dropout(0.3)(x)\n",
        "\n",
        "# let's add a fully-connected layer\n",
        "x = Dense(512, activation='relu')(x)\n",
        "\n",
        "x = Dropout(0.3)(x)\n",
        "\n",
        "# let's add a fully-connected layer\n",
        "x = Dense(512, activation='relu')(x)\n",
        "\n",
        "x = Dropout(0.3)(x)\n",
        "\n",
        "# and a logits layer -- let's say we have 3 classes\n",
        "predictions = Dense(3, activation='softmax')(x)"
      ],
      "execution_count": 0,
      "outputs": []
    },
    {
      "cell_type": "markdown",
      "metadata": {
        "id": "UDrRFGzn1z61",
        "colab_type": "text"
      },
      "source": [
        "#### creating model object"
      ]
    },
    {
      "cell_type": "code",
      "metadata": {
        "id": "lstePI_NvN-5",
        "colab_type": "code",
        "colab": {}
      },
      "source": [
        "# this is the model we will train\n",
        "unfrozen_vgg19_model = Model(inputs=base_vgg19_3.input, outputs=predictions)"
      ],
      "execution_count": 0,
      "outputs": []
    },
    {
      "cell_type": "code",
      "metadata": {
        "id": "1DulDS0ovX2h",
        "colab_type": "code",
        "outputId": "7dda992f-104c-4728-8a85-0e627aff8985",
        "colab": {
          "base_uri": "https://localhost:8080/",
          "height": 557
        }
      },
      "source": [
        "for layer in unfrozen_vgg19_model.layers:\n",
        "    print(layer.name)\n",
        "    layer.trainable = True"
      ],
      "execution_count": 93,
      "outputs": [
        {
          "output_type": "stream",
          "text": [
            "input_8\n",
            "block1_conv1\n",
            "block1_conv2\n",
            "block1_pool\n",
            "block2_conv1\n",
            "block2_conv2\n",
            "block2_pool\n",
            "block3_conv1\n",
            "block3_conv2\n",
            "block3_conv3\n",
            "block3_conv4\n",
            "block3_pool\n",
            "block4_conv1\n",
            "block4_conv2\n",
            "block4_conv3\n",
            "block4_conv4\n",
            "block4_pool\n",
            "block5_conv1\n",
            "block5_conv2\n",
            "block5_conv3\n",
            "block5_conv4\n",
            "block5_pool\n",
            "global_average_pooling2d_6\n",
            "dense_24\n",
            "dropout_18\n",
            "dense_25\n",
            "dropout_19\n",
            "dense_26\n",
            "dropout_20\n",
            "dense_27\n"
          ],
          "name": "stdout"
        }
      ]
    },
    {
      "cell_type": "code",
      "metadata": {
        "id": "DB5aU4CSvgE4",
        "colab_type": "code",
        "outputId": "729e1534-9fa1-4423-f062-53e69071bc6a",
        "colab": {
          "base_uri": "https://localhost:8080/",
          "height": 557
        }
      },
      "source": [
        "for layer in unfrozen_vgg19_model.layers:\n",
        "    print(layer.name,' Trainable =',layer.trainable)"
      ],
      "execution_count": 94,
      "outputs": [
        {
          "output_type": "stream",
          "text": [
            "input_8  Trainable = True\n",
            "block1_conv1  Trainable = True\n",
            "block1_conv2  Trainable = True\n",
            "block1_pool  Trainable = True\n",
            "block2_conv1  Trainable = True\n",
            "block2_conv2  Trainable = True\n",
            "block2_pool  Trainable = True\n",
            "block3_conv1  Trainable = True\n",
            "block3_conv2  Trainable = True\n",
            "block3_conv3  Trainable = True\n",
            "block3_conv4  Trainable = True\n",
            "block3_pool  Trainable = True\n",
            "block4_conv1  Trainable = True\n",
            "block4_conv2  Trainable = True\n",
            "block4_conv3  Trainable = True\n",
            "block4_conv4  Trainable = True\n",
            "block4_pool  Trainable = True\n",
            "block5_conv1  Trainable = True\n",
            "block5_conv2  Trainable = True\n",
            "block5_conv3  Trainable = True\n",
            "block5_conv4  Trainable = True\n",
            "block5_pool  Trainable = True\n",
            "global_average_pooling2d_6  Trainable = True\n",
            "dense_24  Trainable = True\n",
            "dropout_18  Trainable = True\n",
            "dense_25  Trainable = True\n",
            "dropout_19  Trainable = True\n",
            "dense_26  Trainable = True\n",
            "dropout_20  Trainable = True\n",
            "dense_27  Trainable = True\n"
          ],
          "name": "stdout"
        }
      ]
    },
    {
      "cell_type": "code",
      "metadata": {
        "id": "SDcJ1AJW_bZr",
        "colab_type": "code",
        "outputId": "7fffe521-6546-4561-cad6-b570487a1bfa",
        "colab": {
          "base_uri": "https://localhost:8080/",
          "height": 1000
        }
      },
      "source": [
        "unfrozen_vgg19_model.summary()"
      ],
      "execution_count": 95,
      "outputs": [
        {
          "output_type": "stream",
          "text": [
            "Model: \"model_6\"\n",
            "_________________________________________________________________\n",
            "Layer (type)                 Output Shape              Param #   \n",
            "=================================================================\n",
            "input_8 (InputLayer)         [(None, 200, 200, 3)]     0         \n",
            "_________________________________________________________________\n",
            "block1_conv1 (Conv2D)        (None, 200, 200, 64)      1792      \n",
            "_________________________________________________________________\n",
            "block1_conv2 (Conv2D)        (None, 200, 200, 64)      36928     \n",
            "_________________________________________________________________\n",
            "block1_pool (MaxPooling2D)   (None, 100, 100, 64)      0         \n",
            "_________________________________________________________________\n",
            "block2_conv1 (Conv2D)        (None, 100, 100, 128)     73856     \n",
            "_________________________________________________________________\n",
            "block2_conv2 (Conv2D)        (None, 100, 100, 128)     147584    \n",
            "_________________________________________________________________\n",
            "block2_pool (MaxPooling2D)   (None, 50, 50, 128)       0         \n",
            "_________________________________________________________________\n",
            "block3_conv1 (Conv2D)        (None, 50, 50, 256)       295168    \n",
            "_________________________________________________________________\n",
            "block3_conv2 (Conv2D)        (None, 50, 50, 256)       590080    \n",
            "_________________________________________________________________\n",
            "block3_conv3 (Conv2D)        (None, 50, 50, 256)       590080    \n",
            "_________________________________________________________________\n",
            "block3_conv4 (Conv2D)        (None, 50, 50, 256)       590080    \n",
            "_________________________________________________________________\n",
            "block3_pool (MaxPooling2D)   (None, 25, 25, 256)       0         \n",
            "_________________________________________________________________\n",
            "block4_conv1 (Conv2D)        (None, 25, 25, 512)       1180160   \n",
            "_________________________________________________________________\n",
            "block4_conv2 (Conv2D)        (None, 25, 25, 512)       2359808   \n",
            "_________________________________________________________________\n",
            "block4_conv3 (Conv2D)        (None, 25, 25, 512)       2359808   \n",
            "_________________________________________________________________\n",
            "block4_conv4 (Conv2D)        (None, 25, 25, 512)       2359808   \n",
            "_________________________________________________________________\n",
            "block4_pool (MaxPooling2D)   (None, 12, 12, 512)       0         \n",
            "_________________________________________________________________\n",
            "block5_conv1 (Conv2D)        (None, 12, 12, 512)       2359808   \n",
            "_________________________________________________________________\n",
            "block5_conv2 (Conv2D)        (None, 12, 12, 512)       2359808   \n",
            "_________________________________________________________________\n",
            "block5_conv3 (Conv2D)        (None, 12, 12, 512)       2359808   \n",
            "_________________________________________________________________\n",
            "block5_conv4 (Conv2D)        (None, 12, 12, 512)       2359808   \n",
            "_________________________________________________________________\n",
            "block5_pool (MaxPooling2D)   (None, 6, 6, 512)         0         \n",
            "_________________________________________________________________\n",
            "global_average_pooling2d_6 ( (None, 512)               0         \n",
            "_________________________________________________________________\n",
            "dense_24 (Dense)             (None, 512)               262656    \n",
            "_________________________________________________________________\n",
            "dropout_18 (Dropout)         (None, 512)               0         \n",
            "_________________________________________________________________\n",
            "dense_25 (Dense)             (None, 512)               262656    \n",
            "_________________________________________________________________\n",
            "dropout_19 (Dropout)         (None, 512)               0         \n",
            "_________________________________________________________________\n",
            "dense_26 (Dense)             (None, 512)               262656    \n",
            "_________________________________________________________________\n",
            "dropout_20 (Dropout)         (None, 512)               0         \n",
            "_________________________________________________________________\n",
            "dense_27 (Dense)             (None, 3)                 1539      \n",
            "=================================================================\n",
            "Total params: 20,813,891\n",
            "Trainable params: 20,813,891\n",
            "Non-trainable params: 0\n",
            "_________________________________________________________________\n"
          ],
          "name": "stdout"
        }
      ]
    },
    {
      "cell_type": "markdown",
      "metadata": {
        "id": "DbqL6LGoxGgT",
        "colab_type": "text"
      },
      "source": [
        "#### setting the optimizer"
      ]
    },
    {
      "cell_type": "code",
      "metadata": {
        "id": "bh4CDz20vo7f",
        "colab_type": "code",
        "colab": {}
      },
      "source": [
        "opt = tf.keras.optimizers.Adam(lr=0.001)\n",
        "opt1 = tf.keras.optimizers.RMSprop(lr=1e-4)\n",
        "# compile the model (should be done *after* setting layers to non-trainable)\n",
        "unfrozen_vgg19_model.compile(optimizer=opt, loss='categorical_crossentropy',metrics=['accuracy'])"
      ],
      "execution_count": 0,
      "outputs": []
    },
    {
      "cell_type": "markdown",
      "metadata": {
        "id": "6vJQLMr9w64c",
        "colab_type": "text"
      },
      "source": [
        "#### fitting the model"
      ]
    },
    {
      "cell_type": "code",
      "metadata": {
        "id": "CZFZayCIv6Oo",
        "colab_type": "code",
        "outputId": "078113d6-a096-4999-9798-786a054afd3e",
        "colab": {
          "base_uri": "https://localhost:8080/",
          "height": 1000
        }
      },
      "source": [
        "train_steps = int(len(df_train)/batch_size) #total trains set / batch_size\n",
        "val_steps = int(len(df_val)/batch_size)\n",
        "\n",
        "print('train steps:',train_steps)\n",
        "print('val steps:',val_steps)\n",
        "\n",
        "epochs = 50\n",
        "\n",
        "\n",
        "model_filepath = 'unfrozen_vgg19.h5'\n",
        "mcp = ModelCheckpoint(model_filepath, monitor='accuracy', save_best_only=True, mode='max')\n",
        "\n",
        "# Train the model with validation \n",
        "unfrozen_vgg19_history = unfrozen_vgg19_model.fit( train_dataset, steps_per_epoch = train_steps,\n",
        "                   epochs = epochs,\n",
        "                   validation_data = valid_dataset,\n",
        "                   validation_steps = val_steps,\n",
        "                   callbacks=[mcp])"
      ],
      "execution_count": 97,
      "outputs": [
        {
          "output_type": "stream",
          "text": [
            "train steps: 24\n",
            "val steps: 3\n",
            "Train for 24 steps, validate for 3 steps\n",
            "Epoch 1/50\n",
            "24/24 [==============================] - 95s 4s/step - loss: 5.6406 - accuracy: 0.3438 - val_loss: 1.0977 - val_accuracy: 0.3528\n",
            "Epoch 2/50\n",
            "24/24 [==============================] - 85s 4s/step - loss: 1.1020 - accuracy: 0.3271 - val_loss: 1.0976 - val_accuracy: 0.3528\n",
            "Epoch 3/50\n",
            "24/24 [==============================] - 85s 4s/step - loss: 1.0989 - accuracy: 0.3299 - val_loss: 1.0981 - val_accuracy: 0.3528\n",
            "Epoch 4/50\n",
            "24/24 [==============================] - 84s 3s/step - loss: 1.0988 - accuracy: 0.3205 - val_loss: 1.0989 - val_accuracy: 0.3056\n",
            "Epoch 5/50\n",
            "24/24 [==============================] - 84s 3s/step - loss: 1.0988 - accuracy: 0.3170 - val_loss: 1.0992 - val_accuracy: 0.3417\n",
            "Epoch 6/50\n",
            "24/24 [==============================] - 84s 4s/step - loss: 1.0986 - accuracy: 0.3385 - val_loss: 1.0987 - val_accuracy: 0.3417\n",
            "Epoch 7/50\n",
            "24/24 [==============================] - 84s 3s/step - loss: 1.0988 - accuracy: 0.3365 - val_loss: 1.0988 - val_accuracy: 0.3417\n",
            "Epoch 8/50\n",
            "24/24 [==============================] - 84s 4s/step - loss: 1.0987 - accuracy: 0.3257 - val_loss: 1.0993 - val_accuracy: 0.3056\n",
            "Epoch 9/50\n",
            "24/24 [==============================] - 84s 4s/step - loss: 1.0990 - accuracy: 0.3215 - val_loss: 1.0986 - val_accuracy: 0.3417\n",
            "Epoch 10/50\n",
            "24/24 [==============================] - 84s 3s/step - loss: 1.0989 - accuracy: 0.3167 - val_loss: 1.0991 - val_accuracy: 0.3056\n",
            "Epoch 11/50\n",
            "24/24 [==============================] - 84s 3s/step - loss: 1.0992 - accuracy: 0.3319 - val_loss: 1.0991 - val_accuracy: 0.3056\n",
            "Epoch 12/50\n",
            "24/24 [==============================] - 84s 4s/step - loss: 1.0987 - accuracy: 0.3351 - val_loss: 1.0988 - val_accuracy: 0.3417\n",
            "Epoch 13/50\n",
            "24/24 [==============================] - 84s 4s/step - loss: 1.0989 - accuracy: 0.3260 - val_loss: 1.0990 - val_accuracy: 0.3056\n",
            "Epoch 14/50\n",
            "24/24 [==============================] - 84s 3s/step - loss: 1.0990 - accuracy: 0.3361 - val_loss: 1.0989 - val_accuracy: 0.3417\n",
            "Epoch 15/50\n",
            "24/24 [==============================] - 84s 3s/step - loss: 1.0985 - accuracy: 0.3313 - val_loss: 1.0987 - val_accuracy: 0.3417\n",
            "Epoch 16/50\n",
            "24/24 [==============================] - 84s 3s/step - loss: 1.0987 - accuracy: 0.3389 - val_loss: 1.0987 - val_accuracy: 0.3056\n",
            "Epoch 17/50\n",
            "24/24 [==============================] - 84s 4s/step - loss: 1.0986 - accuracy: 0.3309 - val_loss: 1.0988 - val_accuracy: 0.3417\n",
            "Epoch 18/50\n",
            "24/24 [==============================] - 84s 4s/step - loss: 1.0988 - accuracy: 0.3378 - val_loss: 1.0985 - val_accuracy: 0.3417\n",
            "Epoch 19/50\n",
            "24/24 [==============================] - 84s 4s/step - loss: 1.0989 - accuracy: 0.3323 - val_loss: 1.0991 - val_accuracy: 0.3056\n",
            "Epoch 20/50\n",
            "24/24 [==============================] - 84s 4s/step - loss: 1.0989 - accuracy: 0.3302 - val_loss: 1.0988 - val_accuracy: 0.3417\n",
            "Epoch 21/50\n",
            "24/24 [==============================] - 84s 3s/step - loss: 1.0990 - accuracy: 0.3299 - val_loss: 1.0989 - val_accuracy: 0.3056\n",
            "Epoch 22/50\n",
            "24/24 [==============================] - 84s 4s/step - loss: 1.0986 - accuracy: 0.3413 - val_loss: 1.0990 - val_accuracy: 0.3056\n",
            "Epoch 23/50\n",
            "24/24 [==============================] - 85s 4s/step - loss: 1.0987 - accuracy: 0.3247 - val_loss: 1.0990 - val_accuracy: 0.3417\n",
            "Epoch 24/50\n",
            "24/24 [==============================] - 84s 4s/step - loss: 1.0987 - accuracy: 0.3427 - val_loss: 1.0989 - val_accuracy: 0.3417\n",
            "Epoch 25/50\n",
            "24/24 [==============================] - 84s 4s/step - loss: 1.0986 - accuracy: 0.3309 - val_loss: 1.0989 - val_accuracy: 0.3417\n",
            "Epoch 26/50\n",
            "24/24 [==============================] - 84s 3s/step - loss: 1.0989 - accuracy: 0.3250 - val_loss: 1.0988 - val_accuracy: 0.3056\n",
            "Epoch 27/50\n",
            "24/24 [==============================] - 84s 4s/step - loss: 1.0994 - accuracy: 0.3181 - val_loss: 1.0992 - val_accuracy: 0.3056\n",
            "Epoch 28/50\n",
            "24/24 [==============================] - 84s 4s/step - loss: 1.0991 - accuracy: 0.3326 - val_loss: 1.0990 - val_accuracy: 0.3056\n",
            "Epoch 29/50\n",
            "24/24 [==============================] - 84s 4s/step - loss: 1.0991 - accuracy: 0.3292 - val_loss: 1.0985 - val_accuracy: 0.3417\n",
            "Epoch 30/50\n",
            "24/24 [==============================] - 84s 3s/step - loss: 1.0984 - accuracy: 0.3417 - val_loss: 1.0989 - val_accuracy: 0.3417\n",
            "Epoch 31/50\n",
            "24/24 [==============================] - 84s 4s/step - loss: 1.0988 - accuracy: 0.3267 - val_loss: 1.0990 - val_accuracy: 0.3417\n",
            "Epoch 32/50\n",
            "24/24 [==============================] - 84s 3s/step - loss: 1.0988 - accuracy: 0.3313 - val_loss: 1.0988 - val_accuracy: 0.3417\n",
            "Epoch 33/50\n",
            "24/24 [==============================] - 84s 3s/step - loss: 1.0986 - accuracy: 0.3309 - val_loss: 1.0986 - val_accuracy: 0.3056\n",
            "Epoch 34/50\n",
            "24/24 [==============================] - 85s 4s/step - loss: 1.0988 - accuracy: 0.3351 - val_loss: 1.0988 - val_accuracy: 0.3417\n",
            "Epoch 35/50\n",
            "24/24 [==============================] - 84s 4s/step - loss: 1.0986 - accuracy: 0.3420 - val_loss: 1.0988 - val_accuracy: 0.3056\n",
            "Epoch 36/50\n",
            "24/24 [==============================] - 84s 4s/step - loss: 1.0987 - accuracy: 0.3333 - val_loss: 1.0990 - val_accuracy: 0.3056\n",
            "Epoch 37/50\n",
            "24/24 [==============================] - 84s 4s/step - loss: 1.0990 - accuracy: 0.3271 - val_loss: 1.0987 - val_accuracy: 0.3417\n",
            "Epoch 38/50\n",
            "24/24 [==============================] - 84s 3s/step - loss: 1.0988 - accuracy: 0.3274 - val_loss: 1.0991 - val_accuracy: 0.3417\n",
            "Epoch 39/50\n",
            "24/24 [==============================] - 84s 3s/step - loss: 1.0986 - accuracy: 0.3354 - val_loss: 1.0989 - val_accuracy: 0.3056\n",
            "Epoch 40/50\n",
            "24/24 [==============================] - 84s 3s/step - loss: 1.0985 - accuracy: 0.3413 - val_loss: 1.0986 - val_accuracy: 0.3417\n",
            "Epoch 41/50\n",
            "24/24 [==============================] - 84s 4s/step - loss: 1.0987 - accuracy: 0.3267 - val_loss: 1.0988 - val_accuracy: 0.3417\n",
            "Epoch 42/50\n",
            "24/24 [==============================] - 84s 3s/step - loss: 1.0989 - accuracy: 0.3358 - val_loss: 1.0988 - val_accuracy: 0.3417\n",
            "Epoch 43/50\n",
            "24/24 [==============================] - 85s 4s/step - loss: 1.0988 - accuracy: 0.3406 - val_loss: 1.0990 - val_accuracy: 0.3417\n",
            "Epoch 44/50\n",
            "24/24 [==============================] - 84s 3s/step - loss: 1.0988 - accuracy: 0.3389 - val_loss: 1.0986 - val_accuracy: 0.3417\n",
            "Epoch 45/50\n",
            "24/24 [==============================] - 84s 4s/step - loss: 1.0987 - accuracy: 0.3434 - val_loss: 1.0984 - val_accuracy: 0.3417\n",
            "Epoch 46/50\n",
            "24/24 [==============================] - 84s 4s/step - loss: 1.0989 - accuracy: 0.3417 - val_loss: 1.0992 - val_accuracy: 0.3056\n",
            "Epoch 47/50\n",
            "24/24 [==============================] - 84s 3s/step - loss: 1.0990 - accuracy: 0.3281 - val_loss: 1.0990 - val_accuracy: 0.3417\n",
            "Epoch 48/50\n",
            "24/24 [==============================] - 84s 3s/step - loss: 1.0987 - accuracy: 0.3344 - val_loss: 1.0989 - val_accuracy: 0.3417\n",
            "Epoch 49/50\n",
            "24/24 [==============================] - 84s 3s/step - loss: 1.0987 - accuracy: 0.3427 - val_loss: 1.0993 - val_accuracy: 0.3417\n",
            "Epoch 50/50\n",
            "24/24 [==============================] - 84s 4s/step - loss: 1.0989 - accuracy: 0.3212 - val_loss: 1.0989 - val_accuracy: 0.3417\n"
          ],
          "name": "stdout"
        }
      ]
    },
    {
      "cell_type": "markdown",
      "metadata": {
        "colab_type": "text",
        "id": "sRYx4CU26iY-"
      },
      "source": [
        "#### testing the model"
      ]
    },
    {
      "cell_type": "code",
      "metadata": {
        "colab_type": "code",
        "outputId": "0b2c3a10-dc62-475a-e5fd-bf7bb11c99c2",
        "id": "xQWRFzCy6iZN",
        "colab": {
          "base_uri": "https://localhost:8080/",
          "height": 53
        }
      },
      "source": [
        "test_steps = int(len(df_test)/batch_size)\n",
        "\n",
        "metrics = unfrozen_vgg19_model.evaluate(test_dataset,\n",
        "                   steps = test_steps)\n",
        "print(\"model accuracy:\",metrics[1])"
      ],
      "execution_count": 99,
      "outputs": [
        {
          "output_type": "stream",
          "text": [
            "3/3 [==============================] - 4s 1s/step - loss: 1.0988 - accuracy: 0.3083\n",
            "model accuracy: 0.30833334\n"
          ],
          "name": "stdout"
        }
      ]
    },
    {
      "cell_type": "markdown",
      "metadata": {
        "colab_type": "text",
        "id": "fOyLO9B16OAD"
      },
      "source": [
        "#### plotting training"
      ]
    },
    {
      "cell_type": "code",
      "metadata": {
        "colab_type": "code",
        "outputId": "592f6d9a-c9ea-413d-bc21-3ec66955210a",
        "id": "VnsayjlZ6OAM",
        "colab": {
          "base_uri": "https://localhost:8080/",
          "height": 573
        }
      },
      "source": [
        "plot_hist(unfrozen_vgg19_history, 'unfrozen_vgg19')"
      ],
      "execution_count": 100,
      "outputs": [
        {
          "output_type": "display_data",
          "data": {
            "image/png": "[encoded data removed]",
            "text/plain": [
              "<Figure size 432x288 with 1 Axes>"
            ]
          },
          "metadata": {
            "tags": []
          }
        },
        {
          "output_type": "display_data",
          "data": {
            "image/png": "[encoded data removed]",
            "text/plain": [
              "<Figure size 432x288 with 1 Axes>"
            ]
          },
          "metadata": {
            "tags": []
          }
        }
      ]
    },
    {
      "cell_type": "markdown",
      "metadata": {
        "id": "Ih3vofhBw90T",
        "colab_type": "text"
      },
      "source": [
        "#### saving the history of the fitting"
      ]
    },
    {
      "cell_type": "code",
      "metadata": {
        "id": "_IKqpLg2wbi0",
        "colab_type": "code",
        "outputId": "e00bd4d1-f405-4cdc-d31f-f654fa39afbf",
        "colab": {
          "base_uri": "https://localhost:8080/",
          "height": 35
        }
      },
      "source": [
        "with open(cwd + '/trainHistoryDict/unfrozen_vgg19_history.p', 'wb') as file_pi:\n",
        "        pickle.dump(unfrozen_vgg19_history.history, file_pi)\n",
        "print('history saved')"
      ],
      "execution_count": 101,
      "outputs": [
        {
          "output_type": "stream",
          "text": [
            "history saved\n"
          ],
          "name": "stdout"
        }
      ]
    },
    {
      "cell_type": "code",
      "metadata": {
        "id": "fkt8dlpe6r83",
        "colab_type": "code",
        "colab": {}
      },
      "source": [
        ""
      ],
      "execution_count": 0,
      "outputs": []
    }
  ]
}