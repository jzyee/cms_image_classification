{
  "nbformat": 4,
  "nbformat_minor": 0,
  "metadata": {
    "colab": {
      "name": "Resnet50_quark_classification_adam.ipynb",
      "provenance": [],
      "collapsed_sections": [],
      "toc_visible": true
    },
    "kernelspec": {
      "name": "python3",
      "display_name": "Python 3"
    },
    "accelerator": "GPU"
  },
  "cells": [
    {
      "cell_type": "markdown",
      "metadata": {
        "id": "PI5RDzjpY4fy",
        "colab_type": "text"
      },
      "source": [
        "#notebook setup"
      ]
    },
    {
      "cell_type": "code",
      "metadata": {
        "id": "nNc8dLtXlcuJ",
        "colab_type": "code",
        "outputId": "5623931f-c585-4d99-c3a0-dbba4c783783",
        "colab": {
          "base_uri": "https://localhost:8080/",
          "height": 168
        }
      },
      "source": [
        "!pip install google-auth --upgrade\n",
        "!pip install grpcio --upgrade"
      ],
      "execution_count": 0,
      "outputs": [
        {
          "output_type": "stream",
          "text": [
            "Requirement already up-to-date: google-auth in /usr/local/lib/python3.6/dist-packages (1.10.0)\n",
            "Requirement already satisfied, skipping upgrade: pyasn1-modules>=0.2.1 in /usr/local/lib/python3.6/dist-packages (from google-auth) (0.2.7)\n",
            "Requirement already satisfied, skipping upgrade: cachetools<5.0,>=2.0.0 in /usr/local/lib/python3.6/dist-packages (from google-auth) (4.0.0)\n",
            "Requirement already satisfied, skipping upgrade: six>=1.9.0 in /usr/local/lib/python3.6/dist-packages (from google-auth) (1.12.0)\n",
            "Requirement already satisfied, skipping upgrade: setuptools>=40.3.0 in /usr/local/lib/python3.6/dist-packages (from google-auth) (42.0.2)\n",
            "Requirement already satisfied, skipping upgrade: rsa<4.1,>=3.1.4 in /usr/local/lib/python3.6/dist-packages (from google-auth) (4.0)\n",
            "Requirement already satisfied, skipping upgrade: pyasn1<0.5.0,>=0.4.6 in /usr/local/lib/python3.6/dist-packages (from pyasn1-modules>=0.2.1->google-auth) (0.4.8)\n",
            "Requirement already up-to-date: grpcio in /usr/local/lib/python3.6/dist-packages (1.26.0)\n",
            "Requirement already satisfied, skipping upgrade: six>=1.5.2 in /usr/local/lib/python3.6/dist-packages (from grpcio) (1.12.0)\n"
          ],
          "name": "stdout"
        }
      ]
    },
    {
      "cell_type": "code",
      "metadata": {
        "id": "CH7ZObaXX2it",
        "colab_type": "code",
        "outputId": "88f08019-06c2-44a1-df0f-9a5633c1df6e",
        "colab": {
          "base_uri": "https://localhost:8080/",
          "height": 67
        }
      },
      "source": [
        "!pip install -qq tf-nightly-gpu-2.0-preview"
      ],
      "execution_count": 0,
      "outputs": [
        {
          "output_type": "stream",
          "text": [
            "\u001b[K     |████████████████████████████████| 395.5MB 40kB/s \n",
            "\u001b[K     |████████████████████████████████| 450kB 54.4MB/s \n",
            "\u001b[K     |████████████████████████████████| 3.8MB 40.4MB/s \n",
            "\u001b[?25h"
          ],
          "name": "stdout"
        }
      ]
    },
    {
      "cell_type": "code",
      "metadata": {
        "id": "FIXnBwudYLjl",
        "colab_type": "code",
        "outputId": "f06b542b-adfb-4053-a5f2-03525e8c935a",
        "colab": {
          "base_uri": "https://localhost:8080/",
          "height": 50
        }
      },
      "source": [
        "import tensorflow as tf\n",
        "print(tf.__version__)\n",
        "device_name = tf.test.gpu_device_name()\n",
        "if device_name != '/device:GPU:0':\n",
        "  raise SystemError('GPU device not found')\n",
        "print('Found GPU at: {}'.format(device_name))"
      ],
      "execution_count": 0,
      "outputs": [
        {
          "output_type": "stream",
          "text": [
            "2.0.0-dev20191002\n",
            "Found GPU at: /device:GPU:0\n"
          ],
          "name": "stdout"
        }
      ]
    },
    {
      "cell_type": "code",
      "metadata": {
        "id": "ixmPfjVmYYQ-",
        "colab_type": "code",
        "colab": {}
      },
      "source": [
        "import sys\n",
        "try:\n",
        "    import ujson as json\n",
        "except ImportError:\n",
        "    try:\n",
        "        import simplejson as json\n",
        "    except ImportError:\n",
        "        import json\n",
        "\n",
        "import numpy as np\n",
        "import matplotlib.pyplot as plt\n",
        "import pandas as pd\n",
        "import scipy\n",
        "from sklearn.preprocessing import MinMaxScaler\n",
        "import pywt\n",
        "import os\n",
        "from PIL import Image\n",
        "# import tensorflow as tf\n",
        "from glob import glob\n",
        "\n",
        "from tensorflow.keras.preprocessing import image\n",
        "from tensorflow.keras.preprocessing.image import ImageDataGenerator\n",
        "\n",
        "from tensorflow.keras.models import Model,load_model,Sequential\n",
        "\n",
        "from tensorflow.keras.layers import Dense, GlobalAveragePooling2D, Dropout,Flatten, Input\n",
        "from tensorflow.keras import backend as K\n",
        "from tensorflow.keras.callbacks import EarlyStopping\n",
        "from tensorflow.keras.callbacks import ModelCheckpoint\n",
        "import pickle"
      ],
      "execution_count": 0,
      "outputs": []
    },
    {
      "cell_type": "code",
      "metadata": {
        "id": "8u0wv_jGZF-L",
        "colab_type": "code",
        "outputId": "9466dddf-83df-4323-80f9-4892ef1f33f3",
        "colab": {
          "base_uri": "https://localhost:8080/",
          "height": 34
        }
      },
      "source": [
        "from google.colab import drive\n",
        "drive.mount('/content/drive')"
      ],
      "execution_count": 0,
      "outputs": [
        {
          "output_type": "stream",
          "text": [
            "Drive already mounted at /content/drive; to attempt to forcibly remount, call drive.mount(\"/content/drive\", force_remount=True).\n"
          ],
          "name": "stdout"
        }
      ]
    },
    {
      "cell_type": "code",
      "metadata": {
        "id": "nngHwbgEhZOr",
        "colab_type": "code",
        "colab": {}
      },
      "source": [
        "\n",
        "def plot_hist(input_history, filename):\n",
        "  import os\n",
        "\n",
        "  folder = ['acc', 'loss']\n",
        "\n",
        "  directory = cwd + '/model_performance/'\n",
        "\n",
        "  for f in folder:\n",
        "    if not os.path.exists(directory + f):\n",
        "      os.makedirs(directory + f)\n",
        "\n",
        "  # summarize history for accuracy\n",
        "  # fig, ax = plt.subplots(1,2)\n",
        "  # plt.subplots_adjust(right=2)\n",
        "\n",
        "  plt.plot(input_history.history['accuracy'])\n",
        "  plt.plot(input_history.history['val_accuracy'])\n",
        "  plt.title('model accuracy')\n",
        "  plt.ylabel('accuracy')\n",
        "  plt.xlabel('epoch')\n",
        "  plt.legend(['train', 'test'], loc='upper left')\n",
        "\n",
        "  plt.savefig(cwd+'/model_performance/acc/' + filename + '.jpg')\n",
        "  plt.show()\n",
        "  \n",
        "  # summarize history for loss\n",
        "  plt.plot(input_history.history['loss'])\n",
        "  plt.plot(input_history.history['val_loss'])\n",
        "  plt.title('model loss')\n",
        "  plt.ylabel('loss')\n",
        "  plt.xlabel('epoch')\n",
        "  plt.legend(['train', 'test'], loc='upper left')\n",
        "\n",
        "  \n",
        "  plt.savefig(cwd+'/model_performance/loss/' + filename + '.jpg')"
      ],
      "execution_count": 0,
      "outputs": []
    },
    {
      "cell_type": "markdown",
      "metadata": {
        "id": "h6Pb6W4AZa0d",
        "colab_type": "text"
      },
      "source": [
        "# Data prep"
      ]
    },
    {
      "cell_type": "code",
      "metadata": {
        "id": "ZRZpm9JxZKEN",
        "colab_type": "code",
        "outputId": "6883dc6a-3cca-4c77-9799-bb9905709975",
        "colab": {
          "base_uri": "https://localhost:8080/",
          "height": 67
        }
      },
      "source": [
        "%cd drive/'My Drive'\n",
        "!pwd"
      ],
      "execution_count": 0,
      "outputs": [
        {
          "output_type": "stream",
          "text": [
            "[Errno 2] No such file or directory: 'drive/My Drive'\n",
            "/content/drive/My Drive\n",
            "/content/drive/My Drive\n"
          ],
          "name": "stdout"
        }
      ]
    },
    {
      "cell_type": "code",
      "metadata": {
        "id": "dCh0glvPxc1z",
        "colab_type": "code",
        "outputId": "9f041de9-5f19-4acf-e5b4-ef1ab0064d9e",
        "colab": {
          "base_uri": "https://localhost:8080/",
          "height": 34
        }
      },
      "source": [
        "!pwd"
      ],
      "execution_count": 0,
      "outputs": [
        {
          "output_type": "stream",
          "text": [
            "/content/drive/My Drive\n"
          ],
          "name": "stdout"
        }
      ]
    },
    {
      "cell_type": "code",
      "metadata": {
        "id": "j1MEckdzZ_-1",
        "colab_type": "code",
        "outputId": "c8f06e68-5d7f-4553-aad9-8d68fe2a6680",
        "colab": {
          "base_uri": "https://localhost:8080/",
          "height": 34
        }
      },
      "source": [
        "img_folder = '/filtered_images'\n",
        "!ls 'filtered_images'"
      ],
      "execution_count": 0,
      "outputs": [
        {
          "output_type": "stream",
          "text": [
            "0  1  2\n"
          ],
          "name": "stdout"
        }
      ]
    },
    {
      "cell_type": "markdown",
      "metadata": {
        "id": "fSJJ8GzogU_i",
        "colab_type": "text"
      },
      "source": [
        "class 0 : DYjets\n",
        "class 1 : TTjets\n",
        "class 2 : Wjets"
      ]
    },
    {
      "cell_type": "markdown",
      "metadata": {
        "id": "WK3uFq83Nqp7",
        "colab_type": "text"
      },
      "source": [
        "## Train val size setting"
      ]
    },
    {
      "cell_type": "code",
      "metadata": {
        "id": "hd5rd7_ZcoSR",
        "colab_type": "code",
        "outputId": "ce878aad-9d81-4923-e90e-68f7970627c0",
        "colab": {
          "base_uri": "https://localhost:8080/",
          "height": 185
        }
      },
      "source": [
        "cwd = os.getcwd()\n",
        "img_path = cwd + img_folder\n",
        "\n",
        "train_val_size = 1200\n",
        "\n",
        "df = {}\n",
        "data = []\n",
        "for idx, x in enumerate(os.listdir(img_path)):\n",
        "  if x.isdigit() and idx < 3:\n",
        "    for idx2, pic in enumerate(os.listdir(img_path+'/'+str(x))):\n",
        "      if idx2 < train_val_size:\n",
        "        data.append((img_path+ '/' + x + '/' + pic , x))\n",
        "\n",
        "df = pd.DataFrame(data, columns=['filename', 'class'])\n",
        "df['class'] = df['class'].astype(int)\n",
        "#shuffle\n",
        "df = df.sample(frac=1).reset_index(drop=True)\n",
        "\n",
        "print(df.head())\n",
        "print(len(df))\n",
        "df.dtypes"
      ],
      "execution_count": 0,
      "outputs": [
        {
          "output_type": "stream",
          "text": [
            "                                            filename  class\n",
            "0  /content/drive/My Drive/filtered_images/0/DYje...      0\n",
            "1  /content/drive/My Drive/filtered_images/1/TTje...      1\n",
            "2  /content/drive/My Drive/filtered_images/1/TTje...      1\n",
            "3  /content/drive/My Drive/filtered_images/1/TTje...      1\n",
            "4  /content/drive/My Drive/filtered_images/0/DYje...      0\n",
            "3600\n"
          ],
          "name": "stdout"
        },
        {
          "output_type": "execute_result",
          "data": {
            "text/plain": [
              "filename    object\n",
              "class        int64\n",
              "dtype: object"
            ]
          },
          "metadata": {
            "tags": []
          },
          "execution_count": 12
        }
      ]
    },
    {
      "cell_type": "code",
      "metadata": {
        "id": "IF67c9pOdMix",
        "colab_type": "code",
        "outputId": "e9f0a20d-3eac-4614-fe7b-ac249e560bdc",
        "colab": {
          "base_uri": "https://localhost:8080/",
          "height": 34
        }
      },
      "source": [
        "from collections import Counter\n",
        "cnt = Counter(df['class'])\n",
        "cnt"
      ],
      "execution_count": 0,
      "outputs": [
        {
          "output_type": "execute_result",
          "data": {
            "text/plain": [
              "Counter({0: 1200, 1: 1200, 2: 1200})"
            ]
          },
          "metadata": {
            "tags": []
          },
          "execution_count": 13
        }
      ]
    },
    {
      "cell_type": "code",
      "metadata": {
        "id": "rV8WCnbQhKx4",
        "colab_type": "code",
        "outputId": "ae86434d-766e-4a08-8657-307a6fd54691",
        "colab": {
          "base_uri": "https://localhost:8080/",
          "height": 67
        }
      },
      "source": [
        "# Split into train and validation sets\n",
        "train_percentage = .8\n",
        "val_percentage = 0.1\n",
        "test_percentage = 0.1\n",
        "\n",
        "train_length = int(len(df) * train_percentage)\n",
        "df_train = df[:train_length]\n",
        "\n",
        "val_length = int(len(df) * val_percentage)\n",
        "df_val = df[train_length : train_length+val_length]\n",
        "\n",
        "test_length = int(len(df) * test_percentage)\n",
        "df_test = df[ train_length + val_length : ]\n",
        "\n",
        "# shuffle \n",
        "df_train = df_train.sample(frac=1).reset_index(drop=True)\n",
        "df_val = df_val.sample(frac=1).reset_index(drop=True)\n",
        "df_test = df_test.sample(frac=1).reset_index(drop=True)\n",
        "\n",
        "df_list = [df_train, df_val, df_test]\n",
        "for df_part in df_list:\n",
        "  print(len(df_part))"
      ],
      "execution_count": 0,
      "outputs": [
        {
          "output_type": "stream",
          "text": [
            "2880\n",
            "360\n",
            "360\n"
          ],
          "name": "stdout"
        }
      ]
    },
    {
      "cell_type": "markdown",
      "metadata": {
        "id": "65hltRStDyg2",
        "colab_type": "text"
      },
      "source": [
        "#### image parsing"
      ]
    },
    {
      "cell_type": "code",
      "metadata": {
        "id": "93QOO1_2h5_A",
        "colab_type": "code",
        "colab": {}
      },
      "source": [
        "# Reads an image from a file, decodes it into a tensor, and resizes it\n",
        "# to a fixed shape.\n",
        "img_rows, img_cols = 200,200\n",
        "num_classes = len(set(df['class']))\n",
        "batch_size = 120\n",
        "\n",
        "def _parse_function(filename, label):\n",
        "  image_string = tf.io.read_file(filename)\n",
        "  image_decoded = tf.image.decode_jpeg(image_string)\n",
        "  image_resized = tf.image.resize(image_decoded, [img_rows, img_cols])\n",
        "  image_resized = tf.ensure_shape(image_resized ,shape=(img_rows, img_cols,3))\n",
        "  label = tf.one_hot(label, num_classes)\n",
        "  return image_resized, label"
      ],
      "execution_count": 0,
      "outputs": []
    },
    {
      "cell_type": "code",
      "metadata": {
        "id": "b9GwWMh5iZtg",
        "colab_type": "code",
        "colab": {}
      },
      "source": [
        "train_dataset = tf.data.Dataset.from_tensor_slices((tf.cast(df_train['filename'].values, tf.string),\n",
        "                                                    tf.cast(df_train['class'].values, tf.int32) ))\n",
        "train_dataset = train_dataset.map(_parse_function)\n",
        "train_dataset = train_dataset.shuffle(5000)\n",
        "train_dataset = train_dataset.repeat()\n",
        "train_dataset = train_dataset.batch(batch_size, drop_remainder=True)"
      ],
      "execution_count": 0,
      "outputs": []
    },
    {
      "cell_type": "code",
      "metadata": {
        "id": "0MfsNRyiicIR",
        "colab_type": "code",
        "colab": {}
      },
      "source": [
        "valid_dataset = tf.data.Dataset.from_tensor_slices((tf.cast(df_val['filename'].values, tf.string),\n",
        "                                                    tf.cast(df_val['class'].values, tf.int32) ))\n",
        "valid_dataset = valid_dataset.map(_parse_function)\n",
        "valid_dataset = valid_dataset.shuffle(5000)\n",
        "valid_dataset = valid_dataset.repeat()\n",
        "valid_dataset = valid_dataset.batch(batch_size, drop_remainder=True)"
      ],
      "execution_count": 0,
      "outputs": []
    },
    {
      "cell_type": "code",
      "metadata": {
        "id": "amK7DVJDPTSF",
        "colab_type": "code",
        "colab": {}
      },
      "source": [
        "test_dataset = tf.data.Dataset.from_tensor_slices((tf.cast(df_test['filename'].values, tf.string),\n",
        "                                                    tf.cast(df_test['class'].values, tf.int32) ))\n",
        "test_dataset = test_dataset.map(_parse_function)\n",
        "test_dataset = test_dataset.shuffle(5000)\n",
        "test_dataset = test_dataset.repeat()\n",
        "test_dataset = test_dataset.batch(batch_size, drop_remainder=True)"
      ],
      "execution_count": 0,
      "outputs": []
    },
    {
      "cell_type": "code",
      "metadata": {
        "id": "0PsYgoDSieIA",
        "colab_type": "code",
        "outputId": "845e4f67-b0c6-4cbf-e285-1312c3b501ca",
        "colab": {
          "base_uri": "https://localhost:8080/",
          "height": 34
        }
      },
      "source": [
        "train_dataset"
      ],
      "execution_count": 0,
      "outputs": [
        {
          "output_type": "execute_result",
          "data": {
            "text/plain": [
              "<BatchDataset shapes: ((120, 200, 200, 3), (120, 3)), types: (tf.float32, tf.float32)>"
            ]
          },
          "metadata": {
            "tags": []
          },
          "execution_count": 19
        }
      ]
    },
    {
      "cell_type": "markdown",
      "metadata": {
        "id": "YofamALVCrtt",
        "colab_type": "text"
      },
      "source": [
        "# ResNet50"
      ]
    },
    {
      "cell_type": "markdown",
      "metadata": {
        "id": "nzO1JHNJ1D6I",
        "colab_type": "text"
      },
      "source": [
        "## Entirely frozen"
      ]
    },
    {
      "cell_type": "code",
      "metadata": {
        "id": "DTe9kVl2CuIT",
        "colab_type": "code",
        "outputId": "cfd0bca5-e0c3-4dd8-cdde-d1fd58029467",
        "colab": {
          "base_uri": "https://localhost:8080/",
          "height": 50
        }
      },
      "source": [
        "resnet_50 = tf.keras.applications.ResNet50(\n",
        "    include_top=False,\n",
        "    weights='imagenet',\n",
        "    input_shape=(200,200,3),\n",
        "    pooling=None\n",
        ")"
      ],
      "execution_count": 0,
      "outputs": [
        {
          "output_type": "stream",
          "text": [
            "Downloading data from https://github.com/keras-team/keras-applications/releases/download/resnet/resnet50_weights_tf_dim_ordering_tf_kernels_notop.h5\n",
            "94773248/94765736 [==============================] - 8s 0us/step\n"
          ],
          "name": "stdout"
        }
      ]
    },
    {
      "cell_type": "code",
      "metadata": {
        "id": "vUTuVUnlC2-U",
        "colab_type": "code",
        "colab": {}
      },
      "source": [
        "x = resnet_50.output\n",
        "\n",
        "x = GlobalAveragePooling2D()(x)\n",
        "\n",
        "# let's add a fully-connected layer\n",
        "x = Dense(512, activation='relu')(x)\n",
        "\n",
        "x = Dropout(0.5)(x)\n",
        "\n",
        "#x = GlobalAveragePooling2D()(x)\n",
        "\n",
        "# let's add a fully-connected layer\n",
        "x = Dense(512, activation='relu')(x)\n",
        "\n",
        "x = Dropout(0.5)(x)\n",
        "\n",
        "# let's add a fully-connected layer\n",
        "x = Dense(512, activation='relu')(x)\n",
        "\n",
        "x = Dropout(0.5)(x)\n",
        "\n",
        "# and a logits layer -- let's say we have 3 classes\n",
        "predictions = Dense(3, activation='softmax')(x)\n"
      ],
      "execution_count": 0,
      "outputs": []
    },
    {
      "cell_type": "code",
      "metadata": {
        "id": "Mm-iZAuZC7sV",
        "colab_type": "code",
        "colab": {}
      },
      "source": [
        "# this is the model we will train\n",
        "base_resnet50_model = Model(inputs=resnet_50.input, outputs=predictions)"
      ],
      "execution_count": 0,
      "outputs": []
    },
    {
      "cell_type": "code",
      "metadata": {
        "id": "viKNFgGXzXJT",
        "colab_type": "code",
        "outputId": "6757c6ed-e722-447e-879d-ddf2a2578176",
        "colab": {
          "base_uri": "https://localhost:8080/",
          "height": 1000
        }
      },
      "source": [
        "base_resnet50_model.summary()"
      ],
      "execution_count": 0,
      "outputs": [
        {
          "output_type": "stream",
          "text": [
            "Model: \"model\"\n",
            "__________________________________________________________________________________________________\n",
            "Layer (type)                    Output Shape         Param #     Connected to                     \n",
            "==================================================================================================\n",
            "input_1 (InputLayer)            [(None, 200, 200, 3) 0                                            \n",
            "__________________________________________________________________________________________________\n",
            "conv1_pad (ZeroPadding2D)       (None, 206, 206, 3)  0           input_1[0][0]                    \n",
            "__________________________________________________________________________________________________\n",
            "conv1_conv (Conv2D)             (None, 100, 100, 64) 9472        conv1_pad[0][0]                  \n",
            "__________________________________________________________________________________________________\n",
            "conv1_bn (BatchNormalization)   (None, 100, 100, 64) 256         conv1_conv[0][0]                 \n",
            "__________________________________________________________________________________________________\n",
            "conv1_relu (Activation)         (None, 100, 100, 64) 0           conv1_bn[0][0]                   \n",
            "__________________________________________________________________________________________________\n",
            "pool1_pad (ZeroPadding2D)       (None, 102, 102, 64) 0           conv1_relu[0][0]                 \n",
            "__________________________________________________________________________________________________\n",
            "pool1_pool (MaxPooling2D)       (None, 50, 50, 64)   0           pool1_pad[0][0]                  \n",
            "__________________________________________________________________________________________________\n",
            "conv2_block1_1_conv (Conv2D)    (None, 50, 50, 64)   4160        pool1_pool[0][0]                 \n",
            "__________________________________________________________________________________________________\n",
            "conv2_block1_1_bn (BatchNormali (None, 50, 50, 64)   256         conv2_block1_1_conv[0][0]        \n",
            "__________________________________________________________________________________________________\n",
            "conv2_block1_1_relu (Activation (None, 50, 50, 64)   0           conv2_block1_1_bn[0][0]          \n",
            "__________________________________________________________________________________________________\n",
            "conv2_block1_2_conv (Conv2D)    (None, 50, 50, 64)   36928       conv2_block1_1_relu[0][0]        \n",
            "__________________________________________________________________________________________________\n",
            "conv2_block1_2_bn (BatchNormali (None, 50, 50, 64)   256         conv2_block1_2_conv[0][0]        \n",
            "__________________________________________________________________________________________________\n",
            "conv2_block1_2_relu (Activation (None, 50, 50, 64)   0           conv2_block1_2_bn[0][0]          \n",
            "__________________________________________________________________________________________________\n",
            "conv2_block1_0_conv (Conv2D)    (None, 50, 50, 256)  16640       pool1_pool[0][0]                 \n",
            "__________________________________________________________________________________________________\n",
            "conv2_block1_3_conv (Conv2D)    (None, 50, 50, 256)  16640       conv2_block1_2_relu[0][0]        \n",
            "__________________________________________________________________________________________________\n",
            "conv2_block1_0_bn (BatchNormali (None, 50, 50, 256)  1024        conv2_block1_0_conv[0][0]        \n",
            "__________________________________________________________________________________________________\n",
            "conv2_block1_3_bn (BatchNormali (None, 50, 50, 256)  1024        conv2_block1_3_conv[0][0]        \n",
            "__________________________________________________________________________________________________\n",
            "conv2_block1_add (Add)          (None, 50, 50, 256)  0           conv2_block1_0_bn[0][0]          \n",
            "                                                                 conv2_block1_3_bn[0][0]          \n",
            "__________________________________________________________________________________________________\n",
            "conv2_block1_out (Activation)   (None, 50, 50, 256)  0           conv2_block1_add[0][0]           \n",
            "__________________________________________________________________________________________________\n",
            "conv2_block2_1_conv (Conv2D)    (None, 50, 50, 64)   16448       conv2_block1_out[0][0]           \n",
            "__________________________________________________________________________________________________\n",
            "conv2_block2_1_bn (BatchNormali (None, 50, 50, 64)   256         conv2_block2_1_conv[0][0]        \n",
            "__________________________________________________________________________________________________\n",
            "conv2_block2_1_relu (Activation (None, 50, 50, 64)   0           conv2_block2_1_bn[0][0]          \n",
            "__________________________________________________________________________________________________\n",
            "conv2_block2_2_conv (Conv2D)    (None, 50, 50, 64)   36928       conv2_block2_1_relu[0][0]        \n",
            "__________________________________________________________________________________________________\n",
            "conv2_block2_2_bn (BatchNormali (None, 50, 50, 64)   256         conv2_block2_2_conv[0][0]        \n",
            "__________________________________________________________________________________________________\n",
            "conv2_block2_2_relu (Activation (None, 50, 50, 64)   0           conv2_block2_2_bn[0][0]          \n",
            "__________________________________________________________________________________________________\n",
            "conv2_block2_3_conv (Conv2D)    (None, 50, 50, 256)  16640       conv2_block2_2_relu[0][0]        \n",
            "__________________________________________________________________________________________________\n",
            "conv2_block2_3_bn (BatchNormali (None, 50, 50, 256)  1024        conv2_block2_3_conv[0][0]        \n",
            "__________________________________________________________________________________________________\n",
            "conv2_block2_add (Add)          (None, 50, 50, 256)  0           conv2_block1_out[0][0]           \n",
            "                                                                 conv2_block2_3_bn[0][0]          \n",
            "__________________________________________________________________________________________________\n",
            "conv2_block2_out (Activation)   (None, 50, 50, 256)  0           conv2_block2_add[0][0]           \n",
            "__________________________________________________________________________________________________\n",
            "conv2_block3_1_conv (Conv2D)    (None, 50, 50, 64)   16448       conv2_block2_out[0][0]           \n",
            "__________________________________________________________________________________________________\n",
            "conv2_block3_1_bn (BatchNormali (None, 50, 50, 64)   256         conv2_block3_1_conv[0][0]        \n",
            "__________________________________________________________________________________________________\n",
            "conv2_block3_1_relu (Activation (None, 50, 50, 64)   0           conv2_block3_1_bn[0][0]          \n",
            "__________________________________________________________________________________________________\n",
            "conv2_block3_2_conv (Conv2D)    (None, 50, 50, 64)   36928       conv2_block3_1_relu[0][0]        \n",
            "__________________________________________________________________________________________________\n",
            "conv2_block3_2_bn (BatchNormali (None, 50, 50, 64)   256         conv2_block3_2_conv[0][0]        \n",
            "__________________________________________________________________________________________________\n",
            "conv2_block3_2_relu (Activation (None, 50, 50, 64)   0           conv2_block3_2_bn[0][0]          \n",
            "__________________________________________________________________________________________________\n",
            "conv2_block3_3_conv (Conv2D)    (None, 50, 50, 256)  16640       conv2_block3_2_relu[0][0]        \n",
            "__________________________________________________________________________________________________\n",
            "conv2_block3_3_bn (BatchNormali (None, 50, 50, 256)  1024        conv2_block3_3_conv[0][0]        \n",
            "__________________________________________________________________________________________________\n",
            "conv2_block3_add (Add)          (None, 50, 50, 256)  0           conv2_block2_out[0][0]           \n",
            "                                                                 conv2_block3_3_bn[0][0]          \n",
            "__________________________________________________________________________________________________\n",
            "conv2_block3_out (Activation)   (None, 50, 50, 256)  0           conv2_block3_add[0][0]           \n",
            "__________________________________________________________________________________________________\n",
            "conv3_block1_1_conv (Conv2D)    (None, 25, 25, 128)  32896       conv2_block3_out[0][0]           \n",
            "__________________________________________________________________________________________________\n",
            "conv3_block1_1_bn (BatchNormali (None, 25, 25, 128)  512         conv3_block1_1_conv[0][0]        \n",
            "__________________________________________________________________________________________________\n",
            "conv3_block1_1_relu (Activation (None, 25, 25, 128)  0           conv3_block1_1_bn[0][0]          \n",
            "__________________________________________________________________________________________________\n",
            "conv3_block1_2_conv (Conv2D)    (None, 25, 25, 128)  147584      conv3_block1_1_relu[0][0]        \n",
            "__________________________________________________________________________________________________\n",
            "conv3_block1_2_bn (BatchNormali (None, 25, 25, 128)  512         conv3_block1_2_conv[0][0]        \n",
            "__________________________________________________________________________________________________\n",
            "conv3_block1_2_relu (Activation (None, 25, 25, 128)  0           conv3_block1_2_bn[0][0]          \n",
            "__________________________________________________________________________________________________\n",
            "conv3_block1_0_conv (Conv2D)    (None, 25, 25, 512)  131584      conv2_block3_out[0][0]           \n",
            "__________________________________________________________________________________________________\n",
            "conv3_block1_3_conv (Conv2D)    (None, 25, 25, 512)  66048       conv3_block1_2_relu[0][0]        \n",
            "__________________________________________________________________________________________________\n",
            "conv3_block1_0_bn (BatchNormali (None, 25, 25, 512)  2048        conv3_block1_0_conv[0][0]        \n",
            "__________________________________________________________________________________________________\n",
            "conv3_block1_3_bn (BatchNormali (None, 25, 25, 512)  2048        conv3_block1_3_conv[0][0]        \n",
            "__________________________________________________________________________________________________\n",
            "conv3_block1_add (Add)          (None, 25, 25, 512)  0           conv3_block1_0_bn[0][0]          \n",
            "                                                                 conv3_block1_3_bn[0][0]          \n",
            "__________________________________________________________________________________________________\n",
            "conv3_block1_out (Activation)   (None, 25, 25, 512)  0           conv3_block1_add[0][0]           \n",
            "__________________________________________________________________________________________________\n",
            "conv3_block2_1_conv (Conv2D)    (None, 25, 25, 128)  65664       conv3_block1_out[0][0]           \n",
            "__________________________________________________________________________________________________\n",
            "conv3_block2_1_bn (BatchNormali (None, 25, 25, 128)  512         conv3_block2_1_conv[0][0]        \n",
            "__________________________________________________________________________________________________\n",
            "conv3_block2_1_relu (Activation (None, 25, 25, 128)  0           conv3_block2_1_bn[0][0]          \n",
            "__________________________________________________________________________________________________\n",
            "conv3_block2_2_conv (Conv2D)    (None, 25, 25, 128)  147584      conv3_block2_1_relu[0][0]        \n",
            "__________________________________________________________________________________________________\n",
            "conv3_block2_2_bn (BatchNormali (None, 25, 25, 128)  512         conv3_block2_2_conv[0][0]        \n",
            "__________________________________________________________________________________________________\n",
            "conv3_block2_2_relu (Activation (None, 25, 25, 128)  0           conv3_block2_2_bn[0][0]          \n",
            "__________________________________________________________________________________________________\n",
            "conv3_block2_3_conv (Conv2D)    (None, 25, 25, 512)  66048       conv3_block2_2_relu[0][0]        \n",
            "__________________________________________________________________________________________________\n",
            "conv3_block2_3_bn (BatchNormali (None, 25, 25, 512)  2048        conv3_block2_3_conv[0][0]        \n",
            "__________________________________________________________________________________________________\n",
            "conv3_block2_add (Add)          (None, 25, 25, 512)  0           conv3_block1_out[0][0]           \n",
            "                                                                 conv3_block2_3_bn[0][0]          \n",
            "__________________________________________________________________________________________________\n",
            "conv3_block2_out (Activation)   (None, 25, 25, 512)  0           conv3_block2_add[0][0]           \n",
            "__________________________________________________________________________________________________\n",
            "conv3_block3_1_conv (Conv2D)    (None, 25, 25, 128)  65664       conv3_block2_out[0][0]           \n",
            "__________________________________________________________________________________________________\n",
            "conv3_block3_1_bn (BatchNormali (None, 25, 25, 128)  512         conv3_block3_1_conv[0][0]        \n",
            "__________________________________________________________________________________________________\n",
            "conv3_block3_1_relu (Activation (None, 25, 25, 128)  0           conv3_block3_1_bn[0][0]          \n",
            "__________________________________________________________________________________________________\n",
            "conv3_block3_2_conv (Conv2D)    (None, 25, 25, 128)  147584      conv3_block3_1_relu[0][0]        \n",
            "__________________________________________________________________________________________________\n",
            "conv3_block3_2_bn (BatchNormali (None, 25, 25, 128)  512         conv3_block3_2_conv[0][0]        \n",
            "__________________________________________________________________________________________________\n",
            "conv3_block3_2_relu (Activation (None, 25, 25, 128)  0           conv3_block3_2_bn[0][0]          \n",
            "__________________________________________________________________________________________________\n",
            "conv3_block3_3_conv (Conv2D)    (None, 25, 25, 512)  66048       conv3_block3_2_relu[0][0]        \n",
            "__________________________________________________________________________________________________\n",
            "conv3_block3_3_bn (BatchNormali (None, 25, 25, 512)  2048        conv3_block3_3_conv[0][0]        \n",
            "__________________________________________________________________________________________________\n",
            "conv3_block3_add (Add)          (None, 25, 25, 512)  0           conv3_block2_out[0][0]           \n",
            "                                                                 conv3_block3_3_bn[0][0]          \n",
            "__________________________________________________________________________________________________\n",
            "conv3_block3_out (Activation)   (None, 25, 25, 512)  0           conv3_block3_add[0][0]           \n",
            "__________________________________________________________________________________________________\n",
            "conv3_block4_1_conv (Conv2D)    (None, 25, 25, 128)  65664       conv3_block3_out[0][0]           \n",
            "__________________________________________________________________________________________________\n",
            "conv3_block4_1_bn (BatchNormali (None, 25, 25, 128)  512         conv3_block4_1_conv[0][0]        \n",
            "__________________________________________________________________________________________________\n",
            "conv3_block4_1_relu (Activation (None, 25, 25, 128)  0           conv3_block4_1_bn[0][0]          \n",
            "__________________________________________________________________________________________________\n",
            "conv3_block4_2_conv (Conv2D)    (None, 25, 25, 128)  147584      conv3_block4_1_relu[0][0]        \n",
            "__________________________________________________________________________________________________\n",
            "conv3_block4_2_bn (BatchNormali (None, 25, 25, 128)  512         conv3_block4_2_conv[0][0]        \n",
            "__________________________________________________________________________________________________\n",
            "conv3_block4_2_relu (Activation (None, 25, 25, 128)  0           conv3_block4_2_bn[0][0]          \n",
            "__________________________________________________________________________________________________\n",
            "conv3_block4_3_conv (Conv2D)    (None, 25, 25, 512)  66048       conv3_block4_2_relu[0][0]        \n",
            "__________________________________________________________________________________________________\n",
            "conv3_block4_3_bn (BatchNormali (None, 25, 25, 512)  2048        conv3_block4_3_conv[0][0]        \n",
            "__________________________________________________________________________________________________\n",
            "conv3_block4_add (Add)          (None, 25, 25, 512)  0           conv3_block3_out[0][0]           \n",
            "                                                                 conv3_block4_3_bn[0][0]          \n",
            "__________________________________________________________________________________________________\n",
            "conv3_block4_out (Activation)   (None, 25, 25, 512)  0           conv3_block4_add[0][0]           \n",
            "__________________________________________________________________________________________________\n",
            "conv4_block1_1_conv (Conv2D)    (None, 13, 13, 256)  131328      conv3_block4_out[0][0]           \n",
            "__________________________________________________________________________________________________\n",
            "conv4_block1_1_bn (BatchNormali (None, 13, 13, 256)  1024        conv4_block1_1_conv[0][0]        \n",
            "__________________________________________________________________________________________________\n",
            "conv4_block1_1_relu (Activation (None, 13, 13, 256)  0           conv4_block1_1_bn[0][0]          \n",
            "__________________________________________________________________________________________________\n",
            "conv4_block1_2_conv (Conv2D)    (None, 13, 13, 256)  590080      conv4_block1_1_relu[0][0]        \n",
            "__________________________________________________________________________________________________\n",
            "conv4_block1_2_bn (BatchNormali (None, 13, 13, 256)  1024        conv4_block1_2_conv[0][0]        \n",
            "__________________________________________________________________________________________________\n",
            "conv4_block1_2_relu (Activation (None, 13, 13, 256)  0           conv4_block1_2_bn[0][0]          \n",
            "__________________________________________________________________________________________________\n",
            "conv4_block1_0_conv (Conv2D)    (None, 13, 13, 1024) 525312      conv3_block4_out[0][0]           \n",
            "__________________________________________________________________________________________________\n",
            "conv4_block1_3_conv (Conv2D)    (None, 13, 13, 1024) 263168      conv4_block1_2_relu[0][0]        \n",
            "__________________________________________________________________________________________________\n",
            "conv4_block1_0_bn (BatchNormali (None, 13, 13, 1024) 4096        conv4_block1_0_conv[0][0]        \n",
            "__________________________________________________________________________________________________\n",
            "conv4_block1_3_bn (BatchNormali (None, 13, 13, 1024) 4096        conv4_block1_3_conv[0][0]        \n",
            "__________________________________________________________________________________________________\n",
            "conv4_block1_add (Add)          (None, 13, 13, 1024) 0           conv4_block1_0_bn[0][0]          \n",
            "                                                                 conv4_block1_3_bn[0][0]          \n",
            "__________________________________________________________________________________________________\n",
            "conv4_block1_out (Activation)   (None, 13, 13, 1024) 0           conv4_block1_add[0][0]           \n",
            "__________________________________________________________________________________________________\n",
            "conv4_block2_1_conv (Conv2D)    (None, 13, 13, 256)  262400      conv4_block1_out[0][0]           \n",
            "__________________________________________________________________________________________________\n",
            "conv4_block2_1_bn (BatchNormali (None, 13, 13, 256)  1024        conv4_block2_1_conv[0][0]        \n",
            "__________________________________________________________________________________________________\n",
            "conv4_block2_1_relu (Activation (None, 13, 13, 256)  0           conv4_block2_1_bn[0][0]          \n",
            "__________________________________________________________________________________________________\n",
            "conv4_block2_2_conv (Conv2D)    (None, 13, 13, 256)  590080      conv4_block2_1_relu[0][0]        \n",
            "__________________________________________________________________________________________________\n",
            "conv4_block2_2_bn (BatchNormali (None, 13, 13, 256)  1024        conv4_block2_2_conv[0][0]        \n",
            "__________________________________________________________________________________________________\n",
            "conv4_block2_2_relu (Activation (None, 13, 13, 256)  0           conv4_block2_2_bn[0][0]          \n",
            "__________________________________________________________________________________________________\n",
            "conv4_block2_3_conv (Conv2D)    (None, 13, 13, 1024) 263168      conv4_block2_2_relu[0][0]        \n",
            "__________________________________________________________________________________________________\n",
            "conv4_block2_3_bn (BatchNormali (None, 13, 13, 1024) 4096        conv4_block2_3_conv[0][0]        \n",
            "__________________________________________________________________________________________________\n",
            "conv4_block2_add (Add)          (None, 13, 13, 1024) 0           conv4_block1_out[0][0]           \n",
            "                                                                 conv4_block2_3_bn[0][0]          \n",
            "__________________________________________________________________________________________________\n",
            "conv4_block2_out (Activation)   (None, 13, 13, 1024) 0           conv4_block2_add[0][0]           \n",
            "__________________________________________________________________________________________________\n",
            "conv4_block3_1_conv (Conv2D)    (None, 13, 13, 256)  262400      conv4_block2_out[0][0]           \n",
            "__________________________________________________________________________________________________\n",
            "conv4_block3_1_bn (BatchNormali (None, 13, 13, 256)  1024        conv4_block3_1_conv[0][0]        \n",
            "__________________________________________________________________________________________________\n",
            "conv4_block3_1_relu (Activation (None, 13, 13, 256)  0           conv4_block3_1_bn[0][0]          \n",
            "__________________________________________________________________________________________________\n",
            "conv4_block3_2_conv (Conv2D)    (None, 13, 13, 256)  590080      conv4_block3_1_relu[0][0]        \n",
            "__________________________________________________________________________________________________\n",
            "conv4_block3_2_bn (BatchNormali (None, 13, 13, 256)  1024        conv4_block3_2_conv[0][0]        \n",
            "__________________________________________________________________________________________________\n",
            "conv4_block3_2_relu (Activation (None, 13, 13, 256)  0           conv4_block3_2_bn[0][0]          \n",
            "__________________________________________________________________________________________________\n",
            "conv4_block3_3_conv (Conv2D)    (None, 13, 13, 1024) 263168      conv4_block3_2_relu[0][0]        \n",
            "__________________________________________________________________________________________________\n",
            "conv4_block3_3_bn (BatchNormali (None, 13, 13, 1024) 4096        conv4_block3_3_conv[0][0]        \n",
            "__________________________________________________________________________________________________\n",
            "conv4_block3_add (Add)          (None, 13, 13, 1024) 0           conv4_block2_out[0][0]           \n",
            "                                                                 conv4_block3_3_bn[0][0]          \n",
            "__________________________________________________________________________________________________\n",
            "conv4_block3_out (Activation)   (None, 13, 13, 1024) 0           conv4_block3_add[0][0]           \n",
            "__________________________________________________________________________________________________\n",
            "conv4_block4_1_conv (Conv2D)    (None, 13, 13, 256)  262400      conv4_block3_out[0][0]           \n",
            "__________________________________________________________________________________________________\n",
            "conv4_block4_1_bn (BatchNormali (None, 13, 13, 256)  1024        conv4_block4_1_conv[0][0]        \n",
            "__________________________________________________________________________________________________\n",
            "conv4_block4_1_relu (Activation (None, 13, 13, 256)  0           conv4_block4_1_bn[0][0]          \n",
            "__________________________________________________________________________________________________\n",
            "conv4_block4_2_conv (Conv2D)    (None, 13, 13, 256)  590080      conv4_block4_1_relu[0][0]        \n",
            "__________________________________________________________________________________________________\n",
            "conv4_block4_2_bn (BatchNormali (None, 13, 13, 256)  1024        conv4_block4_2_conv[0][0]        \n",
            "__________________________________________________________________________________________________\n",
            "conv4_block4_2_relu (Activation (None, 13, 13, 256)  0           conv4_block4_2_bn[0][0]          \n",
            "__________________________________________________________________________________________________\n",
            "conv4_block4_3_conv (Conv2D)    (None, 13, 13, 1024) 263168      conv4_block4_2_relu[0][0]        \n",
            "__________________________________________________________________________________________________\n",
            "conv4_block4_3_bn (BatchNormali (None, 13, 13, 1024) 4096        conv4_block4_3_conv[0][0]        \n",
            "__________________________________________________________________________________________________\n",
            "conv4_block4_add (Add)          (None, 13, 13, 1024) 0           conv4_block3_out[0][0]           \n",
            "                                                                 conv4_block4_3_bn[0][0]          \n",
            "__________________________________________________________________________________________________\n",
            "conv4_block4_out (Activation)   (None, 13, 13, 1024) 0           conv4_block4_add[0][0]           \n",
            "__________________________________________________________________________________________________\n",
            "conv4_block5_1_conv (Conv2D)    (None, 13, 13, 256)  262400      conv4_block4_out[0][0]           \n",
            "__________________________________________________________________________________________________\n",
            "conv4_block5_1_bn (BatchNormali (None, 13, 13, 256)  1024        conv4_block5_1_conv[0][0]        \n",
            "__________________________________________________________________________________________________\n",
            "conv4_block5_1_relu (Activation (None, 13, 13, 256)  0           conv4_block5_1_bn[0][0]          \n",
            "__________________________________________________________________________________________________\n",
            "conv4_block5_2_conv (Conv2D)    (None, 13, 13, 256)  590080      conv4_block5_1_relu[0][0]        \n",
            "__________________________________________________________________________________________________\n",
            "conv4_block5_2_bn (BatchNormali (None, 13, 13, 256)  1024        conv4_block5_2_conv[0][0]        \n",
            "__________________________________________________________________________________________________\n",
            "conv4_block5_2_relu (Activation (None, 13, 13, 256)  0           conv4_block5_2_bn[0][0]          \n",
            "__________________________________________________________________________________________________\n",
            "conv4_block5_3_conv (Conv2D)    (None, 13, 13, 1024) 263168      conv4_block5_2_relu[0][0]        \n",
            "__________________________________________________________________________________________________\n",
            "conv4_block5_3_bn (BatchNormali (None, 13, 13, 1024) 4096        conv4_block5_3_conv[0][0]        \n",
            "__________________________________________________________________________________________________\n",
            "conv4_block5_add (Add)          (None, 13, 13, 1024) 0           conv4_block4_out[0][0]           \n",
            "                                                                 conv4_block5_3_bn[0][0]          \n",
            "__________________________________________________________________________________________________\n",
            "conv4_block5_out (Activation)   (None, 13, 13, 1024) 0           conv4_block5_add[0][0]           \n",
            "__________________________________________________________________________________________________\n",
            "conv4_block6_1_conv (Conv2D)    (None, 13, 13, 256)  262400      conv4_block5_out[0][0]           \n",
            "__________________________________________________________________________________________________\n",
            "conv4_block6_1_bn (BatchNormali (None, 13, 13, 256)  1024        conv4_block6_1_conv[0][0]        \n",
            "__________________________________________________________________________________________________\n",
            "conv4_block6_1_relu (Activation (None, 13, 13, 256)  0           conv4_block6_1_bn[0][0]          \n",
            "__________________________________________________________________________________________________\n",
            "conv4_block6_2_conv (Conv2D)    (None, 13, 13, 256)  590080      conv4_block6_1_relu[0][0]        \n",
            "__________________________________________________________________________________________________\n",
            "conv4_block6_2_bn (BatchNormali (None, 13, 13, 256)  1024        conv4_block6_2_conv[0][0]        \n",
            "__________________________________________________________________________________________________\n",
            "conv4_block6_2_relu (Activation (None, 13, 13, 256)  0           conv4_block6_2_bn[0][0]          \n",
            "__________________________________________________________________________________________________\n",
            "conv4_block6_3_conv (Conv2D)    (None, 13, 13, 1024) 263168      conv4_block6_2_relu[0][0]        \n",
            "__________________________________________________________________________________________________\n",
            "conv4_block6_3_bn (BatchNormali (None, 13, 13, 1024) 4096        conv4_block6_3_conv[0][0]        \n",
            "__________________________________________________________________________________________________\n",
            "conv4_block6_add (Add)          (None, 13, 13, 1024) 0           conv4_block5_out[0][0]           \n",
            "                                                                 conv4_block6_3_bn[0][0]          \n",
            "__________________________________________________________________________________________________\n",
            "conv4_block6_out (Activation)   (None, 13, 13, 1024) 0           conv4_block6_add[0][0]           \n",
            "__________________________________________________________________________________________________\n",
            "conv5_block1_1_conv (Conv2D)    (None, 7, 7, 512)    524800      conv4_block6_out[0][0]           \n",
            "__________________________________________________________________________________________________\n",
            "conv5_block1_1_bn (BatchNormali (None, 7, 7, 512)    2048        conv5_block1_1_conv[0][0]        \n",
            "__________________________________________________________________________________________________\n",
            "conv5_block1_1_relu (Activation (None, 7, 7, 512)    0           conv5_block1_1_bn[0][0]          \n",
            "__________________________________________________________________________________________________\n",
            "conv5_block1_2_conv (Conv2D)    (None, 7, 7, 512)    2359808     conv5_block1_1_relu[0][0]        \n",
            "__________________________________________________________________________________________________\n",
            "conv5_block1_2_bn (BatchNormali (None, 7, 7, 512)    2048        conv5_block1_2_conv[0][0]        \n",
            "__________________________________________________________________________________________________\n",
            "conv5_block1_2_relu (Activation (None, 7, 7, 512)    0           conv5_block1_2_bn[0][0]          \n",
            "__________________________________________________________________________________________________\n",
            "conv5_block1_0_conv (Conv2D)    (None, 7, 7, 2048)   2099200     conv4_block6_out[0][0]           \n",
            "__________________________________________________________________________________________________\n",
            "conv5_block1_3_conv (Conv2D)    (None, 7, 7, 2048)   1050624     conv5_block1_2_relu[0][0]        \n",
            "__________________________________________________________________________________________________\n",
            "conv5_block1_0_bn (BatchNormali (None, 7, 7, 2048)   8192        conv5_block1_0_conv[0][0]        \n",
            "__________________________________________________________________________________________________\n",
            "conv5_block1_3_bn (BatchNormali (None, 7, 7, 2048)   8192        conv5_block1_3_conv[0][0]        \n",
            "__________________________________________________________________________________________________\n",
            "conv5_block1_add (Add)          (None, 7, 7, 2048)   0           conv5_block1_0_bn[0][0]          \n",
            "                                                                 conv5_block1_3_bn[0][0]          \n",
            "__________________________________________________________________________________________________\n",
            "conv5_block1_out (Activation)   (None, 7, 7, 2048)   0           conv5_block1_add[0][0]           \n",
            "__________________________________________________________________________________________________\n",
            "conv5_block2_1_conv (Conv2D)    (None, 7, 7, 512)    1049088     conv5_block1_out[0][0]           \n",
            "__________________________________________________________________________________________________\n",
            "conv5_block2_1_bn (BatchNormali (None, 7, 7, 512)    2048        conv5_block2_1_conv[0][0]        \n",
            "__________________________________________________________________________________________________\n",
            "conv5_block2_1_relu (Activation (None, 7, 7, 512)    0           conv5_block2_1_bn[0][0]          \n",
            "__________________________________________________________________________________________________\n",
            "conv5_block2_2_conv (Conv2D)    (None, 7, 7, 512)    2359808     conv5_block2_1_relu[0][0]        \n",
            "__________________________________________________________________________________________________\n",
            "conv5_block2_2_bn (BatchNormali (None, 7, 7, 512)    2048        conv5_block2_2_conv[0][0]        \n",
            "__________________________________________________________________________________________________\n",
            "conv5_block2_2_relu (Activation (None, 7, 7, 512)    0           conv5_block2_2_bn[0][0]          \n",
            "__________________________________________________________________________________________________\n",
            "conv5_block2_3_conv (Conv2D)    (None, 7, 7, 2048)   1050624     conv5_block2_2_relu[0][0]        \n",
            "__________________________________________________________________________________________________\n",
            "conv5_block2_3_bn (BatchNormali (None, 7, 7, 2048)   8192        conv5_block2_3_conv[0][0]        \n",
            "__________________________________________________________________________________________________\n",
            "conv5_block2_add (Add)          (None, 7, 7, 2048)   0           conv5_block1_out[0][0]           \n",
            "                                                                 conv5_block2_3_bn[0][0]          \n",
            "__________________________________________________________________________________________________\n",
            "conv5_block2_out (Activation)   (None, 7, 7, 2048)   0           conv5_block2_add[0][0]           \n",
            "__________________________________________________________________________________________________\n",
            "conv5_block3_1_conv (Conv2D)    (None, 7, 7, 512)    1049088     conv5_block2_out[0][0]           \n",
            "__________________________________________________________________________________________________\n",
            "conv5_block3_1_bn (BatchNormali (None, 7, 7, 512)    2048        conv5_block3_1_conv[0][0]        \n",
            "__________________________________________________________________________________________________\n",
            "conv5_block3_1_relu (Activation (None, 7, 7, 512)    0           conv5_block3_1_bn[0][0]          \n",
            "__________________________________________________________________________________________________\n",
            "conv5_block3_2_conv (Conv2D)    (None, 7, 7, 512)    2359808     conv5_block3_1_relu[0][0]        \n",
            "__________________________________________________________________________________________________\n",
            "conv5_block3_2_bn (BatchNormali (None, 7, 7, 512)    2048        conv5_block3_2_conv[0][0]        \n",
            "__________________________________________________________________________________________________\n",
            "conv5_block3_2_relu (Activation (None, 7, 7, 512)    0           conv5_block3_2_bn[0][0]          \n",
            "__________________________________________________________________________________________________\n",
            "conv5_block3_3_conv (Conv2D)    (None, 7, 7, 2048)   1050624     conv5_block3_2_relu[0][0]        \n",
            "__________________________________________________________________________________________________\n",
            "conv5_block3_3_bn (BatchNormali (None, 7, 7, 2048)   8192        conv5_block3_3_conv[0][0]        \n",
            "__________________________________________________________________________________________________\n",
            "conv5_block3_add (Add)          (None, 7, 7, 2048)   0           conv5_block2_out[0][0]           \n",
            "                                                                 conv5_block3_3_bn[0][0]          \n",
            "__________________________________________________________________________________________________\n",
            "conv5_block3_out (Activation)   (None, 7, 7, 2048)   0           conv5_block3_add[0][0]           \n",
            "__________________________________________________________________________________________________\n",
            "global_average_pooling2d (Globa (None, 2048)         0           conv5_block3_out[0][0]           \n",
            "__________________________________________________________________________________________________\n",
            "dense (Dense)                   (None, 512)          1049088     global_average_pooling2d[0][0]   \n",
            "__________________________________________________________________________________________________\n",
            "dropout (Dropout)               (None, 512)          0           dense[0][0]                      \n",
            "__________________________________________________________________________________________________\n",
            "dense_1 (Dense)                 (None, 512)          262656      dropout[0][0]                    \n",
            "__________________________________________________________________________________________________\n",
            "dropout_1 (Dropout)             (None, 512)          0           dense_1[0][0]                    \n",
            "__________________________________________________________________________________________________\n",
            "dense_2 (Dense)                 (None, 512)          262656      dropout_1[0][0]                  \n",
            "__________________________________________________________________________________________________\n",
            "dropout_2 (Dropout)             (None, 512)          0           dense_2[0][0]                    \n",
            "__________________________________________________________________________________________________\n",
            "dense_3 (Dense)                 (None, 3)            1539        dropout_2[0][0]                  \n",
            "==================================================================================================\n",
            "Total params: 25,163,651\n",
            "Trainable params: 25,110,531\n",
            "Non-trainable params: 53,120\n",
            "__________________________________________________________________________________________________\n"
          ],
          "name": "stdout"
        }
      ]
    },
    {
      "cell_type": "code",
      "metadata": {
        "id": "f99YWWgxC99k",
        "colab_type": "code",
        "outputId": "57d23ae2-4585-4b9a-b516-c2161fb5c9d7",
        "colab": {
          "base_uri": "https://localhost:8080/",
          "height": 1000
        }
      },
      "source": [
        "for layer in resnet_50.layers:\n",
        "    print(layer.name)\n",
        "    layer.trainable = False"
      ],
      "execution_count": 0,
      "outputs": [
        {
          "output_type": "stream",
          "text": [
            "input_1\n",
            "conv1_pad\n",
            "conv1_conv\n",
            "conv1_bn\n",
            "conv1_relu\n",
            "pool1_pad\n",
            "pool1_pool\n",
            "conv2_block1_1_conv\n",
            "conv2_block1_1_bn\n",
            "conv2_block1_1_relu\n",
            "conv2_block1_2_conv\n",
            "conv2_block1_2_bn\n",
            "conv2_block1_2_relu\n",
            "conv2_block1_0_conv\n",
            "conv2_block1_3_conv\n",
            "conv2_block1_0_bn\n",
            "conv2_block1_3_bn\n",
            "conv2_block1_add\n",
            "conv2_block1_out\n",
            "conv2_block2_1_conv\n",
            "conv2_block2_1_bn\n",
            "conv2_block2_1_relu\n",
            "conv2_block2_2_conv\n",
            "conv2_block2_2_bn\n",
            "conv2_block2_2_relu\n",
            "conv2_block2_3_conv\n",
            "conv2_block2_3_bn\n",
            "conv2_block2_add\n",
            "conv2_block2_out\n",
            "conv2_block3_1_conv\n",
            "conv2_block3_1_bn\n",
            "conv2_block3_1_relu\n",
            "conv2_block3_2_conv\n",
            "conv2_block3_2_bn\n",
            "conv2_block3_2_relu\n",
            "conv2_block3_3_conv\n",
            "conv2_block3_3_bn\n",
            "conv2_block3_add\n",
            "conv2_block3_out\n",
            "conv3_block1_1_conv\n",
            "conv3_block1_1_bn\n",
            "conv3_block1_1_relu\n",
            "conv3_block1_2_conv\n",
            "conv3_block1_2_bn\n",
            "conv3_block1_2_relu\n",
            "conv3_block1_0_conv\n",
            "conv3_block1_3_conv\n",
            "conv3_block1_0_bn\n",
            "conv3_block1_3_bn\n",
            "conv3_block1_add\n",
            "conv3_block1_out\n",
            "conv3_block2_1_conv\n",
            "conv3_block2_1_bn\n",
            "conv3_block2_1_relu\n",
            "conv3_block2_2_conv\n",
            "conv3_block2_2_bn\n",
            "conv3_block2_2_relu\n",
            "conv3_block2_3_conv\n",
            "conv3_block2_3_bn\n",
            "conv3_block2_add\n",
            "conv3_block2_out\n",
            "conv3_block3_1_conv\n",
            "conv3_block3_1_bn\n",
            "conv3_block3_1_relu\n",
            "conv3_block3_2_conv\n",
            "conv3_block3_2_bn\n",
            "conv3_block3_2_relu\n",
            "conv3_block3_3_conv\n",
            "conv3_block3_3_bn\n",
            "conv3_block3_add\n",
            "conv3_block3_out\n",
            "conv3_block4_1_conv\n",
            "conv3_block4_1_bn\n",
            "conv3_block4_1_relu\n",
            "conv3_block4_2_conv\n",
            "conv3_block4_2_bn\n",
            "conv3_block4_2_relu\n",
            "conv3_block4_3_conv\n",
            "conv3_block4_3_bn\n",
            "conv3_block4_add\n",
            "conv3_block4_out\n",
            "conv4_block1_1_conv\n",
            "conv4_block1_1_bn\n",
            "conv4_block1_1_relu\n",
            "conv4_block1_2_conv\n",
            "conv4_block1_2_bn\n",
            "conv4_block1_2_relu\n",
            "conv4_block1_0_conv\n",
            "conv4_block1_3_conv\n",
            "conv4_block1_0_bn\n",
            "conv4_block1_3_bn\n",
            "conv4_block1_add\n",
            "conv4_block1_out\n",
            "conv4_block2_1_conv\n",
            "conv4_block2_1_bn\n",
            "conv4_block2_1_relu\n",
            "conv4_block2_2_conv\n",
            "conv4_block2_2_bn\n",
            "conv4_block2_2_relu\n",
            "conv4_block2_3_conv\n",
            "conv4_block2_3_bn\n",
            "conv4_block2_add\n",
            "conv4_block2_out\n",
            "conv4_block3_1_conv\n",
            "conv4_block3_1_bn\n",
            "conv4_block3_1_relu\n",
            "conv4_block3_2_conv\n",
            "conv4_block3_2_bn\n",
            "conv4_block3_2_relu\n",
            "conv4_block3_3_conv\n",
            "conv4_block3_3_bn\n",
            "conv4_block3_add\n",
            "conv4_block3_out\n",
            "conv4_block4_1_conv\n",
            "conv4_block4_1_bn\n",
            "conv4_block4_1_relu\n",
            "conv4_block4_2_conv\n",
            "conv4_block4_2_bn\n",
            "conv4_block4_2_relu\n",
            "conv4_block4_3_conv\n",
            "conv4_block4_3_bn\n",
            "conv4_block4_add\n",
            "conv4_block4_out\n",
            "conv4_block5_1_conv\n",
            "conv4_block5_1_bn\n",
            "conv4_block5_1_relu\n",
            "conv4_block5_2_conv\n",
            "conv4_block5_2_bn\n",
            "conv4_block5_2_relu\n",
            "conv4_block5_3_conv\n",
            "conv4_block5_3_bn\n",
            "conv4_block5_add\n",
            "conv4_block5_out\n",
            "conv4_block6_1_conv\n",
            "conv4_block6_1_bn\n",
            "conv4_block6_1_relu\n",
            "conv4_block6_2_conv\n",
            "conv4_block6_2_bn\n",
            "conv4_block6_2_relu\n",
            "conv4_block6_3_conv\n",
            "conv4_block6_3_bn\n",
            "conv4_block6_add\n",
            "conv4_block6_out\n",
            "conv5_block1_1_conv\n",
            "conv5_block1_1_bn\n",
            "conv5_block1_1_relu\n",
            "conv5_block1_2_conv\n",
            "conv5_block1_2_bn\n",
            "conv5_block1_2_relu\n",
            "conv5_block1_0_conv\n",
            "conv5_block1_3_conv\n",
            "conv5_block1_0_bn\n",
            "conv5_block1_3_bn\n",
            "conv5_block1_add\n",
            "conv5_block1_out\n",
            "conv5_block2_1_conv\n",
            "conv5_block2_1_bn\n",
            "conv5_block2_1_relu\n",
            "conv5_block2_2_conv\n",
            "conv5_block2_2_bn\n",
            "conv5_block2_2_relu\n",
            "conv5_block2_3_conv\n",
            "conv5_block2_3_bn\n",
            "conv5_block2_add\n",
            "conv5_block2_out\n",
            "conv5_block3_1_conv\n",
            "conv5_block3_1_bn\n",
            "conv5_block3_1_relu\n",
            "conv5_block3_2_conv\n",
            "conv5_block3_2_bn\n",
            "conv5_block3_2_relu\n",
            "conv5_block3_3_conv\n",
            "conv5_block3_3_bn\n",
            "conv5_block3_add\n",
            "conv5_block3_out\n"
          ],
          "name": "stdout"
        }
      ]
    },
    {
      "cell_type": "code",
      "metadata": {
        "id": "y2P0-ZTaDAPW",
        "colab_type": "code",
        "outputId": "74a83ace-10d4-4fb5-ed2e-203fd230b8a1",
        "colab": {
          "base_uri": "https://localhost:8080/",
          "height": 1000
        }
      },
      "source": [
        "for layer in base_resnet50_model.layers:\n",
        "    print(layer.name,' Trainable =',layer.trainable)"
      ],
      "execution_count": 0,
      "outputs": [
        {
          "output_type": "stream",
          "text": [
            "input_1  Trainable = False\n",
            "conv1_pad  Trainable = False\n",
            "conv1_conv  Trainable = False\n",
            "conv1_bn  Trainable = False\n",
            "conv1_relu  Trainable = False\n",
            "pool1_pad  Trainable = False\n",
            "pool1_pool  Trainable = False\n",
            "conv2_block1_1_conv  Trainable = False\n",
            "conv2_block1_1_bn  Trainable = False\n",
            "conv2_block1_1_relu  Trainable = False\n",
            "conv2_block1_2_conv  Trainable = False\n",
            "conv2_block1_2_bn  Trainable = False\n",
            "conv2_block1_2_relu  Trainable = False\n",
            "conv2_block1_0_conv  Trainable = False\n",
            "conv2_block1_3_conv  Trainable = False\n",
            "conv2_block1_0_bn  Trainable = False\n",
            "conv2_block1_3_bn  Trainable = False\n",
            "conv2_block1_add  Trainable = False\n",
            "conv2_block1_out  Trainable = False\n",
            "conv2_block2_1_conv  Trainable = False\n",
            "conv2_block2_1_bn  Trainable = False\n",
            "conv2_block2_1_relu  Trainable = False\n",
            "conv2_block2_2_conv  Trainable = False\n",
            "conv2_block2_2_bn  Trainable = False\n",
            "conv2_block2_2_relu  Trainable = False\n",
            "conv2_block2_3_conv  Trainable = False\n",
            "conv2_block2_3_bn  Trainable = False\n",
            "conv2_block2_add  Trainable = False\n",
            "conv2_block2_out  Trainable = False\n",
            "conv2_block3_1_conv  Trainable = False\n",
            "conv2_block3_1_bn  Trainable = False\n",
            "conv2_block3_1_relu  Trainable = False\n",
            "conv2_block3_2_conv  Trainable = False\n",
            "conv2_block3_2_bn  Trainable = False\n",
            "conv2_block3_2_relu  Trainable = False\n",
            "conv2_block3_3_conv  Trainable = False\n",
            "conv2_block3_3_bn  Trainable = False\n",
            "conv2_block3_add  Trainable = False\n",
            "conv2_block3_out  Trainable = False\n",
            "conv3_block1_1_conv  Trainable = False\n",
            "conv3_block1_1_bn  Trainable = False\n",
            "conv3_block1_1_relu  Trainable = False\n",
            "conv3_block1_2_conv  Trainable = False\n",
            "conv3_block1_2_bn  Trainable = False\n",
            "conv3_block1_2_relu  Trainable = False\n",
            "conv3_block1_0_conv  Trainable = False\n",
            "conv3_block1_3_conv  Trainable = False\n",
            "conv3_block1_0_bn  Trainable = False\n",
            "conv3_block1_3_bn  Trainable = False\n",
            "conv3_block1_add  Trainable = False\n",
            "conv3_block1_out  Trainable = False\n",
            "conv3_block2_1_conv  Trainable = False\n",
            "conv3_block2_1_bn  Trainable = False\n",
            "conv3_block2_1_relu  Trainable = False\n",
            "conv3_block2_2_conv  Trainable = False\n",
            "conv3_block2_2_bn  Trainable = False\n",
            "conv3_block2_2_relu  Trainable = False\n",
            "conv3_block2_3_conv  Trainable = False\n",
            "conv3_block2_3_bn  Trainable = False\n",
            "conv3_block2_add  Trainable = False\n",
            "conv3_block2_out  Trainable = False\n",
            "conv3_block3_1_conv  Trainable = False\n",
            "conv3_block3_1_bn  Trainable = False\n",
            "conv3_block3_1_relu  Trainable = False\n",
            "conv3_block3_2_conv  Trainable = False\n",
            "conv3_block3_2_bn  Trainable = False\n",
            "conv3_block3_2_relu  Trainable = False\n",
            "conv3_block3_3_conv  Trainable = False\n",
            "conv3_block3_3_bn  Trainable = False\n",
            "conv3_block3_add  Trainable = False\n",
            "conv3_block3_out  Trainable = False\n",
            "conv3_block4_1_conv  Trainable = False\n",
            "conv3_block4_1_bn  Trainable = False\n",
            "conv3_block4_1_relu  Trainable = False\n",
            "conv3_block4_2_conv  Trainable = False\n",
            "conv3_block4_2_bn  Trainable = False\n",
            "conv3_block4_2_relu  Trainable = False\n",
            "conv3_block4_3_conv  Trainable = False\n",
            "conv3_block4_3_bn  Trainable = False\n",
            "conv3_block4_add  Trainable = False\n",
            "conv3_block4_out  Trainable = False\n",
            "conv4_block1_1_conv  Trainable = False\n",
            "conv4_block1_1_bn  Trainable = False\n",
            "conv4_block1_1_relu  Trainable = False\n",
            "conv4_block1_2_conv  Trainable = False\n",
            "conv4_block1_2_bn  Trainable = False\n",
            "conv4_block1_2_relu  Trainable = False\n",
            "conv4_block1_0_conv  Trainable = False\n",
            "conv4_block1_3_conv  Trainable = False\n",
            "conv4_block1_0_bn  Trainable = False\n",
            "conv4_block1_3_bn  Trainable = False\n",
            "conv4_block1_add  Trainable = False\n",
            "conv4_block1_out  Trainable = False\n",
            "conv4_block2_1_conv  Trainable = False\n",
            "conv4_block2_1_bn  Trainable = False\n",
            "conv4_block2_1_relu  Trainable = False\n",
            "conv4_block2_2_conv  Trainable = False\n",
            "conv4_block2_2_bn  Trainable = False\n",
            "conv4_block2_2_relu  Trainable = False\n",
            "conv4_block2_3_conv  Trainable = False\n",
            "conv4_block2_3_bn  Trainable = False\n",
            "conv4_block2_add  Trainable = False\n",
            "conv4_block2_out  Trainable = False\n",
            "conv4_block3_1_conv  Trainable = False\n",
            "conv4_block3_1_bn  Trainable = False\n",
            "conv4_block3_1_relu  Trainable = False\n",
            "conv4_block3_2_conv  Trainable = False\n",
            "conv4_block3_2_bn  Trainable = False\n",
            "conv4_block3_2_relu  Trainable = False\n",
            "conv4_block3_3_conv  Trainable = False\n",
            "conv4_block3_3_bn  Trainable = False\n",
            "conv4_block3_add  Trainable = False\n",
            "conv4_block3_out  Trainable = False\n",
            "conv4_block4_1_conv  Trainable = False\n",
            "conv4_block4_1_bn  Trainable = False\n",
            "conv4_block4_1_relu  Trainable = False\n",
            "conv4_block4_2_conv  Trainable = False\n",
            "conv4_block4_2_bn  Trainable = False\n",
            "conv4_block4_2_relu  Trainable = False\n",
            "conv4_block4_3_conv  Trainable = False\n",
            "conv4_block4_3_bn  Trainable = False\n",
            "conv4_block4_add  Trainable = False\n",
            "conv4_block4_out  Trainable = False\n",
            "conv4_block5_1_conv  Trainable = False\n",
            "conv4_block5_1_bn  Trainable = False\n",
            "conv4_block5_1_relu  Trainable = False\n",
            "conv4_block5_2_conv  Trainable = False\n",
            "conv4_block5_2_bn  Trainable = False\n",
            "conv4_block5_2_relu  Trainable = False\n",
            "conv4_block5_3_conv  Trainable = False\n",
            "conv4_block5_3_bn  Trainable = False\n",
            "conv4_block5_add  Trainable = False\n",
            "conv4_block5_out  Trainable = False\n",
            "conv4_block6_1_conv  Trainable = False\n",
            "conv4_block6_1_bn  Trainable = False\n",
            "conv4_block6_1_relu  Trainable = False\n",
            "conv4_block6_2_conv  Trainable = False\n",
            "conv4_block6_2_bn  Trainable = False\n",
            "conv4_block6_2_relu  Trainable = False\n",
            "conv4_block6_3_conv  Trainable = False\n",
            "conv4_block6_3_bn  Trainable = False\n",
            "conv4_block6_add  Trainable = False\n",
            "conv4_block6_out  Trainable = False\n",
            "conv5_block1_1_conv  Trainable = False\n",
            "conv5_block1_1_bn  Trainable = False\n",
            "conv5_block1_1_relu  Trainable = False\n",
            "conv5_block1_2_conv  Trainable = False\n",
            "conv5_block1_2_bn  Trainable = False\n",
            "conv5_block1_2_relu  Trainable = False\n",
            "conv5_block1_0_conv  Trainable = False\n",
            "conv5_block1_3_conv  Trainable = False\n",
            "conv5_block1_0_bn  Trainable = False\n",
            "conv5_block1_3_bn  Trainable = False\n",
            "conv5_block1_add  Trainable = False\n",
            "conv5_block1_out  Trainable = False\n",
            "conv5_block2_1_conv  Trainable = False\n",
            "conv5_block2_1_bn  Trainable = False\n",
            "conv5_block2_1_relu  Trainable = False\n",
            "conv5_block2_2_conv  Trainable = False\n",
            "conv5_block2_2_bn  Trainable = False\n",
            "conv5_block2_2_relu  Trainable = False\n",
            "conv5_block2_3_conv  Trainable = False\n",
            "conv5_block2_3_bn  Trainable = False\n",
            "conv5_block2_add  Trainable = False\n",
            "conv5_block2_out  Trainable = False\n",
            "conv5_block3_1_conv  Trainable = False\n",
            "conv5_block3_1_bn  Trainable = False\n",
            "conv5_block3_1_relu  Trainable = False\n",
            "conv5_block3_2_conv  Trainable = False\n",
            "conv5_block3_2_bn  Trainable = False\n",
            "conv5_block3_2_relu  Trainable = False\n",
            "conv5_block3_3_conv  Trainable = False\n",
            "conv5_block3_3_bn  Trainable = False\n",
            "conv5_block3_add  Trainable = False\n",
            "conv5_block3_out  Trainable = False\n",
            "global_average_pooling2d  Trainable = True\n",
            "dense  Trainable = True\n",
            "dropout  Trainable = True\n",
            "dense_1  Trainable = True\n",
            "dropout_1  Trainable = True\n",
            "dense_2  Trainable = True\n",
            "dropout_2  Trainable = True\n",
            "dense_3  Trainable = True\n"
          ],
          "name": "stdout"
        }
      ]
    },
    {
      "cell_type": "code",
      "metadata": {
        "id": "wOYp6zEBDDF9",
        "colab_type": "code",
        "colab": {}
      },
      "source": [
        "opt = tf.keras.optimizers.Adam(lr=0.001)\n",
        "# compile the model (should be done *after* setting layers to non-trainable)\n",
        "base_resnet50_model.compile(optimizer=opt, loss='categorical_crossentropy',metrics=['accuracy'])"
      ],
      "execution_count": 0,
      "outputs": []
    },
    {
      "cell_type": "markdown",
      "metadata": {
        "id": "2_l1DM1tzvMq",
        "colab_type": "text"
      },
      "source": [
        "#### fitting the model"
      ]
    },
    {
      "cell_type": "code",
      "metadata": {
        "id": "ZilESfkQDI0b",
        "colab_type": "code",
        "outputId": "1e3893ba-8f98-4740-f7eb-15b4ec3ef9ac",
        "colab": {
          "base_uri": "https://localhost:8080/",
          "height": 1000
        }
      },
      "source": [
        "train_steps = int(len(df_train)/batch_size) #total trains set / batch_size\n",
        "val_steps = int(len(df_val)/batch_size)\n",
        "\n",
        "print('train steps:',train_steps)\n",
        "print('val steps:',val_steps)\n",
        "epochs = 50\n",
        "\n",
        "#es = EarlyStopping(monitor='accuracy', mode='max', verbose=1, patience=15)\n",
        "\n",
        "resnet_model_filepath = 'entirely_frozen_resnet50.h5'\n",
        "mcp = ModelCheckpoint(resnet_model_filepath, monitor='accuracy', save_best_only=True, mode='max')\n",
        "\n",
        "### Train the model with validation \n",
        "entirely_frozen_resnet50_history = base_resnet50_model.fit( train_dataset, steps_per_epoch = train_steps,\n",
        "                   epochs = epochs,\n",
        "                   validation_data = valid_dataset,\n",
        "                   validation_steps = val_steps,\n",
        "                   callbacks= [#es, \n",
        "                               mcp])"
      ],
      "execution_count": 0,
      "outputs": [
        {
          "output_type": "stream",
          "text": [
            "train steps: 24\n",
            "val steps: 3\n",
            "Train for 24 steps, validate for 3 steps\n",
            "Epoch 1/50\n",
            "24/24 [==============================] - 2454s 102s/step - loss: 1.0160 - accuracy: 0.5319 - val_loss: 1.0641 - val_accuracy: 0.3444\n",
            "Epoch 2/50\n",
            "24/24 [==============================] - 17s 703ms/step - loss: 0.6456 - accuracy: 0.6931 - val_loss: 1.0471 - val_accuracy: 0.3472\n",
            "Epoch 3/50\n",
            "24/24 [==============================] - 17s 692ms/step - loss: 0.6051 - accuracy: 0.7309 - val_loss: 1.0030 - val_accuracy: 0.3667\n",
            "Epoch 4/50\n",
            "24/24 [==============================] - 16s 687ms/step - loss: 0.5808 - accuracy: 0.7347 - val_loss: 1.0150 - val_accuracy: 0.3583\n",
            "Epoch 5/50\n",
            "24/24 [==============================] - 16s 670ms/step - loss: 0.5436 - accuracy: 0.7590 - val_loss: 0.9201 - val_accuracy: 0.4667\n",
            "Epoch 6/50\n",
            "24/24 [==============================] - 16s 684ms/step - loss: 0.5103 - accuracy: 0.7674 - val_loss: 0.9846 - val_accuracy: 0.3861\n",
            "Epoch 7/50\n",
            "24/24 [==============================] - 16s 674ms/step - loss: 0.5273 - accuracy: 0.7684 - val_loss: 0.9102 - val_accuracy: 0.4500\n",
            "Epoch 8/50\n",
            "24/24 [==============================] - 15s 612ms/step - loss: 0.5215 - accuracy: 0.7601 - val_loss: 0.8900 - val_accuracy: 0.4972\n",
            "Epoch 9/50\n",
            "24/24 [==============================] - 16s 680ms/step - loss: 0.4984 - accuracy: 0.7778 - val_loss: 0.9953 - val_accuracy: 0.4000\n",
            "Epoch 10/50\n",
            "24/24 [==============================] - 16s 673ms/step - loss: 0.4704 - accuracy: 0.7892 - val_loss: 0.8473 - val_accuracy: 0.6000\n",
            "Epoch 11/50\n",
            "24/24 [==============================] - 15s 614ms/step - loss: 0.4888 - accuracy: 0.7788 - val_loss: 0.9429 - val_accuracy: 0.4444\n",
            "Epoch 12/50\n",
            "24/24 [==============================] - 15s 615ms/step - loss: 0.4726 - accuracy: 0.7892 - val_loss: 0.8432 - val_accuracy: 0.5583\n",
            "Epoch 13/50\n",
            "24/24 [==============================] - 15s 615ms/step - loss: 0.4609 - accuracy: 0.7840 - val_loss: 0.7656 - val_accuracy: 0.6194\n",
            "Epoch 14/50\n",
            "24/24 [==============================] - 15s 642ms/step - loss: 0.4377 - accuracy: 0.8052 - val_loss: 0.7604 - val_accuracy: 0.6222\n",
            "Epoch 15/50\n",
            "24/24 [==============================] - 15s 632ms/step - loss: 0.4303 - accuracy: 0.8052 - val_loss: 0.7640 - val_accuracy: 0.5889\n",
            "Epoch 16/50\n",
            "24/24 [==============================] - 15s 616ms/step - loss: 0.4340 - accuracy: 0.7969 - val_loss: 0.7559 - val_accuracy: 0.6167\n",
            "Epoch 17/50\n",
            "24/24 [==============================] - 16s 685ms/step - loss: 0.4177 - accuracy: 0.8146 - val_loss: 0.7379 - val_accuracy: 0.6361\n",
            "Epoch 18/50\n",
            "24/24 [==============================] - 15s 625ms/step - loss: 0.4018 - accuracy: 0.8139 - val_loss: 0.7237 - val_accuracy: 0.6222\n",
            "Epoch 19/50\n",
            "24/24 [==============================] - 15s 622ms/step - loss: 0.4006 - accuracy: 0.8139 - val_loss: 0.7774 - val_accuracy: 0.5667\n",
            "Epoch 20/50\n",
            "24/24 [==============================] - 15s 623ms/step - loss: 0.4194 - accuracy: 0.8125 - val_loss: 0.8363 - val_accuracy: 0.5306\n",
            "Epoch 21/50\n",
            "24/24 [==============================] - 15s 615ms/step - loss: 0.4159 - accuracy: 0.8021 - val_loss: 0.7567 - val_accuracy: 0.5861\n",
            "Epoch 22/50\n",
            "24/24 [==============================] - 17s 689ms/step - loss: 0.3821 - accuracy: 0.8181 - val_loss: 0.8640 - val_accuracy: 0.5194\n",
            "Epoch 23/50\n",
            "24/24 [==============================] - 15s 622ms/step - loss: 0.3964 - accuracy: 0.8115 - val_loss: 0.6983 - val_accuracy: 0.6278\n",
            "Epoch 24/50\n",
            "24/24 [==============================] - 15s 616ms/step - loss: 0.3807 - accuracy: 0.8181 - val_loss: 0.7685 - val_accuracy: 0.5806\n",
            "Epoch 25/50\n",
            "24/24 [==============================] - 15s 617ms/step - loss: 0.4211 - accuracy: 0.8177 - val_loss: 0.7486 - val_accuracy: 0.6000\n",
            "Epoch 26/50\n",
            "24/24 [==============================] - 18s 756ms/step - loss: 0.3996 - accuracy: 0.8205 - val_loss: 0.7392 - val_accuracy: 0.6000\n",
            "Epoch 27/50\n",
            "24/24 [==============================] - 15s 630ms/step - loss: 0.3951 - accuracy: 0.8122 - val_loss: 0.6979 - val_accuracy: 0.6167\n",
            "Epoch 28/50\n",
            "24/24 [==============================] - 15s 621ms/step - loss: 0.3979 - accuracy: 0.8108 - val_loss: 0.6868 - val_accuracy: 0.6556\n",
            "Epoch 29/50\n",
            "24/24 [==============================] - 15s 622ms/step - loss: 0.4069 - accuracy: 0.8128 - val_loss: 0.7476 - val_accuracy: 0.6056\n",
            "Epoch 30/50\n",
            "24/24 [==============================] - 15s 620ms/step - loss: 0.4052 - accuracy: 0.8160 - val_loss: 0.8982 - val_accuracy: 0.5056\n",
            "Epoch 31/50\n",
            "24/24 [==============================] - 17s 706ms/step - loss: 0.3613 - accuracy: 0.8292 - val_loss: 0.7161 - val_accuracy: 0.6083\n",
            "Epoch 32/50\n",
            "24/24 [==============================] - 15s 620ms/step - loss: 0.3738 - accuracy: 0.8184 - val_loss: 0.7843 - val_accuracy: 0.6028\n",
            "Epoch 33/50\n",
            "24/24 [==============================] - 15s 621ms/step - loss: 0.3885 - accuracy: 0.8188 - val_loss: 0.8551 - val_accuracy: 0.5278\n",
            "Epoch 34/50\n",
            "24/24 [==============================] - 15s 620ms/step - loss: 0.3894 - accuracy: 0.8174 - val_loss: 0.8316 - val_accuracy: 0.5889\n",
            "Epoch 35/50\n",
            "24/24 [==============================] - 15s 629ms/step - loss: 0.3588 - accuracy: 0.8250 - val_loss: 0.7907 - val_accuracy: 0.6028\n",
            "Epoch 36/50\n",
            "24/24 [==============================] - 15s 637ms/step - loss: 0.3837 - accuracy: 0.8281 - val_loss: 0.8048 - val_accuracy: 0.6056\n",
            "Epoch 37/50\n",
            "24/24 [==============================] - 15s 621ms/step - loss: 0.3795 - accuracy: 0.8059 - val_loss: 0.8801 - val_accuracy: 0.6056\n",
            "Epoch 38/50\n",
            "24/24 [==============================] - 15s 626ms/step - loss: 0.3621 - accuracy: 0.8205 - val_loss: 0.8267 - val_accuracy: 0.6028\n",
            "Epoch 39/50\n",
            "24/24 [==============================] - 15s 620ms/step - loss: 0.3724 - accuracy: 0.8191 - val_loss: 1.0410 - val_accuracy: 0.6028\n",
            "Epoch 40/50\n",
            "24/24 [==============================] - 15s 622ms/step - loss: 0.3761 - accuracy: 0.8184 - val_loss: 0.8990 - val_accuracy: 0.6194\n",
            "Epoch 41/50\n",
            "24/24 [==============================] - 15s 631ms/step - loss: 0.3834 - accuracy: 0.8160 - val_loss: 1.1486 - val_accuracy: 0.5806\n",
            "Epoch 42/50\n",
            "24/24 [==============================] - 15s 627ms/step - loss: 0.3801 - accuracy: 0.8198 - val_loss: 1.0604 - val_accuracy: 0.5917\n",
            "Epoch 43/50\n",
            "24/24 [==============================] - 15s 629ms/step - loss: 0.3591 - accuracy: 0.8240 - val_loss: 1.1041 - val_accuracy: 0.5556\n",
            "Epoch 44/50\n",
            "24/24 [==============================] - 18s 730ms/step - loss: 0.3464 - accuracy: 0.8323 - val_loss: 0.9736 - val_accuracy: 0.6000\n",
            "Epoch 45/50\n",
            "24/24 [==============================] - 17s 690ms/step - loss: 0.3522 - accuracy: 0.8347 - val_loss: 1.2844 - val_accuracy: 0.5861\n",
            "Epoch 46/50\n",
            "24/24 [==============================] - 15s 630ms/step - loss: 0.3729 - accuracy: 0.8174 - val_loss: 1.3025 - val_accuracy: 0.4472\n",
            "Epoch 47/50\n",
            "24/24 [==============================] - 15s 641ms/step - loss: 0.3732 - accuracy: 0.8194 - val_loss: 1.3946 - val_accuracy: 0.6000\n",
            "Epoch 48/50\n",
            "24/24 [==============================] - 16s 687ms/step - loss: 0.3398 - accuracy: 0.8372 - val_loss: 1.0764 - val_accuracy: 0.5417\n",
            "Epoch 49/50\n",
            "24/24 [==============================] - 15s 621ms/step - loss: 0.3494 - accuracy: 0.8299 - val_loss: 1.4779 - val_accuracy: 0.4389\n",
            "Epoch 50/50\n",
            "24/24 [==============================] - 17s 728ms/step - loss: 0.3195 - accuracy: 0.8444 - val_loss: 1.3871 - val_accuracy: 0.5389\n"
          ],
          "name": "stdout"
        }
      ]
    },
    {
      "cell_type": "code",
      "metadata": {
        "id": "T_uiY7h76bLQ",
        "colab_type": "code",
        "outputId": "2e722ba9-fe19-40a7-e731-cf96e53ca0f3",
        "colab": {
          "base_uri": "https://localhost:8080/",
          "height": 34
        }
      },
      "source": [
        ""
      ],
      "execution_count": 0,
      "outputs": [
        {
          "output_type": "stream",
          "text": [
            "/content/drive/My Drive\n"
          ],
          "name": "stdout"
        }
      ]
    },
    {
      "cell_type": "markdown",
      "metadata": {
        "id": "1DEF-C99Vlv0",
        "colab_type": "text"
      },
      "source": [
        "#### testing the model"
      ]
    },
    {
      "cell_type": "code",
      "metadata": {
        "id": "9ExLpzmeQaS_",
        "colab_type": "code",
        "outputId": "5c6754f5-9eb7-4289-e172-bafe3795eeed",
        "colab": {
          "base_uri": "https://localhost:8080/",
          "height": 50
        }
      },
      "source": [
        "test_steps = int(len(df_test)/batch_size)\n",
        "\n",
        "metrics = base_resnet50_model.evaluate(test_dataset,\n",
        "                   steps = test_steps)\n",
        "print(\"model accuracy:\",metrics[1])"
      ],
      "execution_count": 0,
      "outputs": [
        {
          "output_type": "stream",
          "text": [
            "3/3 [==============================] - 2s 508ms/step - loss: 1.3607 - accuracy: 0.5611\n",
            "model accuracy: 0.5611111\n"
          ],
          "name": "stdout"
        }
      ]
    },
    {
      "cell_type": "markdown",
      "metadata": {
        "id": "hBL8c11yrqqX",
        "colab_type": "text"
      },
      "source": [
        "#### plotting training"
      ]
    },
    {
      "cell_type": "code",
      "metadata": {
        "id": "K8LjQA1mh1vN",
        "colab_type": "code",
        "outputId": "09c1a867-7435-479a-c1a1-902a1250e74f",
        "colab": {
          "base_uri": "https://localhost:8080/",
          "height": 573
        }
      },
      "source": [
        "plot_hist(entirely_frozen_resnet50_history, 'entirely_frozen_resnet50')"
      ],
      "execution_count": 0,
      "outputs": [
        {
          "output_type": "display_data",
          "data": {
            "image/png": "[encoded data removed]",
            "text/plain": [
              "<Figure size 432x288 with 1 Axes>"
            ]
          },
          "metadata": {
            "tags": []
          }
        },
        {
          "output_type": "display_data",
          "data": {
            "image/png": "[encoded data removed]",
            "text/plain": [
              "<Figure size 432x288 with 1 Axes>"
            ]
          },
          "metadata": {
            "tags": []
          }
        }
      ]
    },
    {
      "cell_type": "markdown",
      "metadata": {
        "id": "m_ZrJLmlg2p1",
        "colab_type": "text"
      },
      "source": [
        "#### saving the history of the fitting"
      ]
    },
    {
      "cell_type": "code",
      "metadata": {
        "id": "MtsOK4BTguPo",
        "colab_type": "code",
        "outputId": "627e24ca-d4b4-4cdf-a310-31fed0618489",
        "colab": {
          "base_uri": "https://localhost:8080/",
          "height": 34
        }
      },
      "source": [
        "\n",
        "with open(cwd + '/trainHistoryDict/basic_resnet50_history.p', 'wb') as file_pi:\n",
        "        pickle.dump(entirely_frozen_resnet50_history.history, file_pi)\n",
        "print('history saved')"
      ],
      "execution_count": 0,
      "outputs": [
        {
          "output_type": "stream",
          "text": [
            "history saved\n"
          ],
          "name": "stdout"
        }
      ]
    },
    {
      "cell_type": "markdown",
      "metadata": {
        "id": "OCGpPP-l1J7_",
        "colab_type": "text"
      },
      "source": [
        "## Few layers unfrozen"
      ]
    },
    {
      "cell_type": "markdown",
      "metadata": {
        "id": "9NTvh7-AmF2h",
        "colab_type": "text"
      },
      "source": [
        "#### loading model"
      ]
    },
    {
      "cell_type": "code",
      "metadata": {
        "id": "kPl0Png5yCQd",
        "colab_type": "code",
        "colab": {}
      },
      "source": [
        "resnet_50 = tf.keras.applications.ResNet50(\n",
        "    include_top=False,\n",
        "    weights='imagenet',\n",
        "    input_shape=(200,200,3),\n",
        "    pooling=None\n",
        ")"
      ],
      "execution_count": 0,
      "outputs": []
    },
    {
      "cell_type": "markdown",
      "metadata": {
        "id": "qOpVXZpbmKFX",
        "colab_type": "text"
      },
      "source": [
        "#### modifying slightly"
      ]
    },
    {
      "cell_type": "code",
      "metadata": {
        "id": "Z08msq2tyDc4",
        "colab_type": "code",
        "colab": {}
      },
      "source": [
        "x = resnet_50.output\n",
        "\n",
        "x = GlobalAveragePooling2D()(x)\n",
        "\n",
        "# let's add a fully-connected layer\n",
        "x = Dense(512, activation='relu')(x)\n",
        "\n",
        "x = Dropout(0.5)(x)\n",
        "\n",
        "#x = GlobalAveragePooling2D()(x)\n",
        "\n",
        "# let's add a fully-connected layer\n",
        "x = Dense(512, activation='relu')(x)\n",
        "\n",
        "x = Dropout(0.5)(x)\n",
        "\n",
        "# let's add a fully-connected layer\n",
        "x = Dense(512, activation='relu')(x)\n",
        "\n",
        "x = Dropout(0.5)(x)\n",
        "\n",
        "# and a logits layer -- let's say we have 3 classes\n",
        "predictions = Dense(3, activation='softmax')(x)\n"
      ],
      "execution_count": 0,
      "outputs": []
    },
    {
      "cell_type": "markdown",
      "metadata": {
        "id": "f0ECvPigmTNh",
        "colab_type": "text"
      },
      "source": [
        "#### creating model object"
      ]
    },
    {
      "cell_type": "code",
      "metadata": {
        "id": "03eslAo6mAYJ",
        "colab_type": "code",
        "colab": {}
      },
      "source": [
        "# this is the model we will train\n",
        "few_unfrozen_resnet_model = Model(inputs=resnet_50.input, outputs=predictions)"
      ],
      "execution_count": 0,
      "outputs": []
    },
    {
      "cell_type": "code",
      "metadata": {
        "id": "fQ5uYuz7l2aQ",
        "colab_type": "code",
        "outputId": "4d29fffc-41fe-4f49-f920-1ee825f1c524",
        "colab": {
          "base_uri": "https://localhost:8080/",
          "height": 1000
        }
      },
      "source": [
        "for layer in resnet_50.layers:\n",
        "    print(layer.name)\n",
        "    layer.trainable = False"
      ],
      "execution_count": 0,
      "outputs": [
        {
          "output_type": "stream",
          "text": [
            "input_5\n",
            "conv1_pad\n",
            "conv1_conv\n",
            "conv1_bn\n",
            "conv1_relu\n",
            "pool1_pad\n",
            "pool1_pool\n",
            "conv2_block1_1_conv\n",
            "conv2_block1_1_bn\n",
            "conv2_block1_1_relu\n",
            "conv2_block1_2_conv\n",
            "conv2_block1_2_bn\n",
            "conv2_block1_2_relu\n",
            "conv2_block1_0_conv\n",
            "conv2_block1_3_conv\n",
            "conv2_block1_0_bn\n",
            "conv2_block1_3_bn\n",
            "conv2_block1_add\n",
            "conv2_block1_out\n",
            "conv2_block2_1_conv\n",
            "conv2_block2_1_bn\n",
            "conv2_block2_1_relu\n",
            "conv2_block2_2_conv\n",
            "conv2_block2_2_bn\n",
            "conv2_block2_2_relu\n",
            "conv2_block2_3_conv\n",
            "conv2_block2_3_bn\n",
            "conv2_block2_add\n",
            "conv2_block2_out\n",
            "conv2_block3_1_conv\n",
            "conv2_block3_1_bn\n",
            "conv2_block3_1_relu\n",
            "conv2_block3_2_conv\n",
            "conv2_block3_2_bn\n",
            "conv2_block3_2_relu\n",
            "conv2_block3_3_conv\n",
            "conv2_block3_3_bn\n",
            "conv2_block3_add\n",
            "conv2_block3_out\n",
            "conv3_block1_1_conv\n",
            "conv3_block1_1_bn\n",
            "conv3_block1_1_relu\n",
            "conv3_block1_2_conv\n",
            "conv3_block1_2_bn\n",
            "conv3_block1_2_relu\n",
            "conv3_block1_0_conv\n",
            "conv3_block1_3_conv\n",
            "conv3_block1_0_bn\n",
            "conv3_block1_3_bn\n",
            "conv3_block1_add\n",
            "conv3_block1_out\n",
            "conv3_block2_1_conv\n",
            "conv3_block2_1_bn\n",
            "conv3_block2_1_relu\n",
            "conv3_block2_2_conv\n",
            "conv3_block2_2_bn\n",
            "conv3_block2_2_relu\n",
            "conv3_block2_3_conv\n",
            "conv3_block2_3_bn\n",
            "conv3_block2_add\n",
            "conv3_block2_out\n",
            "conv3_block3_1_conv\n",
            "conv3_block3_1_bn\n",
            "conv3_block3_1_relu\n",
            "conv3_block3_2_conv\n",
            "conv3_block3_2_bn\n",
            "conv3_block3_2_relu\n",
            "conv3_block3_3_conv\n",
            "conv3_block3_3_bn\n",
            "conv3_block3_add\n",
            "conv3_block3_out\n",
            "conv3_block4_1_conv\n",
            "conv3_block4_1_bn\n",
            "conv3_block4_1_relu\n",
            "conv3_block4_2_conv\n",
            "conv3_block4_2_bn\n",
            "conv3_block4_2_relu\n",
            "conv3_block4_3_conv\n",
            "conv3_block4_3_bn\n",
            "conv3_block4_add\n",
            "conv3_block4_out\n",
            "conv4_block1_1_conv\n",
            "conv4_block1_1_bn\n",
            "conv4_block1_1_relu\n",
            "conv4_block1_2_conv\n",
            "conv4_block1_2_bn\n",
            "conv4_block1_2_relu\n",
            "conv4_block1_0_conv\n",
            "conv4_block1_3_conv\n",
            "conv4_block1_0_bn\n",
            "conv4_block1_3_bn\n",
            "conv4_block1_add\n",
            "conv4_block1_out\n",
            "conv4_block2_1_conv\n",
            "conv4_block2_1_bn\n",
            "conv4_block2_1_relu\n",
            "conv4_block2_2_conv\n",
            "conv4_block2_2_bn\n",
            "conv4_block2_2_relu\n",
            "conv4_block2_3_conv\n",
            "conv4_block2_3_bn\n",
            "conv4_block2_add\n",
            "conv4_block2_out\n",
            "conv4_block3_1_conv\n",
            "conv4_block3_1_bn\n",
            "conv4_block3_1_relu\n",
            "conv4_block3_2_conv\n",
            "conv4_block3_2_bn\n",
            "conv4_block3_2_relu\n",
            "conv4_block3_3_conv\n",
            "conv4_block3_3_bn\n",
            "conv4_block3_add\n",
            "conv4_block3_out\n",
            "conv4_block4_1_conv\n",
            "conv4_block4_1_bn\n",
            "conv4_block4_1_relu\n",
            "conv4_block4_2_conv\n",
            "conv4_block4_2_bn\n",
            "conv4_block4_2_relu\n",
            "conv4_block4_3_conv\n",
            "conv4_block4_3_bn\n",
            "conv4_block4_add\n",
            "conv4_block4_out\n",
            "conv4_block5_1_conv\n",
            "conv4_block5_1_bn\n",
            "conv4_block5_1_relu\n",
            "conv4_block5_2_conv\n",
            "conv4_block5_2_bn\n",
            "conv4_block5_2_relu\n",
            "conv4_block5_3_conv\n",
            "conv4_block5_3_bn\n",
            "conv4_block5_add\n",
            "conv4_block5_out\n",
            "conv4_block6_1_conv\n",
            "conv4_block6_1_bn\n",
            "conv4_block6_1_relu\n",
            "conv4_block6_2_conv\n",
            "conv4_block6_2_bn\n",
            "conv4_block6_2_relu\n",
            "conv4_block6_3_conv\n",
            "conv4_block6_3_bn\n",
            "conv4_block6_add\n",
            "conv4_block6_out\n",
            "conv5_block1_1_conv\n",
            "conv5_block1_1_bn\n",
            "conv5_block1_1_relu\n",
            "conv5_block1_2_conv\n",
            "conv5_block1_2_bn\n",
            "conv5_block1_2_relu\n",
            "conv5_block1_0_conv\n",
            "conv5_block1_3_conv\n",
            "conv5_block1_0_bn\n",
            "conv5_block1_3_bn\n",
            "conv5_block1_add\n",
            "conv5_block1_out\n",
            "conv5_block2_1_conv\n",
            "conv5_block2_1_bn\n",
            "conv5_block2_1_relu\n",
            "conv5_block2_2_conv\n",
            "conv5_block2_2_bn\n",
            "conv5_block2_2_relu\n",
            "conv5_block2_3_conv\n",
            "conv5_block2_3_bn\n",
            "conv5_block2_add\n",
            "conv5_block2_out\n",
            "conv5_block3_1_conv\n",
            "conv5_block3_1_bn\n",
            "conv5_block3_1_relu\n",
            "conv5_block3_2_conv\n",
            "conv5_block3_2_bn\n",
            "conv5_block3_2_relu\n",
            "conv5_block3_3_conv\n",
            "conv5_block3_3_bn\n",
            "conv5_block3_add\n",
            "conv5_block3_out\n"
          ],
          "name": "stdout"
        }
      ]
    },
    {
      "cell_type": "code",
      "metadata": {
        "id": "whAJkq6qDOfk",
        "colab_type": "code",
        "outputId": "a3091e8d-0552-4d52-f466-e117efe589dd",
        "colab": {
          "base_uri": "https://localhost:8080/",
          "height": 34
        }
      },
      "source": [
        "few_unfrozen_resnet_model.trainable = True\n",
        "trainable_count = 0\n",
        "\n",
        "set_trainable = False\n",
        "for layer in few_unfrozen_resnet_model.layers:\n",
        "    if layer.name == 'conv5_block1_1_conv':\n",
        "        set_trainable = True\n",
        "    if set_trainable:\n",
        "        layer.trainable = True\n",
        "        trainable_count += 1\n",
        "    else:\n",
        "        layer.trainable = False\n",
        "\n",
        "print('percent unfrozen:', trainable_count/ len(resnet_50.layers) * 100 , '%')\n"
      ],
      "execution_count": 0,
      "outputs": [
        {
          "output_type": "stream",
          "text": [
            "percent unfrozen: 22.857142857142858 %\n"
          ],
          "name": "stdout"
        }
      ]
    },
    {
      "cell_type": "code",
      "metadata": {
        "id": "hHCq5zulG67p",
        "colab_type": "code",
        "outputId": "7df3a90d-e11b-47a7-d463-bb21925774bc",
        "colab": {
          "base_uri": "https://localhost:8080/",
          "height": 1000
        }
      },
      "source": [
        "for layer in few_unfrozen_resnet_model.layers:\n",
        "    print(layer.name,layer.trainable)"
      ],
      "execution_count": 0,
      "outputs": [
        {
          "output_type": "stream",
          "text": [
            "input_5 False\n",
            "conv1_pad False\n",
            "conv1_conv False\n",
            "conv1_bn False\n",
            "conv1_relu False\n",
            "pool1_pad False\n",
            "pool1_pool False\n",
            "conv2_block1_1_conv False\n",
            "conv2_block1_1_bn False\n",
            "conv2_block1_1_relu False\n",
            "conv2_block1_2_conv False\n",
            "conv2_block1_2_bn False\n",
            "conv2_block1_2_relu False\n",
            "conv2_block1_0_conv False\n",
            "conv2_block1_3_conv False\n",
            "conv2_block1_0_bn False\n",
            "conv2_block1_3_bn False\n",
            "conv2_block1_add False\n",
            "conv2_block1_out False\n",
            "conv2_block2_1_conv False\n",
            "conv2_block2_1_bn False\n",
            "conv2_block2_1_relu False\n",
            "conv2_block2_2_conv False\n",
            "conv2_block2_2_bn False\n",
            "conv2_block2_2_relu False\n",
            "conv2_block2_3_conv False\n",
            "conv2_block2_3_bn False\n",
            "conv2_block2_add False\n",
            "conv2_block2_out False\n",
            "conv2_block3_1_conv False\n",
            "conv2_block3_1_bn False\n",
            "conv2_block3_1_relu False\n",
            "conv2_block3_2_conv False\n",
            "conv2_block3_2_bn False\n",
            "conv2_block3_2_relu False\n",
            "conv2_block3_3_conv False\n",
            "conv2_block3_3_bn False\n",
            "conv2_block3_add False\n",
            "conv2_block3_out False\n",
            "conv3_block1_1_conv False\n",
            "conv3_block1_1_bn False\n",
            "conv3_block1_1_relu False\n",
            "conv3_block1_2_conv False\n",
            "conv3_block1_2_bn False\n",
            "conv3_block1_2_relu False\n",
            "conv3_block1_0_conv False\n",
            "conv3_block1_3_conv False\n",
            "conv3_block1_0_bn False\n",
            "conv3_block1_3_bn False\n",
            "conv3_block1_add False\n",
            "conv3_block1_out False\n",
            "conv3_block2_1_conv False\n",
            "conv3_block2_1_bn False\n",
            "conv3_block2_1_relu False\n",
            "conv3_block2_2_conv False\n",
            "conv3_block2_2_bn False\n",
            "conv3_block2_2_relu False\n",
            "conv3_block2_3_conv False\n",
            "conv3_block2_3_bn False\n",
            "conv3_block2_add False\n",
            "conv3_block2_out False\n",
            "conv3_block3_1_conv False\n",
            "conv3_block3_1_bn False\n",
            "conv3_block3_1_relu False\n",
            "conv3_block3_2_conv False\n",
            "conv3_block3_2_bn False\n",
            "conv3_block3_2_relu False\n",
            "conv3_block3_3_conv False\n",
            "conv3_block3_3_bn False\n",
            "conv3_block3_add False\n",
            "conv3_block3_out False\n",
            "conv3_block4_1_conv False\n",
            "conv3_block4_1_bn False\n",
            "conv3_block4_1_relu False\n",
            "conv3_block4_2_conv False\n",
            "conv3_block4_2_bn False\n",
            "conv3_block4_2_relu False\n",
            "conv3_block4_3_conv False\n",
            "conv3_block4_3_bn False\n",
            "conv3_block4_add False\n",
            "conv3_block4_out False\n",
            "conv4_block1_1_conv False\n",
            "conv4_block1_1_bn False\n",
            "conv4_block1_1_relu False\n",
            "conv4_block1_2_conv False\n",
            "conv4_block1_2_bn False\n",
            "conv4_block1_2_relu False\n",
            "conv4_block1_0_conv False\n",
            "conv4_block1_3_conv False\n",
            "conv4_block1_0_bn False\n",
            "conv4_block1_3_bn False\n",
            "conv4_block1_add False\n",
            "conv4_block1_out False\n",
            "conv4_block2_1_conv False\n",
            "conv4_block2_1_bn False\n",
            "conv4_block2_1_relu False\n",
            "conv4_block2_2_conv False\n",
            "conv4_block2_2_bn False\n",
            "conv4_block2_2_relu False\n",
            "conv4_block2_3_conv False\n",
            "conv4_block2_3_bn False\n",
            "conv4_block2_add False\n",
            "conv4_block2_out False\n",
            "conv4_block3_1_conv False\n",
            "conv4_block3_1_bn False\n",
            "conv4_block3_1_relu False\n",
            "conv4_block3_2_conv False\n",
            "conv4_block3_2_bn False\n",
            "conv4_block3_2_relu False\n",
            "conv4_block3_3_conv False\n",
            "conv4_block3_3_bn False\n",
            "conv4_block3_add False\n",
            "conv4_block3_out False\n",
            "conv4_block4_1_conv False\n",
            "conv4_block4_1_bn False\n",
            "conv4_block4_1_relu False\n",
            "conv4_block4_2_conv False\n",
            "conv4_block4_2_bn False\n",
            "conv4_block4_2_relu False\n",
            "conv4_block4_3_conv False\n",
            "conv4_block4_3_bn False\n",
            "conv4_block4_add False\n",
            "conv4_block4_out False\n",
            "conv4_block5_1_conv False\n",
            "conv4_block5_1_bn False\n",
            "conv4_block5_1_relu False\n",
            "conv4_block5_2_conv False\n",
            "conv4_block5_2_bn False\n",
            "conv4_block5_2_relu False\n",
            "conv4_block5_3_conv False\n",
            "conv4_block5_3_bn False\n",
            "conv4_block5_add False\n",
            "conv4_block5_out False\n",
            "conv4_block6_1_conv False\n",
            "conv4_block6_1_bn False\n",
            "conv4_block6_1_relu False\n",
            "conv4_block6_2_conv False\n",
            "conv4_block6_2_bn False\n",
            "conv4_block6_2_relu False\n",
            "conv4_block6_3_conv False\n",
            "conv4_block6_3_bn False\n",
            "conv4_block6_add False\n",
            "conv4_block6_out False\n",
            "conv5_block1_1_conv True\n",
            "conv5_block1_1_bn True\n",
            "conv5_block1_1_relu True\n",
            "conv5_block1_2_conv True\n",
            "conv5_block1_2_bn True\n",
            "conv5_block1_2_relu True\n",
            "conv5_block1_0_conv True\n",
            "conv5_block1_3_conv True\n",
            "conv5_block1_0_bn True\n",
            "conv5_block1_3_bn True\n",
            "conv5_block1_add True\n",
            "conv5_block1_out True\n",
            "conv5_block2_1_conv True\n",
            "conv5_block2_1_bn True\n",
            "conv5_block2_1_relu True\n",
            "conv5_block2_2_conv True\n",
            "conv5_block2_2_bn True\n",
            "conv5_block2_2_relu True\n",
            "conv5_block2_3_conv True\n",
            "conv5_block2_3_bn True\n",
            "conv5_block2_add True\n",
            "conv5_block2_out True\n",
            "conv5_block3_1_conv True\n",
            "conv5_block3_1_bn True\n",
            "conv5_block3_1_relu True\n",
            "conv5_block3_2_conv True\n",
            "conv5_block3_2_bn True\n",
            "conv5_block3_2_relu True\n",
            "conv5_block3_3_conv True\n",
            "conv5_block3_3_bn True\n",
            "conv5_block3_add True\n",
            "conv5_block3_out True\n",
            "global_average_pooling2d_2 True\n",
            "dense_8 True\n",
            "dropout_6 True\n",
            "dense_9 True\n",
            "dropout_7 True\n",
            "dense_10 True\n",
            "dropout_8 True\n",
            "dense_11 True\n"
          ],
          "name": "stdout"
        }
      ]
    },
    {
      "cell_type": "code",
      "metadata": {
        "id": "vfOrj3UHnqkg",
        "colab_type": "code",
        "colab": {}
      },
      "source": [
        "opt = tf.keras.optimizers.Adam(lr=0.001)\n",
        "# compile the model (should be done *after* setting layers to non-trainable)\n",
        "few_unfrozen_resnet_model.compile(optimizer=opt, loss='categorical_crossentropy',metrics=['accuracy'])"
      ],
      "execution_count": 0,
      "outputs": []
    },
    {
      "cell_type": "markdown",
      "metadata": {
        "id": "ZmgEucTcyPqk",
        "colab_type": "text"
      },
      "source": [
        "#### fitting the model"
      ]
    },
    {
      "cell_type": "code",
      "metadata": {
        "id": "DZuKehrVG9L3",
        "colab_type": "code",
        "outputId": "a326ceb8-28db-429d-8f8e-1f14852f1988",
        "colab": {
          "base_uri": "https://localhost:8080/",
          "height": 1000
        }
      },
      "source": [
        "train_steps = int(len(df_train)/batch_size) #total trains set / batch_size\n",
        "val_steps = int(len(df_val)/batch_size)\n",
        "\n",
        "print('train steps:',train_steps)\n",
        "print('val steps:',val_steps)\n",
        "\n",
        "epochs = 50\n",
        "\n",
        "\n",
        "model_filepath = 'few_unfrozen_resnet50.h5'\n",
        "mcp = ModelCheckpoint(model_filepath, monitor='accuracy', save_best_only=True, mode='max')\n",
        "\n",
        "# Train the model with validation \n",
        "few_unfrozen_resnet50_history = few_unfrozen_resnet_model.fit( train_dataset, steps_per_epoch = train_steps,\n",
        "                   epochs = epochs,\n",
        "                   validation_data = valid_dataset,\n",
        "                   validation_steps = val_steps,\n",
        "                   callbacks=[mcp])"
      ],
      "execution_count": 0,
      "outputs": [
        {
          "output_type": "stream",
          "text": [
            "train steps: 24\n",
            "val steps: 3\n",
            "Train for 24 steps, validate for 3 steps\n",
            "Epoch 1/50\n",
            "24/24 [==============================] - 28s 1s/step - loss: 0.7800 - accuracy: 0.6469 - val_loss: 88.0040 - val_accuracy: 0.3444\n",
            "Epoch 2/50\n",
            "24/24 [==============================] - 19s 801ms/step - loss: 0.5582 - accuracy: 0.7632 - val_loss: 40.6131 - val_accuracy: 0.4361\n",
            "Epoch 3/50\n",
            "24/24 [==============================] - 20s 822ms/step - loss: 0.4777 - accuracy: 0.7885 - val_loss: 9.4407 - val_accuracy: 0.6000\n",
            "Epoch 4/50\n",
            "24/24 [==============================] - 20s 816ms/step - loss: 0.4187 - accuracy: 0.8139 - val_loss: 7.9000 - val_accuracy: 0.3500\n",
            "Epoch 5/50\n",
            "24/24 [==============================] - 20s 824ms/step - loss: 0.3800 - accuracy: 0.8302 - val_loss: 1.2563 - val_accuracy: 0.5139\n",
            "Epoch 6/50\n",
            "24/24 [==============================] - 20s 814ms/step - loss: 0.3303 - accuracy: 0.8559 - val_loss: 0.7451 - val_accuracy: 0.6639\n",
            "Epoch 7/50\n",
            "24/24 [==============================] - 20s 826ms/step - loss: 0.2972 - accuracy: 0.8674 - val_loss: 1.1272 - val_accuracy: 0.5250\n",
            "Epoch 8/50\n",
            "24/24 [==============================] - 20s 829ms/step - loss: 0.3072 - accuracy: 0.8684 - val_loss: 1.7502 - val_accuracy: 0.4556\n",
            "Epoch 9/50\n",
            "24/24 [==============================] - 20s 851ms/step - loss: 0.2713 - accuracy: 0.8830 - val_loss: 1.1495 - val_accuracy: 0.3944\n",
            "Epoch 10/50\n",
            "24/24 [==============================] - 20s 831ms/step - loss: 0.2107 - accuracy: 0.9090 - val_loss: 0.7310 - val_accuracy: 0.6722\n",
            "Epoch 11/50\n",
            "24/24 [==============================] - 20s 828ms/step - loss: 0.1790 - accuracy: 0.9288 - val_loss: 3.7329 - val_accuracy: 0.4056\n",
            "Epoch 12/50\n",
            "24/24 [==============================] - 20s 822ms/step - loss: 0.1338 - accuracy: 0.9444 - val_loss: 1.1219 - val_accuracy: 0.5528\n",
            "Epoch 13/50\n",
            "24/24 [==============================] - 18s 736ms/step - loss: 0.1489 - accuracy: 0.9410 - val_loss: 1.4283 - val_accuracy: 0.6194\n",
            "Epoch 14/50\n",
            "24/24 [==============================] - 20s 828ms/step - loss: 0.1245 - accuracy: 0.9549 - val_loss: 6.6303 - val_accuracy: 0.3722\n",
            "Epoch 15/50\n",
            "24/24 [==============================] - 20s 823ms/step - loss: 0.1164 - accuracy: 0.9573 - val_loss: 2.7798 - val_accuracy: 0.5083\n",
            "Epoch 16/50\n",
            "24/24 [==============================] - 21s 858ms/step - loss: 0.1181 - accuracy: 0.9646 - val_loss: 4.2268 - val_accuracy: 0.4556\n",
            "Epoch 17/50\n",
            "24/24 [==============================] - 17s 725ms/step - loss: 0.1155 - accuracy: 0.9590 - val_loss: 1.4366 - val_accuracy: 0.4778\n",
            "Epoch 18/50\n",
            "24/24 [==============================] - 20s 824ms/step - loss: 0.0947 - accuracy: 0.9684 - val_loss: 0.7937 - val_accuracy: 0.6167\n",
            "Epoch 19/50\n",
            "24/24 [==============================] - 20s 837ms/step - loss: 0.0766 - accuracy: 0.9729 - val_loss: 2.4483 - val_accuracy: 0.3694\n",
            "Epoch 20/50\n",
            "24/24 [==============================] - 20s 828ms/step - loss: 0.0475 - accuracy: 0.9868 - val_loss: 4.1693 - val_accuracy: 0.3333\n",
            "Epoch 21/50\n",
            "24/24 [==============================] - 17s 726ms/step - loss: 0.0367 - accuracy: 0.9854 - val_loss: 2.2731 - val_accuracy: 0.3528\n",
            "Epoch 22/50\n",
            "24/24 [==============================] - 20s 828ms/step - loss: 0.0208 - accuracy: 0.9927 - val_loss: 1.9000 - val_accuracy: 0.3833\n",
            "Epoch 23/50\n",
            "24/24 [==============================] - 17s 725ms/step - loss: 0.0600 - accuracy: 0.9861 - val_loss: 1.5328 - val_accuracy: 0.3833\n",
            "Epoch 24/50\n",
            "24/24 [==============================] - 17s 723ms/step - loss: 0.0453 - accuracy: 0.9892 - val_loss: 1.6715 - val_accuracy: 0.4972\n",
            "Epoch 25/50\n",
            "24/24 [==============================] - 18s 731ms/step - loss: 0.0240 - accuracy: 0.9927 - val_loss: 4.3616 - val_accuracy: 0.3500\n",
            "Epoch 26/50\n",
            "24/24 [==============================] - 17s 724ms/step - loss: 0.0533 - accuracy: 0.9812 - val_loss: 4.6357 - val_accuracy: 0.3361\n",
            "Epoch 27/50\n",
            "24/24 [==============================] - 17s 723ms/step - loss: 0.1040 - accuracy: 0.9691 - val_loss: 8.3729 - val_accuracy: 0.6694\n",
            "Epoch 28/50\n",
            "24/24 [==============================] - 17s 725ms/step - loss: 0.0667 - accuracy: 0.9781 - val_loss: 4.8990 - val_accuracy: 0.5306\n",
            "Epoch 29/50\n",
            "24/24 [==============================] - 17s 729ms/step - loss: 0.0509 - accuracy: 0.9844 - val_loss: 4.4049 - val_accuracy: 0.4722\n",
            "Epoch 30/50\n",
            "24/24 [==============================] - 18s 748ms/step - loss: 0.0271 - accuracy: 0.9924 - val_loss: 3.8975 - val_accuracy: 0.4806\n",
            "Epoch 31/50\n",
            "24/24 [==============================] - 17s 721ms/step - loss: 0.0356 - accuracy: 0.9910 - val_loss: 1.1400 - val_accuracy: 0.6139\n",
            "Epoch 32/50\n",
            "24/24 [==============================] - 18s 732ms/step - loss: 0.0202 - accuracy: 0.9920 - val_loss: 1.6952 - val_accuracy: 0.5500\n",
            "Epoch 33/50\n",
            "24/24 [==============================] - 20s 848ms/step - loss: 0.0172 - accuracy: 0.9941 - val_loss: 4.8859 - val_accuracy: 0.4222\n",
            "Epoch 34/50\n",
            "24/24 [==============================] - 18s 736ms/step - loss: 0.0333 - accuracy: 0.9896 - val_loss: 5.5102 - val_accuracy: 0.4417\n",
            "Epoch 35/50\n",
            "24/24 [==============================] - 17s 728ms/step - loss: 0.0265 - accuracy: 0.9913 - val_loss: 5.8035 - val_accuracy: 0.3833\n",
            "Epoch 36/50\n",
            "24/24 [==============================] - 17s 727ms/step - loss: 0.0413 - accuracy: 0.9899 - val_loss: 6.3535 - val_accuracy: 0.3583\n",
            "Epoch 37/50\n",
            "24/24 [==============================] - 20s 833ms/step - loss: 0.0197 - accuracy: 0.9951 - val_loss: 6.9044 - val_accuracy: 0.3528\n",
            "Epoch 38/50\n",
            "24/24 [==============================] - 17s 727ms/step - loss: 0.0252 - accuracy: 0.9931 - val_loss: 3.9636 - val_accuracy: 0.3944\n",
            "Epoch 39/50\n",
            "24/24 [==============================] - 18s 732ms/step - loss: 0.0188 - accuracy: 0.9948 - val_loss: 5.9553 - val_accuracy: 0.3583\n",
            "Epoch 40/50\n",
            "24/24 [==============================] - 17s 727ms/step - loss: 0.0161 - accuracy: 0.9951 - val_loss: 4.3268 - val_accuracy: 0.3611\n",
            "Epoch 41/50\n",
            "24/24 [==============================] - 18s 730ms/step - loss: 0.0210 - accuracy: 0.9937 - val_loss: 5.0254 - val_accuracy: 0.3639\n",
            "Epoch 42/50\n",
            "24/24 [==============================] - 18s 743ms/step - loss: 0.0212 - accuracy: 0.9917 - val_loss: 2.6108 - val_accuracy: 0.4194\n",
            "Epoch 43/50\n",
            "24/24 [==============================] - 20s 838ms/step - loss: 0.0075 - accuracy: 0.9976 - val_loss: 4.7773 - val_accuracy: 0.3861\n",
            "Epoch 44/50\n",
            "24/24 [==============================] - 18s 733ms/step - loss: 0.0137 - accuracy: 0.9965 - val_loss: 10.0157 - val_accuracy: 0.3444\n",
            "Epoch 45/50\n",
            "24/24 [==============================] - 17s 727ms/step - loss: 0.0166 - accuracy: 0.9962 - val_loss: 6.9339 - val_accuracy: 0.3639\n",
            "Epoch 46/50\n",
            "24/24 [==============================] - 18s 732ms/step - loss: 0.0105 - accuracy: 0.9972 - val_loss: 4.4865 - val_accuracy: 0.4000\n",
            "Epoch 47/50\n",
            "24/24 [==============================] - 18s 734ms/step - loss: 0.0185 - accuracy: 0.9944 - val_loss: 4.3366 - val_accuracy: 0.4111\n",
            "Epoch 48/50\n",
            "24/24 [==============================] - 18s 739ms/step - loss: 0.0276 - accuracy: 0.9892 - val_loss: 3.6857 - val_accuracy: 0.4083\n",
            "Epoch 49/50\n",
            "24/24 [==============================] - 17s 728ms/step - loss: 0.0210 - accuracy: 0.9951 - val_loss: 7.5855 - val_accuracy: 0.3389\n",
            "Epoch 50/50\n",
            "24/24 [==============================] - 17s 729ms/step - loss: 0.0256 - accuracy: 0.9917 - val_loss: 8.1797 - val_accuracy: 0.3417\n"
          ],
          "name": "stdout"
        }
      ]
    },
    {
      "cell_type": "markdown",
      "metadata": {
        "id": "7OV3ADJdqwgc",
        "colab_type": "text"
      },
      "source": [
        "#### testing the model"
      ]
    },
    {
      "cell_type": "code",
      "metadata": {
        "id": "AJhNK0O3qyni",
        "colab_type": "code",
        "outputId": "7ba6a831-2774-4b68-803a-e17ed35b026e",
        "colab": {
          "base_uri": "https://localhost:8080/",
          "height": 50
        }
      },
      "source": [
        "test_steps = int(len(df_test)/batch_size)\n",
        "\n",
        "metrics = few_unfrozen_resnet_model.evaluate(test_dataset,\n",
        "                   steps = test_steps)\n",
        "print(\"model accuracy:\",metrics[1])"
      ],
      "execution_count": 0,
      "outputs": [
        {
          "output_type": "stream",
          "text": [
            "3/3 [==============================] - 2s 506ms/step - loss: 7.9226 - accuracy: 0.3417\n",
            "model accuracy: 0.34166667\n"
          ],
          "name": "stdout"
        }
      ]
    },
    {
      "cell_type": "markdown",
      "metadata": {
        "colab_type": "text",
        "id": "XSf8CvddsE-S"
      },
      "source": [
        "#### plotting training"
      ]
    },
    {
      "cell_type": "code",
      "metadata": {
        "id": "Wvm3gb95D6Ip",
        "colab_type": "code",
        "outputId": "49c5d5e8-559b-4367-dec2-64714f2bfdc8",
        "colab": {
          "base_uri": "https://localhost:8080/",
          "height": 34
        }
      },
      "source": [
        "pwd"
      ],
      "execution_count": 0,
      "outputs": [
        {
          "output_type": "execute_result",
          "data": {
            "text/plain": [
              "'/content/drive/My Drive'"
            ]
          },
          "metadata": {
            "tags": []
          },
          "execution_count": 69
        }
      ]
    },
    {
      "cell_type": "code",
      "metadata": {
        "colab_type": "code",
        "outputId": "8bbc7943-228f-4c30-f197-f9fcc331f120",
        "id": "0dq5Wl9csE-f",
        "colab": {
          "base_uri": "https://localhost:8080/",
          "height": 573
        }
      },
      "source": [
        "plot_hist(few_unfrozen_resnet50_history, 'few_unfrozen_resnet50')"
      ],
      "execution_count": 0,
      "outputs": [
        {
          "output_type": "display_data",
          "data": {
            "image/png": "[encoded data removed]",
            "text/plain": [
              "<Figure size 432x288 with 1 Axes>"
            ]
          },
          "metadata": {
            "tags": []
          }
        },
        {
          "output_type": "display_data",
          "data": {
            "image/png": "[encoded data removed]",
            "text/plain": [
              "<Figure size 432x288 with 1 Axes>"
            ]
          },
          "metadata": {
            "tags": []
          }
        }
      ]
    },
    {
      "cell_type": "markdown",
      "metadata": {
        "id": "LARhhZGYyTV9",
        "colab_type": "text"
      },
      "source": [
        "#### saving the history of the fitting"
      ]
    },
    {
      "cell_type": "code",
      "metadata": {
        "id": "whH3xT9KT1Ck",
        "colab_type": "code",
        "outputId": "98142bb0-f0f3-442e-db67-5ca607146551",
        "colab": {
          "base_uri": "https://localhost:8080/",
          "height": 34
        }
      },
      "source": [
        "with open(cwd + '/trainHistoryDict/few_unfrozen_resnet50_history.p', 'wb') as file_pi:\n",
        "        pickle.dump(few_unfrozen_resnet50_history.history, file_pi)\n",
        "print('history saved')"
      ],
      "execution_count": 0,
      "outputs": [
        {
          "output_type": "stream",
          "text": [
            "history saved\n"
          ],
          "name": "stdout"
        }
      ]
    },
    {
      "cell_type": "markdown",
      "metadata": {
        "colab_type": "text",
        "id": "22GUAtjSraz8"
      },
      "source": [
        "## Many layers unfrozen"
      ]
    },
    {
      "cell_type": "markdown",
      "metadata": {
        "colab_type": "text",
        "id": "QAKiIPjpra0F"
      },
      "source": [
        "#### loading model"
      ]
    },
    {
      "cell_type": "code",
      "metadata": {
        "colab_type": "code",
        "id": "QCFFXBFXra0I",
        "colab": {}
      },
      "source": [
        "resnet_50 = tf.keras.applications.ResNet50(\n",
        "    include_top=False,\n",
        "    weights='imagenet',\n",
        "    input_shape=(200,200,3),\n",
        "    pooling=None\n",
        ")"
      ],
      "execution_count": 0,
      "outputs": []
    },
    {
      "cell_type": "markdown",
      "metadata": {
        "colab_type": "text",
        "id": "l8XDJ-sVra0T"
      },
      "source": [
        "#### modifying slightly"
      ]
    },
    {
      "cell_type": "code",
      "metadata": {
        "colab_type": "code",
        "id": "5a8zr3Xqra0W",
        "colab": {}
      },
      "source": [
        "x = resnet_50.output\n",
        "\n",
        "x = GlobalAveragePooling2D()(x)\n",
        "\n",
        "# let's add a fully-connected layer\n",
        "x = Dense(512, activation='relu')(x)\n",
        "\n",
        "x = Dropout(0.5)(x)\n",
        "\n",
        "#x = GlobalAveragePooling2D()(x)\n",
        "\n",
        "# let's add a fully-connected layer\n",
        "x = Dense(512, activation='relu')(x)\n",
        "\n",
        "x = Dropout(0.5)(x)\n",
        "\n",
        "# let's add a fully-connected layer\n",
        "x = Dense(512, activation='relu')(x)\n",
        "\n",
        "x = Dropout(0.5)(x)\n",
        "\n",
        "# and a logits layer -- let's say we have 3 classes\n",
        "predictions = Dense(3, activation='softmax')(x)"
      ],
      "execution_count": 0,
      "outputs": []
    },
    {
      "cell_type": "markdown",
      "metadata": {
        "colab_type": "text",
        "id": "wqxyAmXcra0k"
      },
      "source": [
        "#### creating model object"
      ]
    },
    {
      "cell_type": "code",
      "metadata": {
        "colab_type": "code",
        "id": "V28yL8gpra0n",
        "colab": {}
      },
      "source": [
        "# this is the model we will train\n",
        "many_unfrozen_resnet_model = Model(inputs=resnet_50.input, outputs=predictions)"
      ],
      "execution_count": 0,
      "outputs": []
    },
    {
      "cell_type": "code",
      "metadata": {
        "colab_type": "code",
        "outputId": "3426f2f2-f1c6-4496-ebfb-e9ef437f09ca",
        "id": "unASmwXNra0r",
        "colab": {
          "base_uri": "https://localhost:8080/",
          "height": 1000
        }
      },
      "source": [
        "for layer in resnet_50.layers:\n",
        "    print(layer.name)\n",
        "    layer.trainable = False"
      ],
      "execution_count": 0,
      "outputs": [
        {
          "output_type": "stream",
          "text": [
            "input_6\n",
            "conv1_pad\n",
            "conv1_conv\n",
            "conv1_bn\n",
            "conv1_relu\n",
            "pool1_pad\n",
            "pool1_pool\n",
            "conv2_block1_1_conv\n",
            "conv2_block1_1_bn\n",
            "conv2_block1_1_relu\n",
            "conv2_block1_2_conv\n",
            "conv2_block1_2_bn\n",
            "conv2_block1_2_relu\n",
            "conv2_block1_0_conv\n",
            "conv2_block1_3_conv\n",
            "conv2_block1_0_bn\n",
            "conv2_block1_3_bn\n",
            "conv2_block1_add\n",
            "conv2_block1_out\n",
            "conv2_block2_1_conv\n",
            "conv2_block2_1_bn\n",
            "conv2_block2_1_relu\n",
            "conv2_block2_2_conv\n",
            "conv2_block2_2_bn\n",
            "conv2_block2_2_relu\n",
            "conv2_block2_3_conv\n",
            "conv2_block2_3_bn\n",
            "conv2_block2_add\n",
            "conv2_block2_out\n",
            "conv2_block3_1_conv\n",
            "conv2_block3_1_bn\n",
            "conv2_block3_1_relu\n",
            "conv2_block3_2_conv\n",
            "conv2_block3_2_bn\n",
            "conv2_block3_2_relu\n",
            "conv2_block3_3_conv\n",
            "conv2_block3_3_bn\n",
            "conv2_block3_add\n",
            "conv2_block3_out\n",
            "conv3_block1_1_conv\n",
            "conv3_block1_1_bn\n",
            "conv3_block1_1_relu\n",
            "conv3_block1_2_conv\n",
            "conv3_block1_2_bn\n",
            "conv3_block1_2_relu\n",
            "conv3_block1_0_conv\n",
            "conv3_block1_3_conv\n",
            "conv3_block1_0_bn\n",
            "conv3_block1_3_bn\n",
            "conv3_block1_add\n",
            "conv3_block1_out\n",
            "conv3_block2_1_conv\n",
            "conv3_block2_1_bn\n",
            "conv3_block2_1_relu\n",
            "conv3_block2_2_conv\n",
            "conv3_block2_2_bn\n",
            "conv3_block2_2_relu\n",
            "conv3_block2_3_conv\n",
            "conv3_block2_3_bn\n",
            "conv3_block2_add\n",
            "conv3_block2_out\n",
            "conv3_block3_1_conv\n",
            "conv3_block3_1_bn\n",
            "conv3_block3_1_relu\n",
            "conv3_block3_2_conv\n",
            "conv3_block3_2_bn\n",
            "conv3_block3_2_relu\n",
            "conv3_block3_3_conv\n",
            "conv3_block3_3_bn\n",
            "conv3_block3_add\n",
            "conv3_block3_out\n",
            "conv3_block4_1_conv\n",
            "conv3_block4_1_bn\n",
            "conv3_block4_1_relu\n",
            "conv3_block4_2_conv\n",
            "conv3_block4_2_bn\n",
            "conv3_block4_2_relu\n",
            "conv3_block4_3_conv\n",
            "conv3_block4_3_bn\n",
            "conv3_block4_add\n",
            "conv3_block4_out\n",
            "conv4_block1_1_conv\n",
            "conv4_block1_1_bn\n",
            "conv4_block1_1_relu\n",
            "conv4_block1_2_conv\n",
            "conv4_block1_2_bn\n",
            "conv4_block1_2_relu\n",
            "conv4_block1_0_conv\n",
            "conv4_block1_3_conv\n",
            "conv4_block1_0_bn\n",
            "conv4_block1_3_bn\n",
            "conv4_block1_add\n",
            "conv4_block1_out\n",
            "conv4_block2_1_conv\n",
            "conv4_block2_1_bn\n",
            "conv4_block2_1_relu\n",
            "conv4_block2_2_conv\n",
            "conv4_block2_2_bn\n",
            "conv4_block2_2_relu\n",
            "conv4_block2_3_conv\n",
            "conv4_block2_3_bn\n",
            "conv4_block2_add\n",
            "conv4_block2_out\n",
            "conv4_block3_1_conv\n",
            "conv4_block3_1_bn\n",
            "conv4_block3_1_relu\n",
            "conv4_block3_2_conv\n",
            "conv4_block3_2_bn\n",
            "conv4_block3_2_relu\n",
            "conv4_block3_3_conv\n",
            "conv4_block3_3_bn\n",
            "conv4_block3_add\n",
            "conv4_block3_out\n",
            "conv4_block4_1_conv\n",
            "conv4_block4_1_bn\n",
            "conv4_block4_1_relu\n",
            "conv4_block4_2_conv\n",
            "conv4_block4_2_bn\n",
            "conv4_block4_2_relu\n",
            "conv4_block4_3_conv\n",
            "conv4_block4_3_bn\n",
            "conv4_block4_add\n",
            "conv4_block4_out\n",
            "conv4_block5_1_conv\n",
            "conv4_block5_1_bn\n",
            "conv4_block5_1_relu\n",
            "conv4_block5_2_conv\n",
            "conv4_block5_2_bn\n",
            "conv4_block5_2_relu\n",
            "conv4_block5_3_conv\n",
            "conv4_block5_3_bn\n",
            "conv4_block5_add\n",
            "conv4_block5_out\n",
            "conv4_block6_1_conv\n",
            "conv4_block6_1_bn\n",
            "conv4_block6_1_relu\n",
            "conv4_block6_2_conv\n",
            "conv4_block6_2_bn\n",
            "conv4_block6_2_relu\n",
            "conv4_block6_3_conv\n",
            "conv4_block6_3_bn\n",
            "conv4_block6_add\n",
            "conv4_block6_out\n",
            "conv5_block1_1_conv\n",
            "conv5_block1_1_bn\n",
            "conv5_block1_1_relu\n",
            "conv5_block1_2_conv\n",
            "conv5_block1_2_bn\n",
            "conv5_block1_2_relu\n",
            "conv5_block1_0_conv\n",
            "conv5_block1_3_conv\n",
            "conv5_block1_0_bn\n",
            "conv5_block1_3_bn\n",
            "conv5_block1_add\n",
            "conv5_block1_out\n",
            "conv5_block2_1_conv\n",
            "conv5_block2_1_bn\n",
            "conv5_block2_1_relu\n",
            "conv5_block2_2_conv\n",
            "conv5_block2_2_bn\n",
            "conv5_block2_2_relu\n",
            "conv5_block2_3_conv\n",
            "conv5_block2_3_bn\n",
            "conv5_block2_add\n",
            "conv5_block2_out\n",
            "conv5_block3_1_conv\n",
            "conv5_block3_1_bn\n",
            "conv5_block3_1_relu\n",
            "conv5_block3_2_conv\n",
            "conv5_block3_2_bn\n",
            "conv5_block3_2_relu\n",
            "conv5_block3_3_conv\n",
            "conv5_block3_3_bn\n",
            "conv5_block3_add\n",
            "conv5_block3_out\n"
          ],
          "name": "stdout"
        }
      ]
    },
    {
      "cell_type": "code",
      "metadata": {
        "colab_type": "code",
        "id": "LEWRmERora0w",
        "outputId": "98253560-3eef-4088-9b58-d80e7f6e334a",
        "colab": {
          "base_uri": "https://localhost:8080/",
          "height": 34
        }
      },
      "source": [
        "many_unfrozen_resnet_model.trainable = True\n",
        "trainable_count = 0\n",
        "\n",
        "set_trainable = False\n",
        "\n",
        "\n",
        "for layer in many_unfrozen_resnet_model.layers:\n",
        "    if layer.name == 'conv3_block1_1_conv':\n",
        "        set_trainable = True\n",
        "    if set_trainable:\n",
        "        layer.trainable = True\n",
        "        trainable_count += 1\n",
        "    else:\n",
        "        layer.trainable = False\n",
        "\n",
        "print('percent unfrozen:', trainable_count/ len(resnet_50.layers) * 100 , '%')"
      ],
      "execution_count": 0,
      "outputs": [
        {
          "output_type": "stream",
          "text": [
            "percent unfrozen: 78.68852459016394 %\n"
          ],
          "name": "stdout"
        }
      ]
    },
    {
      "cell_type": "code",
      "metadata": {
        "colab_type": "code",
        "outputId": "99b549cb-8684-4c2b-9ef1-cb2c374f6079",
        "id": "zOYnK1S2ra0y",
        "colab": {
          "base_uri": "https://localhost:8080/",
          "height": 1000
        }
      },
      "source": [
        "for layer in many_unfrozen_resnet_model.layers:\n",
        "    print(layer.name,layer.trainable)"
      ],
      "execution_count": 0,
      "outputs": [
        {
          "output_type": "stream",
          "text": [
            "input_6 False\n",
            "conv1_pad False\n",
            "conv1_conv False\n",
            "conv1_bn False\n",
            "conv1_relu False\n",
            "pool1_pad False\n",
            "pool1_pool False\n",
            "conv2_block1_1_conv False\n",
            "conv2_block1_1_bn False\n",
            "conv2_block1_1_relu False\n",
            "conv2_block1_2_conv False\n",
            "conv2_block1_2_bn False\n",
            "conv2_block1_2_relu False\n",
            "conv2_block1_0_conv False\n",
            "conv2_block1_3_conv False\n",
            "conv2_block1_0_bn False\n",
            "conv2_block1_3_bn False\n",
            "conv2_block1_add False\n",
            "conv2_block1_out False\n",
            "conv2_block2_1_conv False\n",
            "conv2_block2_1_bn False\n",
            "conv2_block2_1_relu False\n",
            "conv2_block2_2_conv False\n",
            "conv2_block2_2_bn False\n",
            "conv2_block2_2_relu False\n",
            "conv2_block2_3_conv False\n",
            "conv2_block2_3_bn False\n",
            "conv2_block2_add False\n",
            "conv2_block2_out False\n",
            "conv2_block3_1_conv False\n",
            "conv2_block3_1_bn False\n",
            "conv2_block3_1_relu False\n",
            "conv2_block3_2_conv False\n",
            "conv2_block3_2_bn False\n",
            "conv2_block3_2_relu False\n",
            "conv2_block3_3_conv False\n",
            "conv2_block3_3_bn False\n",
            "conv2_block3_add False\n",
            "conv2_block3_out False\n",
            "conv3_block1_1_conv True\n",
            "conv3_block1_1_bn True\n",
            "conv3_block1_1_relu True\n",
            "conv3_block1_2_conv True\n",
            "conv3_block1_2_bn True\n",
            "conv3_block1_2_relu True\n",
            "conv3_block1_0_conv True\n",
            "conv3_block1_3_conv True\n",
            "conv3_block1_0_bn True\n",
            "conv3_block1_3_bn True\n",
            "conv3_block1_add True\n",
            "conv3_block1_out True\n",
            "conv3_block2_1_conv True\n",
            "conv3_block2_1_bn True\n",
            "conv3_block2_1_relu True\n",
            "conv3_block2_2_conv True\n",
            "conv3_block2_2_bn True\n",
            "conv3_block2_2_relu True\n",
            "conv3_block2_3_conv True\n",
            "conv3_block2_3_bn True\n",
            "conv3_block2_add True\n",
            "conv3_block2_out True\n",
            "conv3_block3_1_conv True\n",
            "conv3_block3_1_bn True\n",
            "conv3_block3_1_relu True\n",
            "conv3_block3_2_conv True\n",
            "conv3_block3_2_bn True\n",
            "conv3_block3_2_relu True\n",
            "conv3_block3_3_conv True\n",
            "conv3_block3_3_bn True\n",
            "conv3_block3_add True\n",
            "conv3_block3_out True\n",
            "conv3_block4_1_conv True\n",
            "conv3_block4_1_bn True\n",
            "conv3_block4_1_relu True\n",
            "conv3_block4_2_conv True\n",
            "conv3_block4_2_bn True\n",
            "conv3_block4_2_relu True\n",
            "conv3_block4_3_conv True\n",
            "conv3_block4_3_bn True\n",
            "conv3_block4_add True\n",
            "conv3_block4_out True\n",
            "conv4_block1_1_conv True\n",
            "conv4_block1_1_bn True\n",
            "conv4_block1_1_relu True\n",
            "conv4_block1_2_conv True\n",
            "conv4_block1_2_bn True\n",
            "conv4_block1_2_relu True\n",
            "conv4_block1_0_conv True\n",
            "conv4_block1_3_conv True\n",
            "conv4_block1_0_bn True\n",
            "conv4_block1_3_bn True\n",
            "conv4_block1_add True\n",
            "conv4_block1_out True\n",
            "conv4_block2_1_conv True\n",
            "conv4_block2_1_bn True\n",
            "conv4_block2_1_relu True\n",
            "conv4_block2_2_conv True\n",
            "conv4_block2_2_bn True\n",
            "conv4_block2_2_relu True\n",
            "conv4_block2_3_conv True\n",
            "conv4_block2_3_bn True\n",
            "conv4_block2_add True\n",
            "conv4_block2_out True\n",
            "conv4_block3_1_conv True\n",
            "conv4_block3_1_bn True\n",
            "conv4_block3_1_relu True\n",
            "conv4_block3_2_conv True\n",
            "conv4_block3_2_bn True\n",
            "conv4_block3_2_relu True\n",
            "conv4_block3_3_conv True\n",
            "conv4_block3_3_bn True\n",
            "conv4_block3_add True\n",
            "conv4_block3_out True\n",
            "conv4_block4_1_conv True\n",
            "conv4_block4_1_bn True\n",
            "conv4_block4_1_relu True\n",
            "conv4_block4_2_conv True\n",
            "conv4_block4_2_bn True\n",
            "conv4_block4_2_relu True\n",
            "conv4_block4_3_conv True\n",
            "conv4_block4_3_bn True\n",
            "conv4_block4_add True\n",
            "conv4_block4_out True\n",
            "conv4_block5_1_conv True\n",
            "conv4_block5_1_bn True\n",
            "conv4_block5_1_relu True\n",
            "conv4_block5_2_conv True\n",
            "conv4_block5_2_bn True\n",
            "conv4_block5_2_relu True\n",
            "conv4_block5_3_conv True\n",
            "conv4_block5_3_bn True\n",
            "conv4_block5_add True\n",
            "conv4_block5_out True\n",
            "conv4_block6_1_conv True\n",
            "conv4_block6_1_bn True\n",
            "conv4_block6_1_relu True\n",
            "conv4_block6_2_conv True\n",
            "conv4_block6_2_bn True\n",
            "conv4_block6_2_relu True\n",
            "conv4_block6_3_conv True\n",
            "conv4_block6_3_bn True\n",
            "conv4_block6_add True\n",
            "conv4_block6_out True\n",
            "conv5_block1_1_conv True\n",
            "conv5_block1_1_bn True\n",
            "conv5_block1_1_relu True\n",
            "conv5_block1_2_conv True\n",
            "conv5_block1_2_bn True\n",
            "conv5_block1_2_relu True\n",
            "conv5_block1_0_conv True\n",
            "conv5_block1_3_conv True\n",
            "conv5_block1_0_bn True\n",
            "conv5_block1_3_bn True\n",
            "conv5_block1_add True\n",
            "conv5_block1_out True\n",
            "conv5_block2_1_conv True\n",
            "conv5_block2_1_bn True\n",
            "conv5_block2_1_relu True\n",
            "conv5_block2_2_conv True\n",
            "conv5_block2_2_bn True\n",
            "conv5_block2_2_relu True\n",
            "conv5_block2_3_conv True\n",
            "conv5_block2_3_bn True\n",
            "conv5_block2_add True\n",
            "conv5_block2_out True\n",
            "conv5_block3_1_conv True\n",
            "conv5_block3_1_bn True\n",
            "conv5_block3_1_relu True\n",
            "conv5_block3_2_conv True\n",
            "conv5_block3_2_bn True\n",
            "conv5_block3_2_relu True\n",
            "conv5_block3_3_conv True\n",
            "conv5_block3_3_bn True\n",
            "conv5_block3_add True\n",
            "conv5_block3_out True\n",
            "global_average_pooling2d_3 True\n",
            "dense_12 True\n",
            "dropout_9 True\n",
            "dense_13 True\n",
            "dropout_10 True\n",
            "dense_14 True\n",
            "dropout_11 True\n",
            "dense_15 True\n"
          ],
          "name": "stdout"
        }
      ]
    },
    {
      "cell_type": "code",
      "metadata": {
        "colab_type": "code",
        "id": "0kacZQ9-ra03",
        "colab": {}
      },
      "source": [
        "opt = tf.keras.optimizers.Adam(lr=0.001)\n",
        "# compile the model (should be done *after* setting layers to non-trainable)\n",
        "many_unfrozen_resnet_model.compile(optimizer=opt, loss='categorical_crossentropy',metrics=['accuracy'])"
      ],
      "execution_count": 0,
      "outputs": []
    },
    {
      "cell_type": "markdown",
      "metadata": {
        "colab_type": "text",
        "id": "RCwT3xSWra06"
      },
      "source": [
        "#### fitting the model"
      ]
    },
    {
      "cell_type": "code",
      "metadata": {
        "colab_type": "code",
        "outputId": "8da19206-6585-47ca-c722-596320df8998",
        "id": "yUzNFBPrra07",
        "colab": {
          "base_uri": "https://localhost:8080/",
          "height": 1000
        }
      },
      "source": [
        "train_steps = int(len(df_train)/batch_size) #total trains set / batch_size\n",
        "val_steps = int(len(df_val)/batch_size)\n",
        "\n",
        "print('train steps:',train_steps)\n",
        "print('val steps:',val_steps)\n",
        "\n",
        "epochs = 50\n",
        "\n",
        "\n",
        "model_filepath = 'many_unfrozen_resnet50.h5'\n",
        "mcp = ModelCheckpoint(model_filepath, monitor='accuracy', save_best_only=True, mode='max')\n",
        "\n",
        "# Train the model with validation \n",
        "\n",
        "many_unfrozen_resnet50_history = many_unfrozen_resnet_model.fit( train_dataset, steps_per_epoch = train_steps,\n",
        "                   epochs = epochs,\n",
        "                   validation_data = valid_dataset,\n",
        "                   validation_steps = val_steps,\n",
        "                   callbacks=[mcp])"
      ],
      "execution_count": 0,
      "outputs": [
        {
          "output_type": "stream",
          "text": [
            "train steps: 24\n",
            "val steps: 3\n",
            "Train for 24 steps, validate for 3 steps\n",
            "Epoch 1/50\n",
            "24/24 [==============================] - 37s 2s/step - loss: 0.7988 - accuracy: 0.6503 - val_loss: 29178.1966 - val_accuracy: 0.3444\n",
            "Epoch 2/50\n",
            "24/24 [==============================] - 30s 1s/step - loss: 0.5969 - accuracy: 0.7427 - val_loss: 416480.6250 - val_accuracy: 0.3444\n",
            "Epoch 3/50\n",
            "24/24 [==============================] - 29s 1s/step - loss: 0.5278 - accuracy: 0.7639 - val_loss: 868.7429 - val_accuracy: 0.3444\n",
            "Epoch 4/50\n",
            "24/24 [==============================] - 29s 1s/step - loss: 0.5001 - accuracy: 0.7819 - val_loss: 4407.2554 - val_accuracy: 0.3444\n",
            "Epoch 5/50\n",
            "24/24 [==============================] - 30s 1s/step - loss: 0.4605 - accuracy: 0.7931 - val_loss: 3.0826 - val_accuracy: 0.4556\n",
            "Epoch 6/50\n",
            "24/24 [==============================] - 30s 1s/step - loss: 0.4455 - accuracy: 0.8135 - val_loss: 3.0396 - val_accuracy: 0.4361\n",
            "Epoch 7/50\n",
            "24/24 [==============================] - 27s 1s/step - loss: 0.4275 - accuracy: 0.8111 - val_loss: 3.2964 - val_accuracy: 0.3944\n",
            "Epoch 8/50\n",
            "24/24 [==============================] - 30s 1s/step - loss: 0.4266 - accuracy: 0.8153 - val_loss: 1.0284 - val_accuracy: 0.6444\n",
            "Epoch 9/50\n",
            "24/24 [==============================] - 30s 1s/step - loss: 0.4099 - accuracy: 0.8233 - val_loss: 0.7349 - val_accuracy: 0.6194\n",
            "Epoch 10/50\n",
            "24/24 [==============================] - 30s 1s/step - loss: 0.3924 - accuracy: 0.8253 - val_loss: 0.8871 - val_accuracy: 0.5639\n",
            "Epoch 11/50\n",
            "24/24 [==============================] - 30s 1s/step - loss: 0.3723 - accuracy: 0.8399 - val_loss: 7.7075 - val_accuracy: 0.3472\n",
            "Epoch 12/50\n",
            "24/24 [==============================] - 31s 1s/step - loss: 0.3328 - accuracy: 0.8503 - val_loss: 0.8008 - val_accuracy: 0.6500\n",
            "Epoch 13/50\n",
            "24/24 [==============================] - 30s 1s/step - loss: 0.3080 - accuracy: 0.8628 - val_loss: 0.8740 - val_accuracy: 0.6167\n",
            "Epoch 14/50\n",
            "24/24 [==============================] - 27s 1s/step - loss: 0.2997 - accuracy: 0.8618 - val_loss: 0.7974 - val_accuracy: 0.6361\n",
            "Epoch 15/50\n",
            "24/24 [==============================] - 29s 1s/step - loss: 0.3073 - accuracy: 0.8642 - val_loss: 2.7380 - val_accuracy: 0.3972\n",
            "Epoch 16/50\n",
            "24/24 [==============================] - 30s 1s/step - loss: 0.2787 - accuracy: 0.8795 - val_loss: 3.8036 - val_accuracy: 0.4694\n",
            "Epoch 17/50\n",
            "24/24 [==============================] - 26s 1s/step - loss: 0.3014 - accuracy: 0.8615 - val_loss: 8.7640 - val_accuracy: 0.3444\n",
            "Epoch 18/50\n",
            "24/24 [==============================] - 30s 1s/step - loss: 0.2269 - accuracy: 0.9000 - val_loss: 1.5344 - val_accuracy: 0.5333\n",
            "Epoch 19/50\n",
            "24/24 [==============================] - 30s 1s/step - loss: 0.2031 - accuracy: 0.9160 - val_loss: 0.8556 - val_accuracy: 0.6528\n",
            "Epoch 20/50\n",
            "24/24 [==============================] - 27s 1s/step - loss: 0.2186 - accuracy: 0.9146 - val_loss: 3.6061 - val_accuracy: 0.6167\n",
            "Epoch 21/50\n",
            "24/24 [==============================] - 30s 1s/step - loss: 0.2024 - accuracy: 0.9208 - val_loss: 1.8047 - val_accuracy: 0.4194\n",
            "Epoch 22/50\n",
            "24/24 [==============================] - 30s 1s/step - loss: 0.1885 - accuracy: 0.9243 - val_loss: 2.7412 - val_accuracy: 0.4722\n",
            "Epoch 23/50\n",
            "24/24 [==============================] - 31s 1s/step - loss: 0.1487 - accuracy: 0.9417 - val_loss: 2.0338 - val_accuracy: 0.5861\n",
            "Epoch 24/50\n",
            "24/24 [==============================] - 30s 1s/step - loss: 0.1469 - accuracy: 0.9493 - val_loss: 3.1553 - val_accuracy: 0.3694\n",
            "Epoch 25/50\n",
            "24/24 [==============================] - 26s 1s/step - loss: 0.1749 - accuracy: 0.9385 - val_loss: 1.8269 - val_accuracy: 0.4667\n",
            "Epoch 26/50\n",
            "24/24 [==============================] - 30s 1s/step - loss: 0.1299 - accuracy: 0.9500 - val_loss: 55.4138 - val_accuracy: 0.3444\n",
            "Epoch 27/50\n",
            "24/24 [==============================] - 30s 1s/step - loss: 0.0998 - accuracy: 0.9632 - val_loss: 3.8996 - val_accuracy: 0.3500\n",
            "Epoch 28/50\n",
            "24/24 [==============================] - 27s 1s/step - loss: 0.1206 - accuracy: 0.9563 - val_loss: 3.4096 - val_accuracy: 0.3972\n",
            "Epoch 29/50\n",
            "24/24 [==============================] - 30s 1s/step - loss: 0.0811 - accuracy: 0.9740 - val_loss: 2.3427 - val_accuracy: 0.5694\n",
            "Epoch 30/50\n",
            "24/24 [==============================] - 30s 1s/step - loss: 0.0622 - accuracy: 0.9781 - val_loss: 1.9313 - val_accuracy: 0.5333\n",
            "Epoch 31/50\n",
            "24/24 [==============================] - 27s 1s/step - loss: 0.1023 - accuracy: 0.9649 - val_loss: 6.7224 - val_accuracy: 0.3444\n",
            "Epoch 32/50\n",
            "24/24 [==============================] - 30s 1s/step - loss: 0.0586 - accuracy: 0.9823 - val_loss: 2.2125 - val_accuracy: 0.3972\n",
            "Epoch 33/50\n",
            "24/24 [==============================] - 26s 1s/step - loss: 0.0652 - accuracy: 0.9802 - val_loss: 2.2109 - val_accuracy: 0.3778\n",
            "Epoch 34/50\n",
            "24/24 [==============================] - 26s 1s/step - loss: 0.0672 - accuracy: 0.9771 - val_loss: 2.7133 - val_accuracy: 0.5889\n",
            "Epoch 35/50\n",
            "24/24 [==============================] - 26s 1s/step - loss: 0.0766 - accuracy: 0.9753 - val_loss: 14.5672 - val_accuracy: 0.3444\n",
            "Epoch 36/50\n",
            "24/24 [==============================] - 26s 1s/step - loss: 0.0734 - accuracy: 0.9778 - val_loss: 10.0006 - val_accuracy: 0.4389\n",
            "Epoch 37/50\n",
            "24/24 [==============================] - 30s 1s/step - loss: 0.0484 - accuracy: 0.9847 - val_loss: 10.7402 - val_accuracy: 0.3444\n",
            "Epoch 38/50\n",
            "24/24 [==============================] - 30s 1s/step - loss: 0.0492 - accuracy: 0.9854 - val_loss: 3.1131 - val_accuracy: 0.6083\n",
            "Epoch 39/50\n",
            "24/24 [==============================] - 30s 1s/step - loss: 0.0373 - accuracy: 0.9878 - val_loss: 40.5826 - val_accuracy: 0.3444\n",
            "Epoch 40/50\n",
            "24/24 [==============================] - 26s 1s/step - loss: 0.0446 - accuracy: 0.9865 - val_loss: 22.8307 - val_accuracy: 0.3444\n",
            "Epoch 41/50\n",
            "24/24 [==============================] - 27s 1s/step - loss: 0.0670 - accuracy: 0.9795 - val_loss: 54.1401 - val_accuracy: 0.3444\n",
            "Epoch 42/50\n",
            "24/24 [==============================] - 27s 1s/step - loss: 0.0404 - accuracy: 0.9872 - val_loss: 17.2347 - val_accuracy: 0.3444\n",
            "Epoch 43/50\n",
            "24/24 [==============================] - 30s 1s/step - loss: 0.0275 - accuracy: 0.9941 - val_loss: 24.8768 - val_accuracy: 0.3444\n",
            "Epoch 44/50\n",
            "24/24 [==============================] - 26s 1s/step - loss: 0.0787 - accuracy: 0.9792 - val_loss: 3.3995 - val_accuracy: 0.6139\n",
            "Epoch 45/50\n",
            "24/24 [==============================] - 27s 1s/step - loss: 0.0557 - accuracy: 0.9806 - val_loss: 5.4506 - val_accuracy: 0.3639\n",
            "Epoch 46/50\n",
            "24/24 [==============================] - 26s 1s/step - loss: 0.0268 - accuracy: 0.9934 - val_loss: 4.7256 - val_accuracy: 0.3556\n",
            "Epoch 47/50\n",
            "24/24 [==============================] - 26s 1s/step - loss: 0.0245 - accuracy: 0.9931 - val_loss: 6.2657 - val_accuracy: 0.3444\n",
            "Epoch 48/50\n",
            "24/24 [==============================] - 26s 1s/step - loss: 0.0216 - accuracy: 0.9927 - val_loss: 13.9225 - val_accuracy: 0.3444\n",
            "Epoch 49/50\n",
            "24/24 [==============================] - 26s 1s/step - loss: 0.0224 - accuracy: 0.9941 - val_loss: 7.7958 - val_accuracy: 0.3444\n",
            "Epoch 50/50\n",
            "24/24 [==============================] - 27s 1s/step - loss: 0.0339 - accuracy: 0.9892 - val_loss: 7.8985 - val_accuracy: 0.3444\n"
          ],
          "name": "stdout"
        }
      ]
    },
    {
      "cell_type": "markdown",
      "metadata": {
        "colab_type": "text",
        "id": "Zt-oQh62ra0_"
      },
      "source": [
        "#### testing the model"
      ]
    },
    {
      "cell_type": "code",
      "metadata": {
        "colab_type": "code",
        "outputId": "fd350a75-5c6d-45b1-ca98-24c906427265",
        "id": "Fl68CpSdra1A",
        "colab": {
          "base_uri": "https://localhost:8080/",
          "height": 50
        }
      },
      "source": [
        "test_steps = int(len(df_test)/batch_size)\n",
        "\n",
        "metrics = many_unfrozen_resnet_model.evaluate(test_dataset,\n",
        "                   steps = test_steps)\n",
        "print(\"model accuracy:\",metrics[1])"
      ],
      "execution_count": 0,
      "outputs": [
        {
          "output_type": "stream",
          "text": [
            "3/3 [==============================] - 2s 525ms/step - loss: 8.4515 - accuracy: 0.3278\n",
            "model accuracy: 0.32777777\n"
          ],
          "name": "stdout"
        }
      ]
    },
    {
      "cell_type": "markdown",
      "metadata": {
        "colab_type": "text",
        "id": "28sBerOlyTh9"
      },
      "source": [
        "#### plotting training"
      ]
    },
    {
      "cell_type": "code",
      "metadata": {
        "colab_type": "code",
        "outputId": "c8d87a9e-2845-49b3-c1a8-8b4a6b232ecf",
        "id": "CUvVwNJRyTiC",
        "colab": {
          "base_uri": "https://localhost:8080/",
          "height": 573
        }
      },
      "source": [
        "plot_hist(many_unfrozen_resnet50_history, 'many_unfrozen_resnet50')"
      ],
      "execution_count": 0,
      "outputs": [
        {
          "output_type": "display_data",
          "data": {
            "image/png": "[encoded data removed]",
            "text/plain": [
              "<Figure size 432x288 with 1 Axes>"
            ]
          },
          "metadata": {
            "tags": []
          }
        },
        {
          "output_type": "display_data",
          "data": {
            "image/png": "[encoded data removed]",
            "text/plain": [
              "<Figure size 432x288 with 1 Axes>"
            ]
          },
          "metadata": {
            "tags": []
          }
        }
      ]
    },
    {
      "cell_type": "markdown",
      "metadata": {
        "colab_type": "text",
        "id": "HbIQBb3zra1D"
      },
      "source": [
        "#### saving the history of the fitting"
      ]
    },
    {
      "cell_type": "code",
      "metadata": {
        "colab_type": "code",
        "outputId": "260f965d-fe6d-4d2d-de92-cfe723077511",
        "id": "GpwbYJB5ra1D",
        "colab": {
          "base_uri": "https://localhost:8080/",
          "height": 34
        }
      },
      "source": [
        "with open(cwd + '/trainHistoryDict/many_unfrozen_resnet50_history.p', 'wb') as file_pi:\n",
        "        pickle.dump(many_unfrozen_resnet50_history.history, file_pi)\n",
        "print('history saved')"
      ],
      "execution_count": 0,
      "outputs": [
        {
          "output_type": "stream",
          "text": [
            "history saved\n"
          ],
          "name": "stdout"
        }
      ]
    },
    {
      "cell_type": "code",
      "metadata": {
        "id": "KC-jGyHnrTh9",
        "colab_type": "code",
        "colab": {}
      },
      "source": [
        ""
      ],
      "execution_count": 0,
      "outputs": []
    },
    {
      "cell_type": "markdown",
      "metadata": {
        "id": "WdsCsXkOu7mF",
        "colab_type": "text"
      },
      "source": [
        "## entirely unfrozen"
      ]
    },
    {
      "cell_type": "code",
      "metadata": {
        "colab_type": "code",
        "id": "FrR6YujPvAhK",
        "colab": {}
      },
      "source": [
        "resnet_50 = tf.keras.applications.ResNet50(\n",
        "    include_top=False,\n",
        "    weights='imagenet',\n",
        "    input_shape=(200,200,3),\n",
        "    pooling=None\n",
        ")"
      ],
      "execution_count": 0,
      "outputs": []
    },
    {
      "cell_type": "markdown",
      "metadata": {
        "colab_type": "text",
        "id": "AErdeAAY1rsN"
      },
      "source": [
        "#### modifying slightly"
      ]
    },
    {
      "cell_type": "code",
      "metadata": {
        "colab_type": "code",
        "id": "7-OTdP3-1rsT",
        "colab": {}
      },
      "source": [
        "x = resnet_50.output\n",
        "\n",
        "x = GlobalAveragePooling2D()(x)\n",
        "\n",
        "# let's add a fully-connected layer\n",
        "x = Dense(512, activation='relu')(x)\n",
        "\n",
        "x = Dropout(0.5)(x)\n",
        "\n",
        "#x = GlobalAveragePooling2D()(x)\n",
        "\n",
        "# let's add a fully-connected layer\n",
        "x = Dense(512, activation='relu')(x)\n",
        "\n",
        "x = Dropout(0.5)(x)\n",
        "\n",
        "# let's add a fully-connected layer\n",
        "x = Dense(512, activation='relu')(x)\n",
        "\n",
        "x = Dropout(0.5)(x)\n",
        "\n",
        "# and a logits layer -- let's say we have 3 classes\n",
        "predictions = Dense(3, activation='softmax')(x)"
      ],
      "execution_count": 0,
      "outputs": []
    },
    {
      "cell_type": "markdown",
      "metadata": {
        "id": "UDrRFGzn1z61",
        "colab_type": "text"
      },
      "source": [
        "#### creating model object"
      ]
    },
    {
      "cell_type": "code",
      "metadata": {
        "id": "lstePI_NvN-5",
        "colab_type": "code",
        "colab": {}
      },
      "source": [
        "# this is the model we will train\n",
        "unfrozen_resnet50_model = Model(inputs=resnet_50.input, outputs=predictions)"
      ],
      "execution_count": 0,
      "outputs": []
    },
    {
      "cell_type": "code",
      "metadata": {
        "id": "1DulDS0ovX2h",
        "colab_type": "code",
        "outputId": "28b5e15d-d6b5-4dbf-fee8-73bacf50fc7b",
        "colab": {
          "base_uri": "https://localhost:8080/",
          "height": 1000
        }
      },
      "source": [
        "for layer in unfrozen_resnet50_model.layers:\n",
        "    print(layer.name)\n",
        "    layer.trainable = True"
      ],
      "execution_count": 0,
      "outputs": [
        {
          "output_type": "stream",
          "text": [
            "input_7\n",
            "conv1_pad\n",
            "conv1_conv\n",
            "conv1_bn\n",
            "conv1_relu\n",
            "pool1_pad\n",
            "pool1_pool\n",
            "conv2_block1_1_conv\n",
            "conv2_block1_1_bn\n",
            "conv2_block1_1_relu\n",
            "conv2_block1_2_conv\n",
            "conv2_block1_2_bn\n",
            "conv2_block1_2_relu\n",
            "conv2_block1_0_conv\n",
            "conv2_block1_3_conv\n",
            "conv2_block1_0_bn\n",
            "conv2_block1_3_bn\n",
            "conv2_block1_add\n",
            "conv2_block1_out\n",
            "conv2_block2_1_conv\n",
            "conv2_block2_1_bn\n",
            "conv2_block2_1_relu\n",
            "conv2_block2_2_conv\n",
            "conv2_block2_2_bn\n",
            "conv2_block2_2_relu\n",
            "conv2_block2_3_conv\n",
            "conv2_block2_3_bn\n",
            "conv2_block2_add\n",
            "conv2_block2_out\n",
            "conv2_block3_1_conv\n",
            "conv2_block3_1_bn\n",
            "conv2_block3_1_relu\n",
            "conv2_block3_2_conv\n",
            "conv2_block3_2_bn\n",
            "conv2_block3_2_relu\n",
            "conv2_block3_3_conv\n",
            "conv2_block3_3_bn\n",
            "conv2_block3_add\n",
            "conv2_block3_out\n",
            "conv3_block1_1_conv\n",
            "conv3_block1_1_bn\n",
            "conv3_block1_1_relu\n",
            "conv3_block1_2_conv\n",
            "conv3_block1_2_bn\n",
            "conv3_block1_2_relu\n",
            "conv3_block1_0_conv\n",
            "conv3_block1_3_conv\n",
            "conv3_block1_0_bn\n",
            "conv3_block1_3_bn\n",
            "conv3_block1_add\n",
            "conv3_block1_out\n",
            "conv3_block2_1_conv\n",
            "conv3_block2_1_bn\n",
            "conv3_block2_1_relu\n",
            "conv3_block2_2_conv\n",
            "conv3_block2_2_bn\n",
            "conv3_block2_2_relu\n",
            "conv3_block2_3_conv\n",
            "conv3_block2_3_bn\n",
            "conv3_block2_add\n",
            "conv3_block2_out\n",
            "conv3_block3_1_conv\n",
            "conv3_block3_1_bn\n",
            "conv3_block3_1_relu\n",
            "conv3_block3_2_conv\n",
            "conv3_block3_2_bn\n",
            "conv3_block3_2_relu\n",
            "conv3_block3_3_conv\n",
            "conv3_block3_3_bn\n",
            "conv3_block3_add\n",
            "conv3_block3_out\n",
            "conv3_block4_1_conv\n",
            "conv3_block4_1_bn\n",
            "conv3_block4_1_relu\n",
            "conv3_block4_2_conv\n",
            "conv3_block4_2_bn\n",
            "conv3_block4_2_relu\n",
            "conv3_block4_3_conv\n",
            "conv3_block4_3_bn\n",
            "conv3_block4_add\n",
            "conv3_block4_out\n",
            "conv4_block1_1_conv\n",
            "conv4_block1_1_bn\n",
            "conv4_block1_1_relu\n",
            "conv4_block1_2_conv\n",
            "conv4_block1_2_bn\n",
            "conv4_block1_2_relu\n",
            "conv4_block1_0_conv\n",
            "conv4_block1_3_conv\n",
            "conv4_block1_0_bn\n",
            "conv4_block1_3_bn\n",
            "conv4_block1_add\n",
            "conv4_block1_out\n",
            "conv4_block2_1_conv\n",
            "conv4_block2_1_bn\n",
            "conv4_block2_1_relu\n",
            "conv4_block2_2_conv\n",
            "conv4_block2_2_bn\n",
            "conv4_block2_2_relu\n",
            "conv4_block2_3_conv\n",
            "conv4_block2_3_bn\n",
            "conv4_block2_add\n",
            "conv4_block2_out\n",
            "conv4_block3_1_conv\n",
            "conv4_block3_1_bn\n",
            "conv4_block3_1_relu\n",
            "conv4_block3_2_conv\n",
            "conv4_block3_2_bn\n",
            "conv4_block3_2_relu\n",
            "conv4_block3_3_conv\n",
            "conv4_block3_3_bn\n",
            "conv4_block3_add\n",
            "conv4_block3_out\n",
            "conv4_block4_1_conv\n",
            "conv4_block4_1_bn\n",
            "conv4_block4_1_relu\n",
            "conv4_block4_2_conv\n",
            "conv4_block4_2_bn\n",
            "conv4_block4_2_relu\n",
            "conv4_block4_3_conv\n",
            "conv4_block4_3_bn\n",
            "conv4_block4_add\n",
            "conv4_block4_out\n",
            "conv4_block5_1_conv\n",
            "conv4_block5_1_bn\n",
            "conv4_block5_1_relu\n",
            "conv4_block5_2_conv\n",
            "conv4_block5_2_bn\n",
            "conv4_block5_2_relu\n",
            "conv4_block5_3_conv\n",
            "conv4_block5_3_bn\n",
            "conv4_block5_add\n",
            "conv4_block5_out\n",
            "conv4_block6_1_conv\n",
            "conv4_block6_1_bn\n",
            "conv4_block6_1_relu\n",
            "conv4_block6_2_conv\n",
            "conv4_block6_2_bn\n",
            "conv4_block6_2_relu\n",
            "conv4_block6_3_conv\n",
            "conv4_block6_3_bn\n",
            "conv4_block6_add\n",
            "conv4_block6_out\n",
            "conv5_block1_1_conv\n",
            "conv5_block1_1_bn\n",
            "conv5_block1_1_relu\n",
            "conv5_block1_2_conv\n",
            "conv5_block1_2_bn\n",
            "conv5_block1_2_relu\n",
            "conv5_block1_0_conv\n",
            "conv5_block1_3_conv\n",
            "conv5_block1_0_bn\n",
            "conv5_block1_3_bn\n",
            "conv5_block1_add\n",
            "conv5_block1_out\n",
            "conv5_block2_1_conv\n",
            "conv5_block2_1_bn\n",
            "conv5_block2_1_relu\n",
            "conv5_block2_2_conv\n",
            "conv5_block2_2_bn\n",
            "conv5_block2_2_relu\n",
            "conv5_block2_3_conv\n",
            "conv5_block2_3_bn\n",
            "conv5_block2_add\n",
            "conv5_block2_out\n",
            "conv5_block3_1_conv\n",
            "conv5_block3_1_bn\n",
            "conv5_block3_1_relu\n",
            "conv5_block3_2_conv\n",
            "conv5_block3_2_bn\n",
            "conv5_block3_2_relu\n",
            "conv5_block3_3_conv\n",
            "conv5_block3_3_bn\n",
            "conv5_block3_add\n",
            "conv5_block3_out\n",
            "global_average_pooling2d_4\n",
            "dense_16\n",
            "dropout_12\n",
            "dense_17\n",
            "dropout_13\n",
            "dense_18\n",
            "dropout_14\n",
            "dense_19\n"
          ],
          "name": "stdout"
        }
      ]
    },
    {
      "cell_type": "code",
      "metadata": {
        "id": "DB5aU4CSvgE4",
        "colab_type": "code",
        "outputId": "0f27a643-6aef-4bf4-d2e6-5802fa610625",
        "colab": {
          "base_uri": "https://localhost:8080/",
          "height": 1000
        }
      },
      "source": [
        "for layer in unfrozen_resnet50_model.layers:\n",
        "    print(layer.name,' Trainable =',layer.trainable)"
      ],
      "execution_count": 0,
      "outputs": [
        {
          "output_type": "stream",
          "text": [
            "input_7  Trainable = True\n",
            "conv1_pad  Trainable = True\n",
            "conv1_conv  Trainable = True\n",
            "conv1_bn  Trainable = True\n",
            "conv1_relu  Trainable = True\n",
            "pool1_pad  Trainable = True\n",
            "pool1_pool  Trainable = True\n",
            "conv2_block1_1_conv  Trainable = True\n",
            "conv2_block1_1_bn  Trainable = True\n",
            "conv2_block1_1_relu  Trainable = True\n",
            "conv2_block1_2_conv  Trainable = True\n",
            "conv2_block1_2_bn  Trainable = True\n",
            "conv2_block1_2_relu  Trainable = True\n",
            "conv2_block1_0_conv  Trainable = True\n",
            "conv2_block1_3_conv  Trainable = True\n",
            "conv2_block1_0_bn  Trainable = True\n",
            "conv2_block1_3_bn  Trainable = True\n",
            "conv2_block1_add  Trainable = True\n",
            "conv2_block1_out  Trainable = True\n",
            "conv2_block2_1_conv  Trainable = True\n",
            "conv2_block2_1_bn  Trainable = True\n",
            "conv2_block2_1_relu  Trainable = True\n",
            "conv2_block2_2_conv  Trainable = True\n",
            "conv2_block2_2_bn  Trainable = True\n",
            "conv2_block2_2_relu  Trainable = True\n",
            "conv2_block2_3_conv  Trainable = True\n",
            "conv2_block2_3_bn  Trainable = True\n",
            "conv2_block2_add  Trainable = True\n",
            "conv2_block2_out  Trainable = True\n",
            "conv2_block3_1_conv  Trainable = True\n",
            "conv2_block3_1_bn  Trainable = True\n",
            "conv2_block3_1_relu  Trainable = True\n",
            "conv2_block3_2_conv  Trainable = True\n",
            "conv2_block3_2_bn  Trainable = True\n",
            "conv2_block3_2_relu  Trainable = True\n",
            "conv2_block3_3_conv  Trainable = True\n",
            "conv2_block3_3_bn  Trainable = True\n",
            "conv2_block3_add  Trainable = True\n",
            "conv2_block3_out  Trainable = True\n",
            "conv3_block1_1_conv  Trainable = True\n",
            "conv3_block1_1_bn  Trainable = True\n",
            "conv3_block1_1_relu  Trainable = True\n",
            "conv3_block1_2_conv  Trainable = True\n",
            "conv3_block1_2_bn  Trainable = True\n",
            "conv3_block1_2_relu  Trainable = True\n",
            "conv3_block1_0_conv  Trainable = True\n",
            "conv3_block1_3_conv  Trainable = True\n",
            "conv3_block1_0_bn  Trainable = True\n",
            "conv3_block1_3_bn  Trainable = True\n",
            "conv3_block1_add  Trainable = True\n",
            "conv3_block1_out  Trainable = True\n",
            "conv3_block2_1_conv  Trainable = True\n",
            "conv3_block2_1_bn  Trainable = True\n",
            "conv3_block2_1_relu  Trainable = True\n",
            "conv3_block2_2_conv  Trainable = True\n",
            "conv3_block2_2_bn  Trainable = True\n",
            "conv3_block2_2_relu  Trainable = True\n",
            "conv3_block2_3_conv  Trainable = True\n",
            "conv3_block2_3_bn  Trainable = True\n",
            "conv3_block2_add  Trainable = True\n",
            "conv3_block2_out  Trainable = True\n",
            "conv3_block3_1_conv  Trainable = True\n",
            "conv3_block3_1_bn  Trainable = True\n",
            "conv3_block3_1_relu  Trainable = True\n",
            "conv3_block3_2_conv  Trainable = True\n",
            "conv3_block3_2_bn  Trainable = True\n",
            "conv3_block3_2_relu  Trainable = True\n",
            "conv3_block3_3_conv  Trainable = True\n",
            "conv3_block3_3_bn  Trainable = True\n",
            "conv3_block3_add  Trainable = True\n",
            "conv3_block3_out  Trainable = True\n",
            "conv3_block4_1_conv  Trainable = True\n",
            "conv3_block4_1_bn  Trainable = True\n",
            "conv3_block4_1_relu  Trainable = True\n",
            "conv3_block4_2_conv  Trainable = True\n",
            "conv3_block4_2_bn  Trainable = True\n",
            "conv3_block4_2_relu  Trainable = True\n",
            "conv3_block4_3_conv  Trainable = True\n",
            "conv3_block4_3_bn  Trainable = True\n",
            "conv3_block4_add  Trainable = True\n",
            "conv3_block4_out  Trainable = True\n",
            "conv4_block1_1_conv  Trainable = True\n",
            "conv4_block1_1_bn  Trainable = True\n",
            "conv4_block1_1_relu  Trainable = True\n",
            "conv4_block1_2_conv  Trainable = True\n",
            "conv4_block1_2_bn  Trainable = True\n",
            "conv4_block1_2_relu  Trainable = True\n",
            "conv4_block1_0_conv  Trainable = True\n",
            "conv4_block1_3_conv  Trainable = True\n",
            "conv4_block1_0_bn  Trainable = True\n",
            "conv4_block1_3_bn  Trainable = True\n",
            "conv4_block1_add  Trainable = True\n",
            "conv4_block1_out  Trainable = True\n",
            "conv4_block2_1_conv  Trainable = True\n",
            "conv4_block2_1_bn  Trainable = True\n",
            "conv4_block2_1_relu  Trainable = True\n",
            "conv4_block2_2_conv  Trainable = True\n",
            "conv4_block2_2_bn  Trainable = True\n",
            "conv4_block2_2_relu  Trainable = True\n",
            "conv4_block2_3_conv  Trainable = True\n",
            "conv4_block2_3_bn  Trainable = True\n",
            "conv4_block2_add  Trainable = True\n",
            "conv4_block2_out  Trainable = True\n",
            "conv4_block3_1_conv  Trainable = True\n",
            "conv4_block3_1_bn  Trainable = True\n",
            "conv4_block3_1_relu  Trainable = True\n",
            "conv4_block3_2_conv  Trainable = True\n",
            "conv4_block3_2_bn  Trainable = True\n",
            "conv4_block3_2_relu  Trainable = True\n",
            "conv4_block3_3_conv  Trainable = True\n",
            "conv4_block3_3_bn  Trainable = True\n",
            "conv4_block3_add  Trainable = True\n",
            "conv4_block3_out  Trainable = True\n",
            "conv4_block4_1_conv  Trainable = True\n",
            "conv4_block4_1_bn  Trainable = True\n",
            "conv4_block4_1_relu  Trainable = True\n",
            "conv4_block4_2_conv  Trainable = True\n",
            "conv4_block4_2_bn  Trainable = True\n",
            "conv4_block4_2_relu  Trainable = True\n",
            "conv4_block4_3_conv  Trainable = True\n",
            "conv4_block4_3_bn  Trainable = True\n",
            "conv4_block4_add  Trainable = True\n",
            "conv4_block4_out  Trainable = True\n",
            "conv4_block5_1_conv  Trainable = True\n",
            "conv4_block5_1_bn  Trainable = True\n",
            "conv4_block5_1_relu  Trainable = True\n",
            "conv4_block5_2_conv  Trainable = True\n",
            "conv4_block5_2_bn  Trainable = True\n",
            "conv4_block5_2_relu  Trainable = True\n",
            "conv4_block5_3_conv  Trainable = True\n",
            "conv4_block5_3_bn  Trainable = True\n",
            "conv4_block5_add  Trainable = True\n",
            "conv4_block5_out  Trainable = True\n",
            "conv4_block6_1_conv  Trainable = True\n",
            "conv4_block6_1_bn  Trainable = True\n",
            "conv4_block6_1_relu  Trainable = True\n",
            "conv4_block6_2_conv  Trainable = True\n",
            "conv4_block6_2_bn  Trainable = True\n",
            "conv4_block6_2_relu  Trainable = True\n",
            "conv4_block6_3_conv  Trainable = True\n",
            "conv4_block6_3_bn  Trainable = True\n",
            "conv4_block6_add  Trainable = True\n",
            "conv4_block6_out  Trainable = True\n",
            "conv5_block1_1_conv  Trainable = True\n",
            "conv5_block1_1_bn  Trainable = True\n",
            "conv5_block1_1_relu  Trainable = True\n",
            "conv5_block1_2_conv  Trainable = True\n",
            "conv5_block1_2_bn  Trainable = True\n",
            "conv5_block1_2_relu  Trainable = True\n",
            "conv5_block1_0_conv  Trainable = True\n",
            "conv5_block1_3_conv  Trainable = True\n",
            "conv5_block1_0_bn  Trainable = True\n",
            "conv5_block1_3_bn  Trainable = True\n",
            "conv5_block1_add  Trainable = True\n",
            "conv5_block1_out  Trainable = True\n",
            "conv5_block2_1_conv  Trainable = True\n",
            "conv5_block2_1_bn  Trainable = True\n",
            "conv5_block2_1_relu  Trainable = True\n",
            "conv5_block2_2_conv  Trainable = True\n",
            "conv5_block2_2_bn  Trainable = True\n",
            "conv5_block2_2_relu  Trainable = True\n",
            "conv5_block2_3_conv  Trainable = True\n",
            "conv5_block2_3_bn  Trainable = True\n",
            "conv5_block2_add  Trainable = True\n",
            "conv5_block2_out  Trainable = True\n",
            "conv5_block3_1_conv  Trainable = True\n",
            "conv5_block3_1_bn  Trainable = True\n",
            "conv5_block3_1_relu  Trainable = True\n",
            "conv5_block3_2_conv  Trainable = True\n",
            "conv5_block3_2_bn  Trainable = True\n",
            "conv5_block3_2_relu  Trainable = True\n",
            "conv5_block3_3_conv  Trainable = True\n",
            "conv5_block3_3_bn  Trainable = True\n",
            "conv5_block3_add  Trainable = True\n",
            "conv5_block3_out  Trainable = True\n",
            "global_average_pooling2d_4  Trainable = True\n",
            "dense_16  Trainable = True\n",
            "dropout_12  Trainable = True\n",
            "dense_17  Trainable = True\n",
            "dropout_13  Trainable = True\n",
            "dense_18  Trainable = True\n",
            "dropout_14  Trainable = True\n",
            "dense_19  Trainable = True\n"
          ],
          "name": "stdout"
        }
      ]
    },
    {
      "cell_type": "markdown",
      "metadata": {
        "id": "DbqL6LGoxGgT",
        "colab_type": "text"
      },
      "source": [
        "#### setting the optimizer"
      ]
    },
    {
      "cell_type": "code",
      "metadata": {
        "id": "bh4CDz20vo7f",
        "colab_type": "code",
        "colab": {}
      },
      "source": [
        "opt = tf.keras.optimizers.Adam(lr=0.001)\n",
        "\n",
        "# compile the model (should be done *after* setting layers to non-trainable)\n",
        "unfrozen_resnet50_model.compile(optimizer=opt, loss='categorical_crossentropy',metrics=['accuracy'])"
      ],
      "execution_count": 0,
      "outputs": []
    },
    {
      "cell_type": "markdown",
      "metadata": {
        "id": "6vJQLMr9w64c",
        "colab_type": "text"
      },
      "source": [
        "#### fitting the model"
      ]
    },
    {
      "cell_type": "code",
      "metadata": {
        "id": "CZFZayCIv6Oo",
        "colab_type": "code",
        "outputId": "26514253-c000-4335-ab6f-6ec5b78aa900",
        "colab": {
          "base_uri": "https://localhost:8080/",
          "height": 1000
        }
      },
      "source": [
        "train_steps = int(len(df_train)/batch_size) #total trains set / batch_size\n",
        "val_steps = int(len(df_val)/batch_size)\n",
        "\n",
        "print('train steps:',train_steps)\n",
        "print('val steps:',val_steps)\n",
        "\n",
        "epochs = 50\n",
        "\n",
        "\n",
        "model_filepath = 'unfrozen_resnet50.h5'\n",
        "mcp = ModelCheckpoint(model_filepath, monitor='accuracy', save_best_only=True, mode='max')\n",
        "\n",
        "# Train the model with validation \n",
        "unfrozen_resnet50_history = unfrozen_resnet50_model.fit( train_dataset, steps_per_epoch = train_steps,\n",
        "                   epochs = epochs,\n",
        "                   validation_data = valid_dataset,\n",
        "                   validation_steps = val_steps,\n",
        "                   callbacks=[mcp])"
      ],
      "execution_count": 0,
      "outputs": [
        {
          "output_type": "stream",
          "text": [
            "train steps: 24\n",
            "val steps: 3\n",
            "Train for 24 steps, validate for 3 steps\n",
            "Epoch 1/50\n",
            "24/24 [==============================] - 46s 2s/step - loss: 0.8659 - accuracy: 0.6122 - val_loss: 1198.7767 - val_accuracy: 0.3222\n",
            "Epoch 2/50\n",
            "24/24 [==============================] - 36s 2s/step - loss: 0.5921 - accuracy: 0.7441 - val_loss: 224.8612 - val_accuracy: 0.3444\n",
            "Epoch 3/50\n",
            "24/24 [==============================] - 36s 1s/step - loss: 0.5121 - accuracy: 0.7861 - val_loss: 145.4315 - val_accuracy: 0.3444\n",
            "Epoch 4/50\n",
            "24/24 [==============================] - 35s 1s/step - loss: 0.4951 - accuracy: 0.7865 - val_loss: 5.3890 - val_accuracy: 0.4500\n",
            "Epoch 5/50\n",
            "24/24 [==============================] - 35s 1s/step - loss: 0.4584 - accuracy: 0.7896 - val_loss: 0.7069 - val_accuracy: 0.7278\n",
            "Epoch 6/50\n",
            "24/24 [==============================] - 35s 1s/step - loss: 0.4422 - accuracy: 0.8024 - val_loss: 4.7140 - val_accuracy: 0.3972\n",
            "Epoch 7/50\n",
            "24/24 [==============================] - 36s 1s/step - loss: 0.4206 - accuracy: 0.8076 - val_loss: 1.9511 - val_accuracy: 0.6000\n",
            "Epoch 8/50\n",
            "24/24 [==============================] - 33s 1s/step - loss: 0.4220 - accuracy: 0.8000 - val_loss: 0.7513 - val_accuracy: 0.7444\n",
            "Epoch 9/50\n",
            "24/24 [==============================] - 33s 1s/step - loss: 0.4543 - accuracy: 0.8031 - val_loss: 1.0836 - val_accuracy: 0.6028\n",
            "Epoch 10/50\n",
            "24/24 [==============================] - 36s 1s/step - loss: 0.3701 - accuracy: 0.8260 - val_loss: 2.5413 - val_accuracy: 0.5417\n",
            "Epoch 11/50\n",
            "24/24 [==============================] - 33s 1s/step - loss: 0.3676 - accuracy: 0.8240 - val_loss: 0.8320 - val_accuracy: 0.7861\n",
            "Epoch 12/50\n",
            "24/24 [==============================] - 37s 2s/step - loss: 0.3242 - accuracy: 0.8444 - val_loss: 1.8295 - val_accuracy: 0.5889\n",
            "Epoch 13/50\n",
            "24/24 [==============================] - 33s 1s/step - loss: 0.3254 - accuracy: 0.8375 - val_loss: 20.9056 - val_accuracy: 0.3528\n",
            "Epoch 14/50\n",
            "24/24 [==============================] - 36s 2s/step - loss: 0.3193 - accuracy: 0.8510 - val_loss: 5.8687 - val_accuracy: 0.4694\n",
            "Epoch 15/50\n",
            "24/24 [==============================] - 36s 1s/step - loss: 0.2963 - accuracy: 0.8576 - val_loss: 73.3312 - val_accuracy: 0.3444\n",
            "Epoch 16/50\n",
            "24/24 [==============================] - 33s 1s/step - loss: 0.3106 - accuracy: 0.8441 - val_loss: 0.5605 - val_accuracy: 0.7722\n",
            "Epoch 17/50\n",
            "24/24 [==============================] - 37s 2s/step - loss: 0.2728 - accuracy: 0.8583 - val_loss: 1.3143 - val_accuracy: 0.6306\n",
            "Epoch 18/50\n",
            "24/24 [==============================] - 36s 2s/step - loss: 0.2743 - accuracy: 0.8618 - val_loss: 1.1434 - val_accuracy: 0.7500\n",
            "Epoch 19/50\n",
            "24/24 [==============================] - 36s 2s/step - loss: 0.2562 - accuracy: 0.8837 - val_loss: 1.0368 - val_accuracy: 0.7472\n",
            "Epoch 20/50\n",
            "24/24 [==============================] - 36s 2s/step - loss: 0.2374 - accuracy: 0.8903 - val_loss: 10.7708 - val_accuracy: 0.3806\n",
            "Epoch 21/50\n",
            "24/24 [==============================] - 33s 1s/step - loss: 0.2703 - accuracy: 0.8788 - val_loss: 6.4666 - val_accuracy: 0.5861\n",
            "Epoch 22/50\n",
            "24/24 [==============================] - 36s 2s/step - loss: 0.2088 - accuracy: 0.9062 - val_loss: 1.5197 - val_accuracy: 0.6833\n",
            "Epoch 23/50\n",
            "24/24 [==============================] - 36s 2s/step - loss: 0.1942 - accuracy: 0.9115 - val_loss: 1.1472 - val_accuracy: 0.7389\n",
            "Epoch 24/50\n",
            "24/24 [==============================] - 37s 2s/step - loss: 0.1778 - accuracy: 0.9233 - val_loss: 0.8313 - val_accuracy: 0.7528\n",
            "Epoch 25/50\n",
            "24/24 [==============================] - 33s 1s/step - loss: 0.2029 - accuracy: 0.9132 - val_loss: 25.2518 - val_accuracy: 0.3444\n",
            "Epoch 26/50\n",
            "24/24 [==============================] - 37s 2s/step - loss: 0.1757 - accuracy: 0.9240 - val_loss: 48.2928 - val_accuracy: 0.3444\n",
            "Epoch 27/50\n",
            "24/24 [==============================] - 37s 2s/step - loss: 0.1357 - accuracy: 0.9500 - val_loss: 45.4619 - val_accuracy: 0.3444\n",
            "Epoch 28/50\n",
            "24/24 [==============================] - 36s 2s/step - loss: 0.1163 - accuracy: 0.9576 - val_loss: 22.9583 - val_accuracy: 0.3472\n",
            "Epoch 29/50\n",
            "24/24 [==============================] - 33s 1s/step - loss: 0.1446 - accuracy: 0.9490 - val_loss: 5.8222 - val_accuracy: 0.4333\n",
            "Epoch 30/50\n",
            "24/24 [==============================] - 33s 1s/step - loss: 0.1457 - accuracy: 0.9465 - val_loss: 9.1789 - val_accuracy: 0.3611\n",
            "Epoch 31/50\n",
            "24/24 [==============================] - 36s 1s/step - loss: 0.0979 - accuracy: 0.9660 - val_loss: 2.5843 - val_accuracy: 0.5472\n",
            "Epoch 32/50\n",
            "24/24 [==============================] - 33s 1s/step - loss: 0.1206 - accuracy: 0.9618 - val_loss: 1.3300 - val_accuracy: 0.7167\n",
            "Epoch 33/50\n",
            "24/24 [==============================] - 33s 1s/step - loss: 0.1138 - accuracy: 0.9601 - val_loss: 44.6947 - val_accuracy: 0.3444\n",
            "Epoch 34/50\n",
            "24/24 [==============================] - 37s 2s/step - loss: 0.0852 - accuracy: 0.9705 - val_loss: 2.1622 - val_accuracy: 0.6528\n",
            "Epoch 35/50\n",
            "24/24 [==============================] - 36s 2s/step - loss: 0.0800 - accuracy: 0.9733 - val_loss: 1.6899 - val_accuracy: 0.7250\n",
            "Epoch 36/50\n",
            "24/24 [==============================] - 37s 2s/step - loss: 0.0531 - accuracy: 0.9823 - val_loss: 170.9952 - val_accuracy: 0.3444\n",
            "Epoch 37/50\n",
            "24/24 [==============================] - 33s 1s/step - loss: 0.0658 - accuracy: 0.9774 - val_loss: 38.0131 - val_accuracy: 0.3444\n",
            "Epoch 38/50\n",
            "24/24 [==============================] - 36s 2s/step - loss: 0.0353 - accuracy: 0.9892 - val_loss: 4.4303 - val_accuracy: 0.5167\n",
            "Epoch 39/50\n",
            "24/24 [==============================] - 33s 1s/step - loss: 0.0413 - accuracy: 0.9878 - val_loss: 8.5540 - val_accuracy: 0.4167\n",
            "Epoch 40/50\n",
            "24/24 [==============================] - 33s 1s/step - loss: 0.0700 - accuracy: 0.9764 - val_loss: 1.2049 - val_accuracy: 0.7000\n",
            "Epoch 41/50\n",
            "24/24 [==============================] - 33s 1s/step - loss: 0.0823 - accuracy: 0.9708 - val_loss: 54.9074 - val_accuracy: 0.3444\n",
            "Epoch 42/50\n",
            "24/24 [==============================] - 33s 1s/step - loss: 0.0881 - accuracy: 0.9719 - val_loss: 100.8808 - val_accuracy: 0.3444\n",
            "Epoch 43/50\n",
            "24/24 [==============================] - 33s 1s/step - loss: 0.0615 - accuracy: 0.9823 - val_loss: 43.6799 - val_accuracy: 0.3444\n",
            "Epoch 44/50\n",
            "24/24 [==============================] - 33s 1s/step - loss: 0.0526 - accuracy: 0.9826 - val_loss: 4.7670 - val_accuracy: 0.5250\n",
            "Epoch 45/50\n",
            "24/24 [==============================] - 33s 1s/step - loss: 0.0423 - accuracy: 0.9878 - val_loss: 3.9714 - val_accuracy: 0.6361\n",
            "Epoch 46/50\n",
            "24/24 [==============================] - 33s 1s/step - loss: 0.0381 - accuracy: 0.9878 - val_loss: 1.9031 - val_accuracy: 0.7278\n",
            "Epoch 47/50\n",
            "24/24 [==============================] - 33s 1s/step - loss: 0.0572 - accuracy: 0.9844 - val_loss: 3.5826 - val_accuracy: 0.6139\n",
            "Epoch 48/50\n",
            "24/24 [==============================] - 33s 1s/step - loss: 0.1137 - accuracy: 0.9670 - val_loss: 1.7708 - val_accuracy: 0.4972\n",
            "Epoch 49/50\n",
            "24/24 [==============================] - 33s 1s/step - loss: 0.0523 - accuracy: 0.9819 - val_loss: 827.2329 - val_accuracy: 0.3444\n",
            "Epoch 50/50\n",
            "24/24 [==============================] - 33s 1s/step - loss: 0.0475 - accuracy: 0.9878 - val_loss: 4.2524 - val_accuracy: 0.4833\n"
          ],
          "name": "stdout"
        }
      ]
    },
    {
      "cell_type": "markdown",
      "metadata": {
        "colab_type": "text",
        "id": "sRYx4CU26iY-"
      },
      "source": [
        "#### testing the model"
      ]
    },
    {
      "cell_type": "code",
      "metadata": {
        "colab_type": "code",
        "outputId": "53153e7c-33af-4883-dcd2-0a38389b395f",
        "id": "xQWRFzCy6iZN",
        "colab": {
          "base_uri": "https://localhost:8080/",
          "height": 50
        }
      },
      "source": [
        "test_steps = int(len(df_test)/batch_size)\n",
        "\n",
        "metrics = unfrozen_resnet50_model.evaluate(test_dataset,\n",
        "                   steps = test_steps)\n",
        "print(\"model accuracy:\",metrics[1])"
      ],
      "execution_count": 0,
      "outputs": [
        {
          "output_type": "stream",
          "text": [
            "3/3 [==============================] - 2s 524ms/step - loss: 4.3189 - accuracy: 0.4472\n",
            "model accuracy: 0.44722223\n"
          ],
          "name": "stdout"
        }
      ]
    },
    {
      "cell_type": "markdown",
      "metadata": {
        "colab_type": "text",
        "id": "fOyLO9B16OAD"
      },
      "source": [
        "#### plotting training"
      ]
    },
    {
      "cell_type": "code",
      "metadata": {
        "colab_type": "code",
        "outputId": "5af5582f-6ab3-4690-e177-e246ca6892a5",
        "id": "VnsayjlZ6OAM",
        "colab": {
          "base_uri": "https://localhost:8080/",
          "height": 573
        }
      },
      "source": [
        "plot_hist(unfrozen_resnet50_history, 'unfrozen_resnet50')"
      ],
      "execution_count": 0,
      "outputs": [
        {
          "output_type": "display_data",
          "data": {
            "image/png": "[encoded data removed]",
            "text/plain": [
              "<Figure size 432x288 with 1 Axes>"
            ]
          },
          "metadata": {
            "tags": []
          }
        },
        {
          "output_type": "display_data",
          "data": {
            "image/png": "[encoded data removed]",
            "text/plain": [
              "<Figure size 432x288 with 1 Axes>"
            ]
          },
          "metadata": {
            "tags": []
          }
        }
      ]
    },
    {
      "cell_type": "markdown",
      "metadata": {
        "id": "Ih3vofhBw90T",
        "colab_type": "text"
      },
      "source": [
        "#### saving the history of the fitting"
      ]
    },
    {
      "cell_type": "code",
      "metadata": {
        "id": "_IKqpLg2wbi0",
        "colab_type": "code",
        "outputId": "21f09aed-53ea-4d76-8a14-11e325c38320",
        "colab": {
          "base_uri": "https://localhost:8080/",
          "height": 34
        }
      },
      "source": [
        "with open(cwd + '/trainHistoryDict/unfrozen_resnet50_history.p', 'wb') as file_pi:\n",
        "        pickle.dump(unfrozen_resnet50_history.history, file_pi)\n",
        "print('history saved')"
      ],
      "execution_count": 0,
      "outputs": [
        {
          "output_type": "stream",
          "text": [
            "history saved\n"
          ],
          "name": "stdout"
        }
      ]
    },
    {
      "cell_type": "code",
      "metadata": {
        "id": "fkt8dlpe6r83",
        "colab_type": "code",
        "colab": {}
      },
      "source": [
        ""
      ],
      "execution_count": 0,
      "outputs": []
    }
  ]
}