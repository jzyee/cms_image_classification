{
  "nbformat": 4,
  "nbformat_minor": 0,
  "metadata": {
    "colab": {
      "name": "Resnet50_quark_classification_RMSprop.ipynb",
      "provenance": [],
      "collapsed_sections": [],
      "toc_visible": true
    },
    "kernelspec": {
      "name": "python3",
      "display_name": "Python 3"
    },
    "accelerator": "GPU"
  },
  "cells": [
    {
      "cell_type": "markdown",
      "metadata": {
        "id": "PI5RDzjpY4fy",
        "colab_type": "text"
      },
      "source": [
        "#notebook setup"
      ]
    },
    {
      "cell_type": "code",
      "metadata": {
        "id": "nNc8dLtXlcuJ",
        "colab_type": "code",
        "outputId": "7de88c3c-c6e8-47e9-9fd8-a0b2f4491f67",
        "colab": {
          "base_uri": "https://localhost:8080/",
          "height": 188
        }
      },
      "source": [
        "!pip install google-auth --upgrade\n",
        "!pip install grpcio --upgrade"
      ],
      "execution_count": 1,
      "outputs": [
        {
          "output_type": "stream",
          "text": [
            "Requirement already up-to-date: google-auth in /usr/local/lib/python3.6/dist-packages (1.10.0)\n",
            "Requirement already satisfied, skipping upgrade: rsa<4.1,>=3.1.4 in /usr/local/lib/python3.6/dist-packages (from google-auth) (4.0)\n",
            "Requirement already satisfied, skipping upgrade: cachetools<5.0,>=2.0.0 in /usr/local/lib/python3.6/dist-packages (from google-auth) (4.0.0)\n",
            "Requirement already satisfied, skipping upgrade: six>=1.9.0 in /usr/local/lib/python3.6/dist-packages (from google-auth) (1.12.0)\n",
            "Requirement already satisfied, skipping upgrade: setuptools>=40.3.0 in /usr/local/lib/python3.6/dist-packages (from google-auth) (42.0.2)\n",
            "Requirement already satisfied, skipping upgrade: pyasn1-modules>=0.2.1 in /usr/local/lib/python3.6/dist-packages (from google-auth) (0.2.7)\n",
            "Requirement already satisfied, skipping upgrade: pyasn1>=0.1.3 in /usr/local/lib/python3.6/dist-packages (from rsa<4.1,>=3.1.4->google-auth) (0.4.8)\n",
            "Requirement already up-to-date: grpcio in /usr/local/lib/python3.6/dist-packages (1.26.0)\n",
            "Requirement already satisfied, skipping upgrade: six>=1.5.2 in /usr/local/lib/python3.6/dist-packages (from grpcio) (1.12.0)\n"
          ],
          "name": "stdout"
        }
      ]
    },
    {
      "cell_type": "code",
      "metadata": {
        "id": "CH7ZObaXX2it",
        "colab_type": "code",
        "outputId": "a1251a15-617c-42eb-e43f-bfd87f0814a1",
        "colab": {
          "base_uri": "https://localhost:8080/",
          "height": 67
        }
      },
      "source": [
        "!pip install -qq tf-nightly-gpu-2.0-preview"
      ],
      "execution_count": 2,
      "outputs": [
        {
          "output_type": "stream",
          "text": [
            "\u001b[K     |████████████████████████████████| 395.5MB 41kB/s \n",
            "\u001b[K     |████████████████████████████████| 450kB 51.9MB/s \n",
            "\u001b[K     |████████████████████████████████| 3.8MB 36.4MB/s \n",
            "\u001b[?25h"
          ],
          "name": "stdout"
        }
      ]
    },
    {
      "cell_type": "code",
      "metadata": {
        "id": "FIXnBwudYLjl",
        "colab_type": "code",
        "outputId": "4c2893d2-f036-4ea1-e2bf-e1c5fb6157f8",
        "colab": {
          "base_uri": "https://localhost:8080/",
          "height": 50
        }
      },
      "source": [
        "import tensorflow as tf\n",
        "print(tf.__version__)\n",
        "device_name = tf.test.gpu_device_name()\n",
        "if device_name != '/device:GPU:0':\n",
        "  raise SystemError('GPU device not found')\n",
        "print('Found GPU at: {}'.format(device_name))"
      ],
      "execution_count": 27,
      "outputs": [
        {
          "output_type": "stream",
          "text": [
            "2.0.0-dev20191002\n",
            "Found GPU at: /device:GPU:0\n"
          ],
          "name": "stdout"
        }
      ]
    },
    {
      "cell_type": "code",
      "metadata": {
        "id": "ixmPfjVmYYQ-",
        "colab_type": "code",
        "colab": {}
      },
      "source": [
        "import sys\n",
        "try:\n",
        "    import ujson as json\n",
        "except ImportError:\n",
        "    try:\n",
        "        import simplejson as json\n",
        "    except ImportError:\n",
        "        import json\n",
        "\n",
        "import numpy as np\n",
        "import matplotlib.pyplot as plt\n",
        "import pandas as pd\n",
        "import scipy\n",
        "from sklearn.preprocessing import MinMaxScaler\n",
        "import pywt\n",
        "import os\n",
        "from PIL import Image\n",
        "# import tensorflow as tf\n",
        "from glob import glob\n",
        "\n",
        "from tensorflow.keras.preprocessing import image\n",
        "from tensorflow.keras.preprocessing.image import ImageDataGenerator\n",
        "\n",
        "from tensorflow.keras.models import Model,load_model,Sequential\n",
        "\n",
        "from tensorflow.keras.layers import Dense, GlobalAveragePooling2D, Dropout,Flatten, Input\n",
        "from tensorflow.keras import backend as K\n",
        "from tensorflow.keras.callbacks import EarlyStopping\n",
        "from tensorflow.keras.callbacks import ModelCheckpoint\n",
        "import pickle"
      ],
      "execution_count": 0,
      "outputs": []
    },
    {
      "cell_type": "code",
      "metadata": {
        "id": "8u0wv_jGZF-L",
        "colab_type": "code",
        "outputId": "2a9bfdb8-1921-4c0a-a796-5768f5747c4a",
        "colab": {
          "base_uri": "https://localhost:8080/",
          "height": 54
        }
      },
      "source": [
        "from google.colab import drive\n",
        "drive.mount('/content/drive')"
      ],
      "execution_count": 17,
      "outputs": [
        {
          "output_type": "stream",
          "text": [
            "Drive already mounted at /content/drive; to attempt to forcibly remount, call drive.mount(\"/content/drive\", force_remount=True).\n"
          ],
          "name": "stdout"
        }
      ]
    },
    {
      "cell_type": "code",
      "metadata": {
        "id": "nngHwbgEhZOr",
        "colab_type": "code",
        "colab": {}
      },
      "source": [
        "\n",
        "def plot_hist(input_history, filename):\n",
        "  import os\n",
        "\n",
        "  folder = ['acc1', 'loss1']\n",
        "\n",
        "  directory = cwd + '/model_performance/'\n",
        "\n",
        "  for f in folder:\n",
        "    if not os.path.exists(directory + f):\n",
        "      os.makedirs(directory + f)\n",
        "\n",
        "  # summarize history for accuracy\n",
        "  # fig, ax = plt.subplots(1,2)\n",
        "  # plt.subplots_adjust(right=2)\n",
        "\n",
        "  plt.plot(input_history.history['accuracy'])\n",
        "  plt.plot(input_history.history['val_accuracy'])\n",
        "  plt.title('model accuracy')\n",
        "  plt.ylabel('accuracy')\n",
        "  plt.xlabel('epoch')\n",
        "  plt.legend(['train', 'test'], loc='upper left')\n",
        "\n",
        "  plt.savefig(cwd+'/model_performance/acc1/' + filename + '.jpg')\n",
        "  plt.show()\n",
        "  \n",
        "  # summarize history for loss\n",
        "  plt.plot(input_history.history['loss'])\n",
        "  plt.plot(input_history.history['val_loss'])\n",
        "  plt.title('model loss')\n",
        "  plt.ylabel('loss')\n",
        "  plt.xlabel('epoch')\n",
        "  plt.legend(['train', 'test'], loc='upper left')\n",
        "\n",
        "  \n",
        "  plt.savefig(cwd+'/model_performance/loss1/' + filename + '.jpg')"
      ],
      "execution_count": 0,
      "outputs": []
    },
    {
      "cell_type": "markdown",
      "metadata": {
        "id": "h6Pb6W4AZa0d",
        "colab_type": "text"
      },
      "source": [
        "# Data prep"
      ]
    },
    {
      "cell_type": "code",
      "metadata": {
        "id": "ZRZpm9JxZKEN",
        "colab_type": "code",
        "outputId": "7476fbd7-af75-42c0-8ee5-62b3447e081a",
        "colab": {
          "base_uri": "https://localhost:8080/",
          "height": 67
        }
      },
      "source": [
        "%cd drive/'My Drive'\n",
        "!pwd"
      ],
      "execution_count": 19,
      "outputs": [
        {
          "output_type": "stream",
          "text": [
            "[Errno 2] No such file or directory: 'drive/My Drive'\n",
            "/content/drive/My Drive\n",
            "/content/drive/My Drive\n"
          ],
          "name": "stdout"
        }
      ]
    },
    {
      "cell_type": "code",
      "metadata": {
        "id": "dCh0glvPxc1z",
        "colab_type": "code",
        "outputId": "bd29247c-c72b-48e0-f282-9fee65db5ea9",
        "colab": {
          "base_uri": "https://localhost:8080/",
          "height": 34
        }
      },
      "source": [
        "!pwd"
      ],
      "execution_count": 20,
      "outputs": [
        {
          "output_type": "stream",
          "text": [
            "/content/drive/My Drive\n"
          ],
          "name": "stdout"
        }
      ]
    },
    {
      "cell_type": "code",
      "metadata": {
        "id": "j1MEckdzZ_-1",
        "colab_type": "code",
        "outputId": "12a26828-ed0d-41f7-abfc-38f5ae1e5a58",
        "colab": {
          "base_uri": "https://localhost:8080/",
          "height": 34
        }
      },
      "source": [
        "img_folder = '/filtered_images'\n",
        "!ls 'filtered_images'"
      ],
      "execution_count": 21,
      "outputs": [
        {
          "output_type": "stream",
          "text": [
            "0  1  2\n"
          ],
          "name": "stdout"
        }
      ]
    },
    {
      "cell_type": "markdown",
      "metadata": {
        "id": "fSJJ8GzogU_i",
        "colab_type": "text"
      },
      "source": [
        "class 0 : DYjets\n",
        "class 1 : TTjets\n",
        "class 2 : Wjets"
      ]
    },
    {
      "cell_type": "markdown",
      "metadata": {
        "id": "WK3uFq83Nqp7",
        "colab_type": "text"
      },
      "source": [
        "## Train val size setting"
      ]
    },
    {
      "cell_type": "code",
      "metadata": {
        "id": "hd5rd7_ZcoSR",
        "colab_type": "code",
        "outputId": "f65841d5-f516-4dce-ef30-92e261fde67b",
        "colab": {
          "base_uri": "https://localhost:8080/",
          "height": 185
        }
      },
      "source": [
        "cwd = os.getcwd()\n",
        "img_path = cwd + img_folder\n",
        "\n",
        "train_val_size = 1200\n",
        "\n",
        "df = {}\n",
        "data = []\n",
        "for idx, x in enumerate(os.listdir(img_path)):\n",
        "  if x.isdigit() and idx < 3:\n",
        "    for idx2, pic in enumerate(os.listdir(img_path+'/'+str(x))):\n",
        "      if idx2 < train_val_size:\n",
        "        data.append((img_path+ '/' + x + '/' + pic , x))\n",
        "\n",
        "df = pd.DataFrame(data, columns=['filename', 'class'])\n",
        "df['class'] = df['class'].astype(int)\n",
        "#shuffle\n",
        "df = df.sample(frac=1).reset_index(drop=True)\n",
        "\n",
        "print(df.head())\n",
        "print(len(df))\n",
        "df.dtypes"
      ],
      "execution_count": 22,
      "outputs": [
        {
          "output_type": "stream",
          "text": [
            "                                            filename  class\n",
            "0  /content/drive/My Drive/filtered_images/0/DYje...      0\n",
            "1  /content/drive/My Drive/filtered_images/0/DYje...      0\n",
            "2  /content/drive/My Drive/filtered_images/2/Wjet...      2\n",
            "3  /content/drive/My Drive/filtered_images/0/DYje...      0\n",
            "4  /content/drive/My Drive/filtered_images/1/TTje...      1\n",
            "3600\n"
          ],
          "name": "stdout"
        },
        {
          "output_type": "execute_result",
          "data": {
            "text/plain": [
              "filename    object\n",
              "class        int64\n",
              "dtype: object"
            ]
          },
          "metadata": {
            "tags": []
          },
          "execution_count": 22
        }
      ]
    },
    {
      "cell_type": "code",
      "metadata": {
        "id": "IF67c9pOdMix",
        "colab_type": "code",
        "outputId": "45cb5dad-8f80-44b4-ee8a-ba5b4a40b58f",
        "colab": {
          "base_uri": "https://localhost:8080/",
          "height": 34
        }
      },
      "source": [
        "from collections import Counter\n",
        "cnt = Counter(df['class'])\n",
        "cnt"
      ],
      "execution_count": 23,
      "outputs": [
        {
          "output_type": "execute_result",
          "data": {
            "text/plain": [
              "Counter({0: 1200, 1: 1200, 2: 1200})"
            ]
          },
          "metadata": {
            "tags": []
          },
          "execution_count": 23
        }
      ]
    },
    {
      "cell_type": "code",
      "metadata": {
        "id": "rV8WCnbQhKx4",
        "colab_type": "code",
        "outputId": "e3361d06-4a3c-4b14-e326-1bf1921fcbbc",
        "colab": {
          "base_uri": "https://localhost:8080/",
          "height": 67
        }
      },
      "source": [
        "# Split into train and validation sets\n",
        "train_percentage = .8\n",
        "val_percentage = 0.1\n",
        "test_percentage = 0.1\n",
        "\n",
        "train_length = int(len(df) * train_percentage)\n",
        "df_train = df[:train_length]\n",
        "\n",
        "val_length = int(len(df) * val_percentage)\n",
        "df_val = df[train_length : train_length+val_length]\n",
        "\n",
        "test_length = int(len(df) * test_percentage)\n",
        "df_test = df[ train_length + val_length : ]\n",
        "\n",
        "# shuffle \n",
        "df_train = df_train.sample(frac=1).reset_index(drop=True)\n",
        "df_val = df_val.sample(frac=1).reset_index(drop=True)\n",
        "df_test = df_test.sample(frac=1).reset_index(drop=True)\n",
        "\n",
        "df_list = [df_train, df_val, df_test]\n",
        "for df_part in df_list:\n",
        "  print(len(df_part))"
      ],
      "execution_count": 24,
      "outputs": [
        {
          "output_type": "stream",
          "text": [
            "2880\n",
            "360\n",
            "360\n"
          ],
          "name": "stdout"
        }
      ]
    },
    {
      "cell_type": "markdown",
      "metadata": {
        "id": "65hltRStDyg2",
        "colab_type": "text"
      },
      "source": [
        "#### image parsing"
      ]
    },
    {
      "cell_type": "code",
      "metadata": {
        "id": "93QOO1_2h5_A",
        "colab_type": "code",
        "colab": {}
      },
      "source": [
        "# Reads an image from a file, decodes it into a tensor, and resizes it\n",
        "# to a fixed shape.\n",
        "img_rows, img_cols = 200,200\n",
        "num_classes = len(set(df['class']))\n",
        "batch_size = 120\n",
        "\n",
        "def _parse_function(filename, label):\n",
        "  image_string = tf.io.read_file(filename)\n",
        "  image_decoded = tf.image.decode_jpeg(image_string)\n",
        "  image_resized = tf.image.resize(image_decoded, [img_rows, img_cols])\n",
        "  image_resized = tf.ensure_shape(image_resized ,shape=(img_rows, img_cols,3))\n",
        "  label = tf.one_hot(label, num_classes)\n",
        "  return image_resized, label"
      ],
      "execution_count": 0,
      "outputs": []
    },
    {
      "cell_type": "code",
      "metadata": {
        "id": "b9GwWMh5iZtg",
        "colab_type": "code",
        "colab": {}
      },
      "source": [
        "train_dataset = tf.data.Dataset.from_tensor_slices((tf.cast(df_train['filename'].values, tf.string),\n",
        "                                                    tf.cast(df_train['class'].values, tf.int32) ))\n",
        "train_dataset = train_dataset.map(_parse_function)\n",
        "train_dataset = train_dataset.shuffle(5000)\n",
        "train_dataset = train_dataset.repeat()\n",
        "train_dataset = train_dataset.batch(batch_size, drop_remainder=True)"
      ],
      "execution_count": 0,
      "outputs": []
    },
    {
      "cell_type": "code",
      "metadata": {
        "id": "0MfsNRyiicIR",
        "colab_type": "code",
        "colab": {}
      },
      "source": [
        "valid_dataset = tf.data.Dataset.from_tensor_slices((tf.cast(df_val['filename'].values, tf.string),\n",
        "                                                    tf.cast(df_val['class'].values, tf.int32) ))\n",
        "valid_dataset = valid_dataset.map(_parse_function)\n",
        "valid_dataset = valid_dataset.shuffle(5000)\n",
        "valid_dataset = valid_dataset.repeat()\n",
        "valid_dataset = valid_dataset.batch(batch_size, drop_remainder=True)"
      ],
      "execution_count": 0,
      "outputs": []
    },
    {
      "cell_type": "code",
      "metadata": {
        "id": "amK7DVJDPTSF",
        "colab_type": "code",
        "colab": {}
      },
      "source": [
        "test_dataset = tf.data.Dataset.from_tensor_slices((tf.cast(df_test['filename'].values, tf.string),\n",
        "                                                    tf.cast(df_test['class'].values, tf.int32) ))\n",
        "test_dataset = test_dataset.map(_parse_function)\n",
        "test_dataset = test_dataset.shuffle(5000)\n",
        "test_dataset = test_dataset.repeat()\n",
        "test_dataset = test_dataset.batch(batch_size, drop_remainder=True)"
      ],
      "execution_count": 0,
      "outputs": []
    },
    {
      "cell_type": "code",
      "metadata": {
        "id": "0PsYgoDSieIA",
        "colab_type": "code",
        "outputId": "df84ba49-b8a0-443f-fe0f-d8b104a4bffc",
        "colab": {
          "base_uri": "https://localhost:8080/",
          "height": 54
        }
      },
      "source": [
        "train_dataset"
      ],
      "execution_count": 32,
      "outputs": [
        {
          "output_type": "execute_result",
          "data": {
            "text/plain": [
              "<BatchDataset shapes: ((120, 200, 200, 3), (120, 3)), types: (tf.float32, tf.float32)>"
            ]
          },
          "metadata": {
            "tags": []
          },
          "execution_count": 32
        }
      ]
    },
    {
      "cell_type": "markdown",
      "metadata": {
        "id": "YofamALVCrtt",
        "colab_type": "text"
      },
      "source": [
        "# ResNet50"
      ]
    },
    {
      "cell_type": "markdown",
      "metadata": {
        "id": "nzO1JHNJ1D6I",
        "colab_type": "text"
      },
      "source": [
        "## Entirely frozen"
      ]
    },
    {
      "cell_type": "code",
      "metadata": {
        "id": "DTe9kVl2CuIT",
        "colab_type": "code",
        "outputId": "53ae9030-a296-4072-867a-55e63c413a21",
        "colab": {
          "base_uri": "https://localhost:8080/",
          "height": 70
        }
      },
      "source": [
        "resnet_50 = tf.keras.applications.ResNet50(\n",
        "    include_top=False,\n",
        "    weights='imagenet',\n",
        "    input_shape=(200,200,3),\n",
        "    pooling=None\n",
        ")"
      ],
      "execution_count": 33,
      "outputs": [
        {
          "output_type": "stream",
          "text": [
            "Downloading data from https://github.com/keras-team/keras-applications/releases/download/resnet/resnet50_weights_tf_dim_ordering_tf_kernels_notop.h5\n",
            "94773248/94765736 [==============================] - 8s 0us/step\n"
          ],
          "name": "stdout"
        }
      ]
    },
    {
      "cell_type": "code",
      "metadata": {
        "id": "vUTuVUnlC2-U",
        "colab_type": "code",
        "colab": {}
      },
      "source": [
        "x = resnet_50.output\n",
        "\n",
        "x = GlobalAveragePooling2D()(x)\n",
        "\n",
        "# let's add a fully-connected layer\n",
        "x = Dense(512, activation='relu')(x)\n",
        "\n",
        "x = Dropout(0.5)(x)\n",
        "\n",
        "#x = GlobalAveragePooling2D()(x)\n",
        "\n",
        "# let's add a fully-connected layer\n",
        "x = Dense(512, activation='relu')(x)\n",
        "\n",
        "x = Dropout(0.5)(x)\n",
        "\n",
        "# let's add a fully-connected layer\n",
        "x = Dense(512, activation='relu')(x)\n",
        "\n",
        "x = Dropout(0.5)(x)\n",
        "\n",
        "# and a logits layer -- let's say we have 3 classes\n",
        "predictions = Dense(3, activation='softmax')(x)\n"
      ],
      "execution_count": 0,
      "outputs": []
    },
    {
      "cell_type": "code",
      "metadata": {
        "id": "Mm-iZAuZC7sV",
        "colab_type": "code",
        "colab": {}
      },
      "source": [
        "# this is the model we will train\n",
        "base_resnet50_model = Model(inputs=resnet_50.input, outputs=predictions)"
      ],
      "execution_count": 0,
      "outputs": []
    },
    {
      "cell_type": "code",
      "metadata": {
        "id": "viKNFgGXzXJT",
        "colab_type": "code",
        "outputId": "1c673ba1-92ee-4a31-80ce-b11a7e12228d",
        "colab": {
          "base_uri": "https://localhost:8080/",
          "height": 1000
        }
      },
      "source": [
        "base_resnet50_model.summary()"
      ],
      "execution_count": 36,
      "outputs": [
        {
          "output_type": "stream",
          "text": [
            "Model: \"model\"\n",
            "__________________________________________________________________________________________________\n",
            "Layer (type)                    Output Shape         Param #     Connected to                     \n",
            "==================================================================================================\n",
            "input_1 (InputLayer)            [(None, 200, 200, 3) 0                                            \n",
            "__________________________________________________________________________________________________\n",
            "conv1_pad (ZeroPadding2D)       (None, 206, 206, 3)  0           input_1[0][0]                    \n",
            "__________________________________________________________________________________________________\n",
            "conv1_conv (Conv2D)             (None, 100, 100, 64) 9472        conv1_pad[0][0]                  \n",
            "__________________________________________________________________________________________________\n",
            "conv1_bn (BatchNormalization)   (None, 100, 100, 64) 256         conv1_conv[0][0]                 \n",
            "__________________________________________________________________________________________________\n",
            "conv1_relu (Activation)         (None, 100, 100, 64) 0           conv1_bn[0][0]                   \n",
            "__________________________________________________________________________________________________\n",
            "pool1_pad (ZeroPadding2D)       (None, 102, 102, 64) 0           conv1_relu[0][0]                 \n",
            "__________________________________________________________________________________________________\n",
            "pool1_pool (MaxPooling2D)       (None, 50, 50, 64)   0           pool1_pad[0][0]                  \n",
            "__________________________________________________________________________________________________\n",
            "conv2_block1_1_conv (Conv2D)    (None, 50, 50, 64)   4160        pool1_pool[0][0]                 \n",
            "__________________________________________________________________________________________________\n",
            "conv2_block1_1_bn (BatchNormali (None, 50, 50, 64)   256         conv2_block1_1_conv[0][0]        \n",
            "__________________________________________________________________________________________________\n",
            "conv2_block1_1_relu (Activation (None, 50, 50, 64)   0           conv2_block1_1_bn[0][0]          \n",
            "__________________________________________________________________________________________________\n",
            "conv2_block1_2_conv (Conv2D)    (None, 50, 50, 64)   36928       conv2_block1_1_relu[0][0]        \n",
            "__________________________________________________________________________________________________\n",
            "conv2_block1_2_bn (BatchNormali (None, 50, 50, 64)   256         conv2_block1_2_conv[0][0]        \n",
            "__________________________________________________________________________________________________\n",
            "conv2_block1_2_relu (Activation (None, 50, 50, 64)   0           conv2_block1_2_bn[0][0]          \n",
            "__________________________________________________________________________________________________\n",
            "conv2_block1_0_conv (Conv2D)    (None, 50, 50, 256)  16640       pool1_pool[0][0]                 \n",
            "__________________________________________________________________________________________________\n",
            "conv2_block1_3_conv (Conv2D)    (None, 50, 50, 256)  16640       conv2_block1_2_relu[0][0]        \n",
            "__________________________________________________________________________________________________\n",
            "conv2_block1_0_bn (BatchNormali (None, 50, 50, 256)  1024        conv2_block1_0_conv[0][0]        \n",
            "__________________________________________________________________________________________________\n",
            "conv2_block1_3_bn (BatchNormali (None, 50, 50, 256)  1024        conv2_block1_3_conv[0][0]        \n",
            "__________________________________________________________________________________________________\n",
            "conv2_block1_add (Add)          (None, 50, 50, 256)  0           conv2_block1_0_bn[0][0]          \n",
            "                                                                 conv2_block1_3_bn[0][0]          \n",
            "__________________________________________________________________________________________________\n",
            "conv2_block1_out (Activation)   (None, 50, 50, 256)  0           conv2_block1_add[0][0]           \n",
            "__________________________________________________________________________________________________\n",
            "conv2_block2_1_conv (Conv2D)    (None, 50, 50, 64)   16448       conv2_block1_out[0][0]           \n",
            "__________________________________________________________________________________________________\n",
            "conv2_block2_1_bn (BatchNormali (None, 50, 50, 64)   256         conv2_block2_1_conv[0][0]        \n",
            "__________________________________________________________________________________________________\n",
            "conv2_block2_1_relu (Activation (None, 50, 50, 64)   0           conv2_block2_1_bn[0][0]          \n",
            "__________________________________________________________________________________________________\n",
            "conv2_block2_2_conv (Conv2D)    (None, 50, 50, 64)   36928       conv2_block2_1_relu[0][0]        \n",
            "__________________________________________________________________________________________________\n",
            "conv2_block2_2_bn (BatchNormali (None, 50, 50, 64)   256         conv2_block2_2_conv[0][0]        \n",
            "__________________________________________________________________________________________________\n",
            "conv2_block2_2_relu (Activation (None, 50, 50, 64)   0           conv2_block2_2_bn[0][0]          \n",
            "__________________________________________________________________________________________________\n",
            "conv2_block2_3_conv (Conv2D)    (None, 50, 50, 256)  16640       conv2_block2_2_relu[0][0]        \n",
            "__________________________________________________________________________________________________\n",
            "conv2_block2_3_bn (BatchNormali (None, 50, 50, 256)  1024        conv2_block2_3_conv[0][0]        \n",
            "__________________________________________________________________________________________________\n",
            "conv2_block2_add (Add)          (None, 50, 50, 256)  0           conv2_block1_out[0][0]           \n",
            "                                                                 conv2_block2_3_bn[0][0]          \n",
            "__________________________________________________________________________________________________\n",
            "conv2_block2_out (Activation)   (None, 50, 50, 256)  0           conv2_block2_add[0][0]           \n",
            "__________________________________________________________________________________________________\n",
            "conv2_block3_1_conv (Conv2D)    (None, 50, 50, 64)   16448       conv2_block2_out[0][0]           \n",
            "__________________________________________________________________________________________________\n",
            "conv2_block3_1_bn (BatchNormali (None, 50, 50, 64)   256         conv2_block3_1_conv[0][0]        \n",
            "__________________________________________________________________________________________________\n",
            "conv2_block3_1_relu (Activation (None, 50, 50, 64)   0           conv2_block3_1_bn[0][0]          \n",
            "__________________________________________________________________________________________________\n",
            "conv2_block3_2_conv (Conv2D)    (None, 50, 50, 64)   36928       conv2_block3_1_relu[0][0]        \n",
            "__________________________________________________________________________________________________\n",
            "conv2_block3_2_bn (BatchNormali (None, 50, 50, 64)   256         conv2_block3_2_conv[0][0]        \n",
            "__________________________________________________________________________________________________\n",
            "conv2_block3_2_relu (Activation (None, 50, 50, 64)   0           conv2_block3_2_bn[0][0]          \n",
            "__________________________________________________________________________________________________\n",
            "conv2_block3_3_conv (Conv2D)    (None, 50, 50, 256)  16640       conv2_block3_2_relu[0][0]        \n",
            "__________________________________________________________________________________________________\n",
            "conv2_block3_3_bn (BatchNormali (None, 50, 50, 256)  1024        conv2_block3_3_conv[0][0]        \n",
            "__________________________________________________________________________________________________\n",
            "conv2_block3_add (Add)          (None, 50, 50, 256)  0           conv2_block2_out[0][0]           \n",
            "                                                                 conv2_block3_3_bn[0][0]          \n",
            "__________________________________________________________________________________________________\n",
            "conv2_block3_out (Activation)   (None, 50, 50, 256)  0           conv2_block3_add[0][0]           \n",
            "__________________________________________________________________________________________________\n",
            "conv3_block1_1_conv (Conv2D)    (None, 25, 25, 128)  32896       conv2_block3_out[0][0]           \n",
            "__________________________________________________________________________________________________\n",
            "conv3_block1_1_bn (BatchNormali (None, 25, 25, 128)  512         conv3_block1_1_conv[0][0]        \n",
            "__________________________________________________________________________________________________\n",
            "conv3_block1_1_relu (Activation (None, 25, 25, 128)  0           conv3_block1_1_bn[0][0]          \n",
            "__________________________________________________________________________________________________\n",
            "conv3_block1_2_conv (Conv2D)    (None, 25, 25, 128)  147584      conv3_block1_1_relu[0][0]        \n",
            "__________________________________________________________________________________________________\n",
            "conv3_block1_2_bn (BatchNormali (None, 25, 25, 128)  512         conv3_block1_2_conv[0][0]        \n",
            "__________________________________________________________________________________________________\n",
            "conv3_block1_2_relu (Activation (None, 25, 25, 128)  0           conv3_block1_2_bn[0][0]          \n",
            "__________________________________________________________________________________________________\n",
            "conv3_block1_0_conv (Conv2D)    (None, 25, 25, 512)  131584      conv2_block3_out[0][0]           \n",
            "__________________________________________________________________________________________________\n",
            "conv3_block1_3_conv (Conv2D)    (None, 25, 25, 512)  66048       conv3_block1_2_relu[0][0]        \n",
            "__________________________________________________________________________________________________\n",
            "conv3_block1_0_bn (BatchNormali (None, 25, 25, 512)  2048        conv3_block1_0_conv[0][0]        \n",
            "__________________________________________________________________________________________________\n",
            "conv3_block1_3_bn (BatchNormali (None, 25, 25, 512)  2048        conv3_block1_3_conv[0][0]        \n",
            "__________________________________________________________________________________________________\n",
            "conv3_block1_add (Add)          (None, 25, 25, 512)  0           conv3_block1_0_bn[0][0]          \n",
            "                                                                 conv3_block1_3_bn[0][0]          \n",
            "__________________________________________________________________________________________________\n",
            "conv3_block1_out (Activation)   (None, 25, 25, 512)  0           conv3_block1_add[0][0]           \n",
            "__________________________________________________________________________________________________\n",
            "conv3_block2_1_conv (Conv2D)    (None, 25, 25, 128)  65664       conv3_block1_out[0][0]           \n",
            "__________________________________________________________________________________________________\n",
            "conv3_block2_1_bn (BatchNormali (None, 25, 25, 128)  512         conv3_block2_1_conv[0][0]        \n",
            "__________________________________________________________________________________________________\n",
            "conv3_block2_1_relu (Activation (None, 25, 25, 128)  0           conv3_block2_1_bn[0][0]          \n",
            "__________________________________________________________________________________________________\n",
            "conv3_block2_2_conv (Conv2D)    (None, 25, 25, 128)  147584      conv3_block2_1_relu[0][0]        \n",
            "__________________________________________________________________________________________________\n",
            "conv3_block2_2_bn (BatchNormali (None, 25, 25, 128)  512         conv3_block2_2_conv[0][0]        \n",
            "__________________________________________________________________________________________________\n",
            "conv3_block2_2_relu (Activation (None, 25, 25, 128)  0           conv3_block2_2_bn[0][0]          \n",
            "__________________________________________________________________________________________________\n",
            "conv3_block2_3_conv (Conv2D)    (None, 25, 25, 512)  66048       conv3_block2_2_relu[0][0]        \n",
            "__________________________________________________________________________________________________\n",
            "conv3_block2_3_bn (BatchNormali (None, 25, 25, 512)  2048        conv3_block2_3_conv[0][0]        \n",
            "__________________________________________________________________________________________________\n",
            "conv3_block2_add (Add)          (None, 25, 25, 512)  0           conv3_block1_out[0][0]           \n",
            "                                                                 conv3_block2_3_bn[0][0]          \n",
            "__________________________________________________________________________________________________\n",
            "conv3_block2_out (Activation)   (None, 25, 25, 512)  0           conv3_block2_add[0][0]           \n",
            "__________________________________________________________________________________________________\n",
            "conv3_block3_1_conv (Conv2D)    (None, 25, 25, 128)  65664       conv3_block2_out[0][0]           \n",
            "__________________________________________________________________________________________________\n",
            "conv3_block3_1_bn (BatchNormali (None, 25, 25, 128)  512         conv3_block3_1_conv[0][0]        \n",
            "__________________________________________________________________________________________________\n",
            "conv3_block3_1_relu (Activation (None, 25, 25, 128)  0           conv3_block3_1_bn[0][0]          \n",
            "__________________________________________________________________________________________________\n",
            "conv3_block3_2_conv (Conv2D)    (None, 25, 25, 128)  147584      conv3_block3_1_relu[0][0]        \n",
            "__________________________________________________________________________________________________\n",
            "conv3_block3_2_bn (BatchNormali (None, 25, 25, 128)  512         conv3_block3_2_conv[0][0]        \n",
            "__________________________________________________________________________________________________\n",
            "conv3_block3_2_relu (Activation (None, 25, 25, 128)  0           conv3_block3_2_bn[0][0]          \n",
            "__________________________________________________________________________________________________\n",
            "conv3_block3_3_conv (Conv2D)    (None, 25, 25, 512)  66048       conv3_block3_2_relu[0][0]        \n",
            "__________________________________________________________________________________________________\n",
            "conv3_block3_3_bn (BatchNormali (None, 25, 25, 512)  2048        conv3_block3_3_conv[0][0]        \n",
            "__________________________________________________________________________________________________\n",
            "conv3_block3_add (Add)          (None, 25, 25, 512)  0           conv3_block2_out[0][0]           \n",
            "                                                                 conv3_block3_3_bn[0][0]          \n",
            "__________________________________________________________________________________________________\n",
            "conv3_block3_out (Activation)   (None, 25, 25, 512)  0           conv3_block3_add[0][0]           \n",
            "__________________________________________________________________________________________________\n",
            "conv3_block4_1_conv (Conv2D)    (None, 25, 25, 128)  65664       conv3_block3_out[0][0]           \n",
            "__________________________________________________________________________________________________\n",
            "conv3_block4_1_bn (BatchNormali (None, 25, 25, 128)  512         conv3_block4_1_conv[0][0]        \n",
            "__________________________________________________________________________________________________\n",
            "conv3_block4_1_relu (Activation (None, 25, 25, 128)  0           conv3_block4_1_bn[0][0]          \n",
            "__________________________________________________________________________________________________\n",
            "conv3_block4_2_conv (Conv2D)    (None, 25, 25, 128)  147584      conv3_block4_1_relu[0][0]        \n",
            "__________________________________________________________________________________________________\n",
            "conv3_block4_2_bn (BatchNormali (None, 25, 25, 128)  512         conv3_block4_2_conv[0][0]        \n",
            "__________________________________________________________________________________________________\n",
            "conv3_block4_2_relu (Activation (None, 25, 25, 128)  0           conv3_block4_2_bn[0][0]          \n",
            "__________________________________________________________________________________________________\n",
            "conv3_block4_3_conv (Conv2D)    (None, 25, 25, 512)  66048       conv3_block4_2_relu[0][0]        \n",
            "__________________________________________________________________________________________________\n",
            "conv3_block4_3_bn (BatchNormali (None, 25, 25, 512)  2048        conv3_block4_3_conv[0][0]        \n",
            "__________________________________________________________________________________________________\n",
            "conv3_block4_add (Add)          (None, 25, 25, 512)  0           conv3_block3_out[0][0]           \n",
            "                                                                 conv3_block4_3_bn[0][0]          \n",
            "__________________________________________________________________________________________________\n",
            "conv3_block4_out (Activation)   (None, 25, 25, 512)  0           conv3_block4_add[0][0]           \n",
            "__________________________________________________________________________________________________\n",
            "conv4_block1_1_conv (Conv2D)    (None, 13, 13, 256)  131328      conv3_block4_out[0][0]           \n",
            "__________________________________________________________________________________________________\n",
            "conv4_block1_1_bn (BatchNormali (None, 13, 13, 256)  1024        conv4_block1_1_conv[0][0]        \n",
            "__________________________________________________________________________________________________\n",
            "conv4_block1_1_relu (Activation (None, 13, 13, 256)  0           conv4_block1_1_bn[0][0]          \n",
            "__________________________________________________________________________________________________\n",
            "conv4_block1_2_conv (Conv2D)    (None, 13, 13, 256)  590080      conv4_block1_1_relu[0][0]        \n",
            "__________________________________________________________________________________________________\n",
            "conv4_block1_2_bn (BatchNormali (None, 13, 13, 256)  1024        conv4_block1_2_conv[0][0]        \n",
            "__________________________________________________________________________________________________\n",
            "conv4_block1_2_relu (Activation (None, 13, 13, 256)  0           conv4_block1_2_bn[0][0]          \n",
            "__________________________________________________________________________________________________\n",
            "conv4_block1_0_conv (Conv2D)    (None, 13, 13, 1024) 525312      conv3_block4_out[0][0]           \n",
            "__________________________________________________________________________________________________\n",
            "conv4_block1_3_conv (Conv2D)    (None, 13, 13, 1024) 263168      conv4_block1_2_relu[0][0]        \n",
            "__________________________________________________________________________________________________\n",
            "conv4_block1_0_bn (BatchNormali (None, 13, 13, 1024) 4096        conv4_block1_0_conv[0][0]        \n",
            "__________________________________________________________________________________________________\n",
            "conv4_block1_3_bn (BatchNormali (None, 13, 13, 1024) 4096        conv4_block1_3_conv[0][0]        \n",
            "__________________________________________________________________________________________________\n",
            "conv4_block1_add (Add)          (None, 13, 13, 1024) 0           conv4_block1_0_bn[0][0]          \n",
            "                                                                 conv4_block1_3_bn[0][0]          \n",
            "__________________________________________________________________________________________________\n",
            "conv4_block1_out (Activation)   (None, 13, 13, 1024) 0           conv4_block1_add[0][0]           \n",
            "__________________________________________________________________________________________________\n",
            "conv4_block2_1_conv (Conv2D)    (None, 13, 13, 256)  262400      conv4_block1_out[0][0]           \n",
            "__________________________________________________________________________________________________\n",
            "conv4_block2_1_bn (BatchNormali (None, 13, 13, 256)  1024        conv4_block2_1_conv[0][0]        \n",
            "__________________________________________________________________________________________________\n",
            "conv4_block2_1_relu (Activation (None, 13, 13, 256)  0           conv4_block2_1_bn[0][0]          \n",
            "__________________________________________________________________________________________________\n",
            "conv4_block2_2_conv (Conv2D)    (None, 13, 13, 256)  590080      conv4_block2_1_relu[0][0]        \n",
            "__________________________________________________________________________________________________\n",
            "conv4_block2_2_bn (BatchNormali (None, 13, 13, 256)  1024        conv4_block2_2_conv[0][0]        \n",
            "__________________________________________________________________________________________________\n",
            "conv4_block2_2_relu (Activation (None, 13, 13, 256)  0           conv4_block2_2_bn[0][0]          \n",
            "__________________________________________________________________________________________________\n",
            "conv4_block2_3_conv (Conv2D)    (None, 13, 13, 1024) 263168      conv4_block2_2_relu[0][0]        \n",
            "__________________________________________________________________________________________________\n",
            "conv4_block2_3_bn (BatchNormali (None, 13, 13, 1024) 4096        conv4_block2_3_conv[0][0]        \n",
            "__________________________________________________________________________________________________\n",
            "conv4_block2_add (Add)          (None, 13, 13, 1024) 0           conv4_block1_out[0][0]           \n",
            "                                                                 conv4_block2_3_bn[0][0]          \n",
            "__________________________________________________________________________________________________\n",
            "conv4_block2_out (Activation)   (None, 13, 13, 1024) 0           conv4_block2_add[0][0]           \n",
            "__________________________________________________________________________________________________\n",
            "conv4_block3_1_conv (Conv2D)    (None, 13, 13, 256)  262400      conv4_block2_out[0][0]           \n",
            "__________________________________________________________________________________________________\n",
            "conv4_block3_1_bn (BatchNormali (None, 13, 13, 256)  1024        conv4_block3_1_conv[0][0]        \n",
            "__________________________________________________________________________________________________\n",
            "conv4_block3_1_relu (Activation (None, 13, 13, 256)  0           conv4_block3_1_bn[0][0]          \n",
            "__________________________________________________________________________________________________\n",
            "conv4_block3_2_conv (Conv2D)    (None, 13, 13, 256)  590080      conv4_block3_1_relu[0][0]        \n",
            "__________________________________________________________________________________________________\n",
            "conv4_block3_2_bn (BatchNormali (None, 13, 13, 256)  1024        conv4_block3_2_conv[0][0]        \n",
            "__________________________________________________________________________________________________\n",
            "conv4_block3_2_relu (Activation (None, 13, 13, 256)  0           conv4_block3_2_bn[0][0]          \n",
            "__________________________________________________________________________________________________\n",
            "conv4_block3_3_conv (Conv2D)    (None, 13, 13, 1024) 263168      conv4_block3_2_relu[0][0]        \n",
            "__________________________________________________________________________________________________\n",
            "conv4_block3_3_bn (BatchNormali (None, 13, 13, 1024) 4096        conv4_block3_3_conv[0][0]        \n",
            "__________________________________________________________________________________________________\n",
            "conv4_block3_add (Add)          (None, 13, 13, 1024) 0           conv4_block2_out[0][0]           \n",
            "                                                                 conv4_block3_3_bn[0][0]          \n",
            "__________________________________________________________________________________________________\n",
            "conv4_block3_out (Activation)   (None, 13, 13, 1024) 0           conv4_block3_add[0][0]           \n",
            "__________________________________________________________________________________________________\n",
            "conv4_block4_1_conv (Conv2D)    (None, 13, 13, 256)  262400      conv4_block3_out[0][0]           \n",
            "__________________________________________________________________________________________________\n",
            "conv4_block4_1_bn (BatchNormali (None, 13, 13, 256)  1024        conv4_block4_1_conv[0][0]        \n",
            "__________________________________________________________________________________________________\n",
            "conv4_block4_1_relu (Activation (None, 13, 13, 256)  0           conv4_block4_1_bn[0][0]          \n",
            "__________________________________________________________________________________________________\n",
            "conv4_block4_2_conv (Conv2D)    (None, 13, 13, 256)  590080      conv4_block4_1_relu[0][0]        \n",
            "__________________________________________________________________________________________________\n",
            "conv4_block4_2_bn (BatchNormali (None, 13, 13, 256)  1024        conv4_block4_2_conv[0][0]        \n",
            "__________________________________________________________________________________________________\n",
            "conv4_block4_2_relu (Activation (None, 13, 13, 256)  0           conv4_block4_2_bn[0][0]          \n",
            "__________________________________________________________________________________________________\n",
            "conv4_block4_3_conv (Conv2D)    (None, 13, 13, 1024) 263168      conv4_block4_2_relu[0][0]        \n",
            "__________________________________________________________________________________________________\n",
            "conv4_block4_3_bn (BatchNormali (None, 13, 13, 1024) 4096        conv4_block4_3_conv[0][0]        \n",
            "__________________________________________________________________________________________________\n",
            "conv4_block4_add (Add)          (None, 13, 13, 1024) 0           conv4_block3_out[0][0]           \n",
            "                                                                 conv4_block4_3_bn[0][0]          \n",
            "__________________________________________________________________________________________________\n",
            "conv4_block4_out (Activation)   (None, 13, 13, 1024) 0           conv4_block4_add[0][0]           \n",
            "__________________________________________________________________________________________________\n",
            "conv4_block5_1_conv (Conv2D)    (None, 13, 13, 256)  262400      conv4_block4_out[0][0]           \n",
            "__________________________________________________________________________________________________\n",
            "conv4_block5_1_bn (BatchNormali (None, 13, 13, 256)  1024        conv4_block5_1_conv[0][0]        \n",
            "__________________________________________________________________________________________________\n",
            "conv4_block5_1_relu (Activation (None, 13, 13, 256)  0           conv4_block5_1_bn[0][0]          \n",
            "__________________________________________________________________________________________________\n",
            "conv4_block5_2_conv (Conv2D)    (None, 13, 13, 256)  590080      conv4_block5_1_relu[0][0]        \n",
            "__________________________________________________________________________________________________\n",
            "conv4_block5_2_bn (BatchNormali (None, 13, 13, 256)  1024        conv4_block5_2_conv[0][0]        \n",
            "__________________________________________________________________________________________________\n",
            "conv4_block5_2_relu (Activation (None, 13, 13, 256)  0           conv4_block5_2_bn[0][0]          \n",
            "__________________________________________________________________________________________________\n",
            "conv4_block5_3_conv (Conv2D)    (None, 13, 13, 1024) 263168      conv4_block5_2_relu[0][0]        \n",
            "__________________________________________________________________________________________________\n",
            "conv4_block5_3_bn (BatchNormali (None, 13, 13, 1024) 4096        conv4_block5_3_conv[0][0]        \n",
            "__________________________________________________________________________________________________\n",
            "conv4_block5_add (Add)          (None, 13, 13, 1024) 0           conv4_block4_out[0][0]           \n",
            "                                                                 conv4_block5_3_bn[0][0]          \n",
            "__________________________________________________________________________________________________\n",
            "conv4_block5_out (Activation)   (None, 13, 13, 1024) 0           conv4_block5_add[0][0]           \n",
            "__________________________________________________________________________________________________\n",
            "conv4_block6_1_conv (Conv2D)    (None, 13, 13, 256)  262400      conv4_block5_out[0][0]           \n",
            "__________________________________________________________________________________________________\n",
            "conv4_block6_1_bn (BatchNormali (None, 13, 13, 256)  1024        conv4_block6_1_conv[0][0]        \n",
            "__________________________________________________________________________________________________\n",
            "conv4_block6_1_relu (Activation (None, 13, 13, 256)  0           conv4_block6_1_bn[0][0]          \n",
            "__________________________________________________________________________________________________\n",
            "conv4_block6_2_conv (Conv2D)    (None, 13, 13, 256)  590080      conv4_block6_1_relu[0][0]        \n",
            "__________________________________________________________________________________________________\n",
            "conv4_block6_2_bn (BatchNormali (None, 13, 13, 256)  1024        conv4_block6_2_conv[0][0]        \n",
            "__________________________________________________________________________________________________\n",
            "conv4_block6_2_relu (Activation (None, 13, 13, 256)  0           conv4_block6_2_bn[0][0]          \n",
            "__________________________________________________________________________________________________\n",
            "conv4_block6_3_conv (Conv2D)    (None, 13, 13, 1024) 263168      conv4_block6_2_relu[0][0]        \n",
            "__________________________________________________________________________________________________\n",
            "conv4_block6_3_bn (BatchNormali (None, 13, 13, 1024) 4096        conv4_block6_3_conv[0][0]        \n",
            "__________________________________________________________________________________________________\n",
            "conv4_block6_add (Add)          (None, 13, 13, 1024) 0           conv4_block5_out[0][0]           \n",
            "                                                                 conv4_block6_3_bn[0][0]          \n",
            "__________________________________________________________________________________________________\n",
            "conv4_block6_out (Activation)   (None, 13, 13, 1024) 0           conv4_block6_add[0][0]           \n",
            "__________________________________________________________________________________________________\n",
            "conv5_block1_1_conv (Conv2D)    (None, 7, 7, 512)    524800      conv4_block6_out[0][0]           \n",
            "__________________________________________________________________________________________________\n",
            "conv5_block1_1_bn (BatchNormali (None, 7, 7, 512)    2048        conv5_block1_1_conv[0][0]        \n",
            "__________________________________________________________________________________________________\n",
            "conv5_block1_1_relu (Activation (None, 7, 7, 512)    0           conv5_block1_1_bn[0][0]          \n",
            "__________________________________________________________________________________________________\n",
            "conv5_block1_2_conv (Conv2D)    (None, 7, 7, 512)    2359808     conv5_block1_1_relu[0][0]        \n",
            "__________________________________________________________________________________________________\n",
            "conv5_block1_2_bn (BatchNormali (None, 7, 7, 512)    2048        conv5_block1_2_conv[0][0]        \n",
            "__________________________________________________________________________________________________\n",
            "conv5_block1_2_relu (Activation (None, 7, 7, 512)    0           conv5_block1_2_bn[0][0]          \n",
            "__________________________________________________________________________________________________\n",
            "conv5_block1_0_conv (Conv2D)    (None, 7, 7, 2048)   2099200     conv4_block6_out[0][0]           \n",
            "__________________________________________________________________________________________________\n",
            "conv5_block1_3_conv (Conv2D)    (None, 7, 7, 2048)   1050624     conv5_block1_2_relu[0][0]        \n",
            "__________________________________________________________________________________________________\n",
            "conv5_block1_0_bn (BatchNormali (None, 7, 7, 2048)   8192        conv5_block1_0_conv[0][0]        \n",
            "__________________________________________________________________________________________________\n",
            "conv5_block1_3_bn (BatchNormali (None, 7, 7, 2048)   8192        conv5_block1_3_conv[0][0]        \n",
            "__________________________________________________________________________________________________\n",
            "conv5_block1_add (Add)          (None, 7, 7, 2048)   0           conv5_block1_0_bn[0][0]          \n",
            "                                                                 conv5_block1_3_bn[0][0]          \n",
            "__________________________________________________________________________________________________\n",
            "conv5_block1_out (Activation)   (None, 7, 7, 2048)   0           conv5_block1_add[0][0]           \n",
            "__________________________________________________________________________________________________\n",
            "conv5_block2_1_conv (Conv2D)    (None, 7, 7, 512)    1049088     conv5_block1_out[0][0]           \n",
            "__________________________________________________________________________________________________\n",
            "conv5_block2_1_bn (BatchNormali (None, 7, 7, 512)    2048        conv5_block2_1_conv[0][0]        \n",
            "__________________________________________________________________________________________________\n",
            "conv5_block2_1_relu (Activation (None, 7, 7, 512)    0           conv5_block2_1_bn[0][0]          \n",
            "__________________________________________________________________________________________________\n",
            "conv5_block2_2_conv (Conv2D)    (None, 7, 7, 512)    2359808     conv5_block2_1_relu[0][0]        \n",
            "__________________________________________________________________________________________________\n",
            "conv5_block2_2_bn (BatchNormali (None, 7, 7, 512)    2048        conv5_block2_2_conv[0][0]        \n",
            "__________________________________________________________________________________________________\n",
            "conv5_block2_2_relu (Activation (None, 7, 7, 512)    0           conv5_block2_2_bn[0][0]          \n",
            "__________________________________________________________________________________________________\n",
            "conv5_block2_3_conv (Conv2D)    (None, 7, 7, 2048)   1050624     conv5_block2_2_relu[0][0]        \n",
            "__________________________________________________________________________________________________\n",
            "conv5_block2_3_bn (BatchNormali (None, 7, 7, 2048)   8192        conv5_block2_3_conv[0][0]        \n",
            "__________________________________________________________________________________________________\n",
            "conv5_block2_add (Add)          (None, 7, 7, 2048)   0           conv5_block1_out[0][0]           \n",
            "                                                                 conv5_block2_3_bn[0][0]          \n",
            "__________________________________________________________________________________________________\n",
            "conv5_block2_out (Activation)   (None, 7, 7, 2048)   0           conv5_block2_add[0][0]           \n",
            "__________________________________________________________________________________________________\n",
            "conv5_block3_1_conv (Conv2D)    (None, 7, 7, 512)    1049088     conv5_block2_out[0][0]           \n",
            "__________________________________________________________________________________________________\n",
            "conv5_block3_1_bn (BatchNormali (None, 7, 7, 512)    2048        conv5_block3_1_conv[0][0]        \n",
            "__________________________________________________________________________________________________\n",
            "conv5_block3_1_relu (Activation (None, 7, 7, 512)    0           conv5_block3_1_bn[0][0]          \n",
            "__________________________________________________________________________________________________\n",
            "conv5_block3_2_conv (Conv2D)    (None, 7, 7, 512)    2359808     conv5_block3_1_relu[0][0]        \n",
            "__________________________________________________________________________________________________\n",
            "conv5_block3_2_bn (BatchNormali (None, 7, 7, 512)    2048        conv5_block3_2_conv[0][0]        \n",
            "__________________________________________________________________________________________________\n",
            "conv5_block3_2_relu (Activation (None, 7, 7, 512)    0           conv5_block3_2_bn[0][0]          \n",
            "__________________________________________________________________________________________________\n",
            "conv5_block3_3_conv (Conv2D)    (None, 7, 7, 2048)   1050624     conv5_block3_2_relu[0][0]        \n",
            "__________________________________________________________________________________________________\n",
            "conv5_block3_3_bn (BatchNormali (None, 7, 7, 2048)   8192        conv5_block3_3_conv[0][0]        \n",
            "__________________________________________________________________________________________________\n",
            "conv5_block3_add (Add)          (None, 7, 7, 2048)   0           conv5_block2_out[0][0]           \n",
            "                                                                 conv5_block3_3_bn[0][0]          \n",
            "__________________________________________________________________________________________________\n",
            "conv5_block3_out (Activation)   (None, 7, 7, 2048)   0           conv5_block3_add[0][0]           \n",
            "__________________________________________________________________________________________________\n",
            "global_average_pooling2d (Globa (None, 2048)         0           conv5_block3_out[0][0]           \n",
            "__________________________________________________________________________________________________\n",
            "dense (Dense)                   (None, 512)          1049088     global_average_pooling2d[0][0]   \n",
            "__________________________________________________________________________________________________\n",
            "dropout (Dropout)               (None, 512)          0           dense[0][0]                      \n",
            "__________________________________________________________________________________________________\n",
            "dense_1 (Dense)                 (None, 512)          262656      dropout[0][0]                    \n",
            "__________________________________________________________________________________________________\n",
            "dropout_1 (Dropout)             (None, 512)          0           dense_1[0][0]                    \n",
            "__________________________________________________________________________________________________\n",
            "dense_2 (Dense)                 (None, 512)          262656      dropout_1[0][0]                  \n",
            "__________________________________________________________________________________________________\n",
            "dropout_2 (Dropout)             (None, 512)          0           dense_2[0][0]                    \n",
            "__________________________________________________________________________________________________\n",
            "dense_3 (Dense)                 (None, 3)            1539        dropout_2[0][0]                  \n",
            "==================================================================================================\n",
            "Total params: 25,163,651\n",
            "Trainable params: 25,110,531\n",
            "Non-trainable params: 53,120\n",
            "__________________________________________________________________________________________________\n"
          ],
          "name": "stdout"
        }
      ]
    },
    {
      "cell_type": "code",
      "metadata": {
        "id": "f99YWWgxC99k",
        "colab_type": "code",
        "outputId": "76d2a7d3-1883-4f46-90fa-da13557962b1",
        "colab": {
          "base_uri": "https://localhost:8080/",
          "height": 1000
        }
      },
      "source": [
        "for layer in resnet_50.layers:\n",
        "    print(layer.name)\n",
        "    layer.trainable = False"
      ],
      "execution_count": 37,
      "outputs": [
        {
          "output_type": "stream",
          "text": [
            "input_1\n",
            "conv1_pad\n",
            "conv1_conv\n",
            "conv1_bn\n",
            "conv1_relu\n",
            "pool1_pad\n",
            "pool1_pool\n",
            "conv2_block1_1_conv\n",
            "conv2_block1_1_bn\n",
            "conv2_block1_1_relu\n",
            "conv2_block1_2_conv\n",
            "conv2_block1_2_bn\n",
            "conv2_block1_2_relu\n",
            "conv2_block1_0_conv\n",
            "conv2_block1_3_conv\n",
            "conv2_block1_0_bn\n",
            "conv2_block1_3_bn\n",
            "conv2_block1_add\n",
            "conv2_block1_out\n",
            "conv2_block2_1_conv\n",
            "conv2_block2_1_bn\n",
            "conv2_block2_1_relu\n",
            "conv2_block2_2_conv\n",
            "conv2_block2_2_bn\n",
            "conv2_block2_2_relu\n",
            "conv2_block2_3_conv\n",
            "conv2_block2_3_bn\n",
            "conv2_block2_add\n",
            "conv2_block2_out\n",
            "conv2_block3_1_conv\n",
            "conv2_block3_1_bn\n",
            "conv2_block3_1_relu\n",
            "conv2_block3_2_conv\n",
            "conv2_block3_2_bn\n",
            "conv2_block3_2_relu\n",
            "conv2_block3_3_conv\n",
            "conv2_block3_3_bn\n",
            "conv2_block3_add\n",
            "conv2_block3_out\n",
            "conv3_block1_1_conv\n",
            "conv3_block1_1_bn\n",
            "conv3_block1_1_relu\n",
            "conv3_block1_2_conv\n",
            "conv3_block1_2_bn\n",
            "conv3_block1_2_relu\n",
            "conv3_block1_0_conv\n",
            "conv3_block1_3_conv\n",
            "conv3_block1_0_bn\n",
            "conv3_block1_3_bn\n",
            "conv3_block1_add\n",
            "conv3_block1_out\n",
            "conv3_block2_1_conv\n",
            "conv3_block2_1_bn\n",
            "conv3_block2_1_relu\n",
            "conv3_block2_2_conv\n",
            "conv3_block2_2_bn\n",
            "conv3_block2_2_relu\n",
            "conv3_block2_3_conv\n",
            "conv3_block2_3_bn\n",
            "conv3_block2_add\n",
            "conv3_block2_out\n",
            "conv3_block3_1_conv\n",
            "conv3_block3_1_bn\n",
            "conv3_block3_1_relu\n",
            "conv3_block3_2_conv\n",
            "conv3_block3_2_bn\n",
            "conv3_block3_2_relu\n",
            "conv3_block3_3_conv\n",
            "conv3_block3_3_bn\n",
            "conv3_block3_add\n",
            "conv3_block3_out\n",
            "conv3_block4_1_conv\n",
            "conv3_block4_1_bn\n",
            "conv3_block4_1_relu\n",
            "conv3_block4_2_conv\n",
            "conv3_block4_2_bn\n",
            "conv3_block4_2_relu\n",
            "conv3_block4_3_conv\n",
            "conv3_block4_3_bn\n",
            "conv3_block4_add\n",
            "conv3_block4_out\n",
            "conv4_block1_1_conv\n",
            "conv4_block1_1_bn\n",
            "conv4_block1_1_relu\n",
            "conv4_block1_2_conv\n",
            "conv4_block1_2_bn\n",
            "conv4_block1_2_relu\n",
            "conv4_block1_0_conv\n",
            "conv4_block1_3_conv\n",
            "conv4_block1_0_bn\n",
            "conv4_block1_3_bn\n",
            "conv4_block1_add\n",
            "conv4_block1_out\n",
            "conv4_block2_1_conv\n",
            "conv4_block2_1_bn\n",
            "conv4_block2_1_relu\n",
            "conv4_block2_2_conv\n",
            "conv4_block2_2_bn\n",
            "conv4_block2_2_relu\n",
            "conv4_block2_3_conv\n",
            "conv4_block2_3_bn\n",
            "conv4_block2_add\n",
            "conv4_block2_out\n",
            "conv4_block3_1_conv\n",
            "conv4_block3_1_bn\n",
            "conv4_block3_1_relu\n",
            "conv4_block3_2_conv\n",
            "conv4_block3_2_bn\n",
            "conv4_block3_2_relu\n",
            "conv4_block3_3_conv\n",
            "conv4_block3_3_bn\n",
            "conv4_block3_add\n",
            "conv4_block3_out\n",
            "conv4_block4_1_conv\n",
            "conv4_block4_1_bn\n",
            "conv4_block4_1_relu\n",
            "conv4_block4_2_conv\n",
            "conv4_block4_2_bn\n",
            "conv4_block4_2_relu\n",
            "conv4_block4_3_conv\n",
            "conv4_block4_3_bn\n",
            "conv4_block4_add\n",
            "conv4_block4_out\n",
            "conv4_block5_1_conv\n",
            "conv4_block5_1_bn\n",
            "conv4_block5_1_relu\n",
            "conv4_block5_2_conv\n",
            "conv4_block5_2_bn\n",
            "conv4_block5_2_relu\n",
            "conv4_block5_3_conv\n",
            "conv4_block5_3_bn\n",
            "conv4_block5_add\n",
            "conv4_block5_out\n",
            "conv4_block6_1_conv\n",
            "conv4_block6_1_bn\n",
            "conv4_block6_1_relu\n",
            "conv4_block6_2_conv\n",
            "conv4_block6_2_bn\n",
            "conv4_block6_2_relu\n",
            "conv4_block6_3_conv\n",
            "conv4_block6_3_bn\n",
            "conv4_block6_add\n",
            "conv4_block6_out\n",
            "conv5_block1_1_conv\n",
            "conv5_block1_1_bn\n",
            "conv5_block1_1_relu\n",
            "conv5_block1_2_conv\n",
            "conv5_block1_2_bn\n",
            "conv5_block1_2_relu\n",
            "conv5_block1_0_conv\n",
            "conv5_block1_3_conv\n",
            "conv5_block1_0_bn\n",
            "conv5_block1_3_bn\n",
            "conv5_block1_add\n",
            "conv5_block1_out\n",
            "conv5_block2_1_conv\n",
            "conv5_block2_1_bn\n",
            "conv5_block2_1_relu\n",
            "conv5_block2_2_conv\n",
            "conv5_block2_2_bn\n",
            "conv5_block2_2_relu\n",
            "conv5_block2_3_conv\n",
            "conv5_block2_3_bn\n",
            "conv5_block2_add\n",
            "conv5_block2_out\n",
            "conv5_block3_1_conv\n",
            "conv5_block3_1_bn\n",
            "conv5_block3_1_relu\n",
            "conv5_block3_2_conv\n",
            "conv5_block3_2_bn\n",
            "conv5_block3_2_relu\n",
            "conv5_block3_3_conv\n",
            "conv5_block3_3_bn\n",
            "conv5_block3_add\n",
            "conv5_block3_out\n"
          ],
          "name": "stdout"
        }
      ]
    },
    {
      "cell_type": "code",
      "metadata": {
        "id": "y2P0-ZTaDAPW",
        "colab_type": "code",
        "outputId": "134fd55a-8a39-4376-e629-3a9914debc64",
        "colab": {
          "base_uri": "https://localhost:8080/",
          "height": 1000
        }
      },
      "source": [
        "for layer in base_resnet50_model.layers:\n",
        "    print(layer.name,' Trainable =',layer.trainable)"
      ],
      "execution_count": 38,
      "outputs": [
        {
          "output_type": "stream",
          "text": [
            "input_1  Trainable = False\n",
            "conv1_pad  Trainable = False\n",
            "conv1_conv  Trainable = False\n",
            "conv1_bn  Trainable = False\n",
            "conv1_relu  Trainable = False\n",
            "pool1_pad  Trainable = False\n",
            "pool1_pool  Trainable = False\n",
            "conv2_block1_1_conv  Trainable = False\n",
            "conv2_block1_1_bn  Trainable = False\n",
            "conv2_block1_1_relu  Trainable = False\n",
            "conv2_block1_2_conv  Trainable = False\n",
            "conv2_block1_2_bn  Trainable = False\n",
            "conv2_block1_2_relu  Trainable = False\n",
            "conv2_block1_0_conv  Trainable = False\n",
            "conv2_block1_3_conv  Trainable = False\n",
            "conv2_block1_0_bn  Trainable = False\n",
            "conv2_block1_3_bn  Trainable = False\n",
            "conv2_block1_add  Trainable = False\n",
            "conv2_block1_out  Trainable = False\n",
            "conv2_block2_1_conv  Trainable = False\n",
            "conv2_block2_1_bn  Trainable = False\n",
            "conv2_block2_1_relu  Trainable = False\n",
            "conv2_block2_2_conv  Trainable = False\n",
            "conv2_block2_2_bn  Trainable = False\n",
            "conv2_block2_2_relu  Trainable = False\n",
            "conv2_block2_3_conv  Trainable = False\n",
            "conv2_block2_3_bn  Trainable = False\n",
            "conv2_block2_add  Trainable = False\n",
            "conv2_block2_out  Trainable = False\n",
            "conv2_block3_1_conv  Trainable = False\n",
            "conv2_block3_1_bn  Trainable = False\n",
            "conv2_block3_1_relu  Trainable = False\n",
            "conv2_block3_2_conv  Trainable = False\n",
            "conv2_block3_2_bn  Trainable = False\n",
            "conv2_block3_2_relu  Trainable = False\n",
            "conv2_block3_3_conv  Trainable = False\n",
            "conv2_block3_3_bn  Trainable = False\n",
            "conv2_block3_add  Trainable = False\n",
            "conv2_block3_out  Trainable = False\n",
            "conv3_block1_1_conv  Trainable = False\n",
            "conv3_block1_1_bn  Trainable = False\n",
            "conv3_block1_1_relu  Trainable = False\n",
            "conv3_block1_2_conv  Trainable = False\n",
            "conv3_block1_2_bn  Trainable = False\n",
            "conv3_block1_2_relu  Trainable = False\n",
            "conv3_block1_0_conv  Trainable = False\n",
            "conv3_block1_3_conv  Trainable = False\n",
            "conv3_block1_0_bn  Trainable = False\n",
            "conv3_block1_3_bn  Trainable = False\n",
            "conv3_block1_add  Trainable = False\n",
            "conv3_block1_out  Trainable = False\n",
            "conv3_block2_1_conv  Trainable = False\n",
            "conv3_block2_1_bn  Trainable = False\n",
            "conv3_block2_1_relu  Trainable = False\n",
            "conv3_block2_2_conv  Trainable = False\n",
            "conv3_block2_2_bn  Trainable = False\n",
            "conv3_block2_2_relu  Trainable = False\n",
            "conv3_block2_3_conv  Trainable = False\n",
            "conv3_block2_3_bn  Trainable = False\n",
            "conv3_block2_add  Trainable = False\n",
            "conv3_block2_out  Trainable = False\n",
            "conv3_block3_1_conv  Trainable = False\n",
            "conv3_block3_1_bn  Trainable = False\n",
            "conv3_block3_1_relu  Trainable = False\n",
            "conv3_block3_2_conv  Trainable = False\n",
            "conv3_block3_2_bn  Trainable = False\n",
            "conv3_block3_2_relu  Trainable = False\n",
            "conv3_block3_3_conv  Trainable = False\n",
            "conv3_block3_3_bn  Trainable = False\n",
            "conv3_block3_add  Trainable = False\n",
            "conv3_block3_out  Trainable = False\n",
            "conv3_block4_1_conv  Trainable = False\n",
            "conv3_block4_1_bn  Trainable = False\n",
            "conv3_block4_1_relu  Trainable = False\n",
            "conv3_block4_2_conv  Trainable = False\n",
            "conv3_block4_2_bn  Trainable = False\n",
            "conv3_block4_2_relu  Trainable = False\n",
            "conv3_block4_3_conv  Trainable = False\n",
            "conv3_block4_3_bn  Trainable = False\n",
            "conv3_block4_add  Trainable = False\n",
            "conv3_block4_out  Trainable = False\n",
            "conv4_block1_1_conv  Trainable = False\n",
            "conv4_block1_1_bn  Trainable = False\n",
            "conv4_block1_1_relu  Trainable = False\n",
            "conv4_block1_2_conv  Trainable = False\n",
            "conv4_block1_2_bn  Trainable = False\n",
            "conv4_block1_2_relu  Trainable = False\n",
            "conv4_block1_0_conv  Trainable = False\n",
            "conv4_block1_3_conv  Trainable = False\n",
            "conv4_block1_0_bn  Trainable = False\n",
            "conv4_block1_3_bn  Trainable = False\n",
            "conv4_block1_add  Trainable = False\n",
            "conv4_block1_out  Trainable = False\n",
            "conv4_block2_1_conv  Trainable = False\n",
            "conv4_block2_1_bn  Trainable = False\n",
            "conv4_block2_1_relu  Trainable = False\n",
            "conv4_block2_2_conv  Trainable = False\n",
            "conv4_block2_2_bn  Trainable = False\n",
            "conv4_block2_2_relu  Trainable = False\n",
            "conv4_block2_3_conv  Trainable = False\n",
            "conv4_block2_3_bn  Trainable = False\n",
            "conv4_block2_add  Trainable = False\n",
            "conv4_block2_out  Trainable = False\n",
            "conv4_block3_1_conv  Trainable = False\n",
            "conv4_block3_1_bn  Trainable = False\n",
            "conv4_block3_1_relu  Trainable = False\n",
            "conv4_block3_2_conv  Trainable = False\n",
            "conv4_block3_2_bn  Trainable = False\n",
            "conv4_block3_2_relu  Trainable = False\n",
            "conv4_block3_3_conv  Trainable = False\n",
            "conv4_block3_3_bn  Trainable = False\n",
            "conv4_block3_add  Trainable = False\n",
            "conv4_block3_out  Trainable = False\n",
            "conv4_block4_1_conv  Trainable = False\n",
            "conv4_block4_1_bn  Trainable = False\n",
            "conv4_block4_1_relu  Trainable = False\n",
            "conv4_block4_2_conv  Trainable = False\n",
            "conv4_block4_2_bn  Trainable = False\n",
            "conv4_block4_2_relu  Trainable = False\n",
            "conv4_block4_3_conv  Trainable = False\n",
            "conv4_block4_3_bn  Trainable = False\n",
            "conv4_block4_add  Trainable = False\n",
            "conv4_block4_out  Trainable = False\n",
            "conv4_block5_1_conv  Trainable = False\n",
            "conv4_block5_1_bn  Trainable = False\n",
            "conv4_block5_1_relu  Trainable = False\n",
            "conv4_block5_2_conv  Trainable = False\n",
            "conv4_block5_2_bn  Trainable = False\n",
            "conv4_block5_2_relu  Trainable = False\n",
            "conv4_block5_3_conv  Trainable = False\n",
            "conv4_block5_3_bn  Trainable = False\n",
            "conv4_block5_add  Trainable = False\n",
            "conv4_block5_out  Trainable = False\n",
            "conv4_block6_1_conv  Trainable = False\n",
            "conv4_block6_1_bn  Trainable = False\n",
            "conv4_block6_1_relu  Trainable = False\n",
            "conv4_block6_2_conv  Trainable = False\n",
            "conv4_block6_2_bn  Trainable = False\n",
            "conv4_block6_2_relu  Trainable = False\n",
            "conv4_block6_3_conv  Trainable = False\n",
            "conv4_block6_3_bn  Trainable = False\n",
            "conv4_block6_add  Trainable = False\n",
            "conv4_block6_out  Trainable = False\n",
            "conv5_block1_1_conv  Trainable = False\n",
            "conv5_block1_1_bn  Trainable = False\n",
            "conv5_block1_1_relu  Trainable = False\n",
            "conv5_block1_2_conv  Trainable = False\n",
            "conv5_block1_2_bn  Trainable = False\n",
            "conv5_block1_2_relu  Trainable = False\n",
            "conv5_block1_0_conv  Trainable = False\n",
            "conv5_block1_3_conv  Trainable = False\n",
            "conv5_block1_0_bn  Trainable = False\n",
            "conv5_block1_3_bn  Trainable = False\n",
            "conv5_block1_add  Trainable = False\n",
            "conv5_block1_out  Trainable = False\n",
            "conv5_block2_1_conv  Trainable = False\n",
            "conv5_block2_1_bn  Trainable = False\n",
            "conv5_block2_1_relu  Trainable = False\n",
            "conv5_block2_2_conv  Trainable = False\n",
            "conv5_block2_2_bn  Trainable = False\n",
            "conv5_block2_2_relu  Trainable = False\n",
            "conv5_block2_3_conv  Trainable = False\n",
            "conv5_block2_3_bn  Trainable = False\n",
            "conv5_block2_add  Trainable = False\n",
            "conv5_block2_out  Trainable = False\n",
            "conv5_block3_1_conv  Trainable = False\n",
            "conv5_block3_1_bn  Trainable = False\n",
            "conv5_block3_1_relu  Trainable = False\n",
            "conv5_block3_2_conv  Trainable = False\n",
            "conv5_block3_2_bn  Trainable = False\n",
            "conv5_block3_2_relu  Trainable = False\n",
            "conv5_block3_3_conv  Trainable = False\n",
            "conv5_block3_3_bn  Trainable = False\n",
            "conv5_block3_add  Trainable = False\n",
            "conv5_block3_out  Trainable = False\n",
            "global_average_pooling2d  Trainable = True\n",
            "dense  Trainable = True\n",
            "dropout  Trainable = True\n",
            "dense_1  Trainable = True\n",
            "dropout_1  Trainable = True\n",
            "dense_2  Trainable = True\n",
            "dropout_2  Trainable = True\n",
            "dense_3  Trainable = True\n"
          ],
          "name": "stdout"
        }
      ]
    },
    {
      "cell_type": "code",
      "metadata": {
        "id": "wOYp6zEBDDF9",
        "colab_type": "code",
        "colab": {}
      },
      "source": [
        "opt = tf.keras.optimizers.RMSprop(lr=1e-4)\n",
        "# compile the model (should be done *after* setting layers to non-trainable)\n",
        "base_resnet50_model.compile(optimizer=opt, loss='categorical_crossentropy',metrics=['accuracy'])\n"
      ],
      "execution_count": 0,
      "outputs": []
    },
    {
      "cell_type": "markdown",
      "metadata": {
        "id": "2_l1DM1tzvMq",
        "colab_type": "text"
      },
      "source": [
        "#### fitting the model"
      ]
    },
    {
      "cell_type": "code",
      "metadata": {
        "id": "ZilESfkQDI0b",
        "colab_type": "code",
        "outputId": "d801d87e-98e7-4d4b-adf9-dc698d30550c",
        "colab": {
          "base_uri": "https://localhost:8080/",
          "height": 1000
        }
      },
      "source": [
        "train_steps = int(len(df_train)/batch_size) #total trains set / batch_size\n",
        "val_steps = int(len(df_val)/batch_size)\n",
        "\n",
        "print('train steps:',train_steps)\n",
        "print('val steps:',val_steps)\n",
        "epochs = 50\n",
        "\n",
        "#es = EarlyStopping(monitor='accuracy', mode='max', verbose=1, patience=15)\n",
        "\n",
        "resnet_model_filepath = 'CMS/entirely_frozen_resnet50_RMSprop.h5'\n",
        "#resnet_model_filepath = 'CMS/entirely_frozen_resnet50.h5'\n",
        "mcp = ModelCheckpoint(resnet_model_filepath, monitor='accuracy', save_best_only=True, mode='max')\n",
        "\n",
        "### Train the model with validation \n",
        "entirely_frozen_resnet50_history = base_resnet50_model.fit( train_dataset, steps_per_epoch = train_steps,\n",
        "                   epochs = epochs,\n",
        "                   validation_data = valid_dataset,\n",
        "                   validation_steps = val_steps,\n",
        "                   callbacks= [#es, \n",
        "                               mcp])"
      ],
      "execution_count": 40,
      "outputs": [
        {
          "output_type": "stream",
          "text": [
            "train steps: 24\n",
            "val steps: 3\n",
            "Train for 24 steps, validate for 3 steps\n",
            "Epoch 1/50\n",
            "24/24 [==============================] - 2115s 88s/step - loss: 1.0577 - accuracy: 0.4622 - val_loss: 1.1281 - val_accuracy: 0.3472\n",
            "Epoch 2/50\n",
            "24/24 [==============================] - 30s 1s/step - loss: 0.8100 - accuracy: 0.6187 - val_loss: 1.2963 - val_accuracy: 0.3472\n",
            "Epoch 3/50\n",
            "24/24 [==============================] - 30s 1s/step - loss: 0.7302 - accuracy: 0.6528 - val_loss: 1.4992 - val_accuracy: 0.3472\n",
            "Epoch 4/50\n",
            "24/24 [==============================] - 30s 1s/step - loss: 0.6687 - accuracy: 0.6889 - val_loss: 1.3905 - val_accuracy: 0.3472\n",
            "Epoch 5/50\n",
            "24/24 [==============================] - 30s 1s/step - loss: 0.6351 - accuracy: 0.7097 - val_loss: 1.5012 - val_accuracy: 0.3472\n",
            "Epoch 6/50\n",
            "24/24 [==============================] - 30s 1s/step - loss: 0.6260 - accuracy: 0.7101 - val_loss: 1.6873 - val_accuracy: 0.3472\n",
            "Epoch 7/50\n",
            "24/24 [==============================] - 30s 1s/step - loss: 0.5941 - accuracy: 0.7219 - val_loss: 1.4956 - val_accuracy: 0.3472\n",
            "Epoch 8/50\n",
            "24/24 [==============================] - 31s 1s/step - loss: 0.5933 - accuracy: 0.7247 - val_loss: 1.4318 - val_accuracy: 0.3472\n",
            "Epoch 9/50\n",
            "24/24 [==============================] - 30s 1s/step - loss: 0.5841 - accuracy: 0.7375 - val_loss: 1.5866 - val_accuracy: 0.3472\n",
            "Epoch 10/50\n",
            "24/24 [==============================] - 30s 1s/step - loss: 0.5650 - accuracy: 0.7510 - val_loss: 1.6542 - val_accuracy: 0.3472\n",
            "Epoch 11/50\n",
            "24/24 [==============================] - 28s 1s/step - loss: 0.5534 - accuracy: 0.7472 - val_loss: 1.8398 - val_accuracy: 0.3472\n",
            "Epoch 12/50\n",
            "24/24 [==============================] - 30s 1s/step - loss: 0.5455 - accuracy: 0.7552 - val_loss: 1.8113 - val_accuracy: 0.3472\n",
            "Epoch 13/50\n",
            "24/24 [==============================] - 30s 1s/step - loss: 0.5290 - accuracy: 0.7708 - val_loss: 1.6727 - val_accuracy: 0.3472\n",
            "Epoch 14/50\n",
            "24/24 [==============================] - 28s 1s/step - loss: 0.5219 - accuracy: 0.7656 - val_loss: 2.0158 - val_accuracy: 0.3472\n",
            "Epoch 15/50\n",
            "24/24 [==============================] - 30s 1s/step - loss: 0.5063 - accuracy: 0.7788 - val_loss: 2.0600 - val_accuracy: 0.3472\n",
            "Epoch 16/50\n",
            "24/24 [==============================] - 31s 1s/step - loss: 0.5046 - accuracy: 0.7833 - val_loss: 1.8534 - val_accuracy: 0.3472\n",
            "Epoch 17/50\n",
            "24/24 [==============================] - 28s 1s/step - loss: 0.4901 - accuracy: 0.7788 - val_loss: 2.0846 - val_accuracy: 0.3472\n",
            "Epoch 18/50\n",
            "24/24 [==============================] - 30s 1s/step - loss: 0.4897 - accuracy: 0.7844 - val_loss: 2.2192 - val_accuracy: 0.3472\n",
            "Epoch 19/50\n",
            "24/24 [==============================] - 28s 1s/step - loss: 0.4906 - accuracy: 0.7819 - val_loss: 1.7161 - val_accuracy: 0.3472\n",
            "Epoch 20/50\n",
            "24/24 [==============================] - 30s 1s/step - loss: 0.4700 - accuracy: 0.7944 - val_loss: 1.8232 - val_accuracy: 0.3472\n",
            "Epoch 21/50\n",
            "24/24 [==============================] - 30s 1s/step - loss: 0.4642 - accuracy: 0.7990 - val_loss: 2.1619 - val_accuracy: 0.3472\n",
            "Epoch 22/50\n",
            "24/24 [==============================] - 28s 1s/step - loss: 0.4454 - accuracy: 0.7990 - val_loss: 1.8628 - val_accuracy: 0.3472\n",
            "Epoch 23/50\n",
            "24/24 [==============================] - 30s 1s/step - loss: 0.4495 - accuracy: 0.8049 - val_loss: 2.2993 - val_accuracy: 0.3472\n",
            "Epoch 24/50\n",
            "24/24 [==============================] - 30s 1s/step - loss: 0.4293 - accuracy: 0.8135 - val_loss: 1.8596 - val_accuracy: 0.3472\n",
            "Epoch 25/50\n",
            "24/24 [==============================] - 28s 1s/step - loss: 0.4235 - accuracy: 0.8083 - val_loss: 2.2986 - val_accuracy: 0.3472\n",
            "Epoch 26/50\n",
            "24/24 [==============================] - 30s 1s/step - loss: 0.4134 - accuracy: 0.8188 - val_loss: 1.8573 - val_accuracy: 0.3528\n",
            "Epoch 27/50\n",
            "24/24 [==============================] - 28s 1s/step - loss: 0.4188 - accuracy: 0.8167 - val_loss: 2.0283 - val_accuracy: 0.3472\n",
            "Epoch 28/50\n",
            "24/24 [==============================] - 30s 1s/step - loss: 0.4056 - accuracy: 0.8233 - val_loss: 1.5617 - val_accuracy: 0.3694\n",
            "Epoch 29/50\n",
            "24/24 [==============================] - 30s 1s/step - loss: 0.3988 - accuracy: 0.8344 - val_loss: 2.0337 - val_accuracy: 0.3500\n",
            "Epoch 30/50\n",
            "24/24 [==============================] - 28s 1s/step - loss: 0.3904 - accuracy: 0.8281 - val_loss: 2.0378 - val_accuracy: 0.3472\n",
            "Epoch 31/50\n",
            "24/24 [==============================] - 30s 1s/step - loss: 0.3768 - accuracy: 0.8392 - val_loss: 2.1165 - val_accuracy: 0.3500\n",
            "Epoch 32/50\n",
            "24/24 [==============================] - 28s 1s/step - loss: 0.3764 - accuracy: 0.8347 - val_loss: 2.2397 - val_accuracy: 0.3472\n",
            "Epoch 33/50\n",
            "24/24 [==============================] - 28s 1s/step - loss: 0.3644 - accuracy: 0.8358 - val_loss: 2.2301 - val_accuracy: 0.3472\n",
            "Epoch 34/50\n",
            "24/24 [==============================] - 28s 1s/step - loss: 0.3639 - accuracy: 0.8333 - val_loss: 2.4602 - val_accuracy: 0.3472\n",
            "Epoch 35/50\n",
            "24/24 [==============================] - 29s 1s/step - loss: 0.3438 - accuracy: 0.8580 - val_loss: 2.2708 - val_accuracy: 0.3472\n",
            "Epoch 36/50\n",
            "24/24 [==============================] - 28s 1s/step - loss: 0.3426 - accuracy: 0.8500 - val_loss: 2.4128 - val_accuracy: 0.3500\n",
            "Epoch 37/50\n",
            "24/24 [==============================] - 29s 1s/step - loss: 0.3388 - accuracy: 0.8601 - val_loss: 2.3693 - val_accuracy: 0.3500\n",
            "Epoch 38/50\n",
            "24/24 [==============================] - 29s 1s/step - loss: 0.3186 - accuracy: 0.8625 - val_loss: 2.5409 - val_accuracy: 0.3472\n",
            "Epoch 39/50\n",
            "24/24 [==============================] - 28s 1s/step - loss: 0.3133 - accuracy: 0.8615 - val_loss: 2.5054 - val_accuracy: 0.3472\n",
            "Epoch 40/50\n",
            "24/24 [==============================] - 29s 1s/step - loss: 0.3061 - accuracy: 0.8715 - val_loss: 2.4150 - val_accuracy: 0.3528\n",
            "Epoch 41/50\n",
            "24/24 [==============================] - 28s 1s/step - loss: 0.2961 - accuracy: 0.8694 - val_loss: 2.5673 - val_accuracy: 0.3528\n",
            "Epoch 42/50\n",
            "24/24 [==============================] - 29s 1s/step - loss: 0.2832 - accuracy: 0.8854 - val_loss: 2.9394 - val_accuracy: 0.3472\n",
            "Epoch 43/50\n",
            "24/24 [==============================] - 28s 1s/step - loss: 0.2759 - accuracy: 0.8847 - val_loss: 2.3085 - val_accuracy: 0.3583\n",
            "Epoch 44/50\n",
            "24/24 [==============================] - 28s 1s/step - loss: 0.2811 - accuracy: 0.8781 - val_loss: 2.6876 - val_accuracy: 0.3500\n",
            "Epoch 45/50\n",
            "24/24 [==============================] - 30s 1s/step - loss: 0.2441 - accuracy: 0.8948 - val_loss: 3.1681 - val_accuracy: 0.3500\n",
            "Epoch 46/50\n",
            "24/24 [==============================] - 28s 1s/step - loss: 0.2544 - accuracy: 0.8913 - val_loss: 3.4616 - val_accuracy: 0.3500\n",
            "Epoch 47/50\n",
            "24/24 [==============================] - 30s 1s/step - loss: 0.2428 - accuracy: 0.8965 - val_loss: 4.2424 - val_accuracy: 0.3472\n",
            "Epoch 48/50\n",
            "24/24 [==============================] - 30s 1s/step - loss: 0.2347 - accuracy: 0.9052 - val_loss: 3.0763 - val_accuracy: 0.3528\n",
            "Epoch 49/50\n",
            "24/24 [==============================] - 28s 1s/step - loss: 0.2294 - accuracy: 0.9038 - val_loss: 3.7318 - val_accuracy: 0.3472\n",
            "Epoch 50/50\n",
            "24/24 [==============================] - 29s 1s/step - loss: 0.2198 - accuracy: 0.9042 - val_loss: 3.2207 - val_accuracy: 0.3583\n"
          ],
          "name": "stdout"
        }
      ]
    },
    {
      "cell_type": "markdown",
      "metadata": {
        "id": "1DEF-C99Vlv0",
        "colab_type": "text"
      },
      "source": [
        "#### testing the model"
      ]
    },
    {
      "cell_type": "code",
      "metadata": {
        "id": "9ExLpzmeQaS_",
        "colab_type": "code",
        "outputId": "0f620975-9e23-496d-ae4b-e9b5e229b290",
        "colab": {
          "base_uri": "https://localhost:8080/",
          "height": 70
        }
      },
      "source": [
        "test_steps = int(len(df_test)/batch_size)\n",
        "\n",
        "metrics = base_resnet50_model.evaluate(test_dataset,\n",
        "                   steps = test_steps)\n",
        "print(\"model accuracy:\",metrics[1])"
      ],
      "execution_count": 42,
      "outputs": [
        {
          "output_type": "stream",
          "text": [
            "3/3 [==============================] - 229s 76s/step - loss: 3.1305 - accuracy: 0.3444\n",
            "model accuracy: 0.34444445\n"
          ],
          "name": "stdout"
        }
      ]
    },
    {
      "cell_type": "markdown",
      "metadata": {
        "id": "hBL8c11yrqqX",
        "colab_type": "text"
      },
      "source": [
        "#### plotting training"
      ]
    },
    {
      "cell_type": "code",
      "metadata": {
        "id": "K8LjQA1mh1vN",
        "colab_type": "code",
        "outputId": "35f9d490-76a6-43d0-ed86-69f8987f75cf",
        "colab": {
          "base_uri": "https://localhost:8080/",
          "height": 573
        }
      },
      "source": [
        "plot_hist(entirely_frozen_resnet50_history, 'entirely_frozen_resnet50_RMSprop')"
      ],
      "execution_count": 45,
      "outputs": [
        {
          "output_type": "display_data",
          "data": {
            "image/png": "[encoded data removed]",
            "text/plain": [
              "<Figure size 432x288 with 1 Axes>"
            ]
          },
          "metadata": {
            "tags": []
          }
        },
        {
          "output_type": "display_data",
          "data": {
            "image/png": "[encoded data removed]",
            "text/plain": [
              "<Figure size 432x288 with 1 Axes>"
            ]
          },
          "metadata": {
            "tags": []
          }
        }
      ]
    },
    {
      "cell_type": "markdown",
      "metadata": {
        "id": "m_ZrJLmlg2p1",
        "colab_type": "text"
      },
      "source": [
        "#### saving the history of the fitting"
      ]
    },
    {
      "cell_type": "code",
      "metadata": {
        "id": "MtsOK4BTguPo",
        "colab_type": "code",
        "outputId": "5d306246-97ff-40a2-d9d0-9fe3dfafb7d1",
        "colab": {
          "base_uri": "https://localhost:8080/",
          "height": 34
        }
      },
      "source": [
        "\n",
        "with open(cwd + '/trainHistoryDict/basic_resnet50_history_RMSprop.p', 'wb') as file_pi:\n",
        "        pickle.dump(entirely_frozen_resnet50_history.history, file_pi)\n",
        "print('history saved')"
      ],
      "execution_count": 44,
      "outputs": [
        {
          "output_type": "stream",
          "text": [
            "history saved\n"
          ],
          "name": "stdout"
        }
      ]
    },
    {
      "cell_type": "markdown",
      "metadata": {
        "id": "OCGpPP-l1J7_",
        "colab_type": "text"
      },
      "source": [
        "## Few layers unfrozen"
      ]
    },
    {
      "cell_type": "markdown",
      "metadata": {
        "id": "9NTvh7-AmF2h",
        "colab_type": "text"
      },
      "source": [
        "#### loading model"
      ]
    },
    {
      "cell_type": "code",
      "metadata": {
        "id": "kPl0Png5yCQd",
        "colab_type": "code",
        "colab": {}
      },
      "source": [
        "resnet_50 = tf.keras.applications.ResNet50(\n",
        "    include_top=False,\n",
        "    weights='imagenet',\n",
        "    input_shape=(200,200,3),\n",
        "    pooling=None\n",
        ")"
      ],
      "execution_count": 0,
      "outputs": []
    },
    {
      "cell_type": "markdown",
      "metadata": {
        "id": "qOpVXZpbmKFX",
        "colab_type": "text"
      },
      "source": [
        "#### modifying slightly"
      ]
    },
    {
      "cell_type": "code",
      "metadata": {
        "id": "Z08msq2tyDc4",
        "colab_type": "code",
        "colab": {}
      },
      "source": [
        "x = resnet_50.output\n",
        "\n",
        "x = GlobalAveragePooling2D()(x)\n",
        "\n",
        "# let's add a fully-connected layer\n",
        "x = Dense(512, activation='relu')(x)\n",
        "\n",
        "x = Dropout(0.5)(x)\n",
        "\n",
        "#x = GlobalAveragePooling2D()(x)\n",
        "\n",
        "# let's add a fully-connected layer\n",
        "x = Dense(512, activation='relu')(x)\n",
        "\n",
        "x = Dropout(0.5)(x)\n",
        "\n",
        "# let's add a fully-connected layer\n",
        "x = Dense(512, activation='relu')(x)\n",
        "\n",
        "x = Dropout(0.5)(x)\n",
        "\n",
        "# and a logits layer -- let's say we have 3 classes\n",
        "predictions = Dense(3, activation='softmax')(x)\n"
      ],
      "execution_count": 0,
      "outputs": []
    },
    {
      "cell_type": "markdown",
      "metadata": {
        "id": "f0ECvPigmTNh",
        "colab_type": "text"
      },
      "source": [
        "#### creating model object"
      ]
    },
    {
      "cell_type": "code",
      "metadata": {
        "id": "03eslAo6mAYJ",
        "colab_type": "code",
        "colab": {}
      },
      "source": [
        "# this is the model we will train\n",
        "few_unfrozen_resnet_model = Model(inputs=resnet_50.input, outputs=predictions)"
      ],
      "execution_count": 0,
      "outputs": []
    },
    {
      "cell_type": "code",
      "metadata": {
        "id": "fQ5uYuz7l2aQ",
        "colab_type": "code",
        "outputId": "e8e9e8c0-9023-4dec-e51e-d950dc79f1a3",
        "colab": {
          "base_uri": "https://localhost:8080/",
          "height": 1000
        }
      },
      "source": [
        "for layer in resnet_50.layers:\n",
        "    print(layer.name)\n",
        "    layer.trainable = False"
      ],
      "execution_count": 0,
      "outputs": [
        {
          "output_type": "stream",
          "text": [
            "input_2\n",
            "conv1_pad\n",
            "conv1_conv\n",
            "conv1_bn\n",
            "conv1_relu\n",
            "pool1_pad\n",
            "pool1_pool\n",
            "conv2_block1_1_conv\n",
            "conv2_block1_1_bn\n",
            "conv2_block1_1_relu\n",
            "conv2_block1_2_conv\n",
            "conv2_block1_2_bn\n",
            "conv2_block1_2_relu\n",
            "conv2_block1_0_conv\n",
            "conv2_block1_3_conv\n",
            "conv2_block1_0_bn\n",
            "conv2_block1_3_bn\n",
            "conv2_block1_add\n",
            "conv2_block1_out\n",
            "conv2_block2_1_conv\n",
            "conv2_block2_1_bn\n",
            "conv2_block2_1_relu\n",
            "conv2_block2_2_conv\n",
            "conv2_block2_2_bn\n",
            "conv2_block2_2_relu\n",
            "conv2_block2_3_conv\n",
            "conv2_block2_3_bn\n",
            "conv2_block2_add\n",
            "conv2_block2_out\n",
            "conv2_block3_1_conv\n",
            "conv2_block3_1_bn\n",
            "conv2_block3_1_relu\n",
            "conv2_block3_2_conv\n",
            "conv2_block3_2_bn\n",
            "conv2_block3_2_relu\n",
            "conv2_block3_3_conv\n",
            "conv2_block3_3_bn\n",
            "conv2_block3_add\n",
            "conv2_block3_out\n",
            "conv3_block1_1_conv\n",
            "conv3_block1_1_bn\n",
            "conv3_block1_1_relu\n",
            "conv3_block1_2_conv\n",
            "conv3_block1_2_bn\n",
            "conv3_block1_2_relu\n",
            "conv3_block1_0_conv\n",
            "conv3_block1_3_conv\n",
            "conv3_block1_0_bn\n",
            "conv3_block1_3_bn\n",
            "conv3_block1_add\n",
            "conv3_block1_out\n",
            "conv3_block2_1_conv\n",
            "conv3_block2_1_bn\n",
            "conv3_block2_1_relu\n",
            "conv3_block2_2_conv\n",
            "conv3_block2_2_bn\n",
            "conv3_block2_2_relu\n",
            "conv3_block2_3_conv\n",
            "conv3_block2_3_bn\n",
            "conv3_block2_add\n",
            "conv3_block2_out\n",
            "conv3_block3_1_conv\n",
            "conv3_block3_1_bn\n",
            "conv3_block3_1_relu\n",
            "conv3_block3_2_conv\n",
            "conv3_block3_2_bn\n",
            "conv3_block3_2_relu\n",
            "conv3_block3_3_conv\n",
            "conv3_block3_3_bn\n",
            "conv3_block3_add\n",
            "conv3_block3_out\n",
            "conv3_block4_1_conv\n",
            "conv3_block4_1_bn\n",
            "conv3_block4_1_relu\n",
            "conv3_block4_2_conv\n",
            "conv3_block4_2_bn\n",
            "conv3_block4_2_relu\n",
            "conv3_block4_3_conv\n",
            "conv3_block4_3_bn\n",
            "conv3_block4_add\n",
            "conv3_block4_out\n",
            "conv4_block1_1_conv\n",
            "conv4_block1_1_bn\n",
            "conv4_block1_1_relu\n",
            "conv4_block1_2_conv\n",
            "conv4_block1_2_bn\n",
            "conv4_block1_2_relu\n",
            "conv4_block1_0_conv\n",
            "conv4_block1_3_conv\n",
            "conv4_block1_0_bn\n",
            "conv4_block1_3_bn\n",
            "conv4_block1_add\n",
            "conv4_block1_out\n",
            "conv4_block2_1_conv\n",
            "conv4_block2_1_bn\n",
            "conv4_block2_1_relu\n",
            "conv4_block2_2_conv\n",
            "conv4_block2_2_bn\n",
            "conv4_block2_2_relu\n",
            "conv4_block2_3_conv\n",
            "conv4_block2_3_bn\n",
            "conv4_block2_add\n",
            "conv4_block2_out\n",
            "conv4_block3_1_conv\n",
            "conv4_block3_1_bn\n",
            "conv4_block3_1_relu\n",
            "conv4_block3_2_conv\n",
            "conv4_block3_2_bn\n",
            "conv4_block3_2_relu\n",
            "conv4_block3_3_conv\n",
            "conv4_block3_3_bn\n",
            "conv4_block3_add\n",
            "conv4_block3_out\n",
            "conv4_block4_1_conv\n",
            "conv4_block4_1_bn\n",
            "conv4_block4_1_relu\n",
            "conv4_block4_2_conv\n",
            "conv4_block4_2_bn\n",
            "conv4_block4_2_relu\n",
            "conv4_block4_3_conv\n",
            "conv4_block4_3_bn\n",
            "conv4_block4_add\n",
            "conv4_block4_out\n",
            "conv4_block5_1_conv\n",
            "conv4_block5_1_bn\n",
            "conv4_block5_1_relu\n",
            "conv4_block5_2_conv\n",
            "conv4_block5_2_bn\n",
            "conv4_block5_2_relu\n",
            "conv4_block5_3_conv\n",
            "conv4_block5_3_bn\n",
            "conv4_block5_add\n",
            "conv4_block5_out\n",
            "conv4_block6_1_conv\n",
            "conv4_block6_1_bn\n",
            "conv4_block6_1_relu\n",
            "conv4_block6_2_conv\n",
            "conv4_block6_2_bn\n",
            "conv4_block6_2_relu\n",
            "conv4_block6_3_conv\n",
            "conv4_block6_3_bn\n",
            "conv4_block6_add\n",
            "conv4_block6_out\n",
            "conv5_block1_1_conv\n",
            "conv5_block1_1_bn\n",
            "conv5_block1_1_relu\n",
            "conv5_block1_2_conv\n",
            "conv5_block1_2_bn\n",
            "conv5_block1_2_relu\n",
            "conv5_block1_0_conv\n",
            "conv5_block1_3_conv\n",
            "conv5_block1_0_bn\n",
            "conv5_block1_3_bn\n",
            "conv5_block1_add\n",
            "conv5_block1_out\n",
            "conv5_block2_1_conv\n",
            "conv5_block2_1_bn\n",
            "conv5_block2_1_relu\n",
            "conv5_block2_2_conv\n",
            "conv5_block2_2_bn\n",
            "conv5_block2_2_relu\n",
            "conv5_block2_3_conv\n",
            "conv5_block2_3_bn\n",
            "conv5_block2_add\n",
            "conv5_block2_out\n",
            "conv5_block3_1_conv\n",
            "conv5_block3_1_bn\n",
            "conv5_block3_1_relu\n",
            "conv5_block3_2_conv\n",
            "conv5_block3_2_bn\n",
            "conv5_block3_2_relu\n",
            "conv5_block3_3_conv\n",
            "conv5_block3_3_bn\n",
            "conv5_block3_add\n",
            "conv5_block3_out\n"
          ],
          "name": "stdout"
        }
      ]
    },
    {
      "cell_type": "code",
      "metadata": {
        "id": "whAJkq6qDOfk",
        "colab_type": "code",
        "outputId": "2afcb8c1-a108-48d9-8651-7b29cfa458fa",
        "colab": {
          "base_uri": "https://localhost:8080/",
          "height": 34
        }
      },
      "source": [
        "# few_unfrozen_resnet_model.trainable = True\n",
        "# trainable_count = 0\n",
        "\n",
        "# set_trainable = False\n",
        "# for layer in few_unfrozen_resnet_model.layers:\n",
        "#     if layer.name == 'conv5_block1_1_conv':\n",
        "#         set_trainable = True\n",
        "#     if set_trainable:\n",
        "#         layer.trainable = True\n",
        "#         trainable_count += 1\n",
        "#     else:\n",
        "#         layer.trainable = False\n",
        "\n",
        "# print('percent unfrozen:', trainable_count/ len(resnet_50.layers) * 100 , '%')\n",
        "\n",
        "trainable_count = 0\n",
        "per_layers = 0.2\n",
        "num_model_layers = len(resnet_50.layers)\n",
        "starting_layer = int( num_model_layers * (1 - per_layers))\n",
        "true_per_trained = (num_model_layers - starting_layer) / num_model_layers\n",
        "\n",
        "\n",
        "print('true percentage of model trainable:', true_per_trained)\n",
        "\n",
        "set_trainable = False\n",
        "for idx, layer in enumerate(resnet_50.layers):\n",
        "    if idx == starting_layer:\n",
        "        set_trainable = True\n",
        "    if set_trainable:\n",
        "        layer.trainable = True\n",
        "        trainable_count += 1\n",
        "    else:\n",
        "        layer.trainable = False\n"
      ],
      "execution_count": 0,
      "outputs": [
        {
          "output_type": "stream",
          "text": [
            "true percentage of model trainable: 0.2\n"
          ],
          "name": "stdout"
        }
      ]
    },
    {
      "cell_type": "code",
      "metadata": {
        "id": "hHCq5zulG67p",
        "colab_type": "code",
        "outputId": "a1658a4f-5a34-429a-9dc7-429b332bc652",
        "colab": {
          "base_uri": "https://localhost:8080/",
          "height": 1000
        }
      },
      "source": [
        "for layer in few_unfrozen_resnet_model.layers:\n",
        "    print(layer.name,layer.trainable)"
      ],
      "execution_count": 0,
      "outputs": [
        {
          "output_type": "stream",
          "text": [
            "input_2 False\n",
            "conv1_pad False\n",
            "conv1_conv False\n",
            "conv1_bn False\n",
            "conv1_relu False\n",
            "pool1_pad False\n",
            "pool1_pool False\n",
            "conv2_block1_1_conv False\n",
            "conv2_block1_1_bn False\n",
            "conv2_block1_1_relu False\n",
            "conv2_block1_2_conv False\n",
            "conv2_block1_2_bn False\n",
            "conv2_block1_2_relu False\n",
            "conv2_block1_0_conv False\n",
            "conv2_block1_3_conv False\n",
            "conv2_block1_0_bn False\n",
            "conv2_block1_3_bn False\n",
            "conv2_block1_add False\n",
            "conv2_block1_out False\n",
            "conv2_block2_1_conv False\n",
            "conv2_block2_1_bn False\n",
            "conv2_block2_1_relu False\n",
            "conv2_block2_2_conv False\n",
            "conv2_block2_2_bn False\n",
            "conv2_block2_2_relu False\n",
            "conv2_block2_3_conv False\n",
            "conv2_block2_3_bn False\n",
            "conv2_block2_add False\n",
            "conv2_block2_out False\n",
            "conv2_block3_1_conv False\n",
            "conv2_block3_1_bn False\n",
            "conv2_block3_1_relu False\n",
            "conv2_block3_2_conv False\n",
            "conv2_block3_2_bn False\n",
            "conv2_block3_2_relu False\n",
            "conv2_block3_3_conv False\n",
            "conv2_block3_3_bn False\n",
            "conv2_block3_add False\n",
            "conv2_block3_out False\n",
            "conv3_block1_1_conv False\n",
            "conv3_block1_1_bn False\n",
            "conv3_block1_1_relu False\n",
            "conv3_block1_2_conv False\n",
            "conv3_block1_2_bn False\n",
            "conv3_block1_2_relu False\n",
            "conv3_block1_0_conv False\n",
            "conv3_block1_3_conv False\n",
            "conv3_block1_0_bn False\n",
            "conv3_block1_3_bn False\n",
            "conv3_block1_add False\n",
            "conv3_block1_out False\n",
            "conv3_block2_1_conv False\n",
            "conv3_block2_1_bn False\n",
            "conv3_block2_1_relu False\n",
            "conv3_block2_2_conv False\n",
            "conv3_block2_2_bn False\n",
            "conv3_block2_2_relu False\n",
            "conv3_block2_3_conv False\n",
            "conv3_block2_3_bn False\n",
            "conv3_block2_add False\n",
            "conv3_block2_out False\n",
            "conv3_block3_1_conv False\n",
            "conv3_block3_1_bn False\n",
            "conv3_block3_1_relu False\n",
            "conv3_block3_2_conv False\n",
            "conv3_block3_2_bn False\n",
            "conv3_block3_2_relu False\n",
            "conv3_block3_3_conv False\n",
            "conv3_block3_3_bn False\n",
            "conv3_block3_add False\n",
            "conv3_block3_out False\n",
            "conv3_block4_1_conv False\n",
            "conv3_block4_1_bn False\n",
            "conv3_block4_1_relu False\n",
            "conv3_block4_2_conv False\n",
            "conv3_block4_2_bn False\n",
            "conv3_block4_2_relu False\n",
            "conv3_block4_3_conv False\n",
            "conv3_block4_3_bn False\n",
            "conv3_block4_add False\n",
            "conv3_block4_out False\n",
            "conv4_block1_1_conv False\n",
            "conv4_block1_1_bn False\n",
            "conv4_block1_1_relu False\n",
            "conv4_block1_2_conv False\n",
            "conv4_block1_2_bn False\n",
            "conv4_block1_2_relu False\n",
            "conv4_block1_0_conv False\n",
            "conv4_block1_3_conv False\n",
            "conv4_block1_0_bn False\n",
            "conv4_block1_3_bn False\n",
            "conv4_block1_add False\n",
            "conv4_block1_out False\n",
            "conv4_block2_1_conv False\n",
            "conv4_block2_1_bn False\n",
            "conv4_block2_1_relu False\n",
            "conv4_block2_2_conv False\n",
            "conv4_block2_2_bn False\n",
            "conv4_block2_2_relu False\n",
            "conv4_block2_3_conv False\n",
            "conv4_block2_3_bn False\n",
            "conv4_block2_add False\n",
            "conv4_block2_out False\n",
            "conv4_block3_1_conv False\n",
            "conv4_block3_1_bn False\n",
            "conv4_block3_1_relu False\n",
            "conv4_block3_2_conv False\n",
            "conv4_block3_2_bn False\n",
            "conv4_block3_2_relu False\n",
            "conv4_block3_3_conv False\n",
            "conv4_block3_3_bn False\n",
            "conv4_block3_add False\n",
            "conv4_block3_out False\n",
            "conv4_block4_1_conv False\n",
            "conv4_block4_1_bn False\n",
            "conv4_block4_1_relu False\n",
            "conv4_block4_2_conv False\n",
            "conv4_block4_2_bn False\n",
            "conv4_block4_2_relu False\n",
            "conv4_block4_3_conv False\n",
            "conv4_block4_3_bn False\n",
            "conv4_block4_add False\n",
            "conv4_block4_out False\n",
            "conv4_block5_1_conv False\n",
            "conv4_block5_1_bn False\n",
            "conv4_block5_1_relu False\n",
            "conv4_block5_2_conv False\n",
            "conv4_block5_2_bn False\n",
            "conv4_block5_2_relu False\n",
            "conv4_block5_3_conv False\n",
            "conv4_block5_3_bn False\n",
            "conv4_block5_add False\n",
            "conv4_block5_out False\n",
            "conv4_block6_1_conv False\n",
            "conv4_block6_1_bn False\n",
            "conv4_block6_1_relu False\n",
            "conv4_block6_2_conv False\n",
            "conv4_block6_2_bn False\n",
            "conv4_block6_2_relu False\n",
            "conv4_block6_3_conv False\n",
            "conv4_block6_3_bn True\n",
            "conv4_block6_add True\n",
            "conv4_block6_out True\n",
            "conv5_block1_1_conv True\n",
            "conv5_block1_1_bn True\n",
            "conv5_block1_1_relu True\n",
            "conv5_block1_2_conv True\n",
            "conv5_block1_2_bn True\n",
            "conv5_block1_2_relu True\n",
            "conv5_block1_0_conv True\n",
            "conv5_block1_3_conv True\n",
            "conv5_block1_0_bn True\n",
            "conv5_block1_3_bn True\n",
            "conv5_block1_add True\n",
            "conv5_block1_out True\n",
            "conv5_block2_1_conv True\n",
            "conv5_block2_1_bn True\n",
            "conv5_block2_1_relu True\n",
            "conv5_block2_2_conv True\n",
            "conv5_block2_2_bn True\n",
            "conv5_block2_2_relu True\n",
            "conv5_block2_3_conv True\n",
            "conv5_block2_3_bn True\n",
            "conv5_block2_add True\n",
            "conv5_block2_out True\n",
            "conv5_block3_1_conv True\n",
            "conv5_block3_1_bn True\n",
            "conv5_block3_1_relu True\n",
            "conv5_block3_2_conv True\n",
            "conv5_block3_2_bn True\n",
            "conv5_block3_2_relu True\n",
            "conv5_block3_3_conv True\n",
            "conv5_block3_3_bn True\n",
            "conv5_block3_add True\n",
            "conv5_block3_out True\n",
            "global_average_pooling2d_1 True\n",
            "dense_4 True\n",
            "dropout_3 True\n",
            "dense_5 True\n",
            "dropout_4 True\n",
            "dense_6 True\n",
            "dropout_5 True\n",
            "dense_7 True\n"
          ],
          "name": "stdout"
        }
      ]
    },
    {
      "cell_type": "code",
      "metadata": {
        "id": "vfOrj3UHnqkg",
        "colab_type": "code",
        "colab": {}
      },
      "source": [
        "opt = tf.keras.optimizers.RMSprop(lr=1e-4)\n",
        "# compile the model (should be done *after* setting layers to non-trainable)\n",
        "few_unfrozen_resnet_model.compile(optimizer=opt, loss='categorical_crossentropy',metrics=['accuracy'])"
      ],
      "execution_count": 0,
      "outputs": []
    },
    {
      "cell_type": "markdown",
      "metadata": {
        "id": "ZmgEucTcyPqk",
        "colab_type": "text"
      },
      "source": [
        "#### fitting the model"
      ]
    },
    {
      "cell_type": "code",
      "metadata": {
        "id": "DZuKehrVG9L3",
        "colab_type": "code",
        "outputId": "100fbbcf-7457-40f3-91b2-7c57eb3d7e78",
        "colab": {
          "base_uri": "https://localhost:8080/",
          "height": 1000
        }
      },
      "source": [
        "train_steps = int(len(df_train)/batch_size) #total trains set / batch_size\n",
        "val_steps = int(len(df_val)/batch_size)\n",
        "\n",
        "print('train steps:',train_steps)\n",
        "print('val steps:',val_steps)\n",
        "\n",
        "epochs = 50\n",
        "\n",
        "\n",
        "model_filepath = 'CMS/few_unfrozen_resnet50_RMSprop.h5'\n",
        "mcp = ModelCheckpoint(model_filepath, monitor='accuracy', save_best_only=True, mode='max')\n",
        "\n",
        "# Train the model with validation \n",
        "few_unfrozen_resnet50_history = few_unfrozen_resnet_model.fit( train_dataset, steps_per_epoch = train_steps,\n",
        "                   epochs = epochs,\n",
        "                   validation_data = valid_dataset,\n",
        "                   validation_steps = val_steps,\n",
        "                   callbacks=[mcp])"
      ],
      "execution_count": 0,
      "outputs": [
        {
          "output_type": "stream",
          "text": [
            "train steps: 24\n",
            "val steps: 3\n",
            "Train for 24 steps, validate for 3 steps\n",
            "Epoch 1/50\n",
            "24/24 [==============================] - 23s 951ms/step - loss: 0.8789 - accuracy: 0.5788 - val_loss: 0.9945 - val_accuracy: 0.5472\n",
            "Epoch 2/50\n",
            "24/24 [==============================] - 14s 563ms/step - loss: 0.5842 - accuracy: 0.7399 - val_loss: 0.9217 - val_accuracy: 0.5194\n",
            "Epoch 3/50\n",
            "24/24 [==============================] - 13s 561ms/step - loss: 0.4870 - accuracy: 0.7830 - val_loss: 0.9479 - val_accuracy: 0.5083\n",
            "Epoch 4/50\n",
            "24/24 [==============================] - 14s 583ms/step - loss: 0.3907 - accuracy: 0.8163 - val_loss: 1.0082 - val_accuracy: 0.4361\n",
            "Epoch 5/50\n",
            "24/24 [==============================] - 13s 560ms/step - loss: 0.2812 - accuracy: 0.8757 - val_loss: 0.9372 - val_accuracy: 0.5611\n",
            "Epoch 6/50\n",
            "24/24 [==============================] - 14s 569ms/step - loss: 0.1955 - accuracy: 0.9198 - val_loss: 0.8868 - val_accuracy: 0.5444\n",
            "Epoch 7/50\n",
            "24/24 [==============================] - 14s 567ms/step - loss: 0.1343 - accuracy: 0.9472 - val_loss: 1.0671 - val_accuracy: 0.4056\n",
            "Epoch 8/50\n",
            "24/24 [==============================] - 13s 561ms/step - loss: 0.1138 - accuracy: 0.9587 - val_loss: 1.0156 - val_accuracy: 0.5028\n",
            "Epoch 9/50\n",
            "24/24 [==============================] - 15s 616ms/step - loss: 0.0903 - accuracy: 0.9701 - val_loss: 1.3825 - val_accuracy: 0.3639\n",
            "Epoch 10/50\n",
            "24/24 [==============================] - 14s 567ms/step - loss: 0.0502 - accuracy: 0.9830 - val_loss: 1.0245 - val_accuracy: 0.4472\n",
            "Epoch 11/50\n",
            "24/24 [==============================] - 13s 521ms/step - loss: 0.0599 - accuracy: 0.9799 - val_loss: 0.7789 - val_accuracy: 0.6528\n",
            "Epoch 12/50\n",
            "24/24 [==============================] - 12s 520ms/step - loss: 0.0775 - accuracy: 0.9729 - val_loss: 0.8346 - val_accuracy: 0.5889\n",
            "Epoch 13/50\n",
            "24/24 [==============================] - 15s 637ms/step - loss: 0.0594 - accuracy: 0.9868 - val_loss: 1.4119 - val_accuracy: 0.4250\n",
            "Epoch 14/50\n",
            "24/24 [==============================] - 13s 525ms/step - loss: 0.0494 - accuracy: 0.9861 - val_loss: 1.0342 - val_accuracy: 0.4194\n",
            "Epoch 15/50\n",
            "24/24 [==============================] - 17s 694ms/step - loss: 0.0415 - accuracy: 0.9885 - val_loss: 1.2956 - val_accuracy: 0.3944\n",
            "Epoch 16/50\n",
            "24/24 [==============================] - 14s 564ms/step - loss: 0.0360 - accuracy: 0.9903 - val_loss: 1.1313 - val_accuracy: 0.4778\n",
            "Epoch 17/50\n",
            "24/24 [==============================] - 13s 526ms/step - loss: 0.0667 - accuracy: 0.9816 - val_loss: 0.9056 - val_accuracy: 0.5778\n",
            "Epoch 18/50\n",
            "24/24 [==============================] - 16s 650ms/step - loss: 0.0247 - accuracy: 0.9934 - val_loss: 0.8016 - val_accuracy: 0.6250\n",
            "Epoch 19/50\n",
            "24/24 [==============================] - 13s 526ms/step - loss: 0.0289 - accuracy: 0.9934 - val_loss: 1.1478 - val_accuracy: 0.5194\n",
            "Epoch 20/50\n",
            "24/24 [==============================] - 16s 674ms/step - loss: 0.0204 - accuracy: 0.9937 - val_loss: 0.9854 - val_accuracy: 0.6056\n",
            "Epoch 21/50\n",
            "24/24 [==============================] - 13s 521ms/step - loss: 0.0573 - accuracy: 0.9878 - val_loss: 3.7999 - val_accuracy: 0.3972\n",
            "Epoch 22/50\n",
            "24/24 [==============================] - 17s 688ms/step - loss: 0.0134 - accuracy: 0.9972 - val_loss: 1.5628 - val_accuracy: 0.4361\n",
            "Epoch 23/50\n",
            "24/24 [==============================] - 13s 524ms/step - loss: 0.0583 - accuracy: 0.9861 - val_loss: 1.7726 - val_accuracy: 0.5389\n",
            "Epoch 24/50\n",
            "24/24 [==============================] - 13s 521ms/step - loss: 0.0315 - accuracy: 0.9913 - val_loss: 2.1745 - val_accuracy: 0.4917\n",
            "Epoch 25/50\n",
            "24/24 [==============================] - 12s 518ms/step - loss: 0.0294 - accuracy: 0.9917 - val_loss: 1.9219 - val_accuracy: 0.4833\n",
            "Epoch 26/50\n",
            "24/24 [==============================] - 13s 534ms/step - loss: 0.0300 - accuracy: 0.9920 - val_loss: 2.8547 - val_accuracy: 0.4000\n",
            "Epoch 27/50\n",
            "24/24 [==============================] - 12s 515ms/step - loss: 0.0469 - accuracy: 0.9892 - val_loss: 2.1131 - val_accuracy: 0.4778\n",
            "Epoch 28/50\n",
            "24/24 [==============================] - 13s 526ms/step - loss: 0.0230 - accuracy: 0.9910 - val_loss: 1.2000 - val_accuracy: 0.5611\n",
            "Epoch 29/50\n",
            "24/24 [==============================] - 12s 520ms/step - loss: 0.0283 - accuracy: 0.9924 - val_loss: 3.2115 - val_accuracy: 0.4222\n",
            "Epoch 30/50\n",
            "24/24 [==============================] - 12s 519ms/step - loss: 0.0472 - accuracy: 0.9885 - val_loss: 1.6326 - val_accuracy: 0.5778\n",
            "Epoch 31/50\n",
            "24/24 [==============================] - 13s 521ms/step - loss: 0.0237 - accuracy: 0.9941 - val_loss: 4.3417 - val_accuracy: 0.3417\n",
            "Epoch 32/50\n",
            "24/24 [==============================] - 13s 523ms/step - loss: 0.0299 - accuracy: 0.9906 - val_loss: 2.8171 - val_accuracy: 0.3639\n",
            "Epoch 33/50\n",
            "24/24 [==============================] - 13s 522ms/step - loss: 0.0258 - accuracy: 0.9934 - val_loss: 5.2025 - val_accuracy: 0.3417\n",
            "Epoch 34/50\n",
            "24/24 [==============================] - 12s 520ms/step - loss: 0.0362 - accuracy: 0.9910 - val_loss: 5.8576 - val_accuracy: 0.3444\n",
            "Epoch 35/50\n",
            "24/24 [==============================] - 13s 521ms/step - loss: 0.0114 - accuracy: 0.9965 - val_loss: 1.9740 - val_accuracy: 0.4278\n",
            "Epoch 36/50\n",
            "24/24 [==============================] - 12s 517ms/step - loss: 0.0173 - accuracy: 0.9969 - val_loss: 4.3761 - val_accuracy: 0.3722\n",
            "Epoch 37/50\n",
            "24/24 [==============================] - 12s 520ms/step - loss: 0.0442 - accuracy: 0.9899 - val_loss: 3.0452 - val_accuracy: 0.4139\n",
            "Epoch 38/50\n",
            "24/24 [==============================] - 12s 514ms/step - loss: 0.0142 - accuracy: 0.9965 - val_loss: 5.8631 - val_accuracy: 0.3417\n",
            "Epoch 39/50\n",
            "24/24 [==============================] - 12s 517ms/step - loss: 0.0235 - accuracy: 0.9951 - val_loss: 7.2197 - val_accuracy: 0.4111\n",
            "Epoch 40/50\n",
            "24/24 [==============================] - 13s 521ms/step - loss: 0.0340 - accuracy: 0.9920 - val_loss: 2.9002 - val_accuracy: 0.5972\n",
            "Epoch 41/50\n",
            "24/24 [==============================] - 13s 525ms/step - loss: 0.0154 - accuracy: 0.9948 - val_loss: 2.2074 - val_accuracy: 0.6056\n",
            "Epoch 42/50\n",
            "24/24 [==============================] - 16s 651ms/step - loss: 0.0116 - accuracy: 0.9986 - val_loss: 9.6346 - val_accuracy: 0.3417\n",
            "Epoch 43/50\n",
            "24/24 [==============================] - 13s 523ms/step - loss: 0.0395 - accuracy: 0.9906 - val_loss: 7.5028 - val_accuracy: 0.4167\n",
            "Epoch 44/50\n",
            "24/24 [==============================] - 13s 532ms/step - loss: 0.0331 - accuracy: 0.9913 - val_loss: 4.6297 - val_accuracy: 0.4306\n",
            "Epoch 45/50\n",
            "24/24 [==============================] - 12s 519ms/step - loss: 0.0126 - accuracy: 0.9951 - val_loss: 8.3290 - val_accuracy: 0.4361\n",
            "Epoch 46/50\n",
            "24/24 [==============================] - 12s 519ms/step - loss: 0.0293 - accuracy: 0.9931 - val_loss: 9.6752 - val_accuracy: 0.3472\n",
            "Epoch 47/50\n",
            "24/24 [==============================] - 13s 521ms/step - loss: 0.0434 - accuracy: 0.9934 - val_loss: 14.6621 - val_accuracy: 0.3389\n",
            "Epoch 48/50\n",
            "24/24 [==============================] - 12s 519ms/step - loss: 0.0038 - accuracy: 0.9986 - val_loss: 10.1797 - val_accuracy: 0.3389\n",
            "Epoch 49/50\n",
            "24/24 [==============================] - 12s 518ms/step - loss: 0.0172 - accuracy: 0.9972 - val_loss: 4.0011 - val_accuracy: 0.4167\n",
            "Epoch 50/50\n",
            "24/24 [==============================] - 13s 522ms/step - loss: 0.0357 - accuracy: 0.9920 - val_loss: 4.2103 - val_accuracy: 0.3583\n"
          ],
          "name": "stdout"
        }
      ]
    },
    {
      "cell_type": "markdown",
      "metadata": {
        "id": "7OV3ADJdqwgc",
        "colab_type": "text"
      },
      "source": [
        "#### testing the model"
      ]
    },
    {
      "cell_type": "code",
      "metadata": {
        "id": "AJhNK0O3qyni",
        "colab_type": "code",
        "outputId": "41281bf8-9834-4846-a09a-5a956083f665",
        "colab": {
          "base_uri": "https://localhost:8080/",
          "height": 50
        }
      },
      "source": [
        "test_steps = int(len(df_test)/batch_size)\n",
        "\n",
        "metrics = few_unfrozen_resnet_model.evaluate(test_dataset,\n",
        "                   steps = test_steps)\n",
        "print(\"model accuracy:\",metrics[1])"
      ],
      "execution_count": 0,
      "outputs": [
        {
          "output_type": "stream",
          "text": [
            "3/3 [==============================] - 1s 385ms/step - loss: 4.0207 - accuracy: 0.3194\n",
            "model accuracy: 0.31944445\n"
          ],
          "name": "stdout"
        }
      ]
    },
    {
      "cell_type": "markdown",
      "metadata": {
        "colab_type": "text",
        "id": "XSf8CvddsE-S"
      },
      "source": [
        "#### plotting training"
      ]
    },
    {
      "cell_type": "code",
      "metadata": {
        "id": "Wvm3gb95D6Ip",
        "colab_type": "code",
        "outputId": "28d28319-cf79-4728-8035-ce08c8d1aba8",
        "colab": {
          "base_uri": "https://localhost:8080/",
          "height": 34
        }
      },
      "source": [
        "pwd"
      ],
      "execution_count": 0,
      "outputs": [
        {
          "output_type": "execute_result",
          "data": {
            "text/plain": [
              "'/content/drive/My Drive'"
            ]
          },
          "metadata": {
            "tags": []
          },
          "execution_count": 40
        }
      ]
    },
    {
      "cell_type": "code",
      "metadata": {
        "colab_type": "code",
        "outputId": "e849cad6-4320-4ed3-98da-218e6f25434e",
        "id": "0dq5Wl9csE-f",
        "colab": {
          "base_uri": "https://localhost:8080/",
          "height": 573
        }
      },
      "source": [
        "plot_hist(few_unfrozen_resnet50_history, 'few_unfrozen_resnet50_RMSprop')"
      ],
      "execution_count": 0,
      "outputs": [
        {
          "output_type": "display_data",
          "data": {
            "image/png": "[encoded data removed]",
            "text/plain": [
              "<Figure size 432x288 with 1 Axes>"
            ]
          },
          "metadata": {
            "tags": []
          }
        },
        {
          "output_type": "display_data",
          "data": {
            "image/png": "[encoded data removed]",
            "text/plain": [
              "<Figure size 432x288 with 1 Axes>"
            ]
          },
          "metadata": {
            "tags": []
          }
        }
      ]
    },
    {
      "cell_type": "markdown",
      "metadata": {
        "id": "LARhhZGYyTV9",
        "colab_type": "text"
      },
      "source": [
        "#### saving the history of the fitting"
      ]
    },
    {
      "cell_type": "code",
      "metadata": {
        "id": "whH3xT9KT1Ck",
        "colab_type": "code",
        "outputId": "7cbf5a02-1ed1-43fb-d082-20655d445a50",
        "colab": {
          "base_uri": "https://localhost:8080/",
          "height": 34
        }
      },
      "source": [
        "with open(cwd + '/trainHistoryDict/few_unfrozen_resnet50_history_RMSprop.p', 'wb') as file_pi:\n",
        "        pickle.dump(few_unfrozen_resnet50_history.history, file_pi)\n",
        "print('history saved')"
      ],
      "execution_count": 0,
      "outputs": [
        {
          "output_type": "stream",
          "text": [
            "history saved\n"
          ],
          "name": "stdout"
        }
      ]
    },
    {
      "cell_type": "markdown",
      "metadata": {
        "colab_type": "text",
        "id": "22GUAtjSraz8"
      },
      "source": [
        "## Many layers unfrozen"
      ]
    },
    {
      "cell_type": "markdown",
      "metadata": {
        "colab_type": "text",
        "id": "QAKiIPjpra0F"
      },
      "source": [
        "#### loading model"
      ]
    },
    {
      "cell_type": "code",
      "metadata": {
        "colab_type": "code",
        "id": "QCFFXBFXra0I",
        "colab": {}
      },
      "source": [
        "resnet_50 = tf.keras.applications.ResNet50(\n",
        "    include_top=False,\n",
        "    weights='imagenet',\n",
        "    input_shape=(200,200,3),\n",
        "    pooling=None\n",
        ")"
      ],
      "execution_count": 0,
      "outputs": []
    },
    {
      "cell_type": "markdown",
      "metadata": {
        "colab_type": "text",
        "id": "l8XDJ-sVra0T"
      },
      "source": [
        "#### modifying slightly"
      ]
    },
    {
      "cell_type": "code",
      "metadata": {
        "colab_type": "code",
        "id": "5a8zr3Xqra0W",
        "colab": {}
      },
      "source": [
        "x = resnet_50.output\n",
        "\n",
        "x = GlobalAveragePooling2D()(x)\n",
        "\n",
        "# let's add a fully-connected layer\n",
        "x = Dense(512, activation='relu')(x)\n",
        "\n",
        "x = Dropout(0.5)(x)\n",
        "\n",
        "#x = GlobalAveragePooling2D()(x)\n",
        "\n",
        "# let's add a fully-connected layer\n",
        "x = Dense(512, activation='relu')(x)\n",
        "\n",
        "x = Dropout(0.5)(x)\n",
        "\n",
        "# let's add a fully-connected layer\n",
        "x = Dense(512, activation='relu')(x)\n",
        "\n",
        "x = Dropout(0.5)(x)\n",
        "\n",
        "# and a logits layer -- let's say we have 3 classes\n",
        "predictions = Dense(3, activation='softmax')(x)"
      ],
      "execution_count": 0,
      "outputs": []
    },
    {
      "cell_type": "markdown",
      "metadata": {
        "colab_type": "text",
        "id": "wqxyAmXcra0k"
      },
      "source": [
        "#### creating model object"
      ]
    },
    {
      "cell_type": "code",
      "metadata": {
        "colab_type": "code",
        "id": "V28yL8gpra0n",
        "colab": {}
      },
      "source": [
        "# this is the model we will train\n",
        "many_unfrozen_resnet_model = Model(inputs=resnet_50.input, outputs=predictions)"
      ],
      "execution_count": 0,
      "outputs": []
    },
    {
      "cell_type": "code",
      "metadata": {
        "colab_type": "code",
        "outputId": "1ed4f7da-2ea2-46de-9ce9-b4ee978bc1c0",
        "id": "unASmwXNra0r",
        "colab": {
          "base_uri": "https://localhost:8080/",
          "height": 1000
        }
      },
      "source": [
        "for layer in resnet_50.layers:\n",
        "    print(layer.name)\n",
        "    layer.trainable = False"
      ],
      "execution_count": 0,
      "outputs": [
        {
          "output_type": "stream",
          "text": [
            "input_3\n",
            "conv1_pad\n",
            "conv1_conv\n",
            "conv1_bn\n",
            "conv1_relu\n",
            "pool1_pad\n",
            "pool1_pool\n",
            "conv2_block1_1_conv\n",
            "conv2_block1_1_bn\n",
            "conv2_block1_1_relu\n",
            "conv2_block1_2_conv\n",
            "conv2_block1_2_bn\n",
            "conv2_block1_2_relu\n",
            "conv2_block1_0_conv\n",
            "conv2_block1_3_conv\n",
            "conv2_block1_0_bn\n",
            "conv2_block1_3_bn\n",
            "conv2_block1_add\n",
            "conv2_block1_out\n",
            "conv2_block2_1_conv\n",
            "conv2_block2_1_bn\n",
            "conv2_block2_1_relu\n",
            "conv2_block2_2_conv\n",
            "conv2_block2_2_bn\n",
            "conv2_block2_2_relu\n",
            "conv2_block2_3_conv\n",
            "conv2_block2_3_bn\n",
            "conv2_block2_add\n",
            "conv2_block2_out\n",
            "conv2_block3_1_conv\n",
            "conv2_block3_1_bn\n",
            "conv2_block3_1_relu\n",
            "conv2_block3_2_conv\n",
            "conv2_block3_2_bn\n",
            "conv2_block3_2_relu\n",
            "conv2_block3_3_conv\n",
            "conv2_block3_3_bn\n",
            "conv2_block3_add\n",
            "conv2_block3_out\n",
            "conv3_block1_1_conv\n",
            "conv3_block1_1_bn\n",
            "conv3_block1_1_relu\n",
            "conv3_block1_2_conv\n",
            "conv3_block1_2_bn\n",
            "conv3_block1_2_relu\n",
            "conv3_block1_0_conv\n",
            "conv3_block1_3_conv\n",
            "conv3_block1_0_bn\n",
            "conv3_block1_3_bn\n",
            "conv3_block1_add\n",
            "conv3_block1_out\n",
            "conv3_block2_1_conv\n",
            "conv3_block2_1_bn\n",
            "conv3_block2_1_relu\n",
            "conv3_block2_2_conv\n",
            "conv3_block2_2_bn\n",
            "conv3_block2_2_relu\n",
            "conv3_block2_3_conv\n",
            "conv3_block2_3_bn\n",
            "conv3_block2_add\n",
            "conv3_block2_out\n",
            "conv3_block3_1_conv\n",
            "conv3_block3_1_bn\n",
            "conv3_block3_1_relu\n",
            "conv3_block3_2_conv\n",
            "conv3_block3_2_bn\n",
            "conv3_block3_2_relu\n",
            "conv3_block3_3_conv\n",
            "conv3_block3_3_bn\n",
            "conv3_block3_add\n",
            "conv3_block3_out\n",
            "conv3_block4_1_conv\n",
            "conv3_block4_1_bn\n",
            "conv3_block4_1_relu\n",
            "conv3_block4_2_conv\n",
            "conv3_block4_2_bn\n",
            "conv3_block4_2_relu\n",
            "conv3_block4_3_conv\n",
            "conv3_block4_3_bn\n",
            "conv3_block4_add\n",
            "conv3_block4_out\n",
            "conv4_block1_1_conv\n",
            "conv4_block1_1_bn\n",
            "conv4_block1_1_relu\n",
            "conv4_block1_2_conv\n",
            "conv4_block1_2_bn\n",
            "conv4_block1_2_relu\n",
            "conv4_block1_0_conv\n",
            "conv4_block1_3_conv\n",
            "conv4_block1_0_bn\n",
            "conv4_block1_3_bn\n",
            "conv4_block1_add\n",
            "conv4_block1_out\n",
            "conv4_block2_1_conv\n",
            "conv4_block2_1_bn\n",
            "conv4_block2_1_relu\n",
            "conv4_block2_2_conv\n",
            "conv4_block2_2_bn\n",
            "conv4_block2_2_relu\n",
            "conv4_block2_3_conv\n",
            "conv4_block2_3_bn\n",
            "conv4_block2_add\n",
            "conv4_block2_out\n",
            "conv4_block3_1_conv\n",
            "conv4_block3_1_bn\n",
            "conv4_block3_1_relu\n",
            "conv4_block3_2_conv\n",
            "conv4_block3_2_bn\n",
            "conv4_block3_2_relu\n",
            "conv4_block3_3_conv\n",
            "conv4_block3_3_bn\n",
            "conv4_block3_add\n",
            "conv4_block3_out\n",
            "conv4_block4_1_conv\n",
            "conv4_block4_1_bn\n",
            "conv4_block4_1_relu\n",
            "conv4_block4_2_conv\n",
            "conv4_block4_2_bn\n",
            "conv4_block4_2_relu\n",
            "conv4_block4_3_conv\n",
            "conv4_block4_3_bn\n",
            "conv4_block4_add\n",
            "conv4_block4_out\n",
            "conv4_block5_1_conv\n",
            "conv4_block5_1_bn\n",
            "conv4_block5_1_relu\n",
            "conv4_block5_2_conv\n",
            "conv4_block5_2_bn\n",
            "conv4_block5_2_relu\n",
            "conv4_block5_3_conv\n",
            "conv4_block5_3_bn\n",
            "conv4_block5_add\n",
            "conv4_block5_out\n",
            "conv4_block6_1_conv\n",
            "conv4_block6_1_bn\n",
            "conv4_block6_1_relu\n",
            "conv4_block6_2_conv\n",
            "conv4_block6_2_bn\n",
            "conv4_block6_2_relu\n",
            "conv4_block6_3_conv\n",
            "conv4_block6_3_bn\n",
            "conv4_block6_add\n",
            "conv4_block6_out\n",
            "conv5_block1_1_conv\n",
            "conv5_block1_1_bn\n",
            "conv5_block1_1_relu\n",
            "conv5_block1_2_conv\n",
            "conv5_block1_2_bn\n",
            "conv5_block1_2_relu\n",
            "conv5_block1_0_conv\n",
            "conv5_block1_3_conv\n",
            "conv5_block1_0_bn\n",
            "conv5_block1_3_bn\n",
            "conv5_block1_add\n",
            "conv5_block1_out\n",
            "conv5_block2_1_conv\n",
            "conv5_block2_1_bn\n",
            "conv5_block2_1_relu\n",
            "conv5_block2_2_conv\n",
            "conv5_block2_2_bn\n",
            "conv5_block2_2_relu\n",
            "conv5_block2_3_conv\n",
            "conv5_block2_3_bn\n",
            "conv5_block2_add\n",
            "conv5_block2_out\n",
            "conv5_block3_1_conv\n",
            "conv5_block3_1_bn\n",
            "conv5_block3_1_relu\n",
            "conv5_block3_2_conv\n",
            "conv5_block3_2_bn\n",
            "conv5_block3_2_relu\n",
            "conv5_block3_3_conv\n",
            "conv5_block3_3_bn\n",
            "conv5_block3_add\n",
            "conv5_block3_out\n"
          ],
          "name": "stdout"
        }
      ]
    },
    {
      "cell_type": "code",
      "metadata": {
        "colab_type": "code",
        "id": "LEWRmERora0w",
        "outputId": "bb3796cd-1713-406b-f700-7378b6457ac8",
        "colab": {
          "base_uri": "https://localhost:8080/",
          "height": 34
        }
      },
      "source": [
        "# many_unfrozen_resnet_model.trainable = True\n",
        "# trainable_count = 0\n",
        "\n",
        "# set_trainable = False\n",
        "\n",
        "\n",
        "# for layer in many_unfrozen_resnet_model.layers:\n",
        "#     if layer.name == 'conv3_block2_1_conv':\n",
        "#         set_trainable = True\n",
        "#     if set_trainable:\n",
        "#         layer.trainable = True\n",
        "#         trainable_count += 1\n",
        "#     else:\n",
        "#         layer.trainable = False\n",
        "\n",
        "# print('percent unfrozen:', trainable_count/ len(resnet_50.layers) * 100 , '%')\n",
        "\n",
        "trainable_count = 0\n",
        "per_layers = 0.7\n",
        "num_model_layers = len(resnet_50.layers)\n",
        "starting_layer = int( num_model_layers * (1 - per_layers))\n",
        "true_per_trained = (num_model_layers - starting_layer) / num_model_layers\n",
        "\n",
        "\n",
        "print('true percentage of model trainable:', true_per_trained)\n",
        "\n",
        "set_trainable = False\n",
        "for idx, layer in enumerate(resnet_50.layers):\n",
        "    if idx == starting_layer:\n",
        "        set_trainable = True\n",
        "    if set_trainable:\n",
        "        layer.trainable = True\n",
        "        trainable_count += 1\n",
        "    else:\n",
        "        layer.trainable = False"
      ],
      "execution_count": 0,
      "outputs": [
        {
          "output_type": "stream",
          "text": [
            "true percentage of model trainable: 0.7028571428571428\n"
          ],
          "name": "stdout"
        }
      ]
    },
    {
      "cell_type": "code",
      "metadata": {
        "colab_type": "code",
        "outputId": "c71c5029-3305-4232-ba9a-1605c47c8236",
        "id": "zOYnK1S2ra0y",
        "colab": {
          "base_uri": "https://localhost:8080/",
          "height": 1000
        }
      },
      "source": [
        "for layer in many_unfrozen_resnet_model.layers:\n",
        "    print(layer.name,layer.trainable)"
      ],
      "execution_count": 0,
      "outputs": [
        {
          "output_type": "stream",
          "text": [
            "input_3 False\n",
            "conv1_pad False\n",
            "conv1_conv False\n",
            "conv1_bn False\n",
            "conv1_relu False\n",
            "pool1_pad False\n",
            "pool1_pool False\n",
            "conv2_block1_1_conv False\n",
            "conv2_block1_1_bn False\n",
            "conv2_block1_1_relu False\n",
            "conv2_block1_2_conv False\n",
            "conv2_block1_2_bn False\n",
            "conv2_block1_2_relu False\n",
            "conv2_block1_0_conv False\n",
            "conv2_block1_3_conv False\n",
            "conv2_block1_0_bn False\n",
            "conv2_block1_3_bn False\n",
            "conv2_block1_add False\n",
            "conv2_block1_out False\n",
            "conv2_block2_1_conv False\n",
            "conv2_block2_1_bn False\n",
            "conv2_block2_1_relu False\n",
            "conv2_block2_2_conv False\n",
            "conv2_block2_2_bn False\n",
            "conv2_block2_2_relu False\n",
            "conv2_block2_3_conv False\n",
            "conv2_block2_3_bn False\n",
            "conv2_block2_add False\n",
            "conv2_block2_out False\n",
            "conv2_block3_1_conv False\n",
            "conv2_block3_1_bn False\n",
            "conv2_block3_1_relu False\n",
            "conv2_block3_2_conv False\n",
            "conv2_block3_2_bn False\n",
            "conv2_block3_2_relu False\n",
            "conv2_block3_3_conv False\n",
            "conv2_block3_3_bn False\n",
            "conv2_block3_add False\n",
            "conv2_block3_out False\n",
            "conv3_block1_1_conv False\n",
            "conv3_block1_1_bn False\n",
            "conv3_block1_1_relu False\n",
            "conv3_block1_2_conv False\n",
            "conv3_block1_2_bn False\n",
            "conv3_block1_2_relu False\n",
            "conv3_block1_0_conv False\n",
            "conv3_block1_3_conv False\n",
            "conv3_block1_0_bn False\n",
            "conv3_block1_3_bn False\n",
            "conv3_block1_add False\n",
            "conv3_block1_out False\n",
            "conv3_block2_1_conv False\n",
            "conv3_block2_1_bn True\n",
            "conv3_block2_1_relu True\n",
            "conv3_block2_2_conv True\n",
            "conv3_block2_2_bn True\n",
            "conv3_block2_2_relu True\n",
            "conv3_block2_3_conv True\n",
            "conv3_block2_3_bn True\n",
            "conv3_block2_add True\n",
            "conv3_block2_out True\n",
            "conv3_block3_1_conv True\n",
            "conv3_block3_1_bn True\n",
            "conv3_block3_1_relu True\n",
            "conv3_block3_2_conv True\n",
            "conv3_block3_2_bn True\n",
            "conv3_block3_2_relu True\n",
            "conv3_block3_3_conv True\n",
            "conv3_block3_3_bn True\n",
            "conv3_block3_add True\n",
            "conv3_block3_out True\n",
            "conv3_block4_1_conv True\n",
            "conv3_block4_1_bn True\n",
            "conv3_block4_1_relu True\n",
            "conv3_block4_2_conv True\n",
            "conv3_block4_2_bn True\n",
            "conv3_block4_2_relu True\n",
            "conv3_block4_3_conv True\n",
            "conv3_block4_3_bn True\n",
            "conv3_block4_add True\n",
            "conv3_block4_out True\n",
            "conv4_block1_1_conv True\n",
            "conv4_block1_1_bn True\n",
            "conv4_block1_1_relu True\n",
            "conv4_block1_2_conv True\n",
            "conv4_block1_2_bn True\n",
            "conv4_block1_2_relu True\n",
            "conv4_block1_0_conv True\n",
            "conv4_block1_3_conv True\n",
            "conv4_block1_0_bn True\n",
            "conv4_block1_3_bn True\n",
            "conv4_block1_add True\n",
            "conv4_block1_out True\n",
            "conv4_block2_1_conv True\n",
            "conv4_block2_1_bn True\n",
            "conv4_block2_1_relu True\n",
            "conv4_block2_2_conv True\n",
            "conv4_block2_2_bn True\n",
            "conv4_block2_2_relu True\n",
            "conv4_block2_3_conv True\n",
            "conv4_block2_3_bn True\n",
            "conv4_block2_add True\n",
            "conv4_block2_out True\n",
            "conv4_block3_1_conv True\n",
            "conv4_block3_1_bn True\n",
            "conv4_block3_1_relu True\n",
            "conv4_block3_2_conv True\n",
            "conv4_block3_2_bn True\n",
            "conv4_block3_2_relu True\n",
            "conv4_block3_3_conv True\n",
            "conv4_block3_3_bn True\n",
            "conv4_block3_add True\n",
            "conv4_block3_out True\n",
            "conv4_block4_1_conv True\n",
            "conv4_block4_1_bn True\n",
            "conv4_block4_1_relu True\n",
            "conv4_block4_2_conv True\n",
            "conv4_block4_2_bn True\n",
            "conv4_block4_2_relu True\n",
            "conv4_block4_3_conv True\n",
            "conv4_block4_3_bn True\n",
            "conv4_block4_add True\n",
            "conv4_block4_out True\n",
            "conv4_block5_1_conv True\n",
            "conv4_block5_1_bn True\n",
            "conv4_block5_1_relu True\n",
            "conv4_block5_2_conv True\n",
            "conv4_block5_2_bn True\n",
            "conv4_block5_2_relu True\n",
            "conv4_block5_3_conv True\n",
            "conv4_block5_3_bn True\n",
            "conv4_block5_add True\n",
            "conv4_block5_out True\n",
            "conv4_block6_1_conv True\n",
            "conv4_block6_1_bn True\n",
            "conv4_block6_1_relu True\n",
            "conv4_block6_2_conv True\n",
            "conv4_block6_2_bn True\n",
            "conv4_block6_2_relu True\n",
            "conv4_block6_3_conv True\n",
            "conv4_block6_3_bn True\n",
            "conv4_block6_add True\n",
            "conv4_block6_out True\n",
            "conv5_block1_1_conv True\n",
            "conv5_block1_1_bn True\n",
            "conv5_block1_1_relu True\n",
            "conv5_block1_2_conv True\n",
            "conv5_block1_2_bn True\n",
            "conv5_block1_2_relu True\n",
            "conv5_block1_0_conv True\n",
            "conv5_block1_3_conv True\n",
            "conv5_block1_0_bn True\n",
            "conv5_block1_3_bn True\n",
            "conv5_block1_add True\n",
            "conv5_block1_out True\n",
            "conv5_block2_1_conv True\n",
            "conv5_block2_1_bn True\n",
            "conv5_block2_1_relu True\n",
            "conv5_block2_2_conv True\n",
            "conv5_block2_2_bn True\n",
            "conv5_block2_2_relu True\n",
            "conv5_block2_3_conv True\n",
            "conv5_block2_3_bn True\n",
            "conv5_block2_add True\n",
            "conv5_block2_out True\n",
            "conv5_block3_1_conv True\n",
            "conv5_block3_1_bn True\n",
            "conv5_block3_1_relu True\n",
            "conv5_block3_2_conv True\n",
            "conv5_block3_2_bn True\n",
            "conv5_block3_2_relu True\n",
            "conv5_block3_3_conv True\n",
            "conv5_block3_3_bn True\n",
            "conv5_block3_add True\n",
            "conv5_block3_out True\n",
            "global_average_pooling2d_2 True\n",
            "dense_8 True\n",
            "dropout_6 True\n",
            "dense_9 True\n",
            "dropout_7 True\n",
            "dense_10 True\n",
            "dropout_8 True\n",
            "dense_11 True\n"
          ],
          "name": "stdout"
        }
      ]
    },
    {
      "cell_type": "code",
      "metadata": {
        "colab_type": "code",
        "id": "0kacZQ9-ra03",
        "colab": {}
      },
      "source": [
        "opt = tf.keras.optimizers.RMSprop(lr=1e-4)\n",
        "# compile the model (should be done *after* setting layers to non-trainable)\n",
        "many_unfrozen_resnet_model.compile(optimizer=opt, loss='categorical_crossentropy',metrics=['accuracy'])"
      ],
      "execution_count": 0,
      "outputs": []
    },
    {
      "cell_type": "markdown",
      "metadata": {
        "colab_type": "text",
        "id": "RCwT3xSWra06"
      },
      "source": [
        "#### fitting the model"
      ]
    },
    {
      "cell_type": "code",
      "metadata": {
        "colab_type": "code",
        "outputId": "173f0f2f-573e-494d-d0f4-3b45055fe9ab",
        "id": "yUzNFBPrra07",
        "colab": {
          "base_uri": "https://localhost:8080/",
          "height": 1000
        }
      },
      "source": [
        "train_steps = int(len(df_train)/batch_size) #total trains set / batch_size\n",
        "val_steps = int(len(df_val)/batch_size)\n",
        "\n",
        "print('train steps:',train_steps)\n",
        "print('val steps:',val_steps)\n",
        "\n",
        "epochs = 50\n",
        "\n",
        "\n",
        "model_filepath = 'CMS/many_unfrozen_resnet50_RMSprop.h5'\n",
        "mcp = ModelCheckpoint(model_filepath, monitor='accuracy', save_best_only=True, mode='max')\n",
        "\n",
        "# Train the model with validation \n",
        "\n",
        "many_unfrozen_resnet50_history = many_unfrozen_resnet_model.fit( train_dataset, steps_per_epoch = train_steps,\n",
        "                   epochs = epochs,\n",
        "                   validation_data = valid_dataset,\n",
        "                   validation_steps = val_steps,\n",
        "                   callbacks=[mcp])"
      ],
      "execution_count": 0,
      "outputs": [
        {
          "output_type": "stream",
          "text": [
            "train steps: 24\n",
            "val steps: 3\n",
            "Train for 24 steps, validate for 3 steps\n",
            "Epoch 1/50\n",
            "24/24 [==============================] - 29s 1s/step - loss: 0.8210 - accuracy: 0.6167 - val_loss: 1.0847 - val_accuracy: 0.3500\n",
            "Epoch 2/50\n",
            "24/24 [==============================] - 18s 752ms/step - loss: 0.5976 - accuracy: 0.7378 - val_loss: 1.2515 - val_accuracy: 0.3583\n",
            "Epoch 3/50\n",
            "24/24 [==============================] - 18s 767ms/step - loss: 0.4925 - accuracy: 0.7660 - val_loss: 1.0873 - val_accuracy: 0.3972\n",
            "Epoch 4/50\n",
            "24/24 [==============================] - 19s 785ms/step - loss: 0.4329 - accuracy: 0.8021 - val_loss: 0.9974 - val_accuracy: 0.5944\n",
            "Epoch 5/50\n",
            "24/24 [==============================] - 19s 801ms/step - loss: 0.3521 - accuracy: 0.8410 - val_loss: 0.7909 - val_accuracy: 0.6167\n",
            "Epoch 6/50\n",
            "24/24 [==============================] - 19s 792ms/step - loss: 0.2972 - accuracy: 0.8677 - val_loss: 1.2401 - val_accuracy: 0.5889\n",
            "Epoch 7/50\n",
            "24/24 [==============================] - 19s 783ms/step - loss: 0.2433 - accuracy: 0.8885 - val_loss: 0.8907 - val_accuracy: 0.5056\n",
            "Epoch 8/50\n",
            "24/24 [==============================] - 20s 825ms/step - loss: 0.2273 - accuracy: 0.9042 - val_loss: 0.9542 - val_accuracy: 0.6083\n",
            "Epoch 9/50\n",
            "24/24 [==============================] - 19s 775ms/step - loss: 0.1774 - accuracy: 0.9288 - val_loss: 1.7911 - val_accuracy: 0.4083\n",
            "Epoch 10/50\n",
            "24/24 [==============================] - 18s 752ms/step - loss: 0.1354 - accuracy: 0.9490 - val_loss: 0.7274 - val_accuracy: 0.6500\n",
            "Epoch 11/50\n",
            "24/24 [==============================] - 16s 664ms/step - loss: 0.1307 - accuracy: 0.9472 - val_loss: 3.7855 - val_accuracy: 0.4750\n",
            "Epoch 12/50\n",
            "24/24 [==============================] - 20s 820ms/step - loss: 0.0976 - accuracy: 0.9632 - val_loss: 6.6647 - val_accuracy: 0.3361\n",
            "Epoch 13/50\n",
            "24/24 [==============================] - 19s 789ms/step - loss: 0.0858 - accuracy: 0.9681 - val_loss: 4.1141 - val_accuracy: 0.3806\n",
            "Epoch 14/50\n",
            "24/24 [==============================] - 19s 786ms/step - loss: 0.1010 - accuracy: 0.9719 - val_loss: 4.3560 - val_accuracy: 0.4750\n",
            "Epoch 15/50\n",
            "24/24 [==============================] - 18s 767ms/step - loss: 0.1185 - accuracy: 0.9747 - val_loss: 16.1290 - val_accuracy: 0.3500\n",
            "Epoch 16/50\n",
            "24/24 [==============================] - 18s 769ms/step - loss: 0.0679 - accuracy: 0.9778 - val_loss: 5.2280 - val_accuracy: 0.5028\n",
            "Epoch 17/50\n",
            "24/24 [==============================] - 19s 773ms/step - loss: 0.0541 - accuracy: 0.9830 - val_loss: 2.0099 - val_accuracy: 0.4861\n",
            "Epoch 18/50\n",
            "24/24 [==============================] - 16s 679ms/step - loss: 0.0949 - accuracy: 0.9764 - val_loss: 4.6978 - val_accuracy: 0.3806\n",
            "Epoch 19/50\n",
            "24/24 [==============================] - 21s 859ms/step - loss: 0.0338 - accuracy: 0.9906 - val_loss: 3.0859 - val_accuracy: 0.5194\n",
            "Epoch 20/50\n",
            "24/24 [==============================] - 16s 669ms/step - loss: 0.0528 - accuracy: 0.9823 - val_loss: 5.9954 - val_accuracy: 0.5167\n",
            "Epoch 21/50\n",
            "24/24 [==============================] - 16s 663ms/step - loss: 0.0567 - accuracy: 0.9837 - val_loss: 32.2496 - val_accuracy: 0.3167\n",
            "Epoch 22/50\n",
            "24/24 [==============================] - 16s 656ms/step - loss: 0.0586 - accuracy: 0.9816 - val_loss: 43.2732 - val_accuracy: 0.3111\n",
            "Epoch 23/50\n",
            "24/24 [==============================] - 16s 670ms/step - loss: 0.0414 - accuracy: 0.9858 - val_loss: 32.9938 - val_accuracy: 0.3111\n",
            "Epoch 24/50\n",
            "24/24 [==============================] - 19s 788ms/step - loss: 0.0321 - accuracy: 0.9924 - val_loss: 14.1197 - val_accuracy: 0.3722\n",
            "Epoch 25/50\n",
            "24/24 [==============================] - 16s 667ms/step - loss: 0.0604 - accuracy: 0.9840 - val_loss: 19.5510 - val_accuracy: 0.3972\n",
            "Epoch 26/50\n",
            "24/24 [==============================] - 16s 664ms/step - loss: 0.0401 - accuracy: 0.9872 - val_loss: 37.2930 - val_accuracy: 0.3500\n",
            "Epoch 27/50\n",
            "24/24 [==============================] - 16s 669ms/step - loss: 0.0578 - accuracy: 0.9844 - val_loss: 19.0272 - val_accuracy: 0.3528\n",
            "Epoch 28/50\n",
            "24/24 [==============================] - 16s 668ms/step - loss: 0.0488 - accuracy: 0.9868 - val_loss: 29.4491 - val_accuracy: 0.3972\n",
            "Epoch 29/50\n",
            "24/24 [==============================] - 16s 661ms/step - loss: 0.0555 - accuracy: 0.9847 - val_loss: 74.2335 - val_accuracy: 0.3500\n",
            "Epoch 30/50\n",
            "24/24 [==============================] - 16s 659ms/step - loss: 0.0679 - accuracy: 0.9847 - val_loss: 22.1027 - val_accuracy: 0.4111\n",
            "Epoch 31/50\n",
            "24/24 [==============================] - 20s 835ms/step - loss: 0.0116 - accuracy: 0.9972 - val_loss: 21.1289 - val_accuracy: 0.5139\n",
            "Epoch 32/50\n",
            "24/24 [==============================] - 16s 668ms/step - loss: 0.0584 - accuracy: 0.9875 - val_loss: 20.3460 - val_accuracy: 0.3667\n",
            "Epoch 33/50\n",
            "24/24 [==============================] - 16s 663ms/step - loss: 0.0287 - accuracy: 0.9896 - val_loss: 9.8294 - val_accuracy: 0.4722\n",
            "Epoch 34/50\n",
            "24/24 [==============================] - 16s 660ms/step - loss: 0.0559 - accuracy: 0.9833 - val_loss: 40.0080 - val_accuracy: 0.3500\n",
            "Epoch 35/50\n",
            "24/24 [==============================] - 16s 666ms/step - loss: 0.0557 - accuracy: 0.9847 - val_loss: 34.4037 - val_accuracy: 0.4583\n",
            "Epoch 36/50\n",
            "24/24 [==============================] - 16s 682ms/step - loss: 0.0250 - accuracy: 0.9955 - val_loss: 20.0225 - val_accuracy: 0.5944\n",
            "Epoch 37/50\n",
            "24/24 [==============================] - 16s 661ms/step - loss: 0.0488 - accuracy: 0.9868 - val_loss: 24.9205 - val_accuracy: 0.3639\n",
            "Epoch 38/50\n",
            "24/24 [==============================] - 16s 664ms/step - loss: 0.0403 - accuracy: 0.9878 - val_loss: 100.7304 - val_accuracy: 0.3389\n",
            "Epoch 39/50\n",
            "24/24 [==============================] - 16s 666ms/step - loss: 0.0570 - accuracy: 0.9896 - val_loss: 48.2572 - val_accuracy: 0.3500\n",
            "Epoch 40/50\n",
            "24/24 [==============================] - 16s 665ms/step - loss: 0.0223 - accuracy: 0.9948 - val_loss: 33.7714 - val_accuracy: 0.3583\n",
            "Epoch 41/50\n",
            "24/24 [==============================] - 16s 660ms/step - loss: 0.0117 - accuracy: 0.9958 - val_loss: 19.3201 - val_accuracy: 0.3972\n",
            "Epoch 42/50\n",
            "24/24 [==============================] - 16s 670ms/step - loss: 0.0713 - accuracy: 0.9840 - val_loss: 32.0762 - val_accuracy: 0.3889\n",
            "Epoch 43/50\n",
            "24/24 [==============================] - 20s 842ms/step - loss: 0.0169 - accuracy: 0.9976 - val_loss: 24.0140 - val_accuracy: 0.3667\n",
            "Epoch 44/50\n",
            "24/24 [==============================] - 16s 682ms/step - loss: 0.0449 - accuracy: 0.9899 - val_loss: 62.9780 - val_accuracy: 0.3139\n",
            "Epoch 45/50\n",
            "24/24 [==============================] - 16s 666ms/step - loss: 0.0450 - accuracy: 0.9872 - val_loss: 86.6501 - val_accuracy: 0.3111\n",
            "Epoch 46/50\n",
            "24/24 [==============================] - 16s 660ms/step - loss: 0.0143 - accuracy: 0.9965 - val_loss: 42.5176 - val_accuracy: 0.3139\n",
            "Epoch 47/50\n",
            "24/24 [==============================] - 16s 666ms/step - loss: 0.0499 - accuracy: 0.9858 - val_loss: 40.4641 - val_accuracy: 0.3972\n",
            "Epoch 48/50\n",
            "24/24 [==============================] - 16s 664ms/step - loss: 0.0522 - accuracy: 0.9920 - val_loss: 21.9055 - val_accuracy: 0.5917\n",
            "Epoch 49/50\n",
            "24/24 [==============================] - 16s 666ms/step - loss: 0.0219 - accuracy: 0.9955 - val_loss: 10.9884 - val_accuracy: 0.3917\n",
            "Epoch 50/50\n",
            "24/24 [==============================] - 16s 663ms/step - loss: 0.0308 - accuracy: 0.9934 - val_loss: 26.1733 - val_accuracy: 0.3528\n"
          ],
          "name": "stdout"
        }
      ]
    },
    {
      "cell_type": "markdown",
      "metadata": {
        "colab_type": "text",
        "id": "Zt-oQh62ra0_"
      },
      "source": [
        "#### testing the model"
      ]
    },
    {
      "cell_type": "code",
      "metadata": {
        "colab_type": "code",
        "outputId": "bac43b70-f90f-4b97-c78e-a817cd513348",
        "id": "Fl68CpSdra1A",
        "colab": {
          "base_uri": "https://localhost:8080/",
          "height": 50
        }
      },
      "source": [
        "test_steps = int(len(df_test)/batch_size)\n",
        "\n",
        "metrics = many_unfrozen_resnet_model.evaluate(test_dataset,\n",
        "                   steps = test_steps)\n",
        "print(\"model accuracy:\",metrics[1])"
      ],
      "execution_count": 0,
      "outputs": [
        {
          "output_type": "stream",
          "text": [
            "3/3 [==============================] - 1s 390ms/step - loss: 26.9783 - accuracy: 0.3167\n",
            "model accuracy: 0.31666666\n"
          ],
          "name": "stdout"
        }
      ]
    },
    {
      "cell_type": "markdown",
      "metadata": {
        "colab_type": "text",
        "id": "28sBerOlyTh9"
      },
      "source": [
        "#### plotting training"
      ]
    },
    {
      "cell_type": "code",
      "metadata": {
        "colab_type": "code",
        "outputId": "3c2dec96-d7ec-4961-bf67-5f5cf4adabaa",
        "id": "CUvVwNJRyTiC",
        "colab": {
          "base_uri": "https://localhost:8080/",
          "height": 573
        }
      },
      "source": [
        "plot_hist(many_unfrozen_resnet50_history, 'many_unfrozen_resnet50_RMSprop')"
      ],
      "execution_count": 0,
      "outputs": [
        {
          "output_type": "display_data",
          "data": {
            "image/png": "[encoded data removed]",
            "text/plain": [
              "<Figure size 432x288 with 1 Axes>"
            ]
          },
          "metadata": {
            "tags": []
          }
        },
        {
          "output_type": "display_data",
          "data": {
            "image/png": "[encoded data removed]",
            "text/plain": [
              "<Figure size 432x288 with 1 Axes>"
            ]
          },
          "metadata": {
            "tags": []
          }
        }
      ]
    },
    {
      "cell_type": "markdown",
      "metadata": {
        "colab_type": "text",
        "id": "HbIQBb3zra1D"
      },
      "source": [
        "#### saving the history of the fitting"
      ]
    },
    {
      "cell_type": "code",
      "metadata": {
        "colab_type": "code",
        "outputId": "ad1ea508-182f-420f-d0b6-1798bca184b3",
        "id": "GpwbYJB5ra1D",
        "colab": {
          "base_uri": "https://localhost:8080/",
          "height": 34
        }
      },
      "source": [
        "with open(cwd + '/trainHistoryDict/many_unfrozen_resnet50_history_RMSprop.p', 'wb') as file_pi:\n",
        "        pickle.dump(many_unfrozen_resnet50_history.history, file_pi)\n",
        "print('history saved')"
      ],
      "execution_count": 0,
      "outputs": [
        {
          "output_type": "stream",
          "text": [
            "history saved\n"
          ],
          "name": "stdout"
        }
      ]
    },
    {
      "cell_type": "code",
      "metadata": {
        "id": "KC-jGyHnrTh9",
        "colab_type": "code",
        "colab": {}
      },
      "source": [
        ""
      ],
      "execution_count": 0,
      "outputs": []
    },
    {
      "cell_type": "markdown",
      "metadata": {
        "id": "WdsCsXkOu7mF",
        "colab_type": "text"
      },
      "source": [
        "## entirely unfrozen"
      ]
    },
    {
      "cell_type": "code",
      "metadata": {
        "colab_type": "code",
        "id": "FrR6YujPvAhK",
        "colab": {}
      },
      "source": [
        "resnet_50 = tf.keras.applications.ResNet50(\n",
        "    include_top=False,\n",
        "    weights='imagenet',\n",
        "    input_shape=(200,200,3),\n",
        "    pooling=None\n",
        ")"
      ],
      "execution_count": 0,
      "outputs": []
    },
    {
      "cell_type": "markdown",
      "metadata": {
        "colab_type": "text",
        "id": "AErdeAAY1rsN"
      },
      "source": [
        "#### modifying slightly"
      ]
    },
    {
      "cell_type": "code",
      "metadata": {
        "colab_type": "code",
        "id": "7-OTdP3-1rsT",
        "colab": {}
      },
      "source": [
        "x = resnet_50.output\n",
        "\n",
        "x = GlobalAveragePooling2D()(x)\n",
        "\n",
        "# let's add a fully-connected layer\n",
        "x = Dense(512, activation='relu')(x)\n",
        "\n",
        "x = Dropout(0.5)(x)\n",
        "\n",
        "#x = GlobalAveragePooling2D()(x)\n",
        "\n",
        "# let's add a fully-connected layer\n",
        "x = Dense(512, activation='relu')(x)\n",
        "\n",
        "x = Dropout(0.5)(x)\n",
        "\n",
        "# let's add a fully-connected layer\n",
        "x = Dense(512, activation='relu')(x)\n",
        "\n",
        "x = Dropout(0.5)(x)\n",
        "\n",
        "# and a logits layer -- let's say we have 3 classes\n",
        "predictions = Dense(3, activation='softmax')(x)"
      ],
      "execution_count": 0,
      "outputs": []
    },
    {
      "cell_type": "markdown",
      "metadata": {
        "id": "UDrRFGzn1z61",
        "colab_type": "text"
      },
      "source": [
        "#### creating model object"
      ]
    },
    {
      "cell_type": "code",
      "metadata": {
        "id": "lstePI_NvN-5",
        "colab_type": "code",
        "colab": {}
      },
      "source": [
        "# this is the model we will train\n",
        "unfrozen_resnet50_model = Model(inputs=resnet_50.input, outputs=predictions)"
      ],
      "execution_count": 0,
      "outputs": []
    },
    {
      "cell_type": "code",
      "metadata": {
        "id": "1DulDS0ovX2h",
        "colab_type": "code",
        "outputId": "8cf364fd-754a-4ff4-bffd-45b5118300b7",
        "colab": {
          "base_uri": "https://localhost:8080/",
          "height": 1000
        }
      },
      "source": [
        "for layer in unfrozen_resnet50_model.layers:\n",
        "    print(layer.name)\n",
        "    layer.trainable = True"
      ],
      "execution_count": 0,
      "outputs": [
        {
          "output_type": "stream",
          "text": [
            "input_4\n",
            "conv1_pad\n",
            "conv1_conv\n",
            "conv1_bn\n",
            "conv1_relu\n",
            "pool1_pad\n",
            "pool1_pool\n",
            "conv2_block1_1_conv\n",
            "conv2_block1_1_bn\n",
            "conv2_block1_1_relu\n",
            "conv2_block1_2_conv\n",
            "conv2_block1_2_bn\n",
            "conv2_block1_2_relu\n",
            "conv2_block1_0_conv\n",
            "conv2_block1_3_conv\n",
            "conv2_block1_0_bn\n",
            "conv2_block1_3_bn\n",
            "conv2_block1_add\n",
            "conv2_block1_out\n",
            "conv2_block2_1_conv\n",
            "conv2_block2_1_bn\n",
            "conv2_block2_1_relu\n",
            "conv2_block2_2_conv\n",
            "conv2_block2_2_bn\n",
            "conv2_block2_2_relu\n",
            "conv2_block2_3_conv\n",
            "conv2_block2_3_bn\n",
            "conv2_block2_add\n",
            "conv2_block2_out\n",
            "conv2_block3_1_conv\n",
            "conv2_block3_1_bn\n",
            "conv2_block3_1_relu\n",
            "conv2_block3_2_conv\n",
            "conv2_block3_2_bn\n",
            "conv2_block3_2_relu\n",
            "conv2_block3_3_conv\n",
            "conv2_block3_3_bn\n",
            "conv2_block3_add\n",
            "conv2_block3_out\n",
            "conv3_block1_1_conv\n",
            "conv3_block1_1_bn\n",
            "conv3_block1_1_relu\n",
            "conv3_block1_2_conv\n",
            "conv3_block1_2_bn\n",
            "conv3_block1_2_relu\n",
            "conv3_block1_0_conv\n",
            "conv3_block1_3_conv\n",
            "conv3_block1_0_bn\n",
            "conv3_block1_3_bn\n",
            "conv3_block1_add\n",
            "conv3_block1_out\n",
            "conv3_block2_1_conv\n",
            "conv3_block2_1_bn\n",
            "conv3_block2_1_relu\n",
            "conv3_block2_2_conv\n",
            "conv3_block2_2_bn\n",
            "conv3_block2_2_relu\n",
            "conv3_block2_3_conv\n",
            "conv3_block2_3_bn\n",
            "conv3_block2_add\n",
            "conv3_block2_out\n",
            "conv3_block3_1_conv\n",
            "conv3_block3_1_bn\n",
            "conv3_block3_1_relu\n",
            "conv3_block3_2_conv\n",
            "conv3_block3_2_bn\n",
            "conv3_block3_2_relu\n",
            "conv3_block3_3_conv\n",
            "conv3_block3_3_bn\n",
            "conv3_block3_add\n",
            "conv3_block3_out\n",
            "conv3_block4_1_conv\n",
            "conv3_block4_1_bn\n",
            "conv3_block4_1_relu\n",
            "conv3_block4_2_conv\n",
            "conv3_block4_2_bn\n",
            "conv3_block4_2_relu\n",
            "conv3_block4_3_conv\n",
            "conv3_block4_3_bn\n",
            "conv3_block4_add\n",
            "conv3_block4_out\n",
            "conv4_block1_1_conv\n",
            "conv4_block1_1_bn\n",
            "conv4_block1_1_relu\n",
            "conv4_block1_2_conv\n",
            "conv4_block1_2_bn\n",
            "conv4_block1_2_relu\n",
            "conv4_block1_0_conv\n",
            "conv4_block1_3_conv\n",
            "conv4_block1_0_bn\n",
            "conv4_block1_3_bn\n",
            "conv4_block1_add\n",
            "conv4_block1_out\n",
            "conv4_block2_1_conv\n",
            "conv4_block2_1_bn\n",
            "conv4_block2_1_relu\n",
            "conv4_block2_2_conv\n",
            "conv4_block2_2_bn\n",
            "conv4_block2_2_relu\n",
            "conv4_block2_3_conv\n",
            "conv4_block2_3_bn\n",
            "conv4_block2_add\n",
            "conv4_block2_out\n",
            "conv4_block3_1_conv\n",
            "conv4_block3_1_bn\n",
            "conv4_block3_1_relu\n",
            "conv4_block3_2_conv\n",
            "conv4_block3_2_bn\n",
            "conv4_block3_2_relu\n",
            "conv4_block3_3_conv\n",
            "conv4_block3_3_bn\n",
            "conv4_block3_add\n",
            "conv4_block3_out\n",
            "conv4_block4_1_conv\n",
            "conv4_block4_1_bn\n",
            "conv4_block4_1_relu\n",
            "conv4_block4_2_conv\n",
            "conv4_block4_2_bn\n",
            "conv4_block4_2_relu\n",
            "conv4_block4_3_conv\n",
            "conv4_block4_3_bn\n",
            "conv4_block4_add\n",
            "conv4_block4_out\n",
            "conv4_block5_1_conv\n",
            "conv4_block5_1_bn\n",
            "conv4_block5_1_relu\n",
            "conv4_block5_2_conv\n",
            "conv4_block5_2_bn\n",
            "conv4_block5_2_relu\n",
            "conv4_block5_3_conv\n",
            "conv4_block5_3_bn\n",
            "conv4_block5_add\n",
            "conv4_block5_out\n",
            "conv4_block6_1_conv\n",
            "conv4_block6_1_bn\n",
            "conv4_block6_1_relu\n",
            "conv4_block6_2_conv\n",
            "conv4_block6_2_bn\n",
            "conv4_block6_2_relu\n",
            "conv4_block6_3_conv\n",
            "conv4_block6_3_bn\n",
            "conv4_block6_add\n",
            "conv4_block6_out\n",
            "conv5_block1_1_conv\n",
            "conv5_block1_1_bn\n",
            "conv5_block1_1_relu\n",
            "conv5_block1_2_conv\n",
            "conv5_block1_2_bn\n",
            "conv5_block1_2_relu\n",
            "conv5_block1_0_conv\n",
            "conv5_block1_3_conv\n",
            "conv5_block1_0_bn\n",
            "conv5_block1_3_bn\n",
            "conv5_block1_add\n",
            "conv5_block1_out\n",
            "conv5_block2_1_conv\n",
            "conv5_block2_1_bn\n",
            "conv5_block2_1_relu\n",
            "conv5_block2_2_conv\n",
            "conv5_block2_2_bn\n",
            "conv5_block2_2_relu\n",
            "conv5_block2_3_conv\n",
            "conv5_block2_3_bn\n",
            "conv5_block2_add\n",
            "conv5_block2_out\n",
            "conv5_block3_1_conv\n",
            "conv5_block3_1_bn\n",
            "conv5_block3_1_relu\n",
            "conv5_block3_2_conv\n",
            "conv5_block3_2_bn\n",
            "conv5_block3_2_relu\n",
            "conv5_block3_3_conv\n",
            "conv5_block3_3_bn\n",
            "conv5_block3_add\n",
            "conv5_block3_out\n",
            "global_average_pooling2d_3\n",
            "dense_12\n",
            "dropout_9\n",
            "dense_13\n",
            "dropout_10\n",
            "dense_14\n",
            "dropout_11\n",
            "dense_15\n"
          ],
          "name": "stdout"
        }
      ]
    },
    {
      "cell_type": "code",
      "metadata": {
        "id": "DB5aU4CSvgE4",
        "colab_type": "code",
        "outputId": "a2c3520b-0184-46d3-f13f-81c4a76e5b0c",
        "colab": {
          "base_uri": "https://localhost:8080/",
          "height": 1000
        }
      },
      "source": [
        "for layer in unfrozen_resnet50_model.layers:\n",
        "    print(layer.name,' Trainable =',layer.trainable)"
      ],
      "execution_count": 0,
      "outputs": [
        {
          "output_type": "stream",
          "text": [
            "input_4  Trainable = True\n",
            "conv1_pad  Trainable = True\n",
            "conv1_conv  Trainable = True\n",
            "conv1_bn  Trainable = True\n",
            "conv1_relu  Trainable = True\n",
            "pool1_pad  Trainable = True\n",
            "pool1_pool  Trainable = True\n",
            "conv2_block1_1_conv  Trainable = True\n",
            "conv2_block1_1_bn  Trainable = True\n",
            "conv2_block1_1_relu  Trainable = True\n",
            "conv2_block1_2_conv  Trainable = True\n",
            "conv2_block1_2_bn  Trainable = True\n",
            "conv2_block1_2_relu  Trainable = True\n",
            "conv2_block1_0_conv  Trainable = True\n",
            "conv2_block1_3_conv  Trainable = True\n",
            "conv2_block1_0_bn  Trainable = True\n",
            "conv2_block1_3_bn  Trainable = True\n",
            "conv2_block1_add  Trainable = True\n",
            "conv2_block1_out  Trainable = True\n",
            "conv2_block2_1_conv  Trainable = True\n",
            "conv2_block2_1_bn  Trainable = True\n",
            "conv2_block2_1_relu  Trainable = True\n",
            "conv2_block2_2_conv  Trainable = True\n",
            "conv2_block2_2_bn  Trainable = True\n",
            "conv2_block2_2_relu  Trainable = True\n",
            "conv2_block2_3_conv  Trainable = True\n",
            "conv2_block2_3_bn  Trainable = True\n",
            "conv2_block2_add  Trainable = True\n",
            "conv2_block2_out  Trainable = True\n",
            "conv2_block3_1_conv  Trainable = True\n",
            "conv2_block3_1_bn  Trainable = True\n",
            "conv2_block3_1_relu  Trainable = True\n",
            "conv2_block3_2_conv  Trainable = True\n",
            "conv2_block3_2_bn  Trainable = True\n",
            "conv2_block3_2_relu  Trainable = True\n",
            "conv2_block3_3_conv  Trainable = True\n",
            "conv2_block3_3_bn  Trainable = True\n",
            "conv2_block3_add  Trainable = True\n",
            "conv2_block3_out  Trainable = True\n",
            "conv3_block1_1_conv  Trainable = True\n",
            "conv3_block1_1_bn  Trainable = True\n",
            "conv3_block1_1_relu  Trainable = True\n",
            "conv3_block1_2_conv  Trainable = True\n",
            "conv3_block1_2_bn  Trainable = True\n",
            "conv3_block1_2_relu  Trainable = True\n",
            "conv3_block1_0_conv  Trainable = True\n",
            "conv3_block1_3_conv  Trainable = True\n",
            "conv3_block1_0_bn  Trainable = True\n",
            "conv3_block1_3_bn  Trainable = True\n",
            "conv3_block1_add  Trainable = True\n",
            "conv3_block1_out  Trainable = True\n",
            "conv3_block2_1_conv  Trainable = True\n",
            "conv3_block2_1_bn  Trainable = True\n",
            "conv3_block2_1_relu  Trainable = True\n",
            "conv3_block2_2_conv  Trainable = True\n",
            "conv3_block2_2_bn  Trainable = True\n",
            "conv3_block2_2_relu  Trainable = True\n",
            "conv3_block2_3_conv  Trainable = True\n",
            "conv3_block2_3_bn  Trainable = True\n",
            "conv3_block2_add  Trainable = True\n",
            "conv3_block2_out  Trainable = True\n",
            "conv3_block3_1_conv  Trainable = True\n",
            "conv3_block3_1_bn  Trainable = True\n",
            "conv3_block3_1_relu  Trainable = True\n",
            "conv3_block3_2_conv  Trainable = True\n",
            "conv3_block3_2_bn  Trainable = True\n",
            "conv3_block3_2_relu  Trainable = True\n",
            "conv3_block3_3_conv  Trainable = True\n",
            "conv3_block3_3_bn  Trainable = True\n",
            "conv3_block3_add  Trainable = True\n",
            "conv3_block3_out  Trainable = True\n",
            "conv3_block4_1_conv  Trainable = True\n",
            "conv3_block4_1_bn  Trainable = True\n",
            "conv3_block4_1_relu  Trainable = True\n",
            "conv3_block4_2_conv  Trainable = True\n",
            "conv3_block4_2_bn  Trainable = True\n",
            "conv3_block4_2_relu  Trainable = True\n",
            "conv3_block4_3_conv  Trainable = True\n",
            "conv3_block4_3_bn  Trainable = True\n",
            "conv3_block4_add  Trainable = True\n",
            "conv3_block4_out  Trainable = True\n",
            "conv4_block1_1_conv  Trainable = True\n",
            "conv4_block1_1_bn  Trainable = True\n",
            "conv4_block1_1_relu  Trainable = True\n",
            "conv4_block1_2_conv  Trainable = True\n",
            "conv4_block1_2_bn  Trainable = True\n",
            "conv4_block1_2_relu  Trainable = True\n",
            "conv4_block1_0_conv  Trainable = True\n",
            "conv4_block1_3_conv  Trainable = True\n",
            "conv4_block1_0_bn  Trainable = True\n",
            "conv4_block1_3_bn  Trainable = True\n",
            "conv4_block1_add  Trainable = True\n",
            "conv4_block1_out  Trainable = True\n",
            "conv4_block2_1_conv  Trainable = True\n",
            "conv4_block2_1_bn  Trainable = True\n",
            "conv4_block2_1_relu  Trainable = True\n",
            "conv4_block2_2_conv  Trainable = True\n",
            "conv4_block2_2_bn  Trainable = True\n",
            "conv4_block2_2_relu  Trainable = True\n",
            "conv4_block2_3_conv  Trainable = True\n",
            "conv4_block2_3_bn  Trainable = True\n",
            "conv4_block2_add  Trainable = True\n",
            "conv4_block2_out  Trainable = True\n",
            "conv4_block3_1_conv  Trainable = True\n",
            "conv4_block3_1_bn  Trainable = True\n",
            "conv4_block3_1_relu  Trainable = True\n",
            "conv4_block3_2_conv  Trainable = True\n",
            "conv4_block3_2_bn  Trainable = True\n",
            "conv4_block3_2_relu  Trainable = True\n",
            "conv4_block3_3_conv  Trainable = True\n",
            "conv4_block3_3_bn  Trainable = True\n",
            "conv4_block3_add  Trainable = True\n",
            "conv4_block3_out  Trainable = True\n",
            "conv4_block4_1_conv  Trainable = True\n",
            "conv4_block4_1_bn  Trainable = True\n",
            "conv4_block4_1_relu  Trainable = True\n",
            "conv4_block4_2_conv  Trainable = True\n",
            "conv4_block4_2_bn  Trainable = True\n",
            "conv4_block4_2_relu  Trainable = True\n",
            "conv4_block4_3_conv  Trainable = True\n",
            "conv4_block4_3_bn  Trainable = True\n",
            "conv4_block4_add  Trainable = True\n",
            "conv4_block4_out  Trainable = True\n",
            "conv4_block5_1_conv  Trainable = True\n",
            "conv4_block5_1_bn  Trainable = True\n",
            "conv4_block5_1_relu  Trainable = True\n",
            "conv4_block5_2_conv  Trainable = True\n",
            "conv4_block5_2_bn  Trainable = True\n",
            "conv4_block5_2_relu  Trainable = True\n",
            "conv4_block5_3_conv  Trainable = True\n",
            "conv4_block5_3_bn  Trainable = True\n",
            "conv4_block5_add  Trainable = True\n",
            "conv4_block5_out  Trainable = True\n",
            "conv4_block6_1_conv  Trainable = True\n",
            "conv4_block6_1_bn  Trainable = True\n",
            "conv4_block6_1_relu  Trainable = True\n",
            "conv4_block6_2_conv  Trainable = True\n",
            "conv4_block6_2_bn  Trainable = True\n",
            "conv4_block6_2_relu  Trainable = True\n",
            "conv4_block6_3_conv  Trainable = True\n",
            "conv4_block6_3_bn  Trainable = True\n",
            "conv4_block6_add  Trainable = True\n",
            "conv4_block6_out  Trainable = True\n",
            "conv5_block1_1_conv  Trainable = True\n",
            "conv5_block1_1_bn  Trainable = True\n",
            "conv5_block1_1_relu  Trainable = True\n",
            "conv5_block1_2_conv  Trainable = True\n",
            "conv5_block1_2_bn  Trainable = True\n",
            "conv5_block1_2_relu  Trainable = True\n",
            "conv5_block1_0_conv  Trainable = True\n",
            "conv5_block1_3_conv  Trainable = True\n",
            "conv5_block1_0_bn  Trainable = True\n",
            "conv5_block1_3_bn  Trainable = True\n",
            "conv5_block1_add  Trainable = True\n",
            "conv5_block1_out  Trainable = True\n",
            "conv5_block2_1_conv  Trainable = True\n",
            "conv5_block2_1_bn  Trainable = True\n",
            "conv5_block2_1_relu  Trainable = True\n",
            "conv5_block2_2_conv  Trainable = True\n",
            "conv5_block2_2_bn  Trainable = True\n",
            "conv5_block2_2_relu  Trainable = True\n",
            "conv5_block2_3_conv  Trainable = True\n",
            "conv5_block2_3_bn  Trainable = True\n",
            "conv5_block2_add  Trainable = True\n",
            "conv5_block2_out  Trainable = True\n",
            "conv5_block3_1_conv  Trainable = True\n",
            "conv5_block3_1_bn  Trainable = True\n",
            "conv5_block3_1_relu  Trainable = True\n",
            "conv5_block3_2_conv  Trainable = True\n",
            "conv5_block3_2_bn  Trainable = True\n",
            "conv5_block3_2_relu  Trainable = True\n",
            "conv5_block3_3_conv  Trainable = True\n",
            "conv5_block3_3_bn  Trainable = True\n",
            "conv5_block3_add  Trainable = True\n",
            "conv5_block3_out  Trainable = True\n",
            "global_average_pooling2d_3  Trainable = True\n",
            "dense_12  Trainable = True\n",
            "dropout_9  Trainable = True\n",
            "dense_13  Trainable = True\n",
            "dropout_10  Trainable = True\n",
            "dense_14  Trainable = True\n",
            "dropout_11  Trainable = True\n",
            "dense_15  Trainable = True\n"
          ],
          "name": "stdout"
        }
      ]
    },
    {
      "cell_type": "markdown",
      "metadata": {
        "id": "DbqL6LGoxGgT",
        "colab_type": "text"
      },
      "source": [
        "#### setting the optimizer"
      ]
    },
    {
      "cell_type": "code",
      "metadata": {
        "id": "bh4CDz20vo7f",
        "colab_type": "code",
        "colab": {}
      },
      "source": [
        "opt = tf.keras.optimizers.RMSprop(lr=1e-4)\n",
        "\n",
        "# compile the model (should be done *after* setting layers to non-trainable)\n",
        "unfrozen_resnet50_model.compile(optimizer=opt, loss='categorical_crossentropy',metrics=['accuracy'])"
      ],
      "execution_count": 0,
      "outputs": []
    },
    {
      "cell_type": "markdown",
      "metadata": {
        "id": "6vJQLMr9w64c",
        "colab_type": "text"
      },
      "source": [
        "#### fitting the model"
      ]
    },
    {
      "cell_type": "code",
      "metadata": {
        "id": "CZFZayCIv6Oo",
        "colab_type": "code",
        "outputId": "4c7749dd-0603-4d08-f16e-fe150fcaec08",
        "colab": {
          "base_uri": "https://localhost:8080/",
          "height": 1000
        }
      },
      "source": [
        "train_steps = int(len(df_train)/batch_size) #total trains set / batch_size\n",
        "val_steps = int(len(df_val)/batch_size)\n",
        "\n",
        "print('train steps:',train_steps)\n",
        "print('val steps:',val_steps)\n",
        "\n",
        "epochs = 50\n",
        "\n",
        "\n",
        "model_filepath = 'CMS/unfrozen_resnet50_RMSprop.h5'\n",
        "mcp = ModelCheckpoint(model_filepath, monitor='accuracy', save_best_only=True, mode='max')\n",
        "\n",
        "# Train the model with validation \n",
        "unfrozen_resnet50_history = unfrozen_resnet50_model.fit( train_dataset, steps_per_epoch = train_steps,\n",
        "                   epochs = epochs,\n",
        "                   validation_data = valid_dataset,\n",
        "                   validation_steps = val_steps,\n",
        "                   callbacks=[mcp])"
      ],
      "execution_count": 0,
      "outputs": [
        {
          "output_type": "stream",
          "text": [
            "train steps: 24\n",
            "val steps: 3\n",
            "Train for 24 steps, validate for 3 steps\n",
            "Epoch 1/50\n",
            "24/24 [==============================] - 35s 1s/step - loss: 0.8504 - accuracy: 0.5938 - val_loss: 0.8378 - val_accuracy: 0.5889\n",
            "Epoch 2/50\n",
            "24/24 [==============================] - 22s 908ms/step - loss: 0.5938 - accuracy: 0.7378 - val_loss: 1.0445 - val_accuracy: 0.5194\n",
            "Epoch 3/50\n",
            "24/24 [==============================] - 23s 938ms/step - loss: 0.4857 - accuracy: 0.7826 - val_loss: 0.9133 - val_accuracy: 0.6111\n",
            "Epoch 4/50\n",
            "24/24 [==============================] - 22s 920ms/step - loss: 0.4489 - accuracy: 0.8087 - val_loss: 1.2711 - val_accuracy: 0.5361\n",
            "Epoch 5/50\n",
            "24/24 [==============================] - 23s 957ms/step - loss: 0.3677 - accuracy: 0.8278 - val_loss: 1.4709 - val_accuracy: 0.5250\n",
            "Epoch 6/50\n",
            "24/24 [==============================] - 23s 941ms/step - loss: 0.3333 - accuracy: 0.8493 - val_loss: 2.7141 - val_accuracy: 0.5222\n",
            "Epoch 7/50\n",
            "24/24 [==============================] - 24s 983ms/step - loss: 0.2590 - accuracy: 0.8833 - val_loss: 2.3793 - val_accuracy: 0.6028\n",
            "Epoch 8/50\n",
            "24/24 [==============================] - 23s 965ms/step - loss: 0.2451 - accuracy: 0.8955 - val_loss: 3.6562 - val_accuracy: 0.6111\n",
            "Epoch 9/50\n",
            "24/24 [==============================] - 23s 947ms/step - loss: 0.2116 - accuracy: 0.9101 - val_loss: 3.3074 - val_accuracy: 0.6583\n",
            "Epoch 10/50\n",
            "24/24 [==============================] - 22s 915ms/step - loss: 0.1544 - accuracy: 0.9424 - val_loss: 3.6862 - val_accuracy: 0.6444\n",
            "Epoch 11/50\n",
            "24/24 [==============================] - 22s 930ms/step - loss: 0.1581 - accuracy: 0.9438 - val_loss: 4.1432 - val_accuracy: 0.6111\n",
            "Epoch 12/50\n",
            "24/24 [==============================] - 23s 953ms/step - loss: 0.1332 - accuracy: 0.9542 - val_loss: 2.6503 - val_accuracy: 0.7194\n",
            "Epoch 13/50\n",
            "24/24 [==============================] - 23s 968ms/step - loss: 0.0962 - accuracy: 0.9688 - val_loss: 3.7881 - val_accuracy: 0.7222\n",
            "Epoch 14/50\n",
            "24/24 [==============================] - 20s 813ms/step - loss: 0.1209 - accuracy: 0.9618 - val_loss: 2.6273 - val_accuracy: 0.7806\n",
            "Epoch 15/50\n",
            "24/24 [==============================] - 25s 1s/step - loss: 0.0832 - accuracy: 0.9701 - val_loss: 2.9436 - val_accuracy: 0.7694\n",
            "Epoch 16/50\n",
            "24/24 [==============================] - 22s 911ms/step - loss: 0.0630 - accuracy: 0.9795 - val_loss: 2.9736 - val_accuracy: 0.7639\n",
            "Epoch 17/50\n",
            "24/24 [==============================] - 19s 809ms/step - loss: 0.0978 - accuracy: 0.9715 - val_loss: 6.5303 - val_accuracy: 0.7250\n",
            "Epoch 18/50\n",
            "24/24 [==============================] - 23s 979ms/step - loss: 0.0537 - accuracy: 0.9816 - val_loss: 3.6979 - val_accuracy: 0.7722\n",
            "Epoch 19/50\n",
            "24/24 [==============================] - 20s 815ms/step - loss: 0.0732 - accuracy: 0.9771 - val_loss: 4.0084 - val_accuracy: 0.7639\n",
            "Epoch 20/50\n",
            "24/24 [==============================] - 19s 807ms/step - loss: 0.0781 - accuracy: 0.9774 - val_loss: 3.5826 - val_accuracy: 0.7750\n",
            "Epoch 21/50\n",
            "24/24 [==============================] - 25s 1s/step - loss: 0.0499 - accuracy: 0.9840 - val_loss: 2.7229 - val_accuracy: 0.8000\n",
            "Epoch 22/50\n",
            "24/24 [==============================] - 19s 802ms/step - loss: 0.0764 - accuracy: 0.9830 - val_loss: 2.3025 - val_accuracy: 0.7861\n",
            "Epoch 23/50\n",
            "24/24 [==============================] - 19s 806ms/step - loss: 0.0640 - accuracy: 0.9823 - val_loss: 3.8893 - val_accuracy: 0.7722\n",
            "Epoch 24/50\n",
            "24/24 [==============================] - 19s 809ms/step - loss: 0.0517 - accuracy: 0.9830 - val_loss: 3.8980 - val_accuracy: 0.7361\n",
            "Epoch 25/50\n",
            "24/24 [==============================] - 24s 1s/step - loss: 0.0546 - accuracy: 0.9854 - val_loss: 3.1742 - val_accuracy: 0.7639\n",
            "Epoch 26/50\n",
            "24/24 [==============================] - 23s 952ms/step - loss: 0.0500 - accuracy: 0.9865 - val_loss: 3.1155 - val_accuracy: 0.7444\n",
            "Epoch 27/50\n",
            "24/24 [==============================] - 23s 960ms/step - loss: 0.0566 - accuracy: 0.9882 - val_loss: 5.3779 - val_accuracy: 0.7333\n",
            "Epoch 28/50\n",
            "24/24 [==============================] - 19s 808ms/step - loss: 0.0615 - accuracy: 0.9816 - val_loss: 3.6758 - val_accuracy: 0.7889\n",
            "Epoch 29/50\n",
            "24/24 [==============================] - 24s 986ms/step - loss: 0.0374 - accuracy: 0.9924 - val_loss: 4.6218 - val_accuracy: 0.6417\n",
            "Epoch 30/50\n",
            "24/24 [==============================] - 20s 813ms/step - loss: 0.0724 - accuracy: 0.9816 - val_loss: 2.7813 - val_accuracy: 0.7500\n",
            "Epoch 31/50\n",
            "24/24 [==============================] - 19s 803ms/step - loss: 0.0350 - accuracy: 0.9892 - val_loss: 2.7201 - val_accuracy: 0.7806\n",
            "Epoch 32/50\n",
            "24/24 [==============================] - 24s 1s/step - loss: 0.0235 - accuracy: 0.9944 - val_loss: 2.9353 - val_accuracy: 0.7833\n",
            "Epoch 33/50\n",
            "24/24 [==============================] - 20s 820ms/step - loss: 0.0696 - accuracy: 0.9861 - val_loss: 19.6561 - val_accuracy: 0.6417\n",
            "Epoch 34/50\n",
            "24/24 [==============================] - 19s 807ms/step - loss: 0.0538 - accuracy: 0.9840 - val_loss: 9.0255 - val_accuracy: 0.7111\n",
            "Epoch 35/50\n",
            "24/24 [==============================] - 19s 804ms/step - loss: 0.0350 - accuracy: 0.9899 - val_loss: 7.4731 - val_accuracy: 0.7389\n",
            "Epoch 36/50\n",
            "24/24 [==============================] - 19s 807ms/step - loss: 0.0633 - accuracy: 0.9826 - val_loss: 4.3393 - val_accuracy: 0.7583\n",
            "Epoch 37/50\n",
            "24/24 [==============================] - 19s 803ms/step - loss: 0.0363 - accuracy: 0.9878 - val_loss: 3.2904 - val_accuracy: 0.7917\n",
            "Epoch 38/50\n",
            "24/24 [==============================] - 19s 803ms/step - loss: 0.0272 - accuracy: 0.9924 - val_loss: 2.4177 - val_accuracy: 0.7611\n",
            "Epoch 39/50\n",
            "24/24 [==============================] - 19s 804ms/step - loss: 0.0377 - accuracy: 0.9910 - val_loss: 6.2406 - val_accuracy: 0.6750\n",
            "Epoch 40/50\n",
            "24/24 [==============================] - 19s 802ms/step - loss: 0.0393 - accuracy: 0.9903 - val_loss: 6.2826 - val_accuracy: 0.7361\n",
            "Epoch 41/50\n",
            "24/24 [==============================] - 19s 803ms/step - loss: 0.0457 - accuracy: 0.9844 - val_loss: 5.9472 - val_accuracy: 0.7722\n",
            "Epoch 42/50\n",
            "24/24 [==============================] - 19s 806ms/step - loss: 0.0327 - accuracy: 0.9899 - val_loss: 4.7371 - val_accuracy: 0.7528\n",
            "Epoch 43/50\n",
            "24/24 [==============================] - 20s 813ms/step - loss: 0.0522 - accuracy: 0.9892 - val_loss: 6.6595 - val_accuracy: 0.7417\n",
            "Epoch 44/50\n",
            "24/24 [==============================] - 19s 810ms/step - loss: 0.0453 - accuracy: 0.9944 - val_loss: 5.0746 - val_accuracy: 0.7639\n",
            "Epoch 45/50\n",
            "24/24 [==============================] - 24s 995ms/step - loss: 0.0127 - accuracy: 0.9976 - val_loss: 4.5448 - val_accuracy: 0.7583\n",
            "Epoch 46/50\n",
            "24/24 [==============================] - 19s 805ms/step - loss: 0.0619 - accuracy: 0.9858 - val_loss: 3.2562 - val_accuracy: 0.7500\n",
            "Epoch 47/50\n",
            "24/24 [==============================] - 19s 805ms/step - loss: 0.0210 - accuracy: 0.9924 - val_loss: 3.8760 - val_accuracy: 0.7500\n",
            "Epoch 48/50\n",
            "24/24 [==============================] - 19s 804ms/step - loss: 0.0270 - accuracy: 0.9910 - val_loss: 3.7003 - val_accuracy: 0.7000\n",
            "Epoch 49/50\n",
            "24/24 [==============================] - 20s 828ms/step - loss: 0.0315 - accuracy: 0.9896 - val_loss: 2.9347 - val_accuracy: 0.7389\n",
            "Epoch 50/50\n",
            "24/24 [==============================] - 19s 805ms/step - loss: 0.0317 - accuracy: 0.9906 - val_loss: 4.7332 - val_accuracy: 0.7500\n"
          ],
          "name": "stdout"
        }
      ]
    },
    {
      "cell_type": "markdown",
      "metadata": {
        "colab_type": "text",
        "id": "sRYx4CU26iY-"
      },
      "source": [
        "#### testing the model"
      ]
    },
    {
      "cell_type": "code",
      "metadata": {
        "colab_type": "code",
        "outputId": "58cfe1f4-5673-4957-f869-cb2267ca2edb",
        "id": "xQWRFzCy6iZN",
        "colab": {
          "base_uri": "https://localhost:8080/",
          "height": 50
        }
      },
      "source": [
        "test_steps = int(len(df_test)/batch_size)\n",
        "\n",
        "metrics = unfrozen_resnet50_model.evaluate(test_dataset,\n",
        "                   steps = test_steps)\n",
        "print(\"model accuracy:\",metrics[1])"
      ],
      "execution_count": 0,
      "outputs": [
        {
          "output_type": "stream",
          "text": [
            "3/3 [==============================] - 1s 399ms/step - loss: 3.8614 - accuracy: 0.7611\n",
            "model accuracy: 0.76111114\n"
          ],
          "name": "stdout"
        }
      ]
    },
    {
      "cell_type": "markdown",
      "metadata": {
        "colab_type": "text",
        "id": "fOyLO9B16OAD"
      },
      "source": [
        "#### plotting training"
      ]
    },
    {
      "cell_type": "code",
      "metadata": {
        "colab_type": "code",
        "outputId": "ee8cf5d9-8d67-4068-f72d-7e191b616c13",
        "id": "VnsayjlZ6OAM",
        "colab": {
          "base_uri": "https://localhost:8080/",
          "height": 573
        }
      },
      "source": [
        "plot_hist(unfrozen_resnet50_history, 'unfrozen_resnet50_RMSprop')"
      ],
      "execution_count": 0,
      "outputs": [
        {
          "output_type": "display_data",
          "data": {
            "image/png": "[encoded data removed]",
            "text/plain": [
              "<Figure size 432x288 with 1 Axes>"
            ]
          },
          "metadata": {
            "tags": []
          }
        },
        {
          "output_type": "display_data",
          "data": {
            "image/png": "[encoded data removed]",
            "text/plain": [
              "<Figure size 432x288 with 1 Axes>"
            ]
          },
          "metadata": {
            "tags": []
          }
        }
      ]
    },
    {
      "cell_type": "markdown",
      "metadata": {
        "id": "Ih3vofhBw90T",
        "colab_type": "text"
      },
      "source": [
        "#### saving the history of the fitting"
      ]
    },
    {
      "cell_type": "code",
      "metadata": {
        "id": "_IKqpLg2wbi0",
        "colab_type": "code",
        "outputId": "9487dc10-eb6d-42f8-860e-098a98c4d35d",
        "colab": {
          "base_uri": "https://localhost:8080/",
          "height": 34
        }
      },
      "source": [
        "with open(cwd + '/trainHistoryDict/unfrozen_resnet50_history_RMSprop.p', 'wb') as file_pi:\n",
        "        pickle.dump(unfrozen_resnet50_history.history, file_pi)\n",
        "print('history saved')"
      ],
      "execution_count": 0,
      "outputs": [
        {
          "output_type": "stream",
          "text": [
            "history saved\n"
          ],
          "name": "stdout"
        }
      ]
    },
    {
      "cell_type": "code",
      "metadata": {
        "id": "fkt8dlpe6r83",
        "colab_type": "code",
        "colab": {}
      },
      "source": [
        ""
      ],
      "execution_count": 0,
      "outputs": []
    }
  ]
}