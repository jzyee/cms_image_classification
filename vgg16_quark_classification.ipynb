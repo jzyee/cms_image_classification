{
  "nbformat": 4,
  "nbformat_minor": 0,
  "metadata": {
    "colab": {
      "name": "vgg16_quark_classification.ipynb",
      "provenance": [],
      "collapsed_sections": [],
      "toc_visible": true
    },
    "kernelspec": {
      "name": "python3",
      "display_name": "Python 3"
    },
    "accelerator": "GPU"
  },
  "cells": [
    {
      "cell_type": "markdown",
      "metadata": {
        "id": "PI5RDzjpY4fy",
        "colab_type": "text"
      },
      "source": [
        "#notebook setup"
      ]
    },
    {
      "cell_type": "code",
      "metadata": {
        "id": "nNc8dLtXlcuJ",
        "colab_type": "code",
        "outputId": "1e671fab-5f4e-4983-b899-7e54331564e8",
        "colab": {
          "base_uri": "https://localhost:8080/",
          "height": 199
        }
      },
      "source": [
        "!pip install google-auth --upgrade\n",
        "!pip install grpcio --upgrade"
      ],
      "execution_count": 0,
      "outputs": [
        {
          "output_type": "stream",
          "text": [
            "Requirement already up-to-date: google-auth in /usr/local/lib/python3.6/dist-packages (1.10.0)\n",
            "Requirement already satisfied, skipping upgrade: six>=1.9.0 in /usr/local/lib/python3.6/dist-packages (from google-auth) (1.12.0)\n",
            "Requirement already satisfied, skipping upgrade: pyasn1-modules>=0.2.1 in /usr/local/lib/python3.6/dist-packages (from google-auth) (0.2.7)\n",
            "Requirement already satisfied, skipping upgrade: cachetools<5.0,>=2.0.0 in /usr/local/lib/python3.6/dist-packages (from google-auth) (4.0.0)\n",
            "Requirement already satisfied, skipping upgrade: rsa<4.1,>=3.1.4 in /usr/local/lib/python3.6/dist-packages (from google-auth) (4.0)\n",
            "Requirement already satisfied, skipping upgrade: setuptools>=40.3.0 in /usr/local/lib/python3.6/dist-packages (from google-auth) (42.0.2)\n",
            "Requirement already satisfied, skipping upgrade: pyasn1<0.5.0,>=0.4.6 in /usr/local/lib/python3.6/dist-packages (from pyasn1-modules>=0.2.1->google-auth) (0.4.8)\n",
            "Requirement already up-to-date: grpcio in /usr/local/lib/python3.6/dist-packages (1.26.0)\n",
            "Requirement already satisfied, skipping upgrade: six>=1.5.2 in /usr/local/lib/python3.6/dist-packages (from grpcio) (1.12.0)\n"
          ],
          "name": "stdout"
        }
      ]
    },
    {
      "cell_type": "code",
      "metadata": {
        "id": "CH7ZObaXX2it",
        "colab_type": "code",
        "outputId": "92ecfca2-df34-402b-acb4-d4e500fac976",
        "colab": {
          "base_uri": "https://localhost:8080/",
          "height": 71
        }
      },
      "source": [
        "!pip install -qq tf-nightly-gpu-2.0-preview"
      ],
      "execution_count": 0,
      "outputs": [
        {
          "output_type": "stream",
          "text": [
            "\u001b[K     |████████████████████████████████| 395.5MB 36kB/s \n",
            "\u001b[K     |████████████████████████████████| 3.8MB 57.8MB/s \n",
            "\u001b[K     |████████████████████████████████| 450kB 50.6MB/s \n",
            "\u001b[?25h"
          ],
          "name": "stdout"
        }
      ]
    },
    {
      "cell_type": "code",
      "metadata": {
        "id": "FIXnBwudYLjl",
        "colab_type": "code",
        "outputId": "e61f5de6-8c6a-40bf-e7ac-be707a8693c4",
        "colab": {
          "base_uri": "https://localhost:8080/",
          "height": 53
        }
      },
      "source": [
        "import tensorflow as tf\n",
        "print(tf.__version__)\n",
        "device_name = tf.test.gpu_device_name()\n",
        "if device_name != '/device:GPU:0':\n",
        "  raise SystemError('GPU device not found')\n",
        "print('Found GPU at: {}'.format(device_name))"
      ],
      "execution_count": 0,
      "outputs": [
        {
          "output_type": "stream",
          "text": [
            "2.0.0-dev20191002\n",
            "Found GPU at: /device:GPU:0\n"
          ],
          "name": "stdout"
        }
      ]
    },
    {
      "cell_type": "code",
      "metadata": {
        "id": "ixmPfjVmYYQ-",
        "colab_type": "code",
        "colab": {}
      },
      "source": [
        "import sys\n",
        "try:\n",
        "    import ujson as json\n",
        "except ImportError:\n",
        "    try:\n",
        "        import simplejson as json\n",
        "    except ImportError:\n",
        "        import json\n",
        "\n",
        "import numpy as np\n",
        "import matplotlib.pyplot as plt\n",
        "import pandas as pd\n",
        "import scipy\n",
        "from sklearn.preprocessing import MinMaxScaler\n",
        "import pywt\n",
        "import os\n",
        "from PIL import Image\n",
        "# import tensorflow as tf\n",
        "from glob import glob\n",
        "\n",
        "from tensorflow.keras.preprocessing import image\n",
        "from tensorflow.keras.preprocessing.image import ImageDataGenerator\n",
        "\n",
        "from tensorflow.keras.models import Model,load_model,Sequential\n",
        "\n",
        "from tensorflow.keras.layers import Dense, GlobalAveragePooling2D, Dropout,Flatten, Input\n",
        "from tensorflow.keras import backend as K\n",
        "from tensorflow.keras.callbacks import EarlyStopping\n",
        "from tensorflow.keras.callbacks import ModelCheckpoint\n",
        "import pickle"
      ],
      "execution_count": 0,
      "outputs": []
    },
    {
      "cell_type": "code",
      "metadata": {
        "id": "8u0wv_jGZF-L",
        "colab_type": "code",
        "outputId": "04d61853-f25b-42ba-a609-e6d127da4e7d",
        "colab": {
          "base_uri": "https://localhost:8080/",
          "height": 127
        }
      },
      "source": [
        "from google.colab import drive\n",
        "drive.mount('/content/drive')"
      ],
      "execution_count": 0,
      "outputs": [
        {
          "output_type": "stream",
          "text": [
            "Go to this URL in a browser: https://accounts.google.com/o/oauth2/auth?client_id=947318989803-6bn6qk8qdgf4n4g3pfee6491hc0brc4i.apps.googleusercontent.com&redirect_uri=urn%3aietf%3awg%3aoauth%3a2.0%3aoob&response_type=code&scope=email%20https%3a%2f%2fwww.googleapis.com%2fauth%2fdocs.test%20https%3a%2f%2fwww.googleapis.com%2fauth%2fdrive%20https%3a%2f%2fwww.googleapis.com%2fauth%2fdrive.photos.readonly%20https%3a%2f%2fwww.googleapis.com%2fauth%2fpeopleapi.readonly\n",
            "\n",
            "Enter your authorization code:\n",
            "··········\n",
            "Mounted at /content/drive\n"
          ],
          "name": "stdout"
        }
      ]
    },
    {
      "cell_type": "code",
      "metadata": {
        "colab_type": "code",
        "id": "FPQdDzcn40Ts",
        "colab": {}
      },
      "source": [
        "\n",
        "def plot_hist(input_history, filename):\n",
        "  import os\n",
        "\n",
        "  folder = ['acc', 'loss']\n",
        "\n",
        "  directory = cwd + '/model_performance/'\n",
        "\n",
        "  for f in folder:\n",
        "    if not os.path.exists(directory + f):\n",
        "      os.makedirs(directory + f)\n",
        "\n",
        "  # summarize history for accuracy\n",
        "  # fig, ax = plt.subplots(1,2)\n",
        "  # plt.subplots_adjust(right=2)\n",
        "\n",
        "  plt.plot(input_history.history['accuracy'])\n",
        "  plt.plot(input_history.history['val_accuracy'])\n",
        "  plt.title('model accuracy')\n",
        "  plt.ylabel('accuracy')\n",
        "  plt.xlabel('epoch')\n",
        "  plt.legend(['train', 'test'], loc='upper left')\n",
        "\n",
        "  plt.savefig(cwd+'/model_performance/acc/' + filename + '.jpg')\n",
        "  plt.show()\n",
        "  \n",
        "  # summarize history for loss\n",
        "  plt.plot(input_history.history['loss'])\n",
        "  plt.plot(input_history.history['val_loss'])\n",
        "  plt.title('model loss')\n",
        "  plt.ylabel('loss')\n",
        "  plt.xlabel('epoch')\n",
        "  plt.legend(['train', 'test'], loc='upper left')\n",
        "\n",
        "  \n",
        "  plt.savefig(cwd+'/model_performance/loss/' + filename + '.jpg')"
      ],
      "execution_count": 0,
      "outputs": []
    },
    {
      "cell_type": "markdown",
      "metadata": {
        "id": "h6Pb6W4AZa0d",
        "colab_type": "text"
      },
      "source": [
        "# Data prep"
      ]
    },
    {
      "cell_type": "code",
      "metadata": {
        "id": "ZRZpm9JxZKEN",
        "colab_type": "code",
        "outputId": "5379eb5f-d24a-4d07-80b0-ccfcbbd99ced",
        "colab": {
          "base_uri": "https://localhost:8080/",
          "height": 53
        }
      },
      "source": [
        "%cd drive/'My Drive/CMS'\n",
        "!pwd"
      ],
      "execution_count": 0,
      "outputs": [
        {
          "output_type": "stream",
          "text": [
            "/content/drive/My Drive/CMS\n",
            "/content/drive/My Drive/CMS\n"
          ],
          "name": "stdout"
        }
      ]
    },
    {
      "cell_type": "code",
      "metadata": {
        "id": "j1MEckdzZ_-1",
        "colab_type": "code",
        "outputId": "b6e15e6f-5257-4b53-d9b4-52ee19dcbe6a",
        "colab": {
          "base_uri": "https://localhost:8080/",
          "height": 35
        }
      },
      "source": [
        "img_folder = '/filtered_images'\n",
        "!ls 'filtered_images'"
      ],
      "execution_count": 0,
      "outputs": [
        {
          "output_type": "stream",
          "text": [
            "0  1  2\n"
          ],
          "name": "stdout"
        }
      ]
    },
    {
      "cell_type": "markdown",
      "metadata": {
        "id": "fSJJ8GzogU_i",
        "colab_type": "text"
      },
      "source": [
        "class 0 : DYjets\n",
        "class 1 : TTjets\n",
        "class 2 : Wjets"
      ]
    },
    {
      "cell_type": "markdown",
      "metadata": {
        "id": "WK3uFq83Nqp7",
        "colab_type": "text"
      },
      "source": [
        "## Train val size setting"
      ]
    },
    {
      "cell_type": "code",
      "metadata": {
        "id": "hd5rd7_ZcoSR",
        "colab_type": "code",
        "outputId": "b21dca22-06b7-4e02-def9-180b4fc58587",
        "colab": {
          "base_uri": "https://localhost:8080/",
          "height": 197
        }
      },
      "source": [
        "cwd = os.getcwd()\n",
        "img_path = cwd + img_folder\n",
        "\n",
        "train_val_size = 1200\n",
        "\n",
        "df = {}\n",
        "data = []\n",
        "for idx, x in enumerate(os.listdir(img_path)):\n",
        "  if x.isdigit() and idx < 3:\n",
        "    for idx2, pic in enumerate(os.listdir(img_path+'/'+str(x))):\n",
        "      if idx2 < train_val_size:\n",
        "        data.append((img_path+ '/' + x + '/' + pic , x))\n",
        "\n",
        "df = pd.DataFrame(data, columns=['filename', 'class'])\n",
        "df['class'] = df['class'].astype(int)\n",
        "#shuffle\n",
        "df = df.sample(frac=1).reset_index(drop=True)\n",
        "\n",
        "print(df.head())\n",
        "print(len(df))\n",
        "df.dtypes"
      ],
      "execution_count": 0,
      "outputs": [
        {
          "output_type": "stream",
          "text": [
            "                                            filename  class\n",
            "0  /content/drive/My Drive/CMS/filtered_images/1/...      1\n",
            "1  /content/drive/My Drive/CMS/filtered_images/0/...      0\n",
            "2  /content/drive/My Drive/CMS/filtered_images/2/...      2\n",
            "3  /content/drive/My Drive/CMS/filtered_images/0/...      0\n",
            "4  /content/drive/My Drive/CMS/filtered_images/0/...      0\n",
            "3600\n"
          ],
          "name": "stdout"
        },
        {
          "output_type": "execute_result",
          "data": {
            "text/plain": [
              "filename    object\n",
              "class        int64\n",
              "dtype: object"
            ]
          },
          "metadata": {
            "tags": []
          },
          "execution_count": 43
        }
      ]
    },
    {
      "cell_type": "code",
      "metadata": {
        "id": "IF67c9pOdMix",
        "colab_type": "code",
        "outputId": "e30b8824-3644-4ee2-8b25-7446057a2da9",
        "colab": {
          "base_uri": "https://localhost:8080/",
          "height": 35
        }
      },
      "source": [
        "from collections import Counter\n",
        "cnt = Counter(df['class'])\n",
        "cnt"
      ],
      "execution_count": 0,
      "outputs": [
        {
          "output_type": "execute_result",
          "data": {
            "text/plain": [
              "Counter({0: 1200, 1: 1200, 2: 1200})"
            ]
          },
          "metadata": {
            "tags": []
          },
          "execution_count": 44
        }
      ]
    },
    {
      "cell_type": "code",
      "metadata": {
        "id": "rV8WCnbQhKx4",
        "colab_type": "code",
        "outputId": "a906b948-949b-44f3-8d99-088baf84f3c8",
        "colab": {
          "base_uri": "https://localhost:8080/",
          "height": 71
        }
      },
      "source": [
        "# Split into train and validation sets\n",
        "train_percentage = .8\n",
        "val_percentage = 0.1\n",
        "test_percentage = 0.1\n",
        "\n",
        "train_length = int(len(df) * train_percentage)\n",
        "df_train = df[:train_length]\n",
        "\n",
        "val_length = int(len(df) * val_percentage)\n",
        "df_val = df[train_length : train_length+val_length]\n",
        "\n",
        "test_length = int(len(df) * test_percentage)\n",
        "df_test = df[ train_length + val_length : ]\n",
        "\n",
        "# shuffle \n",
        "df_train = df_train.sample(frac=1).reset_index(drop=True)\n",
        "df_val = df_val.sample(frac=1).reset_index(drop=True)\n",
        "df_test = df_test.sample(frac=1).reset_index(drop=True)\n",
        "\n",
        "df_list = [df_train, df_val, df_test]\n",
        "for df_part in df_list:\n",
        "  print(len(df_part))"
      ],
      "execution_count": 0,
      "outputs": [
        {
          "output_type": "stream",
          "text": [
            "2880\n",
            "360\n",
            "360\n"
          ],
          "name": "stdout"
        }
      ]
    },
    {
      "cell_type": "markdown",
      "metadata": {
        "id": "65hltRStDyg2",
        "colab_type": "text"
      },
      "source": [
        "#### image parsing"
      ]
    },
    {
      "cell_type": "code",
      "metadata": {
        "id": "93QOO1_2h5_A",
        "colab_type": "code",
        "colab": {}
      },
      "source": [
        "# Reads an image from a file, decodes it into a tensor, and resizes it\n",
        "# to a fixed shape.\n",
        "img_rows, img_cols = 200,200\n",
        "num_classes = len(set(df['class']))\n",
        "batch_size = 120\n",
        "\n",
        "def _parse_function(filename, label):\n",
        "  image_string = tf.io.read_file(filename)\n",
        "  image_decoded = tf.image.decode_jpeg(image_string)\n",
        "  image_resized = tf.image.resize(image_decoded, [img_rows, img_cols])\n",
        "  image_resized = tf.ensure_shape(image_resized ,shape=(img_rows, img_cols,3))\n",
        "  label = tf.one_hot(label, num_classes)\n",
        "  return image_resized, label"
      ],
      "execution_count": 0,
      "outputs": []
    },
    {
      "cell_type": "code",
      "metadata": {
        "id": "b9GwWMh5iZtg",
        "colab_type": "code",
        "colab": {}
      },
      "source": [
        "train_dataset = tf.data.Dataset.from_tensor_slices((tf.cast(df_train['filename'].values, tf.string),\n",
        "                                                    tf.cast(df_train['class'].values, tf.int32) ))\n",
        "train_dataset = train_dataset.map(_parse_function)\n",
        "train_dataset = train_dataset.shuffle(5000)\n",
        "train_dataset = train_dataset.repeat()\n",
        "train_dataset = train_dataset.batch(batch_size, drop_remainder=True)"
      ],
      "execution_count": 0,
      "outputs": []
    },
    {
      "cell_type": "code",
      "metadata": {
        "id": "0MfsNRyiicIR",
        "colab_type": "code",
        "colab": {}
      },
      "source": [
        "valid_dataset = tf.data.Dataset.from_tensor_slices((tf.cast(df_val['filename'].values, tf.string),\n",
        "                                                    tf.cast(df_val['class'].values, tf.int32) ))\n",
        "valid_dataset = valid_dataset.map(_parse_function)\n",
        "valid_dataset = valid_dataset.shuffle(5000)\n",
        "valid_dataset = valid_dataset.repeat()\n",
        "valid_dataset = valid_dataset.batch(batch_size, drop_remainder=True)"
      ],
      "execution_count": 0,
      "outputs": []
    },
    {
      "cell_type": "code",
      "metadata": {
        "id": "amK7DVJDPTSF",
        "colab_type": "code",
        "colab": {}
      },
      "source": [
        "test_dataset = tf.data.Dataset.from_tensor_slices((tf.cast(df_test['filename'].values, tf.string),\n",
        "                                                    tf.cast(df_test['class'].values, tf.int32) ))\n",
        "test_dataset = test_dataset.map(_parse_function)\n",
        "test_dataset = test_dataset.shuffle(5000)\n",
        "test_dataset = test_dataset.repeat()\n",
        "test_dataset = test_dataset.batch(batch_size, drop_remainder=True)"
      ],
      "execution_count": 0,
      "outputs": []
    },
    {
      "cell_type": "code",
      "metadata": {
        "id": "0PsYgoDSieIA",
        "colab_type": "code",
        "outputId": "68f8e7de-2e29-400c-a5b8-20e6d9c5060b",
        "colab": {
          "base_uri": "https://localhost:8080/",
          "height": 35
        }
      },
      "source": [
        "train_dataset"
      ],
      "execution_count": 0,
      "outputs": [
        {
          "output_type": "execute_result",
          "data": {
            "text/plain": [
              "<BatchDataset shapes: ((120, 200, 200, 3), (120, 3)), types: (tf.float32, tf.float32)>"
            ]
          },
          "metadata": {
            "tags": []
          },
          "execution_count": 50
        }
      ]
    },
    {
      "cell_type": "markdown",
      "metadata": {
        "id": "YofamALVCrtt",
        "colab_type": "text"
      },
      "source": [
        "# VGG16"
      ]
    },
    {
      "cell_type": "markdown",
      "metadata": {
        "id": "nzO1JHNJ1D6I",
        "colab_type": "text"
      },
      "source": [
        "## Entirely frozen"
      ]
    },
    {
      "cell_type": "code",
      "metadata": {
        "id": "DTe9kVl2CuIT",
        "colab_type": "code",
        "colab": {}
      },
      "source": [
        "base_vgg16_0 = tf.keras.applications.VGG16(weights='imagenet', include_top=False, input_shape=(200, 200, 3),pooling=None)"
      ],
      "execution_count": 0,
      "outputs": []
    },
    {
      "cell_type": "code",
      "metadata": {
        "id": "vUTuVUnlC2-U",
        "colab_type": "code",
        "colab": {}
      },
      "source": [
        "# add a global spatial average pooling layer\n",
        "x = base_vgg16_0.output\n",
        "\n",
        "x = GlobalAveragePooling2D()(x)\n",
        "\n",
        "# let's add a fully-connected layer\n",
        "x = Dense(512, activation='relu')(x)\n",
        "\n",
        "x = Dropout(0.3)(x)\n",
        "\n",
        "# let's add a fully-connected layer\n",
        "x = Dense(512, activation='relu')(x)\n",
        "\n",
        "x = Dropout(0.3)(x)\n",
        "\n",
        "# let's add a fully-connected layer\n",
        "x = Dense(512, activation='relu')(x)\n",
        "\n",
        "x = Dropout(0.3)(x)\n",
        "\n",
        "# and a logits layer -- let's say we have 3 classes\n",
        "predictions = Dense(3, activation='softmax')(x)"
      ],
      "execution_count": 0,
      "outputs": []
    },
    {
      "cell_type": "code",
      "metadata": {
        "id": "Mm-iZAuZC7sV",
        "colab_type": "code",
        "colab": {}
      },
      "source": [
        "# this is the model we will train\n",
        "base_vgg16_model = Model(inputs=base_vgg16_0.input, outputs=predictions)"
      ],
      "execution_count": 0,
      "outputs": []
    },
    {
      "cell_type": "code",
      "metadata": {
        "id": "f99YWWgxC99k",
        "colab_type": "code",
        "outputId": "d48a8542-77fa-40c7-969b-0073526f865b",
        "colab": {
          "base_uri": "https://localhost:8080/",
          "height": 359
        }
      },
      "source": [
        "for layer in base_vgg16_0.layers:\n",
        "    print(layer.name)\n",
        "    layer.trainable = False"
      ],
      "execution_count": 0,
      "outputs": [
        {
          "output_type": "stream",
          "text": [
            "input_10\n",
            "block1_conv1\n",
            "block1_conv2\n",
            "block1_pool\n",
            "block2_conv1\n",
            "block2_conv2\n",
            "block2_pool\n",
            "block3_conv1\n",
            "block3_conv2\n",
            "block3_conv3\n",
            "block3_pool\n",
            "block4_conv1\n",
            "block4_conv2\n",
            "block4_conv3\n",
            "block4_pool\n",
            "block5_conv1\n",
            "block5_conv2\n",
            "block5_conv3\n",
            "block5_pool\n"
          ],
          "name": "stdout"
        }
      ]
    },
    {
      "cell_type": "code",
      "metadata": {
        "id": "y2P0-ZTaDAPW",
        "colab_type": "code",
        "outputId": "ecc3dad3-e44e-4813-dc76-ed3e652000c7",
        "colab": {
          "base_uri": "https://localhost:8080/",
          "height": 503
        }
      },
      "source": [
        "for layer in base_vgg16_model.layers:\n",
        "    print(layer.name,' Trainable =',layer.trainable)"
      ],
      "execution_count": 0,
      "outputs": [
        {
          "output_type": "stream",
          "text": [
            "input_10  Trainable = False\n",
            "block1_conv1  Trainable = False\n",
            "block1_conv2  Trainable = False\n",
            "block1_pool  Trainable = False\n",
            "block2_conv1  Trainable = False\n",
            "block2_conv2  Trainable = False\n",
            "block2_pool  Trainable = False\n",
            "block3_conv1  Trainable = False\n",
            "block3_conv2  Trainable = False\n",
            "block3_conv3  Trainable = False\n",
            "block3_pool  Trainable = False\n",
            "block4_conv1  Trainable = False\n",
            "block4_conv2  Trainable = False\n",
            "block4_conv3  Trainable = False\n",
            "block4_pool  Trainable = False\n",
            "block5_conv1  Trainable = False\n",
            "block5_conv2  Trainable = False\n",
            "block5_conv3  Trainable = False\n",
            "block5_pool  Trainable = False\n",
            "global_average_pooling2d_8  Trainable = True\n",
            "dense_32  Trainable = True\n",
            "dropout_24  Trainable = True\n",
            "dense_33  Trainable = True\n",
            "dropout_25  Trainable = True\n",
            "dense_34  Trainable = True\n",
            "dropout_26  Trainable = True\n",
            "dense_35  Trainable = True\n"
          ],
          "name": "stdout"
        }
      ]
    },
    {
      "cell_type": "code",
      "metadata": {
        "id": "wOYp6zEBDDF9",
        "colab_type": "code",
        "colab": {}
      },
      "source": [
        "opt = tf.keras.optimizers.Adam(lr=0.001)\n",
        "# compile the model (should be done *after* setting layers to non-trainable)\n",
        "base_vgg16_model.compile(optimizer=opt, loss='categorical_crossentropy',metrics=['accuracy'])"
      ],
      "execution_count": 0,
      "outputs": []
    },
    {
      "cell_type": "markdown",
      "metadata": {
        "id": "2_l1DM1tzvMq",
        "colab_type": "text"
      },
      "source": [
        "#### fitting the model"
      ]
    },
    {
      "cell_type": "code",
      "metadata": {
        "id": "ZilESfkQDI0b",
        "colab_type": "code",
        "outputId": "9a6cb60a-0790-4093-bbf2-8a84c16608c8",
        "colab": {
          "base_uri": "https://localhost:8080/",
          "height": 1000
        }
      },
      "source": [
        "train_steps = int(len(df_train)/batch_size) #total trains set / batch_size\n",
        "val_steps = int(len(df_val)/batch_size)\n",
        "\n",
        "print('train steps:',train_steps)\n",
        "print('val steps:',val_steps)\n",
        "epochs = 50\n",
        "\n",
        "#es = EarlyStopping(monitor='accuracy', mode='max', verbose=1, patience=15)\n",
        "\n",
        "base_vgg16_model_filepath = 'entirely_frozen_vgg16.h5'\n",
        "mcp = ModelCheckpoint(base_vgg16_model_filepath, monitor='accuracy', save_best_only=True, mode='max')\n",
        "\n",
        "### Train the model with validation \n",
        "entirely_frozen_vgg16_history = base_vgg16_model.fit( train_dataset, steps_per_epoch = train_steps,\n",
        "                   epochs = epochs,\n",
        "                   validation_data = valid_dataset,\n",
        "                   validation_steps = val_steps,\n",
        "                   callbacks= [#es, \n",
        "                               mcp])"
      ],
      "execution_count": 0,
      "outputs": [
        {
          "output_type": "stream",
          "text": [
            "train steps: 24\n",
            "val steps: 3\n",
            "Train for 24 steps, validate for 3 steps\n",
            "Epoch 1/50\n",
            "24/24 [==============================] - 15s 640ms/step - loss: 1.4503 - accuracy: 0.5399 - val_loss: 0.6292 - val_accuracy: 0.6417\n",
            "Epoch 2/50\n",
            "24/24 [==============================] - 13s 538ms/step - loss: 0.6619 - accuracy: 0.6872 - val_loss: 0.6105 - val_accuracy: 0.6972\n",
            "Epoch 3/50\n",
            "24/24 [==============================] - 13s 532ms/step - loss: 0.6100 - accuracy: 0.7198 - val_loss: 0.5564 - val_accuracy: 0.7472\n",
            "Epoch 4/50\n",
            "24/24 [==============================] - 13s 535ms/step - loss: 0.5728 - accuracy: 0.7448 - val_loss: 0.5370 - val_accuracy: 0.7528\n",
            "Epoch 5/50\n",
            "24/24 [==============================] - 14s 572ms/step - loss: 0.5495 - accuracy: 0.7576 - val_loss: 0.5086 - val_accuracy: 0.7667\n",
            "Epoch 6/50\n",
            "24/24 [==============================] - 14s 591ms/step - loss: 0.5425 - accuracy: 0.7646 - val_loss: 0.5063 - val_accuracy: 0.7778\n",
            "Epoch 7/50\n",
            "24/24 [==============================] - 13s 538ms/step - loss: 0.5147 - accuracy: 0.7736 - val_loss: 0.4976 - val_accuracy: 0.7833\n",
            "Epoch 8/50\n",
            "24/24 [==============================] - 14s 569ms/step - loss: 0.5007 - accuracy: 0.7795 - val_loss: 0.4978 - val_accuracy: 0.7694\n",
            "Epoch 9/50\n",
            "24/24 [==============================] - 13s 521ms/step - loss: 0.5058 - accuracy: 0.7740 - val_loss: 0.4951 - val_accuracy: 0.7694\n",
            "Epoch 10/50\n",
            "24/24 [==============================] - 12s 519ms/step - loss: 0.4898 - accuracy: 0.7778 - val_loss: 0.5023 - val_accuracy: 0.7639\n",
            "Epoch 11/50\n",
            "24/24 [==============================] - 13s 561ms/step - loss: 0.4794 - accuracy: 0.7941 - val_loss: 0.4962 - val_accuracy: 0.7611\n",
            "Epoch 12/50\n",
            "24/24 [==============================] - 13s 522ms/step - loss: 0.4763 - accuracy: 0.7927 - val_loss: 0.4869 - val_accuracy: 0.7694\n",
            "Epoch 13/50\n",
            "24/24 [==============================] - 12s 518ms/step - loss: 0.4675 - accuracy: 0.7934 - val_loss: 0.5014 - val_accuracy: 0.7500\n",
            "Epoch 14/50\n",
            "24/24 [==============================] - 14s 565ms/step - loss: 0.4697 - accuracy: 0.7951 - val_loss: 0.4943 - val_accuracy: 0.7500\n",
            "Epoch 15/50\n",
            "24/24 [==============================] - 14s 566ms/step - loss: 0.4517 - accuracy: 0.7979 - val_loss: 0.4815 - val_accuracy: 0.7611\n",
            "Epoch 16/50\n",
            "24/24 [==============================] - 13s 558ms/step - loss: 0.4459 - accuracy: 0.8007 - val_loss: 0.4772 - val_accuracy: 0.7694\n",
            "Epoch 17/50\n",
            "24/24 [==============================] - 13s 530ms/step - loss: 0.4257 - accuracy: 0.8115 - val_loss: 0.4899 - val_accuracy: 0.7722\n",
            "Epoch 18/50\n",
            "24/24 [==============================] - 13s 531ms/step - loss: 0.4180 - accuracy: 0.8122 - val_loss: 0.5158 - val_accuracy: 0.7583\n",
            "Epoch 19/50\n",
            "24/24 [==============================] - 12s 519ms/step - loss: 0.4419 - accuracy: 0.7955 - val_loss: 0.5037 - val_accuracy: 0.7639\n",
            "Epoch 20/50\n",
            "24/24 [==============================] - 12s 517ms/step - loss: 0.4190 - accuracy: 0.8073 - val_loss: 0.4756 - val_accuracy: 0.7833\n",
            "Epoch 21/50\n",
            "24/24 [==============================] - 12s 517ms/step - loss: 0.4061 - accuracy: 0.8118 - val_loss: 0.4984 - val_accuracy: 0.7778\n",
            "Epoch 22/50\n",
            "24/24 [==============================] - 14s 565ms/step - loss: 0.4010 - accuracy: 0.8156 - val_loss: 0.4818 - val_accuracy: 0.7889\n",
            "Epoch 23/50\n",
            "24/24 [==============================] - 12s 518ms/step - loss: 0.3959 - accuracy: 0.8146 - val_loss: 0.5096 - val_accuracy: 0.7583\n",
            "Epoch 24/50\n",
            "24/24 [==============================] - 13s 557ms/step - loss: 0.3997 - accuracy: 0.8163 - val_loss: 0.4892 - val_accuracy: 0.7944\n",
            "Epoch 25/50\n",
            "24/24 [==============================] - 13s 527ms/step - loss: 0.3798 - accuracy: 0.8288 - val_loss: 0.4718 - val_accuracy: 0.7833\n",
            "Epoch 26/50\n",
            "24/24 [==============================] - 13s 521ms/step - loss: 0.3749 - accuracy: 0.8257 - val_loss: 0.5059 - val_accuracy: 0.7444\n",
            "Epoch 27/50\n",
            "24/24 [==============================] - 13s 562ms/step - loss: 0.3620 - accuracy: 0.8375 - val_loss: 0.4901 - val_accuracy: 0.7722\n",
            "Epoch 28/50\n",
            "24/24 [==============================] - 13s 530ms/step - loss: 0.3500 - accuracy: 0.8424 - val_loss: 0.5025 - val_accuracy: 0.7667\n",
            "Epoch 29/50\n",
            "24/24 [==============================] - 13s 523ms/step - loss: 0.3641 - accuracy: 0.8260 - val_loss: 0.4887 - val_accuracy: 0.7806\n",
            "Epoch 30/50\n",
            "24/24 [==============================] - 13s 535ms/step - loss: 0.3602 - accuracy: 0.8274 - val_loss: 0.4954 - val_accuracy: 0.7611\n",
            "Epoch 31/50\n",
            "24/24 [==============================] - 12s 512ms/step - loss: 0.3441 - accuracy: 0.8410 - val_loss: 0.4968 - val_accuracy: 0.7917\n",
            "Epoch 32/50\n",
            "24/24 [==============================] - 12s 512ms/step - loss: 0.3534 - accuracy: 0.8285 - val_loss: 0.4879 - val_accuracy: 0.7611\n",
            "Epoch 33/50\n",
            "24/24 [==============================] - 12s 518ms/step - loss: 0.3410 - accuracy: 0.8424 - val_loss: 0.4725 - val_accuracy: 0.7722\n",
            "Epoch 34/50\n",
            "24/24 [==============================] - 13s 556ms/step - loss: 0.3166 - accuracy: 0.8601 - val_loss: 0.5210 - val_accuracy: 0.7528\n",
            "Epoch 35/50\n",
            "24/24 [==============================] - 12s 518ms/step - loss: 0.3205 - accuracy: 0.8431 - val_loss: 0.5658 - val_accuracy: 0.7611\n",
            "Epoch 36/50\n",
            "24/24 [==============================] - 12s 513ms/step - loss: 0.3248 - accuracy: 0.8427 - val_loss: 0.5042 - val_accuracy: 0.7583\n",
            "Epoch 37/50\n",
            "24/24 [==============================] - 12s 513ms/step - loss: 0.3094 - accuracy: 0.8542 - val_loss: 0.5066 - val_accuracy: 0.7917\n",
            "Epoch 38/50\n",
            "24/24 [==============================] - 12s 519ms/step - loss: 0.3133 - accuracy: 0.8538 - val_loss: 0.5595 - val_accuracy: 0.7639\n",
            "Epoch 39/50\n",
            "24/24 [==============================] - 13s 560ms/step - loss: 0.3028 - accuracy: 0.8622 - val_loss: 0.5166 - val_accuracy: 0.7556\n",
            "Epoch 40/50\n",
            "24/24 [==============================] - 12s 514ms/step - loss: 0.3261 - accuracy: 0.8427 - val_loss: 0.4957 - val_accuracy: 0.7833\n",
            "Epoch 41/50\n",
            "24/24 [==============================] - 12s 512ms/step - loss: 0.2979 - accuracy: 0.8618 - val_loss: 0.4878 - val_accuracy: 0.7583\n",
            "Epoch 42/50\n",
            "24/24 [==============================] - 12s 510ms/step - loss: 0.3116 - accuracy: 0.8524 - val_loss: 0.5202 - val_accuracy: 0.7639\n",
            "Epoch 43/50\n",
            "24/24 [==============================] - 12s 515ms/step - loss: 0.2989 - accuracy: 0.8569 - val_loss: 0.5721 - val_accuracy: 0.7694\n",
            "Epoch 44/50\n",
            "24/24 [==============================] - 13s 521ms/step - loss: 0.2986 - accuracy: 0.8611 - val_loss: 0.5287 - val_accuracy: 0.7472\n",
            "Epoch 45/50\n",
            "24/24 [==============================] - 13s 552ms/step - loss: 0.2821 - accuracy: 0.8646 - val_loss: 0.5508 - val_accuracy: 0.7667\n",
            "Epoch 46/50\n",
            "24/24 [==============================] - 13s 521ms/step - loss: 0.2937 - accuracy: 0.8646 - val_loss: 0.5343 - val_accuracy: 0.7750\n",
            "Epoch 47/50\n",
            "24/24 [==============================] - 13s 549ms/step - loss: 0.2784 - accuracy: 0.8656 - val_loss: 0.5430 - val_accuracy: 0.7722\n",
            "Epoch 48/50\n",
            "24/24 [==============================] - 13s 552ms/step - loss: 0.2902 - accuracy: 0.8677 - val_loss: 0.5382 - val_accuracy: 0.7722\n",
            "Epoch 49/50\n",
            "24/24 [==============================] - 13s 526ms/step - loss: 0.2710 - accuracy: 0.8698 - val_loss: 0.5710 - val_accuracy: 0.7611\n",
            "Epoch 50/50\n",
            "24/24 [==============================] - 12s 513ms/step - loss: 0.2834 - accuracy: 0.8677 - val_loss: 0.5351 - val_accuracy: 0.7639\n"
          ],
          "name": "stdout"
        }
      ]
    },
    {
      "cell_type": "markdown",
      "metadata": {
        "id": "1DEF-C99Vlv0",
        "colab_type": "text"
      },
      "source": [
        "#### testing the model"
      ]
    },
    {
      "cell_type": "code",
      "metadata": {
        "id": "9ExLpzmeQaS_",
        "colab_type": "code",
        "outputId": "c5c4060c-dbc9-4e38-c35d-4ef60056e416",
        "colab": {
          "base_uri": "https://localhost:8080/",
          "height": 53
        }
      },
      "source": [
        "test_steps = int(len(df_test)/batch_size)\n",
        "\n",
        "metrics = base_vgg16_model.evaluate(test_dataset,\n",
        "                   steps = test_steps)\n",
        "print(\"model accuracy:\",metrics[1])"
      ],
      "execution_count": 0,
      "outputs": [
        {
          "output_type": "stream",
          "text": [
            "3/3 [==============================] - 1s 470ms/step - loss: 0.7046 - accuracy: 0.7556\n",
            "model accuracy: 0.75555557\n"
          ],
          "name": "stdout"
        }
      ]
    },
    {
      "cell_type": "markdown",
      "metadata": {
        "id": "hBL8c11yrqqX",
        "colab_type": "text"
      },
      "source": [
        "#### plotting training"
      ]
    },
    {
      "cell_type": "code",
      "metadata": {
        "id": "K8LjQA1mh1vN",
        "colab_type": "code",
        "outputId": "0973e8b7-a4a7-4b92-e6ab-a04645a4e4f0",
        "colab": {
          "base_uri": "https://localhost:8080/",
          "height": 573
        }
      },
      "source": [
        "plot_hist(entirely_frozen_vgg16_history, 'entirely_frozen_vgg16')"
      ],
      "execution_count": 0,
      "outputs": [
        {
          "output_type": "display_data",
          "data": {
            "image/png": "[encoded data removed]",
            "text/plain": [
              "<Figure size 432x288 with 1 Axes>"
            ]
          },
          "metadata": {
            "tags": []
          }
        },
        {
          "output_type": "display_data",
          "data": {
            "image/png": "[encoded data removed]",
            "text/plain": [
              "<Figure size 432x288 with 1 Axes>"
            ]
          },
          "metadata": {
            "tags": []
          }
        }
      ]
    },
    {
      "cell_type": "markdown",
      "metadata": {
        "id": "m_ZrJLmlg2p1",
        "colab_type": "text"
      },
      "source": [
        "#### saving the history of the fitting"
      ]
    },
    {
      "cell_type": "code",
      "metadata": {
        "id": "MtsOK4BTguPo",
        "colab_type": "code",
        "outputId": "25c64c38-fb72-4366-8b4a-ae610006567b",
        "colab": {
          "base_uri": "https://localhost:8080/",
          "height": 35
        }
      },
      "source": [
        "\n",
        "with open(cwd + '/trainHistoryDict/entirely_frozen_vgg16_history.p', 'wb') as file_pi:\n",
        "        pickle.dump(entirely_frozen_vgg16_history.history, file_pi)\n",
        "print('history saved')"
      ],
      "execution_count": 0,
      "outputs": [
        {
          "output_type": "stream",
          "text": [
            "history saved\n"
          ],
          "name": "stdout"
        }
      ]
    },
    {
      "cell_type": "markdown",
      "metadata": {
        "id": "OCGpPP-l1J7_",
        "colab_type": "text"
      },
      "source": [
        "## Few layers unfrozen"
      ]
    },
    {
      "cell_type": "markdown",
      "metadata": {
        "id": "9NTvh7-AmF2h",
        "colab_type": "text"
      },
      "source": [
        "#### loading model"
      ]
    },
    {
      "cell_type": "code",
      "metadata": {
        "id": "kPl0Png5yCQd",
        "colab_type": "code",
        "colab": {}
      },
      "source": [
        "base_vgg16_1 = tf.keras.applications.VGG16(weights='imagenet', include_top=False, input_shape=(200, 200, 3),pooling=None)"
      ],
      "execution_count": 0,
      "outputs": []
    },
    {
      "cell_type": "markdown",
      "metadata": {
        "id": "qOpVXZpbmKFX",
        "colab_type": "text"
      },
      "source": [
        "#### modifying slightly"
      ]
    },
    {
      "cell_type": "code",
      "metadata": {
        "id": "Z08msq2tyDc4",
        "colab_type": "code",
        "colab": {}
      },
      "source": [
        "# add a global spatial average pooling layer\n",
        "x = base_vgg16_1.output\n",
        "\n",
        "x = GlobalAveragePooling2D()(x)\n",
        "\n",
        "# let's add a fully-connected layer\n",
        "x = Dense(512, activation='relu')(x)\n",
        "\n",
        "x = Dropout(0.3)(x)\n",
        "\n",
        "# let's add a fully-connected layer\n",
        "x = Dense(512, activation='relu')(x)\n",
        "\n",
        "x = Dropout(0.3)(x)\n",
        "\n",
        "# let's add a fully-connected layer\n",
        "x = Dense(512, activation='relu')(x)\n",
        "\n",
        "x = Dropout(0.3)(x)\n",
        "\n",
        "# and a logits layer -- let's say we have 3 classes\n",
        "predictions = Dense(3, activation='softmax')(x)"
      ],
      "execution_count": 0,
      "outputs": []
    },
    {
      "cell_type": "markdown",
      "metadata": {
        "id": "f0ECvPigmTNh",
        "colab_type": "text"
      },
      "source": [
        "#### creating model object"
      ]
    },
    {
      "cell_type": "code",
      "metadata": {
        "id": "03eslAo6mAYJ",
        "colab_type": "code",
        "colab": {}
      },
      "source": [
        "# this is the model we will train\n",
        "few_unfrozen_vgg16_model = Model(inputs=base_vgg16_1.input, outputs=predictions)"
      ],
      "execution_count": 0,
      "outputs": []
    },
    {
      "cell_type": "code",
      "metadata": {
        "id": "fQ5uYuz7l2aQ",
        "colab_type": "code",
        "outputId": "c086da94-03dc-4f3c-cdc5-200d59d38604",
        "colab": {
          "base_uri": "https://localhost:8080/",
          "height": 359
        }
      },
      "source": [
        "for layer in base_vgg16_1.layers:\n",
        "    print(layer.name)\n",
        "    layer.trainable = False"
      ],
      "execution_count": 0,
      "outputs": [
        {
          "output_type": "stream",
          "text": [
            "input_8\n",
            "block1_conv1\n",
            "block1_conv2\n",
            "block1_pool\n",
            "block2_conv1\n",
            "block2_conv2\n",
            "block2_pool\n",
            "block3_conv1\n",
            "block3_conv2\n",
            "block3_conv3\n",
            "block3_pool\n",
            "block4_conv1\n",
            "block4_conv2\n",
            "block4_conv3\n",
            "block4_pool\n",
            "block5_conv1\n",
            "block5_conv2\n",
            "block5_conv3\n",
            "block5_pool\n"
          ],
          "name": "stdout"
        }
      ]
    },
    {
      "cell_type": "code",
      "metadata": {
        "id": "ReBRqAd6SFnC",
        "colab_type": "code",
        "outputId": "2caa3520-77e7-49ba-c5f8-4a2f9c054a97",
        "colab": {
          "base_uri": "https://localhost:8080/",
          "height": 35
        }
      },
      "source": [
        "trainable_count = 0\n",
        "per_layers = 0.2\n",
        "num_model_layers = len(base_vgg16_1.layers)\n",
        "starting_layer = int( num_model_layers * (1 - per_layers))\n",
        "true_per_trained = (num_model_layers - starting_layer) / num_model_layers\n",
        "\n",
        "\n",
        "print('true percentage of model trainable:', true_per_trained)"
      ],
      "execution_count": 0,
      "outputs": [
        {
          "output_type": "stream",
          "text": [
            "true percentage of model trainable: 0.21052631578947367\n"
          ],
          "name": "stdout"
        }
      ]
    },
    {
      "cell_type": "code",
      "metadata": {
        "id": "whAJkq6qDOfk",
        "colab_type": "code",
        "colab": {}
      },
      "source": [
        "\n",
        "set_trainable = False\n",
        "for idx, layer in enumerate(base_vgg16_1.layers):\n",
        "    if idx == starting_layer:\n",
        "        set_trainable = True\n",
        "    if set_trainable:\n",
        "        layer.trainable = True\n",
        "        trainable_count += 1\n",
        "    else:\n",
        "        layer.trainable = False\n"
      ],
      "execution_count": 0,
      "outputs": []
    },
    {
      "cell_type": "code",
      "metadata": {
        "id": "hHCq5zulG67p",
        "colab_type": "code",
        "outputId": "5cdb3475-fa0a-49b4-da69-df7faa9d0b25",
        "colab": {
          "base_uri": "https://localhost:8080/",
          "height": 503
        }
      },
      "source": [
        "for layer in few_unfrozen_vgg16_model.layers:\n",
        "    print(layer.name,layer.trainable)"
      ],
      "execution_count": 0,
      "outputs": [
        {
          "output_type": "stream",
          "text": [
            "input_8 False\n",
            "block1_conv1 False\n",
            "block1_conv2 False\n",
            "block1_pool False\n",
            "block2_conv1 False\n",
            "block2_conv2 False\n",
            "block2_pool False\n",
            "block3_conv1 False\n",
            "block3_conv2 False\n",
            "block3_conv3 False\n",
            "block3_pool False\n",
            "block4_conv1 False\n",
            "block4_conv2 False\n",
            "block4_conv3 False\n",
            "block4_pool False\n",
            "block5_conv1 True\n",
            "block5_conv2 True\n",
            "block5_conv3 True\n",
            "block5_pool True\n",
            "global_average_pooling2d_6 True\n",
            "dense_24 True\n",
            "dropout_18 True\n",
            "dense_25 True\n",
            "dropout_19 True\n",
            "dense_26 True\n",
            "dropout_20 True\n",
            "dense_27 True\n"
          ],
          "name": "stdout"
        }
      ]
    },
    {
      "cell_type": "code",
      "metadata": {
        "id": "vfOrj3UHnqkg",
        "colab_type": "code",
        "colab": {}
      },
      "source": [
        "opt = tf.keras.optimizers.Adam(lr=0.001)\n",
        "# compile the model (should be done *after* setting layers to non-trainable)\n",
        "few_unfrozen_vgg16_model.compile(optimizer=opt, loss='categorical_crossentropy',metrics=['accuracy'])"
      ],
      "execution_count": 0,
      "outputs": []
    },
    {
      "cell_type": "markdown",
      "metadata": {
        "id": "ZmgEucTcyPqk",
        "colab_type": "text"
      },
      "source": [
        "#### fitting the model"
      ]
    },
    {
      "cell_type": "code",
      "metadata": {
        "id": "DZuKehrVG9L3",
        "colab_type": "code",
        "outputId": "575ec885-787d-429d-c722-928566432241",
        "colab": {
          "base_uri": "https://localhost:8080/",
          "height": 1000
        }
      },
      "source": [
        "train_steps = int(len(df_train)/batch_size) #total trains set / batch_size\n",
        "val_steps = int(len(df_val)/batch_size)\n",
        "\n",
        "print('train steps:',train_steps)\n",
        "print('val steps:',val_steps)\n",
        "\n",
        "epochs = 50\n",
        "\n",
        "\n",
        "model_filepath = 'few_unfrozen_vgg16.h5'\n",
        "mcp = ModelCheckpoint(model_filepath, monitor='accuracy', save_best_only=True, mode='max')\n",
        "\n",
        "# Train the model with validation \n",
        "few_unfrozen_vgg16_history = few_unfrozen_vgg16_model.fit( train_dataset, steps_per_epoch = train_steps,\n",
        "                   epochs = epochs,\n",
        "                   validation_data = valid_dataset,\n",
        "                   validation_steps = val_steps,\n",
        "                   callbacks=[mcp])"
      ],
      "execution_count": 0,
      "outputs": [
        {
          "output_type": "stream",
          "text": [
            "train steps: 24\n",
            "val steps: 3\n",
            "Train for 24 steps, validate for 3 steps\n",
            "Epoch 1/50\n",
            "24/24 [==============================] - 15s 634ms/step - loss: 1.6951 - accuracy: 0.3535 - val_loss: 1.0974 - val_accuracy: 0.3167\n",
            "Epoch 2/50\n",
            "24/24 [==============================] - 13s 540ms/step - loss: 1.0996 - accuracy: 0.3347 - val_loss: 1.0982 - val_accuracy: 0.3528\n",
            "Epoch 3/50\n",
            "24/24 [==============================] - 13s 537ms/step - loss: 1.1016 - accuracy: 0.3389 - val_loss: 1.0984 - val_accuracy: 0.3528\n",
            "Epoch 4/50\n",
            "24/24 [==============================] - 13s 536ms/step - loss: 1.0988 - accuracy: 0.3330 - val_loss: 1.0983 - val_accuracy: 0.3528\n",
            "Epoch 5/50\n",
            "24/24 [==============================] - 13s 536ms/step - loss: 1.0988 - accuracy: 0.3278 - val_loss: 1.0986 - val_accuracy: 0.3528\n",
            "Epoch 6/50\n",
            "24/24 [==============================] - 13s 541ms/step - loss: 1.0987 - accuracy: 0.3306 - val_loss: 1.0985 - val_accuracy: 0.3528\n",
            "Epoch 7/50\n",
            "24/24 [==============================] - 13s 539ms/step - loss: 1.0987 - accuracy: 0.3257 - val_loss: 1.0988 - val_accuracy: 0.3167\n",
            "Epoch 8/50\n",
            "24/24 [==============================] - 13s 560ms/step - loss: 1.0986 - accuracy: 0.3257 - val_loss: 1.0988 - val_accuracy: 0.3167\n",
            "Epoch 9/50\n",
            "24/24 [==============================] - 13s 538ms/step - loss: 1.0988 - accuracy: 0.3299 - val_loss: 1.0989 - val_accuracy: 0.3167\n",
            "Epoch 10/50\n",
            "24/24 [==============================] - 13s 535ms/step - loss: 1.0986 - accuracy: 0.3472 - val_loss: 1.0986 - val_accuracy: 0.3167\n",
            "Epoch 11/50\n",
            "24/24 [==============================] - 13s 536ms/step - loss: 1.0988 - accuracy: 0.3299 - val_loss: 1.0986 - val_accuracy: 0.3528\n",
            "Epoch 12/50\n",
            "24/24 [==============================] - 13s 538ms/step - loss: 1.0988 - accuracy: 0.3174 - val_loss: 1.0988 - val_accuracy: 0.3167\n",
            "Epoch 13/50\n",
            "24/24 [==============================] - 13s 533ms/step - loss: 1.0986 - accuracy: 0.3292 - val_loss: 1.0988 - val_accuracy: 0.3167\n",
            "Epoch 14/50\n",
            "24/24 [==============================] - 13s 533ms/step - loss: 1.0986 - accuracy: 0.3344 - val_loss: 1.0991 - val_accuracy: 0.3167\n",
            "Epoch 15/50\n",
            "24/24 [==============================] - 13s 537ms/step - loss: 1.0989 - accuracy: 0.3361 - val_loss: 1.0989 - val_accuracy: 0.3167\n",
            "Epoch 16/50\n",
            "24/24 [==============================] - 13s 532ms/step - loss: 1.0986 - accuracy: 0.3413 - val_loss: 1.0989 - val_accuracy: 0.3167\n",
            "Epoch 17/50\n",
            "24/24 [==============================] - 13s 533ms/step - loss: 1.0989 - accuracy: 0.3368 - val_loss: 1.0988 - val_accuracy: 0.3167\n",
            "Epoch 18/50\n",
            "24/24 [==============================] - 13s 539ms/step - loss: 1.0987 - accuracy: 0.3351 - val_loss: 1.0988 - val_accuracy: 0.3167\n",
            "Epoch 19/50\n",
            "24/24 [==============================] - 13s 535ms/step - loss: 1.0988 - accuracy: 0.3313 - val_loss: 1.0987 - val_accuracy: 0.3167\n",
            "Epoch 20/50\n",
            "24/24 [==============================] - 13s 534ms/step - loss: 1.0986 - accuracy: 0.3465 - val_loss: 1.0989 - val_accuracy: 0.3167\n",
            "Epoch 21/50\n",
            "24/24 [==============================] - 13s 531ms/step - loss: 1.0988 - accuracy: 0.3389 - val_loss: 1.0989 - val_accuracy: 0.3167\n",
            "Epoch 22/50\n",
            "24/24 [==============================] - 13s 532ms/step - loss: 1.0987 - accuracy: 0.3368 - val_loss: 1.0987 - val_accuracy: 0.3167\n",
            "Epoch 23/50\n",
            "24/24 [==============================] - 13s 530ms/step - loss: 1.0990 - accuracy: 0.3201 - val_loss: 1.0986 - val_accuracy: 0.3306\n",
            "Epoch 24/50\n",
            "24/24 [==============================] - 13s 537ms/step - loss: 1.0988 - accuracy: 0.3326 - val_loss: 1.0991 - val_accuracy: 0.3167\n",
            "Epoch 25/50\n",
            "24/24 [==============================] - 13s 535ms/step - loss: 1.0988 - accuracy: 0.3274 - val_loss: 1.0985 - val_accuracy: 0.3528\n",
            "Epoch 26/50\n",
            "24/24 [==============================] - 13s 534ms/step - loss: 1.0989 - accuracy: 0.3208 - val_loss: 1.0992 - val_accuracy: 0.3167\n",
            "Epoch 27/50\n",
            "24/24 [==============================] - 13s 529ms/step - loss: 1.0988 - accuracy: 0.3347 - val_loss: 1.0988 - val_accuracy: 0.3167\n",
            "Epoch 28/50\n",
            "24/24 [==============================] - 13s 531ms/step - loss: 1.0986 - accuracy: 0.3323 - val_loss: 1.0987 - val_accuracy: 0.3167\n",
            "Epoch 29/50\n",
            "24/24 [==============================] - 13s 531ms/step - loss: 1.0988 - accuracy: 0.3309 - val_loss: 1.0990 - val_accuracy: 0.3167\n",
            "Epoch 30/50\n",
            "24/24 [==============================] - 13s 529ms/step - loss: 1.0989 - accuracy: 0.3333 - val_loss: 1.0990 - val_accuracy: 0.3167\n",
            "Epoch 31/50\n",
            "24/24 [==============================] - 13s 535ms/step - loss: 1.0987 - accuracy: 0.3340 - val_loss: 1.0983 - val_accuracy: 0.3528\n",
            "Epoch 32/50\n",
            "24/24 [==============================] - 13s 547ms/step - loss: 1.0991 - accuracy: 0.3247 - val_loss: 1.0988 - val_accuracy: 0.3167\n",
            "Epoch 33/50\n",
            "24/24 [==============================] - 13s 531ms/step - loss: 1.0990 - accuracy: 0.3326 - val_loss: 1.0990 - val_accuracy: 0.3167\n",
            "Epoch 34/50\n",
            "24/24 [==============================] - 13s 530ms/step - loss: 1.0987 - accuracy: 0.3316 - val_loss: 1.0986 - val_accuracy: 0.3528\n",
            "Epoch 35/50\n",
            "24/24 [==============================] - 13s 531ms/step - loss: 1.0988 - accuracy: 0.3212 - val_loss: 1.0988 - val_accuracy: 0.3167\n",
            "Epoch 36/50\n",
            "24/24 [==============================] - 13s 527ms/step - loss: 1.0987 - accuracy: 0.3313 - val_loss: 1.0990 - val_accuracy: 0.3167\n",
            "Epoch 37/50\n",
            "24/24 [==============================] - 13s 536ms/step - loss: 1.0987 - accuracy: 0.3243 - val_loss: 1.0987 - val_accuracy: 0.3167\n",
            "Epoch 38/50\n",
            "24/24 [==============================] - 13s 528ms/step - loss: 1.0988 - accuracy: 0.3250 - val_loss: 1.0987 - val_accuracy: 0.3167\n",
            "Epoch 39/50\n",
            "24/24 [==============================] - 13s 525ms/step - loss: 1.0988 - accuracy: 0.3278 - val_loss: 1.0988 - val_accuracy: 0.3167\n",
            "Epoch 40/50\n",
            "24/24 [==============================] - 13s 524ms/step - loss: 1.0986 - accuracy: 0.3375 - val_loss: 1.0989 - val_accuracy: 0.3167\n",
            "Epoch 41/50\n",
            "24/24 [==============================] - 13s 528ms/step - loss: 1.0987 - accuracy: 0.3378 - val_loss: 1.0987 - val_accuracy: 0.3167\n",
            "Epoch 42/50\n",
            "24/24 [==============================] - 13s 526ms/step - loss: 1.0988 - accuracy: 0.3302 - val_loss: 1.0988 - val_accuracy: 0.3167\n",
            "Epoch 43/50\n",
            "24/24 [==============================] - 13s 530ms/step - loss: 1.0988 - accuracy: 0.3285 - val_loss: 1.0987 - val_accuracy: 0.3167\n",
            "Epoch 44/50\n",
            "24/24 [==============================] - 13s 528ms/step - loss: 1.0989 - accuracy: 0.3361 - val_loss: 1.0990 - val_accuracy: 0.3167\n",
            "Epoch 45/50\n",
            "24/24 [==============================] - 13s 529ms/step - loss: 1.0986 - accuracy: 0.3187 - val_loss: 1.0989 - val_accuracy: 0.3167\n",
            "Epoch 46/50\n",
            "24/24 [==============================] - 13s 527ms/step - loss: 1.0985 - accuracy: 0.3483 - val_loss: 1.0987 - val_accuracy: 0.3167\n",
            "Epoch 47/50\n",
            "24/24 [==============================] - 13s 526ms/step - loss: 1.0985 - accuracy: 0.3316 - val_loss: 1.0989 - val_accuracy: 0.3167\n",
            "Epoch 48/50\n",
            "24/24 [==============================] - 13s 527ms/step - loss: 1.0989 - accuracy: 0.3295 - val_loss: 1.0988 - val_accuracy: 0.3167\n",
            "Epoch 49/50\n",
            "24/24 [==============================] - 13s 525ms/step - loss: 1.0988 - accuracy: 0.3229 - val_loss: 1.0986 - val_accuracy: 0.3528\n",
            "Epoch 50/50\n",
            "24/24 [==============================] - 13s 532ms/step - loss: 1.0988 - accuracy: 0.3319 - val_loss: 1.0990 - val_accuracy: 0.3167\n"
          ],
          "name": "stdout"
        }
      ]
    },
    {
      "cell_type": "markdown",
      "metadata": {
        "id": "7OV3ADJdqwgc",
        "colab_type": "text"
      },
      "source": [
        "#### testing the model"
      ]
    },
    {
      "cell_type": "code",
      "metadata": {
        "id": "AJhNK0O3qyni",
        "colab_type": "code",
        "outputId": "5d533442-203f-47c7-a5b3-02c5438a7c45",
        "colab": {
          "base_uri": "https://localhost:8080/",
          "height": 53
        }
      },
      "source": [
        "test_steps = int(len(df_test)/batch_size)\n",
        "\n",
        "metrics = few_unfrozen_vgg16_model.evaluate(test_dataset,\n",
        "                   steps = test_steps)\n",
        "print(\"model accuracy:\",metrics[1])"
      ],
      "execution_count": 0,
      "outputs": [
        {
          "output_type": "stream",
          "text": [
            "3/3 [==============================] - 1s 451ms/step - loss: 1.0989 - accuracy: 0.3250\n",
            "model accuracy: 0.325\n"
          ],
          "name": "stdout"
        }
      ]
    },
    {
      "cell_type": "markdown",
      "metadata": {
        "colab_type": "text",
        "id": "XSf8CvddsE-S"
      },
      "source": [
        "#### plotting training"
      ]
    },
    {
      "cell_type": "code",
      "metadata": {
        "colab_type": "code",
        "outputId": "21b2a291-6363-4266-b0ba-d4c0a42bb08b",
        "id": "0dq5Wl9csE-f",
        "colab": {
          "base_uri": "https://localhost:8080/",
          "height": 573
        }
      },
      "source": [
        "plot_hist(few_unfrozen_vgg16_history, 'few_unfrozen_vgg16')"
      ],
      "execution_count": 0,
      "outputs": [
        {
          "output_type": "display_data",
          "data": {
            "image/png": "[encoded data removed]",
            "text/plain": [
              "<Figure size 432x288 with 1 Axes>"
            ]
          },
          "metadata": {
            "tags": []
          }
        },
        {
          "output_type": "display_data",
          "data": {
            "image/png": "[encoded data removed]",
            "text/plain": [
              "<Figure size 432x288 with 1 Axes>"
            ]
          },
          "metadata": {
            "tags": []
          }
        }
      ]
    },
    {
      "cell_type": "markdown",
      "metadata": {
        "id": "LARhhZGYyTV9",
        "colab_type": "text"
      },
      "source": [
        "#### saving the history of the fitting"
      ]
    },
    {
      "cell_type": "code",
      "metadata": {
        "id": "whH3xT9KT1Ck",
        "colab_type": "code",
        "outputId": "8aab5fd2-0e87-4034-a577-ce1893b79e8e",
        "colab": {
          "base_uri": "https://localhost:8080/",
          "height": 35
        }
      },
      "source": [
        "with open(cwd + '/trainHistoryDict/few_unfrozen_vgg16_history.p', 'wb') as file_pi:\n",
        "        pickle.dump(few_unfrozen_vgg16_history.history, file_pi)\n",
        "print('history saved')"
      ],
      "execution_count": 0,
      "outputs": [
        {
          "output_type": "stream",
          "text": [
            "history saved\n"
          ],
          "name": "stdout"
        }
      ]
    },
    {
      "cell_type": "markdown",
      "metadata": {
        "colab_type": "text",
        "id": "22GUAtjSraz8"
      },
      "source": [
        "## Many layers unfrozen"
      ]
    },
    {
      "cell_type": "markdown",
      "metadata": {
        "colab_type": "text",
        "id": "QAKiIPjpra0F"
      },
      "source": [
        "#### loading model"
      ]
    },
    {
      "cell_type": "code",
      "metadata": {
        "colab_type": "code",
        "id": "QCFFXBFXra0I",
        "colab": {}
      },
      "source": [
        "base_vgg16_2 = tf.keras.applications.VGG16(weights='imagenet', include_top=False, input_shape=(200, 200, 3),pooling=None)"
      ],
      "execution_count": 0,
      "outputs": []
    },
    {
      "cell_type": "markdown",
      "metadata": {
        "colab_type": "text",
        "id": "l8XDJ-sVra0T"
      },
      "source": [
        "#### modifying slightly"
      ]
    },
    {
      "cell_type": "code",
      "metadata": {
        "colab_type": "code",
        "id": "5a8zr3Xqra0W",
        "colab": {}
      },
      "source": [
        "# add a global spatial average pooling layer\n",
        "x = base_vgg16_2.output\n",
        "\n",
        "x = GlobalAveragePooling2D()(x)\n",
        "\n",
        "# let's add a fully-connected layer\n",
        "x = Dense(512, activation='relu')(x)\n",
        "\n",
        "x = Dropout(0.3)(x)\n",
        "\n",
        "# let's add a fully-connected layer\n",
        "x = Dense(512, activation='relu')(x)\n",
        "\n",
        "x = Dropout(0.3)(x)\n",
        "\n",
        "# let's add a fully-connected layer\n",
        "x = Dense(512, activation='relu')(x)\n",
        "\n",
        "x = Dropout(0.3)(x)\n",
        "\n",
        "# and a logits layer -- let's say we have 3 classes\n",
        "predictions = Dense(3, activation='softmax')(x)"
      ],
      "execution_count": 0,
      "outputs": []
    },
    {
      "cell_type": "markdown",
      "metadata": {
        "colab_type": "text",
        "id": "wqxyAmXcra0k"
      },
      "source": [
        "#### creating model object"
      ]
    },
    {
      "cell_type": "code",
      "metadata": {
        "colab_type": "code",
        "id": "V28yL8gpra0n",
        "colab": {}
      },
      "source": [
        "# this is the model we will train\n",
        "many_unfrozen_vgg16_model = Model(inputs=base_vgg16_2.input, outputs=predictions)"
      ],
      "execution_count": 0,
      "outputs": []
    },
    {
      "cell_type": "code",
      "metadata": {
        "colab_type": "code",
        "outputId": "4f80526b-a177-42f4-b604-aeeb64a314f2",
        "id": "unASmwXNra0r",
        "colab": {
          "base_uri": "https://localhost:8080/",
          "height": 359
        }
      },
      "source": [
        "for layer in base_vgg16.layers:\n",
        "    print(layer.name)\n",
        "    layer.trainable = False"
      ],
      "execution_count": 0,
      "outputs": [
        {
          "output_type": "stream",
          "text": [
            "input_7\n",
            "block1_conv1\n",
            "block1_conv2\n",
            "block1_pool\n",
            "block2_conv1\n",
            "block2_conv2\n",
            "block2_pool\n",
            "block3_conv1\n",
            "block3_conv2\n",
            "block3_conv3\n",
            "block3_pool\n",
            "block4_conv1\n",
            "block4_conv2\n",
            "block4_conv3\n",
            "block4_pool\n",
            "block5_conv1\n",
            "block5_conv2\n",
            "block5_conv3\n",
            "block5_pool\n"
          ],
          "name": "stdout"
        }
      ]
    },
    {
      "cell_type": "code",
      "metadata": {
        "id": "za3sDPZRt4it",
        "colab_type": "code",
        "outputId": "6c7b0130-bdb9-4bc1-e254-d769ddda155d",
        "colab": {
          "base_uri": "https://localhost:8080/",
          "height": 35
        }
      },
      "source": [
        "trainable_count = 0\n",
        "per_layers = 0.7\n",
        "num_model_layers = len(base_vgg16_2.layers)\n",
        "starting_layer = int( num_model_layers * (1 - per_layers))\n",
        "true_per_trained = (num_model_layers - starting_layer) / num_model_layers\n",
        "\n",
        "\n",
        "print('true percentage of model trainable:', true_per_trained)"
      ],
      "execution_count": 0,
      "outputs": [
        {
          "output_type": "stream",
          "text": [
            "true percentage of model trainable: 0.7368421052631579\n"
          ],
          "name": "stdout"
        }
      ]
    },
    {
      "cell_type": "code",
      "metadata": {
        "colab_type": "code",
        "id": "LEWRmERora0w",
        "colab": {}
      },
      "source": [
        "set_trainable = False\n",
        "for idx, layer in enumerate(base_vgg16_2.layers):\n",
        "    if idx == starting_layer:\n",
        "        set_trainable = True\n",
        "    if set_trainable:\n",
        "        layer.trainable = True\n",
        "        trainable_count += 1\n",
        "    else:\n",
        "        layer.trainable = False"
      ],
      "execution_count": 0,
      "outputs": []
    },
    {
      "cell_type": "code",
      "metadata": {
        "colab_type": "code",
        "outputId": "50262d1a-9980-4e51-eabe-c586f842834e",
        "id": "zOYnK1S2ra0y",
        "colab": {
          "base_uri": "https://localhost:8080/",
          "height": 503
        }
      },
      "source": [
        "for layer in many_unfrozen_vgg16_model.layers:\n",
        "    print(layer.name,layer.trainable)"
      ],
      "execution_count": 0,
      "outputs": [
        {
          "output_type": "stream",
          "text": [
            "input_11 False\n",
            "block1_conv1 False\n",
            "block1_conv2 False\n",
            "block1_pool False\n",
            "block2_conv1 False\n",
            "block2_conv2 True\n",
            "block2_pool True\n",
            "block3_conv1 True\n",
            "block3_conv2 True\n",
            "block3_conv3 True\n",
            "block3_pool True\n",
            "block4_conv1 True\n",
            "block4_conv2 True\n",
            "block4_conv3 True\n",
            "block4_pool True\n",
            "block5_conv1 True\n",
            "block5_conv2 True\n",
            "block5_conv3 True\n",
            "block5_pool True\n",
            "global_average_pooling2d_9 True\n",
            "dense_36 True\n",
            "dropout_27 True\n",
            "dense_37 True\n",
            "dropout_28 True\n",
            "dense_38 True\n",
            "dropout_29 True\n",
            "dense_39 True\n"
          ],
          "name": "stdout"
        }
      ]
    },
    {
      "cell_type": "code",
      "metadata": {
        "colab_type": "code",
        "id": "0kacZQ9-ra03",
        "colab": {}
      },
      "source": [
        "opt = tf.keras.optimizers.Adam(lr=0.001)\n",
        "# compile the model (should be done *after* setting layers to non-trainable)\n",
        "many_unfrozen_vgg16_model.compile(optimizer=opt, loss='categorical_crossentropy',metrics=['accuracy'])"
      ],
      "execution_count": 0,
      "outputs": []
    },
    {
      "cell_type": "markdown",
      "metadata": {
        "colab_type": "text",
        "id": "RCwT3xSWra06"
      },
      "source": [
        "#### fitting the model"
      ]
    },
    {
      "cell_type": "code",
      "metadata": {
        "colab_type": "code",
        "outputId": "3a978cf4-cb95-4277-a1ce-14da5eb34461",
        "id": "yUzNFBPrra07",
        "colab": {
          "base_uri": "https://localhost:8080/",
          "height": 1000
        }
      },
      "source": [
        "train_steps = int(len(df_train)/batch_size) #total trains set / batch_size\n",
        "val_steps = int(len(df_val)/batch_size)\n",
        "\n",
        "print('train steps:',train_steps)\n",
        "print('val steps:',val_steps)\n",
        "\n",
        "epochs = 50\n",
        "\n",
        "\n",
        "model_filepath = 'many_unfrozen_vgg16.h5'\n",
        "mcp = ModelCheckpoint(model_filepath, monitor='accuracy', save_best_only=True, mode='max')\n",
        "\n",
        "# Train the model with validation \n",
        "many_unfrozen_vgg16_history = many_unfrozen_vgg16_model.fit( train_dataset, steps_per_epoch = train_steps,\n",
        "                   epochs = epochs,\n",
        "                   validation_data = valid_dataset,\n",
        "                   validation_steps = val_steps,\n",
        "                   callbacks=[mcp])"
      ],
      "execution_count": 0,
      "outputs": [
        {
          "output_type": "stream",
          "text": [
            "train steps: 24\n",
            "val steps: 3\n",
            "Train for 24 steps, validate for 3 steps\n",
            "Epoch 1/50\n",
            "24/24 [==============================] - 24s 1s/step - loss: 3.6176 - accuracy: 0.3333 - val_loss: 1.1000 - val_accuracy: 0.3306\n",
            "Epoch 2/50\n",
            "24/24 [==============================] - 21s 864ms/step - loss: 1.0996 - accuracy: 0.3347 - val_loss: 1.0989 - val_accuracy: 0.3306\n",
            "Epoch 3/50\n",
            "24/24 [==============================] - 20s 853ms/step - loss: 1.0993 - accuracy: 0.3476 - val_loss: 1.0983 - val_accuracy: 0.3167\n",
            "Epoch 4/50\n",
            "24/24 [==============================] - 18s 767ms/step - loss: 1.1020 - accuracy: 0.3358 - val_loss: 1.1126 - val_accuracy: 0.3306\n",
            "Epoch 5/50\n",
            "24/24 [==============================] - 18s 763ms/step - loss: 1.1007 - accuracy: 0.3441 - val_loss: 1.0986 - val_accuracy: 0.3306\n",
            "Epoch 6/50\n",
            "24/24 [==============================] - 18s 768ms/step - loss: 1.0989 - accuracy: 0.3316 - val_loss: 1.0986 - val_accuracy: 0.3306\n",
            "Epoch 7/50\n",
            "24/24 [==============================] - 18s 766ms/step - loss: 1.0988 - accuracy: 0.3267 - val_loss: 1.0985 - val_accuracy: 0.3528\n",
            "Epoch 8/50\n",
            "24/24 [==============================] - 18s 766ms/step - loss: 1.0988 - accuracy: 0.3285 - val_loss: 1.0986 - val_accuracy: 0.3167\n",
            "Epoch 9/50\n",
            "24/24 [==============================] - 18s 762ms/step - loss: 1.0987 - accuracy: 0.3309 - val_loss: 1.0991 - val_accuracy: 0.3167\n",
            "Epoch 10/50\n",
            "24/24 [==============================] - 18s 768ms/step - loss: 1.0990 - accuracy: 0.3226 - val_loss: 1.0988 - val_accuracy: 0.3167\n",
            "Epoch 11/50\n",
            "24/24 [==============================] - 18s 762ms/step - loss: 1.0988 - accuracy: 0.3309 - val_loss: 1.0990 - val_accuracy: 0.3167\n",
            "Epoch 12/50\n",
            "24/24 [==============================] - 18s 760ms/step - loss: 1.0987 - accuracy: 0.3264 - val_loss: 1.0987 - val_accuracy: 0.3167\n",
            "Epoch 13/50\n",
            "24/24 [==============================] - 18s 762ms/step - loss: 1.0988 - accuracy: 0.3295 - val_loss: 1.0989 - val_accuracy: 0.3167\n",
            "Epoch 14/50\n",
            "24/24 [==============================] - 18s 763ms/step - loss: 1.0990 - accuracy: 0.3187 - val_loss: 1.0986 - val_accuracy: 0.3167\n",
            "Epoch 15/50\n",
            "24/24 [==============================] - 18s 770ms/step - loss: 1.0987 - accuracy: 0.3309 - val_loss: 1.0989 - val_accuracy: 0.3167\n",
            "Epoch 16/50\n",
            "24/24 [==============================] - 18s 763ms/step - loss: 1.0987 - accuracy: 0.3396 - val_loss: 1.0988 - val_accuracy: 0.3167\n",
            "Epoch 17/50\n",
            "24/24 [==============================] - 18s 762ms/step - loss: 1.0989 - accuracy: 0.3378 - val_loss: 1.0988 - val_accuracy: 0.3167\n",
            "Epoch 18/50\n",
            "24/24 [==============================] - 18s 765ms/step - loss: 1.0986 - accuracy: 0.3365 - val_loss: 1.0990 - val_accuracy: 0.3167\n",
            "Epoch 19/50\n",
            "24/24 [==============================] - 19s 783ms/step - loss: 1.0988 - accuracy: 0.3385 - val_loss: 1.0987 - val_accuracy: 0.3167\n",
            "Epoch 20/50\n",
            "24/24 [==============================] - 18s 757ms/step - loss: 1.0990 - accuracy: 0.3330 - val_loss: 1.0989 - val_accuracy: 0.3167\n",
            "Epoch 21/50\n",
            "24/24 [==============================] - 18s 758ms/step - loss: 1.0987 - accuracy: 0.3319 - val_loss: 1.0984 - val_accuracy: 0.3528\n",
            "Epoch 22/50\n",
            "24/24 [==============================] - 18s 763ms/step - loss: 1.0989 - accuracy: 0.3229 - val_loss: 1.0987 - val_accuracy: 0.3167\n",
            "Epoch 23/50\n",
            "24/24 [==============================] - 18s 763ms/step - loss: 1.0988 - accuracy: 0.3250 - val_loss: 1.0986 - val_accuracy: 0.3167\n",
            "Epoch 24/50\n",
            "24/24 [==============================] - 18s 767ms/step - loss: 1.0986 - accuracy: 0.3392 - val_loss: 1.0987 - val_accuracy: 0.3167\n",
            "Epoch 25/50\n",
            "24/24 [==============================] - 18s 758ms/step - loss: 1.0990 - accuracy: 0.3295 - val_loss: 1.0991 - val_accuracy: 0.3167\n",
            "Epoch 26/50\n",
            "24/24 [==============================] - 18s 756ms/step - loss: 1.0989 - accuracy: 0.3347 - val_loss: 1.0988 - val_accuracy: 0.3167\n",
            "Epoch 27/50\n",
            "24/24 [==============================] - 18s 758ms/step - loss: 1.0988 - accuracy: 0.3344 - val_loss: 1.0989 - val_accuracy: 0.3167\n",
            "Epoch 28/50\n",
            "24/24 [==============================] - 18s 767ms/step - loss: 1.0986 - accuracy: 0.3389 - val_loss: 1.0989 - val_accuracy: 0.3167\n",
            "Epoch 29/50\n",
            "24/24 [==============================] - 18s 752ms/step - loss: 1.0987 - accuracy: 0.3354 - val_loss: 1.0988 - val_accuracy: 0.3167\n",
            "Epoch 30/50\n",
            "24/24 [==============================] - 18s 758ms/step - loss: 1.0988 - accuracy: 0.3368 - val_loss: 1.0988 - val_accuracy: 0.3167\n",
            "Epoch 31/50\n",
            "24/24 [==============================] - 18s 756ms/step - loss: 1.0988 - accuracy: 0.3267 - val_loss: 1.0986 - val_accuracy: 0.3167\n",
            "Epoch 32/50\n",
            "24/24 [==============================] - 18s 758ms/step - loss: 1.0987 - accuracy: 0.3333 - val_loss: 1.0990 - val_accuracy: 0.3167\n",
            "Epoch 33/50\n",
            "24/24 [==============================] - 18s 762ms/step - loss: 1.0988 - accuracy: 0.3351 - val_loss: 1.0989 - val_accuracy: 0.3167\n",
            "Epoch 34/50\n",
            "24/24 [==============================] - 18s 759ms/step - loss: 1.0988 - accuracy: 0.3260 - val_loss: 1.0986 - val_accuracy: 0.3528\n",
            "Epoch 35/50\n",
            "24/24 [==============================] - 18s 757ms/step - loss: 1.0986 - accuracy: 0.3406 - val_loss: 1.0987 - val_accuracy: 0.3167\n",
            "Epoch 36/50\n",
            "24/24 [==============================] - 18s 761ms/step - loss: 1.0986 - accuracy: 0.3295 - val_loss: 1.0987 - val_accuracy: 0.3167\n",
            "Epoch 37/50\n",
            "24/24 [==============================] - 18s 763ms/step - loss: 1.0989 - accuracy: 0.3170 - val_loss: 1.0989 - val_accuracy: 0.3167\n",
            "Epoch 38/50\n",
            "24/24 [==============================] - 18s 755ms/step - loss: 1.0988 - accuracy: 0.3340 - val_loss: 1.0989 - val_accuracy: 0.3167\n",
            "Epoch 39/50\n",
            "24/24 [==============================] - 18s 758ms/step - loss: 1.0989 - accuracy: 0.3288 - val_loss: 1.0987 - val_accuracy: 0.3167\n",
            "Epoch 40/50\n",
            "24/24 [==============================] - 18s 761ms/step - loss: 1.0988 - accuracy: 0.3306 - val_loss: 1.0988 - val_accuracy: 0.3167\n",
            "Epoch 41/50\n",
            "24/24 [==============================] - 18s 760ms/step - loss: 1.0986 - accuracy: 0.3260 - val_loss: 1.0988 - val_accuracy: 0.3167\n",
            "Epoch 42/50\n",
            "24/24 [==============================] - 18s 759ms/step - loss: 1.0989 - accuracy: 0.3306 - val_loss: 1.0988 - val_accuracy: 0.3167\n",
            "Epoch 43/50\n",
            "24/24 [==============================] - 18s 756ms/step - loss: 1.0987 - accuracy: 0.3378 - val_loss: 1.0988 - val_accuracy: 0.3167\n",
            "Epoch 44/50\n",
            "24/24 [==============================] - 18s 754ms/step - loss: 1.0988 - accuracy: 0.3233 - val_loss: 1.0988 - val_accuracy: 0.3167\n",
            "Epoch 45/50\n",
            "24/24 [==============================] - 18s 753ms/step - loss: 1.0987 - accuracy: 0.3361 - val_loss: 1.0989 - val_accuracy: 0.3167\n",
            "Epoch 46/50\n",
            "24/24 [==============================] - 18s 756ms/step - loss: 1.0986 - accuracy: 0.3378 - val_loss: 1.0990 - val_accuracy: 0.3167\n",
            "Epoch 47/50\n",
            "24/24 [==============================] - 18s 761ms/step - loss: 1.0988 - accuracy: 0.3306 - val_loss: 1.0990 - val_accuracy: 0.3167\n",
            "Epoch 48/50\n",
            "24/24 [==============================] - 18s 755ms/step - loss: 1.0987 - accuracy: 0.3340 - val_loss: 1.0989 - val_accuracy: 0.3167\n",
            "Epoch 49/50\n",
            "24/24 [==============================] - 18s 758ms/step - loss: 1.0989 - accuracy: 0.3212 - val_loss: 1.0986 - val_accuracy: 0.3167\n",
            "Epoch 50/50\n",
            "24/24 [==============================] - 18s 760ms/step - loss: 1.0989 - accuracy: 0.3292 - val_loss: 1.0986 - val_accuracy: 0.3167\n"
          ],
          "name": "stdout"
        }
      ]
    },
    {
      "cell_type": "markdown",
      "metadata": {
        "colab_type": "text",
        "id": "Zt-oQh62ra0_"
      },
      "source": [
        "#### testing the model"
      ]
    },
    {
      "cell_type": "code",
      "metadata": {
        "colab_type": "code",
        "outputId": "93bc0d33-382d-4849-c3f5-5081a5acda62",
        "id": "Fl68CpSdra1A",
        "colab": {
          "base_uri": "https://localhost:8080/",
          "height": 53
        }
      },
      "source": [
        "test_steps = int(len(df_test)/batch_size)\n",
        "\n",
        "metrics = many_unfrozen_vgg16_model.evaluate(test_dataset,\n",
        "                   steps = test_steps)\n",
        "print(\"model accuracy:\",metrics[1])"
      ],
      "execution_count": 0,
      "outputs": [
        {
          "output_type": "stream",
          "text": [
            "3/3 [==============================] - 1s 453ms/step - loss: 1.0989 - accuracy: 0.3250\n",
            "model accuracy: 0.325\n"
          ],
          "name": "stdout"
        }
      ]
    },
    {
      "cell_type": "markdown",
      "metadata": {
        "colab_type": "text",
        "id": "28sBerOlyTh9"
      },
      "source": [
        "#### plotting training"
      ]
    },
    {
      "cell_type": "code",
      "metadata": {
        "colab_type": "code",
        "outputId": "29a60c89-731c-4ada-fb27-66714a3ed0bf",
        "id": "CUvVwNJRyTiC",
        "colab": {
          "base_uri": "https://localhost:8080/",
          "height": 573
        }
      },
      "source": [
        "plot_hist(many_unfrozen_vgg16_history, 'many_unfrozen_vgg16')"
      ],
      "execution_count": 0,
      "outputs": [
        {
          "output_type": "display_data",
          "data": {
            "image/png": "[encoded data removed]",
            "text/plain": [
              "<Figure size 432x288 with 1 Axes>"
            ]
          },
          "metadata": {
            "tags": []
          }
        },
        {
          "output_type": "display_data",
          "data": {
            "image/png": "[encoded data removed]",
            "text/plain": [
              "<Figure size 432x288 with 1 Axes>"
            ]
          },
          "metadata": {
            "tags": []
          }
        }
      ]
    },
    {
      "cell_type": "markdown",
      "metadata": {
        "colab_type": "text",
        "id": "HbIQBb3zra1D"
      },
      "source": [
        "#### saving the history of the fitting"
      ]
    },
    {
      "cell_type": "code",
      "metadata": {
        "colab_type": "code",
        "outputId": "de701e23-eb9a-4c1e-ccf4-25ed82ea44e0",
        "id": "GpwbYJB5ra1D",
        "colab": {
          "base_uri": "https://localhost:8080/",
          "height": 35
        }
      },
      "source": [
        "with open(cwd + '/trainHistoryDict/many_unfrozen_vgg16_history.p', 'wb') as file_pi:\n",
        "        pickle.dump(many_unfrozen_vgg16_history.history, file_pi)\n",
        "print('history saved')"
      ],
      "execution_count": 0,
      "outputs": [
        {
          "output_type": "stream",
          "text": [
            "history saved\n"
          ],
          "name": "stdout"
        }
      ]
    },
    {
      "cell_type": "code",
      "metadata": {
        "id": "KC-jGyHnrTh9",
        "colab_type": "code",
        "colab": {}
      },
      "source": [
        ""
      ],
      "execution_count": 0,
      "outputs": []
    },
    {
      "cell_type": "markdown",
      "metadata": {
        "id": "WdsCsXkOu7mF",
        "colab_type": "text"
      },
      "source": [
        "## entirely unfrozen"
      ]
    },
    {
      "cell_type": "code",
      "metadata": {
        "colab_type": "code",
        "id": "FrR6YujPvAhK",
        "colab": {}
      },
      "source": [
        "input_shapes = (200, 200, 3)\n",
        "base_vgg16_3 = tf.keras.applications.VGG16(weights='imagenet', include_top=False, input_shape=input_shapes,pooling=None)"
      ],
      "execution_count": 0,
      "outputs": []
    },
    {
      "cell_type": "markdown",
      "metadata": {
        "colab_type": "text",
        "id": "AErdeAAY1rsN"
      },
      "source": [
        "#### modifying slightly"
      ]
    },
    {
      "cell_type": "code",
      "metadata": {
        "colab_type": "code",
        "id": "7-OTdP3-1rsT",
        "colab": {}
      },
      "source": [
        "# add a global spatial average pooling layer\n",
        "x = base_vgg16_3.output\n",
        "\n",
        "x = GlobalAveragePooling2D()(x)\n",
        "\n",
        "# let's add a fully-connected layer\n",
        "x = Dense(512, activation='relu')(x)\n",
        "\n",
        "x = Dropout(0.3)(x)\n",
        "\n",
        "# let's add a fully-connected layer\n",
        "x = Dense(512, activation='relu')(x)\n",
        "\n",
        "x = Dropout(0.3)(x)\n",
        "\n",
        "# let's add a fully-connected layer\n",
        "x = Dense(512, activation='relu')(x)\n",
        "\n",
        "x = Dropout(0.3)(x)\n",
        "\n",
        "# and a logits layer -- let's say we have 3 classes\n",
        "predictions = Dense(3, activation='softmax')(x)"
      ],
      "execution_count": 0,
      "outputs": []
    },
    {
      "cell_type": "markdown",
      "metadata": {
        "id": "UDrRFGzn1z61",
        "colab_type": "text"
      },
      "source": [
        "#### creating model object"
      ]
    },
    {
      "cell_type": "code",
      "metadata": {
        "id": "lstePI_NvN-5",
        "colab_type": "code",
        "colab": {}
      },
      "source": [
        "# this is the model we will train\n",
        "unfrozen_vgg16_model = Model(inputs=base_vgg16_3.input, outputs=predictions)"
      ],
      "execution_count": 0,
      "outputs": []
    },
    {
      "cell_type": "code",
      "metadata": {
        "id": "1DulDS0ovX2h",
        "colab_type": "code",
        "outputId": "4e99f7f3-4a6c-435b-96db-a97198373160",
        "colab": {
          "base_uri": "https://localhost:8080/",
          "height": 503
        }
      },
      "source": [
        "for layer in unfrozen_vgg16_model.layers:\n",
        "    print(layer.name)\n",
        "    layer.trainable = True"
      ],
      "execution_count": 0,
      "outputs": [
        {
          "output_type": "stream",
          "text": [
            "input_4\n",
            "block1_conv1\n",
            "block1_conv2\n",
            "block1_pool\n",
            "block2_conv1\n",
            "block2_conv2\n",
            "block2_pool\n",
            "block3_conv1\n",
            "block3_conv2\n",
            "block3_conv3\n",
            "block3_pool\n",
            "block4_conv1\n",
            "block4_conv2\n",
            "block4_conv3\n",
            "block4_pool\n",
            "block5_conv1\n",
            "block5_conv2\n",
            "block5_conv3\n",
            "block5_pool\n",
            "global_average_pooling2d_2\n",
            "dense_8\n",
            "dropout_6\n",
            "dense_9\n",
            "dropout_7\n",
            "dense_10\n",
            "dropout_8\n",
            "dense_11\n"
          ],
          "name": "stdout"
        }
      ]
    },
    {
      "cell_type": "code",
      "metadata": {
        "id": "DB5aU4CSvgE4",
        "colab_type": "code",
        "outputId": "e95be622-d6a4-4806-a70c-8b42da42094d",
        "colab": {
          "base_uri": "https://localhost:8080/",
          "height": 503
        }
      },
      "source": [
        "for layer in unfrozen_vgg16_model.layers:\n",
        "    print(layer.name,' Trainable =',layer.trainable)"
      ],
      "execution_count": 0,
      "outputs": [
        {
          "output_type": "stream",
          "text": [
            "input_4  Trainable = True\n",
            "block1_conv1  Trainable = True\n",
            "block1_conv2  Trainable = True\n",
            "block1_pool  Trainable = True\n",
            "block2_conv1  Trainable = True\n",
            "block2_conv2  Trainable = True\n",
            "block2_pool  Trainable = True\n",
            "block3_conv1  Trainable = True\n",
            "block3_conv2  Trainable = True\n",
            "block3_conv3  Trainable = True\n",
            "block3_pool  Trainable = True\n",
            "block4_conv1  Trainable = True\n",
            "block4_conv2  Trainable = True\n",
            "block4_conv3  Trainable = True\n",
            "block4_pool  Trainable = True\n",
            "block5_conv1  Trainable = True\n",
            "block5_conv2  Trainable = True\n",
            "block5_conv3  Trainable = True\n",
            "block5_pool  Trainable = True\n",
            "global_average_pooling2d_2  Trainable = True\n",
            "dense_8  Trainable = True\n",
            "dropout_6  Trainable = True\n",
            "dense_9  Trainable = True\n",
            "dropout_7  Trainable = True\n",
            "dense_10  Trainable = True\n",
            "dropout_8  Trainable = True\n",
            "dense_11  Trainable = True\n"
          ],
          "name": "stdout"
        }
      ]
    },
    {
      "cell_type": "code",
      "metadata": {
        "id": "SDcJ1AJW_bZr",
        "colab_type": "code",
        "outputId": "7ed052b4-5b6e-4236-a3b8-52d0f52a5e25",
        "colab": {
          "base_uri": "https://localhost:8080/",
          "height": 1000
        }
      },
      "source": [
        "unfrozen_vgg16_model.summary()"
      ],
      "execution_count": 0,
      "outputs": [
        {
          "output_type": "stream",
          "text": [
            "Model: \"model_2\"\n",
            "_________________________________________________________________\n",
            "Layer (type)                 Output Shape              Param #   \n",
            "=================================================================\n",
            "input_4 (InputLayer)         [(None, 200, 200, 3)]     0         \n",
            "_________________________________________________________________\n",
            "block1_conv1 (Conv2D)        (None, 200, 200, 64)      1792      \n",
            "_________________________________________________________________\n",
            "block1_conv2 (Conv2D)        (None, 200, 200, 64)      36928     \n",
            "_________________________________________________________________\n",
            "block1_pool (MaxPooling2D)   (None, 100, 100, 64)      0         \n",
            "_________________________________________________________________\n",
            "block2_conv1 (Conv2D)        (None, 100, 100, 128)     73856     \n",
            "_________________________________________________________________\n",
            "block2_conv2 (Conv2D)        (None, 100, 100, 128)     147584    \n",
            "_________________________________________________________________\n",
            "block2_pool (MaxPooling2D)   (None, 50, 50, 128)       0         \n",
            "_________________________________________________________________\n",
            "block3_conv1 (Conv2D)        (None, 50, 50, 256)       295168    \n",
            "_________________________________________________________________\n",
            "block3_conv2 (Conv2D)        (None, 50, 50, 256)       590080    \n",
            "_________________________________________________________________\n",
            "block3_conv3 (Conv2D)        (None, 50, 50, 256)       590080    \n",
            "_________________________________________________________________\n",
            "block3_pool (MaxPooling2D)   (None, 25, 25, 256)       0         \n",
            "_________________________________________________________________\n",
            "block4_conv1 (Conv2D)        (None, 25, 25, 512)       1180160   \n",
            "_________________________________________________________________\n",
            "block4_conv2 (Conv2D)        (None, 25, 25, 512)       2359808   \n",
            "_________________________________________________________________\n",
            "block4_conv3 (Conv2D)        (None, 25, 25, 512)       2359808   \n",
            "_________________________________________________________________\n",
            "block4_pool (MaxPooling2D)   (None, 12, 12, 512)       0         \n",
            "_________________________________________________________________\n",
            "block5_conv1 (Conv2D)        (None, 12, 12, 512)       2359808   \n",
            "_________________________________________________________________\n",
            "block5_conv2 (Conv2D)        (None, 12, 12, 512)       2359808   \n",
            "_________________________________________________________________\n",
            "block5_conv3 (Conv2D)        (None, 12, 12, 512)       2359808   \n",
            "_________________________________________________________________\n",
            "block5_pool (MaxPooling2D)   (None, 6, 6, 512)         0         \n",
            "_________________________________________________________________\n",
            "global_average_pooling2d_2 ( (None, 512)               0         \n",
            "_________________________________________________________________\n",
            "dense_8 (Dense)              (None, 512)               262656    \n",
            "_________________________________________________________________\n",
            "dropout_6 (Dropout)          (None, 512)               0         \n",
            "_________________________________________________________________\n",
            "dense_9 (Dense)              (None, 512)               262656    \n",
            "_________________________________________________________________\n",
            "dropout_7 (Dropout)          (None, 512)               0         \n",
            "_________________________________________________________________\n",
            "dense_10 (Dense)             (None, 512)               262656    \n",
            "_________________________________________________________________\n",
            "dropout_8 (Dropout)          (None, 512)               0         \n",
            "_________________________________________________________________\n",
            "dense_11 (Dense)             (None, 3)                 1539      \n",
            "=================================================================\n",
            "Total params: 15,504,195\n",
            "Trainable params: 15,504,195\n",
            "Non-trainable params: 0\n",
            "_________________________________________________________________\n"
          ],
          "name": "stdout"
        }
      ]
    },
    {
      "cell_type": "markdown",
      "metadata": {
        "id": "DbqL6LGoxGgT",
        "colab_type": "text"
      },
      "source": [
        "#### setting the optimizer"
      ]
    },
    {
      "cell_type": "code",
      "metadata": {
        "id": "bh4CDz20vo7f",
        "colab_type": "code",
        "colab": {}
      },
      "source": [
        "opt = tf.keras.optimizers.Adam(lr=0.001)\n",
        "opt1 = tf.keras.optimizers.RMSprop(lr=1e-4)\n",
        "# compile the model (should be done *after* setting layers to non-trainable)\n",
        "unfrozen_vgg16_model.compile(optimizer=opt, loss='categorical_crossentropy',metrics=['accuracy'])"
      ],
      "execution_count": 0,
      "outputs": []
    },
    {
      "cell_type": "markdown",
      "metadata": {
        "id": "6vJQLMr9w64c",
        "colab_type": "text"
      },
      "source": [
        "#### fitting the model"
      ]
    },
    {
      "cell_type": "code",
      "metadata": {
        "id": "CZFZayCIv6Oo",
        "colab_type": "code",
        "outputId": "ee9131b9-0142-46cf-844f-c71a4e506abd",
        "colab": {
          "base_uri": "https://localhost:8080/",
          "height": 1000
        }
      },
      "source": [
        "train_steps = int(len(df_train)/batch_size) #total trains set / batch_size\n",
        "val_steps = int(len(df_val)/batch_size)\n",
        "\n",
        "print('train steps:',train_steps)\n",
        "print('val steps:',val_steps)\n",
        "\n",
        "epochs = 50\n",
        "\n",
        "\n",
        "model_filepath = 'unfrozen_vgg16.h5'\n",
        "mcp = ModelCheckpoint(model_filepath, monitor='accuracy', save_best_only=True, mode='max')\n",
        "\n",
        "# Train the model with validation \n",
        "unfrozen_vgg16_history = unfrozen_vgg16_model.fit( train_dataset, steps_per_epoch = train_steps,\n",
        "                   epochs = epochs,\n",
        "                   validation_data = valid_dataset,\n",
        "                   validation_steps = val_steps,\n",
        "                   callbacks=[mcp])"
      ],
      "execution_count": 0,
      "outputs": [
        {
          "output_type": "stream",
          "text": [
            "train steps: 24\n",
            "val steps: 3\n",
            "Train for 24 steps, validate for 3 steps\n",
            "Epoch 1/50\n",
            "24/24 [==============================] - 2128s 89s/step - loss: 4.4543 - accuracy: 0.3354 - val_loss: 1.0976 - val_accuracy: 0.3528\n",
            "Epoch 2/50\n",
            "24/24 [==============================] - 24s 1s/step - loss: 1.0996 - accuracy: 0.3372 - val_loss: 1.0978 - val_accuracy: 0.3528\n",
            "Epoch 3/50\n",
            "24/24 [==============================] - 23s 952ms/step - loss: 1.0988 - accuracy: 0.3330 - val_loss: 1.0983 - val_accuracy: 0.3528\n",
            "Epoch 4/50\n",
            "24/24 [==============================] - 23s 962ms/step - loss: 1.0989 - accuracy: 0.3295 - val_loss: 1.0987 - val_accuracy: 0.3167\n",
            "Epoch 5/50\n",
            "24/24 [==============================] - 23s 950ms/step - loss: 1.0988 - accuracy: 0.3236 - val_loss: 1.0985 - val_accuracy: 0.3528\n",
            "Epoch 6/50\n",
            "24/24 [==============================] - 23s 947ms/step - loss: 1.0988 - accuracy: 0.3278 - val_loss: 1.0989 - val_accuracy: 0.3167\n",
            "Epoch 7/50\n",
            "24/24 [==============================] - 23s 948ms/step - loss: 1.0987 - accuracy: 0.3365 - val_loss: 1.0991 - val_accuracy: 0.3167\n",
            "Epoch 8/50\n",
            "24/24 [==============================] - 23s 949ms/step - loss: 1.0987 - accuracy: 0.3323 - val_loss: 1.0989 - val_accuracy: 0.3167\n",
            "Epoch 9/50\n",
            "24/24 [==============================] - 23s 946ms/step - loss: 1.0987 - accuracy: 0.3226 - val_loss: 1.0986 - val_accuracy: 0.3306\n",
            "Epoch 10/50\n",
            "24/24 [==============================] - 23s 946ms/step - loss: 1.0987 - accuracy: 0.3333 - val_loss: 1.0987 - val_accuracy: 0.3167\n",
            "Epoch 11/50\n",
            "24/24 [==============================] - 23s 948ms/step - loss: 1.0988 - accuracy: 0.3368 - val_loss: 1.0988 - val_accuracy: 0.3167\n",
            "Epoch 12/50\n",
            "24/24 [==============================] - 23s 947ms/step - loss: 1.0987 - accuracy: 0.3326 - val_loss: 1.0989 - val_accuracy: 0.3167\n",
            "Epoch 13/50\n",
            "24/24 [==============================] - 23s 950ms/step - loss: 1.0987 - accuracy: 0.3351 - val_loss: 1.0988 - val_accuracy: 0.3167\n",
            "Epoch 14/50\n",
            "24/24 [==============================] - 23s 951ms/step - loss: 1.0987 - accuracy: 0.3323 - val_loss: 1.0988 - val_accuracy: 0.3167\n",
            "Epoch 15/50\n",
            "24/24 [==============================] - 25s 1s/step - loss: 1.0989 - accuracy: 0.3385 - val_loss: 1.0986 - val_accuracy: 0.3528\n",
            "Epoch 16/50\n",
            "24/24 [==============================] - 25s 1s/step - loss: 1.0986 - accuracy: 0.3427 - val_loss: 1.0987 - val_accuracy: 0.3306\n",
            "Epoch 17/50\n",
            "24/24 [==============================] - 23s 955ms/step - loss: 1.0986 - accuracy: 0.3361 - val_loss: 1.0990 - val_accuracy: 0.3167\n",
            "Epoch 18/50\n",
            "24/24 [==============================] - 23s 950ms/step - loss: 1.0989 - accuracy: 0.3208 - val_loss: 1.0987 - val_accuracy: 0.3167\n",
            "Epoch 19/50\n",
            "24/24 [==============================] - 23s 948ms/step - loss: 1.0986 - accuracy: 0.3302 - val_loss: 1.0989 - val_accuracy: 0.3167\n",
            "Epoch 20/50\n",
            "24/24 [==============================] - 23s 951ms/step - loss: 1.0989 - accuracy: 0.3323 - val_loss: 1.0989 - val_accuracy: 0.3167\n",
            "Epoch 21/50\n",
            "24/24 [==============================] - 23s 948ms/step - loss: 1.0985 - accuracy: 0.3420 - val_loss: 1.0994 - val_accuracy: 0.3167\n",
            "Epoch 22/50\n",
            "24/24 [==============================] - 23s 948ms/step - loss: 1.0988 - accuracy: 0.3292 - val_loss: 1.0984 - val_accuracy: 0.3528\n",
            "Epoch 23/50\n",
            "24/24 [==============================] - 23s 946ms/step - loss: 1.0989 - accuracy: 0.3361 - val_loss: 1.0988 - val_accuracy: 0.3167\n",
            "Epoch 24/50\n",
            "24/24 [==============================] - 23s 948ms/step - loss: 1.0986 - accuracy: 0.3358 - val_loss: 1.0992 - val_accuracy: 0.3167\n",
            "Epoch 25/50\n",
            "24/24 [==============================] - 23s 944ms/step - loss: 1.0985 - accuracy: 0.3319 - val_loss: 1.0986 - val_accuracy: 0.3306\n",
            "Epoch 26/50\n",
            "24/24 [==============================] - 23s 951ms/step - loss: 1.0990 - accuracy: 0.3302 - val_loss: 1.0991 - val_accuracy: 0.3167\n",
            "Epoch 27/50\n",
            "24/24 [==============================] - 23s 948ms/step - loss: 1.0991 - accuracy: 0.3316 - val_loss: 1.0986 - val_accuracy: 0.3528\n",
            "Epoch 28/50\n",
            "24/24 [==============================] - 23s 972ms/step - loss: 1.0990 - accuracy: 0.3333 - val_loss: 1.0985 - val_accuracy: 0.3528\n",
            "Epoch 29/50\n",
            "24/24 [==============================] - 23s 946ms/step - loss: 1.0991 - accuracy: 0.3226 - val_loss: 1.0989 - val_accuracy: 0.3167\n",
            "Epoch 30/50\n",
            "24/24 [==============================] - 23s 950ms/step - loss: 1.0985 - accuracy: 0.3406 - val_loss: 1.0988 - val_accuracy: 0.3167\n",
            "Epoch 31/50\n",
            "24/24 [==============================] - 25s 1s/step - loss: 1.0982 - accuracy: 0.3521 - val_loss: 1.0986 - val_accuracy: 0.3528\n",
            "Epoch 32/50\n",
            "24/24 [==============================] - 23s 947ms/step - loss: 1.0997 - accuracy: 0.3316 - val_loss: 1.0992 - val_accuracy: 0.3167\n",
            "Epoch 33/50\n",
            "24/24 [==============================] - 23s 947ms/step - loss: 1.0991 - accuracy: 0.3295 - val_loss: 1.0985 - val_accuracy: 0.3528\n",
            "Epoch 34/50\n",
            "24/24 [==============================] - 23s 945ms/step - loss: 1.0990 - accuracy: 0.3257 - val_loss: 1.0987 - val_accuracy: 0.3167\n",
            "Epoch 35/50\n",
            "24/24 [==============================] - 23s 949ms/step - loss: 1.0988 - accuracy: 0.3368 - val_loss: 1.0996 - val_accuracy: 0.3167\n",
            "Epoch 36/50\n",
            "24/24 [==============================] - 23s 948ms/step - loss: 1.0990 - accuracy: 0.3219 - val_loss: 1.0984 - val_accuracy: 0.3528\n",
            "Epoch 37/50\n",
            "24/24 [==============================] - 23s 948ms/step - loss: 1.0987 - accuracy: 0.3288 - val_loss: 1.0988 - val_accuracy: 0.3167\n",
            "Epoch 38/50\n",
            "24/24 [==============================] - 23s 948ms/step - loss: 1.0990 - accuracy: 0.3299 - val_loss: 1.0987 - val_accuracy: 0.3167\n",
            "Epoch 39/50\n",
            "24/24 [==============================] - 23s 950ms/step - loss: 1.0988 - accuracy: 0.3194 - val_loss: 1.0990 - val_accuracy: 0.3167\n",
            "Epoch 40/50\n",
            "24/24 [==============================] - 23s 947ms/step - loss: 1.0990 - accuracy: 0.3295 - val_loss: 1.0992 - val_accuracy: 0.3167\n",
            "Epoch 41/50\n",
            "24/24 [==============================] - 23s 950ms/step - loss: 1.0991 - accuracy: 0.3323 - val_loss: 1.0985 - val_accuracy: 0.3528\n",
            "Epoch 42/50\n",
            "24/24 [==============================] - 23s 951ms/step - loss: 1.0987 - accuracy: 0.3285 - val_loss: 1.0986 - val_accuracy: 0.3528\n",
            "Epoch 43/50\n",
            "24/24 [==============================] - 23s 948ms/step - loss: 1.0988 - accuracy: 0.3378 - val_loss: 1.0991 - val_accuracy: 0.3167\n",
            "Epoch 44/50\n",
            "24/24 [==============================] - 23s 952ms/step - loss: 1.0989 - accuracy: 0.3288 - val_loss: 1.0990 - val_accuracy: 0.3167\n",
            "Epoch 45/50\n",
            "24/24 [==============================] - 23s 945ms/step - loss: 1.0992 - accuracy: 0.3229 - val_loss: 1.0987 - val_accuracy: 0.3167\n",
            "Epoch 46/50\n",
            "24/24 [==============================] - 23s 948ms/step - loss: 1.0986 - accuracy: 0.3406 - val_loss: 1.0989 - val_accuracy: 0.3167\n",
            "Epoch 47/50\n",
            "24/24 [==============================] - 23s 947ms/step - loss: 1.0992 - accuracy: 0.3247 - val_loss: 1.0995 - val_accuracy: 0.3167\n",
            "Epoch 48/50\n",
            "24/24 [==============================] - 23s 946ms/step - loss: 1.0987 - accuracy: 0.3326 - val_loss: 1.0987 - val_accuracy: 0.3167\n",
            "Epoch 49/50\n",
            "24/24 [==============================] - 23s 953ms/step - loss: 1.0989 - accuracy: 0.3351 - val_loss: 1.0985 - val_accuracy: 0.3528\n",
            "Epoch 50/50\n",
            "24/24 [==============================] - 23s 946ms/step - loss: 1.0988 - accuracy: 0.3413 - val_loss: 1.0985 - val_accuracy: 0.3528\n"
          ],
          "name": "stdout"
        }
      ]
    },
    {
      "cell_type": "markdown",
      "metadata": {
        "colab_type": "text",
        "id": "sRYx4CU26iY-"
      },
      "source": [
        "#### testing the model"
      ]
    },
    {
      "cell_type": "code",
      "metadata": {
        "colab_type": "code",
        "outputId": "7a634cf2-b335-41c6-cc43-9de6364a6c40",
        "id": "xQWRFzCy6iZN",
        "colab": {
          "base_uri": "https://localhost:8080/",
          "height": 53
        }
      },
      "source": [
        "test_steps = int(len(df_test)/batch_size)\n",
        "\n",
        "metrics = unfrozen_vgg16_model.evaluate(test_dataset,\n",
        "                   steps = test_steps)\n",
        "print(\"model accuracy:\",metrics[1])"
      ],
      "execution_count": 0,
      "outputs": [
        {
          "output_type": "stream",
          "text": [
            "3/3 [==============================] - 1s 458ms/step - loss: 1.0993 - accuracy: 0.3167\n",
            "model accuracy: 0.31666666\n"
          ],
          "name": "stdout"
        }
      ]
    },
    {
      "cell_type": "markdown",
      "metadata": {
        "colab_type": "text",
        "id": "fOyLO9B16OAD"
      },
      "source": [
        "#### plotting training"
      ]
    },
    {
      "cell_type": "code",
      "metadata": {
        "colab_type": "code",
        "outputId": "673a87ab-1810-44e5-a1a7-0115eb90751b",
        "id": "VnsayjlZ6OAM",
        "colab": {
          "base_uri": "https://localhost:8080/",
          "height": 573
        }
      },
      "source": [
        "plot_hist(unfrozen_vgg16_history, 'unfrozen_vgg16')"
      ],
      "execution_count": 0,
      "outputs": [
        {
          "output_type": "display_data",
          "data": {
            "image/png": "[encoded data removed]",
            "text/plain": [
              "<Figure size 432x288 with 1 Axes>"
            ]
          },
          "metadata": {
            "tags": []
          }
        },
        {
          "output_type": "display_data",
          "data": {
            "image/png": "[encoded data removed]",
            "text/plain": [
              "<Figure size 432x288 with 1 Axes>"
            ]
          },
          "metadata": {
            "tags": []
          }
        }
      ]
    },
    {
      "cell_type": "markdown",
      "metadata": {
        "id": "Ih3vofhBw90T",
        "colab_type": "text"
      },
      "source": [
        "#### saving the history of the fitting"
      ]
    },
    {
      "cell_type": "code",
      "metadata": {
        "id": "_IKqpLg2wbi0",
        "colab_type": "code",
        "outputId": "f3cc613d-19b5-4257-993f-4d722ce28fff",
        "colab": {
          "base_uri": "https://localhost:8080/",
          "height": 35
        }
      },
      "source": [
        "with open(cwd + '/trainHistoryDict/unfrozen_vgg16_history.p', 'wb') as file_pi:\n",
        "        pickle.dump(unfrozen_vgg16_history.history, file_pi)\n",
        "print('history saved')"
      ],
      "execution_count": 0,
      "outputs": [
        {
          "output_type": "stream",
          "text": [
            "history saved\n"
          ],
          "name": "stdout"
        }
      ]
    },
    {
      "cell_type": "code",
      "metadata": {
        "id": "fkt8dlpe6r83",
        "colab_type": "code",
        "colab": {}
      },
      "source": [
        ""
      ],
      "execution_count": 0,
      "outputs": []
    }
  ]
}