{
  "nbformat": 4,
  "nbformat_minor": 0,
  "metadata": {
    "colab": {
      "name": "Resnet50_quark_classification_adam.ipynb",
      "provenance": [],
      "collapsed_sections": [],
      "toc_visible": true
    },
    "kernelspec": {
      "name": "python3",
      "display_name": "Python 3"
    },
    "accelerator": "GPU"
  },
  "cells": [
    {
      "cell_type": "markdown",
      "metadata": {
        "id": "PI5RDzjpY4fy",
        "colab_type": "text"
      },
      "source": [
        "#notebook setup"
      ]
    },
    {
      "cell_type": "code",
      "metadata": {
        "id": "nNc8dLtXlcuJ",
        "colab_type": "code",
        "colab": {
          "base_uri": "https://localhost:8080/",
          "height": 188
        },
        "outputId": "8a599c49-18ba-49ee-e4c6-874e0cacf404"
      },
      "source": [
        "!pip install google-auth --upgrade\n",
        "!pip install grpcio --upgrade"
      ],
      "execution_count": 1,
      "outputs": [
        {
          "output_type": "stream",
          "text": [
            "Requirement already up-to-date: google-auth in /usr/local/lib/python3.6/dist-packages (1.10.0)\n",
            "Requirement already satisfied, skipping upgrade: rsa<4.1,>=3.1.4 in /usr/local/lib/python3.6/dist-packages (from google-auth) (4.0)\n",
            "Requirement already satisfied, skipping upgrade: setuptools>=40.3.0 in /usr/local/lib/python3.6/dist-packages (from google-auth) (42.0.2)\n",
            "Requirement already satisfied, skipping upgrade: six>=1.9.0 in /usr/local/lib/python3.6/dist-packages (from google-auth) (1.12.0)\n",
            "Requirement already satisfied, skipping upgrade: pyasn1-modules>=0.2.1 in /usr/local/lib/python3.6/dist-packages (from google-auth) (0.2.7)\n",
            "Requirement already satisfied, skipping upgrade: cachetools<5.0,>=2.0.0 in /usr/local/lib/python3.6/dist-packages (from google-auth) (4.0.0)\n",
            "Requirement already satisfied, skipping upgrade: pyasn1>=0.1.3 in /usr/local/lib/python3.6/dist-packages (from rsa<4.1,>=3.1.4->google-auth) (0.4.8)\n",
            "Requirement already up-to-date: grpcio in /usr/local/lib/python3.6/dist-packages (1.26.0)\n",
            "Requirement already satisfied, skipping upgrade: six>=1.5.2 in /usr/local/lib/python3.6/dist-packages (from grpcio) (1.12.0)\n"
          ],
          "name": "stdout"
        }
      ]
    },
    {
      "cell_type": "code",
      "metadata": {
        "id": "CH7ZObaXX2it",
        "colab_type": "code",
        "outputId": "d1ef9e79-d986-42a1-e098-ee81480bbf12",
        "colab": {
          "base_uri": "https://localhost:8080/",
          "height": 67
        }
      },
      "source": [
        "!pip install -qq tf-nightly-gpu-2.0-preview"
      ],
      "execution_count": 2,
      "outputs": [
        {
          "output_type": "stream",
          "text": [
            "\u001b[K     |████████████████████████████████| 395.5MB 43kB/s \n",
            "\u001b[K     |████████████████████████████████| 3.8MB 42.2MB/s \n",
            "\u001b[K     |████████████████████████████████| 450kB 46.6MB/s \n",
            "\u001b[?25h"
          ],
          "name": "stdout"
        }
      ]
    },
    {
      "cell_type": "code",
      "metadata": {
        "id": "FIXnBwudYLjl",
        "colab_type": "code",
        "outputId": "9cf101f6-b42e-4f1d-9b1f-918998516943",
        "colab": {
          "base_uri": "https://localhost:8080/",
          "height": 50
        }
      },
      "source": [
        "import tensorflow as tf\n",
        "print(tf.__version__)\n",
        "device_name = tf.test.gpu_device_name()\n",
        "if device_name != '/device:GPU:0':\n",
        "  raise SystemError('GPU device not found')\n",
        "print('Found GPU at: {}'.format(device_name))"
      ],
      "execution_count": 3,
      "outputs": [
        {
          "output_type": "stream",
          "text": [
            "2.0.0-dev20191002\n",
            "Found GPU at: /device:GPU:0\n"
          ],
          "name": "stdout"
        }
      ]
    },
    {
      "cell_type": "code",
      "metadata": {
        "id": "ixmPfjVmYYQ-",
        "colab_type": "code",
        "colab": {}
      },
      "source": [
        "import sys\n",
        "try:\n",
        "    import ujson as json\n",
        "except ImportError:\n",
        "    try:\n",
        "        import simplejson as json\n",
        "    except ImportError:\n",
        "        import json\n",
        "\n",
        "import numpy as np\n",
        "import matplotlib.pyplot as plt\n",
        "import pandas as pd\n",
        "import scipy\n",
        "from sklearn.preprocessing import MinMaxScaler\n",
        "import pywt\n",
        "import os\n",
        "from PIL import Image\n",
        "# import tensorflow as tf\n",
        "from glob import glob\n",
        "\n",
        "from tensorflow.keras.preprocessing import image\n",
        "from tensorflow.keras.preprocessing.image import ImageDataGenerator\n",
        "\n",
        "from tensorflow.keras.models import Model,load_model,Sequential\n",
        "\n",
        "from tensorflow.keras.layers import Dense, GlobalAveragePooling2D, Dropout,Flatten, Input\n",
        "from tensorflow.keras import backend as K\n",
        "from tensorflow.keras.callbacks import EarlyStopping\n",
        "from tensorflow.keras.callbacks import ModelCheckpoint\n",
        "import pickle"
      ],
      "execution_count": 0,
      "outputs": []
    },
    {
      "cell_type": "code",
      "metadata": {
        "id": "8u0wv_jGZF-L",
        "colab_type": "code",
        "outputId": "01aa2b68-b786-434c-cef5-80fec8ec5f7e",
        "colab": {
          "base_uri": "https://localhost:8080/",
          "height": 121
        }
      },
      "source": [
        "from google.colab import drive\n",
        "drive.mount('/content/drive')"
      ],
      "execution_count": 5,
      "outputs": [
        {
          "output_type": "stream",
          "text": [
            "Go to this URL in a browser: https://accounts.google.com/o/oauth2/auth?client_id=947318989803-6bn6qk8qdgf4n4g3pfee6491hc0brc4i.apps.googleusercontent.com&redirect_uri=urn%3aietf%3awg%3aoauth%3a2.0%3aoob&response_type=code&scope=email%20https%3a%2f%2fwww.googleapis.com%2fauth%2fdocs.test%20https%3a%2f%2fwww.googleapis.com%2fauth%2fdrive%20https%3a%2f%2fwww.googleapis.com%2fauth%2fdrive.photos.readonly%20https%3a%2f%2fwww.googleapis.com%2fauth%2fpeopleapi.readonly\n",
            "\n",
            "Enter your authorization code:\n",
            "··········\n",
            "Mounted at /content/drive\n"
          ],
          "name": "stdout"
        }
      ]
    },
    {
      "cell_type": "code",
      "metadata": {
        "id": "nngHwbgEhZOr",
        "colab_type": "code",
        "colab": {}
      },
      "source": [
        "\n",
        "def plot_hist(input_history, filename):\n",
        "  import os\n",
        "\n",
        "  folder = ['acc', 'loss']\n",
        "\n",
        "  directory = cwd + '/model_performance/'\n",
        "\n",
        "  for f in folder:\n",
        "    if not os.path.exists(directory + f):\n",
        "      os.makedirs(directory + f)\n",
        "\n",
        "  # summarize history for accuracy\n",
        "  # fig, ax = plt.subplots(1,2)\n",
        "  # plt.subplots_adjust(right=2)\n",
        "\n",
        "  plt.plot(input_history.history['accuracy'])\n",
        "  plt.plot(input_history.history['val_accuracy'])\n",
        "  plt.title('model accuracy')\n",
        "  plt.ylabel('accuracy')\n",
        "  plt.xlabel('epoch')\n",
        "  plt.legend(['train', 'test'], loc='upper left')\n",
        "\n",
        "  plt.savefig(cwd+'/model_performance/acc/' + filename + '.jpg')\n",
        "  plt.show()\n",
        "  \n",
        "  # summarize history for loss\n",
        "  plt.plot(input_history.history['loss'])\n",
        "  plt.plot(input_history.history['val_loss'])\n",
        "  plt.title('model loss')\n",
        "  plt.ylabel('loss')\n",
        "  plt.xlabel('epoch')\n",
        "  plt.legend(['train', 'test'], loc='upper left')\n",
        "\n",
        "  \n",
        "  plt.savefig(cwd+'/model_performance/loss/' + filename + '.jpg')"
      ],
      "execution_count": 0,
      "outputs": []
    },
    {
      "cell_type": "markdown",
      "metadata": {
        "id": "h6Pb6W4AZa0d",
        "colab_type": "text"
      },
      "source": [
        "# Data prep"
      ]
    },
    {
      "cell_type": "code",
      "metadata": {
        "id": "ZRZpm9JxZKEN",
        "colab_type": "code",
        "outputId": "246cfeda-7f69-4d0b-8924-abbf4dd366a5",
        "colab": {
          "base_uri": "https://localhost:8080/",
          "height": 50
        }
      },
      "source": [
        "%cd drive/'My Drive'\n",
        "!pwd"
      ],
      "execution_count": 7,
      "outputs": [
        {
          "output_type": "stream",
          "text": [
            "/content/drive/My Drive\n",
            "/content/drive/My Drive\n"
          ],
          "name": "stdout"
        }
      ]
    },
    {
      "cell_type": "code",
      "metadata": {
        "id": "dCh0glvPxc1z",
        "colab_type": "code",
        "outputId": "fca48cdc-f2fa-46b1-f41b-8e14a86f7f7b",
        "colab": {
          "base_uri": "https://localhost:8080/",
          "height": 34
        }
      },
      "source": [
        "!pwd"
      ],
      "execution_count": 8,
      "outputs": [
        {
          "output_type": "stream",
          "text": [
            "/content/drive/My Drive\n"
          ],
          "name": "stdout"
        }
      ]
    },
    {
      "cell_type": "code",
      "metadata": {
        "id": "j1MEckdzZ_-1",
        "colab_type": "code",
        "outputId": "423a93a4-05e3-4e64-ba15-f2120229000a",
        "colab": {
          "base_uri": "https://localhost:8080/",
          "height": 34
        }
      },
      "source": [
        "img_folder = '/filtered_images'\n",
        "!ls 'filtered_images'"
      ],
      "execution_count": 9,
      "outputs": [
        {
          "output_type": "stream",
          "text": [
            "0  1  2\n"
          ],
          "name": "stdout"
        }
      ]
    },
    {
      "cell_type": "markdown",
      "metadata": {
        "id": "fSJJ8GzogU_i",
        "colab_type": "text"
      },
      "source": [
        "class 0 : DYjets\n",
        "class 1 : TTjets\n",
        "class 2 : Wjets"
      ]
    },
    {
      "cell_type": "markdown",
      "metadata": {
        "id": "WK3uFq83Nqp7",
        "colab_type": "text"
      },
      "source": [
        "## Train val size setting"
      ]
    },
    {
      "cell_type": "code",
      "metadata": {
        "id": "hd5rd7_ZcoSR",
        "colab_type": "code",
        "outputId": "089d9df7-a72a-43c3-a799-f3ecc9bb58f8",
        "colab": {
          "base_uri": "https://localhost:8080/",
          "height": 185
        }
      },
      "source": [
        "cwd = os.getcwd()\n",
        "img_path = cwd + img_folder\n",
        "\n",
        "train_val_size = 1200\n",
        "\n",
        "df = {}\n",
        "data = []\n",
        "for idx, x in enumerate(os.listdir(img_path)):\n",
        "  if x.isdigit() and idx < 3:\n",
        "    for idx2, pic in enumerate(os.listdir(img_path+'/'+str(x))):\n",
        "      if idx2 < train_val_size:\n",
        "        data.append((img_path+ '/' + x + '/' + pic , x))\n",
        "\n",
        "df = pd.DataFrame(data, columns=['filename', 'class'])\n",
        "df['class'] = df['class'].astype(int)\n",
        "#shuffle\n",
        "df = df.sample(frac=1).reset_index(drop=True)\n",
        "\n",
        "print(df.head())\n",
        "print(len(df))\n",
        "df.dtypes"
      ],
      "execution_count": 10,
      "outputs": [
        {
          "output_type": "stream",
          "text": [
            "                                            filename  class\n",
            "0  /content/drive/My Drive/filtered_images/0/DYje...      0\n",
            "1  /content/drive/My Drive/filtered_images/2/Wjet...      2\n",
            "2  /content/drive/My Drive/filtered_images/1/TTje...      1\n",
            "3  /content/drive/My Drive/filtered_images/0/DYje...      0\n",
            "4  /content/drive/My Drive/filtered_images/1/TTje...      1\n",
            "3600\n"
          ],
          "name": "stdout"
        },
        {
          "output_type": "execute_result",
          "data": {
            "text/plain": [
              "filename    object\n",
              "class        int64\n",
              "dtype: object"
            ]
          },
          "metadata": {
            "tags": []
          },
          "execution_count": 10
        }
      ]
    },
    {
      "cell_type": "code",
      "metadata": {
        "id": "IF67c9pOdMix",
        "colab_type": "code",
        "outputId": "69dcbd78-661a-4457-cb94-868d40ac7446",
        "colab": {
          "base_uri": "https://localhost:8080/",
          "height": 34
        }
      },
      "source": [
        "from collections import Counter\n",
        "cnt = Counter(df['class'])\n",
        "cnt"
      ],
      "execution_count": 12,
      "outputs": [
        {
          "output_type": "execute_result",
          "data": {
            "text/plain": [
              "Counter({0: 1200, 1: 1200, 2: 1200})"
            ]
          },
          "metadata": {
            "tags": []
          },
          "execution_count": 12
        }
      ]
    },
    {
      "cell_type": "code",
      "metadata": {
        "id": "rV8WCnbQhKx4",
        "colab_type": "code",
        "outputId": "411ad81b-6aae-40d8-b188-34f931c1ddea",
        "colab": {
          "base_uri": "https://localhost:8080/",
          "height": 67
        }
      },
      "source": [
        "# Split into train and validation sets\n",
        "train_percentage = .8\n",
        "val_percentage = 0.1\n",
        "test_percentage = 0.1\n",
        "\n",
        "train_length = int(len(df) * train_percentage)\n",
        "df_train = df[:train_length]\n",
        "\n",
        "val_length = int(len(df) * val_percentage)\n",
        "df_val = df[train_length : train_length+val_length]\n",
        "\n",
        "test_length = int(len(df) * test_percentage)\n",
        "df_test = df[ train_length + val_length : ]\n",
        "\n",
        "# shuffle \n",
        "df_train = df_train.sample(frac=1).reset_index(drop=True)\n",
        "df_val = df_val.sample(frac=1).reset_index(drop=True)\n",
        "df_test = df_test.sample(frac=1).reset_index(drop=True)\n",
        "\n",
        "df_list = [df_train, df_val, df_test]\n",
        "for df_part in df_list:\n",
        "  print(len(df_part))"
      ],
      "execution_count": 13,
      "outputs": [
        {
          "output_type": "stream",
          "text": [
            "2880\n",
            "360\n",
            "360\n"
          ],
          "name": "stdout"
        }
      ]
    },
    {
      "cell_type": "markdown",
      "metadata": {
        "id": "65hltRStDyg2",
        "colab_type": "text"
      },
      "source": [
        "#### image parsing"
      ]
    },
    {
      "cell_type": "code",
      "metadata": {
        "id": "93QOO1_2h5_A",
        "colab_type": "code",
        "colab": {}
      },
      "source": [
        "# Reads an image from a file, decodes it into a tensor, and resizes it\n",
        "# to a fixed shape.\n",
        "img_rows, img_cols = 200,200\n",
        "num_classes = len(set(df['class']))\n",
        "batch_size = 120\n",
        "\n",
        "def _parse_function(filename, label):\n",
        "  image_string = tf.io.read_file(filename)\n",
        "  image_decoded = tf.image.decode_jpeg(image_string)\n",
        "  image_resized = tf.image.resize(image_decoded, [img_rows, img_cols])\n",
        "  image_resized = tf.ensure_shape(image_resized ,shape=(img_rows, img_cols,3))\n",
        "  label = tf.one_hot(label, num_classes)\n",
        "  return image_resized, label"
      ],
      "execution_count": 0,
      "outputs": []
    },
    {
      "cell_type": "code",
      "metadata": {
        "id": "b9GwWMh5iZtg",
        "colab_type": "code",
        "colab": {}
      },
      "source": [
        "train_dataset = tf.data.Dataset.from_tensor_slices((tf.cast(df_train['filename'].values, tf.string),\n",
        "                                                    tf.cast(df_train['class'].values, tf.int32) ))\n",
        "train_dataset = train_dataset.map(_parse_function)\n",
        "train_dataset = train_dataset.shuffle(5000)\n",
        "train_dataset = train_dataset.repeat()\n",
        "train_dataset = train_dataset.batch(batch_size, drop_remainder=True)"
      ],
      "execution_count": 0,
      "outputs": []
    },
    {
      "cell_type": "code",
      "metadata": {
        "id": "0MfsNRyiicIR",
        "colab_type": "code",
        "colab": {}
      },
      "source": [
        "valid_dataset = tf.data.Dataset.from_tensor_slices((tf.cast(df_val['filename'].values, tf.string),\n",
        "                                                    tf.cast(df_val['class'].values, tf.int32) ))\n",
        "valid_dataset = valid_dataset.map(_parse_function)\n",
        "valid_dataset = valid_dataset.shuffle(5000)\n",
        "valid_dataset = valid_dataset.repeat()\n",
        "valid_dataset = valid_dataset.batch(batch_size, drop_remainder=True)"
      ],
      "execution_count": 0,
      "outputs": []
    },
    {
      "cell_type": "code",
      "metadata": {
        "id": "amK7DVJDPTSF",
        "colab_type": "code",
        "colab": {}
      },
      "source": [
        "test_dataset = tf.data.Dataset.from_tensor_slices((tf.cast(df_test['filename'].values, tf.string),\n",
        "                                                    tf.cast(df_test['class'].values, tf.int32) ))\n",
        "test_dataset = test_dataset.map(_parse_function)\n",
        "test_dataset = test_dataset.shuffle(5000)\n",
        "test_dataset = test_dataset.repeat()\n",
        "test_dataset = test_dataset.batch(batch_size, drop_remainder=True)"
      ],
      "execution_count": 0,
      "outputs": []
    },
    {
      "cell_type": "code",
      "metadata": {
        "id": "0PsYgoDSieIA",
        "colab_type": "code",
        "outputId": "b6ffee7f-836e-4535-9647-fecbb73b40eb",
        "colab": {
          "base_uri": "https://localhost:8080/",
          "height": 54
        }
      },
      "source": [
        "train_dataset"
      ],
      "execution_count": 18,
      "outputs": [
        {
          "output_type": "execute_result",
          "data": {
            "text/plain": [
              "<BatchDataset shapes: ((120, 200, 200, 3), (120, 3)), types: (tf.float32, tf.float32)>"
            ]
          },
          "metadata": {
            "tags": []
          },
          "execution_count": 18
        }
      ]
    },
    {
      "cell_type": "markdown",
      "metadata": {
        "id": "YofamALVCrtt",
        "colab_type": "text"
      },
      "source": [
        "# ResNet50"
      ]
    },
    {
      "cell_type": "markdown",
      "metadata": {
        "id": "nzO1JHNJ1D6I",
        "colab_type": "text"
      },
      "source": [
        "## Entirely frozen"
      ]
    },
    {
      "cell_type": "code",
      "metadata": {
        "id": "DTe9kVl2CuIT",
        "colab_type": "code",
        "outputId": "a5f0e792-43f5-41af-e743-121319b5338f",
        "colab": {
          "base_uri": "https://localhost:8080/",
          "height": 70
        }
      },
      "source": [
        "resnet_50 = tf.keras.applications.ResNet50(\n",
        "    include_top=False,\n",
        "    weights='imagenet',\n",
        "    input_shape=(200,200,3),\n",
        "    pooling=None\n",
        ")"
      ],
      "execution_count": 19,
      "outputs": [
        {
          "output_type": "stream",
          "text": [
            "Downloading data from https://github.com/keras-team/keras-applications/releases/download/resnet/resnet50_weights_tf_dim_ordering_tf_kernels_notop.h5\n",
            "94773248/94765736 [==============================] - 3s 0us/step\n"
          ],
          "name": "stdout"
        }
      ]
    },
    {
      "cell_type": "code",
      "metadata": {
        "id": "vUTuVUnlC2-U",
        "colab_type": "code",
        "colab": {}
      },
      "source": [
        "x = resnet_50.output\n",
        "\n",
        "x = GlobalAveragePooling2D()(x)\n",
        "\n",
        "# let's add a fully-connected layer\n",
        "x = Dense(512, activation='relu')(x)\n",
        "\n",
        "x = Dropout(0.5)(x)\n",
        "\n",
        "#x = GlobalAveragePooling2D()(x)\n",
        "\n",
        "# let's add a fully-connected layer\n",
        "x = Dense(512, activation='relu')(x)\n",
        "\n",
        "x = Dropout(0.5)(x)\n",
        "\n",
        "# let's add a fully-connected layer\n",
        "x = Dense(512, activation='relu')(x)\n",
        "\n",
        "x = Dropout(0.5)(x)\n",
        "\n",
        "# and a logits layer -- let's say we have 3 classes\n",
        "predictions = Dense(3, activation='softmax')(x)\n"
      ],
      "execution_count": 0,
      "outputs": []
    },
    {
      "cell_type": "code",
      "metadata": {
        "id": "Mm-iZAuZC7sV",
        "colab_type": "code",
        "colab": {}
      },
      "source": [
        "# this is the model we will train\n",
        "base_resnet50_model = Model(inputs=resnet_50.input, outputs=predictions)"
      ],
      "execution_count": 0,
      "outputs": []
    },
    {
      "cell_type": "code",
      "metadata": {
        "id": "viKNFgGXzXJT",
        "colab_type": "code",
        "outputId": "60129e89-9577-4d13-b568-7a8032e0b146",
        "colab": {
          "base_uri": "https://localhost:8080/",
          "height": 1000
        }
      },
      "source": [
        "base_resnet50_model.summary()"
      ],
      "execution_count": 22,
      "outputs": [
        {
          "output_type": "stream",
          "text": [
            "Model: \"model\"\n",
            "__________________________________________________________________________________________________\n",
            "Layer (type)                    Output Shape         Param #     Connected to                     \n",
            "==================================================================================================\n",
            "input_1 (InputLayer)            [(None, 200, 200, 3) 0                                            \n",
            "__________________________________________________________________________________________________\n",
            "conv1_pad (ZeroPadding2D)       (None, 206, 206, 3)  0           input_1[0][0]                    \n",
            "__________________________________________________________________________________________________\n",
            "conv1_conv (Conv2D)             (None, 100, 100, 64) 9472        conv1_pad[0][0]                  \n",
            "__________________________________________________________________________________________________\n",
            "conv1_bn (BatchNormalization)   (None, 100, 100, 64) 256         conv1_conv[0][0]                 \n",
            "__________________________________________________________________________________________________\n",
            "conv1_relu (Activation)         (None, 100, 100, 64) 0           conv1_bn[0][0]                   \n",
            "__________________________________________________________________________________________________\n",
            "pool1_pad (ZeroPadding2D)       (None, 102, 102, 64) 0           conv1_relu[0][0]                 \n",
            "__________________________________________________________________________________________________\n",
            "pool1_pool (MaxPooling2D)       (None, 50, 50, 64)   0           pool1_pad[0][0]                  \n",
            "__________________________________________________________________________________________________\n",
            "conv2_block1_1_conv (Conv2D)    (None, 50, 50, 64)   4160        pool1_pool[0][0]                 \n",
            "__________________________________________________________________________________________________\n",
            "conv2_block1_1_bn (BatchNormali (None, 50, 50, 64)   256         conv2_block1_1_conv[0][0]        \n",
            "__________________________________________________________________________________________________\n",
            "conv2_block1_1_relu (Activation (None, 50, 50, 64)   0           conv2_block1_1_bn[0][0]          \n",
            "__________________________________________________________________________________________________\n",
            "conv2_block1_2_conv (Conv2D)    (None, 50, 50, 64)   36928       conv2_block1_1_relu[0][0]        \n",
            "__________________________________________________________________________________________________\n",
            "conv2_block1_2_bn (BatchNormali (None, 50, 50, 64)   256         conv2_block1_2_conv[0][0]        \n",
            "__________________________________________________________________________________________________\n",
            "conv2_block1_2_relu (Activation (None, 50, 50, 64)   0           conv2_block1_2_bn[0][0]          \n",
            "__________________________________________________________________________________________________\n",
            "conv2_block1_0_conv (Conv2D)    (None, 50, 50, 256)  16640       pool1_pool[0][0]                 \n",
            "__________________________________________________________________________________________________\n",
            "conv2_block1_3_conv (Conv2D)    (None, 50, 50, 256)  16640       conv2_block1_2_relu[0][0]        \n",
            "__________________________________________________________________________________________________\n",
            "conv2_block1_0_bn (BatchNormali (None, 50, 50, 256)  1024        conv2_block1_0_conv[0][0]        \n",
            "__________________________________________________________________________________________________\n",
            "conv2_block1_3_bn (BatchNormali (None, 50, 50, 256)  1024        conv2_block1_3_conv[0][0]        \n",
            "__________________________________________________________________________________________________\n",
            "conv2_block1_add (Add)          (None, 50, 50, 256)  0           conv2_block1_0_bn[0][0]          \n",
            "                                                                 conv2_block1_3_bn[0][0]          \n",
            "__________________________________________________________________________________________________\n",
            "conv2_block1_out (Activation)   (None, 50, 50, 256)  0           conv2_block1_add[0][0]           \n",
            "__________________________________________________________________________________________________\n",
            "conv2_block2_1_conv (Conv2D)    (None, 50, 50, 64)   16448       conv2_block1_out[0][0]           \n",
            "__________________________________________________________________________________________________\n",
            "conv2_block2_1_bn (BatchNormali (None, 50, 50, 64)   256         conv2_block2_1_conv[0][0]        \n",
            "__________________________________________________________________________________________________\n",
            "conv2_block2_1_relu (Activation (None, 50, 50, 64)   0           conv2_block2_1_bn[0][0]          \n",
            "__________________________________________________________________________________________________\n",
            "conv2_block2_2_conv (Conv2D)    (None, 50, 50, 64)   36928       conv2_block2_1_relu[0][0]        \n",
            "__________________________________________________________________________________________________\n",
            "conv2_block2_2_bn (BatchNormali (None, 50, 50, 64)   256         conv2_block2_2_conv[0][0]        \n",
            "__________________________________________________________________________________________________\n",
            "conv2_block2_2_relu (Activation (None, 50, 50, 64)   0           conv2_block2_2_bn[0][0]          \n",
            "__________________________________________________________________________________________________\n",
            "conv2_block2_3_conv (Conv2D)    (None, 50, 50, 256)  16640       conv2_block2_2_relu[0][0]        \n",
            "__________________________________________________________________________________________________\n",
            "conv2_block2_3_bn (BatchNormali (None, 50, 50, 256)  1024        conv2_block2_3_conv[0][0]        \n",
            "__________________________________________________________________________________________________\n",
            "conv2_block2_add (Add)          (None, 50, 50, 256)  0           conv2_block1_out[0][0]           \n",
            "                                                                 conv2_block2_3_bn[0][0]          \n",
            "__________________________________________________________________________________________________\n",
            "conv2_block2_out (Activation)   (None, 50, 50, 256)  0           conv2_block2_add[0][0]           \n",
            "__________________________________________________________________________________________________\n",
            "conv2_block3_1_conv (Conv2D)    (None, 50, 50, 64)   16448       conv2_block2_out[0][0]           \n",
            "__________________________________________________________________________________________________\n",
            "conv2_block3_1_bn (BatchNormali (None, 50, 50, 64)   256         conv2_block3_1_conv[0][0]        \n",
            "__________________________________________________________________________________________________\n",
            "conv2_block3_1_relu (Activation (None, 50, 50, 64)   0           conv2_block3_1_bn[0][0]          \n",
            "__________________________________________________________________________________________________\n",
            "conv2_block3_2_conv (Conv2D)    (None, 50, 50, 64)   36928       conv2_block3_1_relu[0][0]        \n",
            "__________________________________________________________________________________________________\n",
            "conv2_block3_2_bn (BatchNormali (None, 50, 50, 64)   256         conv2_block3_2_conv[0][0]        \n",
            "__________________________________________________________________________________________________\n",
            "conv2_block3_2_relu (Activation (None, 50, 50, 64)   0           conv2_block3_2_bn[0][0]          \n",
            "__________________________________________________________________________________________________\n",
            "conv2_block3_3_conv (Conv2D)    (None, 50, 50, 256)  16640       conv2_block3_2_relu[0][0]        \n",
            "__________________________________________________________________________________________________\n",
            "conv2_block3_3_bn (BatchNormali (None, 50, 50, 256)  1024        conv2_block3_3_conv[0][0]        \n",
            "__________________________________________________________________________________________________\n",
            "conv2_block3_add (Add)          (None, 50, 50, 256)  0           conv2_block2_out[0][0]           \n",
            "                                                                 conv2_block3_3_bn[0][0]          \n",
            "__________________________________________________________________________________________________\n",
            "conv2_block3_out (Activation)   (None, 50, 50, 256)  0           conv2_block3_add[0][0]           \n",
            "__________________________________________________________________________________________________\n",
            "conv3_block1_1_conv (Conv2D)    (None, 25, 25, 128)  32896       conv2_block3_out[0][0]           \n",
            "__________________________________________________________________________________________________\n",
            "conv3_block1_1_bn (BatchNormali (None, 25, 25, 128)  512         conv3_block1_1_conv[0][0]        \n",
            "__________________________________________________________________________________________________\n",
            "conv3_block1_1_relu (Activation (None, 25, 25, 128)  0           conv3_block1_1_bn[0][0]          \n",
            "__________________________________________________________________________________________________\n",
            "conv3_block1_2_conv (Conv2D)    (None, 25, 25, 128)  147584      conv3_block1_1_relu[0][0]        \n",
            "__________________________________________________________________________________________________\n",
            "conv3_block1_2_bn (BatchNormali (None, 25, 25, 128)  512         conv3_block1_2_conv[0][0]        \n",
            "__________________________________________________________________________________________________\n",
            "conv3_block1_2_relu (Activation (None, 25, 25, 128)  0           conv3_block1_2_bn[0][0]          \n",
            "__________________________________________________________________________________________________\n",
            "conv3_block1_0_conv (Conv2D)    (None, 25, 25, 512)  131584      conv2_block3_out[0][0]           \n",
            "__________________________________________________________________________________________________\n",
            "conv3_block1_3_conv (Conv2D)    (None, 25, 25, 512)  66048       conv3_block1_2_relu[0][0]        \n",
            "__________________________________________________________________________________________________\n",
            "conv3_block1_0_bn (BatchNormali (None, 25, 25, 512)  2048        conv3_block1_0_conv[0][0]        \n",
            "__________________________________________________________________________________________________\n",
            "conv3_block1_3_bn (BatchNormali (None, 25, 25, 512)  2048        conv3_block1_3_conv[0][0]        \n",
            "__________________________________________________________________________________________________\n",
            "conv3_block1_add (Add)          (None, 25, 25, 512)  0           conv3_block1_0_bn[0][0]          \n",
            "                                                                 conv3_block1_3_bn[0][0]          \n",
            "__________________________________________________________________________________________________\n",
            "conv3_block1_out (Activation)   (None, 25, 25, 512)  0           conv3_block1_add[0][0]           \n",
            "__________________________________________________________________________________________________\n",
            "conv3_block2_1_conv (Conv2D)    (None, 25, 25, 128)  65664       conv3_block1_out[0][0]           \n",
            "__________________________________________________________________________________________________\n",
            "conv3_block2_1_bn (BatchNormali (None, 25, 25, 128)  512         conv3_block2_1_conv[0][0]        \n",
            "__________________________________________________________________________________________________\n",
            "conv3_block2_1_relu (Activation (None, 25, 25, 128)  0           conv3_block2_1_bn[0][0]          \n",
            "__________________________________________________________________________________________________\n",
            "conv3_block2_2_conv (Conv2D)    (None, 25, 25, 128)  147584      conv3_block2_1_relu[0][0]        \n",
            "__________________________________________________________________________________________________\n",
            "conv3_block2_2_bn (BatchNormali (None, 25, 25, 128)  512         conv3_block2_2_conv[0][0]        \n",
            "__________________________________________________________________________________________________\n",
            "conv3_block2_2_relu (Activation (None, 25, 25, 128)  0           conv3_block2_2_bn[0][0]          \n",
            "__________________________________________________________________________________________________\n",
            "conv3_block2_3_conv (Conv2D)    (None, 25, 25, 512)  66048       conv3_block2_2_relu[0][0]        \n",
            "__________________________________________________________________________________________________\n",
            "conv3_block2_3_bn (BatchNormali (None, 25, 25, 512)  2048        conv3_block2_3_conv[0][0]        \n",
            "__________________________________________________________________________________________________\n",
            "conv3_block2_add (Add)          (None, 25, 25, 512)  0           conv3_block1_out[0][0]           \n",
            "                                                                 conv3_block2_3_bn[0][0]          \n",
            "__________________________________________________________________________________________________\n",
            "conv3_block2_out (Activation)   (None, 25, 25, 512)  0           conv3_block2_add[0][0]           \n",
            "__________________________________________________________________________________________________\n",
            "conv3_block3_1_conv (Conv2D)    (None, 25, 25, 128)  65664       conv3_block2_out[0][0]           \n",
            "__________________________________________________________________________________________________\n",
            "conv3_block3_1_bn (BatchNormali (None, 25, 25, 128)  512         conv3_block3_1_conv[0][0]        \n",
            "__________________________________________________________________________________________________\n",
            "conv3_block3_1_relu (Activation (None, 25, 25, 128)  0           conv3_block3_1_bn[0][0]          \n",
            "__________________________________________________________________________________________________\n",
            "conv3_block3_2_conv (Conv2D)    (None, 25, 25, 128)  147584      conv3_block3_1_relu[0][0]        \n",
            "__________________________________________________________________________________________________\n",
            "conv3_block3_2_bn (BatchNormali (None, 25, 25, 128)  512         conv3_block3_2_conv[0][0]        \n",
            "__________________________________________________________________________________________________\n",
            "conv3_block3_2_relu (Activation (None, 25, 25, 128)  0           conv3_block3_2_bn[0][0]          \n",
            "__________________________________________________________________________________________________\n",
            "conv3_block3_3_conv (Conv2D)    (None, 25, 25, 512)  66048       conv3_block3_2_relu[0][0]        \n",
            "__________________________________________________________________________________________________\n",
            "conv3_block3_3_bn (BatchNormali (None, 25, 25, 512)  2048        conv3_block3_3_conv[0][0]        \n",
            "__________________________________________________________________________________________________\n",
            "conv3_block3_add (Add)          (None, 25, 25, 512)  0           conv3_block2_out[0][0]           \n",
            "                                                                 conv3_block3_3_bn[0][0]          \n",
            "__________________________________________________________________________________________________\n",
            "conv3_block3_out (Activation)   (None, 25, 25, 512)  0           conv3_block3_add[0][0]           \n",
            "__________________________________________________________________________________________________\n",
            "conv3_block4_1_conv (Conv2D)    (None, 25, 25, 128)  65664       conv3_block3_out[0][0]           \n",
            "__________________________________________________________________________________________________\n",
            "conv3_block4_1_bn (BatchNormali (None, 25, 25, 128)  512         conv3_block4_1_conv[0][0]        \n",
            "__________________________________________________________________________________________________\n",
            "conv3_block4_1_relu (Activation (None, 25, 25, 128)  0           conv3_block4_1_bn[0][0]          \n",
            "__________________________________________________________________________________________________\n",
            "conv3_block4_2_conv (Conv2D)    (None, 25, 25, 128)  147584      conv3_block4_1_relu[0][0]        \n",
            "__________________________________________________________________________________________________\n",
            "conv3_block4_2_bn (BatchNormali (None, 25, 25, 128)  512         conv3_block4_2_conv[0][0]        \n",
            "__________________________________________________________________________________________________\n",
            "conv3_block4_2_relu (Activation (None, 25, 25, 128)  0           conv3_block4_2_bn[0][0]          \n",
            "__________________________________________________________________________________________________\n",
            "conv3_block4_3_conv (Conv2D)    (None, 25, 25, 512)  66048       conv3_block4_2_relu[0][0]        \n",
            "__________________________________________________________________________________________________\n",
            "conv3_block4_3_bn (BatchNormali (None, 25, 25, 512)  2048        conv3_block4_3_conv[0][0]        \n",
            "__________________________________________________________________________________________________\n",
            "conv3_block4_add (Add)          (None, 25, 25, 512)  0           conv3_block3_out[0][0]           \n",
            "                                                                 conv3_block4_3_bn[0][0]          \n",
            "__________________________________________________________________________________________________\n",
            "conv3_block4_out (Activation)   (None, 25, 25, 512)  0           conv3_block4_add[0][0]           \n",
            "__________________________________________________________________________________________________\n",
            "conv4_block1_1_conv (Conv2D)    (None, 13, 13, 256)  131328      conv3_block4_out[0][0]           \n",
            "__________________________________________________________________________________________________\n",
            "conv4_block1_1_bn (BatchNormali (None, 13, 13, 256)  1024        conv4_block1_1_conv[0][0]        \n",
            "__________________________________________________________________________________________________\n",
            "conv4_block1_1_relu (Activation (None, 13, 13, 256)  0           conv4_block1_1_bn[0][0]          \n",
            "__________________________________________________________________________________________________\n",
            "conv4_block1_2_conv (Conv2D)    (None, 13, 13, 256)  590080      conv4_block1_1_relu[0][0]        \n",
            "__________________________________________________________________________________________________\n",
            "conv4_block1_2_bn (BatchNormali (None, 13, 13, 256)  1024        conv4_block1_2_conv[0][0]        \n",
            "__________________________________________________________________________________________________\n",
            "conv4_block1_2_relu (Activation (None, 13, 13, 256)  0           conv4_block1_2_bn[0][0]          \n",
            "__________________________________________________________________________________________________\n",
            "conv4_block1_0_conv (Conv2D)    (None, 13, 13, 1024) 525312      conv3_block4_out[0][0]           \n",
            "__________________________________________________________________________________________________\n",
            "conv4_block1_3_conv (Conv2D)    (None, 13, 13, 1024) 263168      conv4_block1_2_relu[0][0]        \n",
            "__________________________________________________________________________________________________\n",
            "conv4_block1_0_bn (BatchNormali (None, 13, 13, 1024) 4096        conv4_block1_0_conv[0][0]        \n",
            "__________________________________________________________________________________________________\n",
            "conv4_block1_3_bn (BatchNormali (None, 13, 13, 1024) 4096        conv4_block1_3_conv[0][0]        \n",
            "__________________________________________________________________________________________________\n",
            "conv4_block1_add (Add)          (None, 13, 13, 1024) 0           conv4_block1_0_bn[0][0]          \n",
            "                                                                 conv4_block1_3_bn[0][0]          \n",
            "__________________________________________________________________________________________________\n",
            "conv4_block1_out (Activation)   (None, 13, 13, 1024) 0           conv4_block1_add[0][0]           \n",
            "__________________________________________________________________________________________________\n",
            "conv4_block2_1_conv (Conv2D)    (None, 13, 13, 256)  262400      conv4_block1_out[0][0]           \n",
            "__________________________________________________________________________________________________\n",
            "conv4_block2_1_bn (BatchNormali (None, 13, 13, 256)  1024        conv4_block2_1_conv[0][0]        \n",
            "__________________________________________________________________________________________________\n",
            "conv4_block2_1_relu (Activation (None, 13, 13, 256)  0           conv4_block2_1_bn[0][0]          \n",
            "__________________________________________________________________________________________________\n",
            "conv4_block2_2_conv (Conv2D)    (None, 13, 13, 256)  590080      conv4_block2_1_relu[0][0]        \n",
            "__________________________________________________________________________________________________\n",
            "conv4_block2_2_bn (BatchNormali (None, 13, 13, 256)  1024        conv4_block2_2_conv[0][0]        \n",
            "__________________________________________________________________________________________________\n",
            "conv4_block2_2_relu (Activation (None, 13, 13, 256)  0           conv4_block2_2_bn[0][0]          \n",
            "__________________________________________________________________________________________________\n",
            "conv4_block2_3_conv (Conv2D)    (None, 13, 13, 1024) 263168      conv4_block2_2_relu[0][0]        \n",
            "__________________________________________________________________________________________________\n",
            "conv4_block2_3_bn (BatchNormali (None, 13, 13, 1024) 4096        conv4_block2_3_conv[0][0]        \n",
            "__________________________________________________________________________________________________\n",
            "conv4_block2_add (Add)          (None, 13, 13, 1024) 0           conv4_block1_out[0][0]           \n",
            "                                                                 conv4_block2_3_bn[0][0]          \n",
            "__________________________________________________________________________________________________\n",
            "conv4_block2_out (Activation)   (None, 13, 13, 1024) 0           conv4_block2_add[0][0]           \n",
            "__________________________________________________________________________________________________\n",
            "conv4_block3_1_conv (Conv2D)    (None, 13, 13, 256)  262400      conv4_block2_out[0][0]           \n",
            "__________________________________________________________________________________________________\n",
            "conv4_block3_1_bn (BatchNormali (None, 13, 13, 256)  1024        conv4_block3_1_conv[0][0]        \n",
            "__________________________________________________________________________________________________\n",
            "conv4_block3_1_relu (Activation (None, 13, 13, 256)  0           conv4_block3_1_bn[0][0]          \n",
            "__________________________________________________________________________________________________\n",
            "conv4_block3_2_conv (Conv2D)    (None, 13, 13, 256)  590080      conv4_block3_1_relu[0][0]        \n",
            "__________________________________________________________________________________________________\n",
            "conv4_block3_2_bn (BatchNormali (None, 13, 13, 256)  1024        conv4_block3_2_conv[0][0]        \n",
            "__________________________________________________________________________________________________\n",
            "conv4_block3_2_relu (Activation (None, 13, 13, 256)  0           conv4_block3_2_bn[0][0]          \n",
            "__________________________________________________________________________________________________\n",
            "conv4_block3_3_conv (Conv2D)    (None, 13, 13, 1024) 263168      conv4_block3_2_relu[0][0]        \n",
            "__________________________________________________________________________________________________\n",
            "conv4_block3_3_bn (BatchNormali (None, 13, 13, 1024) 4096        conv4_block3_3_conv[0][0]        \n",
            "__________________________________________________________________________________________________\n",
            "conv4_block3_add (Add)          (None, 13, 13, 1024) 0           conv4_block2_out[0][0]           \n",
            "                                                                 conv4_block3_3_bn[0][0]          \n",
            "__________________________________________________________________________________________________\n",
            "conv4_block3_out (Activation)   (None, 13, 13, 1024) 0           conv4_block3_add[0][0]           \n",
            "__________________________________________________________________________________________________\n",
            "conv4_block4_1_conv (Conv2D)    (None, 13, 13, 256)  262400      conv4_block3_out[0][0]           \n",
            "__________________________________________________________________________________________________\n",
            "conv4_block4_1_bn (BatchNormali (None, 13, 13, 256)  1024        conv4_block4_1_conv[0][0]        \n",
            "__________________________________________________________________________________________________\n",
            "conv4_block4_1_relu (Activation (None, 13, 13, 256)  0           conv4_block4_1_bn[0][0]          \n",
            "__________________________________________________________________________________________________\n",
            "conv4_block4_2_conv (Conv2D)    (None, 13, 13, 256)  590080      conv4_block4_1_relu[0][0]        \n",
            "__________________________________________________________________________________________________\n",
            "conv4_block4_2_bn (BatchNormali (None, 13, 13, 256)  1024        conv4_block4_2_conv[0][0]        \n",
            "__________________________________________________________________________________________________\n",
            "conv4_block4_2_relu (Activation (None, 13, 13, 256)  0           conv4_block4_2_bn[0][0]          \n",
            "__________________________________________________________________________________________________\n",
            "conv4_block4_3_conv (Conv2D)    (None, 13, 13, 1024) 263168      conv4_block4_2_relu[0][0]        \n",
            "__________________________________________________________________________________________________\n",
            "conv4_block4_3_bn (BatchNormali (None, 13, 13, 1024) 4096        conv4_block4_3_conv[0][0]        \n",
            "__________________________________________________________________________________________________\n",
            "conv4_block4_add (Add)          (None, 13, 13, 1024) 0           conv4_block3_out[0][0]           \n",
            "                                                                 conv4_block4_3_bn[0][0]          \n",
            "__________________________________________________________________________________________________\n",
            "conv4_block4_out (Activation)   (None, 13, 13, 1024) 0           conv4_block4_add[0][0]           \n",
            "__________________________________________________________________________________________________\n",
            "conv4_block5_1_conv (Conv2D)    (None, 13, 13, 256)  262400      conv4_block4_out[0][0]           \n",
            "__________________________________________________________________________________________________\n",
            "conv4_block5_1_bn (BatchNormali (None, 13, 13, 256)  1024        conv4_block5_1_conv[0][0]        \n",
            "__________________________________________________________________________________________________\n",
            "conv4_block5_1_relu (Activation (None, 13, 13, 256)  0           conv4_block5_1_bn[0][0]          \n",
            "__________________________________________________________________________________________________\n",
            "conv4_block5_2_conv (Conv2D)    (None, 13, 13, 256)  590080      conv4_block5_1_relu[0][0]        \n",
            "__________________________________________________________________________________________________\n",
            "conv4_block5_2_bn (BatchNormali (None, 13, 13, 256)  1024        conv4_block5_2_conv[0][0]        \n",
            "__________________________________________________________________________________________________\n",
            "conv4_block5_2_relu (Activation (None, 13, 13, 256)  0           conv4_block5_2_bn[0][0]          \n",
            "__________________________________________________________________________________________________\n",
            "conv4_block5_3_conv (Conv2D)    (None, 13, 13, 1024) 263168      conv4_block5_2_relu[0][0]        \n",
            "__________________________________________________________________________________________________\n",
            "conv4_block5_3_bn (BatchNormali (None, 13, 13, 1024) 4096        conv4_block5_3_conv[0][0]        \n",
            "__________________________________________________________________________________________________\n",
            "conv4_block5_add (Add)          (None, 13, 13, 1024) 0           conv4_block4_out[0][0]           \n",
            "                                                                 conv4_block5_3_bn[0][0]          \n",
            "__________________________________________________________________________________________________\n",
            "conv4_block5_out (Activation)   (None, 13, 13, 1024) 0           conv4_block5_add[0][0]           \n",
            "__________________________________________________________________________________________________\n",
            "conv4_block6_1_conv (Conv2D)    (None, 13, 13, 256)  262400      conv4_block5_out[0][0]           \n",
            "__________________________________________________________________________________________________\n",
            "conv4_block6_1_bn (BatchNormali (None, 13, 13, 256)  1024        conv4_block6_1_conv[0][0]        \n",
            "__________________________________________________________________________________________________\n",
            "conv4_block6_1_relu (Activation (None, 13, 13, 256)  0           conv4_block6_1_bn[0][0]          \n",
            "__________________________________________________________________________________________________\n",
            "conv4_block6_2_conv (Conv2D)    (None, 13, 13, 256)  590080      conv4_block6_1_relu[0][0]        \n",
            "__________________________________________________________________________________________________\n",
            "conv4_block6_2_bn (BatchNormali (None, 13, 13, 256)  1024        conv4_block6_2_conv[0][0]        \n",
            "__________________________________________________________________________________________________\n",
            "conv4_block6_2_relu (Activation (None, 13, 13, 256)  0           conv4_block6_2_bn[0][0]          \n",
            "__________________________________________________________________________________________________\n",
            "conv4_block6_3_conv (Conv2D)    (None, 13, 13, 1024) 263168      conv4_block6_2_relu[0][0]        \n",
            "__________________________________________________________________________________________________\n",
            "conv4_block6_3_bn (BatchNormali (None, 13, 13, 1024) 4096        conv4_block6_3_conv[0][0]        \n",
            "__________________________________________________________________________________________________\n",
            "conv4_block6_add (Add)          (None, 13, 13, 1024) 0           conv4_block5_out[0][0]           \n",
            "                                                                 conv4_block6_3_bn[0][0]          \n",
            "__________________________________________________________________________________________________\n",
            "conv4_block6_out (Activation)   (None, 13, 13, 1024) 0           conv4_block6_add[0][0]           \n",
            "__________________________________________________________________________________________________\n",
            "conv5_block1_1_conv (Conv2D)    (None, 7, 7, 512)    524800      conv4_block6_out[0][0]           \n",
            "__________________________________________________________________________________________________\n",
            "conv5_block1_1_bn (BatchNormali (None, 7, 7, 512)    2048        conv5_block1_1_conv[0][0]        \n",
            "__________________________________________________________________________________________________\n",
            "conv5_block1_1_relu (Activation (None, 7, 7, 512)    0           conv5_block1_1_bn[0][0]          \n",
            "__________________________________________________________________________________________________\n",
            "conv5_block1_2_conv (Conv2D)    (None, 7, 7, 512)    2359808     conv5_block1_1_relu[0][0]        \n",
            "__________________________________________________________________________________________________\n",
            "conv5_block1_2_bn (BatchNormali (None, 7, 7, 512)    2048        conv5_block1_2_conv[0][0]        \n",
            "__________________________________________________________________________________________________\n",
            "conv5_block1_2_relu (Activation (None, 7, 7, 512)    0           conv5_block1_2_bn[0][0]          \n",
            "__________________________________________________________________________________________________\n",
            "conv5_block1_0_conv (Conv2D)    (None, 7, 7, 2048)   2099200     conv4_block6_out[0][0]           \n",
            "__________________________________________________________________________________________________\n",
            "conv5_block1_3_conv (Conv2D)    (None, 7, 7, 2048)   1050624     conv5_block1_2_relu[0][0]        \n",
            "__________________________________________________________________________________________________\n",
            "conv5_block1_0_bn (BatchNormali (None, 7, 7, 2048)   8192        conv5_block1_0_conv[0][0]        \n",
            "__________________________________________________________________________________________________\n",
            "conv5_block1_3_bn (BatchNormali (None, 7, 7, 2048)   8192        conv5_block1_3_conv[0][0]        \n",
            "__________________________________________________________________________________________________\n",
            "conv5_block1_add (Add)          (None, 7, 7, 2048)   0           conv5_block1_0_bn[0][0]          \n",
            "                                                                 conv5_block1_3_bn[0][0]          \n",
            "__________________________________________________________________________________________________\n",
            "conv5_block1_out (Activation)   (None, 7, 7, 2048)   0           conv5_block1_add[0][0]           \n",
            "__________________________________________________________________________________________________\n",
            "conv5_block2_1_conv (Conv2D)    (None, 7, 7, 512)    1049088     conv5_block1_out[0][0]           \n",
            "__________________________________________________________________________________________________\n",
            "conv5_block2_1_bn (BatchNormali (None, 7, 7, 512)    2048        conv5_block2_1_conv[0][0]        \n",
            "__________________________________________________________________________________________________\n",
            "conv5_block2_1_relu (Activation (None, 7, 7, 512)    0           conv5_block2_1_bn[0][0]          \n",
            "__________________________________________________________________________________________________\n",
            "conv5_block2_2_conv (Conv2D)    (None, 7, 7, 512)    2359808     conv5_block2_1_relu[0][0]        \n",
            "__________________________________________________________________________________________________\n",
            "conv5_block2_2_bn (BatchNormali (None, 7, 7, 512)    2048        conv5_block2_2_conv[0][0]        \n",
            "__________________________________________________________________________________________________\n",
            "conv5_block2_2_relu (Activation (None, 7, 7, 512)    0           conv5_block2_2_bn[0][0]          \n",
            "__________________________________________________________________________________________________\n",
            "conv5_block2_3_conv (Conv2D)    (None, 7, 7, 2048)   1050624     conv5_block2_2_relu[0][0]        \n",
            "__________________________________________________________________________________________________\n",
            "conv5_block2_3_bn (BatchNormali (None, 7, 7, 2048)   8192        conv5_block2_3_conv[0][0]        \n",
            "__________________________________________________________________________________________________\n",
            "conv5_block2_add (Add)          (None, 7, 7, 2048)   0           conv5_block1_out[0][0]           \n",
            "                                                                 conv5_block2_3_bn[0][0]          \n",
            "__________________________________________________________________________________________________\n",
            "conv5_block2_out (Activation)   (None, 7, 7, 2048)   0           conv5_block2_add[0][0]           \n",
            "__________________________________________________________________________________________________\n",
            "conv5_block3_1_conv (Conv2D)    (None, 7, 7, 512)    1049088     conv5_block2_out[0][0]           \n",
            "__________________________________________________________________________________________________\n",
            "conv5_block3_1_bn (BatchNormali (None, 7, 7, 512)    2048        conv5_block3_1_conv[0][0]        \n",
            "__________________________________________________________________________________________________\n",
            "conv5_block3_1_relu (Activation (None, 7, 7, 512)    0           conv5_block3_1_bn[0][0]          \n",
            "__________________________________________________________________________________________________\n",
            "conv5_block3_2_conv (Conv2D)    (None, 7, 7, 512)    2359808     conv5_block3_1_relu[0][0]        \n",
            "__________________________________________________________________________________________________\n",
            "conv5_block3_2_bn (BatchNormali (None, 7, 7, 512)    2048        conv5_block3_2_conv[0][0]        \n",
            "__________________________________________________________________________________________________\n",
            "conv5_block3_2_relu (Activation (None, 7, 7, 512)    0           conv5_block3_2_bn[0][0]          \n",
            "__________________________________________________________________________________________________\n",
            "conv5_block3_3_conv (Conv2D)    (None, 7, 7, 2048)   1050624     conv5_block3_2_relu[0][0]        \n",
            "__________________________________________________________________________________________________\n",
            "conv5_block3_3_bn (BatchNormali (None, 7, 7, 2048)   8192        conv5_block3_3_conv[0][0]        \n",
            "__________________________________________________________________________________________________\n",
            "conv5_block3_add (Add)          (None, 7, 7, 2048)   0           conv5_block2_out[0][0]           \n",
            "                                                                 conv5_block3_3_bn[0][0]          \n",
            "__________________________________________________________________________________________________\n",
            "conv5_block3_out (Activation)   (None, 7, 7, 2048)   0           conv5_block3_add[0][0]           \n",
            "__________________________________________________________________________________________________\n",
            "global_average_pooling2d (Globa (None, 2048)         0           conv5_block3_out[0][0]           \n",
            "__________________________________________________________________________________________________\n",
            "dense (Dense)                   (None, 512)          1049088     global_average_pooling2d[0][0]   \n",
            "__________________________________________________________________________________________________\n",
            "dropout (Dropout)               (None, 512)          0           dense[0][0]                      \n",
            "__________________________________________________________________________________________________\n",
            "dense_1 (Dense)                 (None, 512)          262656      dropout[0][0]                    \n",
            "__________________________________________________________________________________________________\n",
            "dropout_1 (Dropout)             (None, 512)          0           dense_1[0][0]                    \n",
            "__________________________________________________________________________________________________\n",
            "dense_2 (Dense)                 (None, 512)          262656      dropout_1[0][0]                  \n",
            "__________________________________________________________________________________________________\n",
            "dropout_2 (Dropout)             (None, 512)          0           dense_2[0][0]                    \n",
            "__________________________________________________________________________________________________\n",
            "dense_3 (Dense)                 (None, 3)            1539        dropout_2[0][0]                  \n",
            "==================================================================================================\n",
            "Total params: 25,163,651\n",
            "Trainable params: 25,110,531\n",
            "Non-trainable params: 53,120\n",
            "__________________________________________________________________________________________________\n"
          ],
          "name": "stdout"
        }
      ]
    },
    {
      "cell_type": "code",
      "metadata": {
        "id": "f99YWWgxC99k",
        "colab_type": "code",
        "outputId": "54874936-4429-4515-9c18-ae67651590e1",
        "colab": {
          "base_uri": "https://localhost:8080/",
          "height": 1000
        }
      },
      "source": [
        "for layer in resnet_50.layers:\n",
        "    print(layer.name)\n",
        "    layer.trainable = False"
      ],
      "execution_count": 23,
      "outputs": [
        {
          "output_type": "stream",
          "text": [
            "input_1\n",
            "conv1_pad\n",
            "conv1_conv\n",
            "conv1_bn\n",
            "conv1_relu\n",
            "pool1_pad\n",
            "pool1_pool\n",
            "conv2_block1_1_conv\n",
            "conv2_block1_1_bn\n",
            "conv2_block1_1_relu\n",
            "conv2_block1_2_conv\n",
            "conv2_block1_2_bn\n",
            "conv2_block1_2_relu\n",
            "conv2_block1_0_conv\n",
            "conv2_block1_3_conv\n",
            "conv2_block1_0_bn\n",
            "conv2_block1_3_bn\n",
            "conv2_block1_add\n",
            "conv2_block1_out\n",
            "conv2_block2_1_conv\n",
            "conv2_block2_1_bn\n",
            "conv2_block2_1_relu\n",
            "conv2_block2_2_conv\n",
            "conv2_block2_2_bn\n",
            "conv2_block2_2_relu\n",
            "conv2_block2_3_conv\n",
            "conv2_block2_3_bn\n",
            "conv2_block2_add\n",
            "conv2_block2_out\n",
            "conv2_block3_1_conv\n",
            "conv2_block3_1_bn\n",
            "conv2_block3_1_relu\n",
            "conv2_block3_2_conv\n",
            "conv2_block3_2_bn\n",
            "conv2_block3_2_relu\n",
            "conv2_block3_3_conv\n",
            "conv2_block3_3_bn\n",
            "conv2_block3_add\n",
            "conv2_block3_out\n",
            "conv3_block1_1_conv\n",
            "conv3_block1_1_bn\n",
            "conv3_block1_1_relu\n",
            "conv3_block1_2_conv\n",
            "conv3_block1_2_bn\n",
            "conv3_block1_2_relu\n",
            "conv3_block1_0_conv\n",
            "conv3_block1_3_conv\n",
            "conv3_block1_0_bn\n",
            "conv3_block1_3_bn\n",
            "conv3_block1_add\n",
            "conv3_block1_out\n",
            "conv3_block2_1_conv\n",
            "conv3_block2_1_bn\n",
            "conv3_block2_1_relu\n",
            "conv3_block2_2_conv\n",
            "conv3_block2_2_bn\n",
            "conv3_block2_2_relu\n",
            "conv3_block2_3_conv\n",
            "conv3_block2_3_bn\n",
            "conv3_block2_add\n",
            "conv3_block2_out\n",
            "conv3_block3_1_conv\n",
            "conv3_block3_1_bn\n",
            "conv3_block3_1_relu\n",
            "conv3_block3_2_conv\n",
            "conv3_block3_2_bn\n",
            "conv3_block3_2_relu\n",
            "conv3_block3_3_conv\n",
            "conv3_block3_3_bn\n",
            "conv3_block3_add\n",
            "conv3_block3_out\n",
            "conv3_block4_1_conv\n",
            "conv3_block4_1_bn\n",
            "conv3_block4_1_relu\n",
            "conv3_block4_2_conv\n",
            "conv3_block4_2_bn\n",
            "conv3_block4_2_relu\n",
            "conv3_block4_3_conv\n",
            "conv3_block4_3_bn\n",
            "conv3_block4_add\n",
            "conv3_block4_out\n",
            "conv4_block1_1_conv\n",
            "conv4_block1_1_bn\n",
            "conv4_block1_1_relu\n",
            "conv4_block1_2_conv\n",
            "conv4_block1_2_bn\n",
            "conv4_block1_2_relu\n",
            "conv4_block1_0_conv\n",
            "conv4_block1_3_conv\n",
            "conv4_block1_0_bn\n",
            "conv4_block1_3_bn\n",
            "conv4_block1_add\n",
            "conv4_block1_out\n",
            "conv4_block2_1_conv\n",
            "conv4_block2_1_bn\n",
            "conv4_block2_1_relu\n",
            "conv4_block2_2_conv\n",
            "conv4_block2_2_bn\n",
            "conv4_block2_2_relu\n",
            "conv4_block2_3_conv\n",
            "conv4_block2_3_bn\n",
            "conv4_block2_add\n",
            "conv4_block2_out\n",
            "conv4_block3_1_conv\n",
            "conv4_block3_1_bn\n",
            "conv4_block3_1_relu\n",
            "conv4_block3_2_conv\n",
            "conv4_block3_2_bn\n",
            "conv4_block3_2_relu\n",
            "conv4_block3_3_conv\n",
            "conv4_block3_3_bn\n",
            "conv4_block3_add\n",
            "conv4_block3_out\n",
            "conv4_block4_1_conv\n",
            "conv4_block4_1_bn\n",
            "conv4_block4_1_relu\n",
            "conv4_block4_2_conv\n",
            "conv4_block4_2_bn\n",
            "conv4_block4_2_relu\n",
            "conv4_block4_3_conv\n",
            "conv4_block4_3_bn\n",
            "conv4_block4_add\n",
            "conv4_block4_out\n",
            "conv4_block5_1_conv\n",
            "conv4_block5_1_bn\n",
            "conv4_block5_1_relu\n",
            "conv4_block5_2_conv\n",
            "conv4_block5_2_bn\n",
            "conv4_block5_2_relu\n",
            "conv4_block5_3_conv\n",
            "conv4_block5_3_bn\n",
            "conv4_block5_add\n",
            "conv4_block5_out\n",
            "conv4_block6_1_conv\n",
            "conv4_block6_1_bn\n",
            "conv4_block6_1_relu\n",
            "conv4_block6_2_conv\n",
            "conv4_block6_2_bn\n",
            "conv4_block6_2_relu\n",
            "conv4_block6_3_conv\n",
            "conv4_block6_3_bn\n",
            "conv4_block6_add\n",
            "conv4_block6_out\n",
            "conv5_block1_1_conv\n",
            "conv5_block1_1_bn\n",
            "conv5_block1_1_relu\n",
            "conv5_block1_2_conv\n",
            "conv5_block1_2_bn\n",
            "conv5_block1_2_relu\n",
            "conv5_block1_0_conv\n",
            "conv5_block1_3_conv\n",
            "conv5_block1_0_bn\n",
            "conv5_block1_3_bn\n",
            "conv5_block1_add\n",
            "conv5_block1_out\n",
            "conv5_block2_1_conv\n",
            "conv5_block2_1_bn\n",
            "conv5_block2_1_relu\n",
            "conv5_block2_2_conv\n",
            "conv5_block2_2_bn\n",
            "conv5_block2_2_relu\n",
            "conv5_block2_3_conv\n",
            "conv5_block2_3_bn\n",
            "conv5_block2_add\n",
            "conv5_block2_out\n",
            "conv5_block3_1_conv\n",
            "conv5_block3_1_bn\n",
            "conv5_block3_1_relu\n",
            "conv5_block3_2_conv\n",
            "conv5_block3_2_bn\n",
            "conv5_block3_2_relu\n",
            "conv5_block3_3_conv\n",
            "conv5_block3_3_bn\n",
            "conv5_block3_add\n",
            "conv5_block3_out\n"
          ],
          "name": "stdout"
        }
      ]
    },
    {
      "cell_type": "code",
      "metadata": {
        "id": "y2P0-ZTaDAPW",
        "colab_type": "code",
        "outputId": "77da5e31-8586-443e-cfc9-0dc7f0f771f0",
        "colab": {
          "base_uri": "https://localhost:8080/",
          "height": 1000
        }
      },
      "source": [
        "for layer in base_resnet50_model.layers:\n",
        "    print(layer.name,' Trainable =',layer.trainable)"
      ],
      "execution_count": 24,
      "outputs": [
        {
          "output_type": "stream",
          "text": [
            "input_1  Trainable = False\n",
            "conv1_pad  Trainable = False\n",
            "conv1_conv  Trainable = False\n",
            "conv1_bn  Trainable = False\n",
            "conv1_relu  Trainable = False\n",
            "pool1_pad  Trainable = False\n",
            "pool1_pool  Trainable = False\n",
            "conv2_block1_1_conv  Trainable = False\n",
            "conv2_block1_1_bn  Trainable = False\n",
            "conv2_block1_1_relu  Trainable = False\n",
            "conv2_block1_2_conv  Trainable = False\n",
            "conv2_block1_2_bn  Trainable = False\n",
            "conv2_block1_2_relu  Trainable = False\n",
            "conv2_block1_0_conv  Trainable = False\n",
            "conv2_block1_3_conv  Trainable = False\n",
            "conv2_block1_0_bn  Trainable = False\n",
            "conv2_block1_3_bn  Trainable = False\n",
            "conv2_block1_add  Trainable = False\n",
            "conv2_block1_out  Trainable = False\n",
            "conv2_block2_1_conv  Trainable = False\n",
            "conv2_block2_1_bn  Trainable = False\n",
            "conv2_block2_1_relu  Trainable = False\n",
            "conv2_block2_2_conv  Trainable = False\n",
            "conv2_block2_2_bn  Trainable = False\n",
            "conv2_block2_2_relu  Trainable = False\n",
            "conv2_block2_3_conv  Trainable = False\n",
            "conv2_block2_3_bn  Trainable = False\n",
            "conv2_block2_add  Trainable = False\n",
            "conv2_block2_out  Trainable = False\n",
            "conv2_block3_1_conv  Trainable = False\n",
            "conv2_block3_1_bn  Trainable = False\n",
            "conv2_block3_1_relu  Trainable = False\n",
            "conv2_block3_2_conv  Trainable = False\n",
            "conv2_block3_2_bn  Trainable = False\n",
            "conv2_block3_2_relu  Trainable = False\n",
            "conv2_block3_3_conv  Trainable = False\n",
            "conv2_block3_3_bn  Trainable = False\n",
            "conv2_block3_add  Trainable = False\n",
            "conv2_block3_out  Trainable = False\n",
            "conv3_block1_1_conv  Trainable = False\n",
            "conv3_block1_1_bn  Trainable = False\n",
            "conv3_block1_1_relu  Trainable = False\n",
            "conv3_block1_2_conv  Trainable = False\n",
            "conv3_block1_2_bn  Trainable = False\n",
            "conv3_block1_2_relu  Trainable = False\n",
            "conv3_block1_0_conv  Trainable = False\n",
            "conv3_block1_3_conv  Trainable = False\n",
            "conv3_block1_0_bn  Trainable = False\n",
            "conv3_block1_3_bn  Trainable = False\n",
            "conv3_block1_add  Trainable = False\n",
            "conv3_block1_out  Trainable = False\n",
            "conv3_block2_1_conv  Trainable = False\n",
            "conv3_block2_1_bn  Trainable = False\n",
            "conv3_block2_1_relu  Trainable = False\n",
            "conv3_block2_2_conv  Trainable = False\n",
            "conv3_block2_2_bn  Trainable = False\n",
            "conv3_block2_2_relu  Trainable = False\n",
            "conv3_block2_3_conv  Trainable = False\n",
            "conv3_block2_3_bn  Trainable = False\n",
            "conv3_block2_add  Trainable = False\n",
            "conv3_block2_out  Trainable = False\n",
            "conv3_block3_1_conv  Trainable = False\n",
            "conv3_block3_1_bn  Trainable = False\n",
            "conv3_block3_1_relu  Trainable = False\n",
            "conv3_block3_2_conv  Trainable = False\n",
            "conv3_block3_2_bn  Trainable = False\n",
            "conv3_block3_2_relu  Trainable = False\n",
            "conv3_block3_3_conv  Trainable = False\n",
            "conv3_block3_3_bn  Trainable = False\n",
            "conv3_block3_add  Trainable = False\n",
            "conv3_block3_out  Trainable = False\n",
            "conv3_block4_1_conv  Trainable = False\n",
            "conv3_block4_1_bn  Trainable = False\n",
            "conv3_block4_1_relu  Trainable = False\n",
            "conv3_block4_2_conv  Trainable = False\n",
            "conv3_block4_2_bn  Trainable = False\n",
            "conv3_block4_2_relu  Trainable = False\n",
            "conv3_block4_3_conv  Trainable = False\n",
            "conv3_block4_3_bn  Trainable = False\n",
            "conv3_block4_add  Trainable = False\n",
            "conv3_block4_out  Trainable = False\n",
            "conv4_block1_1_conv  Trainable = False\n",
            "conv4_block1_1_bn  Trainable = False\n",
            "conv4_block1_1_relu  Trainable = False\n",
            "conv4_block1_2_conv  Trainable = False\n",
            "conv4_block1_2_bn  Trainable = False\n",
            "conv4_block1_2_relu  Trainable = False\n",
            "conv4_block1_0_conv  Trainable = False\n",
            "conv4_block1_3_conv  Trainable = False\n",
            "conv4_block1_0_bn  Trainable = False\n",
            "conv4_block1_3_bn  Trainable = False\n",
            "conv4_block1_add  Trainable = False\n",
            "conv4_block1_out  Trainable = False\n",
            "conv4_block2_1_conv  Trainable = False\n",
            "conv4_block2_1_bn  Trainable = False\n",
            "conv4_block2_1_relu  Trainable = False\n",
            "conv4_block2_2_conv  Trainable = False\n",
            "conv4_block2_2_bn  Trainable = False\n",
            "conv4_block2_2_relu  Trainable = False\n",
            "conv4_block2_3_conv  Trainable = False\n",
            "conv4_block2_3_bn  Trainable = False\n",
            "conv4_block2_add  Trainable = False\n",
            "conv4_block2_out  Trainable = False\n",
            "conv4_block3_1_conv  Trainable = False\n",
            "conv4_block3_1_bn  Trainable = False\n",
            "conv4_block3_1_relu  Trainable = False\n",
            "conv4_block3_2_conv  Trainable = False\n",
            "conv4_block3_2_bn  Trainable = False\n",
            "conv4_block3_2_relu  Trainable = False\n",
            "conv4_block3_3_conv  Trainable = False\n",
            "conv4_block3_3_bn  Trainable = False\n",
            "conv4_block3_add  Trainable = False\n",
            "conv4_block3_out  Trainable = False\n",
            "conv4_block4_1_conv  Trainable = False\n",
            "conv4_block4_1_bn  Trainable = False\n",
            "conv4_block4_1_relu  Trainable = False\n",
            "conv4_block4_2_conv  Trainable = False\n",
            "conv4_block4_2_bn  Trainable = False\n",
            "conv4_block4_2_relu  Trainable = False\n",
            "conv4_block4_3_conv  Trainable = False\n",
            "conv4_block4_3_bn  Trainable = False\n",
            "conv4_block4_add  Trainable = False\n",
            "conv4_block4_out  Trainable = False\n",
            "conv4_block5_1_conv  Trainable = False\n",
            "conv4_block5_1_bn  Trainable = False\n",
            "conv4_block5_1_relu  Trainable = False\n",
            "conv4_block5_2_conv  Trainable = False\n",
            "conv4_block5_2_bn  Trainable = False\n",
            "conv4_block5_2_relu  Trainable = False\n",
            "conv4_block5_3_conv  Trainable = False\n",
            "conv4_block5_3_bn  Trainable = False\n",
            "conv4_block5_add  Trainable = False\n",
            "conv4_block5_out  Trainable = False\n",
            "conv4_block6_1_conv  Trainable = False\n",
            "conv4_block6_1_bn  Trainable = False\n",
            "conv4_block6_1_relu  Trainable = False\n",
            "conv4_block6_2_conv  Trainable = False\n",
            "conv4_block6_2_bn  Trainable = False\n",
            "conv4_block6_2_relu  Trainable = False\n",
            "conv4_block6_3_conv  Trainable = False\n",
            "conv4_block6_3_bn  Trainable = False\n",
            "conv4_block6_add  Trainable = False\n",
            "conv4_block6_out  Trainable = False\n",
            "conv5_block1_1_conv  Trainable = False\n",
            "conv5_block1_1_bn  Trainable = False\n",
            "conv5_block1_1_relu  Trainable = False\n",
            "conv5_block1_2_conv  Trainable = False\n",
            "conv5_block1_2_bn  Trainable = False\n",
            "conv5_block1_2_relu  Trainable = False\n",
            "conv5_block1_0_conv  Trainable = False\n",
            "conv5_block1_3_conv  Trainable = False\n",
            "conv5_block1_0_bn  Trainable = False\n",
            "conv5_block1_3_bn  Trainable = False\n",
            "conv5_block1_add  Trainable = False\n",
            "conv5_block1_out  Trainable = False\n",
            "conv5_block2_1_conv  Trainable = False\n",
            "conv5_block2_1_bn  Trainable = False\n",
            "conv5_block2_1_relu  Trainable = False\n",
            "conv5_block2_2_conv  Trainable = False\n",
            "conv5_block2_2_bn  Trainable = False\n",
            "conv5_block2_2_relu  Trainable = False\n",
            "conv5_block2_3_conv  Trainable = False\n",
            "conv5_block2_3_bn  Trainable = False\n",
            "conv5_block2_add  Trainable = False\n",
            "conv5_block2_out  Trainable = False\n",
            "conv5_block3_1_conv  Trainable = False\n",
            "conv5_block3_1_bn  Trainable = False\n",
            "conv5_block3_1_relu  Trainable = False\n",
            "conv5_block3_2_conv  Trainable = False\n",
            "conv5_block3_2_bn  Trainable = False\n",
            "conv5_block3_2_relu  Trainable = False\n",
            "conv5_block3_3_conv  Trainable = False\n",
            "conv5_block3_3_bn  Trainable = False\n",
            "conv5_block3_add  Trainable = False\n",
            "conv5_block3_out  Trainable = False\n",
            "global_average_pooling2d  Trainable = True\n",
            "dense  Trainable = True\n",
            "dropout  Trainable = True\n",
            "dense_1  Trainable = True\n",
            "dropout_1  Trainable = True\n",
            "dense_2  Trainable = True\n",
            "dropout_2  Trainable = True\n",
            "dense_3  Trainable = True\n"
          ],
          "name": "stdout"
        }
      ]
    },
    {
      "cell_type": "code",
      "metadata": {
        "id": "wOYp6zEBDDF9",
        "colab_type": "code",
        "colab": {}
      },
      "source": [
        "opt = tf.keras.optimizers.Adam(lr=0.001)\n",
        "# compile the model (should be done *after* setting layers to non-trainable)\n",
        "base_resnet50_model.compile(optimizer=opt, loss='categorical_crossentropy',metrics=['accuracy'])"
      ],
      "execution_count": 0,
      "outputs": []
    },
    {
      "cell_type": "markdown",
      "metadata": {
        "id": "2_l1DM1tzvMq",
        "colab_type": "text"
      },
      "source": [
        "#### fitting the model"
      ]
    },
    {
      "cell_type": "code",
      "metadata": {
        "id": "ZilESfkQDI0b",
        "colab_type": "code",
        "outputId": "942f0ec3-d499-4e9a-9d29-4b6ab89c80f6",
        "colab": {
          "base_uri": "https://localhost:8080/",
          "height": 1000
        }
      },
      "source": [
        "train_steps = int(len(df_train)/batch_size) #total trains set / batch_size\n",
        "val_steps = int(len(df_val)/batch_size)\n",
        "\n",
        "print('train steps:',train_steps)\n",
        "print('val steps:',val_steps)\n",
        "epochs = 50\n",
        "\n",
        "#es = EarlyStopping(monitor='accuracy', mode='max', verbose=1, patience=15)\n",
        "\n",
        "resnet_model_filepath = 'CMS/entirely_frozen_resnet50_Adam.h5'\n",
        "mcp = ModelCheckpoint(resnet_model_filepath, monitor='accuracy', save_best_only=True, mode='max')\n",
        "\n",
        "### Train the model with validation \n",
        "entirely_frozen_resnet50_history = base_resnet50_model.fit( train_dataset, steps_per_epoch = train_steps,\n",
        "                   epochs = epochs,\n",
        "                   validation_data = valid_dataset,\n",
        "                   validation_steps = val_steps,\n",
        "                   callbacks= [#es, \n",
        "                               mcp])"
      ],
      "execution_count": 26,
      "outputs": [
        {
          "output_type": "stream",
          "text": [
            "train steps: 24\n",
            "val steps: 3\n",
            "Train for 24 steps, validate for 3 steps\n",
            "Epoch 1/50\n",
            "24/24 [==============================] - 1260s 53s/step - loss: 0.9146 - accuracy: 0.5663 - val_loss: 1.2944 - val_accuracy: 0.3222\n",
            "Epoch 2/50\n",
            "24/24 [==============================] - 15s 621ms/step - loss: 0.6425 - accuracy: 0.6990 - val_loss: 1.2547 - val_accuracy: 0.3222\n",
            "Epoch 3/50\n",
            "24/24 [==============================] - 15s 613ms/step - loss: 0.5814 - accuracy: 0.7330 - val_loss: 1.3098 - val_accuracy: 0.3167\n",
            "Epoch 4/50\n",
            "24/24 [==============================] - 15s 637ms/step - loss: 0.5631 - accuracy: 0.7434 - val_loss: 1.4323 - val_accuracy: 0.3111\n",
            "Epoch 5/50\n",
            "24/24 [==============================] - 15s 613ms/step - loss: 0.5397 - accuracy: 0.7594 - val_loss: 1.7288 - val_accuracy: 0.3111\n",
            "Epoch 6/50\n",
            "24/24 [==============================] - 15s 617ms/step - loss: 0.5258 - accuracy: 0.7608 - val_loss: 1.7314 - val_accuracy: 0.3111\n",
            "Epoch 7/50\n",
            "24/24 [==============================] - 16s 650ms/step - loss: 0.5178 - accuracy: 0.7701 - val_loss: 2.0660 - val_accuracy: 0.3111\n",
            "Epoch 8/50\n",
            "24/24 [==============================] - 15s 623ms/step - loss: 0.5035 - accuracy: 0.7760 - val_loss: 1.8154 - val_accuracy: 0.3111\n",
            "Epoch 9/50\n",
            "24/24 [==============================] - 13s 552ms/step - loss: 0.5087 - accuracy: 0.7729 - val_loss: 1.8718 - val_accuracy: 0.3111\n",
            "Epoch 10/50\n",
            "24/24 [==============================] - 15s 630ms/step - loss: 0.4860 - accuracy: 0.7806 - val_loss: 1.6554 - val_accuracy: 0.3111\n",
            "Epoch 11/50\n",
            "24/24 [==============================] - 16s 653ms/step - loss: 0.4795 - accuracy: 0.7854 - val_loss: 1.9313 - val_accuracy: 0.3111\n",
            "Epoch 12/50\n",
            "24/24 [==============================] - 15s 617ms/step - loss: 0.4622 - accuracy: 0.7896 - val_loss: 1.5386 - val_accuracy: 0.3222\n",
            "Epoch 13/50\n",
            "24/24 [==============================] - 13s 551ms/step - loss: 0.4576 - accuracy: 0.7833 - val_loss: 1.4267 - val_accuracy: 0.3250\n",
            "Epoch 14/50\n",
            "24/24 [==============================] - 15s 627ms/step - loss: 0.4442 - accuracy: 0.8069 - val_loss: 1.4615 - val_accuracy: 0.3194\n",
            "Epoch 15/50\n",
            "24/24 [==============================] - 13s 549ms/step - loss: 0.4395 - accuracy: 0.8017 - val_loss: 1.5851 - val_accuracy: 0.3139\n",
            "Epoch 16/50\n",
            "24/24 [==============================] - 15s 619ms/step - loss: 0.4173 - accuracy: 0.8104 - val_loss: 1.6749 - val_accuracy: 0.3111\n",
            "Epoch 17/50\n",
            "24/24 [==============================] - 15s 622ms/step - loss: 0.4220 - accuracy: 0.8111 - val_loss: 1.6167 - val_accuracy: 0.3167\n",
            "Epoch 18/50\n",
            "24/24 [==============================] - 15s 621ms/step - loss: 0.4113 - accuracy: 0.8139 - val_loss: 2.0217 - val_accuracy: 0.3111\n",
            "Epoch 19/50\n",
            "24/24 [==============================] - 13s 552ms/step - loss: 0.4156 - accuracy: 0.8083 - val_loss: 2.3733 - val_accuracy: 0.3111\n",
            "Epoch 20/50\n",
            "24/24 [==============================] - 13s 544ms/step - loss: 0.4051 - accuracy: 0.8139 - val_loss: 2.0591 - val_accuracy: 0.3111\n",
            "Epoch 21/50\n",
            "24/24 [==============================] - 15s 618ms/step - loss: 0.4007 - accuracy: 0.8194 - val_loss: 2.0832 - val_accuracy: 0.3111\n",
            "Epoch 22/50\n",
            "24/24 [==============================] - 13s 549ms/step - loss: 0.4191 - accuracy: 0.8042 - val_loss: 1.6852 - val_accuracy: 0.3194\n",
            "Epoch 23/50\n",
            "24/24 [==============================] - 13s 550ms/step - loss: 0.4073 - accuracy: 0.8132 - val_loss: 1.9519 - val_accuracy: 0.3139\n",
            "Epoch 24/50\n",
            "24/24 [==============================] - 15s 629ms/step - loss: 0.3982 - accuracy: 0.8201 - val_loss: 1.5373 - val_accuracy: 0.3333\n",
            "Epoch 25/50\n",
            "24/24 [==============================] - 15s 615ms/step - loss: 0.3841 - accuracy: 0.8278 - val_loss: 1.7564 - val_accuracy: 0.3194\n",
            "Epoch 26/50\n",
            "24/24 [==============================] - 15s 615ms/step - loss: 0.3719 - accuracy: 0.8340 - val_loss: 2.6563 - val_accuracy: 0.3111\n",
            "Epoch 27/50\n",
            "24/24 [==============================] - 13s 550ms/step - loss: 0.3779 - accuracy: 0.8236 - val_loss: 2.3396 - val_accuracy: 0.3167\n",
            "Epoch 28/50\n",
            "24/24 [==============================] - 13s 551ms/step - loss: 0.3721 - accuracy: 0.8313 - val_loss: 1.7252 - val_accuracy: 0.3639\n",
            "Epoch 29/50\n",
            "24/24 [==============================] - 13s 547ms/step - loss: 0.3756 - accuracy: 0.8288 - val_loss: 2.0656 - val_accuracy: 0.3139\n",
            "Epoch 30/50\n",
            "24/24 [==============================] - 13s 547ms/step - loss: 0.3604 - accuracy: 0.8326 - val_loss: 1.3872 - val_accuracy: 0.4778\n",
            "Epoch 31/50\n",
            "24/24 [==============================] - 13s 548ms/step - loss: 0.3638 - accuracy: 0.8285 - val_loss: 1.4128 - val_accuracy: 0.3611\n",
            "Epoch 32/50\n",
            "24/24 [==============================] - 13s 546ms/step - loss: 0.3630 - accuracy: 0.8260 - val_loss: 1.5672 - val_accuracy: 0.4000\n",
            "Epoch 33/50\n",
            "24/24 [==============================] - 16s 651ms/step - loss: 0.3492 - accuracy: 0.8396 - val_loss: 1.5130 - val_accuracy: 0.3528\n",
            "Epoch 34/50\n",
            "24/24 [==============================] - 15s 624ms/step - loss: 0.3422 - accuracy: 0.8403 - val_loss: 1.1102 - val_accuracy: 0.4472\n",
            "Epoch 35/50\n",
            "24/24 [==============================] - 13s 556ms/step - loss: 0.3498 - accuracy: 0.8372 - val_loss: 2.1282 - val_accuracy: 0.3167\n",
            "Epoch 36/50\n",
            "24/24 [==============================] - 13s 545ms/step - loss: 0.3500 - accuracy: 0.8389 - val_loss: 1.2339 - val_accuracy: 0.4139\n",
            "Epoch 37/50\n",
            "24/24 [==============================] - 13s 546ms/step - loss: 0.3336 - accuracy: 0.8365 - val_loss: 1.0807 - val_accuracy: 0.4500\n",
            "Epoch 38/50\n",
            "24/24 [==============================] - 15s 621ms/step - loss: 0.3383 - accuracy: 0.8441 - val_loss: 1.2860 - val_accuracy: 0.4083\n",
            "Epoch 39/50\n",
            "24/24 [==============================] - 13s 555ms/step - loss: 0.3547 - accuracy: 0.8372 - val_loss: 1.1675 - val_accuracy: 0.4444\n",
            "Epoch 40/50\n",
            "24/24 [==============================] - 13s 549ms/step - loss: 0.3791 - accuracy: 0.8191 - val_loss: 1.4449 - val_accuracy: 0.3528\n",
            "Epoch 41/50\n",
            "24/24 [==============================] - 13s 547ms/step - loss: 0.3593 - accuracy: 0.8156 - val_loss: 1.1542 - val_accuracy: 0.4556\n",
            "Epoch 42/50\n",
            "24/24 [==============================] - 13s 548ms/step - loss: 0.3701 - accuracy: 0.8222 - val_loss: 1.1112 - val_accuracy: 0.4528\n",
            "Epoch 43/50\n",
            "24/24 [==============================] - 13s 545ms/step - loss: 0.3462 - accuracy: 0.8354 - val_loss: 0.9949 - val_accuracy: 0.4806\n",
            "Epoch 44/50\n",
            "24/24 [==============================] - 15s 622ms/step - loss: 0.3163 - accuracy: 0.8528 - val_loss: 1.0348 - val_accuracy: 0.5028\n",
            "Epoch 45/50\n",
            "24/24 [==============================] - 13s 546ms/step - loss: 0.3218 - accuracy: 0.8524 - val_loss: 0.9963 - val_accuracy: 0.5139\n",
            "Epoch 46/50\n",
            "24/24 [==============================] - 13s 546ms/step - loss: 0.3183 - accuracy: 0.8483 - val_loss: 1.0464 - val_accuracy: 0.4944\n",
            "Epoch 47/50\n",
            "24/24 [==============================] - 13s 545ms/step - loss: 0.3069 - accuracy: 0.8528 - val_loss: 0.8722 - val_accuracy: 0.6000\n",
            "Epoch 48/50\n",
            "24/24 [==============================] - 13s 540ms/step - loss: 0.3254 - accuracy: 0.8406 - val_loss: 0.8137 - val_accuracy: 0.5889\n",
            "Epoch 49/50\n",
            "24/24 [==============================] - 13s 547ms/step - loss: 0.3354 - accuracy: 0.8257 - val_loss: 1.1180 - val_accuracy: 0.5306\n",
            "Epoch 50/50\n",
            "24/24 [==============================] - 13s 542ms/step - loss: 0.3415 - accuracy: 0.8167 - val_loss: 1.0769 - val_accuracy: 0.5750\n"
          ],
          "name": "stdout"
        }
      ]
    },
    {
      "cell_type": "code",
      "metadata": {
        "id": "T_uiY7h76bLQ",
        "colab_type": "code",
        "outputId": "2e722ba9-fe19-40a7-e731-cf96e53ca0f3",
        "colab": {
          "base_uri": "https://localhost:8080/",
          "height": 34
        }
      },
      "source": [
        " "
      ],
      "execution_count": 0,
      "outputs": [
        {
          "output_type": "stream",
          "text": [
            "/content/drive/My Drive\n"
          ],
          "name": "stdout"
        }
      ]
    },
    {
      "cell_type": "markdown",
      "metadata": {
        "id": "1DEF-C99Vlv0",
        "colab_type": "text"
      },
      "source": [
        "#### testing the model"
      ]
    },
    {
      "cell_type": "code",
      "metadata": {
        "id": "9ExLpzmeQaS_",
        "colab_type": "code",
        "outputId": "5975506c-f4e5-4310-a4b2-701cbda21764",
        "colab": {
          "base_uri": "https://localhost:8080/",
          "height": 70
        }
      },
      "source": [
        "test_steps = int(len(df_test)/batch_size)\n",
        "\n",
        "metrics = base_resnet50_model.evaluate(test_dataset,\n",
        "                   steps = test_steps)\n",
        "print(\"model accuracy:\",metrics[1])"
      ],
      "execution_count": 27,
      "outputs": [
        {
          "output_type": "stream",
          "text": [
            "3/3 [==============================] - 137s 46s/step - loss: 0.9968 - accuracy: 0.5944\n",
            "model accuracy: 0.59444445\n"
          ],
          "name": "stdout"
        }
      ]
    },
    {
      "cell_type": "markdown",
      "metadata": {
        "id": "hBL8c11yrqqX",
        "colab_type": "text"
      },
      "source": [
        "#### plotting training"
      ]
    },
    {
      "cell_type": "code",
      "metadata": {
        "id": "K8LjQA1mh1vN",
        "colab_type": "code",
        "outputId": "127f3f7b-9ed3-4c95-e2d0-3af5938927b8",
        "colab": {
          "base_uri": "https://localhost:8080/",
          "height": 573
        }
      },
      "source": [
        "plot_hist(entirely_frozen_resnet50_history, 'entirely_frozen_resnet50_Adam')"
      ],
      "execution_count": 28,
      "outputs": [
        {
          "output_type": "display_data",
          "data": {
            "image/png": "[encoded data removed]",
            "text/plain": [
              "<Figure size 432x288 with 1 Axes>"
            ]
          },
          "metadata": {
            "tags": []
          }
        },
        {
          "output_type": "display_data",
          "data": {
            "image/png": "[encoded data removed]",
            "text/plain": [
              "<Figure size 432x288 with 1 Axes>"
            ]
          },
          "metadata": {
            "tags": []
          }
        }
      ]
    },
    {
      "cell_type": "markdown",
      "metadata": {
        "id": "m_ZrJLmlg2p1",
        "colab_type": "text"
      },
      "source": [
        "#### saving the history of the fitting"
      ]
    },
    {
      "cell_type": "code",
      "metadata": {
        "id": "MtsOK4BTguPo",
        "colab_type": "code",
        "outputId": "bd6d89ba-ae24-41eb-b5ea-6f42f0d18652",
        "colab": {
          "base_uri": "https://localhost:8080/",
          "height": 34
        }
      },
      "source": [
        "\n",
        "with open(cwd + '/trainHistoryDict/basic_resnet50_history_Adam.p', 'wb') as file_pi:\n",
        "        pickle.dump(entirely_frozen_resnet50_history.history, file_pi)\n",
        "print('history saved')"
      ],
      "execution_count": 29,
      "outputs": [
        {
          "output_type": "stream",
          "text": [
            "history saved\n"
          ],
          "name": "stdout"
        }
      ]
    },
    {
      "cell_type": "markdown",
      "metadata": {
        "id": "OCGpPP-l1J7_",
        "colab_type": "text"
      },
      "source": [
        "## Few layers unfrozen"
      ]
    },
    {
      "cell_type": "markdown",
      "metadata": {
        "id": "9NTvh7-AmF2h",
        "colab_type": "text"
      },
      "source": [
        "#### loading model"
      ]
    },
    {
      "cell_type": "code",
      "metadata": {
        "id": "kPl0Png5yCQd",
        "colab_type": "code",
        "colab": {}
      },
      "source": [
        "resnet_50 = tf.keras.applications.ResNet50(\n",
        "    include_top=False,\n",
        "    weights='imagenet',\n",
        "    input_shape=(200,200,3),\n",
        "    pooling=None\n",
        ")"
      ],
      "execution_count": 0,
      "outputs": []
    },
    {
      "cell_type": "markdown",
      "metadata": {
        "id": "qOpVXZpbmKFX",
        "colab_type": "text"
      },
      "source": [
        "#### modifying slightly"
      ]
    },
    {
      "cell_type": "code",
      "metadata": {
        "id": "Z08msq2tyDc4",
        "colab_type": "code",
        "colab": {}
      },
      "source": [
        "x = resnet_50.output\n",
        "\n",
        "x = GlobalAveragePooling2D()(x)\n",
        "\n",
        "# let's add a fully-connected layer\n",
        "x = Dense(512, activation='relu')(x)\n",
        "\n",
        "x = Dropout(0.5)(x)\n",
        "\n",
        "#x = GlobalAveragePooling2D()(x)\n",
        "\n",
        "# let's add a fully-connected layer\n",
        "x = Dense(512, activation='relu')(x)\n",
        "\n",
        "x = Dropout(0.5)(x)\n",
        "\n",
        "# let's add a fully-connected layer\n",
        "x = Dense(512, activation='relu')(x)\n",
        "\n",
        "x = Dropout(0.5)(x)\n",
        "\n",
        "# and a logits layer -- let's say we have 3 classes\n",
        "predictions = Dense(3, activation='softmax')(x)\n"
      ],
      "execution_count": 0,
      "outputs": []
    },
    {
      "cell_type": "markdown",
      "metadata": {
        "id": "f0ECvPigmTNh",
        "colab_type": "text"
      },
      "source": [
        "#### creating model object"
      ]
    },
    {
      "cell_type": "code",
      "metadata": {
        "id": "03eslAo6mAYJ",
        "colab_type": "code",
        "colab": {}
      },
      "source": [
        "# this is the model we will train\n",
        "few_unfrozen_resnet_model = Model(inputs=resnet_50.input, outputs=predictions)"
      ],
      "execution_count": 0,
      "outputs": []
    },
    {
      "cell_type": "code",
      "metadata": {
        "id": "fQ5uYuz7l2aQ",
        "colab_type": "code",
        "outputId": "ae64f590-d327-4da1-e331-1ad67c988339",
        "colab": {
          "base_uri": "https://localhost:8080/",
          "height": 1000
        }
      },
      "source": [
        " for layer in resnet_50.layers:\n",
        "    print(layer.name)\n",
        "    layer.trainable = False"
      ],
      "execution_count": 0,
      "outputs": [
        {
          "output_type": "stream",
          "text": [
            "input_3\n",
            "conv1_pad\n",
            "conv1_conv\n",
            "conv1_bn\n",
            "conv1_relu\n",
            "pool1_pad\n",
            "pool1_pool\n",
            "conv2_block1_1_conv\n",
            "conv2_block1_1_bn\n",
            "conv2_block1_1_relu\n",
            "conv2_block1_2_conv\n",
            "conv2_block1_2_bn\n",
            "conv2_block1_2_relu\n",
            "conv2_block1_0_conv\n",
            "conv2_block1_3_conv\n",
            "conv2_block1_0_bn\n",
            "conv2_block1_3_bn\n",
            "conv2_block1_add\n",
            "conv2_block1_out\n",
            "conv2_block2_1_conv\n",
            "conv2_block2_1_bn\n",
            "conv2_block2_1_relu\n",
            "conv2_block2_2_conv\n",
            "conv2_block2_2_bn\n",
            "conv2_block2_2_relu\n",
            "conv2_block2_3_conv\n",
            "conv2_block2_3_bn\n",
            "conv2_block2_add\n",
            "conv2_block2_out\n",
            "conv2_block3_1_conv\n",
            "conv2_block3_1_bn\n",
            "conv2_block3_1_relu\n",
            "conv2_block3_2_conv\n",
            "conv2_block3_2_bn\n",
            "conv2_block3_2_relu\n",
            "conv2_block3_3_conv\n",
            "conv2_block3_3_bn\n",
            "conv2_block3_add\n",
            "conv2_block3_out\n",
            "conv3_block1_1_conv\n",
            "conv3_block1_1_bn\n",
            "conv3_block1_1_relu\n",
            "conv3_block1_2_conv\n",
            "conv3_block1_2_bn\n",
            "conv3_block1_2_relu\n",
            "conv3_block1_0_conv\n",
            "conv3_block1_3_conv\n",
            "conv3_block1_0_bn\n",
            "conv3_block1_3_bn\n",
            "conv3_block1_add\n",
            "conv3_block1_out\n",
            "conv3_block2_1_conv\n",
            "conv3_block2_1_bn\n",
            "conv3_block2_1_relu\n",
            "conv3_block2_2_conv\n",
            "conv3_block2_2_bn\n",
            "conv3_block2_2_relu\n",
            "conv3_block2_3_conv\n",
            "conv3_block2_3_bn\n",
            "conv3_block2_add\n",
            "conv3_block2_out\n",
            "conv3_block3_1_conv\n",
            "conv3_block3_1_bn\n",
            "conv3_block3_1_relu\n",
            "conv3_block3_2_conv\n",
            "conv3_block3_2_bn\n",
            "conv3_block3_2_relu\n",
            "conv3_block3_3_conv\n",
            "conv3_block3_3_bn\n",
            "conv3_block3_add\n",
            "conv3_block3_out\n",
            "conv3_block4_1_conv\n",
            "conv3_block4_1_bn\n",
            "conv3_block4_1_relu\n",
            "conv3_block4_2_conv\n",
            "conv3_block4_2_bn\n",
            "conv3_block4_2_relu\n",
            "conv3_block4_3_conv\n",
            "conv3_block4_3_bn\n",
            "conv3_block4_add\n",
            "conv3_block4_out\n",
            "conv4_block1_1_conv\n",
            "conv4_block1_1_bn\n",
            "conv4_block1_1_relu\n",
            "conv4_block1_2_conv\n",
            "conv4_block1_2_bn\n",
            "conv4_block1_2_relu\n",
            "conv4_block1_0_conv\n",
            "conv4_block1_3_conv\n",
            "conv4_block1_0_bn\n",
            "conv4_block1_3_bn\n",
            "conv4_block1_add\n",
            "conv4_block1_out\n",
            "conv4_block2_1_conv\n",
            "conv4_block2_1_bn\n",
            "conv4_block2_1_relu\n",
            "conv4_block2_2_conv\n",
            "conv4_block2_2_bn\n",
            "conv4_block2_2_relu\n",
            "conv4_block2_3_conv\n",
            "conv4_block2_3_bn\n",
            "conv4_block2_add\n",
            "conv4_block2_out\n",
            "conv4_block3_1_conv\n",
            "conv4_block3_1_bn\n",
            "conv4_block3_1_relu\n",
            "conv4_block3_2_conv\n",
            "conv4_block3_2_bn\n",
            "conv4_block3_2_relu\n",
            "conv4_block3_3_conv\n",
            "conv4_block3_3_bn\n",
            "conv4_block3_add\n",
            "conv4_block3_out\n",
            "conv4_block4_1_conv\n",
            "conv4_block4_1_bn\n",
            "conv4_block4_1_relu\n",
            "conv4_block4_2_conv\n",
            "conv4_block4_2_bn\n",
            "conv4_block4_2_relu\n",
            "conv4_block4_3_conv\n",
            "conv4_block4_3_bn\n",
            "conv4_block4_add\n",
            "conv4_block4_out\n",
            "conv4_block5_1_conv\n",
            "conv4_block5_1_bn\n",
            "conv4_block5_1_relu\n",
            "conv4_block5_2_conv\n",
            "conv4_block5_2_bn\n",
            "conv4_block5_2_relu\n",
            "conv4_block5_3_conv\n",
            "conv4_block5_3_bn\n",
            "conv4_block5_add\n",
            "conv4_block5_out\n",
            "conv4_block6_1_conv\n",
            "conv4_block6_1_bn\n",
            "conv4_block6_1_relu\n",
            "conv4_block6_2_conv\n",
            "conv4_block6_2_bn\n",
            "conv4_block6_2_relu\n",
            "conv4_block6_3_conv\n",
            "conv4_block6_3_bn\n",
            "conv4_block6_add\n",
            "conv4_block6_out\n",
            "conv5_block1_1_conv\n",
            "conv5_block1_1_bn\n",
            "conv5_block1_1_relu\n",
            "conv5_block1_2_conv\n",
            "conv5_block1_2_bn\n",
            "conv5_block1_2_relu\n",
            "conv5_block1_0_conv\n",
            "conv5_block1_3_conv\n",
            "conv5_block1_0_bn\n",
            "conv5_block1_3_bn\n",
            "conv5_block1_add\n",
            "conv5_block1_out\n",
            "conv5_block2_1_conv\n",
            "conv5_block2_1_bn\n",
            "conv5_block2_1_relu\n",
            "conv5_block2_2_conv\n",
            "conv5_block2_2_bn\n",
            "conv5_block2_2_relu\n",
            "conv5_block2_3_conv\n",
            "conv5_block2_3_bn\n",
            "conv5_block2_add\n",
            "conv5_block2_out\n",
            "conv5_block3_1_conv\n",
            "conv5_block3_1_bn\n",
            "conv5_block3_1_relu\n",
            "conv5_block3_2_conv\n",
            "conv5_block3_2_bn\n",
            "conv5_block3_2_relu\n",
            "conv5_block3_3_conv\n",
            "conv5_block3_3_bn\n",
            "conv5_block3_add\n",
            "conv5_block3_out\n"
          ],
          "name": "stdout"
        }
      ]
    },
    {
      "cell_type": "code",
      "metadata": {
        "id": "whAJkq6qDOfk",
        "colab_type": "code",
        "outputId": "6ae033ad-a38c-4a4d-9efa-11021b09e6c0",
        "colab": {
          "base_uri": "https://localhost:8080/",
          "height": 34
        }
      },
      "source": [
        "# few_unfrozen_resnet_model.trainable = True\n",
        "# trainable_count = 0\n",
        "\n",
        "# set_trainable = False\n",
        "# for layer in few_unfrozen_resnet_model.layers:\n",
        "#     if layer.name == 'conv5_block1_1_conv':\n",
        "#         set_trainable = True\n",
        "#     if set_trainable:\n",
        "#         layer.trainable = True\n",
        "#         trainable_count += 1\n",
        "#     else:\n",
        "#         layer.trainable = False\n",
        "\n",
        "# print('percent unfrozen:', trainable_count/ len(resnet_50.layers) * 100 , '%')\n",
        "\n",
        "trainable_count = 0\n",
        "per_layers = 0.2\n",
        "num_model_layers = len(resnet_50.layers)\n",
        "starting_layer = int( num_model_layers * (1 - per_layers))\n",
        "true_per_trained = (num_model_layers - starting_layer) / num_model_layers\n",
        "\n",
        "\n",
        "print('true percentage of model trainable:', true_per_trained)\n",
        "\n",
        "set_trainable = False\n",
        "for idx, layer in enumerate(resnet_50.layers):\n",
        "    if idx == starting_layer:\n",
        "        set_trainable = True\n",
        "    if set_trainable:\n",
        "        layer.trainable = True\n",
        "        trainable_count += 1\n",
        "    else:\n",
        "        layer.trainable = False\n"
      ],
      "execution_count": 0,
      "outputs": [
        {
          "output_type": "stream",
          "text": [
            "true percentage of model trainable: 0.2\n"
          ],
          "name": "stdout"
        }
      ]
    },
    {
      "cell_type": "code",
      "metadata": {
        "id": "hHCq5zulG67p",
        "colab_type": "code",
        "outputId": "ab23790c-aa34-442e-90d7-9af8921bfee2",
        "colab": {
          "base_uri": "https://localhost:8080/",
          "height": 1000
        }
      },
      "source": [
        "for layer in few_unfrozen_resnet_model.layers:\n",
        "    print(layer.name,layer.trainable)"
      ],
      "execution_count": 0,
      "outputs": [
        {
          "output_type": "stream",
          "text": [
            "input_3 False\n",
            "conv1_pad False\n",
            "conv1_conv False\n",
            "conv1_bn False\n",
            "conv1_relu False\n",
            "pool1_pad False\n",
            "pool1_pool False\n",
            "conv2_block1_1_conv False\n",
            "conv2_block1_1_bn False\n",
            "conv2_block1_1_relu False\n",
            "conv2_block1_2_conv False\n",
            "conv2_block1_2_bn False\n",
            "conv2_block1_2_relu False\n",
            "conv2_block1_0_conv False\n",
            "conv2_block1_3_conv False\n",
            "conv2_block1_0_bn False\n",
            "conv2_block1_3_bn False\n",
            "conv2_block1_add False\n",
            "conv2_block1_out False\n",
            "conv2_block2_1_conv False\n",
            "conv2_block2_1_bn False\n",
            "conv2_block2_1_relu False\n",
            "conv2_block2_2_conv False\n",
            "conv2_block2_2_bn False\n",
            "conv2_block2_2_relu False\n",
            "conv2_block2_3_conv False\n",
            "conv2_block2_3_bn False\n",
            "conv2_block2_add False\n",
            "conv2_block2_out False\n",
            "conv2_block3_1_conv False\n",
            "conv2_block3_1_bn False\n",
            "conv2_block3_1_relu False\n",
            "conv2_block3_2_conv False\n",
            "conv2_block3_2_bn False\n",
            "conv2_block3_2_relu False\n",
            "conv2_block3_3_conv False\n",
            "conv2_block3_3_bn False\n",
            "conv2_block3_add False\n",
            "conv2_block3_out False\n",
            "conv3_block1_1_conv False\n",
            "conv3_block1_1_bn False\n",
            "conv3_block1_1_relu False\n",
            "conv3_block1_2_conv False\n",
            "conv3_block1_2_bn False\n",
            "conv3_block1_2_relu False\n",
            "conv3_block1_0_conv False\n",
            "conv3_block1_3_conv False\n",
            "conv3_block1_0_bn False\n",
            "conv3_block1_3_bn False\n",
            "conv3_block1_add False\n",
            "conv3_block1_out False\n",
            "conv3_block2_1_conv False\n",
            "conv3_block2_1_bn False\n",
            "conv3_block2_1_relu False\n",
            "conv3_block2_2_conv False\n",
            "conv3_block2_2_bn False\n",
            "conv3_block2_2_relu False\n",
            "conv3_block2_3_conv False\n",
            "conv3_block2_3_bn False\n",
            "conv3_block2_add False\n",
            "conv3_block2_out False\n",
            "conv3_block3_1_conv False\n",
            "conv3_block3_1_bn False\n",
            "conv3_block3_1_relu False\n",
            "conv3_block3_2_conv False\n",
            "conv3_block3_2_bn False\n",
            "conv3_block3_2_relu False\n",
            "conv3_block3_3_conv False\n",
            "conv3_block3_3_bn False\n",
            "conv3_block3_add False\n",
            "conv3_block3_out False\n",
            "conv3_block4_1_conv False\n",
            "conv3_block4_1_bn False\n",
            "conv3_block4_1_relu False\n",
            "conv3_block4_2_conv False\n",
            "conv3_block4_2_bn False\n",
            "conv3_block4_2_relu False\n",
            "conv3_block4_3_conv False\n",
            "conv3_block4_3_bn False\n",
            "conv3_block4_add False\n",
            "conv3_block4_out False\n",
            "conv4_block1_1_conv False\n",
            "conv4_block1_1_bn False\n",
            "conv4_block1_1_relu False\n",
            "conv4_block1_2_conv False\n",
            "conv4_block1_2_bn False\n",
            "conv4_block1_2_relu False\n",
            "conv4_block1_0_conv False\n",
            "conv4_block1_3_conv False\n",
            "conv4_block1_0_bn False\n",
            "conv4_block1_3_bn False\n",
            "conv4_block1_add False\n",
            "conv4_block1_out False\n",
            "conv4_block2_1_conv False\n",
            "conv4_block2_1_bn False\n",
            "conv4_block2_1_relu False\n",
            "conv4_block2_2_conv False\n",
            "conv4_block2_2_bn False\n",
            "conv4_block2_2_relu False\n",
            "conv4_block2_3_conv False\n",
            "conv4_block2_3_bn False\n",
            "conv4_block2_add False\n",
            "conv4_block2_out False\n",
            "conv4_block3_1_conv False\n",
            "conv4_block3_1_bn False\n",
            "conv4_block3_1_relu False\n",
            "conv4_block3_2_conv False\n",
            "conv4_block3_2_bn False\n",
            "conv4_block3_2_relu False\n",
            "conv4_block3_3_conv False\n",
            "conv4_block3_3_bn False\n",
            "conv4_block3_add False\n",
            "conv4_block3_out False\n",
            "conv4_block4_1_conv False\n",
            "conv4_block4_1_bn False\n",
            "conv4_block4_1_relu False\n",
            "conv4_block4_2_conv False\n",
            "conv4_block4_2_bn False\n",
            "conv4_block4_2_relu False\n",
            "conv4_block4_3_conv False\n",
            "conv4_block4_3_bn False\n",
            "conv4_block4_add False\n",
            "conv4_block4_out False\n",
            "conv4_block5_1_conv False\n",
            "conv4_block5_1_bn False\n",
            "conv4_block5_1_relu False\n",
            "conv4_block5_2_conv False\n",
            "conv4_block5_2_bn False\n",
            "conv4_block5_2_relu False\n",
            "conv4_block5_3_conv False\n",
            "conv4_block5_3_bn False\n",
            "conv4_block5_add False\n",
            "conv4_block5_out False\n",
            "conv4_block6_1_conv False\n",
            "conv4_block6_1_bn False\n",
            "conv4_block6_1_relu False\n",
            "conv4_block6_2_conv False\n",
            "conv4_block6_2_bn False\n",
            "conv4_block6_2_relu False\n",
            "conv4_block6_3_conv False\n",
            "conv4_block6_3_bn True\n",
            "conv4_block6_add True\n",
            "conv4_block6_out True\n",
            "conv5_block1_1_conv True\n",
            "conv5_block1_1_bn True\n",
            "conv5_block1_1_relu True\n",
            "conv5_block1_2_conv True\n",
            "conv5_block1_2_bn True\n",
            "conv5_block1_2_relu True\n",
            "conv5_block1_0_conv True\n",
            "conv5_block1_3_conv True\n",
            "conv5_block1_0_bn True\n",
            "conv5_block1_3_bn True\n",
            "conv5_block1_add True\n",
            "conv5_block1_out True\n",
            "conv5_block2_1_conv True\n",
            "conv5_block2_1_bn True\n",
            "conv5_block2_1_relu True\n",
            "conv5_block2_2_conv True\n",
            "conv5_block2_2_bn True\n",
            "conv5_block2_2_relu True\n",
            "conv5_block2_3_conv True\n",
            "conv5_block2_3_bn True\n",
            "conv5_block2_add True\n",
            "conv5_block2_out True\n",
            "conv5_block3_1_conv True\n",
            "conv5_block3_1_bn True\n",
            "conv5_block3_1_relu True\n",
            "conv5_block3_2_conv True\n",
            "conv5_block3_2_bn True\n",
            "conv5_block3_2_relu True\n",
            "conv5_block3_3_conv True\n",
            "conv5_block3_3_bn True\n",
            "conv5_block3_add True\n",
            "conv5_block3_out True\n",
            "global_average_pooling2d_2 True\n",
            "dense_8 True\n",
            "dropout_6 True\n",
            "dense_9 True\n",
            "dropout_7 True\n",
            "dense_10 True\n",
            "dropout_8 True\n",
            "dense_11 True\n"
          ],
          "name": "stdout"
        }
      ]
    },
    {
      "cell_type": "code",
      "metadata": {
        "id": "vfOrj3UHnqkg",
        "colab_type": "code",
        "colab": {}
      },
      "source": [
        "opt = tf.keras.optimizers.Adam(lr=0.001)\n",
        "# compile the model (should be done *after* setting layers to non-trainable)\n",
        "few_unfrozen_resnet_model.compile(optimizer=opt, loss='categorical_crossentropy',metrics=['accuracy'])"
      ],
      "execution_count": 0,
      "outputs": []
    },
    {
      "cell_type": "markdown",
      "metadata": {
        "id": "ZmgEucTcyPqk",
        "colab_type": "text"
      },
      "source": [
        "#### fitting the model"
      ]
    },
    {
      "cell_type": "code",
      "metadata": {
        "id": "DZuKehrVG9L3",
        "colab_type": "code",
        "outputId": "5fc54172-c81b-4226-dc18-313e7481f721",
        "colab": {
          "base_uri": "https://localhost:8080/",
          "height": 1000
        }
      },
      "source": [
        "train_steps = int(len(df_train)/batch_size) #total trains set / batch_size\n",
        "val_steps = int(len(df_val)/batch_size)\n",
        "\n",
        "print('train steps:',train_steps)\n",
        "print('val steps:',val_steps)\n",
        "\n",
        "epochs = 50\n",
        "\n",
        "\n",
        "model_filepath = 'CMS/few_unfrozen_resnet50_Adam.h5'\n",
        "mcp = ModelCheckpoint(model_filepath, monitor='accuracy', save_best_only=True, mode='max')\n",
        "\n",
        "# Train the model with validation \n",
        "few_unfrozen_resnet50_history = few_unfrozen_resnet_model.fit( train_dataset, steps_per_epoch = train_steps,\n",
        "                   epochs = epochs,\n",
        "                   validation_data = valid_dataset,\n",
        "                   validation_steps = val_steps,\n",
        "                   callbacks=[mcp])"
      ],
      "execution_count": 0,
      "outputs": [
        {
          "output_type": "stream",
          "text": [
            "train steps: 24\n",
            "val steps: 3\n",
            "Train for 24 steps, validate for 3 steps\n",
            "Epoch 1/50\n",
            "24/24 [==============================] - 42s 2s/step - loss: 0.7531 - accuracy: 0.6552 - val_loss: 124.8978 - val_accuracy: 0.3528\n",
            "Epoch 2/50\n",
            "24/24 [==============================] - 37s 2s/step - loss: 0.5426 - accuracy: 0.7740 - val_loss: 613.3013 - val_accuracy: 0.3528\n",
            "Epoch 3/50\n",
            "24/24 [==============================] - 37s 2s/step - loss: 0.4730 - accuracy: 0.7976 - val_loss: 4.0801 - val_accuracy: 0.6083\n",
            "Epoch 4/50\n",
            "24/24 [==============================] - 37s 2s/step - loss: 0.4108 - accuracy: 0.8090 - val_loss: 3.6381 - val_accuracy: 0.3667\n",
            "Epoch 5/50\n",
            "24/24 [==============================] - 38s 2s/step - loss: 0.3886 - accuracy: 0.8281 - val_loss: 0.9005 - val_accuracy: 0.4444\n",
            "Epoch 6/50\n",
            "24/24 [==============================] - 37s 2s/step - loss: 0.3471 - accuracy: 0.8434 - val_loss: 2.3661 - val_accuracy: 0.3528\n",
            "Epoch 7/50\n",
            "24/24 [==============================] - 38s 2s/step - loss: 0.3154 - accuracy: 0.8649 - val_loss: 1.5257 - val_accuracy: 0.3500\n",
            "Epoch 8/50\n",
            "24/24 [==============================] - 37s 2s/step - loss: 0.2769 - accuracy: 0.8715 - val_loss: 1.9863 - val_accuracy: 0.3528\n",
            "Epoch 9/50\n",
            "24/24 [==============================] - 37s 2s/step - loss: 0.2427 - accuracy: 0.8896 - val_loss: 4.5140 - val_accuracy: 0.3028\n",
            "Epoch 10/50\n",
            "24/24 [==============================] - 38s 2s/step - loss: 0.1923 - accuracy: 0.9132 - val_loss: 1.6885 - val_accuracy: 0.5750\n",
            "Epoch 11/50\n",
            "24/24 [==============================] - 37s 2s/step - loss: 0.1628 - accuracy: 0.9354 - val_loss: 1.7364 - val_accuracy: 0.3583\n",
            "Epoch 12/50\n",
            "24/24 [==============================] - 34s 1s/step - loss: 0.1822 - accuracy: 0.9247 - val_loss: 5.2961 - val_accuracy: 0.3250\n",
            "Epoch 13/50\n",
            "24/24 [==============================] - 37s 2s/step - loss: 0.1477 - accuracy: 0.9448 - val_loss: 5.0979 - val_accuracy: 0.4333\n",
            "Epoch 14/50\n",
            "24/24 [==============================] - 34s 1s/step - loss: 0.1343 - accuracy: 0.9444 - val_loss: 5.2420 - val_accuracy: 0.3083\n",
            "Epoch 15/50\n",
            "24/24 [==============================] - 37s 2s/step - loss: 0.0988 - accuracy: 0.9642 - val_loss: 5.2068 - val_accuracy: 0.3083\n",
            "Epoch 16/50\n",
            "24/24 [==============================] - 34s 1s/step - loss: 0.1115 - accuracy: 0.9576 - val_loss: 2.0052 - val_accuracy: 0.3611\n",
            "Epoch 17/50\n",
            "24/24 [==============================] - 37s 2s/step - loss: 0.0666 - accuracy: 0.9760 - val_loss: 2.6623 - val_accuracy: 0.3444\n",
            "Epoch 18/50\n",
            "24/24 [==============================] - 37s 2s/step - loss: 0.0468 - accuracy: 0.9847 - val_loss: 2.5485 - val_accuracy: 0.3889\n",
            "Epoch 19/50\n",
            "24/24 [==============================] - 34s 1s/step - loss: 0.0577 - accuracy: 0.9799 - val_loss: 2.5420 - val_accuracy: 0.4500\n",
            "Epoch 20/50\n",
            "24/24 [==============================] - 34s 1s/step - loss: 0.0947 - accuracy: 0.9760 - val_loss: 5.5627 - val_accuracy: 0.3000\n",
            "Epoch 21/50\n",
            "24/24 [==============================] - 34s 1s/step - loss: 0.0835 - accuracy: 0.9719 - val_loss: 1.7920 - val_accuracy: 0.3389\n",
            "Epoch 22/50\n",
            "24/24 [==============================] - 38s 2s/step - loss: 0.0258 - accuracy: 0.9896 - val_loss: 5.4015 - val_accuracy: 0.3000\n",
            "Epoch 23/50\n",
            "24/24 [==============================] - 35s 1s/step - loss: 0.0667 - accuracy: 0.9833 - val_loss: 1.6628 - val_accuracy: 0.3667\n",
            "Epoch 24/50\n",
            "24/24 [==============================] - 34s 1s/step - loss: 0.0613 - accuracy: 0.9771 - val_loss: 1.4464 - val_accuracy: 0.4389\n",
            "Epoch 25/50\n",
            "24/24 [==============================] - 34s 1s/step - loss: 0.0360 - accuracy: 0.9892 - val_loss: 1.6611 - val_accuracy: 0.4528\n",
            "Epoch 26/50\n",
            "24/24 [==============================] - 34s 1s/step - loss: 0.0585 - accuracy: 0.9806 - val_loss: 1.6395 - val_accuracy: 0.3528\n",
            "Epoch 27/50\n",
            "24/24 [==============================] - 37s 2s/step - loss: 0.0307 - accuracy: 0.9924 - val_loss: 1.7880 - val_accuracy: 0.4444\n",
            "Epoch 28/50\n",
            "24/24 [==============================] - 38s 2s/step - loss: 0.0183 - accuracy: 0.9941 - val_loss: 2.4949 - val_accuracy: 0.3528\n",
            "Epoch 29/50\n",
            "24/24 [==============================] - 34s 1s/step - loss: 0.0577 - accuracy: 0.9809 - val_loss: 2.6797 - val_accuracy: 0.3778\n",
            "Epoch 30/50\n",
            "24/24 [==============================] - 34s 1s/step - loss: 0.0281 - accuracy: 0.9889 - val_loss: 3.2166 - val_accuracy: 0.3528\n",
            "Epoch 31/50\n",
            "24/24 [==============================] - 38s 2s/step - loss: 0.0091 - accuracy: 0.9972 - val_loss: 3.6737 - val_accuracy: 0.3528\n",
            "Epoch 32/50\n",
            "24/24 [==============================] - 34s 1s/step - loss: 0.0268 - accuracy: 0.9920 - val_loss: 3.2057 - val_accuracy: 0.3528\n",
            "Epoch 33/50\n",
            "24/24 [==============================] - 34s 1s/step - loss: 0.0290 - accuracy: 0.9920 - val_loss: 6.6289 - val_accuracy: 0.3528\n",
            "Epoch 34/50\n",
            "24/24 [==============================] - 34s 1s/step - loss: 0.0381 - accuracy: 0.9882 - val_loss: 6.0201 - val_accuracy: 0.3528\n",
            "Epoch 35/50\n",
            "24/24 [==============================] - 34s 1s/step - loss: 0.0318 - accuracy: 0.9878 - val_loss: 2.6872 - val_accuracy: 0.3528\n",
            "Epoch 36/50\n",
            "24/24 [==============================] - 34s 1s/step - loss: 0.0327 - accuracy: 0.9924 - val_loss: 2.0534 - val_accuracy: 0.3583\n",
            "Epoch 37/50\n",
            "24/24 [==============================] - 34s 1s/step - loss: 0.0134 - accuracy: 0.9969 - val_loss: 2.5594 - val_accuracy: 0.3500\n",
            "Epoch 38/50\n",
            "24/24 [==============================] - 34s 1s/step - loss: 0.0103 - accuracy: 0.9969 - val_loss: 2.8764 - val_accuracy: 0.3500\n",
            "Epoch 39/50\n",
            "24/24 [==============================] - 34s 1s/step - loss: 0.0178 - accuracy: 0.9937 - val_loss: 2.5264 - val_accuracy: 0.3639\n",
            "Epoch 40/50\n",
            "24/24 [==============================] - 35s 1s/step - loss: 0.0303 - accuracy: 0.9917 - val_loss: 2.7545 - val_accuracy: 0.3528\n",
            "Epoch 41/50\n",
            "24/24 [==============================] - 34s 1s/step - loss: 0.0176 - accuracy: 0.9941 - val_loss: 3.1639 - val_accuracy: 0.3528\n",
            "Epoch 42/50\n",
            "24/24 [==============================] - 37s 2s/step - loss: 0.0013 - accuracy: 1.0000 - val_loss: 3.4568 - val_accuracy: 0.3528\n",
            "Epoch 43/50\n",
            "24/24 [==============================] - 34s 1s/step - loss: 0.0011 - accuracy: 0.9997 - val_loss: 3.4357 - val_accuracy: 0.3528\n",
            "Epoch 44/50\n",
            "24/24 [==============================] - 34s 1s/step - loss: 0.0012 - accuracy: 0.9993 - val_loss: 3.5930 - val_accuracy: 0.3528\n",
            "Epoch 45/50\n",
            "24/24 [==============================] - 34s 1s/step - loss: 0.0058 - accuracy: 0.9979 - val_loss: 3.5969 - val_accuracy: 0.3528\n",
            "Epoch 46/50\n",
            "24/24 [==============================] - 34s 1s/step - loss: 0.0301 - accuracy: 0.9924 - val_loss: 2.2235 - val_accuracy: 0.3667\n",
            "Epoch 47/50\n",
            "24/24 [==============================] - 34s 1s/step - loss: 0.0176 - accuracy: 0.9944 - val_loss: 4.1868 - val_accuracy: 0.3528\n",
            "Epoch 48/50\n",
            "24/24 [==============================] - 34s 1s/step - loss: 0.0158 - accuracy: 0.9951 - val_loss: 4.5082 - val_accuracy: 0.3528\n",
            "Epoch 49/50\n",
            "24/24 [==============================] - 35s 1s/step - loss: 0.0075 - accuracy: 0.9976 - val_loss: 4.8558 - val_accuracy: 0.3528\n",
            "Epoch 50/50\n",
            "24/24 [==============================] - 34s 1s/step - loss: 0.0098 - accuracy: 0.9958 - val_loss: 7.6614 - val_accuracy: 0.3528\n"
          ],
          "name": "stdout"
        }
      ]
    },
    {
      "cell_type": "markdown",
      "metadata": {
        "id": "7OV3ADJdqwgc",
        "colab_type": "text"
      },
      "source": [
        "#### testing the model"
      ]
    },
    {
      "cell_type": "code",
      "metadata": {
        "id": "AJhNK0O3qyni",
        "colab_type": "code",
        "outputId": "fd56be29-33d2-48c7-8b3c-c85c3245abb9",
        "colab": {
          "base_uri": "https://localhost:8080/",
          "height": 50
        }
      },
      "source": [
        "test_steps = int(len(df_test)/batch_size)\n",
        "\n",
        "metrics = few_unfrozen_resnet_model.evaluate(test_dataset,\n",
        "                   steps = test_steps)\n",
        "print(\"model accuracy:\",metrics[1])"
      ],
      "execution_count": 0,
      "outputs": [
        {
          "output_type": "stream",
          "text": [
            "3/3 [==============================] - 3s 963ms/step - loss: 7.4381 - accuracy: 0.3417\n",
            "model accuracy: 0.34166667\n"
          ],
          "name": "stdout"
        }
      ]
    },
    {
      "cell_type": "markdown",
      "metadata": {
        "colab_type": "text",
        "id": "XSf8CvddsE-S"
      },
      "source": [
        "#### plotting training"
      ]
    },
    {
      "cell_type": "code",
      "metadata": {
        "id": "Wvm3gb95D6Ip",
        "colab_type": "code",
        "outputId": "2be55a05-917b-47b2-f038-0907e7f02688",
        "colab": {
          "base_uri": "https://localhost:8080/",
          "height": 34
        }
      },
      "source": [
        "pwd"
      ],
      "execution_count": 0,
      "outputs": [
        {
          "output_type": "execute_result",
          "data": {
            "text/plain": [
              "'/content/drive/My Drive'"
            ]
          },
          "metadata": {
            "tags": []
          },
          "execution_count": 46
        }
      ]
    },
    {
      "cell_type": "code",
      "metadata": {
        "colab_type": "code",
        "outputId": "7d128f09-e043-4642-ee2a-df62e5765d27",
        "id": "0dq5Wl9csE-f",
        "colab": {
          "base_uri": "https://localhost:8080/",
          "height": 573
        }
      },
      "source": [
        "plot_hist(few_unfrozen_resnet50_history, 'few_unfrozen_resnet50_Adam')"
      ],
      "execution_count": 0,
      "outputs": [
        {
          "output_type": "display_data",
          "data": {
            "image/png": "[encoded data removed]",
            "text/plain": [
              "<Figure size 432x288 with 1 Axes>"
            ]
          },
          "metadata": {
            "tags": []
          }
        },
        {
          "output_type": "display_data",
          "data": {
            "image/png": "[encoded data removed]",
            "text/plain": [
              "<Figure size 432x288 with 1 Axes>"
            ]
          },
          "metadata": {
            "tags": []
          }
        }
      ]
    },
    {
      "cell_type": "markdown",
      "metadata": {
        "id": "LARhhZGYyTV9",
        "colab_type": "text"
      },
      "source": [
        "#### saving the history of the fitting"
      ]
    },
    {
      "cell_type": "code",
      "metadata": {
        "id": "whH3xT9KT1Ck",
        "colab_type": "code",
        "outputId": "a7b7f048-4b3a-427d-e60e-fb4b447d0a84",
        "colab": {
          "base_uri": "https://localhost:8080/",
          "height": 34
        }
      },
      "source": [
        "with open(cwd + '/trainHistoryDict/few_unfrozen_resnet50_history_Adam.p', 'wb') as file_pi:\n",
        "        pickle.dump(few_unfrozen_resnet50_history.history, file_pi)\n",
        "print('history saved')"
      ],
      "execution_count": 0,
      "outputs": [
        {
          "output_type": "stream",
          "text": [
            "history saved\n"
          ],
          "name": "stdout"
        }
      ]
    },
    {
      "cell_type": "markdown",
      "metadata": {
        "colab_type": "text",
        "id": "22GUAtjSraz8"
      },
      "source": [
        "## Many layers unfrozen"
      ]
    },
    {
      "cell_type": "markdown",
      "metadata": {
        "colab_type": "text",
        "id": "QAKiIPjpra0F"
      },
      "source": [
        "#### loading model"
      ]
    },
    {
      "cell_type": "code",
      "metadata": {
        "colab_type": "code",
        "id": "QCFFXBFXra0I",
        "colab": {}
      },
      "source": [
        "resnet_50 = tf.keras.applications.ResNet50(\n",
        "    include_top=False,\n",
        "    weights='imagenet',\n",
        "    input_shape=(200,200,3),\n",
        "    pooling=None\n",
        ")"
      ],
      "execution_count": 0,
      "outputs": []
    },
    {
      "cell_type": "markdown",
      "metadata": {
        "colab_type": "text",
        "id": "l8XDJ-sVra0T"
      },
      "source": [
        "#### modifying slightly"
      ]
    },
    {
      "cell_type": "code",
      "metadata": {
        "colab_type": "code",
        "id": "5a8zr3Xqra0W",
        "colab": {}
      },
      "source": [
        "x = resnet_50.output\n",
        "\n",
        "x = GlobalAveragePooling2D()(x)\n",
        "\n",
        "# let's add a fully-connected layer\n",
        "x = Dense(512, activation='relu')(x)\n",
        "\n",
        "x = Dropout(0.5)(x)\n",
        "\n",
        "#x = GlobalAveragePooling2D()(x)\n",
        "\n",
        "# let's add a fully-connected layer\n",
        "x = Dense(512, activation='relu')(x)\n",
        "\n",
        "x = Dropout(0.5)(x)\n",
        "\n",
        "# let's add a fully-connected layer\n",
        "x = Dense(512, activation='relu')(x)\n",
        "\n",
        "x = Dropout(0.5)(x)\n",
        "\n",
        "# and a logits layer -- let's say we have 3 classes\n",
        "predictions = Dense(3, activation='softmax')(x)"
      ],
      "execution_count": 0,
      "outputs": []
    },
    {
      "cell_type": "markdown",
      "metadata": {
        "colab_type": "text",
        "id": "wqxyAmXcra0k"
      },
      "source": [
        "#### creating model object"
      ]
    },
    {
      "cell_type": "code",
      "metadata": {
        "colab_type": "code",
        "id": "V28yL8gpra0n",
        "colab": {}
      },
      "source": [
        "# this is the model we will train\n",
        "many_unfrozen_resnet_model = Model(inputs=resnet_50.input, outputs=predictions)"
      ],
      "execution_count": 0,
      "outputs": []
    },
    {
      "cell_type": "code",
      "metadata": {
        "colab_type": "code",
        "outputId": "abae6e50-9c91-4e46-8681-b079e9147246",
        "id": "unASmwXNra0r",
        "colab": {
          "base_uri": "https://localhost:8080/",
          "height": 1000
        }
      },
      "source": [
        "for layer in resnet_50.layers:\n",
        "    print(layer.name)\n",
        "    layer.trainable = False"
      ],
      "execution_count": 0,
      "outputs": [
        {
          "output_type": "stream",
          "text": [
            "input_4\n",
            "conv1_pad\n",
            "conv1_conv\n",
            "conv1_bn\n",
            "conv1_relu\n",
            "pool1_pad\n",
            "pool1_pool\n",
            "conv2_block1_1_conv\n",
            "conv2_block1_1_bn\n",
            "conv2_block1_1_relu\n",
            "conv2_block1_2_conv\n",
            "conv2_block1_2_bn\n",
            "conv2_block1_2_relu\n",
            "conv2_block1_0_conv\n",
            "conv2_block1_3_conv\n",
            "conv2_block1_0_bn\n",
            "conv2_block1_3_bn\n",
            "conv2_block1_add\n",
            "conv2_block1_out\n",
            "conv2_block2_1_conv\n",
            "conv2_block2_1_bn\n",
            "conv2_block2_1_relu\n",
            "conv2_block2_2_conv\n",
            "conv2_block2_2_bn\n",
            "conv2_block2_2_relu\n",
            "conv2_block2_3_conv\n",
            "conv2_block2_3_bn\n",
            "conv2_block2_add\n",
            "conv2_block2_out\n",
            "conv2_block3_1_conv\n",
            "conv2_block3_1_bn\n",
            "conv2_block3_1_relu\n",
            "conv2_block3_2_conv\n",
            "conv2_block3_2_bn\n",
            "conv2_block3_2_relu\n",
            "conv2_block3_3_conv\n",
            "conv2_block3_3_bn\n",
            "conv2_block3_add\n",
            "conv2_block3_out\n",
            "conv3_block1_1_conv\n",
            "conv3_block1_1_bn\n",
            "conv3_block1_1_relu\n",
            "conv3_block1_2_conv\n",
            "conv3_block1_2_bn\n",
            "conv3_block1_2_relu\n",
            "conv3_block1_0_conv\n",
            "conv3_block1_3_conv\n",
            "conv3_block1_0_bn\n",
            "conv3_block1_3_bn\n",
            "conv3_block1_add\n",
            "conv3_block1_out\n",
            "conv3_block2_1_conv\n",
            "conv3_block2_1_bn\n",
            "conv3_block2_1_relu\n",
            "conv3_block2_2_conv\n",
            "conv3_block2_2_bn\n",
            "conv3_block2_2_relu\n",
            "conv3_block2_3_conv\n",
            "conv3_block2_3_bn\n",
            "conv3_block2_add\n",
            "conv3_block2_out\n",
            "conv3_block3_1_conv\n",
            "conv3_block3_1_bn\n",
            "conv3_block3_1_relu\n",
            "conv3_block3_2_conv\n",
            "conv3_block3_2_bn\n",
            "conv3_block3_2_relu\n",
            "conv3_block3_3_conv\n",
            "conv3_block3_3_bn\n",
            "conv3_block3_add\n",
            "conv3_block3_out\n",
            "conv3_block4_1_conv\n",
            "conv3_block4_1_bn\n",
            "conv3_block4_1_relu\n",
            "conv3_block4_2_conv\n",
            "conv3_block4_2_bn\n",
            "conv3_block4_2_relu\n",
            "conv3_block4_3_conv\n",
            "conv3_block4_3_bn\n",
            "conv3_block4_add\n",
            "conv3_block4_out\n",
            "conv4_block1_1_conv\n",
            "conv4_block1_1_bn\n",
            "conv4_block1_1_relu\n",
            "conv4_block1_2_conv\n",
            "conv4_block1_2_bn\n",
            "conv4_block1_2_relu\n",
            "conv4_block1_0_conv\n",
            "conv4_block1_3_conv\n",
            "conv4_block1_0_bn\n",
            "conv4_block1_3_bn\n",
            "conv4_block1_add\n",
            "conv4_block1_out\n",
            "conv4_block2_1_conv\n",
            "conv4_block2_1_bn\n",
            "conv4_block2_1_relu\n",
            "conv4_block2_2_conv\n",
            "conv4_block2_2_bn\n",
            "conv4_block2_2_relu\n",
            "conv4_block2_3_conv\n",
            "conv4_block2_3_bn\n",
            "conv4_block2_add\n",
            "conv4_block2_out\n",
            "conv4_block3_1_conv\n",
            "conv4_block3_1_bn\n",
            "conv4_block3_1_relu\n",
            "conv4_block3_2_conv\n",
            "conv4_block3_2_bn\n",
            "conv4_block3_2_relu\n",
            "conv4_block3_3_conv\n",
            "conv4_block3_3_bn\n",
            "conv4_block3_add\n",
            "conv4_block3_out\n",
            "conv4_block4_1_conv\n",
            "conv4_block4_1_bn\n",
            "conv4_block4_1_relu\n",
            "conv4_block4_2_conv\n",
            "conv4_block4_2_bn\n",
            "conv4_block4_2_relu\n",
            "conv4_block4_3_conv\n",
            "conv4_block4_3_bn\n",
            "conv4_block4_add\n",
            "conv4_block4_out\n",
            "conv4_block5_1_conv\n",
            "conv4_block5_1_bn\n",
            "conv4_block5_1_relu\n",
            "conv4_block5_2_conv\n",
            "conv4_block5_2_bn\n",
            "conv4_block5_2_relu\n",
            "conv4_block5_3_conv\n",
            "conv4_block5_3_bn\n",
            "conv4_block5_add\n",
            "conv4_block5_out\n",
            "conv4_block6_1_conv\n",
            "conv4_block6_1_bn\n",
            "conv4_block6_1_relu\n",
            "conv4_block6_2_conv\n",
            "conv4_block6_2_bn\n",
            "conv4_block6_2_relu\n",
            "conv4_block6_3_conv\n",
            "conv4_block6_3_bn\n",
            "conv4_block6_add\n",
            "conv4_block6_out\n",
            "conv5_block1_1_conv\n",
            "conv5_block1_1_bn\n",
            "conv5_block1_1_relu\n",
            "conv5_block1_2_conv\n",
            "conv5_block1_2_bn\n",
            "conv5_block1_2_relu\n",
            "conv5_block1_0_conv\n",
            "conv5_block1_3_conv\n",
            "conv5_block1_0_bn\n",
            "conv5_block1_3_bn\n",
            "conv5_block1_add\n",
            "conv5_block1_out\n",
            "conv5_block2_1_conv\n",
            "conv5_block2_1_bn\n",
            "conv5_block2_1_relu\n",
            "conv5_block2_2_conv\n",
            "conv5_block2_2_bn\n",
            "conv5_block2_2_relu\n",
            "conv5_block2_3_conv\n",
            "conv5_block2_3_bn\n",
            "conv5_block2_add\n",
            "conv5_block2_out\n",
            "conv5_block3_1_conv\n",
            "conv5_block3_1_bn\n",
            "conv5_block3_1_relu\n",
            "conv5_block3_2_conv\n",
            "conv5_block3_2_bn\n",
            "conv5_block3_2_relu\n",
            "conv5_block3_3_conv\n",
            "conv5_block3_3_bn\n",
            "conv5_block3_add\n",
            "conv5_block3_out\n"
          ],
          "name": "stdout"
        }
      ]
    },
    {
      "cell_type": "code",
      "metadata": {
        "colab_type": "code",
        "id": "LEWRmERora0w",
        "outputId": "b16603ad-7c87-4390-ff92-a4604a75084c",
        "colab": {
          "base_uri": "https://localhost:8080/",
          "height": 34
        }
      },
      "source": [
        "# many_unfrozen_resnet_model.trainable = True\n",
        "# trainable_count = 0\n",
        "\n",
        "# set_trainable = False\n",
        "\n",
        "\n",
        "# for layer in many_unfrozen_resnet_model.layers:\n",
        "#     if layer.name == 'conv3_block1_1_conv':\n",
        "#         set_trainable = True\n",
        "#     if set_trainable:\n",
        "#         layer.trainable = True\n",
        "#         trainable_count += 1\n",
        "#     else:\n",
        "#         layer.trainable = False\n",
        "\n",
        "# print('percent unfrozen:', trainable_count/ len(resnet_50.layers) * 100 , '%')\n",
        "trainable_count = 0\n",
        "per_layers = 0.7\n",
        "num_model_layers = len(resnet_50.layers)\n",
        "starting_layer = int( num_model_layers * (1 - per_layers))\n",
        "true_per_trained = (num_model_layers - starting_layer) / num_model_layers\n",
        "\n",
        "\n",
        "print('true percentage of model trainable:', true_per_trained)\n",
        "\n",
        "set_trainable = False\n",
        "for idx, layer in enumerate(resnet_50.layers):\n",
        "    if idx == starting_layer:\n",
        "        set_trainable = True\n",
        "    if set_trainable:\n",
        "        layer.trainable = True\n",
        "        trainable_count += 1\n",
        "    else:\n",
        "        layer.trainable = False"
      ],
      "execution_count": 0,
      "outputs": [
        {
          "output_type": "stream",
          "text": [
            "true percentage of model trainable: 0.7028571428571428\n"
          ],
          "name": "stdout"
        }
      ]
    },
    {
      "cell_type": "code",
      "metadata": {
        "colab_type": "code",
        "outputId": "9a0e2f2e-9456-45cd-9497-79ef79c1085f",
        "id": "zOYnK1S2ra0y",
        "colab": {
          "base_uri": "https://localhost:8080/",
          "height": 1000
        }
      },
      "source": [
        "for layer in many_unfrozen_resnet_model.layers:\n",
        "    print(layer.name,layer.trainable)"
      ],
      "execution_count": 0,
      "outputs": [
        {
          "output_type": "stream",
          "text": [
            "input_4 False\n",
            "conv1_pad False\n",
            "conv1_conv False\n",
            "conv1_bn False\n",
            "conv1_relu False\n",
            "pool1_pad False\n",
            "pool1_pool False\n",
            "conv2_block1_1_conv False\n",
            "conv2_block1_1_bn False\n",
            "conv2_block1_1_relu False\n",
            "conv2_block1_2_conv False\n",
            "conv2_block1_2_bn False\n",
            "conv2_block1_2_relu False\n",
            "conv2_block1_0_conv False\n",
            "conv2_block1_3_conv False\n",
            "conv2_block1_0_bn False\n",
            "conv2_block1_3_bn False\n",
            "conv2_block1_add False\n",
            "conv2_block1_out False\n",
            "conv2_block2_1_conv False\n",
            "conv2_block2_1_bn False\n",
            "conv2_block2_1_relu False\n",
            "conv2_block2_2_conv False\n",
            "conv2_block2_2_bn False\n",
            "conv2_block2_2_relu False\n",
            "conv2_block2_3_conv False\n",
            "conv2_block2_3_bn False\n",
            "conv2_block2_add False\n",
            "conv2_block2_out False\n",
            "conv2_block3_1_conv False\n",
            "conv2_block3_1_bn False\n",
            "conv2_block3_1_relu False\n",
            "conv2_block3_2_conv False\n",
            "conv2_block3_2_bn False\n",
            "conv2_block3_2_relu False\n",
            "conv2_block3_3_conv False\n",
            "conv2_block3_3_bn False\n",
            "conv2_block3_add False\n",
            "conv2_block3_out False\n",
            "conv3_block1_1_conv False\n",
            "conv3_block1_1_bn False\n",
            "conv3_block1_1_relu False\n",
            "conv3_block1_2_conv False\n",
            "conv3_block1_2_bn False\n",
            "conv3_block1_2_relu False\n",
            "conv3_block1_0_conv False\n",
            "conv3_block1_3_conv False\n",
            "conv3_block1_0_bn False\n",
            "conv3_block1_3_bn False\n",
            "conv3_block1_add False\n",
            "conv3_block1_out False\n",
            "conv3_block2_1_conv False\n",
            "conv3_block2_1_bn True\n",
            "conv3_block2_1_relu True\n",
            "conv3_block2_2_conv True\n",
            "conv3_block2_2_bn True\n",
            "conv3_block2_2_relu True\n",
            "conv3_block2_3_conv True\n",
            "conv3_block2_3_bn True\n",
            "conv3_block2_add True\n",
            "conv3_block2_out True\n",
            "conv3_block3_1_conv True\n",
            "conv3_block3_1_bn True\n",
            "conv3_block3_1_relu True\n",
            "conv3_block3_2_conv True\n",
            "conv3_block3_2_bn True\n",
            "conv3_block3_2_relu True\n",
            "conv3_block3_3_conv True\n",
            "conv3_block3_3_bn True\n",
            "conv3_block3_add True\n",
            "conv3_block3_out True\n",
            "conv3_block4_1_conv True\n",
            "conv3_block4_1_bn True\n",
            "conv3_block4_1_relu True\n",
            "conv3_block4_2_conv True\n",
            "conv3_block4_2_bn True\n",
            "conv3_block4_2_relu True\n",
            "conv3_block4_3_conv True\n",
            "conv3_block4_3_bn True\n",
            "conv3_block4_add True\n",
            "conv3_block4_out True\n",
            "conv4_block1_1_conv True\n",
            "conv4_block1_1_bn True\n",
            "conv4_block1_1_relu True\n",
            "conv4_block1_2_conv True\n",
            "conv4_block1_2_bn True\n",
            "conv4_block1_2_relu True\n",
            "conv4_block1_0_conv True\n",
            "conv4_block1_3_conv True\n",
            "conv4_block1_0_bn True\n",
            "conv4_block1_3_bn True\n",
            "conv4_block1_add True\n",
            "conv4_block1_out True\n",
            "conv4_block2_1_conv True\n",
            "conv4_block2_1_bn True\n",
            "conv4_block2_1_relu True\n",
            "conv4_block2_2_conv True\n",
            "conv4_block2_2_bn True\n",
            "conv4_block2_2_relu True\n",
            "conv4_block2_3_conv True\n",
            "conv4_block2_3_bn True\n",
            "conv4_block2_add True\n",
            "conv4_block2_out True\n",
            "conv4_block3_1_conv True\n",
            "conv4_block3_1_bn True\n",
            "conv4_block3_1_relu True\n",
            "conv4_block3_2_conv True\n",
            "conv4_block3_2_bn True\n",
            "conv4_block3_2_relu True\n",
            "conv4_block3_3_conv True\n",
            "conv4_block3_3_bn True\n",
            "conv4_block3_add True\n",
            "conv4_block3_out True\n",
            "conv4_block4_1_conv True\n",
            "conv4_block4_1_bn True\n",
            "conv4_block4_1_relu True\n",
            "conv4_block4_2_conv True\n",
            "conv4_block4_2_bn True\n",
            "conv4_block4_2_relu True\n",
            "conv4_block4_3_conv True\n",
            "conv4_block4_3_bn True\n",
            "conv4_block4_add True\n",
            "conv4_block4_out True\n",
            "conv4_block5_1_conv True\n",
            "conv4_block5_1_bn True\n",
            "conv4_block5_1_relu True\n",
            "conv4_block5_2_conv True\n",
            "conv4_block5_2_bn True\n",
            "conv4_block5_2_relu True\n",
            "conv4_block5_3_conv True\n",
            "conv4_block5_3_bn True\n",
            "conv4_block5_add True\n",
            "conv4_block5_out True\n",
            "conv4_block6_1_conv True\n",
            "conv4_block6_1_bn True\n",
            "conv4_block6_1_relu True\n",
            "conv4_block6_2_conv True\n",
            "conv4_block6_2_bn True\n",
            "conv4_block6_2_relu True\n",
            "conv4_block6_3_conv True\n",
            "conv4_block6_3_bn True\n",
            "conv4_block6_add True\n",
            "conv4_block6_out True\n",
            "conv5_block1_1_conv True\n",
            "conv5_block1_1_bn True\n",
            "conv5_block1_1_relu True\n",
            "conv5_block1_2_conv True\n",
            "conv5_block1_2_bn True\n",
            "conv5_block1_2_relu True\n",
            "conv5_block1_0_conv True\n",
            "conv5_block1_3_conv True\n",
            "conv5_block1_0_bn True\n",
            "conv5_block1_3_bn True\n",
            "conv5_block1_add True\n",
            "conv5_block1_out True\n",
            "conv5_block2_1_conv True\n",
            "conv5_block2_1_bn True\n",
            "conv5_block2_1_relu True\n",
            "conv5_block2_2_conv True\n",
            "conv5_block2_2_bn True\n",
            "conv5_block2_2_relu True\n",
            "conv5_block2_3_conv True\n",
            "conv5_block2_3_bn True\n",
            "conv5_block2_add True\n",
            "conv5_block2_out True\n",
            "conv5_block3_1_conv True\n",
            "conv5_block3_1_bn True\n",
            "conv5_block3_1_relu True\n",
            "conv5_block3_2_conv True\n",
            "conv5_block3_2_bn True\n",
            "conv5_block3_2_relu True\n",
            "conv5_block3_3_conv True\n",
            "conv5_block3_3_bn True\n",
            "conv5_block3_add True\n",
            "conv5_block3_out True\n",
            "global_average_pooling2d_3 True\n",
            "dense_12 True\n",
            "dropout_9 True\n",
            "dense_13 True\n",
            "dropout_10 True\n",
            "dense_14 True\n",
            "dropout_11 True\n",
            "dense_15 True\n"
          ],
          "name": "stdout"
        }
      ]
    },
    {
      "cell_type": "code",
      "metadata": {
        "colab_type": "code",
        "id": "0kacZQ9-ra03",
        "colab": {}
      },
      "source": [
        "opt = tf.keras.optimizers.Adam(lr=0.001)\n",
        "# compile the model (should be done *after* setting layers to non-trainable)\n",
        "many_unfrozen_resnet_model.compile(optimizer=opt, loss='categorical_crossentropy',metrics=['accuracy'])"
      ],
      "execution_count": 0,
      "outputs": []
    },
    {
      "cell_type": "markdown",
      "metadata": {
        "colab_type": "text",
        "id": "RCwT3xSWra06"
      },
      "source": [
        "#### fitting the model"
      ]
    },
    {
      "cell_type": "code",
      "metadata": {
        "colab_type": "code",
        "outputId": "7a1648e8-2f9d-4a05-9a0c-30cf262a536b",
        "id": "yUzNFBPrra07",
        "colab": {
          "base_uri": "https://localhost:8080/",
          "height": 1000
        }
      },
      "source": [
        "train_steps = int(len(df_train)/batch_size) #total trains set / batch_size\n",
        "val_steps = int(len(df_val)/batch_size)\n",
        "\n",
        "print('train steps:',train_steps)\n",
        "print('val steps:',val_steps)\n",
        "\n",
        "epochs = 50\n",
        "\n",
        "\n",
        "model_filepath = 'CMS/many_unfrozen_resnet50_Adam.h5'\n",
        "mcp = ModelCheckpoint(model_filepath, monitor='accuracy', save_best_only=True, mode='max')\n",
        "\n",
        "# Train the model with validation \n",
        "\n",
        "many_unfrozen_resnet50_history = many_unfrozen_resnet_model.fit( train_dataset, steps_per_epoch = train_steps,\n",
        "                   epochs = epochs,\n",
        "                   validation_data = valid_dataset,\n",
        "                   validation_steps = val_steps,\n",
        "                   callbacks=[mcp])"
      ],
      "execution_count": 0,
      "outputs": [
        {
          "output_type": "stream",
          "text": [
            "train steps: 24\n",
            "val steps: 3\n",
            "Train for 24 steps, validate for 3 steps\n",
            "Epoch 1/50\n",
            "24/24 [==============================] - 58s 2s/step - loss: 0.8165 - accuracy: 0.6066 - val_loss: 45399.7565 - val_accuracy: 0.3528\n",
            "Epoch 2/50\n",
            "24/24 [==============================] - 52s 2s/step - loss: 0.6014 - accuracy: 0.7295 - val_loss: 2063.6222 - val_accuracy: 0.3528\n",
            "Epoch 3/50\n",
            "24/24 [==============================] - 51s 2s/step - loss: 0.5301 - accuracy: 0.7684 - val_loss: 4260.5868 - val_accuracy: 0.3528\n",
            "Epoch 4/50\n",
            "24/24 [==============================] - 52s 2s/step - loss: 0.4822 - accuracy: 0.7910 - val_loss: 78.5254 - val_accuracy: 0.4111\n",
            "Epoch 5/50\n",
            "24/24 [==============================] - 51s 2s/step - loss: 0.4475 - accuracy: 0.7990 - val_loss: 226.4782 - val_accuracy: 0.3861\n",
            "Epoch 6/50\n",
            "24/24 [==============================] - 52s 2s/step - loss: 0.4304 - accuracy: 0.8094 - val_loss: 6.6363 - val_accuracy: 0.5556\n",
            "Epoch 7/50\n",
            "24/24 [==============================] - 52s 2s/step - loss: 0.4109 - accuracy: 0.8146 - val_loss: 4.1092 - val_accuracy: 0.5639\n",
            "Epoch 8/50\n",
            "24/24 [==============================] - 52s 2s/step - loss: 0.3721 - accuracy: 0.8326 - val_loss: 4.4495 - val_accuracy: 0.6306\n",
            "Epoch 9/50\n",
            "24/24 [==============================] - 48s 2s/step - loss: 0.3755 - accuracy: 0.8309 - val_loss: 10.2108 - val_accuracy: 0.3500\n",
            "Epoch 10/50\n",
            "24/24 [==============================] - 48s 2s/step - loss: 0.3825 - accuracy: 0.8243 - val_loss: 26.2466 - val_accuracy: 0.4833\n",
            "Epoch 11/50\n",
            "24/24 [==============================] - 52s 2s/step - loss: 0.3422 - accuracy: 0.8382 - val_loss: 13.8174 - val_accuracy: 0.3917\n",
            "Epoch 12/50\n",
            "24/24 [==============================] - 52s 2s/step - loss: 0.3590 - accuracy: 0.8476 - val_loss: 2.0354 - val_accuracy: 0.6417\n",
            "Epoch 13/50\n",
            "24/24 [==============================] - 52s 2s/step - loss: 0.3083 - accuracy: 0.8531 - val_loss: 1.0474 - val_accuracy: 0.6639\n",
            "Epoch 14/50\n",
            "24/24 [==============================] - 52s 2s/step - loss: 0.2664 - accuracy: 0.8736 - val_loss: 6.6106 - val_accuracy: 0.3528\n",
            "Epoch 15/50\n",
            "24/24 [==============================] - 48s 2s/step - loss: 0.2841 - accuracy: 0.8733 - val_loss: 2.1514 - val_accuracy: 0.6194\n",
            "Epoch 16/50\n",
            "24/24 [==============================] - 52s 2s/step - loss: 0.2507 - accuracy: 0.8868 - val_loss: 2.0900 - val_accuracy: 0.5889\n",
            "Epoch 17/50\n",
            "24/24 [==============================] - 52s 2s/step - loss: 0.2122 - accuracy: 0.9049 - val_loss: 8.1270 - val_accuracy: 0.4222\n",
            "Epoch 18/50\n",
            "24/24 [==============================] - 52s 2s/step - loss: 0.2119 - accuracy: 0.9132 - val_loss: 1.9476 - val_accuracy: 0.6250\n",
            "Epoch 19/50\n",
            "24/24 [==============================] - 48s 2s/step - loss: 0.2287 - accuracy: 0.9014 - val_loss: 7.3825 - val_accuracy: 0.4139\n",
            "Epoch 20/50\n",
            "24/24 [==============================] - 52s 2s/step - loss: 0.1855 - accuracy: 0.9194 - val_loss: 2.1638 - val_accuracy: 0.6000\n",
            "Epoch 21/50\n",
            "24/24 [==============================] - 52s 2s/step - loss: 0.1600 - accuracy: 0.9372 - val_loss: 2.2401 - val_accuracy: 0.5917\n",
            "Epoch 22/50\n",
            "24/24 [==============================] - 52s 2s/step - loss: 0.1197 - accuracy: 0.9559 - val_loss: 10.1968 - val_accuracy: 0.4222\n",
            "Epoch 23/50\n",
            "24/24 [==============================] - 52s 2s/step - loss: 0.1046 - accuracy: 0.9580 - val_loss: 124.8136 - val_accuracy: 0.3528\n",
            "Epoch 24/50\n",
            "24/24 [==============================] - 48s 2s/step - loss: 0.1174 - accuracy: 0.9542 - val_loss: 20.6696 - val_accuracy: 0.4111\n",
            "Epoch 25/50\n",
            "24/24 [==============================] - 52s 2s/step - loss: 0.1117 - accuracy: 0.9587 - val_loss: 9.3947 - val_accuracy: 0.5972\n",
            "Epoch 26/50\n",
            "24/24 [==============================] - 48s 2s/step - loss: 0.1346 - accuracy: 0.9531 - val_loss: 9.6762 - val_accuracy: 0.5306\n",
            "Epoch 27/50\n",
            "24/24 [==============================] - 52s 2s/step - loss: 0.0876 - accuracy: 0.9726 - val_loss: 8.5740 - val_accuracy: 0.6167\n",
            "Epoch 28/50\n",
            "24/24 [==============================] - 52s 2s/step - loss: 0.0498 - accuracy: 0.9847 - val_loss: 3.7681 - val_accuracy: 0.6389\n",
            "Epoch 29/50\n",
            "24/24 [==============================] - 48s 2s/step - loss: 0.0883 - accuracy: 0.9698 - val_loss: 19.3762 - val_accuracy: 0.5222\n",
            "Epoch 30/50\n",
            "24/24 [==============================] - 48s 2s/step - loss: 0.0738 - accuracy: 0.9747 - val_loss: 6.8880 - val_accuracy: 0.6556\n",
            "Epoch 31/50\n",
            "24/24 [==============================] - 48s 2s/step - loss: 0.0528 - accuracy: 0.9826 - val_loss: 5.6189 - val_accuracy: 0.6111\n",
            "Epoch 32/50\n",
            "24/24 [==============================] - 49s 2s/step - loss: 0.0476 - accuracy: 0.9847 - val_loss: 2.4055 - val_accuracy: 0.5444\n",
            "Epoch 33/50\n",
            "24/24 [==============================] - 48s 2s/step - loss: 0.0639 - accuracy: 0.9806 - val_loss: 1.4365 - val_accuracy: 0.6222\n",
            "Epoch 34/50\n",
            "24/24 [==============================] - 48s 2s/step - loss: 0.0439 - accuracy: 0.9847 - val_loss: 2.7196 - val_accuracy: 0.5778\n",
            "Epoch 35/50\n",
            "24/24 [==============================] - 52s 2s/step - loss: 0.0389 - accuracy: 0.9882 - val_loss: 3.6286 - val_accuracy: 0.6306\n",
            "Epoch 36/50\n",
            "24/24 [==============================] - 48s 2s/step - loss: 0.0390 - accuracy: 0.9865 - val_loss: 5.6754 - val_accuracy: 0.6306\n",
            "Epoch 37/50\n",
            "24/24 [==============================] - 52s 2s/step - loss: 0.0343 - accuracy: 0.9896 - val_loss: 95.8170 - val_accuracy: 0.3528\n",
            "Epoch 38/50\n",
            "24/24 [==============================] - 52s 2s/step - loss: 0.0288 - accuracy: 0.9910 - val_loss: 21.6345 - val_accuracy: 0.4278\n",
            "Epoch 39/50\n",
            "24/24 [==============================] - 48s 2s/step - loss: 0.0464 - accuracy: 0.9868 - val_loss: 90.6981 - val_accuracy: 0.3556\n",
            "Epoch 40/50\n",
            "24/24 [==============================] - 48s 2s/step - loss: 0.0588 - accuracy: 0.9774 - val_loss: 487.1282 - val_accuracy: 0.3528\n",
            "Epoch 41/50\n",
            "24/24 [==============================] - 48s 2s/step - loss: 0.0683 - accuracy: 0.9785 - val_loss: 5.4097 - val_accuracy: 0.6028\n",
            "Epoch 42/50\n",
            "24/24 [==============================] - 48s 2s/step - loss: 0.0387 - accuracy: 0.9885 - val_loss: 16.8670 - val_accuracy: 0.4056\n",
            "Epoch 43/50\n",
            "24/24 [==============================] - 48s 2s/step - loss: 0.0521 - accuracy: 0.9851 - val_loss: 11.7762 - val_accuracy: 0.4500\n",
            "Epoch 44/50\n",
            "24/24 [==============================] - 48s 2s/step - loss: 0.0322 - accuracy: 0.9903 - val_loss: 8.3666 - val_accuracy: 0.4972\n",
            "Epoch 45/50\n",
            "24/24 [==============================] - 52s 2s/step - loss: 0.0258 - accuracy: 0.9917 - val_loss: 7.9578 - val_accuracy: 0.6278\n",
            "Epoch 46/50\n",
            "24/24 [==============================] - 52s 2s/step - loss: 0.0144 - accuracy: 0.9955 - val_loss: 8.6140 - val_accuracy: 0.5750\n",
            "Epoch 47/50\n",
            "24/24 [==============================] - 48s 2s/step - loss: 0.0212 - accuracy: 0.9937 - val_loss: 5.1407 - val_accuracy: 0.5083\n",
            "Epoch 48/50\n",
            "24/24 [==============================] - 48s 2s/step - loss: 0.0208 - accuracy: 0.9934 - val_loss: 13.2896 - val_accuracy: 0.3694\n",
            "Epoch 49/50\n",
            "24/24 [==============================] - 48s 2s/step - loss: 0.0354 - accuracy: 0.9899 - val_loss: 4.4382 - val_accuracy: 0.6139\n",
            "Epoch 50/50\n",
            "24/24 [==============================] - 48s 2s/step - loss: 0.0506 - accuracy: 0.9830 - val_loss: 5.3338 - val_accuracy: 0.5917\n"
          ],
          "name": "stdout"
        }
      ]
    },
    {
      "cell_type": "markdown",
      "metadata": {
        "colab_type": "text",
        "id": "Zt-oQh62ra0_"
      },
      "source": [
        "#### testing the model"
      ]
    },
    {
      "cell_type": "code",
      "metadata": {
        "colab_type": "code",
        "outputId": "7f9e2bbf-d177-4f77-cf83-535030d77d8f",
        "id": "Fl68CpSdra1A",
        "colab": {
          "base_uri": "https://localhost:8080/",
          "height": 50
        }
      },
      "source": [
        "test_steps = int(len(df_test)/batch_size)\n",
        "\n",
        "metrics = many_unfrozen_resnet_model.evaluate(test_dataset,\n",
        "                   steps = test_steps)\n",
        "print(\"model accuracy:\",metrics[1])"
      ],
      "execution_count": 0,
      "outputs": [
        {
          "output_type": "stream",
          "text": [
            "3/3 [==============================] - 3s 976ms/step - loss: 5.3076 - accuracy: 0.5639\n",
            "model accuracy: 0.5638889\n"
          ],
          "name": "stdout"
        }
      ]
    },
    {
      "cell_type": "markdown",
      "metadata": {
        "colab_type": "text",
        "id": "28sBerOlyTh9"
      },
      "source": [
        "#### plotting training"
      ]
    },
    {
      "cell_type": "code",
      "metadata": {
        "colab_type": "code",
        "outputId": "6bc802ea-e613-4a3a-b081-3b35825c40ed",
        "id": "CUvVwNJRyTiC",
        "colab": {
          "base_uri": "https://localhost:8080/",
          "height": 573
        }
      },
      "source": [
        "plot_hist(many_unfrozen_resnet50_history, 'many_unfrozen_resnet50_Adam')"
      ],
      "execution_count": 0,
      "outputs": [
        {
          "output_type": "display_data",
          "data": {
            "image/png": "[encoded data removed]",
            "text/plain": [
              "<Figure size 432x288 with 1 Axes>"
            ]
          },
          "metadata": {
            "tags": []
          }
        },
        {
          "output_type": "display_data",
          "data": {
            "image/png": "[encoded data removed]",
            "text/plain": [
              "<Figure size 432x288 with 1 Axes>"
            ]
          },
          "metadata": {
            "tags": []
          }
        }
      ]
    },
    {
      "cell_type": "markdown",
      "metadata": {
        "colab_type": "text",
        "id": "HbIQBb3zra1D"
      },
      "source": [
        "#### saving the history of the fitting"
      ]
    },
    {
      "cell_type": "code",
      "metadata": {
        "colab_type": "code",
        "outputId": "1b2cfa64-8a43-47bc-b572-2ec169ea0ede",
        "id": "GpwbYJB5ra1D",
        "colab": {
          "base_uri": "https://localhost:8080/",
          "height": 34
        }
      },
      "source": [
        "with open(cwd + '/trainHistoryDict/many_unfrozen_resnet50_history_Adam.p', 'wb') as file_pi:\n",
        "        pickle.dump(many_unfrozen_resnet50_history.history, file_pi)\n",
        "print('history saved')"
      ],
      "execution_count": 0,
      "outputs": [
        {
          "output_type": "stream",
          "text": [
            "history saved\n"
          ],
          "name": "stdout"
        }
      ]
    },
    {
      "cell_type": "code",
      "metadata": {
        "id": "KC-jGyHnrTh9",
        "colab_type": "code",
        "colab": {}
      },
      "source": [
        ""
      ],
      "execution_count": 0,
      "outputs": []
    },
    {
      "cell_type": "markdown",
      "metadata": {
        "id": "WdsCsXkOu7mF",
        "colab_type": "text"
      },
      "source": [
        "## entirely unfrozen"
      ]
    },
    {
      "cell_type": "code",
      "metadata": {
        "colab_type": "code",
        "id": "FrR6YujPvAhK",
        "colab": {}
      },
      "source": [
        "resnet_50 = tf.keras.applications.ResNet50(\n",
        "    include_top=False,\n",
        "    weights='imagenet',\n",
        "    input_shape=(200,200,3),\n",
        "    pooling=None\n",
        ")"
      ],
      "execution_count": 0,
      "outputs": []
    },
    {
      "cell_type": "markdown",
      "metadata": {
        "colab_type": "text",
        "id": "AErdeAAY1rsN"
      },
      "source": [
        "#### modifying slightly"
      ]
    },
    {
      "cell_type": "code",
      "metadata": {
        "colab_type": "code",
        "id": "7-OTdP3-1rsT",
        "colab": {}
      },
      "source": [
        "x = resnet_50.output\n",
        "\n",
        "x = GlobalAveragePooling2D()(x)\n",
        "\n",
        "# let's add a fully-connected layer\n",
        "x = Dense(512, activation='relu')(x)\n",
        "\n",
        "x = Dropout(0.5)(x)\n",
        "\n",
        "#x = GlobalAveragePooling2D()(x)\n",
        "\n",
        "# let's add a fully-connected layer\n",
        "x = Dense(512, activation='relu')(x)\n",
        "\n",
        "x = Dropout(0.5)(x)\n",
        "\n",
        "# let's add a fully-connected layer\n",
        "x = Dense(512, activation='relu')(x)\n",
        "\n",
        "x = Dropout(0.5)(x)\n",
        "\n",
        "# and a logits layer -- let's say we have 3 classes\n",
        "predictions = Dense(3, activation='softmax')(x)"
      ],
      "execution_count": 0,
      "outputs": []
    },
    {
      "cell_type": "markdown",
      "metadata": {
        "id": "UDrRFGzn1z61",
        "colab_type": "text"
      },
      "source": [
        "#### creating model object"
      ]
    },
    {
      "cell_type": "code",
      "metadata": {
        "id": "lstePI_NvN-5",
        "colab_type": "code",
        "colab": {}
      },
      "source": [
        "# this is the model we will train\n",
        "unfrozen_resnet50_model = Model(inputs=resnet_50.input, outputs=predictions)"
      ],
      "execution_count": 0,
      "outputs": []
    },
    {
      "cell_type": "code",
      "metadata": {
        "id": "1DulDS0ovX2h",
        "colab_type": "code",
        "outputId": "773d1cf1-0c5c-4ee3-c541-80547a04c317",
        "colab": {
          "base_uri": "https://localhost:8080/",
          "height": 1000
        }
      },
      "source": [
        "for layer in unfrozen_resnet50_model.layers:\n",
        "    print(layer.name)\n",
        "    layer.trainable = True"
      ],
      "execution_count": 0,
      "outputs": [
        {
          "output_type": "stream",
          "text": [
            "input_5\n",
            "conv1_pad\n",
            "conv1_conv\n",
            "conv1_bn\n",
            "conv1_relu\n",
            "pool1_pad\n",
            "pool1_pool\n",
            "conv2_block1_1_conv\n",
            "conv2_block1_1_bn\n",
            "conv2_block1_1_relu\n",
            "conv2_block1_2_conv\n",
            "conv2_block1_2_bn\n",
            "conv2_block1_2_relu\n",
            "conv2_block1_0_conv\n",
            "conv2_block1_3_conv\n",
            "conv2_block1_0_bn\n",
            "conv2_block1_3_bn\n",
            "conv2_block1_add\n",
            "conv2_block1_out\n",
            "conv2_block2_1_conv\n",
            "conv2_block2_1_bn\n",
            "conv2_block2_1_relu\n",
            "conv2_block2_2_conv\n",
            "conv2_block2_2_bn\n",
            "conv2_block2_2_relu\n",
            "conv2_block2_3_conv\n",
            "conv2_block2_3_bn\n",
            "conv2_block2_add\n",
            "conv2_block2_out\n",
            "conv2_block3_1_conv\n",
            "conv2_block3_1_bn\n",
            "conv2_block3_1_relu\n",
            "conv2_block3_2_conv\n",
            "conv2_block3_2_bn\n",
            "conv2_block3_2_relu\n",
            "conv2_block3_3_conv\n",
            "conv2_block3_3_bn\n",
            "conv2_block3_add\n",
            "conv2_block3_out\n",
            "conv3_block1_1_conv\n",
            "conv3_block1_1_bn\n",
            "conv3_block1_1_relu\n",
            "conv3_block1_2_conv\n",
            "conv3_block1_2_bn\n",
            "conv3_block1_2_relu\n",
            "conv3_block1_0_conv\n",
            "conv3_block1_3_conv\n",
            "conv3_block1_0_bn\n",
            "conv3_block1_3_bn\n",
            "conv3_block1_add\n",
            "conv3_block1_out\n",
            "conv3_block2_1_conv\n",
            "conv3_block2_1_bn\n",
            "conv3_block2_1_relu\n",
            "conv3_block2_2_conv\n",
            "conv3_block2_2_bn\n",
            "conv3_block2_2_relu\n",
            "conv3_block2_3_conv\n",
            "conv3_block2_3_bn\n",
            "conv3_block2_add\n",
            "conv3_block2_out\n",
            "conv3_block3_1_conv\n",
            "conv3_block3_1_bn\n",
            "conv3_block3_1_relu\n",
            "conv3_block3_2_conv\n",
            "conv3_block3_2_bn\n",
            "conv3_block3_2_relu\n",
            "conv3_block3_3_conv\n",
            "conv3_block3_3_bn\n",
            "conv3_block3_add\n",
            "conv3_block3_out\n",
            "conv3_block4_1_conv\n",
            "conv3_block4_1_bn\n",
            "conv3_block4_1_relu\n",
            "conv3_block4_2_conv\n",
            "conv3_block4_2_bn\n",
            "conv3_block4_2_relu\n",
            "conv3_block4_3_conv\n",
            "conv3_block4_3_bn\n",
            "conv3_block4_add\n",
            "conv3_block4_out\n",
            "conv4_block1_1_conv\n",
            "conv4_block1_1_bn\n",
            "conv4_block1_1_relu\n",
            "conv4_block1_2_conv\n",
            "conv4_block1_2_bn\n",
            "conv4_block1_2_relu\n",
            "conv4_block1_0_conv\n",
            "conv4_block1_3_conv\n",
            "conv4_block1_0_bn\n",
            "conv4_block1_3_bn\n",
            "conv4_block1_add\n",
            "conv4_block1_out\n",
            "conv4_block2_1_conv\n",
            "conv4_block2_1_bn\n",
            "conv4_block2_1_relu\n",
            "conv4_block2_2_conv\n",
            "conv4_block2_2_bn\n",
            "conv4_block2_2_relu\n",
            "conv4_block2_3_conv\n",
            "conv4_block2_3_bn\n",
            "conv4_block2_add\n",
            "conv4_block2_out\n",
            "conv4_block3_1_conv\n",
            "conv4_block3_1_bn\n",
            "conv4_block3_1_relu\n",
            "conv4_block3_2_conv\n",
            "conv4_block3_2_bn\n",
            "conv4_block3_2_relu\n",
            "conv4_block3_3_conv\n",
            "conv4_block3_3_bn\n",
            "conv4_block3_add\n",
            "conv4_block3_out\n",
            "conv4_block4_1_conv\n",
            "conv4_block4_1_bn\n",
            "conv4_block4_1_relu\n",
            "conv4_block4_2_conv\n",
            "conv4_block4_2_bn\n",
            "conv4_block4_2_relu\n",
            "conv4_block4_3_conv\n",
            "conv4_block4_3_bn\n",
            "conv4_block4_add\n",
            "conv4_block4_out\n",
            "conv4_block5_1_conv\n",
            "conv4_block5_1_bn\n",
            "conv4_block5_1_relu\n",
            "conv4_block5_2_conv\n",
            "conv4_block5_2_bn\n",
            "conv4_block5_2_relu\n",
            "conv4_block5_3_conv\n",
            "conv4_block5_3_bn\n",
            "conv4_block5_add\n",
            "conv4_block5_out\n",
            "conv4_block6_1_conv\n",
            "conv4_block6_1_bn\n",
            "conv4_block6_1_relu\n",
            "conv4_block6_2_conv\n",
            "conv4_block6_2_bn\n",
            "conv4_block6_2_relu\n",
            "conv4_block6_3_conv\n",
            "conv4_block6_3_bn\n",
            "conv4_block6_add\n",
            "conv4_block6_out\n",
            "conv5_block1_1_conv\n",
            "conv5_block1_1_bn\n",
            "conv5_block1_1_relu\n",
            "conv5_block1_2_conv\n",
            "conv5_block1_2_bn\n",
            "conv5_block1_2_relu\n",
            "conv5_block1_0_conv\n",
            "conv5_block1_3_conv\n",
            "conv5_block1_0_bn\n",
            "conv5_block1_3_bn\n",
            "conv5_block1_add\n",
            "conv5_block1_out\n",
            "conv5_block2_1_conv\n",
            "conv5_block2_1_bn\n",
            "conv5_block2_1_relu\n",
            "conv5_block2_2_conv\n",
            "conv5_block2_2_bn\n",
            "conv5_block2_2_relu\n",
            "conv5_block2_3_conv\n",
            "conv5_block2_3_bn\n",
            "conv5_block2_add\n",
            "conv5_block2_out\n",
            "conv5_block3_1_conv\n",
            "conv5_block3_1_bn\n",
            "conv5_block3_1_relu\n",
            "conv5_block3_2_conv\n",
            "conv5_block3_2_bn\n",
            "conv5_block3_2_relu\n",
            "conv5_block3_3_conv\n",
            "conv5_block3_3_bn\n",
            "conv5_block3_add\n",
            "conv5_block3_out\n",
            "global_average_pooling2d_4\n",
            "dense_16\n",
            "dropout_12\n",
            "dense_17\n",
            "dropout_13\n",
            "dense_18\n",
            "dropout_14\n",
            "dense_19\n"
          ],
          "name": "stdout"
        }
      ]
    },
    {
      "cell_type": "code",
      "metadata": {
        "id": "DB5aU4CSvgE4",
        "colab_type": "code",
        "outputId": "93bb880f-f541-41fb-891e-bffb6652ce65",
        "colab": {
          "base_uri": "https://localhost:8080/",
          "height": 1000
        }
      },
      "source": [
        "for layer in unfrozen_resnet50_model.layers:\n",
        "    print(layer.name,' Trainable =',layer.trainable)"
      ],
      "execution_count": 0,
      "outputs": [
        {
          "output_type": "stream",
          "text": [
            "input_5  Trainable = True\n",
            "conv1_pad  Trainable = True\n",
            "conv1_conv  Trainable = True\n",
            "conv1_bn  Trainable = True\n",
            "conv1_relu  Trainable = True\n",
            "pool1_pad  Trainable = True\n",
            "pool1_pool  Trainable = True\n",
            "conv2_block1_1_conv  Trainable = True\n",
            "conv2_block1_1_bn  Trainable = True\n",
            "conv2_block1_1_relu  Trainable = True\n",
            "conv2_block1_2_conv  Trainable = True\n",
            "conv2_block1_2_bn  Trainable = True\n",
            "conv2_block1_2_relu  Trainable = True\n",
            "conv2_block1_0_conv  Trainable = True\n",
            "conv2_block1_3_conv  Trainable = True\n",
            "conv2_block1_0_bn  Trainable = True\n",
            "conv2_block1_3_bn  Trainable = True\n",
            "conv2_block1_add  Trainable = True\n",
            "conv2_block1_out  Trainable = True\n",
            "conv2_block2_1_conv  Trainable = True\n",
            "conv2_block2_1_bn  Trainable = True\n",
            "conv2_block2_1_relu  Trainable = True\n",
            "conv2_block2_2_conv  Trainable = True\n",
            "conv2_block2_2_bn  Trainable = True\n",
            "conv2_block2_2_relu  Trainable = True\n",
            "conv2_block2_3_conv  Trainable = True\n",
            "conv2_block2_3_bn  Trainable = True\n",
            "conv2_block2_add  Trainable = True\n",
            "conv2_block2_out  Trainable = True\n",
            "conv2_block3_1_conv  Trainable = True\n",
            "conv2_block3_1_bn  Trainable = True\n",
            "conv2_block3_1_relu  Trainable = True\n",
            "conv2_block3_2_conv  Trainable = True\n",
            "conv2_block3_2_bn  Trainable = True\n",
            "conv2_block3_2_relu  Trainable = True\n",
            "conv2_block3_3_conv  Trainable = True\n",
            "conv2_block3_3_bn  Trainable = True\n",
            "conv2_block3_add  Trainable = True\n",
            "conv2_block3_out  Trainable = True\n",
            "conv3_block1_1_conv  Trainable = True\n",
            "conv3_block1_1_bn  Trainable = True\n",
            "conv3_block1_1_relu  Trainable = True\n",
            "conv3_block1_2_conv  Trainable = True\n",
            "conv3_block1_2_bn  Trainable = True\n",
            "conv3_block1_2_relu  Trainable = True\n",
            "conv3_block1_0_conv  Trainable = True\n",
            "conv3_block1_3_conv  Trainable = True\n",
            "conv3_block1_0_bn  Trainable = True\n",
            "conv3_block1_3_bn  Trainable = True\n",
            "conv3_block1_add  Trainable = True\n",
            "conv3_block1_out  Trainable = True\n",
            "conv3_block2_1_conv  Trainable = True\n",
            "conv3_block2_1_bn  Trainable = True\n",
            "conv3_block2_1_relu  Trainable = True\n",
            "conv3_block2_2_conv  Trainable = True\n",
            "conv3_block2_2_bn  Trainable = True\n",
            "conv3_block2_2_relu  Trainable = True\n",
            "conv3_block2_3_conv  Trainable = True\n",
            "conv3_block2_3_bn  Trainable = True\n",
            "conv3_block2_add  Trainable = True\n",
            "conv3_block2_out  Trainable = True\n",
            "conv3_block3_1_conv  Trainable = True\n",
            "conv3_block3_1_bn  Trainable = True\n",
            "conv3_block3_1_relu  Trainable = True\n",
            "conv3_block3_2_conv  Trainable = True\n",
            "conv3_block3_2_bn  Trainable = True\n",
            "conv3_block3_2_relu  Trainable = True\n",
            "conv3_block3_3_conv  Trainable = True\n",
            "conv3_block3_3_bn  Trainable = True\n",
            "conv3_block3_add  Trainable = True\n",
            "conv3_block3_out  Trainable = True\n",
            "conv3_block4_1_conv  Trainable = True\n",
            "conv3_block4_1_bn  Trainable = True\n",
            "conv3_block4_1_relu  Trainable = True\n",
            "conv3_block4_2_conv  Trainable = True\n",
            "conv3_block4_2_bn  Trainable = True\n",
            "conv3_block4_2_relu  Trainable = True\n",
            "conv3_block4_3_conv  Trainable = True\n",
            "conv3_block4_3_bn  Trainable = True\n",
            "conv3_block4_add  Trainable = True\n",
            "conv3_block4_out  Trainable = True\n",
            "conv4_block1_1_conv  Trainable = True\n",
            "conv4_block1_1_bn  Trainable = True\n",
            "conv4_block1_1_relu  Trainable = True\n",
            "conv4_block1_2_conv  Trainable = True\n",
            "conv4_block1_2_bn  Trainable = True\n",
            "conv4_block1_2_relu  Trainable = True\n",
            "conv4_block1_0_conv  Trainable = True\n",
            "conv4_block1_3_conv  Trainable = True\n",
            "conv4_block1_0_bn  Trainable = True\n",
            "conv4_block1_3_bn  Trainable = True\n",
            "conv4_block1_add  Trainable = True\n",
            "conv4_block1_out  Trainable = True\n",
            "conv4_block2_1_conv  Trainable = True\n",
            "conv4_block2_1_bn  Trainable = True\n",
            "conv4_block2_1_relu  Trainable = True\n",
            "conv4_block2_2_conv  Trainable = True\n",
            "conv4_block2_2_bn  Trainable = True\n",
            "conv4_block2_2_relu  Trainable = True\n",
            "conv4_block2_3_conv  Trainable = True\n",
            "conv4_block2_3_bn  Trainable = True\n",
            "conv4_block2_add  Trainable = True\n",
            "conv4_block2_out  Trainable = True\n",
            "conv4_block3_1_conv  Trainable = True\n",
            "conv4_block3_1_bn  Trainable = True\n",
            "conv4_block3_1_relu  Trainable = True\n",
            "conv4_block3_2_conv  Trainable = True\n",
            "conv4_block3_2_bn  Trainable = True\n",
            "conv4_block3_2_relu  Trainable = True\n",
            "conv4_block3_3_conv  Trainable = True\n",
            "conv4_block3_3_bn  Trainable = True\n",
            "conv4_block3_add  Trainable = True\n",
            "conv4_block3_out  Trainable = True\n",
            "conv4_block4_1_conv  Trainable = True\n",
            "conv4_block4_1_bn  Trainable = True\n",
            "conv4_block4_1_relu  Trainable = True\n",
            "conv4_block4_2_conv  Trainable = True\n",
            "conv4_block4_2_bn  Trainable = True\n",
            "conv4_block4_2_relu  Trainable = True\n",
            "conv4_block4_3_conv  Trainable = True\n",
            "conv4_block4_3_bn  Trainable = True\n",
            "conv4_block4_add  Trainable = True\n",
            "conv4_block4_out  Trainable = True\n",
            "conv4_block5_1_conv  Trainable = True\n",
            "conv4_block5_1_bn  Trainable = True\n",
            "conv4_block5_1_relu  Trainable = True\n",
            "conv4_block5_2_conv  Trainable = True\n",
            "conv4_block5_2_bn  Trainable = True\n",
            "conv4_block5_2_relu  Trainable = True\n",
            "conv4_block5_3_conv  Trainable = True\n",
            "conv4_block5_3_bn  Trainable = True\n",
            "conv4_block5_add  Trainable = True\n",
            "conv4_block5_out  Trainable = True\n",
            "conv4_block6_1_conv  Trainable = True\n",
            "conv4_block6_1_bn  Trainable = True\n",
            "conv4_block6_1_relu  Trainable = True\n",
            "conv4_block6_2_conv  Trainable = True\n",
            "conv4_block6_2_bn  Trainable = True\n",
            "conv4_block6_2_relu  Trainable = True\n",
            "conv4_block6_3_conv  Trainable = True\n",
            "conv4_block6_3_bn  Trainable = True\n",
            "conv4_block6_add  Trainable = True\n",
            "conv4_block6_out  Trainable = True\n",
            "conv5_block1_1_conv  Trainable = True\n",
            "conv5_block1_1_bn  Trainable = True\n",
            "conv5_block1_1_relu  Trainable = True\n",
            "conv5_block1_2_conv  Trainable = True\n",
            "conv5_block1_2_bn  Trainable = True\n",
            "conv5_block1_2_relu  Trainable = True\n",
            "conv5_block1_0_conv  Trainable = True\n",
            "conv5_block1_3_conv  Trainable = True\n",
            "conv5_block1_0_bn  Trainable = True\n",
            "conv5_block1_3_bn  Trainable = True\n",
            "conv5_block1_add  Trainable = True\n",
            "conv5_block1_out  Trainable = True\n",
            "conv5_block2_1_conv  Trainable = True\n",
            "conv5_block2_1_bn  Trainable = True\n",
            "conv5_block2_1_relu  Trainable = True\n",
            "conv5_block2_2_conv  Trainable = True\n",
            "conv5_block2_2_bn  Trainable = True\n",
            "conv5_block2_2_relu  Trainable = True\n",
            "conv5_block2_3_conv  Trainable = True\n",
            "conv5_block2_3_bn  Trainable = True\n",
            "conv5_block2_add  Trainable = True\n",
            "conv5_block2_out  Trainable = True\n",
            "conv5_block3_1_conv  Trainable = True\n",
            "conv5_block3_1_bn  Trainable = True\n",
            "conv5_block3_1_relu  Trainable = True\n",
            "conv5_block3_2_conv  Trainable = True\n",
            "conv5_block3_2_bn  Trainable = True\n",
            "conv5_block3_2_relu  Trainable = True\n",
            "conv5_block3_3_conv  Trainable = True\n",
            "conv5_block3_3_bn  Trainable = True\n",
            "conv5_block3_add  Trainable = True\n",
            "conv5_block3_out  Trainable = True\n",
            "global_average_pooling2d_4  Trainable = True\n",
            "dense_16  Trainable = True\n",
            "dropout_12  Trainable = True\n",
            "dense_17  Trainable = True\n",
            "dropout_13  Trainable = True\n",
            "dense_18  Trainable = True\n",
            "dropout_14  Trainable = True\n",
            "dense_19  Trainable = True\n"
          ],
          "name": "stdout"
        }
      ]
    },
    {
      "cell_type": "markdown",
      "metadata": {
        "id": "DbqL6LGoxGgT",
        "colab_type": "text"
      },
      "source": [
        "#### setting the optimizer"
      ]
    },
    {
      "cell_type": "code",
      "metadata": {
        "id": "bh4CDz20vo7f",
        "colab_type": "code",
        "colab": {}
      },
      "source": [
        "opt = tf.keras.optimizers.Adam(lr=0.001)\n",
        "\n",
        "# compile the model (should be done *after* setting layers to non-trainable)\n",
        "unfrozen_resnet50_model.compile(optimizer=opt, loss='categorical_crossentropy',metrics=['accuracy'])"
      ],
      "execution_count": 0,
      "outputs": []
    },
    {
      "cell_type": "markdown",
      "metadata": {
        "id": "6vJQLMr9w64c",
        "colab_type": "text"
      },
      "source": [
        "#### fitting the model"
      ]
    },
    {
      "cell_type": "code",
      "metadata": {
        "id": "CZFZayCIv6Oo",
        "colab_type": "code",
        "outputId": "fe2c8d7c-db53-4775-dc12-b59fae46961f",
        "colab": {
          "base_uri": "https://localhost:8080/",
          "height": 1000
        }
      },
      "source": [
        "train_steps = int(len(df_train)/batch_size) #total trains set / batch_size\n",
        "val_steps = int(len(df_val)/batch_size)\n",
        "\n",
        "print('train steps:',train_steps)\n",
        "print('val steps:',val_steps)\n",
        "\n",
        "epochs = 50\n",
        "\n",
        "\n",
        "model_filepath = 'CMS/unfrozen_resnet50_Adam.h5'\n",
        "mcp = ModelCheckpoint(model_filepath, monitor='accuracy', save_best_only=True, mode='max')\n",
        "\n",
        "# Train the model with validation \n",
        "unfrozen_resnet50_history = unfrozen_resnet50_model.fit( train_dataset, steps_per_epoch = train_steps,\n",
        "                   epochs = epochs,\n",
        "                   validation_data = valid_dataset,\n",
        "                   validation_steps = val_steps,\n",
        "                   callbacks=[mcp])"
      ],
      "execution_count": 0,
      "outputs": [
        {
          "output_type": "stream",
          "text": [
            "train steps: 24\n",
            "val steps: 3\n",
            "Train for 24 steps, validate for 3 steps\n",
            "Epoch 1/50\n",
            "24/24 [==============================] - 72s 3s/step - loss: 0.8334 - accuracy: 0.6243 - val_loss: 3646.3311 - val_accuracy: 0.3528\n",
            "Epoch 2/50\n",
            "24/24 [==============================] - 65s 3s/step - loss: 0.5761 - accuracy: 0.7535 - val_loss: 953.2055 - val_accuracy: 0.3528\n",
            "Epoch 3/50\n",
            "24/24 [==============================] - 64s 3s/step - loss: 0.5238 - accuracy: 0.7788 - val_loss: 400.8180 - val_accuracy: 0.3528\n",
            "Epoch 4/50\n",
            "24/24 [==============================] - 65s 3s/step - loss: 0.4897 - accuracy: 0.7917 - val_loss: 26.7681 - val_accuracy: 0.4806\n",
            "Epoch 5/50\n",
            "24/24 [==============================] - 65s 3s/step - loss: 0.4673 - accuracy: 0.7920 - val_loss: 6.4161 - val_accuracy: 0.5639\n",
            "Epoch 6/50\n",
            "24/24 [==============================] - 65s 3s/step - loss: 0.4550 - accuracy: 0.7944 - val_loss: 5.5467 - val_accuracy: 0.6778\n",
            "Epoch 7/50\n",
            "24/24 [==============================] - 65s 3s/step - loss: 0.4186 - accuracy: 0.8201 - val_loss: 2.5970 - val_accuracy: 0.7028\n",
            "Epoch 8/50\n",
            "24/24 [==============================] - 65s 3s/step - loss: 0.4086 - accuracy: 0.8222 - val_loss: 0.8079 - val_accuracy: 0.7694\n",
            "Epoch 9/50\n",
            "24/24 [==============================] - 65s 3s/step - loss: 0.3881 - accuracy: 0.8226 - val_loss: 2.9181 - val_accuracy: 0.6444\n",
            "Epoch 10/50\n",
            "24/24 [==============================] - 65s 3s/step - loss: 0.3786 - accuracy: 0.8319 - val_loss: 1.1336 - val_accuracy: 0.7722\n",
            "Epoch 11/50\n",
            "24/24 [==============================] - 61s 3s/step - loss: 0.4012 - accuracy: 0.8181 - val_loss: 14.1146 - val_accuracy: 0.3722\n",
            "Epoch 12/50\n",
            "24/24 [==============================] - 65s 3s/step - loss: 0.3400 - accuracy: 0.8462 - val_loss: 0.8307 - val_accuracy: 0.7694\n",
            "Epoch 13/50\n",
            "24/24 [==============================] - 65s 3s/step - loss: 0.3288 - accuracy: 0.8486 - val_loss: 1.1196 - val_accuracy: 0.7639\n",
            "Epoch 14/50\n",
            "24/24 [==============================] - 61s 3s/step - loss: 0.3288 - accuracy: 0.8441 - val_loss: 1.5644 - val_accuracy: 0.7417\n",
            "Epoch 15/50\n",
            "24/24 [==============================] - 65s 3s/step - loss: 0.3177 - accuracy: 0.8507 - val_loss: 1.3767 - val_accuracy: 0.7194\n",
            "Epoch 16/50\n",
            "24/24 [==============================] - 65s 3s/step - loss: 0.2856 - accuracy: 0.8601 - val_loss: 1.6371 - val_accuracy: 0.7389\n",
            "Epoch 17/50\n",
            "24/24 [==============================] - 65s 3s/step - loss: 0.2671 - accuracy: 0.8802 - val_loss: 4.8272 - val_accuracy: 0.5694\n",
            "Epoch 18/50\n",
            "24/24 [==============================] - 66s 3s/step - loss: 0.2645 - accuracy: 0.8830 - val_loss: 0.9568 - val_accuracy: 0.7056\n",
            "Epoch 19/50\n",
            "24/24 [==============================] - 65s 3s/step - loss: 0.2523 - accuracy: 0.8875 - val_loss: 3.0473 - val_accuracy: 0.5833\n",
            "Epoch 20/50\n",
            "24/24 [==============================] - 65s 3s/step - loss: 0.2527 - accuracy: 0.8948 - val_loss: 6.5087 - val_accuracy: 0.4917\n",
            "Epoch 21/50\n",
            "24/24 [==============================] - 65s 3s/step - loss: 0.2118 - accuracy: 0.9000 - val_loss: 1.6896 - val_accuracy: 0.7222\n",
            "Epoch 22/50\n",
            "24/24 [==============================] - 65s 3s/step - loss: 0.2306 - accuracy: 0.9003 - val_loss: 1.5747 - val_accuracy: 0.5750\n",
            "Epoch 23/50\n",
            "24/24 [==============================] - 65s 3s/step - loss: 0.1882 - accuracy: 0.9181 - val_loss: 1.7547 - val_accuracy: 0.6972\n",
            "Epoch 24/50\n",
            "24/24 [==============================] - 65s 3s/step - loss: 0.1553 - accuracy: 0.9385 - val_loss: 12.8881 - val_accuracy: 0.4111\n",
            "Epoch 25/50\n",
            "24/24 [==============================] - 61s 3s/step - loss: 0.1926 - accuracy: 0.9240 - val_loss: 29.8944 - val_accuracy: 0.3528\n",
            "Epoch 26/50\n",
            "24/24 [==============================] - 61s 3s/step - loss: 0.1682 - accuracy: 0.9309 - val_loss: 7.3044 - val_accuracy: 0.5250\n",
            "Epoch 27/50\n",
            "24/24 [==============================] - 65s 3s/step - loss: 0.1352 - accuracy: 0.9462 - val_loss: 1.2303 - val_accuracy: 0.7500\n",
            "Epoch 28/50\n",
            "24/24 [==============================] - 65s 3s/step - loss: 0.0924 - accuracy: 0.9670 - val_loss: 645.8560 - val_accuracy: 0.3528\n",
            "Epoch 29/50\n",
            "24/24 [==============================] - 61s 3s/step - loss: 0.1005 - accuracy: 0.9653 - val_loss: 835.8449 - val_accuracy: 0.3528\n",
            "Epoch 30/50\n",
            "24/24 [==============================] - 61s 3s/step - loss: 0.1238 - accuracy: 0.9531 - val_loss: 16.7582 - val_accuracy: 0.3528\n",
            "Epoch 31/50\n",
            "24/24 [==============================] - 61s 3s/step - loss: 0.1118 - accuracy: 0.9583 - val_loss: 2.6248 - val_accuracy: 0.6056\n",
            "Epoch 32/50\n",
            "24/24 [==============================] - 65s 3s/step - loss: 0.0734 - accuracy: 0.9764 - val_loss: 3.3069 - val_accuracy: 0.6028\n",
            "Epoch 33/50\n",
            "24/24 [==============================] - 61s 3s/step - loss: 0.0875 - accuracy: 0.9667 - val_loss: 221.0839 - val_accuracy: 0.3528\n",
            "Epoch 34/50\n",
            "24/24 [==============================] - 61s 3s/step - loss: 0.1208 - accuracy: 0.9590 - val_loss: 3.1401 - val_accuracy: 0.6306\n",
            "Epoch 35/50\n",
            "24/24 [==============================] - 61s 3s/step - loss: 0.1118 - accuracy: 0.9642 - val_loss: 2.5600 - val_accuracy: 0.5694\n",
            "Epoch 36/50\n",
            "24/24 [==============================] - 61s 3s/step - loss: 0.0777 - accuracy: 0.9712 - val_loss: 3.7177 - val_accuracy: 0.5694\n",
            "Epoch 37/50\n",
            "24/24 [==============================] - 65s 3s/step - loss: 0.0469 - accuracy: 0.9840 - val_loss: 1.7400 - val_accuracy: 0.7139\n",
            "Epoch 38/50\n",
            "24/24 [==============================] - 65s 3s/step - loss: 0.0331 - accuracy: 0.9889 - val_loss: 72.6580 - val_accuracy: 0.3528\n",
            "Epoch 39/50\n",
            "24/24 [==============================] - 65s 3s/step - loss: 0.0181 - accuracy: 0.9941 - val_loss: 382.6528 - val_accuracy: 0.3528\n",
            "Epoch 40/50\n",
            "24/24 [==============================] - 61s 3s/step - loss: 0.1172 - accuracy: 0.9698 - val_loss: 134.9019 - val_accuracy: 0.3528\n",
            "Epoch 41/50\n",
            "24/24 [==============================] - 61s 3s/step - loss: 0.0956 - accuracy: 0.9632 - val_loss: 83.2852 - val_accuracy: 0.3528\n",
            "Epoch 42/50\n",
            "24/24 [==============================] - 61s 3s/step - loss: 0.0381 - accuracy: 0.9885 - val_loss: 7.3656 - val_accuracy: 0.4972\n",
            "Epoch 43/50\n",
            "24/24 [==============================] - 61s 3s/step - loss: 0.0396 - accuracy: 0.9861 - val_loss: 1.7387 - val_accuracy: 0.7278\n",
            "Epoch 44/50\n",
            "24/24 [==============================] - 61s 3s/step - loss: 0.0388 - accuracy: 0.9868 - val_loss: 6.4308 - val_accuracy: 0.4833\n",
            "Epoch 45/50\n",
            "24/24 [==============================] - 61s 3s/step - loss: 0.0398 - accuracy: 0.9875 - val_loss: 25.9181 - val_accuracy: 0.3528\n",
            "Epoch 46/50\n",
            "24/24 [==============================] - 61s 3s/step - loss: 0.0339 - accuracy: 0.9917 - val_loss: 1.4578 - val_accuracy: 0.7500\n",
            "Epoch 47/50\n",
            "24/24 [==============================] - 62s 3s/step - loss: 0.0260 - accuracy: 0.9920 - val_loss: 3.4316 - val_accuracy: 0.6583\n",
            "Epoch 48/50\n",
            "24/24 [==============================] - 65s 3s/step - loss: 0.0168 - accuracy: 0.9951 - val_loss: 2.0413 - val_accuracy: 0.7472\n",
            "Epoch 49/50\n",
            "24/24 [==============================] - 61s 3s/step - loss: 0.0325 - accuracy: 0.9917 - val_loss: 26.8205 - val_accuracy: 0.3528\n",
            "Epoch 50/50\n",
            "24/24 [==============================] - 61s 3s/step - loss: 0.0484 - accuracy: 0.9851 - val_loss: 24.0116 - val_accuracy: 0.5472\n"
          ],
          "name": "stdout"
        }
      ]
    },
    {
      "cell_type": "markdown",
      "metadata": {
        "colab_type": "text",
        "id": "sRYx4CU26iY-"
      },
      "source": [
        "#### testing the model"
      ]
    },
    {
      "cell_type": "code",
      "metadata": {
        "colab_type": "code",
        "outputId": "e99808af-ff1b-4b4e-9996-010dc9469489",
        "id": "xQWRFzCy6iZN",
        "colab": {
          "base_uri": "https://localhost:8080/",
          "height": 50
        }
      },
      "source": [
        "test_steps = int(len(df_test)/batch_size)\n",
        "\n",
        "metrics = unfrozen_resnet50_model.evaluate(test_dataset,\n",
        "                   steps = test_steps)\n",
        "print(\"model accuracy:\",metrics[1])"
      ],
      "execution_count": 0,
      "outputs": [
        {
          "output_type": "stream",
          "text": [
            "3/3 [==============================] - 3s 978ms/step - loss: 23.7246 - accuracy: 0.5444\n",
            "model accuracy: 0.54444444\n"
          ],
          "name": "stdout"
        }
      ]
    },
    {
      "cell_type": "markdown",
      "metadata": {
        "colab_type": "text",
        "id": "fOyLO9B16OAD"
      },
      "source": [
        "#### plotting training"
      ]
    },
    {
      "cell_type": "code",
      "metadata": {
        "colab_type": "code",
        "outputId": "3fff80ae-2c7e-411b-910d-dec438321f83",
        "id": "VnsayjlZ6OAM",
        "colab": {
          "base_uri": "https://localhost:8080/",
          "height": 573
        }
      },
      "source": [
        "plot_hist(unfrozen_resnet50_history, 'unfrozen_resnet50_Adam')"
      ],
      "execution_count": 0,
      "outputs": [
        {
          "output_type": "display_data",
          "data": {
            "image/png": "[encoded data removed]",
            "text/plain": [
              "<Figure size 432x288 with 1 Axes>"
            ]
          },
          "metadata": {
            "tags": []
          }
        },
        {
          "output_type": "display_data",
          "data": {
            "image/png": "[encoded data removed]",
            "text/plain": [
              "<Figure size 432x288 with 1 Axes>"
            ]
          },
          "metadata": {
            "tags": []
          }
        }
      ]
    },
    {
      "cell_type": "markdown",
      "metadata": {
        "id": "Ih3vofhBw90T",
        "colab_type": "text"
      },
      "source": [
        "#### saving the history of the fitting"
      ]
    },
    {
      "cell_type": "code",
      "metadata": {
        "id": "_IKqpLg2wbi0",
        "colab_type": "code",
        "outputId": "45ebc96d-a6df-4e95-d200-2e5ea00566b5",
        "colab": {
          "base_uri": "https://localhost:8080/",
          "height": 34
        }
      },
      "source": [
        "with open(cwd + '/trainHistoryDict/unfrozen_resnet50_history_Adam.p', 'wb') as file_pi:\n",
        "        pickle.dump(unfrozen_resnet50_history.history, file_pi)\n",
        "print('history saved')"
      ],
      "execution_count": 0,
      "outputs": [
        {
          "output_type": "stream",
          "text": [
            "history saved\n"
          ],
          "name": "stdout"
        }
      ]
    },
    {
      "cell_type": "code",
      "metadata": {
        "id": "fkt8dlpe6r83",
        "colab_type": "code",
        "colab": {}
      },
      "source": [
        ""
      ],
      "execution_count": 0,
      "outputs": []
    }
  ]
}