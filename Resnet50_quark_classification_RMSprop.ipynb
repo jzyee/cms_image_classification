{
  "nbformat": 4,
  "nbformat_minor": 0,
  "metadata": {
    "colab": {
      "name": "Resnet50_quark_classification_RMSprop.ipynb",
      "provenance": [],
      "collapsed_sections": [],
      "toc_visible": true
    },
    "kernelspec": {
      "name": "python3",
      "display_name": "Python 3"
    },
    "accelerator": "GPU"
  },
  "cells": [
    {
      "cell_type": "markdown",
      "metadata": {
        "id": "PI5RDzjpY4fy",
        "colab_type": "text"
      },
      "source": [
        "#notebook setup"
      ]
    },
    {
      "cell_type": "code",
      "metadata": {
        "id": "nNc8dLtXlcuJ",
        "colab_type": "code",
        "outputId": "e74445ef-983a-418b-bd4b-839a7e2c631b",
        "colab": {
          "base_uri": "https://localhost:8080/",
          "height": 188
        }
      },
      "source": [
        "!pip install google-auth --upgrade\n",
        "!pip install grpcio --upgrade"
      ],
      "execution_count": 0,
      "outputs": [
        {
          "output_type": "stream",
          "text": [
            "Requirement already up-to-date: google-auth in /usr/local/lib/python3.6/dist-packages (1.10.0)\n",
            "Requirement already satisfied, skipping upgrade: rsa<4.1,>=3.1.4 in /usr/local/lib/python3.6/dist-packages (from google-auth) (4.0)\n",
            "Requirement already satisfied, skipping upgrade: six>=1.9.0 in /usr/local/lib/python3.6/dist-packages (from google-auth) (1.12.0)\n",
            "Requirement already satisfied, skipping upgrade: pyasn1-modules>=0.2.1 in /usr/local/lib/python3.6/dist-packages (from google-auth) (0.2.7)\n",
            "Requirement already satisfied, skipping upgrade: setuptools>=40.3.0 in /usr/local/lib/python3.6/dist-packages (from google-auth) (42.0.2)\n",
            "Requirement already satisfied, skipping upgrade: cachetools<5.0,>=2.0.0 in /usr/local/lib/python3.6/dist-packages (from google-auth) (4.0.0)\n",
            "Requirement already satisfied, skipping upgrade: pyasn1>=0.1.3 in /usr/local/lib/python3.6/dist-packages (from rsa<4.1,>=3.1.4->google-auth) (0.4.8)\n",
            "Requirement already up-to-date: grpcio in /usr/local/lib/python3.6/dist-packages (1.26.0)\n",
            "Requirement already satisfied, skipping upgrade: six>=1.5.2 in /usr/local/lib/python3.6/dist-packages (from grpcio) (1.12.0)\n"
          ],
          "name": "stdout"
        }
      ]
    },
    {
      "cell_type": "code",
      "metadata": {
        "id": "CH7ZObaXX2it",
        "colab_type": "code",
        "outputId": "474597c8-1f86-456e-8467-0d0e8818e41f",
        "colab": {
          "base_uri": "https://localhost:8080/",
          "height": 67
        }
      },
      "source": [
        "!pip install -qq tf-nightly-gpu-2.0-preview"
      ],
      "execution_count": 0,
      "outputs": [
        {
          "output_type": "stream",
          "text": [
            "\u001b[K     |████████████████████████████████| 395.5MB 37kB/s \n",
            "\u001b[K     |████████████████████████████████| 3.8MB 37.9MB/s \n",
            "\u001b[K     |████████████████████████████████| 450kB 63.6MB/s \n",
            "\u001b[?25h"
          ],
          "name": "stdout"
        }
      ]
    },
    {
      "cell_type": "code",
      "metadata": {
        "id": "FIXnBwudYLjl",
        "colab_type": "code",
        "outputId": "fc7dda27-c4af-441b-bcb7-50b50368ba1f",
        "colab": {
          "base_uri": "https://localhost:8080/",
          "height": 50
        }
      },
      "source": [
        "import tensorflow as tf\n",
        "print(tf.__version__)\n",
        "device_name = tf.test.gpu_device_name()\n",
        "if device_name != '/device:GPU:0':\n",
        "  raise SystemError('GPU device not found')\n",
        "print('Found GPU at: {}'.format(device_name))"
      ],
      "execution_count": 0,
      "outputs": [
        {
          "output_type": "stream",
          "text": [
            "2.0.0-dev20191002\n",
            "Found GPU at: /device:GPU:0\n"
          ],
          "name": "stdout"
        }
      ]
    },
    {
      "cell_type": "code",
      "metadata": {
        "id": "ixmPfjVmYYQ-",
        "colab_type": "code",
        "colab": {}
      },
      "source": [
        "import sys\n",
        "try:\n",
        "    import ujson as json\n",
        "except ImportError:\n",
        "    try:\n",
        "        import simplejson as json\n",
        "    except ImportError:\n",
        "        import json\n",
        "\n",
        "import numpy as np\n",
        "import matplotlib.pyplot as plt\n",
        "import pandas as pd\n",
        "import scipy\n",
        "from sklearn.preprocessing import MinMaxScaler\n",
        "import pywt\n",
        "import os\n",
        "from PIL import Image\n",
        "# import tensorflow as tf\n",
        "from glob import glob\n",
        "\n",
        "from tensorflow.keras.preprocessing import image\n",
        "from tensorflow.keras.preprocessing.image import ImageDataGenerator\n",
        "\n",
        "from tensorflow.keras.models import Model,load_model,Sequential\n",
        "\n",
        "from tensorflow.keras.layers import Dense, GlobalAveragePooling2D, Dropout,Flatten, Input\n",
        "from tensorflow.keras import backend as K\n",
        "from tensorflow.keras.callbacks import EarlyStopping\n",
        "from tensorflow.keras.callbacks import ModelCheckpoint\n",
        "import pickle"
      ],
      "execution_count": 0,
      "outputs": []
    },
    {
      "cell_type": "code",
      "metadata": {
        "id": "8u0wv_jGZF-L",
        "colab_type": "code",
        "outputId": "9457b086-f670-443c-89b8-92243a4ba01c",
        "colab": {
          "base_uri": "https://localhost:8080/",
          "height": 34
        }
      },
      "source": [
        "from google.colab import drive\n",
        "drive.mount('/content/drive')"
      ],
      "execution_count": 0,
      "outputs": [
        {
          "output_type": "stream",
          "text": [
            "Drive already mounted at /content/drive; to attempt to forcibly remount, call drive.mount(\"/content/drive\", force_remount=True).\n"
          ],
          "name": "stdout"
        }
      ]
    },
    {
      "cell_type": "code",
      "metadata": {
        "id": "nngHwbgEhZOr",
        "colab_type": "code",
        "colab": {}
      },
      "source": [
        "\n",
        "def plot_hist(input_history, filename):\n",
        "  import os\n",
        "\n",
        "  folder = ['acc1', 'loss1']\n",
        "\n",
        "  directory = cwd + '/model_performance/'\n",
        "\n",
        "  for f in folder:\n",
        "    if not os.path.exists(directory + f):\n",
        "      os.makedirs(directory + f)\n",
        "\n",
        "  # summarize history for accuracy\n",
        "  # fig, ax = plt.subplots(1,2)\n",
        "  # plt.subplots_adjust(right=2)\n",
        "\n",
        "  plt.plot(input_history.history['accuracy'])\n",
        "  plt.plot(input_history.history['val_accuracy'])\n",
        "  plt.title('model accuracy')\n",
        "  plt.ylabel('accuracy')\n",
        "  plt.xlabel('epoch')\n",
        "  plt.legend(['train', 'test'], loc='upper left')\n",
        "\n",
        "  plt.savefig(cwd+'/model_performance/acc/' + filename + '.jpg')\n",
        "  plt.show()\n",
        "  \n",
        "  # summarize history for loss\n",
        "  plt.plot(input_history.history['loss'])\n",
        "  plt.plot(input_history.history['val_loss'])\n",
        "  plt.title('model loss')\n",
        "  plt.ylabel('loss')\n",
        "  plt.xlabel('epoch')\n",
        "  plt.legend(['train', 'test'], loc='upper left')\n",
        "\n",
        "  \n",
        "  plt.savefig(cwd+'/model_performance/loss/' + filename + '.jpg')"
      ],
      "execution_count": 0,
      "outputs": []
    },
    {
      "cell_type": "markdown",
      "metadata": {
        "id": "h6Pb6W4AZa0d",
        "colab_type": "text"
      },
      "source": [
        "# Data prep"
      ]
    },
    {
      "cell_type": "code",
      "metadata": {
        "id": "ZRZpm9JxZKEN",
        "colab_type": "code",
        "outputId": "fccc83bc-d9bc-424b-9428-08590842e161",
        "colab": {
          "base_uri": "https://localhost:8080/",
          "height": 67
        }
      },
      "source": [
        "%cd drive/'My Drive'\n",
        "!pwd"
      ],
      "execution_count": 109,
      "outputs": [
        {
          "output_type": "stream",
          "text": [
            "[Errno 2] No such file or directory: 'drive/My Drive'\n",
            "/content/drive/My Drive\n",
            "/content/drive/My Drive\n"
          ],
          "name": "stdout"
        }
      ]
    },
    {
      "cell_type": "code",
      "metadata": {
        "id": "dCh0glvPxc1z",
        "colab_type": "code",
        "outputId": "1368dff5-6cc8-48b3-d3be-52a022f969ba",
        "colab": {
          "base_uri": "https://localhost:8080/",
          "height": 34
        }
      },
      "source": [
        "!pwd"
      ],
      "execution_count": 110,
      "outputs": [
        {
          "output_type": "stream",
          "text": [
            "/content/drive/My Drive\n"
          ],
          "name": "stdout"
        }
      ]
    },
    {
      "cell_type": "code",
      "metadata": {
        "id": "j1MEckdzZ_-1",
        "colab_type": "code",
        "outputId": "9cd3124d-f6a8-4a18-ade0-4238bb53f042",
        "colab": {
          "base_uri": "https://localhost:8080/",
          "height": 34
        }
      },
      "source": [
        "img_folder = '/filtered_images'\n",
        "!ls 'filtered_images'"
      ],
      "execution_count": 111,
      "outputs": [
        {
          "output_type": "stream",
          "text": [
            "0  1  2\n"
          ],
          "name": "stdout"
        }
      ]
    },
    {
      "cell_type": "markdown",
      "metadata": {
        "id": "fSJJ8GzogU_i",
        "colab_type": "text"
      },
      "source": [
        "class 0 : DYjets\n",
        "class 1 : TTjets\n",
        "class 2 : Wjets"
      ]
    },
    {
      "cell_type": "markdown",
      "metadata": {
        "id": "WK3uFq83Nqp7",
        "colab_type": "text"
      },
      "source": [
        "## Train val size setting"
      ]
    },
    {
      "cell_type": "code",
      "metadata": {
        "id": "hd5rd7_ZcoSR",
        "colab_type": "code",
        "outputId": "265d3579-1203-43c5-ff45-b8183953d327",
        "colab": {
          "base_uri": "https://localhost:8080/",
          "height": 185
        }
      },
      "source": [
        "cwd = os.getcwd()\n",
        "img_path = cwd + img_folder\n",
        "\n",
        "train_val_size = 1200\n",
        "\n",
        "df = {}\n",
        "data = []\n",
        "for idx, x in enumerate(os.listdir(img_path)):\n",
        "  if x.isdigit() and idx < 3:\n",
        "    for idx2, pic in enumerate(os.listdir(img_path+'/'+str(x))):\n",
        "      if idx2 < train_val_size:\n",
        "        data.append((img_path+ '/' + x + '/' + pic , x))\n",
        "\n",
        "df = pd.DataFrame(data, columns=['filename', 'class'])\n",
        "df['class'] = df['class'].astype(int)\n",
        "#shuffle\n",
        "df = df.sample(frac=1).reset_index(drop=True)\n",
        "\n",
        "print(df.head())\n",
        "print(len(df))\n",
        "df.dtypes"
      ],
      "execution_count": 112,
      "outputs": [
        {
          "output_type": "stream",
          "text": [
            "                                            filename  class\n",
            "0  /content/drive/My Drive/filtered_images/2/Wjet...      2\n",
            "1  /content/drive/My Drive/filtered_images/0/DYje...      0\n",
            "2  /content/drive/My Drive/filtered_images/1/TTje...      1\n",
            "3  /content/drive/My Drive/filtered_images/0/DYje...      0\n",
            "4  /content/drive/My Drive/filtered_images/0/DYje...      0\n",
            "3600\n"
          ],
          "name": "stdout"
        },
        {
          "output_type": "execute_result",
          "data": {
            "text/plain": [
              "filename    object\n",
              "class        int64\n",
              "dtype: object"
            ]
          },
          "metadata": {
            "tags": []
          },
          "execution_count": 112
        }
      ]
    },
    {
      "cell_type": "code",
      "metadata": {
        "id": "IF67c9pOdMix",
        "colab_type": "code",
        "outputId": "67c9df88-be0d-4df0-c00d-50a12d11f945",
        "colab": {
          "base_uri": "https://localhost:8080/",
          "height": 34
        }
      },
      "source": [
        "from collections import Counter\n",
        "cnt = Counter(df['class'])\n",
        "cnt"
      ],
      "execution_count": 113,
      "outputs": [
        {
          "output_type": "execute_result",
          "data": {
            "text/plain": [
              "Counter({0: 1200, 1: 1200, 2: 1200})"
            ]
          },
          "metadata": {
            "tags": []
          },
          "execution_count": 113
        }
      ]
    },
    {
      "cell_type": "code",
      "metadata": {
        "id": "rV8WCnbQhKx4",
        "colab_type": "code",
        "outputId": "2456f37c-92c4-47fe-8ade-a865f5584464",
        "colab": {
          "base_uri": "https://localhost:8080/",
          "height": 67
        }
      },
      "source": [
        "# Split into train and validation sets\n",
        "train_percentage = .8\n",
        "val_percentage = 0.1\n",
        "test_percentage = 0.1\n",
        "\n",
        "train_length = int(len(df) * train_percentage)\n",
        "df_train = df[:train_length]\n",
        "\n",
        "val_length = int(len(df) * val_percentage)\n",
        "df_val = df[train_length : train_length+val_length]\n",
        "\n",
        "test_length = int(len(df) * test_percentage)\n",
        "df_test = df[ train_length + val_length : ]\n",
        "\n",
        "# shuffle \n",
        "df_train = df_train.sample(frac=1).reset_index(drop=True)\n",
        "df_val = df_val.sample(frac=1).reset_index(drop=True)\n",
        "df_test = df_test.sample(frac=1).reset_index(drop=True)\n",
        "\n",
        "df_list = [df_train, df_val, df_test]\n",
        "for df_part in df_list:\n",
        "  print(len(df_part))"
      ],
      "execution_count": 114,
      "outputs": [
        {
          "output_type": "stream",
          "text": [
            "2880\n",
            "360\n",
            "360\n"
          ],
          "name": "stdout"
        }
      ]
    },
    {
      "cell_type": "markdown",
      "metadata": {
        "id": "65hltRStDyg2",
        "colab_type": "text"
      },
      "source": [
        "#### image parsing"
      ]
    },
    {
      "cell_type": "code",
      "metadata": {
        "id": "93QOO1_2h5_A",
        "colab_type": "code",
        "colab": {}
      },
      "source": [
        "# Reads an image from a file, decodes it into a tensor, and resizes it\n",
        "# to a fixed shape.\n",
        "img_rows, img_cols = 200,200\n",
        "num_classes = len(set(df['class']))\n",
        "batch_size = 120\n",
        "\n",
        "def _parse_function(filename, label):\n",
        "  image_string = tf.io.read_file(filename)\n",
        "  image_decoded = tf.image.decode_jpeg(image_string)\n",
        "  image_resized = tf.image.resize(image_decoded, [img_rows, img_cols])\n",
        "  image_resized = tf.ensure_shape(image_resized ,shape=(img_rows, img_cols,3))\n",
        "  label = tf.one_hot(label, num_classes)\n",
        "  return image_resized, label"
      ],
      "execution_count": 0,
      "outputs": []
    },
    {
      "cell_type": "code",
      "metadata": {
        "id": "b9GwWMh5iZtg",
        "colab_type": "code",
        "colab": {}
      },
      "source": [
        "train_dataset = tf.data.Dataset.from_tensor_slices((tf.cast(df_train['filename'].values, tf.string),\n",
        "                                                    tf.cast(df_train['class'].values, tf.int32) ))\n",
        "train_dataset = train_dataset.map(_parse_function)\n",
        "train_dataset = train_dataset.shuffle(5000)\n",
        "train_dataset = train_dataset.repeat()\n",
        "train_dataset = train_dataset.batch(batch_size, drop_remainder=True)"
      ],
      "execution_count": 0,
      "outputs": []
    },
    {
      "cell_type": "code",
      "metadata": {
        "id": "0MfsNRyiicIR",
        "colab_type": "code",
        "colab": {}
      },
      "source": [
        "valid_dataset = tf.data.Dataset.from_tensor_slices((tf.cast(df_val['filename'].values, tf.string),\n",
        "                                                    tf.cast(df_val['class'].values, tf.int32) ))\n",
        "valid_dataset = valid_dataset.map(_parse_function)\n",
        "valid_dataset = valid_dataset.shuffle(5000)\n",
        "valid_dataset = valid_dataset.repeat()\n",
        "valid_dataset = valid_dataset.batch(batch_size, drop_remainder=True)"
      ],
      "execution_count": 0,
      "outputs": []
    },
    {
      "cell_type": "code",
      "metadata": {
        "id": "amK7DVJDPTSF",
        "colab_type": "code",
        "colab": {}
      },
      "source": [
        "test_dataset = tf.data.Dataset.from_tensor_slices((tf.cast(df_test['filename'].values, tf.string),\n",
        "                                                    tf.cast(df_test['class'].values, tf.int32) ))\n",
        "test_dataset = test_dataset.map(_parse_function)\n",
        "test_dataset = test_dataset.shuffle(5000)\n",
        "test_dataset = test_dataset.repeat()\n",
        "test_dataset = test_dataset.batch(batch_size, drop_remainder=True)"
      ],
      "execution_count": 0,
      "outputs": []
    },
    {
      "cell_type": "code",
      "metadata": {
        "id": "0PsYgoDSieIA",
        "colab_type": "code",
        "outputId": "a3c9947e-e3e7-46e9-cb6c-46bde8919d11",
        "colab": {
          "base_uri": "https://localhost:8080/",
          "height": 34
        }
      },
      "source": [
        "train_dataset"
      ],
      "execution_count": 119,
      "outputs": [
        {
          "output_type": "execute_result",
          "data": {
            "text/plain": [
              "<BatchDataset shapes: ((120, 200, 200, 3), (120, 3)), types: (tf.float32, tf.float32)>"
            ]
          },
          "metadata": {
            "tags": []
          },
          "execution_count": 119
        }
      ]
    },
    {
      "cell_type": "markdown",
      "metadata": {
        "id": "YofamALVCrtt",
        "colab_type": "text"
      },
      "source": [
        "# ResNet50"
      ]
    },
    {
      "cell_type": "markdown",
      "metadata": {
        "id": "nzO1JHNJ1D6I",
        "colab_type": "text"
      },
      "source": [
        "## Entirely frozen"
      ]
    },
    {
      "cell_type": "code",
      "metadata": {
        "id": "DTe9kVl2CuIT",
        "colab_type": "code",
        "colab": {}
      },
      "source": [
        "resnet_50 = tf.keras.applications.ResNet50(\n",
        "    include_top=False,\n",
        "    weights='imagenet',\n",
        "    input_shape=(200,200,3),\n",
        "    pooling=None\n",
        ")"
      ],
      "execution_count": 0,
      "outputs": []
    },
    {
      "cell_type": "code",
      "metadata": {
        "id": "vUTuVUnlC2-U",
        "colab_type": "code",
        "colab": {}
      },
      "source": [
        "x = resnet_50.output\n",
        "\n",
        "x = GlobalAveragePooling2D()(x)\n",
        "\n",
        "# let's add a fully-connected layer\n",
        "x = Dense(512, activation='relu')(x)\n",
        "\n",
        "x = Dropout(0.5)(x)\n",
        "\n",
        "#x = GlobalAveragePooling2D()(x)\n",
        "\n",
        "# let's add a fully-connected layer\n",
        "x = Dense(512, activation='relu')(x)\n",
        "\n",
        "x = Dropout(0.5)(x)\n",
        "\n",
        "# let's add a fully-connected layer\n",
        "x = Dense(512, activation='relu')(x)\n",
        "\n",
        "x = Dropout(0.5)(x)\n",
        "\n",
        "# and a logits layer -- let's say we have 3 classes\n",
        "predictions = Dense(3, activation='softmax')(x)\n"
      ],
      "execution_count": 0,
      "outputs": []
    },
    {
      "cell_type": "code",
      "metadata": {
        "id": "Mm-iZAuZC7sV",
        "colab_type": "code",
        "colab": {}
      },
      "source": [
        "# this is the model we will train\n",
        "base_resnet50_model = Model(inputs=resnet_50.input, outputs=predictions)"
      ],
      "execution_count": 0,
      "outputs": []
    },
    {
      "cell_type": "code",
      "metadata": {
        "id": "viKNFgGXzXJT",
        "colab_type": "code",
        "outputId": "1ae08d61-0e7a-4b9e-d672-fc0ea997f758",
        "colab": {
          "base_uri": "https://localhost:8080/",
          "height": 1000
        }
      },
      "source": [
        "base_resnet50_model.summary()"
      ],
      "execution_count": 123,
      "outputs": [
        {
          "output_type": "stream",
          "text": [
            "Model: \"model_6\"\n",
            "__________________________________________________________________________________________________\n",
            "Layer (type)                    Output Shape         Param #     Connected to                     \n",
            "==================================================================================================\n",
            "input_7 (InputLayer)            [(None, 200, 200, 3) 0                                            \n",
            "__________________________________________________________________________________________________\n",
            "conv1_pad (ZeroPadding2D)       (None, 206, 206, 3)  0           input_7[0][0]                    \n",
            "__________________________________________________________________________________________________\n",
            "conv1_conv (Conv2D)             (None, 100, 100, 64) 9472        conv1_pad[0][0]                  \n",
            "__________________________________________________________________________________________________\n",
            "conv1_bn (BatchNormalization)   (None, 100, 100, 64) 256         conv1_conv[0][0]                 \n",
            "__________________________________________________________________________________________________\n",
            "conv1_relu (Activation)         (None, 100, 100, 64) 0           conv1_bn[0][0]                   \n",
            "__________________________________________________________________________________________________\n",
            "pool1_pad (ZeroPadding2D)       (None, 102, 102, 64) 0           conv1_relu[0][0]                 \n",
            "__________________________________________________________________________________________________\n",
            "pool1_pool (MaxPooling2D)       (None, 50, 50, 64)   0           pool1_pad[0][0]                  \n",
            "__________________________________________________________________________________________________\n",
            "conv2_block1_1_conv (Conv2D)    (None, 50, 50, 64)   4160        pool1_pool[0][0]                 \n",
            "__________________________________________________________________________________________________\n",
            "conv2_block1_1_bn (BatchNormali (None, 50, 50, 64)   256         conv2_block1_1_conv[0][0]        \n",
            "__________________________________________________________________________________________________\n",
            "conv2_block1_1_relu (Activation (None, 50, 50, 64)   0           conv2_block1_1_bn[0][0]          \n",
            "__________________________________________________________________________________________________\n",
            "conv2_block1_2_conv (Conv2D)    (None, 50, 50, 64)   36928       conv2_block1_1_relu[0][0]        \n",
            "__________________________________________________________________________________________________\n",
            "conv2_block1_2_bn (BatchNormali (None, 50, 50, 64)   256         conv2_block1_2_conv[0][0]        \n",
            "__________________________________________________________________________________________________\n",
            "conv2_block1_2_relu (Activation (None, 50, 50, 64)   0           conv2_block1_2_bn[0][0]          \n",
            "__________________________________________________________________________________________________\n",
            "conv2_block1_0_conv (Conv2D)    (None, 50, 50, 256)  16640       pool1_pool[0][0]                 \n",
            "__________________________________________________________________________________________________\n",
            "conv2_block1_3_conv (Conv2D)    (None, 50, 50, 256)  16640       conv2_block1_2_relu[0][0]        \n",
            "__________________________________________________________________________________________________\n",
            "conv2_block1_0_bn (BatchNormali (None, 50, 50, 256)  1024        conv2_block1_0_conv[0][0]        \n",
            "__________________________________________________________________________________________________\n",
            "conv2_block1_3_bn (BatchNormali (None, 50, 50, 256)  1024        conv2_block1_3_conv[0][0]        \n",
            "__________________________________________________________________________________________________\n",
            "conv2_block1_add (Add)          (None, 50, 50, 256)  0           conv2_block1_0_bn[0][0]          \n",
            "                                                                 conv2_block1_3_bn[0][0]          \n",
            "__________________________________________________________________________________________________\n",
            "conv2_block1_out (Activation)   (None, 50, 50, 256)  0           conv2_block1_add[0][0]           \n",
            "__________________________________________________________________________________________________\n",
            "conv2_block2_1_conv (Conv2D)    (None, 50, 50, 64)   16448       conv2_block1_out[0][0]           \n",
            "__________________________________________________________________________________________________\n",
            "conv2_block2_1_bn (BatchNormali (None, 50, 50, 64)   256         conv2_block2_1_conv[0][0]        \n",
            "__________________________________________________________________________________________________\n",
            "conv2_block2_1_relu (Activation (None, 50, 50, 64)   0           conv2_block2_1_bn[0][0]          \n",
            "__________________________________________________________________________________________________\n",
            "conv2_block2_2_conv (Conv2D)    (None, 50, 50, 64)   36928       conv2_block2_1_relu[0][0]        \n",
            "__________________________________________________________________________________________________\n",
            "conv2_block2_2_bn (BatchNormali (None, 50, 50, 64)   256         conv2_block2_2_conv[0][0]        \n",
            "__________________________________________________________________________________________________\n",
            "conv2_block2_2_relu (Activation (None, 50, 50, 64)   0           conv2_block2_2_bn[0][0]          \n",
            "__________________________________________________________________________________________________\n",
            "conv2_block2_3_conv (Conv2D)    (None, 50, 50, 256)  16640       conv2_block2_2_relu[0][0]        \n",
            "__________________________________________________________________________________________________\n",
            "conv2_block2_3_bn (BatchNormali (None, 50, 50, 256)  1024        conv2_block2_3_conv[0][0]        \n",
            "__________________________________________________________________________________________________\n",
            "conv2_block2_add (Add)          (None, 50, 50, 256)  0           conv2_block1_out[0][0]           \n",
            "                                                                 conv2_block2_3_bn[0][0]          \n",
            "__________________________________________________________________________________________________\n",
            "conv2_block2_out (Activation)   (None, 50, 50, 256)  0           conv2_block2_add[0][0]           \n",
            "__________________________________________________________________________________________________\n",
            "conv2_block3_1_conv (Conv2D)    (None, 50, 50, 64)   16448       conv2_block2_out[0][0]           \n",
            "__________________________________________________________________________________________________\n",
            "conv2_block3_1_bn (BatchNormali (None, 50, 50, 64)   256         conv2_block3_1_conv[0][0]        \n",
            "__________________________________________________________________________________________________\n",
            "conv2_block3_1_relu (Activation (None, 50, 50, 64)   0           conv2_block3_1_bn[0][0]          \n",
            "__________________________________________________________________________________________________\n",
            "conv2_block3_2_conv (Conv2D)    (None, 50, 50, 64)   36928       conv2_block3_1_relu[0][0]        \n",
            "__________________________________________________________________________________________________\n",
            "conv2_block3_2_bn (BatchNormali (None, 50, 50, 64)   256         conv2_block3_2_conv[0][0]        \n",
            "__________________________________________________________________________________________________\n",
            "conv2_block3_2_relu (Activation (None, 50, 50, 64)   0           conv2_block3_2_bn[0][0]          \n",
            "__________________________________________________________________________________________________\n",
            "conv2_block3_3_conv (Conv2D)    (None, 50, 50, 256)  16640       conv2_block3_2_relu[0][0]        \n",
            "__________________________________________________________________________________________________\n",
            "conv2_block3_3_bn (BatchNormali (None, 50, 50, 256)  1024        conv2_block3_3_conv[0][0]        \n",
            "__________________________________________________________________________________________________\n",
            "conv2_block3_add (Add)          (None, 50, 50, 256)  0           conv2_block2_out[0][0]           \n",
            "                                                                 conv2_block3_3_bn[0][0]          \n",
            "__________________________________________________________________________________________________\n",
            "conv2_block3_out (Activation)   (None, 50, 50, 256)  0           conv2_block3_add[0][0]           \n",
            "__________________________________________________________________________________________________\n",
            "conv3_block1_1_conv (Conv2D)    (None, 25, 25, 128)  32896       conv2_block3_out[0][0]           \n",
            "__________________________________________________________________________________________________\n",
            "conv3_block1_1_bn (BatchNormali (None, 25, 25, 128)  512         conv3_block1_1_conv[0][0]        \n",
            "__________________________________________________________________________________________________\n",
            "conv3_block1_1_relu (Activation (None, 25, 25, 128)  0           conv3_block1_1_bn[0][0]          \n",
            "__________________________________________________________________________________________________\n",
            "conv3_block1_2_conv (Conv2D)    (None, 25, 25, 128)  147584      conv3_block1_1_relu[0][0]        \n",
            "__________________________________________________________________________________________________\n",
            "conv3_block1_2_bn (BatchNormali (None, 25, 25, 128)  512         conv3_block1_2_conv[0][0]        \n",
            "__________________________________________________________________________________________________\n",
            "conv3_block1_2_relu (Activation (None, 25, 25, 128)  0           conv3_block1_2_bn[0][0]          \n",
            "__________________________________________________________________________________________________\n",
            "conv3_block1_0_conv (Conv2D)    (None, 25, 25, 512)  131584      conv2_block3_out[0][0]           \n",
            "__________________________________________________________________________________________________\n",
            "conv3_block1_3_conv (Conv2D)    (None, 25, 25, 512)  66048       conv3_block1_2_relu[0][0]        \n",
            "__________________________________________________________________________________________________\n",
            "conv3_block1_0_bn (BatchNormali (None, 25, 25, 512)  2048        conv3_block1_0_conv[0][0]        \n",
            "__________________________________________________________________________________________________\n",
            "conv3_block1_3_bn (BatchNormali (None, 25, 25, 512)  2048        conv3_block1_3_conv[0][0]        \n",
            "__________________________________________________________________________________________________\n",
            "conv3_block1_add (Add)          (None, 25, 25, 512)  0           conv3_block1_0_bn[0][0]          \n",
            "                                                                 conv3_block1_3_bn[0][0]          \n",
            "__________________________________________________________________________________________________\n",
            "conv3_block1_out (Activation)   (None, 25, 25, 512)  0           conv3_block1_add[0][0]           \n",
            "__________________________________________________________________________________________________\n",
            "conv3_block2_1_conv (Conv2D)    (None, 25, 25, 128)  65664       conv3_block1_out[0][0]           \n",
            "__________________________________________________________________________________________________\n",
            "conv3_block2_1_bn (BatchNormali (None, 25, 25, 128)  512         conv3_block2_1_conv[0][0]        \n",
            "__________________________________________________________________________________________________\n",
            "conv3_block2_1_relu (Activation (None, 25, 25, 128)  0           conv3_block2_1_bn[0][0]          \n",
            "__________________________________________________________________________________________________\n",
            "conv3_block2_2_conv (Conv2D)    (None, 25, 25, 128)  147584      conv3_block2_1_relu[0][0]        \n",
            "__________________________________________________________________________________________________\n",
            "conv3_block2_2_bn (BatchNormali (None, 25, 25, 128)  512         conv3_block2_2_conv[0][0]        \n",
            "__________________________________________________________________________________________________\n",
            "conv3_block2_2_relu (Activation (None, 25, 25, 128)  0           conv3_block2_2_bn[0][0]          \n",
            "__________________________________________________________________________________________________\n",
            "conv3_block2_3_conv (Conv2D)    (None, 25, 25, 512)  66048       conv3_block2_2_relu[0][0]        \n",
            "__________________________________________________________________________________________________\n",
            "conv3_block2_3_bn (BatchNormali (None, 25, 25, 512)  2048        conv3_block2_3_conv[0][0]        \n",
            "__________________________________________________________________________________________________\n",
            "conv3_block2_add (Add)          (None, 25, 25, 512)  0           conv3_block1_out[0][0]           \n",
            "                                                                 conv3_block2_3_bn[0][0]          \n",
            "__________________________________________________________________________________________________\n",
            "conv3_block2_out (Activation)   (None, 25, 25, 512)  0           conv3_block2_add[0][0]           \n",
            "__________________________________________________________________________________________________\n",
            "conv3_block3_1_conv (Conv2D)    (None, 25, 25, 128)  65664       conv3_block2_out[0][0]           \n",
            "__________________________________________________________________________________________________\n",
            "conv3_block3_1_bn (BatchNormali (None, 25, 25, 128)  512         conv3_block3_1_conv[0][0]        \n",
            "__________________________________________________________________________________________________\n",
            "conv3_block3_1_relu (Activation (None, 25, 25, 128)  0           conv3_block3_1_bn[0][0]          \n",
            "__________________________________________________________________________________________________\n",
            "conv3_block3_2_conv (Conv2D)    (None, 25, 25, 128)  147584      conv3_block3_1_relu[0][0]        \n",
            "__________________________________________________________________________________________________\n",
            "conv3_block3_2_bn (BatchNormali (None, 25, 25, 128)  512         conv3_block3_2_conv[0][0]        \n",
            "__________________________________________________________________________________________________\n",
            "conv3_block3_2_relu (Activation (None, 25, 25, 128)  0           conv3_block3_2_bn[0][0]          \n",
            "__________________________________________________________________________________________________\n",
            "conv3_block3_3_conv (Conv2D)    (None, 25, 25, 512)  66048       conv3_block3_2_relu[0][0]        \n",
            "__________________________________________________________________________________________________\n",
            "conv3_block3_3_bn (BatchNormali (None, 25, 25, 512)  2048        conv3_block3_3_conv[0][0]        \n",
            "__________________________________________________________________________________________________\n",
            "conv3_block3_add (Add)          (None, 25, 25, 512)  0           conv3_block2_out[0][0]           \n",
            "                                                                 conv3_block3_3_bn[0][0]          \n",
            "__________________________________________________________________________________________________\n",
            "conv3_block3_out (Activation)   (None, 25, 25, 512)  0           conv3_block3_add[0][0]           \n",
            "__________________________________________________________________________________________________\n",
            "conv3_block4_1_conv (Conv2D)    (None, 25, 25, 128)  65664       conv3_block3_out[0][0]           \n",
            "__________________________________________________________________________________________________\n",
            "conv3_block4_1_bn (BatchNormali (None, 25, 25, 128)  512         conv3_block4_1_conv[0][0]        \n",
            "__________________________________________________________________________________________________\n",
            "conv3_block4_1_relu (Activation (None, 25, 25, 128)  0           conv3_block4_1_bn[0][0]          \n",
            "__________________________________________________________________________________________________\n",
            "conv3_block4_2_conv (Conv2D)    (None, 25, 25, 128)  147584      conv3_block4_1_relu[0][0]        \n",
            "__________________________________________________________________________________________________\n",
            "conv3_block4_2_bn (BatchNormali (None, 25, 25, 128)  512         conv3_block4_2_conv[0][0]        \n",
            "__________________________________________________________________________________________________\n",
            "conv3_block4_2_relu (Activation (None, 25, 25, 128)  0           conv3_block4_2_bn[0][0]          \n",
            "__________________________________________________________________________________________________\n",
            "conv3_block4_3_conv (Conv2D)    (None, 25, 25, 512)  66048       conv3_block4_2_relu[0][0]        \n",
            "__________________________________________________________________________________________________\n",
            "conv3_block4_3_bn (BatchNormali (None, 25, 25, 512)  2048        conv3_block4_3_conv[0][0]        \n",
            "__________________________________________________________________________________________________\n",
            "conv3_block4_add (Add)          (None, 25, 25, 512)  0           conv3_block3_out[0][0]           \n",
            "                                                                 conv3_block4_3_bn[0][0]          \n",
            "__________________________________________________________________________________________________\n",
            "conv3_block4_out (Activation)   (None, 25, 25, 512)  0           conv3_block4_add[0][0]           \n",
            "__________________________________________________________________________________________________\n",
            "conv4_block1_1_conv (Conv2D)    (None, 13, 13, 256)  131328      conv3_block4_out[0][0]           \n",
            "__________________________________________________________________________________________________\n",
            "conv4_block1_1_bn (BatchNormali (None, 13, 13, 256)  1024        conv4_block1_1_conv[0][0]        \n",
            "__________________________________________________________________________________________________\n",
            "conv4_block1_1_relu (Activation (None, 13, 13, 256)  0           conv4_block1_1_bn[0][0]          \n",
            "__________________________________________________________________________________________________\n",
            "conv4_block1_2_conv (Conv2D)    (None, 13, 13, 256)  590080      conv4_block1_1_relu[0][0]        \n",
            "__________________________________________________________________________________________________\n",
            "conv4_block1_2_bn (BatchNormali (None, 13, 13, 256)  1024        conv4_block1_2_conv[0][0]        \n",
            "__________________________________________________________________________________________________\n",
            "conv4_block1_2_relu (Activation (None, 13, 13, 256)  0           conv4_block1_2_bn[0][0]          \n",
            "__________________________________________________________________________________________________\n",
            "conv4_block1_0_conv (Conv2D)    (None, 13, 13, 1024) 525312      conv3_block4_out[0][0]           \n",
            "__________________________________________________________________________________________________\n",
            "conv4_block1_3_conv (Conv2D)    (None, 13, 13, 1024) 263168      conv4_block1_2_relu[0][0]        \n",
            "__________________________________________________________________________________________________\n",
            "conv4_block1_0_bn (BatchNormali (None, 13, 13, 1024) 4096        conv4_block1_0_conv[0][0]        \n",
            "__________________________________________________________________________________________________\n",
            "conv4_block1_3_bn (BatchNormali (None, 13, 13, 1024) 4096        conv4_block1_3_conv[0][0]        \n",
            "__________________________________________________________________________________________________\n",
            "conv4_block1_add (Add)          (None, 13, 13, 1024) 0           conv4_block1_0_bn[0][0]          \n",
            "                                                                 conv4_block1_3_bn[0][0]          \n",
            "__________________________________________________________________________________________________\n",
            "conv4_block1_out (Activation)   (None, 13, 13, 1024) 0           conv4_block1_add[0][0]           \n",
            "__________________________________________________________________________________________________\n",
            "conv4_block2_1_conv (Conv2D)    (None, 13, 13, 256)  262400      conv4_block1_out[0][0]           \n",
            "__________________________________________________________________________________________________\n",
            "conv4_block2_1_bn (BatchNormali (None, 13, 13, 256)  1024        conv4_block2_1_conv[0][0]        \n",
            "__________________________________________________________________________________________________\n",
            "conv4_block2_1_relu (Activation (None, 13, 13, 256)  0           conv4_block2_1_bn[0][0]          \n",
            "__________________________________________________________________________________________________\n",
            "conv4_block2_2_conv (Conv2D)    (None, 13, 13, 256)  590080      conv4_block2_1_relu[0][0]        \n",
            "__________________________________________________________________________________________________\n",
            "conv4_block2_2_bn (BatchNormali (None, 13, 13, 256)  1024        conv4_block2_2_conv[0][0]        \n",
            "__________________________________________________________________________________________________\n",
            "conv4_block2_2_relu (Activation (None, 13, 13, 256)  0           conv4_block2_2_bn[0][0]          \n",
            "__________________________________________________________________________________________________\n",
            "conv4_block2_3_conv (Conv2D)    (None, 13, 13, 1024) 263168      conv4_block2_2_relu[0][0]        \n",
            "__________________________________________________________________________________________________\n",
            "conv4_block2_3_bn (BatchNormali (None, 13, 13, 1024) 4096        conv4_block2_3_conv[0][0]        \n",
            "__________________________________________________________________________________________________\n",
            "conv4_block2_add (Add)          (None, 13, 13, 1024) 0           conv4_block1_out[0][0]           \n",
            "                                                                 conv4_block2_3_bn[0][0]          \n",
            "__________________________________________________________________________________________________\n",
            "conv4_block2_out (Activation)   (None, 13, 13, 1024) 0           conv4_block2_add[0][0]           \n",
            "__________________________________________________________________________________________________\n",
            "conv4_block3_1_conv (Conv2D)    (None, 13, 13, 256)  262400      conv4_block2_out[0][0]           \n",
            "__________________________________________________________________________________________________\n",
            "conv4_block3_1_bn (BatchNormali (None, 13, 13, 256)  1024        conv4_block3_1_conv[0][0]        \n",
            "__________________________________________________________________________________________________\n",
            "conv4_block3_1_relu (Activation (None, 13, 13, 256)  0           conv4_block3_1_bn[0][0]          \n",
            "__________________________________________________________________________________________________\n",
            "conv4_block3_2_conv (Conv2D)    (None, 13, 13, 256)  590080      conv4_block3_1_relu[0][0]        \n",
            "__________________________________________________________________________________________________\n",
            "conv4_block3_2_bn (BatchNormali (None, 13, 13, 256)  1024        conv4_block3_2_conv[0][0]        \n",
            "__________________________________________________________________________________________________\n",
            "conv4_block3_2_relu (Activation (None, 13, 13, 256)  0           conv4_block3_2_bn[0][0]          \n",
            "__________________________________________________________________________________________________\n",
            "conv4_block3_3_conv (Conv2D)    (None, 13, 13, 1024) 263168      conv4_block3_2_relu[0][0]        \n",
            "__________________________________________________________________________________________________\n",
            "conv4_block3_3_bn (BatchNormali (None, 13, 13, 1024) 4096        conv4_block3_3_conv[0][0]        \n",
            "__________________________________________________________________________________________________\n",
            "conv4_block3_add (Add)          (None, 13, 13, 1024) 0           conv4_block2_out[0][0]           \n",
            "                                                                 conv4_block3_3_bn[0][0]          \n",
            "__________________________________________________________________________________________________\n",
            "conv4_block3_out (Activation)   (None, 13, 13, 1024) 0           conv4_block3_add[0][0]           \n",
            "__________________________________________________________________________________________________\n",
            "conv4_block4_1_conv (Conv2D)    (None, 13, 13, 256)  262400      conv4_block3_out[0][0]           \n",
            "__________________________________________________________________________________________________\n",
            "conv4_block4_1_bn (BatchNormali (None, 13, 13, 256)  1024        conv4_block4_1_conv[0][0]        \n",
            "__________________________________________________________________________________________________\n",
            "conv4_block4_1_relu (Activation (None, 13, 13, 256)  0           conv4_block4_1_bn[0][0]          \n",
            "__________________________________________________________________________________________________\n",
            "conv4_block4_2_conv (Conv2D)    (None, 13, 13, 256)  590080      conv4_block4_1_relu[0][0]        \n",
            "__________________________________________________________________________________________________\n",
            "conv4_block4_2_bn (BatchNormali (None, 13, 13, 256)  1024        conv4_block4_2_conv[0][0]        \n",
            "__________________________________________________________________________________________________\n",
            "conv4_block4_2_relu (Activation (None, 13, 13, 256)  0           conv4_block4_2_bn[0][0]          \n",
            "__________________________________________________________________________________________________\n",
            "conv4_block4_3_conv (Conv2D)    (None, 13, 13, 1024) 263168      conv4_block4_2_relu[0][0]        \n",
            "__________________________________________________________________________________________________\n",
            "conv4_block4_3_bn (BatchNormali (None, 13, 13, 1024) 4096        conv4_block4_3_conv[0][0]        \n",
            "__________________________________________________________________________________________________\n",
            "conv4_block4_add (Add)          (None, 13, 13, 1024) 0           conv4_block3_out[0][0]           \n",
            "                                                                 conv4_block4_3_bn[0][0]          \n",
            "__________________________________________________________________________________________________\n",
            "conv4_block4_out (Activation)   (None, 13, 13, 1024) 0           conv4_block4_add[0][0]           \n",
            "__________________________________________________________________________________________________\n",
            "conv4_block5_1_conv (Conv2D)    (None, 13, 13, 256)  262400      conv4_block4_out[0][0]           \n",
            "__________________________________________________________________________________________________\n",
            "conv4_block5_1_bn (BatchNormali (None, 13, 13, 256)  1024        conv4_block5_1_conv[0][0]        \n",
            "__________________________________________________________________________________________________\n",
            "conv4_block5_1_relu (Activation (None, 13, 13, 256)  0           conv4_block5_1_bn[0][0]          \n",
            "__________________________________________________________________________________________________\n",
            "conv4_block5_2_conv (Conv2D)    (None, 13, 13, 256)  590080      conv4_block5_1_relu[0][0]        \n",
            "__________________________________________________________________________________________________\n",
            "conv4_block5_2_bn (BatchNormali (None, 13, 13, 256)  1024        conv4_block5_2_conv[0][0]        \n",
            "__________________________________________________________________________________________________\n",
            "conv4_block5_2_relu (Activation (None, 13, 13, 256)  0           conv4_block5_2_bn[0][0]          \n",
            "__________________________________________________________________________________________________\n",
            "conv4_block5_3_conv (Conv2D)    (None, 13, 13, 1024) 263168      conv4_block5_2_relu[0][0]        \n",
            "__________________________________________________________________________________________________\n",
            "conv4_block5_3_bn (BatchNormali (None, 13, 13, 1024) 4096        conv4_block5_3_conv[0][0]        \n",
            "__________________________________________________________________________________________________\n",
            "conv4_block5_add (Add)          (None, 13, 13, 1024) 0           conv4_block4_out[0][0]           \n",
            "                                                                 conv4_block5_3_bn[0][0]          \n",
            "__________________________________________________________________________________________________\n",
            "conv4_block5_out (Activation)   (None, 13, 13, 1024) 0           conv4_block5_add[0][0]           \n",
            "__________________________________________________________________________________________________\n",
            "conv4_block6_1_conv (Conv2D)    (None, 13, 13, 256)  262400      conv4_block5_out[0][0]           \n",
            "__________________________________________________________________________________________________\n",
            "conv4_block6_1_bn (BatchNormali (None, 13, 13, 256)  1024        conv4_block6_1_conv[0][0]        \n",
            "__________________________________________________________________________________________________\n",
            "conv4_block6_1_relu (Activation (None, 13, 13, 256)  0           conv4_block6_1_bn[0][0]          \n",
            "__________________________________________________________________________________________________\n",
            "conv4_block6_2_conv (Conv2D)    (None, 13, 13, 256)  590080      conv4_block6_1_relu[0][0]        \n",
            "__________________________________________________________________________________________________\n",
            "conv4_block6_2_bn (BatchNormali (None, 13, 13, 256)  1024        conv4_block6_2_conv[0][0]        \n",
            "__________________________________________________________________________________________________\n",
            "conv4_block6_2_relu (Activation (None, 13, 13, 256)  0           conv4_block6_2_bn[0][0]          \n",
            "__________________________________________________________________________________________________\n",
            "conv4_block6_3_conv (Conv2D)    (None, 13, 13, 1024) 263168      conv4_block6_2_relu[0][0]        \n",
            "__________________________________________________________________________________________________\n",
            "conv4_block6_3_bn (BatchNormali (None, 13, 13, 1024) 4096        conv4_block6_3_conv[0][0]        \n",
            "__________________________________________________________________________________________________\n",
            "conv4_block6_add (Add)          (None, 13, 13, 1024) 0           conv4_block5_out[0][0]           \n",
            "                                                                 conv4_block6_3_bn[0][0]          \n",
            "__________________________________________________________________________________________________\n",
            "conv4_block6_out (Activation)   (None, 13, 13, 1024) 0           conv4_block6_add[0][0]           \n",
            "__________________________________________________________________________________________________\n",
            "conv5_block1_1_conv (Conv2D)    (None, 7, 7, 512)    524800      conv4_block6_out[0][0]           \n",
            "__________________________________________________________________________________________________\n",
            "conv5_block1_1_bn (BatchNormali (None, 7, 7, 512)    2048        conv5_block1_1_conv[0][0]        \n",
            "__________________________________________________________________________________________________\n",
            "conv5_block1_1_relu (Activation (None, 7, 7, 512)    0           conv5_block1_1_bn[0][0]          \n",
            "__________________________________________________________________________________________________\n",
            "conv5_block1_2_conv (Conv2D)    (None, 7, 7, 512)    2359808     conv5_block1_1_relu[0][0]        \n",
            "__________________________________________________________________________________________________\n",
            "conv5_block1_2_bn (BatchNormali (None, 7, 7, 512)    2048        conv5_block1_2_conv[0][0]        \n",
            "__________________________________________________________________________________________________\n",
            "conv5_block1_2_relu (Activation (None, 7, 7, 512)    0           conv5_block1_2_bn[0][0]          \n",
            "__________________________________________________________________________________________________\n",
            "conv5_block1_0_conv (Conv2D)    (None, 7, 7, 2048)   2099200     conv4_block6_out[0][0]           \n",
            "__________________________________________________________________________________________________\n",
            "conv5_block1_3_conv (Conv2D)    (None, 7, 7, 2048)   1050624     conv5_block1_2_relu[0][0]        \n",
            "__________________________________________________________________________________________________\n",
            "conv5_block1_0_bn (BatchNormali (None, 7, 7, 2048)   8192        conv5_block1_0_conv[0][0]        \n",
            "__________________________________________________________________________________________________\n",
            "conv5_block1_3_bn (BatchNormali (None, 7, 7, 2048)   8192        conv5_block1_3_conv[0][0]        \n",
            "__________________________________________________________________________________________________\n",
            "conv5_block1_add (Add)          (None, 7, 7, 2048)   0           conv5_block1_0_bn[0][0]          \n",
            "                                                                 conv5_block1_3_bn[0][0]          \n",
            "__________________________________________________________________________________________________\n",
            "conv5_block1_out (Activation)   (None, 7, 7, 2048)   0           conv5_block1_add[0][0]           \n",
            "__________________________________________________________________________________________________\n",
            "conv5_block2_1_conv (Conv2D)    (None, 7, 7, 512)    1049088     conv5_block1_out[0][0]           \n",
            "__________________________________________________________________________________________________\n",
            "conv5_block2_1_bn (BatchNormali (None, 7, 7, 512)    2048        conv5_block2_1_conv[0][0]        \n",
            "__________________________________________________________________________________________________\n",
            "conv5_block2_1_relu (Activation (None, 7, 7, 512)    0           conv5_block2_1_bn[0][0]          \n",
            "__________________________________________________________________________________________________\n",
            "conv5_block2_2_conv (Conv2D)    (None, 7, 7, 512)    2359808     conv5_block2_1_relu[0][0]        \n",
            "__________________________________________________________________________________________________\n",
            "conv5_block2_2_bn (BatchNormali (None, 7, 7, 512)    2048        conv5_block2_2_conv[0][0]        \n",
            "__________________________________________________________________________________________________\n",
            "conv5_block2_2_relu (Activation (None, 7, 7, 512)    0           conv5_block2_2_bn[0][0]          \n",
            "__________________________________________________________________________________________________\n",
            "conv5_block2_3_conv (Conv2D)    (None, 7, 7, 2048)   1050624     conv5_block2_2_relu[0][0]        \n",
            "__________________________________________________________________________________________________\n",
            "conv5_block2_3_bn (BatchNormali (None, 7, 7, 2048)   8192        conv5_block2_3_conv[0][0]        \n",
            "__________________________________________________________________________________________________\n",
            "conv5_block2_add (Add)          (None, 7, 7, 2048)   0           conv5_block1_out[0][0]           \n",
            "                                                                 conv5_block2_3_bn[0][0]          \n",
            "__________________________________________________________________________________________________\n",
            "conv5_block2_out (Activation)   (None, 7, 7, 2048)   0           conv5_block2_add[0][0]           \n",
            "__________________________________________________________________________________________________\n",
            "conv5_block3_1_conv (Conv2D)    (None, 7, 7, 512)    1049088     conv5_block2_out[0][0]           \n",
            "__________________________________________________________________________________________________\n",
            "conv5_block3_1_bn (BatchNormali (None, 7, 7, 512)    2048        conv5_block3_1_conv[0][0]        \n",
            "__________________________________________________________________________________________________\n",
            "conv5_block3_1_relu (Activation (None, 7, 7, 512)    0           conv5_block3_1_bn[0][0]          \n",
            "__________________________________________________________________________________________________\n",
            "conv5_block3_2_conv (Conv2D)    (None, 7, 7, 512)    2359808     conv5_block3_1_relu[0][0]        \n",
            "__________________________________________________________________________________________________\n",
            "conv5_block3_2_bn (BatchNormali (None, 7, 7, 512)    2048        conv5_block3_2_conv[0][0]        \n",
            "__________________________________________________________________________________________________\n",
            "conv5_block3_2_relu (Activation (None, 7, 7, 512)    0           conv5_block3_2_bn[0][0]          \n",
            "__________________________________________________________________________________________________\n",
            "conv5_block3_3_conv (Conv2D)    (None, 7, 7, 2048)   1050624     conv5_block3_2_relu[0][0]        \n",
            "__________________________________________________________________________________________________\n",
            "conv5_block3_3_bn (BatchNormali (None, 7, 7, 2048)   8192        conv5_block3_3_conv[0][0]        \n",
            "__________________________________________________________________________________________________\n",
            "conv5_block3_add (Add)          (None, 7, 7, 2048)   0           conv5_block2_out[0][0]           \n",
            "                                                                 conv5_block3_3_bn[0][0]          \n",
            "__________________________________________________________________________________________________\n",
            "conv5_block3_out (Activation)   (None, 7, 7, 2048)   0           conv5_block3_add[0][0]           \n",
            "__________________________________________________________________________________________________\n",
            "global_average_pooling2d_6 (Glo (None, 2048)         0           conv5_block3_out[0][0]           \n",
            "__________________________________________________________________________________________________\n",
            "dense_24 (Dense)                (None, 512)          1049088     global_average_pooling2d_6[0][0] \n",
            "__________________________________________________________________________________________________\n",
            "dropout_18 (Dropout)            (None, 512)          0           dense_24[0][0]                   \n",
            "__________________________________________________________________________________________________\n",
            "dense_25 (Dense)                (None, 512)          262656      dropout_18[0][0]                 \n",
            "__________________________________________________________________________________________________\n",
            "dropout_19 (Dropout)            (None, 512)          0           dense_25[0][0]                   \n",
            "__________________________________________________________________________________________________\n",
            "dense_26 (Dense)                (None, 512)          262656      dropout_19[0][0]                 \n",
            "__________________________________________________________________________________________________\n",
            "dropout_20 (Dropout)            (None, 512)          0           dense_26[0][0]                   \n",
            "__________________________________________________________________________________________________\n",
            "dense_27 (Dense)                (None, 3)            1539        dropout_20[0][0]                 \n",
            "==================================================================================================\n",
            "Total params: 25,163,651\n",
            "Trainable params: 25,110,531\n",
            "Non-trainable params: 53,120\n",
            "__________________________________________________________________________________________________\n"
          ],
          "name": "stdout"
        }
      ]
    },
    {
      "cell_type": "code",
      "metadata": {
        "id": "f99YWWgxC99k",
        "colab_type": "code",
        "outputId": "85141d35-60a9-4e0c-b64a-2e0a9a4cf5e5",
        "colab": {
          "base_uri": "https://localhost:8080/",
          "height": 1000
        }
      },
      "source": [
        "for layer in resnet_50.layers:\n",
        "    print(layer.name)\n",
        "    layer.trainable = False"
      ],
      "execution_count": 124,
      "outputs": [
        {
          "output_type": "stream",
          "text": [
            "input_7\n",
            "conv1_pad\n",
            "conv1_conv\n",
            "conv1_bn\n",
            "conv1_relu\n",
            "pool1_pad\n",
            "pool1_pool\n",
            "conv2_block1_1_conv\n",
            "conv2_block1_1_bn\n",
            "conv2_block1_1_relu\n",
            "conv2_block1_2_conv\n",
            "conv2_block1_2_bn\n",
            "conv2_block1_2_relu\n",
            "conv2_block1_0_conv\n",
            "conv2_block1_3_conv\n",
            "conv2_block1_0_bn\n",
            "conv2_block1_3_bn\n",
            "conv2_block1_add\n",
            "conv2_block1_out\n",
            "conv2_block2_1_conv\n",
            "conv2_block2_1_bn\n",
            "conv2_block2_1_relu\n",
            "conv2_block2_2_conv\n",
            "conv2_block2_2_bn\n",
            "conv2_block2_2_relu\n",
            "conv2_block2_3_conv\n",
            "conv2_block2_3_bn\n",
            "conv2_block2_add\n",
            "conv2_block2_out\n",
            "conv2_block3_1_conv\n",
            "conv2_block3_1_bn\n",
            "conv2_block3_1_relu\n",
            "conv2_block3_2_conv\n",
            "conv2_block3_2_bn\n",
            "conv2_block3_2_relu\n",
            "conv2_block3_3_conv\n",
            "conv2_block3_3_bn\n",
            "conv2_block3_add\n",
            "conv2_block3_out\n",
            "conv3_block1_1_conv\n",
            "conv3_block1_1_bn\n",
            "conv3_block1_1_relu\n",
            "conv3_block1_2_conv\n",
            "conv3_block1_2_bn\n",
            "conv3_block1_2_relu\n",
            "conv3_block1_0_conv\n",
            "conv3_block1_3_conv\n",
            "conv3_block1_0_bn\n",
            "conv3_block1_3_bn\n",
            "conv3_block1_add\n",
            "conv3_block1_out\n",
            "conv3_block2_1_conv\n",
            "conv3_block2_1_bn\n",
            "conv3_block2_1_relu\n",
            "conv3_block2_2_conv\n",
            "conv3_block2_2_bn\n",
            "conv3_block2_2_relu\n",
            "conv3_block2_3_conv\n",
            "conv3_block2_3_bn\n",
            "conv3_block2_add\n",
            "conv3_block2_out\n",
            "conv3_block3_1_conv\n",
            "conv3_block3_1_bn\n",
            "conv3_block3_1_relu\n",
            "conv3_block3_2_conv\n",
            "conv3_block3_2_bn\n",
            "conv3_block3_2_relu\n",
            "conv3_block3_3_conv\n",
            "conv3_block3_3_bn\n",
            "conv3_block3_add\n",
            "conv3_block3_out\n",
            "conv3_block4_1_conv\n",
            "conv3_block4_1_bn\n",
            "conv3_block4_1_relu\n",
            "conv3_block4_2_conv\n",
            "conv3_block4_2_bn\n",
            "conv3_block4_2_relu\n",
            "conv3_block4_3_conv\n",
            "conv3_block4_3_bn\n",
            "conv3_block4_add\n",
            "conv3_block4_out\n",
            "conv4_block1_1_conv\n",
            "conv4_block1_1_bn\n",
            "conv4_block1_1_relu\n",
            "conv4_block1_2_conv\n",
            "conv4_block1_2_bn\n",
            "conv4_block1_2_relu\n",
            "conv4_block1_0_conv\n",
            "conv4_block1_3_conv\n",
            "conv4_block1_0_bn\n",
            "conv4_block1_3_bn\n",
            "conv4_block1_add\n",
            "conv4_block1_out\n",
            "conv4_block2_1_conv\n",
            "conv4_block2_1_bn\n",
            "conv4_block2_1_relu\n",
            "conv4_block2_2_conv\n",
            "conv4_block2_2_bn\n",
            "conv4_block2_2_relu\n",
            "conv4_block2_3_conv\n",
            "conv4_block2_3_bn\n",
            "conv4_block2_add\n",
            "conv4_block2_out\n",
            "conv4_block3_1_conv\n",
            "conv4_block3_1_bn\n",
            "conv4_block3_1_relu\n",
            "conv4_block3_2_conv\n",
            "conv4_block3_2_bn\n",
            "conv4_block3_2_relu\n",
            "conv4_block3_3_conv\n",
            "conv4_block3_3_bn\n",
            "conv4_block3_add\n",
            "conv4_block3_out\n",
            "conv4_block4_1_conv\n",
            "conv4_block4_1_bn\n",
            "conv4_block4_1_relu\n",
            "conv4_block4_2_conv\n",
            "conv4_block4_2_bn\n",
            "conv4_block4_2_relu\n",
            "conv4_block4_3_conv\n",
            "conv4_block4_3_bn\n",
            "conv4_block4_add\n",
            "conv4_block4_out\n",
            "conv4_block5_1_conv\n",
            "conv4_block5_1_bn\n",
            "conv4_block5_1_relu\n",
            "conv4_block5_2_conv\n",
            "conv4_block5_2_bn\n",
            "conv4_block5_2_relu\n",
            "conv4_block5_3_conv\n",
            "conv4_block5_3_bn\n",
            "conv4_block5_add\n",
            "conv4_block5_out\n",
            "conv4_block6_1_conv\n",
            "conv4_block6_1_bn\n",
            "conv4_block6_1_relu\n",
            "conv4_block6_2_conv\n",
            "conv4_block6_2_bn\n",
            "conv4_block6_2_relu\n",
            "conv4_block6_3_conv\n",
            "conv4_block6_3_bn\n",
            "conv4_block6_add\n",
            "conv4_block6_out\n",
            "conv5_block1_1_conv\n",
            "conv5_block1_1_bn\n",
            "conv5_block1_1_relu\n",
            "conv5_block1_2_conv\n",
            "conv5_block1_2_bn\n",
            "conv5_block1_2_relu\n",
            "conv5_block1_0_conv\n",
            "conv5_block1_3_conv\n",
            "conv5_block1_0_bn\n",
            "conv5_block1_3_bn\n",
            "conv5_block1_add\n",
            "conv5_block1_out\n",
            "conv5_block2_1_conv\n",
            "conv5_block2_1_bn\n",
            "conv5_block2_1_relu\n",
            "conv5_block2_2_conv\n",
            "conv5_block2_2_bn\n",
            "conv5_block2_2_relu\n",
            "conv5_block2_3_conv\n",
            "conv5_block2_3_bn\n",
            "conv5_block2_add\n",
            "conv5_block2_out\n",
            "conv5_block3_1_conv\n",
            "conv5_block3_1_bn\n",
            "conv5_block3_1_relu\n",
            "conv5_block3_2_conv\n",
            "conv5_block3_2_bn\n",
            "conv5_block3_2_relu\n",
            "conv5_block3_3_conv\n",
            "conv5_block3_3_bn\n",
            "conv5_block3_add\n",
            "conv5_block3_out\n"
          ],
          "name": "stdout"
        }
      ]
    },
    {
      "cell_type": "code",
      "metadata": {
        "id": "y2P0-ZTaDAPW",
        "colab_type": "code",
        "outputId": "d6aee5ec-c602-4577-8be1-ea548f7c9e0d",
        "colab": {
          "base_uri": "https://localhost:8080/",
          "height": 1000
        }
      },
      "source": [
        "for layer in base_resnet50_model.layers:\n",
        "    print(layer.name,' Trainable =',layer.trainable)"
      ],
      "execution_count": 125,
      "outputs": [
        {
          "output_type": "stream",
          "text": [
            "input_7  Trainable = False\n",
            "conv1_pad  Trainable = False\n",
            "conv1_conv  Trainable = False\n",
            "conv1_bn  Trainable = False\n",
            "conv1_relu  Trainable = False\n",
            "pool1_pad  Trainable = False\n",
            "pool1_pool  Trainable = False\n",
            "conv2_block1_1_conv  Trainable = False\n",
            "conv2_block1_1_bn  Trainable = False\n",
            "conv2_block1_1_relu  Trainable = False\n",
            "conv2_block1_2_conv  Trainable = False\n",
            "conv2_block1_2_bn  Trainable = False\n",
            "conv2_block1_2_relu  Trainable = False\n",
            "conv2_block1_0_conv  Trainable = False\n",
            "conv2_block1_3_conv  Trainable = False\n",
            "conv2_block1_0_bn  Trainable = False\n",
            "conv2_block1_3_bn  Trainable = False\n",
            "conv2_block1_add  Trainable = False\n",
            "conv2_block1_out  Trainable = False\n",
            "conv2_block2_1_conv  Trainable = False\n",
            "conv2_block2_1_bn  Trainable = False\n",
            "conv2_block2_1_relu  Trainable = False\n",
            "conv2_block2_2_conv  Trainable = False\n",
            "conv2_block2_2_bn  Trainable = False\n",
            "conv2_block2_2_relu  Trainable = False\n",
            "conv2_block2_3_conv  Trainable = False\n",
            "conv2_block2_3_bn  Trainable = False\n",
            "conv2_block2_add  Trainable = False\n",
            "conv2_block2_out  Trainable = False\n",
            "conv2_block3_1_conv  Trainable = False\n",
            "conv2_block3_1_bn  Trainable = False\n",
            "conv2_block3_1_relu  Trainable = False\n",
            "conv2_block3_2_conv  Trainable = False\n",
            "conv2_block3_2_bn  Trainable = False\n",
            "conv2_block3_2_relu  Trainable = False\n",
            "conv2_block3_3_conv  Trainable = False\n",
            "conv2_block3_3_bn  Trainable = False\n",
            "conv2_block3_add  Trainable = False\n",
            "conv2_block3_out  Trainable = False\n",
            "conv3_block1_1_conv  Trainable = False\n",
            "conv3_block1_1_bn  Trainable = False\n",
            "conv3_block1_1_relu  Trainable = False\n",
            "conv3_block1_2_conv  Trainable = False\n",
            "conv3_block1_2_bn  Trainable = False\n",
            "conv3_block1_2_relu  Trainable = False\n",
            "conv3_block1_0_conv  Trainable = False\n",
            "conv3_block1_3_conv  Trainable = False\n",
            "conv3_block1_0_bn  Trainable = False\n",
            "conv3_block1_3_bn  Trainable = False\n",
            "conv3_block1_add  Trainable = False\n",
            "conv3_block1_out  Trainable = False\n",
            "conv3_block2_1_conv  Trainable = False\n",
            "conv3_block2_1_bn  Trainable = False\n",
            "conv3_block2_1_relu  Trainable = False\n",
            "conv3_block2_2_conv  Trainable = False\n",
            "conv3_block2_2_bn  Trainable = False\n",
            "conv3_block2_2_relu  Trainable = False\n",
            "conv3_block2_3_conv  Trainable = False\n",
            "conv3_block2_3_bn  Trainable = False\n",
            "conv3_block2_add  Trainable = False\n",
            "conv3_block2_out  Trainable = False\n",
            "conv3_block3_1_conv  Trainable = False\n",
            "conv3_block3_1_bn  Trainable = False\n",
            "conv3_block3_1_relu  Trainable = False\n",
            "conv3_block3_2_conv  Trainable = False\n",
            "conv3_block3_2_bn  Trainable = False\n",
            "conv3_block3_2_relu  Trainable = False\n",
            "conv3_block3_3_conv  Trainable = False\n",
            "conv3_block3_3_bn  Trainable = False\n",
            "conv3_block3_add  Trainable = False\n",
            "conv3_block3_out  Trainable = False\n",
            "conv3_block4_1_conv  Trainable = False\n",
            "conv3_block4_1_bn  Trainable = False\n",
            "conv3_block4_1_relu  Trainable = False\n",
            "conv3_block4_2_conv  Trainable = False\n",
            "conv3_block4_2_bn  Trainable = False\n",
            "conv3_block4_2_relu  Trainable = False\n",
            "conv3_block4_3_conv  Trainable = False\n",
            "conv3_block4_3_bn  Trainable = False\n",
            "conv3_block4_add  Trainable = False\n",
            "conv3_block4_out  Trainable = False\n",
            "conv4_block1_1_conv  Trainable = False\n",
            "conv4_block1_1_bn  Trainable = False\n",
            "conv4_block1_1_relu  Trainable = False\n",
            "conv4_block1_2_conv  Trainable = False\n",
            "conv4_block1_2_bn  Trainable = False\n",
            "conv4_block1_2_relu  Trainable = False\n",
            "conv4_block1_0_conv  Trainable = False\n",
            "conv4_block1_3_conv  Trainable = False\n",
            "conv4_block1_0_bn  Trainable = False\n",
            "conv4_block1_3_bn  Trainable = False\n",
            "conv4_block1_add  Trainable = False\n",
            "conv4_block1_out  Trainable = False\n",
            "conv4_block2_1_conv  Trainable = False\n",
            "conv4_block2_1_bn  Trainable = False\n",
            "conv4_block2_1_relu  Trainable = False\n",
            "conv4_block2_2_conv  Trainable = False\n",
            "conv4_block2_2_bn  Trainable = False\n",
            "conv4_block2_2_relu  Trainable = False\n",
            "conv4_block2_3_conv  Trainable = False\n",
            "conv4_block2_3_bn  Trainable = False\n",
            "conv4_block2_add  Trainable = False\n",
            "conv4_block2_out  Trainable = False\n",
            "conv4_block3_1_conv  Trainable = False\n",
            "conv4_block3_1_bn  Trainable = False\n",
            "conv4_block3_1_relu  Trainable = False\n",
            "conv4_block3_2_conv  Trainable = False\n",
            "conv4_block3_2_bn  Trainable = False\n",
            "conv4_block3_2_relu  Trainable = False\n",
            "conv4_block3_3_conv  Trainable = False\n",
            "conv4_block3_3_bn  Trainable = False\n",
            "conv4_block3_add  Trainable = False\n",
            "conv4_block3_out  Trainable = False\n",
            "conv4_block4_1_conv  Trainable = False\n",
            "conv4_block4_1_bn  Trainable = False\n",
            "conv4_block4_1_relu  Trainable = False\n",
            "conv4_block4_2_conv  Trainable = False\n",
            "conv4_block4_2_bn  Trainable = False\n",
            "conv4_block4_2_relu  Trainable = False\n",
            "conv4_block4_3_conv  Trainable = False\n",
            "conv4_block4_3_bn  Trainable = False\n",
            "conv4_block4_add  Trainable = False\n",
            "conv4_block4_out  Trainable = False\n",
            "conv4_block5_1_conv  Trainable = False\n",
            "conv4_block5_1_bn  Trainable = False\n",
            "conv4_block5_1_relu  Trainable = False\n",
            "conv4_block5_2_conv  Trainable = False\n",
            "conv4_block5_2_bn  Trainable = False\n",
            "conv4_block5_2_relu  Trainable = False\n",
            "conv4_block5_3_conv  Trainable = False\n",
            "conv4_block5_3_bn  Trainable = False\n",
            "conv4_block5_add  Trainable = False\n",
            "conv4_block5_out  Trainable = False\n",
            "conv4_block6_1_conv  Trainable = False\n",
            "conv4_block6_1_bn  Trainable = False\n",
            "conv4_block6_1_relu  Trainable = False\n",
            "conv4_block6_2_conv  Trainable = False\n",
            "conv4_block6_2_bn  Trainable = False\n",
            "conv4_block6_2_relu  Trainable = False\n",
            "conv4_block6_3_conv  Trainable = False\n",
            "conv4_block6_3_bn  Trainable = False\n",
            "conv4_block6_add  Trainable = False\n",
            "conv4_block6_out  Trainable = False\n",
            "conv5_block1_1_conv  Trainable = False\n",
            "conv5_block1_1_bn  Trainable = False\n",
            "conv5_block1_1_relu  Trainable = False\n",
            "conv5_block1_2_conv  Trainable = False\n",
            "conv5_block1_2_bn  Trainable = False\n",
            "conv5_block1_2_relu  Trainable = False\n",
            "conv5_block1_0_conv  Trainable = False\n",
            "conv5_block1_3_conv  Trainable = False\n",
            "conv5_block1_0_bn  Trainable = False\n",
            "conv5_block1_3_bn  Trainable = False\n",
            "conv5_block1_add  Trainable = False\n",
            "conv5_block1_out  Trainable = False\n",
            "conv5_block2_1_conv  Trainable = False\n",
            "conv5_block2_1_bn  Trainable = False\n",
            "conv5_block2_1_relu  Trainable = False\n",
            "conv5_block2_2_conv  Trainable = False\n",
            "conv5_block2_2_bn  Trainable = False\n",
            "conv5_block2_2_relu  Trainable = False\n",
            "conv5_block2_3_conv  Trainable = False\n",
            "conv5_block2_3_bn  Trainable = False\n",
            "conv5_block2_add  Trainable = False\n",
            "conv5_block2_out  Trainable = False\n",
            "conv5_block3_1_conv  Trainable = False\n",
            "conv5_block3_1_bn  Trainable = False\n",
            "conv5_block3_1_relu  Trainable = False\n",
            "conv5_block3_2_conv  Trainable = False\n",
            "conv5_block3_2_bn  Trainable = False\n",
            "conv5_block3_2_relu  Trainable = False\n",
            "conv5_block3_3_conv  Trainable = False\n",
            "conv5_block3_3_bn  Trainable = False\n",
            "conv5_block3_add  Trainable = False\n",
            "conv5_block3_out  Trainable = False\n",
            "global_average_pooling2d_6  Trainable = True\n",
            "dense_24  Trainable = True\n",
            "dropout_18  Trainable = True\n",
            "dense_25  Trainable = True\n",
            "dropout_19  Trainable = True\n",
            "dense_26  Trainable = True\n",
            "dropout_20  Trainable = True\n",
            "dense_27  Trainable = True\n"
          ],
          "name": "stdout"
        }
      ]
    },
    {
      "cell_type": "code",
      "metadata": {
        "id": "wOYp6zEBDDF9",
        "colab_type": "code",
        "colab": {}
      },
      "source": [
        "opt = tf.keras.optimizers.RMSprop(lr=1e-4)\n",
        "# compile the model (should be done *after* setting layers to non-trainable)\n",
        "base_resnet50_model.compile(optimizer=opt, loss='categorical_crossentropy',metrics=['accuracy'])\n"
      ],
      "execution_count": 0,
      "outputs": []
    },
    {
      "cell_type": "markdown",
      "metadata": {
        "id": "2_l1DM1tzvMq",
        "colab_type": "text"
      },
      "source": [
        "#### fitting the model"
      ]
    },
    {
      "cell_type": "code",
      "metadata": {
        "id": "ZilESfkQDI0b",
        "colab_type": "code",
        "outputId": "efe76f27-7195-43f6-96cc-c022b3f839a6",
        "colab": {
          "base_uri": "https://localhost:8080/",
          "height": 1000
        }
      },
      "source": [
        "train_steps = int(len(df_train)/batch_size) #total trains set / batch_size\n",
        "val_steps = int(len(df_val)/batch_size)\n",
        "\n",
        "print('train steps:',train_steps)\n",
        "print('val steps:',val_steps)\n",
        "epochs = 50\n",
        "\n",
        "#es = EarlyStopping(monitor='accuracy', mode='max', verbose=1, patience=15)\n",
        "\n",
        "resnet_model_filepath = 'CMS/entirely_frozen_resnet50_RMSprop.h5'\n",
        "#resnet_model_filepath = 'CMS/entirely_frozen_resnet50.h5'\n",
        "mcp = ModelCheckpoint(resnet_model_filepath, monitor='accuracy', save_best_only=True, mode='max')\n",
        "\n",
        "### Train the model with validation \n",
        "entirely_frozen_resnet50_history = base_resnet50_model.fit( train_dataset, steps_per_epoch = train_steps,\n",
        "                   epochs = epochs,\n",
        "                   validation_data = valid_dataset,\n",
        "                   validation_steps = val_steps,\n",
        "                   callbacks= [#es, \n",
        "                               mcp])"
      ],
      "execution_count": 128,
      "outputs": [
        {
          "output_type": "stream",
          "text": [
            "train steps: 24\n",
            "val steps: 3\n",
            "Train for 24 steps, validate for 3 steps\n",
            "Epoch 1/50\n",
            "24/24 [==============================] - 17s 690ms/step - loss: 1.0463 - accuracy: 0.4826 - val_loss: 1.0979 - val_accuracy: 0.4056\n",
            "Epoch 2/50\n",
            "24/24 [==============================] - 12s 509ms/step - loss: 0.8126 - accuracy: 0.6156 - val_loss: 1.1237 - val_accuracy: 0.3694\n",
            "Epoch 3/50\n",
            "24/24 [==============================] - 12s 506ms/step - loss: 0.7266 - accuracy: 0.6500 - val_loss: 1.0445 - val_accuracy: 0.5000\n",
            "Epoch 4/50\n",
            "24/24 [==============================] - 12s 519ms/step - loss: 0.6642 - accuracy: 0.6854 - val_loss: 1.0507 - val_accuracy: 0.4111\n",
            "Epoch 5/50\n",
            "24/24 [==============================] - 12s 513ms/step - loss: 0.6276 - accuracy: 0.7167 - val_loss: 1.0656 - val_accuracy: 0.4139\n",
            "Epoch 6/50\n",
            "24/24 [==============================] - 12s 510ms/step - loss: 0.6090 - accuracy: 0.7260 - val_loss: 1.0702 - val_accuracy: 0.4111\n",
            "Epoch 7/50\n",
            "24/24 [==============================] - 12s 511ms/step - loss: 0.5803 - accuracy: 0.7420 - val_loss: 1.3060 - val_accuracy: 0.3694\n",
            "Epoch 8/50\n",
            "24/24 [==============================] - 12s 512ms/step - loss: 0.5674 - accuracy: 0.7469 - val_loss: 1.2214 - val_accuracy: 0.3861\n",
            "Epoch 9/50\n",
            "24/24 [==============================] - 12s 486ms/step - loss: 0.5861 - accuracy: 0.7382 - val_loss: 1.1710 - val_accuracy: 0.4139\n",
            "Epoch 10/50\n",
            "24/24 [==============================] - 13s 548ms/step - loss: 0.5575 - accuracy: 0.7524 - val_loss: 1.3180 - val_accuracy: 0.3722\n",
            "Epoch 11/50\n",
            "24/24 [==============================] - 13s 543ms/step - loss: 0.5582 - accuracy: 0.7549 - val_loss: 1.3102 - val_accuracy: 0.3722\n",
            "Epoch 12/50\n",
            "24/24 [==============================] - 12s 512ms/step - loss: 0.5335 - accuracy: 0.7698 - val_loss: 1.4447 - val_accuracy: 0.3667\n",
            "Epoch 13/50\n",
            "24/24 [==============================] - 12s 512ms/step - loss: 0.5227 - accuracy: 0.7740 - val_loss: 1.4446 - val_accuracy: 0.3667\n",
            "Epoch 14/50\n",
            "24/24 [==============================] - 12s 487ms/step - loss: 0.5268 - accuracy: 0.7656 - val_loss: 1.4827 - val_accuracy: 0.3667\n",
            "Epoch 15/50\n",
            "24/24 [==============================] - 13s 561ms/step - loss: 0.4958 - accuracy: 0.7833 - val_loss: 1.6062 - val_accuracy: 0.3667\n",
            "Epoch 16/50\n",
            "24/24 [==============================] - 12s 489ms/step - loss: 0.4970 - accuracy: 0.7819 - val_loss: 1.5110 - val_accuracy: 0.3667\n",
            "Epoch 17/50\n",
            "24/24 [==============================] - 13s 545ms/step - loss: 0.4847 - accuracy: 0.7851 - val_loss: 1.5474 - val_accuracy: 0.3694\n",
            "Epoch 18/50\n",
            "24/24 [==============================] - 12s 514ms/step - loss: 0.4750 - accuracy: 0.7962 - val_loss: 1.6222 - val_accuracy: 0.3667\n",
            "Epoch 19/50\n",
            "24/24 [==============================] - 12s 486ms/step - loss: 0.4788 - accuracy: 0.7854 - val_loss: 1.7428 - val_accuracy: 0.3611\n",
            "Epoch 20/50\n",
            "24/24 [==============================] - 13s 538ms/step - loss: 0.4554 - accuracy: 0.8056 - val_loss: 1.7381 - val_accuracy: 0.3611\n",
            "Epoch 21/50\n",
            "24/24 [==============================] - 12s 494ms/step - loss: 0.4740 - accuracy: 0.7868 - val_loss: 1.5602 - val_accuracy: 0.3667\n",
            "Epoch 22/50\n",
            "24/24 [==============================] - 11s 475ms/step - loss: 0.4486 - accuracy: 0.8035 - val_loss: 1.4588 - val_accuracy: 0.3750\n",
            "Epoch 23/50\n",
            "24/24 [==============================] - 13s 540ms/step - loss: 0.4399 - accuracy: 0.8125 - val_loss: 1.8235 - val_accuracy: 0.3667\n",
            "Epoch 24/50\n",
            "24/24 [==============================] - 12s 487ms/step - loss: 0.4318 - accuracy: 0.8059 - val_loss: 1.8355 - val_accuracy: 0.3667\n",
            "Epoch 25/50\n",
            "24/24 [==============================] - 13s 538ms/step - loss: 0.4274 - accuracy: 0.8142 - val_loss: 1.9697 - val_accuracy: 0.3611\n",
            "Epoch 26/50\n",
            "24/24 [==============================] - 12s 482ms/step - loss: 0.4242 - accuracy: 0.8118 - val_loss: 2.3026 - val_accuracy: 0.3611\n",
            "Epoch 27/50\n",
            "24/24 [==============================] - 13s 554ms/step - loss: 0.4153 - accuracy: 0.8208 - val_loss: 2.3955 - val_accuracy: 0.3611\n",
            "Epoch 28/50\n",
            "24/24 [==============================] - 13s 537ms/step - loss: 0.3977 - accuracy: 0.8229 - val_loss: 2.5793 - val_accuracy: 0.3611\n",
            "Epoch 29/50\n",
            "24/24 [==============================] - 12s 514ms/step - loss: 0.4008 - accuracy: 0.8267 - val_loss: 2.1739 - val_accuracy: 0.3611\n",
            "Epoch 30/50\n",
            "24/24 [==============================] - 12s 484ms/step - loss: 0.3904 - accuracy: 0.8243 - val_loss: 2.6675 - val_accuracy: 0.3611\n",
            "Epoch 31/50\n",
            "24/24 [==============================] - 13s 540ms/step - loss: 0.3710 - accuracy: 0.8368 - val_loss: 2.1547 - val_accuracy: 0.3639\n",
            "Epoch 32/50\n",
            "24/24 [==============================] - 12s 508ms/step - loss: 0.3611 - accuracy: 0.8396 - val_loss: 2.5634 - val_accuracy: 0.3611\n",
            "Epoch 33/50\n",
            "24/24 [==============================] - 12s 512ms/step - loss: 0.3567 - accuracy: 0.8413 - val_loss: 2.7571 - val_accuracy: 0.3611\n",
            "Epoch 34/50\n",
            "24/24 [==============================] - 12s 512ms/step - loss: 0.3592 - accuracy: 0.8444 - val_loss: 2.6947 - val_accuracy: 0.3611\n",
            "Epoch 35/50\n",
            "24/24 [==============================] - 12s 506ms/step - loss: 0.3419 - accuracy: 0.8493 - val_loss: 2.9010 - val_accuracy: 0.3611\n",
            "Epoch 36/50\n",
            "24/24 [==============================] - 12s 514ms/step - loss: 0.3283 - accuracy: 0.8503 - val_loss: 2.8739 - val_accuracy: 0.3611\n",
            "Epoch 37/50\n",
            "24/24 [==============================] - 12s 512ms/step - loss: 0.3447 - accuracy: 0.8524 - val_loss: 2.4741 - val_accuracy: 0.3611\n",
            "Epoch 38/50\n",
            "24/24 [==============================] - 12s 511ms/step - loss: 0.3127 - accuracy: 0.8691 - val_loss: 2.9003 - val_accuracy: 0.3611\n",
            "Epoch 39/50\n",
            "24/24 [==============================] - 12s 485ms/step - loss: 0.3059 - accuracy: 0.8681 - val_loss: 3.5550 - val_accuracy: 0.3611\n",
            "Epoch 40/50\n",
            "24/24 [==============================] - 14s 572ms/step - loss: 0.2968 - accuracy: 0.8708 - val_loss: 2.9040 - val_accuracy: 0.3611\n",
            "Epoch 41/50\n",
            "24/24 [==============================] - 12s 510ms/step - loss: 0.3006 - accuracy: 0.8778 - val_loss: 3.0177 - val_accuracy: 0.3611\n",
            "Epoch 42/50\n",
            "24/24 [==============================] - 12s 482ms/step - loss: 0.2850 - accuracy: 0.8771 - val_loss: 2.8075 - val_accuracy: 0.3694\n",
            "Epoch 43/50\n",
            "24/24 [==============================] - 13s 537ms/step - loss: 0.2743 - accuracy: 0.8847 - val_loss: 3.5690 - val_accuracy: 0.3611\n",
            "Epoch 44/50\n",
            "24/24 [==============================] - 13s 522ms/step - loss: 0.2673 - accuracy: 0.8851 - val_loss: 3.7573 - val_accuracy: 0.3611\n",
            "Epoch 45/50\n",
            "24/24 [==============================] - 13s 549ms/step - loss: 0.2535 - accuracy: 0.8944 - val_loss: 3.3494 - val_accuracy: 0.3694\n",
            "Epoch 46/50\n",
            "24/24 [==============================] - 12s 486ms/step - loss: 0.2616 - accuracy: 0.8830 - val_loss: 3.5751 - val_accuracy: 0.3611\n",
            "Epoch 47/50\n",
            "24/24 [==============================] - 14s 595ms/step - loss: 0.2449 - accuracy: 0.8986 - val_loss: 4.0321 - val_accuracy: 0.3611\n",
            "Epoch 48/50\n",
            "24/24 [==============================] - 12s 482ms/step - loss: 0.2416 - accuracy: 0.8969 - val_loss: 4.5655 - val_accuracy: 0.3611\n",
            "Epoch 49/50\n",
            "24/24 [==============================] - 13s 540ms/step - loss: 0.2177 - accuracy: 0.9097 - val_loss: 4.9987 - val_accuracy: 0.3611\n",
            "Epoch 50/50\n",
            "24/24 [==============================] - 13s 525ms/step - loss: 0.2196 - accuracy: 0.9118 - val_loss: 3.3473 - val_accuracy: 0.3750\n"
          ],
          "name": "stdout"
        }
      ]
    },
    {
      "cell_type": "code",
      "metadata": {
        "id": "WF4m5ZHXcIXA",
        "colab_type": "code",
        "outputId": "36728688-dc44-4cea-8796-3d36fa8ec341",
        "colab": {
          "base_uri": "https://localhost:8080/",
          "height": 34
        }
      },
      "source": [
        "pwd\n"
      ],
      "execution_count": 129,
      "outputs": [
        {
          "output_type": "execute_result",
          "data": {
            "text/plain": [
              "'/content/drive/My Drive'"
            ]
          },
          "metadata": {
            "tags": []
          },
          "execution_count": 129
        }
      ]
    },
    {
      "cell_type": "code",
      "metadata": {
        "id": "T_uiY7h76bLQ",
        "colab_type": "code",
        "colab": {}
      },
      "source": [
        ""
      ],
      "execution_count": 0,
      "outputs": []
    },
    {
      "cell_type": "markdown",
      "metadata": {
        "id": "1DEF-C99Vlv0",
        "colab_type": "text"
      },
      "source": [
        "#### testing the model"
      ]
    },
    {
      "cell_type": "code",
      "metadata": {
        "id": "9ExLpzmeQaS_",
        "colab_type": "code",
        "outputId": "7ce8eb2e-71eb-4b86-ab59-e605968f0b3c",
        "colab": {
          "base_uri": "https://localhost:8080/",
          "height": 50
        }
      },
      "source": [
        "test_steps = int(len(df_test)/batch_size)\n",
        "\n",
        "metrics = base_resnet50_model.evaluate(test_dataset,\n",
        "                   steps = test_steps)\n",
        "print(\"model accuracy:\",metrics[1])"
      ],
      "execution_count": 130,
      "outputs": [
        {
          "output_type": "stream",
          "text": [
            "3/3 [==============================] - 1s 397ms/step - loss: 3.4484 - accuracy: 0.3694\n",
            "model accuracy: 0.36944443\n"
          ],
          "name": "stdout"
        }
      ]
    },
    {
      "cell_type": "markdown",
      "metadata": {
        "id": "hBL8c11yrqqX",
        "colab_type": "text"
      },
      "source": [
        "#### plotting training"
      ]
    },
    {
      "cell_type": "code",
      "metadata": {
        "id": "K8LjQA1mh1vN",
        "colab_type": "code",
        "outputId": "2f1cd156-7a18-46bb-ec6b-ccb89ab635ea",
        "colab": {
          "base_uri": "https://localhost:8080/",
          "height": 573
        }
      },
      "source": [
        "plot_hist(entirely_frozen_resnet50_history, 'entirely_frozen_resnet50_RMSprop')"
      ],
      "execution_count": 131,
      "outputs": [
        {
          "output_type": "display_data",
          "data": {
            "image/png": "[encoded data removed]",
            "text/plain": [
              "<Figure size 432x288 with 1 Axes>"
            ]
          },
          "metadata": {
            "tags": []
          }
        },
        {
          "output_type": "display_data",
          "data": {
            "image/png": "[encoded data removed]",
            "text/plain": [
              "<Figure size 432x288 with 1 Axes>"
            ]
          },
          "metadata": {
            "tags": []
          }
        }
      ]
    },
    {
      "cell_type": "markdown",
      "metadata": {
        "id": "m_ZrJLmlg2p1",
        "colab_type": "text"
      },
      "source": [
        "#### saving the history of the fitting"
      ]
    },
    {
      "cell_type": "code",
      "metadata": {
        "id": "MtsOK4BTguPo",
        "colab_type": "code",
        "outputId": "98ac775b-44fc-448f-c3c9-f318469c2c72",
        "colab": {
          "base_uri": "https://localhost:8080/",
          "height": 34
        }
      },
      "source": [
        "\n",
        "with open(cwd + '/trainHistoryDict/basic_resnet50_history_prop.p', 'wb') as file_pi:\n",
        "        pickle.dump(entirely_frozen_resnet50_history.history, file_pi)\n",
        "print('history saved')"
      ],
      "execution_count": 132,
      "outputs": [
        {
          "output_type": "stream",
          "text": [
            "history saved\n"
          ],
          "name": "stdout"
        }
      ]
    },
    {
      "cell_type": "markdown",
      "metadata": {
        "id": "OCGpPP-l1J7_",
        "colab_type": "text"
      },
      "source": [
        "## Few layers unfrozen"
      ]
    },
    {
      "cell_type": "markdown",
      "metadata": {
        "id": "9NTvh7-AmF2h",
        "colab_type": "text"
      },
      "source": [
        "#### loading model"
      ]
    },
    {
      "cell_type": "code",
      "metadata": {
        "id": "kPl0Png5yCQd",
        "colab_type": "code",
        "colab": {}
      },
      "source": [
        "resnet_50 = tf.keras.applications.ResNet50(\n",
        "    include_top=False,\n",
        "    weights='imagenet',\n",
        "    input_shape=(200,200,3),\n",
        "    pooling=None\n",
        ")"
      ],
      "execution_count": 0,
      "outputs": []
    },
    {
      "cell_type": "markdown",
      "metadata": {
        "id": "qOpVXZpbmKFX",
        "colab_type": "text"
      },
      "source": [
        "#### modifying slightly"
      ]
    },
    {
      "cell_type": "code",
      "metadata": {
        "id": "Z08msq2tyDc4",
        "colab_type": "code",
        "colab": {}
      },
      "source": [
        "x = resnet_50.output\n",
        "\n",
        "x = GlobalAveragePooling2D()(x)\n",
        "\n",
        "# let's add a fully-connected layer\n",
        "x = Dense(512, activation='relu')(x)\n",
        "\n",
        "x = Dropout(0.5)(x)\n",
        "\n",
        "#x = GlobalAveragePooling2D()(x)\n",
        "\n",
        "# let's add a fully-connected layer\n",
        "x = Dense(512, activation='relu')(x)\n",
        "\n",
        "x = Dropout(0.5)(x)\n",
        "\n",
        "# let's add a fully-connected layer\n",
        "x = Dense(512, activation='relu')(x)\n",
        "\n",
        "x = Dropout(0.5)(x)\n",
        "\n",
        "# and a logits layer -- let's say we have 3 classes\n",
        "predictions = Dense(3, activation='softmax')(x)\n"
      ],
      "execution_count": 0,
      "outputs": []
    },
    {
      "cell_type": "markdown",
      "metadata": {
        "id": "f0ECvPigmTNh",
        "colab_type": "text"
      },
      "source": [
        "#### creating model object"
      ]
    },
    {
      "cell_type": "code",
      "metadata": {
        "id": "03eslAo6mAYJ",
        "colab_type": "code",
        "colab": {}
      },
      "source": [
        "# this is the model we will train\n",
        "few_unfrozen_resnet_model = Model(inputs=resnet_50.input, outputs=predictions)"
      ],
      "execution_count": 0,
      "outputs": []
    },
    {
      "cell_type": "code",
      "metadata": {
        "id": "fQ5uYuz7l2aQ",
        "colab_type": "code",
        "outputId": "255b6a77-9c93-47a4-828b-ec1d3ca2dad2",
        "colab": {
          "base_uri": "https://localhost:8080/",
          "height": 1000
        }
      },
      "source": [
        "for layer in resnet_50.layers:\n",
        "    print(layer.name)\n",
        "    layer.trainable = False"
      ],
      "execution_count": 0,
      "outputs": [
        {
          "output_type": "stream",
          "text": [
            "input_3\n",
            "conv1_pad\n",
            "conv1_conv\n",
            "conv1_bn\n",
            "conv1_relu\n",
            "pool1_pad\n",
            "pool1_pool\n",
            "conv2_block1_1_conv\n",
            "conv2_block1_1_bn\n",
            "conv2_block1_1_relu\n",
            "conv2_block1_2_conv\n",
            "conv2_block1_2_bn\n",
            "conv2_block1_2_relu\n",
            "conv2_block1_0_conv\n",
            "conv2_block1_3_conv\n",
            "conv2_block1_0_bn\n",
            "conv2_block1_3_bn\n",
            "conv2_block1_add\n",
            "conv2_block1_out\n",
            "conv2_block2_1_conv\n",
            "conv2_block2_1_bn\n",
            "conv2_block2_1_relu\n",
            "conv2_block2_2_conv\n",
            "conv2_block2_2_bn\n",
            "conv2_block2_2_relu\n",
            "conv2_block2_3_conv\n",
            "conv2_block2_3_bn\n",
            "conv2_block2_add\n",
            "conv2_block2_out\n",
            "conv2_block3_1_conv\n",
            "conv2_block3_1_bn\n",
            "conv2_block3_1_relu\n",
            "conv2_block3_2_conv\n",
            "conv2_block3_2_bn\n",
            "conv2_block3_2_relu\n",
            "conv2_block3_3_conv\n",
            "conv2_block3_3_bn\n",
            "conv2_block3_add\n",
            "conv2_block3_out\n",
            "conv3_block1_1_conv\n",
            "conv3_block1_1_bn\n",
            "conv3_block1_1_relu\n",
            "conv3_block1_2_conv\n",
            "conv3_block1_2_bn\n",
            "conv3_block1_2_relu\n",
            "conv3_block1_0_conv\n",
            "conv3_block1_3_conv\n",
            "conv3_block1_0_bn\n",
            "conv3_block1_3_bn\n",
            "conv3_block1_add\n",
            "conv3_block1_out\n",
            "conv3_block2_1_conv\n",
            "conv3_block2_1_bn\n",
            "conv3_block2_1_relu\n",
            "conv3_block2_2_conv\n",
            "conv3_block2_2_bn\n",
            "conv3_block2_2_relu\n",
            "conv3_block2_3_conv\n",
            "conv3_block2_3_bn\n",
            "conv3_block2_add\n",
            "conv3_block2_out\n",
            "conv3_block3_1_conv\n",
            "conv3_block3_1_bn\n",
            "conv3_block3_1_relu\n",
            "conv3_block3_2_conv\n",
            "conv3_block3_2_bn\n",
            "conv3_block3_2_relu\n",
            "conv3_block3_3_conv\n",
            "conv3_block3_3_bn\n",
            "conv3_block3_add\n",
            "conv3_block3_out\n",
            "conv3_block4_1_conv\n",
            "conv3_block4_1_bn\n",
            "conv3_block4_1_relu\n",
            "conv3_block4_2_conv\n",
            "conv3_block4_2_bn\n",
            "conv3_block4_2_relu\n",
            "conv3_block4_3_conv\n",
            "conv3_block4_3_bn\n",
            "conv3_block4_add\n",
            "conv3_block4_out\n",
            "conv4_block1_1_conv\n",
            "conv4_block1_1_bn\n",
            "conv4_block1_1_relu\n",
            "conv4_block1_2_conv\n",
            "conv4_block1_2_bn\n",
            "conv4_block1_2_relu\n",
            "conv4_block1_0_conv\n",
            "conv4_block1_3_conv\n",
            "conv4_block1_0_bn\n",
            "conv4_block1_3_bn\n",
            "conv4_block1_add\n",
            "conv4_block1_out\n",
            "conv4_block2_1_conv\n",
            "conv4_block2_1_bn\n",
            "conv4_block2_1_relu\n",
            "conv4_block2_2_conv\n",
            "conv4_block2_2_bn\n",
            "conv4_block2_2_relu\n",
            "conv4_block2_3_conv\n",
            "conv4_block2_3_bn\n",
            "conv4_block2_add\n",
            "conv4_block2_out\n",
            "conv4_block3_1_conv\n",
            "conv4_block3_1_bn\n",
            "conv4_block3_1_relu\n",
            "conv4_block3_2_conv\n",
            "conv4_block3_2_bn\n",
            "conv4_block3_2_relu\n",
            "conv4_block3_3_conv\n",
            "conv4_block3_3_bn\n",
            "conv4_block3_add\n",
            "conv4_block3_out\n",
            "conv4_block4_1_conv\n",
            "conv4_block4_1_bn\n",
            "conv4_block4_1_relu\n",
            "conv4_block4_2_conv\n",
            "conv4_block4_2_bn\n",
            "conv4_block4_2_relu\n",
            "conv4_block4_3_conv\n",
            "conv4_block4_3_bn\n",
            "conv4_block4_add\n",
            "conv4_block4_out\n",
            "conv4_block5_1_conv\n",
            "conv4_block5_1_bn\n",
            "conv4_block5_1_relu\n",
            "conv4_block5_2_conv\n",
            "conv4_block5_2_bn\n",
            "conv4_block5_2_relu\n",
            "conv4_block5_3_conv\n",
            "conv4_block5_3_bn\n",
            "conv4_block5_add\n",
            "conv4_block5_out\n",
            "conv4_block6_1_conv\n",
            "conv4_block6_1_bn\n",
            "conv4_block6_1_relu\n",
            "conv4_block6_2_conv\n",
            "conv4_block6_2_bn\n",
            "conv4_block6_2_relu\n",
            "conv4_block6_3_conv\n",
            "conv4_block6_3_bn\n",
            "conv4_block6_add\n",
            "conv4_block6_out\n",
            "conv5_block1_1_conv\n",
            "conv5_block1_1_bn\n",
            "conv5_block1_1_relu\n",
            "conv5_block1_2_conv\n",
            "conv5_block1_2_bn\n",
            "conv5_block1_2_relu\n",
            "conv5_block1_0_conv\n",
            "conv5_block1_3_conv\n",
            "conv5_block1_0_bn\n",
            "conv5_block1_3_bn\n",
            "conv5_block1_add\n",
            "conv5_block1_out\n",
            "conv5_block2_1_conv\n",
            "conv5_block2_1_bn\n",
            "conv5_block2_1_relu\n",
            "conv5_block2_2_conv\n",
            "conv5_block2_2_bn\n",
            "conv5_block2_2_relu\n",
            "conv5_block2_3_conv\n",
            "conv5_block2_3_bn\n",
            "conv5_block2_add\n",
            "conv5_block2_out\n",
            "conv5_block3_1_conv\n",
            "conv5_block3_1_bn\n",
            "conv5_block3_1_relu\n",
            "conv5_block3_2_conv\n",
            "conv5_block3_2_bn\n",
            "conv5_block3_2_relu\n",
            "conv5_block3_3_conv\n",
            "conv5_block3_3_bn\n",
            "conv5_block3_add\n",
            "conv5_block3_out\n"
          ],
          "name": "stdout"
        }
      ]
    },
    {
      "cell_type": "code",
      "metadata": {
        "id": "whAJkq6qDOfk",
        "colab_type": "code",
        "outputId": "29246da0-25f6-4d23-a808-fc53409aa815",
        "colab": {
          "base_uri": "https://localhost:8080/",
          "height": 34
        }
      },
      "source": [
        "few_unfrozen_resnet_model.trainable = True\n",
        "trainable_count = 0\n",
        "\n",
        "set_trainable = False\n",
        "for layer in few_unfrozen_resnet_model.layers:\n",
        "    if layer.name == 'conv5_block1_1_conv':\n",
        "        set_trainable = True\n",
        "    if set_trainable:\n",
        "        layer.trainable = True\n",
        "        trainable_count += 1\n",
        "    else:\n",
        "        layer.trainable = False\n",
        "\n",
        "print('percent unfrozen:', trainable_count/ len(resnet_50.layers) * 100 , '%')\n"
      ],
      "execution_count": 0,
      "outputs": [
        {
          "output_type": "stream",
          "text": [
            "percent unfrozen: 22.857142857142858 %\n"
          ],
          "name": "stdout"
        }
      ]
    },
    {
      "cell_type": "code",
      "metadata": {
        "id": "hHCq5zulG67p",
        "colab_type": "code",
        "outputId": "0bbccc15-c7ae-493d-90a3-96842e614269",
        "colab": {
          "base_uri": "https://localhost:8080/",
          "height": 1000
        }
      },
      "source": [
        "for layer in few_unfrozen_resnet_model.layers:\n",
        "    print(layer.name,layer.trainable)"
      ],
      "execution_count": 0,
      "outputs": [
        {
          "output_type": "stream",
          "text": [
            "input_3 False\n",
            "conv1_pad False\n",
            "conv1_conv False\n",
            "conv1_bn False\n",
            "conv1_relu False\n",
            "pool1_pad False\n",
            "pool1_pool False\n",
            "conv2_block1_1_conv False\n",
            "conv2_block1_1_bn False\n",
            "conv2_block1_1_relu False\n",
            "conv2_block1_2_conv False\n",
            "conv2_block1_2_bn False\n",
            "conv2_block1_2_relu False\n",
            "conv2_block1_0_conv False\n",
            "conv2_block1_3_conv False\n",
            "conv2_block1_0_bn False\n",
            "conv2_block1_3_bn False\n",
            "conv2_block1_add False\n",
            "conv2_block1_out False\n",
            "conv2_block2_1_conv False\n",
            "conv2_block2_1_bn False\n",
            "conv2_block2_1_relu False\n",
            "conv2_block2_2_conv False\n",
            "conv2_block2_2_bn False\n",
            "conv2_block2_2_relu False\n",
            "conv2_block2_3_conv False\n",
            "conv2_block2_3_bn False\n",
            "conv2_block2_add False\n",
            "conv2_block2_out False\n",
            "conv2_block3_1_conv False\n",
            "conv2_block3_1_bn False\n",
            "conv2_block3_1_relu False\n",
            "conv2_block3_2_conv False\n",
            "conv2_block3_2_bn False\n",
            "conv2_block3_2_relu False\n",
            "conv2_block3_3_conv False\n",
            "conv2_block3_3_bn False\n",
            "conv2_block3_add False\n",
            "conv2_block3_out False\n",
            "conv3_block1_1_conv False\n",
            "conv3_block1_1_bn False\n",
            "conv3_block1_1_relu False\n",
            "conv3_block1_2_conv False\n",
            "conv3_block1_2_bn False\n",
            "conv3_block1_2_relu False\n",
            "conv3_block1_0_conv False\n",
            "conv3_block1_3_conv False\n",
            "conv3_block1_0_bn False\n",
            "conv3_block1_3_bn False\n",
            "conv3_block1_add False\n",
            "conv3_block1_out False\n",
            "conv3_block2_1_conv False\n",
            "conv3_block2_1_bn False\n",
            "conv3_block2_1_relu False\n",
            "conv3_block2_2_conv False\n",
            "conv3_block2_2_bn False\n",
            "conv3_block2_2_relu False\n",
            "conv3_block2_3_conv False\n",
            "conv3_block2_3_bn False\n",
            "conv3_block2_add False\n",
            "conv3_block2_out False\n",
            "conv3_block3_1_conv False\n",
            "conv3_block3_1_bn False\n",
            "conv3_block3_1_relu False\n",
            "conv3_block3_2_conv False\n",
            "conv3_block3_2_bn False\n",
            "conv3_block3_2_relu False\n",
            "conv3_block3_3_conv False\n",
            "conv3_block3_3_bn False\n",
            "conv3_block3_add False\n",
            "conv3_block3_out False\n",
            "conv3_block4_1_conv False\n",
            "conv3_block4_1_bn False\n",
            "conv3_block4_1_relu False\n",
            "conv3_block4_2_conv False\n",
            "conv3_block4_2_bn False\n",
            "conv3_block4_2_relu False\n",
            "conv3_block4_3_conv False\n",
            "conv3_block4_3_bn False\n",
            "conv3_block4_add False\n",
            "conv3_block4_out False\n",
            "conv4_block1_1_conv False\n",
            "conv4_block1_1_bn False\n",
            "conv4_block1_1_relu False\n",
            "conv4_block1_2_conv False\n",
            "conv4_block1_2_bn False\n",
            "conv4_block1_2_relu False\n",
            "conv4_block1_0_conv False\n",
            "conv4_block1_3_conv False\n",
            "conv4_block1_0_bn False\n",
            "conv4_block1_3_bn False\n",
            "conv4_block1_add False\n",
            "conv4_block1_out False\n",
            "conv4_block2_1_conv False\n",
            "conv4_block2_1_bn False\n",
            "conv4_block2_1_relu False\n",
            "conv4_block2_2_conv False\n",
            "conv4_block2_2_bn False\n",
            "conv4_block2_2_relu False\n",
            "conv4_block2_3_conv False\n",
            "conv4_block2_3_bn False\n",
            "conv4_block2_add False\n",
            "conv4_block2_out False\n",
            "conv4_block3_1_conv False\n",
            "conv4_block3_1_bn False\n",
            "conv4_block3_1_relu False\n",
            "conv4_block3_2_conv False\n",
            "conv4_block3_2_bn False\n",
            "conv4_block3_2_relu False\n",
            "conv4_block3_3_conv False\n",
            "conv4_block3_3_bn False\n",
            "conv4_block3_add False\n",
            "conv4_block3_out False\n",
            "conv4_block4_1_conv False\n",
            "conv4_block4_1_bn False\n",
            "conv4_block4_1_relu False\n",
            "conv4_block4_2_conv False\n",
            "conv4_block4_2_bn False\n",
            "conv4_block4_2_relu False\n",
            "conv4_block4_3_conv False\n",
            "conv4_block4_3_bn False\n",
            "conv4_block4_add False\n",
            "conv4_block4_out False\n",
            "conv4_block5_1_conv False\n",
            "conv4_block5_1_bn False\n",
            "conv4_block5_1_relu False\n",
            "conv4_block5_2_conv False\n",
            "conv4_block5_2_bn False\n",
            "conv4_block5_2_relu False\n",
            "conv4_block5_3_conv False\n",
            "conv4_block5_3_bn False\n",
            "conv4_block5_add False\n",
            "conv4_block5_out False\n",
            "conv4_block6_1_conv False\n",
            "conv4_block6_1_bn False\n",
            "conv4_block6_1_relu False\n",
            "conv4_block6_2_conv False\n",
            "conv4_block6_2_bn False\n",
            "conv4_block6_2_relu False\n",
            "conv4_block6_3_conv False\n",
            "conv4_block6_3_bn False\n",
            "conv4_block6_add False\n",
            "conv4_block6_out False\n",
            "conv5_block1_1_conv True\n",
            "conv5_block1_1_bn True\n",
            "conv5_block1_1_relu True\n",
            "conv5_block1_2_conv True\n",
            "conv5_block1_2_bn True\n",
            "conv5_block1_2_relu True\n",
            "conv5_block1_0_conv True\n",
            "conv5_block1_3_conv True\n",
            "conv5_block1_0_bn True\n",
            "conv5_block1_3_bn True\n",
            "conv5_block1_add True\n",
            "conv5_block1_out True\n",
            "conv5_block2_1_conv True\n",
            "conv5_block2_1_bn True\n",
            "conv5_block2_1_relu True\n",
            "conv5_block2_2_conv True\n",
            "conv5_block2_2_bn True\n",
            "conv5_block2_2_relu True\n",
            "conv5_block2_3_conv True\n",
            "conv5_block2_3_bn True\n",
            "conv5_block2_add True\n",
            "conv5_block2_out True\n",
            "conv5_block3_1_conv True\n",
            "conv5_block3_1_bn True\n",
            "conv5_block3_1_relu True\n",
            "conv5_block3_2_conv True\n",
            "conv5_block3_2_bn True\n",
            "conv5_block3_2_relu True\n",
            "conv5_block3_3_conv True\n",
            "conv5_block3_3_bn True\n",
            "conv5_block3_add True\n",
            "conv5_block3_out True\n",
            "global_average_pooling2d_2 True\n",
            "dense_8 True\n",
            "dropout_6 True\n",
            "dense_9 True\n",
            "dropout_7 True\n",
            "dense_10 True\n",
            "dropout_8 True\n",
            "dense_11 True\n"
          ],
          "name": "stdout"
        }
      ]
    },
    {
      "cell_type": "code",
      "metadata": {
        "id": "vfOrj3UHnqkg",
        "colab_type": "code",
        "colab": {}
      },
      "source": [
        "opt = tf.keras.optimizers.RMSprop(lr=1e-4)\n",
        "# compile the model (should be done *after* setting layers to non-trainable)\n",
        "few_unfrozen_resnet_model.compile(optimizer=opt, loss='categorical_crossentropy',metrics=['accuracy'])"
      ],
      "execution_count": 0,
      "outputs": []
    },
    {
      "cell_type": "markdown",
      "metadata": {
        "id": "ZmgEucTcyPqk",
        "colab_type": "text"
      },
      "source": [
        "#### fitting the model"
      ]
    },
    {
      "cell_type": "code",
      "metadata": {
        "id": "DZuKehrVG9L3",
        "colab_type": "code",
        "outputId": "863da955-b3eb-44b9-e1f2-7e92bcd306c2",
        "colab": {
          "base_uri": "https://localhost:8080/",
          "height": 1000
        }
      },
      "source": [
        "train_steps = int(len(df_train)/batch_size) #total trains set / batch_size\n",
        "val_steps = int(len(df_val)/batch_size)\n",
        "\n",
        "print('train steps:',train_steps)\n",
        "print('val steps:',val_steps)\n",
        "\n",
        "epochs = 50\n",
        "\n",
        "\n",
        "model_filepath = 'CMS/few_unfrozen_resnet50_RMSprop.h5'\n",
        "mcp = ModelCheckpoint(model_filepath, monitor='accuracy', save_best_only=True, mode='max')\n",
        "\n",
        "# Train the model with validation \n",
        "few_unfrozen_resnet50_history = few_unfrozen_resnet_model.fit( train_dataset, steps_per_epoch = train_steps,\n",
        "                   epochs = epochs,\n",
        "                   validation_data = valid_dataset,\n",
        "                   validation_steps = val_steps,\n",
        "                   callbacks=[mcp])"
      ],
      "execution_count": 0,
      "outputs": [
        {
          "output_type": "stream",
          "text": [
            "train steps: 24\n",
            "val steps: 3\n",
            "Train for 24 steps, validate for 3 steps\n",
            "Epoch 1/50\n",
            "24/24 [==============================] - 18s 746ms/step - loss: 0.8451 - accuracy: 0.6056 - val_loss: 1.0626 - val_accuracy: 0.3667\n",
            "Epoch 2/50\n",
            "24/24 [==============================] - 13s 562ms/step - loss: 0.5820 - accuracy: 0.7403 - val_loss: 0.9898 - val_accuracy: 0.5250\n",
            "Epoch 3/50\n",
            "24/24 [==============================] - 13s 560ms/step - loss: 0.4528 - accuracy: 0.8024 - val_loss: 1.0923 - val_accuracy: 0.3694\n",
            "Epoch 4/50\n",
            "24/24 [==============================] - 13s 559ms/step - loss: 0.3586 - accuracy: 0.8382 - val_loss: 1.0330 - val_accuracy: 0.4222\n",
            "Epoch 5/50\n",
            "24/24 [==============================] - 14s 569ms/step - loss: 0.2653 - accuracy: 0.8847 - val_loss: 1.0642 - val_accuracy: 0.3778\n",
            "Epoch 6/50\n",
            "24/24 [==============================] - 14s 564ms/step - loss: 0.1764 - accuracy: 0.9205 - val_loss: 0.9773 - val_accuracy: 0.5167\n",
            "Epoch 7/50\n",
            "24/24 [==============================] - 14s 569ms/step - loss: 0.1369 - accuracy: 0.9483 - val_loss: 1.0027 - val_accuracy: 0.4278\n",
            "Epoch 8/50\n",
            "24/24 [==============================] - 14s 563ms/step - loss: 0.1007 - accuracy: 0.9569 - val_loss: 1.0021 - val_accuracy: 0.4389\n",
            "Epoch 9/50\n",
            "24/24 [==============================] - 14s 569ms/step - loss: 0.0749 - accuracy: 0.9767 - val_loss: 1.1356 - val_accuracy: 0.3917\n",
            "Epoch 10/50\n",
            "24/24 [==============================] - 14s 564ms/step - loss: 0.0600 - accuracy: 0.9795 - val_loss: 1.0041 - val_accuracy: 0.5528\n",
            "Epoch 11/50\n",
            "24/24 [==============================] - 14s 564ms/step - loss: 0.0547 - accuracy: 0.9844 - val_loss: 1.5454 - val_accuracy: 0.4222\n",
            "Epoch 12/50\n",
            "24/24 [==============================] - 13s 562ms/step - loss: 0.0404 - accuracy: 0.9899 - val_loss: 1.3068 - val_accuracy: 0.5083\n",
            "Epoch 13/50\n",
            "24/24 [==============================] - 13s 524ms/step - loss: 0.0671 - accuracy: 0.9833 - val_loss: 1.7958 - val_accuracy: 0.5194\n",
            "Epoch 14/50\n",
            "24/24 [==============================] - 12s 520ms/step - loss: 0.0576 - accuracy: 0.9865 - val_loss: 2.6000 - val_accuracy: 0.4139\n",
            "Epoch 15/50\n",
            "24/24 [==============================] - 15s 604ms/step - loss: 0.0316 - accuracy: 0.9903 - val_loss: 4.3032 - val_accuracy: 0.3250\n",
            "Epoch 16/50\n",
            "24/24 [==============================] - 13s 562ms/step - loss: 0.0328 - accuracy: 0.9920 - val_loss: 3.0931 - val_accuracy: 0.3250\n",
            "Epoch 17/50\n",
            "24/24 [==============================] - 13s 526ms/step - loss: 0.0503 - accuracy: 0.9823 - val_loss: 4.1698 - val_accuracy: 0.3250\n",
            "Epoch 18/50\n",
            "24/24 [==============================] - 15s 618ms/step - loss: 0.0288 - accuracy: 0.9944 - val_loss: 4.4411 - val_accuracy: 0.3278\n",
            "Epoch 19/50\n",
            "24/24 [==============================] - 12s 520ms/step - loss: 0.0435 - accuracy: 0.9896 - val_loss: 4.2962 - val_accuracy: 0.3250\n",
            "Epoch 20/50\n",
            "24/24 [==============================] - 12s 518ms/step - loss: 0.0242 - accuracy: 0.9927 - val_loss: 4.2875 - val_accuracy: 0.3250\n",
            "Epoch 21/50\n",
            "24/24 [==============================] - 14s 600ms/step - loss: 0.0180 - accuracy: 0.9955 - val_loss: 4.5052 - val_accuracy: 0.3306\n",
            "Epoch 22/50\n",
            "24/24 [==============================] - 13s 527ms/step - loss: 0.0524 - accuracy: 0.9844 - val_loss: 5.2215 - val_accuracy: 0.3361\n",
            "Epoch 23/50\n",
            "24/24 [==============================] - 13s 534ms/step - loss: 0.0517 - accuracy: 0.9875 - val_loss: 4.0168 - val_accuracy: 0.3278\n",
            "Epoch 24/50\n",
            "24/24 [==============================] - 12s 520ms/step - loss: 0.0470 - accuracy: 0.9858 - val_loss: 6.0001 - val_accuracy: 0.3333\n",
            "Epoch 25/50\n",
            "24/24 [==============================] - 12s 517ms/step - loss: 0.0214 - accuracy: 0.9937 - val_loss: 3.4755 - val_accuracy: 0.3806\n",
            "Epoch 26/50\n",
            "24/24 [==============================] - 12s 517ms/step - loss: 0.0372 - accuracy: 0.9903 - val_loss: 5.8727 - val_accuracy: 0.3250\n",
            "Epoch 27/50\n",
            "24/24 [==============================] - 12s 518ms/step - loss: 0.0302 - accuracy: 0.9920 - val_loss: 7.4368 - val_accuracy: 0.3250\n",
            "Epoch 28/50\n",
            "24/24 [==============================] - 13s 525ms/step - loss: 0.0522 - accuracy: 0.9899 - val_loss: 12.5688 - val_accuracy: 0.3250\n",
            "Epoch 29/50\n",
            "24/24 [==============================] - 12s 520ms/step - loss: 0.0243 - accuracy: 0.9927 - val_loss: 6.0840 - val_accuracy: 0.3250\n",
            "Epoch 30/50\n",
            "24/24 [==============================] - 13s 521ms/step - loss: 0.0352 - accuracy: 0.9896 - val_loss: 6.6534 - val_accuracy: 0.3250\n",
            "Epoch 31/50\n",
            "24/24 [==============================] - 12s 517ms/step - loss: 0.0314 - accuracy: 0.9910 - val_loss: 6.1421 - val_accuracy: 0.3250\n",
            "Epoch 32/50\n",
            "24/24 [==============================] - 12s 519ms/step - loss: 0.0394 - accuracy: 0.9913 - val_loss: 4.0817 - val_accuracy: 0.3278\n",
            "Epoch 33/50\n",
            "24/24 [==============================] - 12s 518ms/step - loss: 0.0316 - accuracy: 0.9927 - val_loss: 8.4854 - val_accuracy: 0.3306\n",
            "Epoch 34/50\n",
            "24/24 [==============================] - 15s 610ms/step - loss: 0.0038 - accuracy: 0.9986 - val_loss: 6.5846 - val_accuracy: 0.3778\n",
            "Epoch 35/50\n",
            "24/24 [==============================] - 12s 518ms/step - loss: 0.0406 - accuracy: 0.9903 - val_loss: 5.1660 - val_accuracy: 0.4389\n",
            "Epoch 36/50\n",
            "24/24 [==============================] - 12s 521ms/step - loss: 0.0173 - accuracy: 0.9976 - val_loss: 3.6094 - val_accuracy: 0.4417\n",
            "Epoch 37/50\n",
            "24/24 [==============================] - 12s 520ms/step - loss: 0.0124 - accuracy: 0.9976 - val_loss: 13.9712 - val_accuracy: 0.3278\n",
            "Epoch 38/50\n",
            "24/24 [==============================] - 12s 518ms/step - loss: 0.0421 - accuracy: 0.9924 - val_loss: 2.8915 - val_accuracy: 0.5111\n",
            "Epoch 39/50\n",
            "24/24 [==============================] - 12s 520ms/step - loss: 0.0277 - accuracy: 0.9948 - val_loss: 11.6514 - val_accuracy: 0.3306\n",
            "Epoch 40/50\n",
            "24/24 [==============================] - 12s 515ms/step - loss: 0.0096 - accuracy: 0.9972 - val_loss: 8.1877 - val_accuracy: 0.3500\n",
            "Epoch 41/50\n",
            "24/24 [==============================] - 13s 522ms/step - loss: 0.0036 - accuracy: 0.9986 - val_loss: 11.4624 - val_accuracy: 0.3250\n",
            "Epoch 42/50\n",
            "24/24 [==============================] - 13s 539ms/step - loss: 0.0274 - accuracy: 0.9920 - val_loss: 6.2991 - val_accuracy: 0.4083\n",
            "Epoch 43/50\n",
            "24/24 [==============================] - 12s 519ms/step - loss: 0.0192 - accuracy: 0.9955 - val_loss: 4.7992 - val_accuracy: 0.4917\n",
            "Epoch 44/50\n",
            "24/24 [==============================] - 12s 516ms/step - loss: 0.0318 - accuracy: 0.9937 - val_loss: 11.0662 - val_accuracy: 0.3472\n",
            "Epoch 45/50\n",
            "24/24 [==============================] - 12s 516ms/step - loss: 0.0461 - accuracy: 0.9931 - val_loss: 10.7805 - val_accuracy: 0.3444\n",
            "Epoch 46/50\n",
            "24/24 [==============================] - 12s 520ms/step - loss: 0.0135 - accuracy: 0.9955 - val_loss: 11.5014 - val_accuracy: 0.3250\n",
            "Epoch 47/50\n",
            "24/24 [==============================] - 13s 537ms/step - loss: 0.0153 - accuracy: 0.9958 - val_loss: 9.5532 - val_accuracy: 0.3278\n",
            "Epoch 48/50\n",
            "24/24 [==============================] - 12s 518ms/step - loss: 0.0476 - accuracy: 0.9931 - val_loss: 11.8966 - val_accuracy: 0.3250\n",
            "Epoch 49/50\n",
            "24/24 [==============================] - 12s 518ms/step - loss: 0.0246 - accuracy: 0.9944 - val_loss: 11.5991 - val_accuracy: 0.3250\n",
            "Epoch 50/50\n",
            "24/24 [==============================] - 12s 515ms/step - loss: 0.0306 - accuracy: 0.9934 - val_loss: 28.2280 - val_accuracy: 0.3250\n"
          ],
          "name": "stdout"
        }
      ]
    },
    {
      "cell_type": "markdown",
      "metadata": {
        "id": "7OV3ADJdqwgc",
        "colab_type": "text"
      },
      "source": [
        "#### testing the model"
      ]
    },
    {
      "cell_type": "code",
      "metadata": {
        "id": "AJhNK0O3qyni",
        "colab_type": "code",
        "outputId": "dd345d52-751f-4d15-bb8e-c84ce006ba3c",
        "colab": {
          "base_uri": "https://localhost:8080/",
          "height": 50
        }
      },
      "source": [
        "test_steps = int(len(df_test)/batch_size)\n",
        "\n",
        "metrics = few_unfrozen_resnet_model.evaluate(test_dataset,\n",
        "                   steps = test_steps)\n",
        "print(\"model accuracy:\",metrics[1])"
      ],
      "execution_count": 0,
      "outputs": [
        {
          "output_type": "stream",
          "text": [
            "3/3 [==============================] - 1s 394ms/step - loss: 29.9395 - accuracy: 0.3111\n",
            "model accuracy: 0.31111112\n"
          ],
          "name": "stdout"
        }
      ]
    },
    {
      "cell_type": "markdown",
      "metadata": {
        "colab_type": "text",
        "id": "XSf8CvddsE-S"
      },
      "source": [
        "#### plotting training"
      ]
    },
    {
      "cell_type": "code",
      "metadata": {
        "id": "Wvm3gb95D6Ip",
        "colab_type": "code",
        "outputId": "fce0a9db-970f-4fe4-cb57-50c9c18a8f59",
        "colab": {
          "base_uri": "https://localhost:8080/",
          "height": 34
        }
      },
      "source": [
        "pwd"
      ],
      "execution_count": 0,
      "outputs": [
        {
          "output_type": "execute_result",
          "data": {
            "text/plain": [
              "'/content/drive/My Drive'"
            ]
          },
          "metadata": {
            "tags": []
          },
          "execution_count": 66
        }
      ]
    },
    {
      "cell_type": "code",
      "metadata": {
        "colab_type": "code",
        "outputId": "02af0f76-ce84-4b46-8442-4f0c55e41def",
        "id": "0dq5Wl9csE-f",
        "colab": {
          "base_uri": "https://localhost:8080/",
          "height": 573
        }
      },
      "source": [
        "plot_hist(few_unfrozen_resnet50_history, 'few_unfrozen_resnet50_RMSprop')"
      ],
      "execution_count": 0,
      "outputs": [
        {
          "output_type": "display_data",
          "data": {
            "image/png": "[encoded data removed]",
            "text/plain": [
              "<Figure size 432x288 with 1 Axes>"
            ]
          },
          "metadata": {
            "tags": []
          }
        },
        {
          "output_type": "display_data",
          "data": {
            "image/png": "[encoded data removed]",
            "text/plain": [
              "<Figure size 432x288 with 1 Axes>"
            ]
          },
          "metadata": {
            "tags": []
          }
        }
      ]
    },
    {
      "cell_type": "markdown",
      "metadata": {
        "id": "LARhhZGYyTV9",
        "colab_type": "text"
      },
      "source": [
        "#### saving the history of the fitting"
      ]
    },
    {
      "cell_type": "code",
      "metadata": {
        "id": "whH3xT9KT1Ck",
        "colab_type": "code",
        "outputId": "af81233a-b443-4510-ca57-7d0516e3b88c",
        "colab": {
          "base_uri": "https://localhost:8080/",
          "height": 34
        }
      },
      "source": [
        "with open(cwd + '/trainHistoryDict/few_unfrozen_resnet50_history_RMSprop.p', 'wb') as file_pi:\n",
        "        pickle.dump(few_unfrozen_resnet50_history.history, file_pi)\n",
        "print('history saved')"
      ],
      "execution_count": 0,
      "outputs": [
        {
          "output_type": "stream",
          "text": [
            "history saved\n"
          ],
          "name": "stdout"
        }
      ]
    },
    {
      "cell_type": "markdown",
      "metadata": {
        "colab_type": "text",
        "id": "22GUAtjSraz8"
      },
      "source": [
        "## Many layers unfrozen"
      ]
    },
    {
      "cell_type": "markdown",
      "metadata": {
        "colab_type": "text",
        "id": "QAKiIPjpra0F"
      },
      "source": [
        "#### loading model"
      ]
    },
    {
      "cell_type": "code",
      "metadata": {
        "colab_type": "code",
        "id": "QCFFXBFXra0I",
        "colab": {}
      },
      "source": [
        "resnet_50 = tf.keras.applications.ResNet50(\n",
        "    include_top=False,\n",
        "    weights='imagenet',\n",
        "    input_shape=(200,200,3),\n",
        "    pooling=None\n",
        ")"
      ],
      "execution_count": 0,
      "outputs": []
    },
    {
      "cell_type": "markdown",
      "metadata": {
        "colab_type": "text",
        "id": "l8XDJ-sVra0T"
      },
      "source": [
        "#### modifying slightly"
      ]
    },
    {
      "cell_type": "code",
      "metadata": {
        "colab_type": "code",
        "id": "5a8zr3Xqra0W",
        "colab": {}
      },
      "source": [
        "x = resnet_50.output\n",
        "\n",
        "x = GlobalAveragePooling2D()(x)\n",
        "\n",
        "# let's add a fully-connected layer\n",
        "x = Dense(512, activation='relu')(x)\n",
        "\n",
        "x = Dropout(0.5)(x)\n",
        "\n",
        "#x = GlobalAveragePooling2D()(x)\n",
        "\n",
        "# let's add a fully-connected layer\n",
        "x = Dense(512, activation='relu')(x)\n",
        "\n",
        "x = Dropout(0.5)(x)\n",
        "\n",
        "# let's add a fully-connected layer\n",
        "x = Dense(512, activation='relu')(x)\n",
        "\n",
        "x = Dropout(0.5)(x)\n",
        "\n",
        "# and a logits layer -- let's say we have 3 classes\n",
        "predictions = Dense(3, activation='softmax')(x)"
      ],
      "execution_count": 0,
      "outputs": []
    },
    {
      "cell_type": "markdown",
      "metadata": {
        "colab_type": "text",
        "id": "wqxyAmXcra0k"
      },
      "source": [
        "#### creating model object"
      ]
    },
    {
      "cell_type": "code",
      "metadata": {
        "colab_type": "code",
        "id": "V28yL8gpra0n",
        "colab": {}
      },
      "source": [
        "# this is the model we will train\n",
        "many_unfrozen_resnet_model = Model(inputs=resnet_50.input, outputs=predictions)"
      ],
      "execution_count": 0,
      "outputs": []
    },
    {
      "cell_type": "code",
      "metadata": {
        "colab_type": "code",
        "outputId": "a68ed2c6-553c-4a74-d642-9531a51226a0",
        "id": "unASmwXNra0r",
        "colab": {
          "base_uri": "https://localhost:8080/",
          "height": 1000
        }
      },
      "source": [
        "for layer in resnet_50.layers:\n",
        "    print(layer.name)\n",
        "    layer.trainable = False"
      ],
      "execution_count": 0,
      "outputs": [
        {
          "output_type": "stream",
          "text": [
            "input_4\n",
            "conv1_pad\n",
            "conv1_conv\n",
            "conv1_bn\n",
            "conv1_relu\n",
            "pool1_pad\n",
            "pool1_pool\n",
            "conv2_block1_1_conv\n",
            "conv2_block1_1_bn\n",
            "conv2_block1_1_relu\n",
            "conv2_block1_2_conv\n",
            "conv2_block1_2_bn\n",
            "conv2_block1_2_relu\n",
            "conv2_block1_0_conv\n",
            "conv2_block1_3_conv\n",
            "conv2_block1_0_bn\n",
            "conv2_block1_3_bn\n",
            "conv2_block1_add\n",
            "conv2_block1_out\n",
            "conv2_block2_1_conv\n",
            "conv2_block2_1_bn\n",
            "conv2_block2_1_relu\n",
            "conv2_block2_2_conv\n",
            "conv2_block2_2_bn\n",
            "conv2_block2_2_relu\n",
            "conv2_block2_3_conv\n",
            "conv2_block2_3_bn\n",
            "conv2_block2_add\n",
            "conv2_block2_out\n",
            "conv2_block3_1_conv\n",
            "conv2_block3_1_bn\n",
            "conv2_block3_1_relu\n",
            "conv2_block3_2_conv\n",
            "conv2_block3_2_bn\n",
            "conv2_block3_2_relu\n",
            "conv2_block3_3_conv\n",
            "conv2_block3_3_bn\n",
            "conv2_block3_add\n",
            "conv2_block3_out\n",
            "conv3_block1_1_conv\n",
            "conv3_block1_1_bn\n",
            "conv3_block1_1_relu\n",
            "conv3_block1_2_conv\n",
            "conv3_block1_2_bn\n",
            "conv3_block1_2_relu\n",
            "conv3_block1_0_conv\n",
            "conv3_block1_3_conv\n",
            "conv3_block1_0_bn\n",
            "conv3_block1_3_bn\n",
            "conv3_block1_add\n",
            "conv3_block1_out\n",
            "conv3_block2_1_conv\n",
            "conv3_block2_1_bn\n",
            "conv3_block2_1_relu\n",
            "conv3_block2_2_conv\n",
            "conv3_block2_2_bn\n",
            "conv3_block2_2_relu\n",
            "conv3_block2_3_conv\n",
            "conv3_block2_3_bn\n",
            "conv3_block2_add\n",
            "conv3_block2_out\n",
            "conv3_block3_1_conv\n",
            "conv3_block3_1_bn\n",
            "conv3_block3_1_relu\n",
            "conv3_block3_2_conv\n",
            "conv3_block3_2_bn\n",
            "conv3_block3_2_relu\n",
            "conv3_block3_3_conv\n",
            "conv3_block3_3_bn\n",
            "conv3_block3_add\n",
            "conv3_block3_out\n",
            "conv3_block4_1_conv\n",
            "conv3_block4_1_bn\n",
            "conv3_block4_1_relu\n",
            "conv3_block4_2_conv\n",
            "conv3_block4_2_bn\n",
            "conv3_block4_2_relu\n",
            "conv3_block4_3_conv\n",
            "conv3_block4_3_bn\n",
            "conv3_block4_add\n",
            "conv3_block4_out\n",
            "conv4_block1_1_conv\n",
            "conv4_block1_1_bn\n",
            "conv4_block1_1_relu\n",
            "conv4_block1_2_conv\n",
            "conv4_block1_2_bn\n",
            "conv4_block1_2_relu\n",
            "conv4_block1_0_conv\n",
            "conv4_block1_3_conv\n",
            "conv4_block1_0_bn\n",
            "conv4_block1_3_bn\n",
            "conv4_block1_add\n",
            "conv4_block1_out\n",
            "conv4_block2_1_conv\n",
            "conv4_block2_1_bn\n",
            "conv4_block2_1_relu\n",
            "conv4_block2_2_conv\n",
            "conv4_block2_2_bn\n",
            "conv4_block2_2_relu\n",
            "conv4_block2_3_conv\n",
            "conv4_block2_3_bn\n",
            "conv4_block2_add\n",
            "conv4_block2_out\n",
            "conv4_block3_1_conv\n",
            "conv4_block3_1_bn\n",
            "conv4_block3_1_relu\n",
            "conv4_block3_2_conv\n",
            "conv4_block3_2_bn\n",
            "conv4_block3_2_relu\n",
            "conv4_block3_3_conv\n",
            "conv4_block3_3_bn\n",
            "conv4_block3_add\n",
            "conv4_block3_out\n",
            "conv4_block4_1_conv\n",
            "conv4_block4_1_bn\n",
            "conv4_block4_1_relu\n",
            "conv4_block4_2_conv\n",
            "conv4_block4_2_bn\n",
            "conv4_block4_2_relu\n",
            "conv4_block4_3_conv\n",
            "conv4_block4_3_bn\n",
            "conv4_block4_add\n",
            "conv4_block4_out\n",
            "conv4_block5_1_conv\n",
            "conv4_block5_1_bn\n",
            "conv4_block5_1_relu\n",
            "conv4_block5_2_conv\n",
            "conv4_block5_2_bn\n",
            "conv4_block5_2_relu\n",
            "conv4_block5_3_conv\n",
            "conv4_block5_3_bn\n",
            "conv4_block5_add\n",
            "conv4_block5_out\n",
            "conv4_block6_1_conv\n",
            "conv4_block6_1_bn\n",
            "conv4_block6_1_relu\n",
            "conv4_block6_2_conv\n",
            "conv4_block6_2_bn\n",
            "conv4_block6_2_relu\n",
            "conv4_block6_3_conv\n",
            "conv4_block6_3_bn\n",
            "conv4_block6_add\n",
            "conv4_block6_out\n",
            "conv5_block1_1_conv\n",
            "conv5_block1_1_bn\n",
            "conv5_block1_1_relu\n",
            "conv5_block1_2_conv\n",
            "conv5_block1_2_bn\n",
            "conv5_block1_2_relu\n",
            "conv5_block1_0_conv\n",
            "conv5_block1_3_conv\n",
            "conv5_block1_0_bn\n",
            "conv5_block1_3_bn\n",
            "conv5_block1_add\n",
            "conv5_block1_out\n",
            "conv5_block2_1_conv\n",
            "conv5_block2_1_bn\n",
            "conv5_block2_1_relu\n",
            "conv5_block2_2_conv\n",
            "conv5_block2_2_bn\n",
            "conv5_block2_2_relu\n",
            "conv5_block2_3_conv\n",
            "conv5_block2_3_bn\n",
            "conv5_block2_add\n",
            "conv5_block2_out\n",
            "conv5_block3_1_conv\n",
            "conv5_block3_1_bn\n",
            "conv5_block3_1_relu\n",
            "conv5_block3_2_conv\n",
            "conv5_block3_2_bn\n",
            "conv5_block3_2_relu\n",
            "conv5_block3_3_conv\n",
            "conv5_block3_3_bn\n",
            "conv5_block3_add\n",
            "conv5_block3_out\n"
          ],
          "name": "stdout"
        }
      ]
    },
    {
      "cell_type": "code",
      "metadata": {
        "colab_type": "code",
        "id": "LEWRmERora0w",
        "outputId": "a88aabf5-6cf3-4c48-cdfe-e7d598cfed79",
        "colab": {
          "base_uri": "https://localhost:8080/",
          "height": 34
        }
      },
      "source": [
        "many_unfrozen_resnet_model.trainable = True\n",
        "trainable_count = 0\n",
        "\n",
        "set_trainable = False\n",
        "\n",
        "\n",
        "for layer in many_unfrozen_resnet_model.layers:\n",
        "    if layer.name == 'conv3_block2_1_conv':\n",
        "        set_trainable = True\n",
        "    if set_trainable:\n",
        "        layer.trainable = True\n",
        "        trainable_count += 1\n",
        "    else:\n",
        "        layer.trainable = False\n",
        "\n",
        "print('percent unfrozen:', trainable_count/ len(resnet_50.layers) * 100 , '%')"
      ],
      "execution_count": 0,
      "outputs": [
        {
          "output_type": "stream",
          "text": [
            "percent unfrozen: 75.42857142857143 %\n"
          ],
          "name": "stdout"
        }
      ]
    },
    {
      "cell_type": "code",
      "metadata": {
        "colab_type": "code",
        "outputId": "e9bbcfc6-2137-483d-ee86-dc6cd7c19afa",
        "id": "zOYnK1S2ra0y",
        "colab": {
          "base_uri": "https://localhost:8080/",
          "height": 1000
        }
      },
      "source": [
        "for layer in many_unfrozen_resnet_model.layers:\n",
        "    print(layer.name,layer.trainable)"
      ],
      "execution_count": 0,
      "outputs": [
        {
          "output_type": "stream",
          "text": [
            "input_4 False\n",
            "conv1_pad False\n",
            "conv1_conv False\n",
            "conv1_bn False\n",
            "conv1_relu False\n",
            "pool1_pad False\n",
            "pool1_pool False\n",
            "conv2_block1_1_conv False\n",
            "conv2_block1_1_bn False\n",
            "conv2_block1_1_relu False\n",
            "conv2_block1_2_conv False\n",
            "conv2_block1_2_bn False\n",
            "conv2_block1_2_relu False\n",
            "conv2_block1_0_conv False\n",
            "conv2_block1_3_conv False\n",
            "conv2_block1_0_bn False\n",
            "conv2_block1_3_bn False\n",
            "conv2_block1_add False\n",
            "conv2_block1_out False\n",
            "conv2_block2_1_conv False\n",
            "conv2_block2_1_bn False\n",
            "conv2_block2_1_relu False\n",
            "conv2_block2_2_conv False\n",
            "conv2_block2_2_bn False\n",
            "conv2_block2_2_relu False\n",
            "conv2_block2_3_conv False\n",
            "conv2_block2_3_bn False\n",
            "conv2_block2_add False\n",
            "conv2_block2_out False\n",
            "conv2_block3_1_conv False\n",
            "conv2_block3_1_bn False\n",
            "conv2_block3_1_relu False\n",
            "conv2_block3_2_conv False\n",
            "conv2_block3_2_bn False\n",
            "conv2_block3_2_relu False\n",
            "conv2_block3_3_conv False\n",
            "conv2_block3_3_bn False\n",
            "conv2_block3_add False\n",
            "conv2_block3_out False\n",
            "conv3_block1_1_conv False\n",
            "conv3_block1_1_bn False\n",
            "conv3_block1_1_relu False\n",
            "conv3_block1_2_conv False\n",
            "conv3_block1_2_bn False\n",
            "conv3_block1_2_relu False\n",
            "conv3_block1_0_conv False\n",
            "conv3_block1_3_conv False\n",
            "conv3_block1_0_bn False\n",
            "conv3_block1_3_bn False\n",
            "conv3_block1_add False\n",
            "conv3_block1_out False\n",
            "conv3_block2_1_conv True\n",
            "conv3_block2_1_bn True\n",
            "conv3_block2_1_relu True\n",
            "conv3_block2_2_conv True\n",
            "conv3_block2_2_bn True\n",
            "conv3_block2_2_relu True\n",
            "conv3_block2_3_conv True\n",
            "conv3_block2_3_bn True\n",
            "conv3_block2_add True\n",
            "conv3_block2_out True\n",
            "conv3_block3_1_conv True\n",
            "conv3_block3_1_bn True\n",
            "conv3_block3_1_relu True\n",
            "conv3_block3_2_conv True\n",
            "conv3_block3_2_bn True\n",
            "conv3_block3_2_relu True\n",
            "conv3_block3_3_conv True\n",
            "conv3_block3_3_bn True\n",
            "conv3_block3_add True\n",
            "conv3_block3_out True\n",
            "conv3_block4_1_conv True\n",
            "conv3_block4_1_bn True\n",
            "conv3_block4_1_relu True\n",
            "conv3_block4_2_conv True\n",
            "conv3_block4_2_bn True\n",
            "conv3_block4_2_relu True\n",
            "conv3_block4_3_conv True\n",
            "conv3_block4_3_bn True\n",
            "conv3_block4_add True\n",
            "conv3_block4_out True\n",
            "conv4_block1_1_conv True\n",
            "conv4_block1_1_bn True\n",
            "conv4_block1_1_relu True\n",
            "conv4_block1_2_conv True\n",
            "conv4_block1_2_bn True\n",
            "conv4_block1_2_relu True\n",
            "conv4_block1_0_conv True\n",
            "conv4_block1_3_conv True\n",
            "conv4_block1_0_bn True\n",
            "conv4_block1_3_bn True\n",
            "conv4_block1_add True\n",
            "conv4_block1_out True\n",
            "conv4_block2_1_conv True\n",
            "conv4_block2_1_bn True\n",
            "conv4_block2_1_relu True\n",
            "conv4_block2_2_conv True\n",
            "conv4_block2_2_bn True\n",
            "conv4_block2_2_relu True\n",
            "conv4_block2_3_conv True\n",
            "conv4_block2_3_bn True\n",
            "conv4_block2_add True\n",
            "conv4_block2_out True\n",
            "conv4_block3_1_conv True\n",
            "conv4_block3_1_bn True\n",
            "conv4_block3_1_relu True\n",
            "conv4_block3_2_conv True\n",
            "conv4_block3_2_bn True\n",
            "conv4_block3_2_relu True\n",
            "conv4_block3_3_conv True\n",
            "conv4_block3_3_bn True\n",
            "conv4_block3_add True\n",
            "conv4_block3_out True\n",
            "conv4_block4_1_conv True\n",
            "conv4_block4_1_bn True\n",
            "conv4_block4_1_relu True\n",
            "conv4_block4_2_conv True\n",
            "conv4_block4_2_bn True\n",
            "conv4_block4_2_relu True\n",
            "conv4_block4_3_conv True\n",
            "conv4_block4_3_bn True\n",
            "conv4_block4_add True\n",
            "conv4_block4_out True\n",
            "conv4_block5_1_conv True\n",
            "conv4_block5_1_bn True\n",
            "conv4_block5_1_relu True\n",
            "conv4_block5_2_conv True\n",
            "conv4_block5_2_bn True\n",
            "conv4_block5_2_relu True\n",
            "conv4_block5_3_conv True\n",
            "conv4_block5_3_bn True\n",
            "conv4_block5_add True\n",
            "conv4_block5_out True\n",
            "conv4_block6_1_conv True\n",
            "conv4_block6_1_bn True\n",
            "conv4_block6_1_relu True\n",
            "conv4_block6_2_conv True\n",
            "conv4_block6_2_bn True\n",
            "conv4_block6_2_relu True\n",
            "conv4_block6_3_conv True\n",
            "conv4_block6_3_bn True\n",
            "conv4_block6_add True\n",
            "conv4_block6_out True\n",
            "conv5_block1_1_conv True\n",
            "conv5_block1_1_bn True\n",
            "conv5_block1_1_relu True\n",
            "conv5_block1_2_conv True\n",
            "conv5_block1_2_bn True\n",
            "conv5_block1_2_relu True\n",
            "conv5_block1_0_conv True\n",
            "conv5_block1_3_conv True\n",
            "conv5_block1_0_bn True\n",
            "conv5_block1_3_bn True\n",
            "conv5_block1_add True\n",
            "conv5_block1_out True\n",
            "conv5_block2_1_conv True\n",
            "conv5_block2_1_bn True\n",
            "conv5_block2_1_relu True\n",
            "conv5_block2_2_conv True\n",
            "conv5_block2_2_bn True\n",
            "conv5_block2_2_relu True\n",
            "conv5_block2_3_conv True\n",
            "conv5_block2_3_bn True\n",
            "conv5_block2_add True\n",
            "conv5_block2_out True\n",
            "conv5_block3_1_conv True\n",
            "conv5_block3_1_bn True\n",
            "conv5_block3_1_relu True\n",
            "conv5_block3_2_conv True\n",
            "conv5_block3_2_bn True\n",
            "conv5_block3_2_relu True\n",
            "conv5_block3_3_conv True\n",
            "conv5_block3_3_bn True\n",
            "conv5_block3_add True\n",
            "conv5_block3_out True\n",
            "global_average_pooling2d_3 True\n",
            "dense_12 True\n",
            "dropout_9 True\n",
            "dense_13 True\n",
            "dropout_10 True\n",
            "dense_14 True\n",
            "dropout_11 True\n",
            "dense_15 True\n"
          ],
          "name": "stdout"
        }
      ]
    },
    {
      "cell_type": "code",
      "metadata": {
        "colab_type": "code",
        "id": "0kacZQ9-ra03",
        "colab": {}
      },
      "source": [
        "opt = tf.keras.optimizers.RMSprop(lr=1e-4)\n",
        "# compile the model (should be done *after* setting layers to non-trainable)\n",
        "many_unfrozen_resnet_model.compile(optimizer=opt, loss='categorical_crossentropy',metrics=['accuracy'])"
      ],
      "execution_count": 0,
      "outputs": []
    },
    {
      "cell_type": "markdown",
      "metadata": {
        "colab_type": "text",
        "id": "RCwT3xSWra06"
      },
      "source": [
        "#### fitting the model"
      ]
    },
    {
      "cell_type": "code",
      "metadata": {
        "colab_type": "code",
        "outputId": "f28c96a5-07c2-4db0-af83-6d065ca3d7e8",
        "id": "yUzNFBPrra07",
        "colab": {
          "base_uri": "https://localhost:8080/",
          "height": 1000
        }
      },
      "source": [
        "train_steps = int(len(df_train)/batch_size) #total trains set / batch_size\n",
        "val_steps = int(len(df_val)/batch_size)\n",
        "\n",
        "print('train steps:',train_steps)\n",
        "print('val steps:',val_steps)\n",
        "\n",
        "epochs = 50\n",
        "\n",
        "\n",
        "model_filepath = 'CMS/many_unfrozen_resnet50_RMSprop.h5'\n",
        "mcp = ModelCheckpoint(model_filepath, monitor='accuracy', save_best_only=True, mode='max')\n",
        "\n",
        "# Train the model with validation \n",
        "\n",
        "many_unfrozen_resnet50_history = many_unfrozen_resnet_model.fit( train_dataset, steps_per_epoch = train_steps,\n",
        "                   epochs = epochs,\n",
        "                   validation_data = valid_dataset,\n",
        "                   validation_steps = val_steps,\n",
        "                   callbacks=[mcp])"
      ],
      "execution_count": 0,
      "outputs": [
        {
          "output_type": "stream",
          "text": [
            "train steps: 24\n",
            "val steps: 3\n",
            "Train for 24 steps, validate for 3 steps\n",
            "Epoch 1/50\n",
            "24/24 [==============================] - 25s 1s/step - loss: 0.8305 - accuracy: 0.6153 - val_loss: 1.0167 - val_accuracy: 0.4583\n",
            "Epoch 2/50\n",
            "24/24 [==============================] - 19s 774ms/step - loss: 0.5818 - accuracy: 0.7476 - val_loss: 0.8698 - val_accuracy: 0.5278\n",
            "Epoch 3/50\n",
            "24/24 [==============================] - 18s 758ms/step - loss: 0.4748 - accuracy: 0.7913 - val_loss: 1.4566 - val_accuracy: 0.3861\n",
            "Epoch 4/50\n",
            "24/24 [==============================] - 18s 757ms/step - loss: 0.4268 - accuracy: 0.8139 - val_loss: 3.5525 - val_accuracy: 0.3722\n",
            "Epoch 5/50\n",
            "24/24 [==============================] - 18s 765ms/step - loss: 0.3580 - accuracy: 0.8340 - val_loss: 1.1549 - val_accuracy: 0.6194\n",
            "Epoch 6/50\n",
            "24/24 [==============================] - 19s 776ms/step - loss: 0.3028 - accuracy: 0.8646 - val_loss: 0.9912 - val_accuracy: 0.5944\n",
            "Epoch 7/50\n",
            "24/24 [==============================] - 18s 767ms/step - loss: 0.2339 - accuracy: 0.8927 - val_loss: 0.9027 - val_accuracy: 0.5333\n",
            "Epoch 8/50\n",
            "24/24 [==============================] - 18s 764ms/step - loss: 0.2068 - accuracy: 0.9125 - val_loss: 3.6993 - val_accuracy: 0.3889\n",
            "Epoch 9/50\n",
            "24/24 [==============================] - 18s 762ms/step - loss: 0.1480 - accuracy: 0.9462 - val_loss: 5.5699 - val_accuracy: 0.4556\n",
            "Epoch 10/50\n",
            "24/24 [==============================] - 18s 762ms/step - loss: 0.1349 - accuracy: 0.9479 - val_loss: 1.3126 - val_accuracy: 0.6472\n",
            "Epoch 11/50\n",
            "24/24 [==============================] - 18s 763ms/step - loss: 0.0989 - accuracy: 0.9635 - val_loss: 3.5699 - val_accuracy: 0.4194\n",
            "Epoch 12/50\n",
            "24/24 [==============================] - 18s 764ms/step - loss: 0.1013 - accuracy: 0.9681 - val_loss: 14.4555 - val_accuracy: 0.3667\n",
            "Epoch 13/50\n",
            "24/24 [==============================] - 19s 776ms/step - loss: 0.0950 - accuracy: 0.9691 - val_loss: 12.4427 - val_accuracy: 0.3833\n",
            "Epoch 14/50\n",
            "24/24 [==============================] - 18s 771ms/step - loss: 0.0731 - accuracy: 0.9792 - val_loss: 14.7723 - val_accuracy: 0.3167\n",
            "Epoch 15/50\n",
            "24/24 [==============================] - 16s 675ms/step - loss: 0.0781 - accuracy: 0.9736 - val_loss: 9.8090 - val_accuracy: 0.3583\n",
            "Epoch 16/50\n",
            "24/24 [==============================] - 16s 669ms/step - loss: 0.0935 - accuracy: 0.9753 - val_loss: 21.0805 - val_accuracy: 0.3361\n",
            "Epoch 17/50\n",
            "24/24 [==============================] - 18s 769ms/step - loss: 0.0606 - accuracy: 0.9809 - val_loss: 17.9216 - val_accuracy: 0.3361\n",
            "Epoch 18/50\n",
            "24/24 [==============================] - 16s 678ms/step - loss: 0.0653 - accuracy: 0.9795 - val_loss: 48.2002 - val_accuracy: 0.3111\n",
            "Epoch 19/50\n",
            "24/24 [==============================] - 18s 768ms/step - loss: 0.0553 - accuracy: 0.9830 - val_loss: 36.5506 - val_accuracy: 0.3306\n",
            "Epoch 20/50\n",
            "24/24 [==============================] - 18s 764ms/step - loss: 0.0541 - accuracy: 0.9844 - val_loss: 50.9954 - val_accuracy: 0.3111\n",
            "Epoch 21/50\n",
            "24/24 [==============================] - 16s 675ms/step - loss: 0.0879 - accuracy: 0.9802 - val_loss: 28.7099 - val_accuracy: 0.3250\n",
            "Epoch 22/50\n",
            "24/24 [==============================] - 19s 772ms/step - loss: 0.0462 - accuracy: 0.9892 - val_loss: 12.3819 - val_accuracy: 0.3389\n",
            "Epoch 23/50\n",
            "24/24 [==============================] - 16s 674ms/step - loss: 0.0543 - accuracy: 0.9833 - val_loss: 25.5662 - val_accuracy: 0.3222\n",
            "Epoch 24/50\n",
            "24/24 [==============================] - 19s 775ms/step - loss: 0.0410 - accuracy: 0.9899 - val_loss: 30.6553 - val_accuracy: 0.3167\n",
            "Epoch 25/50\n",
            "24/24 [==============================] - 16s 674ms/step - loss: 0.0549 - accuracy: 0.9858 - val_loss: 21.7605 - val_accuracy: 0.3194\n",
            "Epoch 26/50\n",
            "24/24 [==============================] - 16s 667ms/step - loss: 0.0521 - accuracy: 0.9830 - val_loss: 43.5542 - val_accuracy: 0.3111\n",
            "Epoch 27/50\n",
            "24/24 [==============================] - 16s 682ms/step - loss: 0.0448 - accuracy: 0.9892 - val_loss: 29.9910 - val_accuracy: 0.3333\n",
            "Epoch 28/50\n",
            "24/24 [==============================] - 16s 667ms/step - loss: 0.0409 - accuracy: 0.9885 - val_loss: 21.4330 - val_accuracy: 0.3111\n",
            "Epoch 29/50\n",
            "24/24 [==============================] - 18s 767ms/step - loss: 0.0431 - accuracy: 0.9903 - val_loss: 40.8181 - val_accuracy: 0.3389\n",
            "Epoch 30/50\n",
            "24/24 [==============================] - 16s 669ms/step - loss: 0.0436 - accuracy: 0.9889 - val_loss: 8.4678 - val_accuracy: 0.5389\n",
            "Epoch 31/50\n",
            "24/24 [==============================] - 16s 664ms/step - loss: 0.0399 - accuracy: 0.9899 - val_loss: 32.8864 - val_accuracy: 0.3111\n",
            "Epoch 32/50\n",
            "24/24 [==============================] - 16s 685ms/step - loss: 0.0455 - accuracy: 0.9892 - val_loss: 24.1214 - val_accuracy: 0.3444\n",
            "Epoch 33/50\n",
            "24/24 [==============================] - 16s 665ms/step - loss: 0.0643 - accuracy: 0.9865 - val_loss: 20.9487 - val_accuracy: 0.5778\n",
            "Epoch 34/50\n",
            "24/24 [==============================] - 19s 785ms/step - loss: 0.0270 - accuracy: 0.9937 - val_loss: 25.8982 - val_accuracy: 0.3278\n",
            "Epoch 35/50\n",
            "24/24 [==============================] - 16s 664ms/step - loss: 0.0260 - accuracy: 0.9913 - val_loss: 13.2526 - val_accuracy: 0.3583\n",
            "Epoch 36/50\n",
            "24/24 [==============================] - 16s 662ms/step - loss: 0.0678 - accuracy: 0.9837 - val_loss: 16.6024 - val_accuracy: 0.3528\n",
            "Epoch 37/50\n",
            "24/24 [==============================] - 18s 761ms/step - loss: 0.0256 - accuracy: 0.9941 - val_loss: 9.6298 - val_accuracy: 0.6194\n",
            "Epoch 38/50\n",
            "24/24 [==============================] - 16s 673ms/step - loss: 0.0530 - accuracy: 0.9858 - val_loss: 49.6627 - val_accuracy: 0.3167\n",
            "Epoch 39/50\n",
            "24/24 [==============================] - 16s 652ms/step - loss: 0.0467 - accuracy: 0.9903 - val_loss: 22.2792 - val_accuracy: 0.5806\n",
            "Epoch 40/50\n",
            "24/24 [==============================] - 18s 760ms/step - loss: 0.0192 - accuracy: 0.9944 - val_loss: 31.4010 - val_accuracy: 0.3611\n",
            "Epoch 41/50\n",
            "24/24 [==============================] - 16s 673ms/step - loss: 0.0499 - accuracy: 0.9882 - val_loss: 12.7259 - val_accuracy: 0.5861\n",
            "Epoch 42/50\n",
            "24/24 [==============================] - 18s 757ms/step - loss: 0.0309 - accuracy: 0.9948 - val_loss: 2.6789 - val_accuracy: 0.5639\n",
            "Epoch 43/50\n",
            "24/24 [==============================] - 19s 785ms/step - loss: 0.0222 - accuracy: 0.9958 - val_loss: 43.4433 - val_accuracy: 0.4139\n",
            "Epoch 44/50\n",
            "24/24 [==============================] - 16s 669ms/step - loss: 0.0507 - accuracy: 0.9878 - val_loss: 16.9188 - val_accuracy: 0.5500\n",
            "Epoch 45/50\n",
            "24/24 [==============================] - 16s 683ms/step - loss: 0.0193 - accuracy: 0.9937 - val_loss: 4.2190 - val_accuracy: 0.4361\n",
            "Epoch 46/50\n",
            "24/24 [==============================] - 16s 667ms/step - loss: 0.0467 - accuracy: 0.9872 - val_loss: 12.2103 - val_accuracy: 0.5778\n",
            "Epoch 47/50\n",
            "24/24 [==============================] - 16s 667ms/step - loss: 0.0362 - accuracy: 0.9892 - val_loss: 17.3059 - val_accuracy: 0.5139\n",
            "Epoch 48/50\n",
            "24/24 [==============================] - 16s 673ms/step - loss: 0.0239 - accuracy: 0.9920 - val_loss: 35.0754 - val_accuracy: 0.3111\n",
            "Epoch 49/50\n",
            "24/24 [==============================] - 16s 673ms/step - loss: 0.0247 - accuracy: 0.9955 - val_loss: 59.9526 - val_accuracy: 0.3111\n",
            "Epoch 50/50\n",
            "24/24 [==============================] - 16s 672ms/step - loss: 0.0374 - accuracy: 0.9927 - val_loss: 38.4629 - val_accuracy: 0.3111\n"
          ],
          "name": "stdout"
        }
      ]
    },
    {
      "cell_type": "markdown",
      "metadata": {
        "colab_type": "text",
        "id": "Zt-oQh62ra0_"
      },
      "source": [
        "#### testing the model"
      ]
    },
    {
      "cell_type": "code",
      "metadata": {
        "colab_type": "code",
        "outputId": "df433d93-acaa-43a1-99db-f0b5f234a311",
        "id": "Fl68CpSdra1A",
        "colab": {
          "base_uri": "https://localhost:8080/",
          "height": 50
        }
      },
      "source": [
        "test_steps = int(len(df_test)/batch_size)\n",
        "\n",
        "metrics = many_unfrozen_resnet_model.evaluate(test_dataset,\n",
        "                   steps = test_steps)\n",
        "print(\"model accuracy:\",metrics[1])"
      ],
      "execution_count": 0,
      "outputs": [
        {
          "output_type": "stream",
          "text": [
            "3/3 [==============================] - 1s 420ms/step - loss: 34.0991 - accuracy: 0.4028\n",
            "model accuracy: 0.4027778\n"
          ],
          "name": "stdout"
        }
      ]
    },
    {
      "cell_type": "markdown",
      "metadata": {
        "colab_type": "text",
        "id": "28sBerOlyTh9"
      },
      "source": [
        "#### plotting training"
      ]
    },
    {
      "cell_type": "code",
      "metadata": {
        "colab_type": "code",
        "outputId": "c0dbdb8a-3dd3-4607-efe9-9993f33092c5",
        "id": "CUvVwNJRyTiC",
        "colab": {
          "base_uri": "https://localhost:8080/",
          "height": 573
        }
      },
      "source": [
        "plot_hist(many_unfrozen_resnet50_history, 'many_unfrozen_resnet50_RMSprop')"
      ],
      "execution_count": 0,
      "outputs": [
        {
          "output_type": "display_data",
          "data": {
            "image/png": "[encoded data removed]",
            "text/plain": [
              "<Figure size 432x288 with 1 Axes>"
            ]
          },
          "metadata": {
            "tags": []
          }
        },
        {
          "output_type": "display_data",
          "data": {
            "image/png": "[encoded data removed]",
            "text/plain": [
              "<Figure size 432x288 with 1 Axes>"
            ]
          },
          "metadata": {
            "tags": []
          }
        }
      ]
    },
    {
      "cell_type": "markdown",
      "metadata": {
        "colab_type": "text",
        "id": "HbIQBb3zra1D"
      },
      "source": [
        "#### saving the history of the fitting"
      ]
    },
    {
      "cell_type": "code",
      "metadata": {
        "colab_type": "code",
        "outputId": "8910ffc4-ac3b-47a3-e2ec-fb45772b04f4",
        "id": "GpwbYJB5ra1D",
        "colab": {
          "base_uri": "https://localhost:8080/",
          "height": 34
        }
      },
      "source": [
        "with open(cwd + '/trainHistoryDict/many_unfrozen_resnet50_history_RMSprop.p', 'wb') as file_pi:\n",
        "        pickle.dump(many_unfrozen_resnet50_history.history, file_pi)\n",
        "print('history saved')"
      ],
      "execution_count": 0,
      "outputs": [
        {
          "output_type": "stream",
          "text": [
            "history saved\n"
          ],
          "name": "stdout"
        }
      ]
    },
    {
      "cell_type": "code",
      "metadata": {
        "id": "KC-jGyHnrTh9",
        "colab_type": "code",
        "colab": {}
      },
      "source": [
        ""
      ],
      "execution_count": 0,
      "outputs": []
    },
    {
      "cell_type": "markdown",
      "metadata": {
        "id": "WdsCsXkOu7mF",
        "colab_type": "text"
      },
      "source": [
        "## entirely unfrozen"
      ]
    },
    {
      "cell_type": "code",
      "metadata": {
        "colab_type": "code",
        "id": "FrR6YujPvAhK",
        "colab": {}
      },
      "source": [
        "resnet_50 = tf.keras.applications.ResNet50(\n",
        "    include_top=False,\n",
        "    weights='imagenet',\n",
        "    input_shape=(200,200,3),\n",
        "    pooling=None\n",
        ")"
      ],
      "execution_count": 0,
      "outputs": []
    },
    {
      "cell_type": "markdown",
      "metadata": {
        "colab_type": "text",
        "id": "AErdeAAY1rsN"
      },
      "source": [
        "#### modifying slightly"
      ]
    },
    {
      "cell_type": "code",
      "metadata": {
        "colab_type": "code",
        "id": "7-OTdP3-1rsT",
        "colab": {}
      },
      "source": [
        "x = resnet_50.output\n",
        "\n",
        "x = GlobalAveragePooling2D()(x)\n",
        "\n",
        "# let's add a fully-connected layer\n",
        "x = Dense(512, activation='relu')(x)\n",
        "\n",
        "x = Dropout(0.5)(x)\n",
        "\n",
        "#x = GlobalAveragePooling2D()(x)\n",
        "\n",
        "# let's add a fully-connected layer\n",
        "x = Dense(512, activation='relu')(x)\n",
        "\n",
        "x = Dropout(0.5)(x)\n",
        "\n",
        "# let's add a fully-connected layer\n",
        "x = Dense(512, activation='relu')(x)\n",
        "\n",
        "x = Dropout(0.5)(x)\n",
        "\n",
        "# and a logits layer -- let's say we have 3 classes\n",
        "predictions = Dense(3, activation='softmax')(x)"
      ],
      "execution_count": 0,
      "outputs": []
    },
    {
      "cell_type": "markdown",
      "metadata": {
        "id": "UDrRFGzn1z61",
        "colab_type": "text"
      },
      "source": [
        "#### creating model object"
      ]
    },
    {
      "cell_type": "code",
      "metadata": {
        "id": "lstePI_NvN-5",
        "colab_type": "code",
        "colab": {}
      },
      "source": [
        "# this is the model we will train\n",
        "unfrozen_resnet50_model = Model(inputs=resnet_50.input, outputs=predictions)"
      ],
      "execution_count": 0,
      "outputs": []
    },
    {
      "cell_type": "code",
      "metadata": {
        "id": "1DulDS0ovX2h",
        "colab_type": "code",
        "outputId": "9cd6ef45-5355-41a8-d6e8-30d9fea48634",
        "colab": {
          "base_uri": "https://localhost:8080/",
          "height": 1000
        }
      },
      "source": [
        "for layer in unfrozen_resnet50_model.layers:\n",
        "    print(layer.name)\n",
        "    layer.trainable = True"
      ],
      "execution_count": 0,
      "outputs": [
        {
          "output_type": "stream",
          "text": [
            "input_5\n",
            "conv1_pad\n",
            "conv1_conv\n",
            "conv1_bn\n",
            "conv1_relu\n",
            "pool1_pad\n",
            "pool1_pool\n",
            "conv2_block1_1_conv\n",
            "conv2_block1_1_bn\n",
            "conv2_block1_1_relu\n",
            "conv2_block1_2_conv\n",
            "conv2_block1_2_bn\n",
            "conv2_block1_2_relu\n",
            "conv2_block1_0_conv\n",
            "conv2_block1_3_conv\n",
            "conv2_block1_0_bn\n",
            "conv2_block1_3_bn\n",
            "conv2_block1_add\n",
            "conv2_block1_out\n",
            "conv2_block2_1_conv\n",
            "conv2_block2_1_bn\n",
            "conv2_block2_1_relu\n",
            "conv2_block2_2_conv\n",
            "conv2_block2_2_bn\n",
            "conv2_block2_2_relu\n",
            "conv2_block2_3_conv\n",
            "conv2_block2_3_bn\n",
            "conv2_block2_add\n",
            "conv2_block2_out\n",
            "conv2_block3_1_conv\n",
            "conv2_block3_1_bn\n",
            "conv2_block3_1_relu\n",
            "conv2_block3_2_conv\n",
            "conv2_block3_2_bn\n",
            "conv2_block3_2_relu\n",
            "conv2_block3_3_conv\n",
            "conv2_block3_3_bn\n",
            "conv2_block3_add\n",
            "conv2_block3_out\n",
            "conv3_block1_1_conv\n",
            "conv3_block1_1_bn\n",
            "conv3_block1_1_relu\n",
            "conv3_block1_2_conv\n",
            "conv3_block1_2_bn\n",
            "conv3_block1_2_relu\n",
            "conv3_block1_0_conv\n",
            "conv3_block1_3_conv\n",
            "conv3_block1_0_bn\n",
            "conv3_block1_3_bn\n",
            "conv3_block1_add\n",
            "conv3_block1_out\n",
            "conv3_block2_1_conv\n",
            "conv3_block2_1_bn\n",
            "conv3_block2_1_relu\n",
            "conv3_block2_2_conv\n",
            "conv3_block2_2_bn\n",
            "conv3_block2_2_relu\n",
            "conv3_block2_3_conv\n",
            "conv3_block2_3_bn\n",
            "conv3_block2_add\n",
            "conv3_block2_out\n",
            "conv3_block3_1_conv\n",
            "conv3_block3_1_bn\n",
            "conv3_block3_1_relu\n",
            "conv3_block3_2_conv\n",
            "conv3_block3_2_bn\n",
            "conv3_block3_2_relu\n",
            "conv3_block3_3_conv\n",
            "conv3_block3_3_bn\n",
            "conv3_block3_add\n",
            "conv3_block3_out\n",
            "conv3_block4_1_conv\n",
            "conv3_block4_1_bn\n",
            "conv3_block4_1_relu\n",
            "conv3_block4_2_conv\n",
            "conv3_block4_2_bn\n",
            "conv3_block4_2_relu\n",
            "conv3_block4_3_conv\n",
            "conv3_block4_3_bn\n",
            "conv3_block4_add\n",
            "conv3_block4_out\n",
            "conv4_block1_1_conv\n",
            "conv4_block1_1_bn\n",
            "conv4_block1_1_relu\n",
            "conv4_block1_2_conv\n",
            "conv4_block1_2_bn\n",
            "conv4_block1_2_relu\n",
            "conv4_block1_0_conv\n",
            "conv4_block1_3_conv\n",
            "conv4_block1_0_bn\n",
            "conv4_block1_3_bn\n",
            "conv4_block1_add\n",
            "conv4_block1_out\n",
            "conv4_block2_1_conv\n",
            "conv4_block2_1_bn\n",
            "conv4_block2_1_relu\n",
            "conv4_block2_2_conv\n",
            "conv4_block2_2_bn\n",
            "conv4_block2_2_relu\n",
            "conv4_block2_3_conv\n",
            "conv4_block2_3_bn\n",
            "conv4_block2_add\n",
            "conv4_block2_out\n",
            "conv4_block3_1_conv\n",
            "conv4_block3_1_bn\n",
            "conv4_block3_1_relu\n",
            "conv4_block3_2_conv\n",
            "conv4_block3_2_bn\n",
            "conv4_block3_2_relu\n",
            "conv4_block3_3_conv\n",
            "conv4_block3_3_bn\n",
            "conv4_block3_add\n",
            "conv4_block3_out\n",
            "conv4_block4_1_conv\n",
            "conv4_block4_1_bn\n",
            "conv4_block4_1_relu\n",
            "conv4_block4_2_conv\n",
            "conv4_block4_2_bn\n",
            "conv4_block4_2_relu\n",
            "conv4_block4_3_conv\n",
            "conv4_block4_3_bn\n",
            "conv4_block4_add\n",
            "conv4_block4_out\n",
            "conv4_block5_1_conv\n",
            "conv4_block5_1_bn\n",
            "conv4_block5_1_relu\n",
            "conv4_block5_2_conv\n",
            "conv4_block5_2_bn\n",
            "conv4_block5_2_relu\n",
            "conv4_block5_3_conv\n",
            "conv4_block5_3_bn\n",
            "conv4_block5_add\n",
            "conv4_block5_out\n",
            "conv4_block6_1_conv\n",
            "conv4_block6_1_bn\n",
            "conv4_block6_1_relu\n",
            "conv4_block6_2_conv\n",
            "conv4_block6_2_bn\n",
            "conv4_block6_2_relu\n",
            "conv4_block6_3_conv\n",
            "conv4_block6_3_bn\n",
            "conv4_block6_add\n",
            "conv4_block6_out\n",
            "conv5_block1_1_conv\n",
            "conv5_block1_1_bn\n",
            "conv5_block1_1_relu\n",
            "conv5_block1_2_conv\n",
            "conv5_block1_2_bn\n",
            "conv5_block1_2_relu\n",
            "conv5_block1_0_conv\n",
            "conv5_block1_3_conv\n",
            "conv5_block1_0_bn\n",
            "conv5_block1_3_bn\n",
            "conv5_block1_add\n",
            "conv5_block1_out\n",
            "conv5_block2_1_conv\n",
            "conv5_block2_1_bn\n",
            "conv5_block2_1_relu\n",
            "conv5_block2_2_conv\n",
            "conv5_block2_2_bn\n",
            "conv5_block2_2_relu\n",
            "conv5_block2_3_conv\n",
            "conv5_block2_3_bn\n",
            "conv5_block2_add\n",
            "conv5_block2_out\n",
            "conv5_block3_1_conv\n",
            "conv5_block3_1_bn\n",
            "conv5_block3_1_relu\n",
            "conv5_block3_2_conv\n",
            "conv5_block3_2_bn\n",
            "conv5_block3_2_relu\n",
            "conv5_block3_3_conv\n",
            "conv5_block3_3_bn\n",
            "conv5_block3_add\n",
            "conv5_block3_out\n",
            "global_average_pooling2d_4\n",
            "dense_16\n",
            "dropout_12\n",
            "dense_17\n",
            "dropout_13\n",
            "dense_18\n",
            "dropout_14\n",
            "dense_19\n"
          ],
          "name": "stdout"
        }
      ]
    },
    {
      "cell_type": "code",
      "metadata": {
        "id": "DB5aU4CSvgE4",
        "colab_type": "code",
        "outputId": "7db093c3-b677-43e3-e904-d34f435fadb5",
        "colab": {
          "base_uri": "https://localhost:8080/",
          "height": 1000
        }
      },
      "source": [
        "for layer in unfrozen_resnet50_model.layers:\n",
        "    print(layer.name,' Trainable =',layer.trainable)"
      ],
      "execution_count": 0,
      "outputs": [
        {
          "output_type": "stream",
          "text": [
            "input_5  Trainable = True\n",
            "conv1_pad  Trainable = True\n",
            "conv1_conv  Trainable = True\n",
            "conv1_bn  Trainable = True\n",
            "conv1_relu  Trainable = True\n",
            "pool1_pad  Trainable = True\n",
            "pool1_pool  Trainable = True\n",
            "conv2_block1_1_conv  Trainable = True\n",
            "conv2_block1_1_bn  Trainable = True\n",
            "conv2_block1_1_relu  Trainable = True\n",
            "conv2_block1_2_conv  Trainable = True\n",
            "conv2_block1_2_bn  Trainable = True\n",
            "conv2_block1_2_relu  Trainable = True\n",
            "conv2_block1_0_conv  Trainable = True\n",
            "conv2_block1_3_conv  Trainable = True\n",
            "conv2_block1_0_bn  Trainable = True\n",
            "conv2_block1_3_bn  Trainable = True\n",
            "conv2_block1_add  Trainable = True\n",
            "conv2_block1_out  Trainable = True\n",
            "conv2_block2_1_conv  Trainable = True\n",
            "conv2_block2_1_bn  Trainable = True\n",
            "conv2_block2_1_relu  Trainable = True\n",
            "conv2_block2_2_conv  Trainable = True\n",
            "conv2_block2_2_bn  Trainable = True\n",
            "conv2_block2_2_relu  Trainable = True\n",
            "conv2_block2_3_conv  Trainable = True\n",
            "conv2_block2_3_bn  Trainable = True\n",
            "conv2_block2_add  Trainable = True\n",
            "conv2_block2_out  Trainable = True\n",
            "conv2_block3_1_conv  Trainable = True\n",
            "conv2_block3_1_bn  Trainable = True\n",
            "conv2_block3_1_relu  Trainable = True\n",
            "conv2_block3_2_conv  Trainable = True\n",
            "conv2_block3_2_bn  Trainable = True\n",
            "conv2_block3_2_relu  Trainable = True\n",
            "conv2_block3_3_conv  Trainable = True\n",
            "conv2_block3_3_bn  Trainable = True\n",
            "conv2_block3_add  Trainable = True\n",
            "conv2_block3_out  Trainable = True\n",
            "conv3_block1_1_conv  Trainable = True\n",
            "conv3_block1_1_bn  Trainable = True\n",
            "conv3_block1_1_relu  Trainable = True\n",
            "conv3_block1_2_conv  Trainable = True\n",
            "conv3_block1_2_bn  Trainable = True\n",
            "conv3_block1_2_relu  Trainable = True\n",
            "conv3_block1_0_conv  Trainable = True\n",
            "conv3_block1_3_conv  Trainable = True\n",
            "conv3_block1_0_bn  Trainable = True\n",
            "conv3_block1_3_bn  Trainable = True\n",
            "conv3_block1_add  Trainable = True\n",
            "conv3_block1_out  Trainable = True\n",
            "conv3_block2_1_conv  Trainable = True\n",
            "conv3_block2_1_bn  Trainable = True\n",
            "conv3_block2_1_relu  Trainable = True\n",
            "conv3_block2_2_conv  Trainable = True\n",
            "conv3_block2_2_bn  Trainable = True\n",
            "conv3_block2_2_relu  Trainable = True\n",
            "conv3_block2_3_conv  Trainable = True\n",
            "conv3_block2_3_bn  Trainable = True\n",
            "conv3_block2_add  Trainable = True\n",
            "conv3_block2_out  Trainable = True\n",
            "conv3_block3_1_conv  Trainable = True\n",
            "conv3_block3_1_bn  Trainable = True\n",
            "conv3_block3_1_relu  Trainable = True\n",
            "conv3_block3_2_conv  Trainable = True\n",
            "conv3_block3_2_bn  Trainable = True\n",
            "conv3_block3_2_relu  Trainable = True\n",
            "conv3_block3_3_conv  Trainable = True\n",
            "conv3_block3_3_bn  Trainable = True\n",
            "conv3_block3_add  Trainable = True\n",
            "conv3_block3_out  Trainable = True\n",
            "conv3_block4_1_conv  Trainable = True\n",
            "conv3_block4_1_bn  Trainable = True\n",
            "conv3_block4_1_relu  Trainable = True\n",
            "conv3_block4_2_conv  Trainable = True\n",
            "conv3_block4_2_bn  Trainable = True\n",
            "conv3_block4_2_relu  Trainable = True\n",
            "conv3_block4_3_conv  Trainable = True\n",
            "conv3_block4_3_bn  Trainable = True\n",
            "conv3_block4_add  Trainable = True\n",
            "conv3_block4_out  Trainable = True\n",
            "conv4_block1_1_conv  Trainable = True\n",
            "conv4_block1_1_bn  Trainable = True\n",
            "conv4_block1_1_relu  Trainable = True\n",
            "conv4_block1_2_conv  Trainable = True\n",
            "conv4_block1_2_bn  Trainable = True\n",
            "conv4_block1_2_relu  Trainable = True\n",
            "conv4_block1_0_conv  Trainable = True\n",
            "conv4_block1_3_conv  Trainable = True\n",
            "conv4_block1_0_bn  Trainable = True\n",
            "conv4_block1_3_bn  Trainable = True\n",
            "conv4_block1_add  Trainable = True\n",
            "conv4_block1_out  Trainable = True\n",
            "conv4_block2_1_conv  Trainable = True\n",
            "conv4_block2_1_bn  Trainable = True\n",
            "conv4_block2_1_relu  Trainable = True\n",
            "conv4_block2_2_conv  Trainable = True\n",
            "conv4_block2_2_bn  Trainable = True\n",
            "conv4_block2_2_relu  Trainable = True\n",
            "conv4_block2_3_conv  Trainable = True\n",
            "conv4_block2_3_bn  Trainable = True\n",
            "conv4_block2_add  Trainable = True\n",
            "conv4_block2_out  Trainable = True\n",
            "conv4_block3_1_conv  Trainable = True\n",
            "conv4_block3_1_bn  Trainable = True\n",
            "conv4_block3_1_relu  Trainable = True\n",
            "conv4_block3_2_conv  Trainable = True\n",
            "conv4_block3_2_bn  Trainable = True\n",
            "conv4_block3_2_relu  Trainable = True\n",
            "conv4_block3_3_conv  Trainable = True\n",
            "conv4_block3_3_bn  Trainable = True\n",
            "conv4_block3_add  Trainable = True\n",
            "conv4_block3_out  Trainable = True\n",
            "conv4_block4_1_conv  Trainable = True\n",
            "conv4_block4_1_bn  Trainable = True\n",
            "conv4_block4_1_relu  Trainable = True\n",
            "conv4_block4_2_conv  Trainable = True\n",
            "conv4_block4_2_bn  Trainable = True\n",
            "conv4_block4_2_relu  Trainable = True\n",
            "conv4_block4_3_conv  Trainable = True\n",
            "conv4_block4_3_bn  Trainable = True\n",
            "conv4_block4_add  Trainable = True\n",
            "conv4_block4_out  Trainable = True\n",
            "conv4_block5_1_conv  Trainable = True\n",
            "conv4_block5_1_bn  Trainable = True\n",
            "conv4_block5_1_relu  Trainable = True\n",
            "conv4_block5_2_conv  Trainable = True\n",
            "conv4_block5_2_bn  Trainable = True\n",
            "conv4_block5_2_relu  Trainable = True\n",
            "conv4_block5_3_conv  Trainable = True\n",
            "conv4_block5_3_bn  Trainable = True\n",
            "conv4_block5_add  Trainable = True\n",
            "conv4_block5_out  Trainable = True\n",
            "conv4_block6_1_conv  Trainable = True\n",
            "conv4_block6_1_bn  Trainable = True\n",
            "conv4_block6_1_relu  Trainable = True\n",
            "conv4_block6_2_conv  Trainable = True\n",
            "conv4_block6_2_bn  Trainable = True\n",
            "conv4_block6_2_relu  Trainable = True\n",
            "conv4_block6_3_conv  Trainable = True\n",
            "conv4_block6_3_bn  Trainable = True\n",
            "conv4_block6_add  Trainable = True\n",
            "conv4_block6_out  Trainable = True\n",
            "conv5_block1_1_conv  Trainable = True\n",
            "conv5_block1_1_bn  Trainable = True\n",
            "conv5_block1_1_relu  Trainable = True\n",
            "conv5_block1_2_conv  Trainable = True\n",
            "conv5_block1_2_bn  Trainable = True\n",
            "conv5_block1_2_relu  Trainable = True\n",
            "conv5_block1_0_conv  Trainable = True\n",
            "conv5_block1_3_conv  Trainable = True\n",
            "conv5_block1_0_bn  Trainable = True\n",
            "conv5_block1_3_bn  Trainable = True\n",
            "conv5_block1_add  Trainable = True\n",
            "conv5_block1_out  Trainable = True\n",
            "conv5_block2_1_conv  Trainable = True\n",
            "conv5_block2_1_bn  Trainable = True\n",
            "conv5_block2_1_relu  Trainable = True\n",
            "conv5_block2_2_conv  Trainable = True\n",
            "conv5_block2_2_bn  Trainable = True\n",
            "conv5_block2_2_relu  Trainable = True\n",
            "conv5_block2_3_conv  Trainable = True\n",
            "conv5_block2_3_bn  Trainable = True\n",
            "conv5_block2_add  Trainable = True\n",
            "conv5_block2_out  Trainable = True\n",
            "conv5_block3_1_conv  Trainable = True\n",
            "conv5_block3_1_bn  Trainable = True\n",
            "conv5_block3_1_relu  Trainable = True\n",
            "conv5_block3_2_conv  Trainable = True\n",
            "conv5_block3_2_bn  Trainable = True\n",
            "conv5_block3_2_relu  Trainable = True\n",
            "conv5_block3_3_conv  Trainable = True\n",
            "conv5_block3_3_bn  Trainable = True\n",
            "conv5_block3_add  Trainable = True\n",
            "conv5_block3_out  Trainable = True\n",
            "global_average_pooling2d_4  Trainable = True\n",
            "dense_16  Trainable = True\n",
            "dropout_12  Trainable = True\n",
            "dense_17  Trainable = True\n",
            "dropout_13  Trainable = True\n",
            "dense_18  Trainable = True\n",
            "dropout_14  Trainable = True\n",
            "dense_19  Trainable = True\n"
          ],
          "name": "stdout"
        }
      ]
    },
    {
      "cell_type": "markdown",
      "metadata": {
        "id": "DbqL6LGoxGgT",
        "colab_type": "text"
      },
      "source": [
        "#### setting the optimizer"
      ]
    },
    {
      "cell_type": "code",
      "metadata": {
        "id": "bh4CDz20vo7f",
        "colab_type": "code",
        "colab": {}
      },
      "source": [
        "opt = tf.keras.optimizers.RMSprop(lr=1e-4)\n",
        "\n",
        "# compile the model (should be done *after* setting layers to non-trainable)\n",
        "unfrozen_resnet50_model.compile(optimizer=opt, loss='categorical_crossentropy',metrics=['accuracy'])"
      ],
      "execution_count": 0,
      "outputs": []
    },
    {
      "cell_type": "markdown",
      "metadata": {
        "id": "6vJQLMr9w64c",
        "colab_type": "text"
      },
      "source": [
        "#### fitting the model"
      ]
    },
    {
      "cell_type": "code",
      "metadata": {
        "id": "CZFZayCIv6Oo",
        "colab_type": "code",
        "outputId": "784257bc-ab93-4333-a005-e61fc51b0d18",
        "colab": {
          "base_uri": "https://localhost:8080/",
          "height": 1000
        }
      },
      "source": [
        "train_steps = int(len(df_train)/batch_size) #total trains set / batch_size\n",
        "val_steps = int(len(df_val)/batch_size)\n",
        "\n",
        "print('train steps:',train_steps)\n",
        "print('val steps:',val_steps)\n",
        "\n",
        "epochs = 50\n",
        "\n",
        "\n",
        "model_filepath = 'CMS/unfrozen_resnet50_RMSprop.h5'\n",
        "mcp = ModelCheckpoint(model_filepath, monitor='accuracy', save_best_only=True, mode='max')\n",
        "\n",
        "# Train the model with validation \n",
        "unfrozen_resnet50_history = unfrozen_resnet50_model.fit( train_dataset, steps_per_epoch = train_steps,\n",
        "                   epochs = epochs,\n",
        "                   validation_data = valid_dataset,\n",
        "                   validation_steps = val_steps,\n",
        "                   callbacks=[mcp])"
      ],
      "execution_count": 0,
      "outputs": [
        {
          "output_type": "stream",
          "text": [
            "train steps: 24\n",
            "val steps: 3\n",
            "Train for 24 steps, validate for 3 steps\n",
            "Epoch 1/50\n",
            "24/24 [==============================] - 31s 1s/step - loss: 0.8441 - accuracy: 0.5979 - val_loss: 0.9775 - val_accuracy: 0.6194\n",
            "Epoch 2/50\n",
            "24/24 [==============================] - 22s 916ms/step - loss: 0.5889 - accuracy: 0.7441 - val_loss: 1.0816 - val_accuracy: 0.5417\n",
            "Epoch 3/50\n",
            "24/24 [==============================] - 22s 904ms/step - loss: 0.5027 - accuracy: 0.7767 - val_loss: 0.9350 - val_accuracy: 0.5806\n",
            "Epoch 4/50\n",
            "24/24 [==============================] - 24s 989ms/step - loss: 0.4278 - accuracy: 0.8101 - val_loss: 1.5867 - val_accuracy: 0.6389\n",
            "Epoch 5/50\n",
            "24/24 [==============================] - 22s 918ms/step - loss: 0.3677 - accuracy: 0.8299 - val_loss: 1.6042 - val_accuracy: 0.5694\n",
            "Epoch 6/50\n",
            "24/24 [==============================] - 22s 904ms/step - loss: 0.3312 - accuracy: 0.8521 - val_loss: 2.3510 - val_accuracy: 0.6333\n",
            "Epoch 7/50\n",
            "24/24 [==============================] - 22s 899ms/step - loss: 0.2886 - accuracy: 0.8781 - val_loss: 2.2042 - val_accuracy: 0.6333\n",
            "Epoch 8/50\n",
            "24/24 [==============================] - 22s 913ms/step - loss: 0.2182 - accuracy: 0.9017 - val_loss: 4.8006 - val_accuracy: 0.5139\n",
            "Epoch 9/50\n",
            "24/24 [==============================] - 22s 918ms/step - loss: 0.1895 - accuracy: 0.9208 - val_loss: 4.5049 - val_accuracy: 0.6333\n",
            "Epoch 10/50\n",
            "24/24 [==============================] - 22s 899ms/step - loss: 0.1741 - accuracy: 0.9302 - val_loss: 9.3429 - val_accuracy: 0.5833\n",
            "Epoch 11/50\n",
            "24/24 [==============================] - 22s 903ms/step - loss: 0.1327 - accuracy: 0.9465 - val_loss: 4.1568 - val_accuracy: 0.6361\n",
            "Epoch 12/50\n",
            "24/24 [==============================] - 22s 906ms/step - loss: 0.1463 - accuracy: 0.9507 - val_loss: 5.3622 - val_accuracy: 0.6583\n",
            "Epoch 13/50\n",
            "24/24 [==============================] - 22s 905ms/step - loss: 0.0945 - accuracy: 0.9691 - val_loss: 6.0641 - val_accuracy: 0.6806\n",
            "Epoch 14/50\n",
            "24/24 [==============================] - 19s 806ms/step - loss: 0.0964 - accuracy: 0.9646 - val_loss: 9.1339 - val_accuracy: 0.5806\n",
            "Epoch 15/50\n",
            "24/24 [==============================] - 19s 811ms/step - loss: 0.0937 - accuracy: 0.9649 - val_loss: 4.1724 - val_accuracy: 0.7083\n",
            "Epoch 16/50\n",
            "24/24 [==============================] - 22s 915ms/step - loss: 0.0587 - accuracy: 0.9823 - val_loss: 3.4784 - val_accuracy: 0.7222\n",
            "Epoch 17/50\n",
            "24/24 [==============================] - 19s 808ms/step - loss: 0.0753 - accuracy: 0.9792 - val_loss: 2.8150 - val_accuracy: 0.7472\n",
            "Epoch 18/50\n",
            "24/24 [==============================] - 19s 806ms/step - loss: 0.0896 - accuracy: 0.9740 - val_loss: 4.4129 - val_accuracy: 0.7361\n",
            "Epoch 19/50\n",
            "24/24 [==============================] - 22s 912ms/step - loss: 0.0590 - accuracy: 0.9830 - val_loss: 5.0091 - val_accuracy: 0.7500\n",
            "Epoch 20/50\n",
            "24/24 [==============================] - 20s 829ms/step - loss: 0.0568 - accuracy: 0.9826 - val_loss: 6.2583 - val_accuracy: 0.6972\n",
            "Epoch 21/50\n",
            "24/24 [==============================] - 19s 807ms/step - loss: 0.0792 - accuracy: 0.9760 - val_loss: 5.5584 - val_accuracy: 0.6861\n",
            "Epoch 22/50\n",
            "24/24 [==============================] - 22s 909ms/step - loss: 0.0432 - accuracy: 0.9875 - val_loss: 3.8089 - val_accuracy: 0.7306\n",
            "Epoch 23/50\n",
            "24/24 [==============================] - 19s 802ms/step - loss: 0.0552 - accuracy: 0.9840 - val_loss: 11.1233 - val_accuracy: 0.6833\n",
            "Epoch 24/50\n",
            "24/24 [==============================] - 19s 800ms/step - loss: 0.0620 - accuracy: 0.9830 - val_loss: 2.7911 - val_accuracy: 0.7389\n",
            "Epoch 25/50\n",
            "24/24 [==============================] - 22s 896ms/step - loss: 0.0442 - accuracy: 0.9878 - val_loss: 7.2546 - val_accuracy: 0.6750\n",
            "Epoch 26/50\n",
            "24/24 [==============================] - 19s 799ms/step - loss: 0.0475 - accuracy: 0.9847 - val_loss: 3.5455 - val_accuracy: 0.7222\n",
            "Epoch 27/50\n",
            "24/24 [==============================] - 19s 803ms/step - loss: 0.0485 - accuracy: 0.9854 - val_loss: 7.5095 - val_accuracy: 0.6000\n",
            "Epoch 28/50\n",
            "24/24 [==============================] - 21s 893ms/step - loss: 0.0427 - accuracy: 0.9885 - val_loss: 7.7589 - val_accuracy: 0.6528\n",
            "Epoch 29/50\n",
            "24/24 [==============================] - 22s 900ms/step - loss: 0.0359 - accuracy: 0.9906 - val_loss: 5.9425 - val_accuracy: 0.6889\n",
            "Epoch 30/50\n",
            "24/24 [==============================] - 19s 811ms/step - loss: 0.0377 - accuracy: 0.9899 - val_loss: 11.6908 - val_accuracy: 0.6278\n",
            "Epoch 31/50\n",
            "24/24 [==============================] - 19s 795ms/step - loss: 0.0585 - accuracy: 0.9826 - val_loss: 6.5655 - val_accuracy: 0.7083\n",
            "Epoch 32/50\n",
            "24/24 [==============================] - 19s 799ms/step - loss: 0.0539 - accuracy: 0.9840 - val_loss: 6.6345 - val_accuracy: 0.7250\n",
            "Epoch 33/50\n",
            "24/24 [==============================] - 19s 795ms/step - loss: 0.0454 - accuracy: 0.9896 - val_loss: 6.3523 - val_accuracy: 0.6528\n",
            "Epoch 34/50\n",
            "24/24 [==============================] - 22s 910ms/step - loss: 0.0337 - accuracy: 0.9910 - val_loss: 3.1959 - val_accuracy: 0.6944\n",
            "Epoch 35/50\n",
            "24/24 [==============================] - 20s 823ms/step - loss: 0.0620 - accuracy: 0.9885 - val_loss: 3.8070 - val_accuracy: 0.7083\n",
            "Epoch 36/50\n",
            "24/24 [==============================] - 19s 811ms/step - loss: 0.0343 - accuracy: 0.9910 - val_loss: 2.9600 - val_accuracy: 0.7361\n",
            "Epoch 37/50\n",
            "24/24 [==============================] - 20s 815ms/step - loss: 0.0417 - accuracy: 0.9892 - val_loss: 4.8474 - val_accuracy: 0.7361\n",
            "Epoch 38/50\n",
            "24/24 [==============================] - 19s 809ms/step - loss: 0.0414 - accuracy: 0.9882 - val_loss: 4.6191 - val_accuracy: 0.7500\n",
            "Epoch 39/50\n",
            "24/24 [==============================] - 20s 813ms/step - loss: 0.0350 - accuracy: 0.9896 - val_loss: 3.7807 - val_accuracy: 0.7028\n",
            "Epoch 40/50\n",
            "24/24 [==============================] - 22s 925ms/step - loss: 0.0326 - accuracy: 0.9917 - val_loss: 5.7185 - val_accuracy: 0.6389\n",
            "Epoch 41/50\n",
            "24/24 [==============================] - 22s 920ms/step - loss: 0.0289 - accuracy: 0.9944 - val_loss: 6.3964 - val_accuracy: 0.6361\n",
            "Epoch 42/50\n",
            "24/24 [==============================] - 20s 813ms/step - loss: 0.0618 - accuracy: 0.9858 - val_loss: 5.0537 - val_accuracy: 0.7472\n",
            "Epoch 43/50\n",
            "24/24 [==============================] - 20s 821ms/step - loss: 0.0263 - accuracy: 0.9927 - val_loss: 5.7240 - val_accuracy: 0.7417\n",
            "Epoch 44/50\n",
            "24/24 [==============================] - 19s 810ms/step - loss: 0.0405 - accuracy: 0.9889 - val_loss: 4.5256 - val_accuracy: 0.7639\n",
            "Epoch 45/50\n",
            "24/24 [==============================] - 20s 821ms/step - loss: 0.0270 - accuracy: 0.9913 - val_loss: 3.2595 - val_accuracy: 0.7500\n",
            "Epoch 46/50\n",
            "24/24 [==============================] - 20s 816ms/step - loss: 0.0288 - accuracy: 0.9913 - val_loss: 5.2331 - val_accuracy: 0.6861\n",
            "Epoch 47/50\n",
            "24/24 [==============================] - 20s 823ms/step - loss: 0.0459 - accuracy: 0.9903 - val_loss: 6.6373 - val_accuracy: 0.7333\n",
            "Epoch 48/50\n",
            "24/24 [==============================] - 22s 931ms/step - loss: 0.0214 - accuracy: 0.9965 - val_loss: 7.8757 - val_accuracy: 0.6639\n",
            "Epoch 49/50\n",
            "24/24 [==============================] - 20s 817ms/step - loss: 0.0500 - accuracy: 0.9868 - val_loss: 4.2327 - val_accuracy: 0.7194\n",
            "Epoch 50/50\n",
            "24/24 [==============================] - 20s 822ms/step - loss: 0.0224 - accuracy: 0.9948 - val_loss: 9.4612 - val_accuracy: 0.6167\n"
          ],
          "name": "stdout"
        }
      ]
    },
    {
      "cell_type": "markdown",
      "metadata": {
        "colab_type": "text",
        "id": "sRYx4CU26iY-"
      },
      "source": [
        "#### testing the model"
      ]
    },
    {
      "cell_type": "code",
      "metadata": {
        "colab_type": "code",
        "outputId": "4170abfe-8daa-4852-bce0-1bc99af77b86",
        "id": "xQWRFzCy6iZN",
        "colab": {
          "base_uri": "https://localhost:8080/",
          "height": 50
        }
      },
      "source": [
        "test_steps = int(len(df_test)/batch_size)\n",
        "\n",
        "metrics = unfrozen_resnet50_model.evaluate(test_dataset,\n",
        "                   steps = test_steps)\n",
        "print(\"model accuracy:\",metrics[1])"
      ],
      "execution_count": 0,
      "outputs": [
        {
          "output_type": "stream",
          "text": [
            "3/3 [==============================] - 1s 402ms/step - loss: 8.2883 - accuracy: 0.6472\n",
            "model accuracy: 0.6472222\n"
          ],
          "name": "stdout"
        }
      ]
    },
    {
      "cell_type": "markdown",
      "metadata": {
        "colab_type": "text",
        "id": "fOyLO9B16OAD"
      },
      "source": [
        "#### plotting training"
      ]
    },
    {
      "cell_type": "code",
      "metadata": {
        "colab_type": "code",
        "outputId": "c3ecb715-d69d-4070-b129-37e6013573c9",
        "id": "VnsayjlZ6OAM",
        "colab": {
          "base_uri": "https://localhost:8080/",
          "height": 573
        }
      },
      "source": [
        "plot_hist(unfrozen_resnet50_history, 'unfrozen_resnet50_RMSprop')"
      ],
      "execution_count": 0,
      "outputs": [
        {
          "output_type": "display_data",
          "data": {
            "image/png": "[encoded data removed]",
            "text/plain": [
              "<Figure size 432x288 with 1 Axes>"
            ]
          },
          "metadata": {
            "tags": []
          }
        },
        {
          "output_type": "display_data",
          "data": {
            "image/png": "[encoded data removed]",
            "text/plain": [
              "<Figure size 432x288 with 1 Axes>"
            ]
          },
          "metadata": {
            "tags": []
          }
        }
      ]
    },
    {
      "cell_type": "markdown",
      "metadata": {
        "id": "Ih3vofhBw90T",
        "colab_type": "text"
      },
      "source": [
        "#### saving the history of the fitting"
      ]
    },
    {
      "cell_type": "code",
      "metadata": {
        "id": "_IKqpLg2wbi0",
        "colab_type": "code",
        "outputId": "464d866f-e6c5-439f-c286-3c9a3876240e",
        "colab": {
          "base_uri": "https://localhost:8080/",
          "height": 34
        }
      },
      "source": [
        "with open(cwd + '/trainHistoryDict/unfrozen_resnet50_history_RMSprop.p', 'wb') as file_pi:\n",
        "        pickle.dump(unfrozen_resnet50_history.history, file_pi)\n",
        "print('history saved')"
      ],
      "execution_count": 0,
      "outputs": [
        {
          "output_type": "stream",
          "text": [
            "history saved\n"
          ],
          "name": "stdout"
        }
      ]
    },
    {
      "cell_type": "code",
      "metadata": {
        "id": "fkt8dlpe6r83",
        "colab_type": "code",
        "colab": {}
      },
      "source": [
        ""
      ],
      "execution_count": 0,
      "outputs": []
    }
  ]
}